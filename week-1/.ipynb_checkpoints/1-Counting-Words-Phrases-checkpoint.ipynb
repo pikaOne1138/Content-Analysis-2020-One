{
 "cells": [
  {
   "cell_type": "markdown",
   "metadata": {},
   "source": [
    "# Week 1 - Counting Words & Phrases\n",
    "\n",
    "This week, we take text corpora that we have developed, spidered, scraped, and encoded, and we find and count words, simple and parsed phrases and explore the statistical properties of those counts (e.g., word frequency distributions). Initially, we model how to search corpora for keywords or phrases. Next, we examine the distributions of terms and phrases across a corpus, and the correlation between different words and phrase counts. In order to do this effectively, we coarsely disambiguate words based of part-of-speech (POS) tagging, and normalize them through stemming and lemmatization. Next we distinguish *important* words and phrase within the corpus, and image them with Wordls! Then we calculate word frequenceis, conditional frequences (the frequency of word *shock* conditional on the presence of word *awe*), and statistically significant collocations of lengths 2 through $n$. Finally, we calculate and visualize Differences (Divergences and Distances) between the word frequency distributions from two corpora. \n",
    "\n",
    "Then we shift to focus not simply on the *ideas* in a corpus, but also extracting precise *claims*. This process involves a sequential pipeline of classifying and structuring tokens from text, each of which generates potentially useful data for the content analyst. Steps in this process, which we examine in this notebook, include: 1) tagging words by their part of speech (POS) to reveal the linguistic role they play in the sentence (e.g., Verb, Noun, Adjective, etc.); 2) tagging words as named entities (NER) such as places or organizations; 3) structuring or \"parsing\" sentences into nested phrases that are local to, describe or depend on one another; and 4) extracting informational claims from those phrases.\n",
    "\n",
    "We will be introducing spaCy as a package for Computational Linguistics, and also walk you through how to use the Davies Corpora. \n",
    "\n",
    "While we wish to avoid using NLTK for heavy corpus analysis, some of its smaller functions can still be useful.\n",
    "\n",
    "Of course, for final projects that draw on these tools, we encourage you to install the software on your own machines or shared servers at the university (RCC, SSRC) in order to perform these operations on much more text. \n",
    "\n",
    "For this notebook we will be using the following packages:\n"
   ]
  },
  {
   "cell_type": "code",
   "execution_count": 57,
   "metadata": {},
   "outputs": [],
   "source": [
    "#Special module written for this class\n",
    "#This provides access to data and to helper functions from previous weeks\n",
    "import lucem_illud_2020 #pip install git+git://github.com/Computational-Content-Analysis-2020/lucem_illud_2020.git\n",
    "\n",
    "#All these packages need to be installed from pip\n",
    "import requests #for http requests\n",
    "import pandas #gives us DataFrames\n",
    "import matplotlib.pyplot as plt #For graphics\n",
    "import wordcloud #Makes word clouds\n",
    "import numpy as np #For divergences/distances\n",
    "import scipy #For divergences/distances\n",
    "import seaborn as sns #makes our plots look nicer\n",
    "import sklearn.manifold #For a manifold plot\n",
    "import json #For API responses\n",
    "import urllib.parse #For joining urls\n",
    "\n",
    "# comp-linguistics\n",
    "import spacy\n",
    "\n",
    "#Displays the graphs\n",
    "import graphviz #You also need to install the command line graphviz\n",
    "\n",
    "#These are from the standard library\n",
    "import os.path\n",
    "import zipfile\n",
    "import subprocess\n",
    "import io\n",
    "import tempfile\n",
    "\n",
    "#This 'magic' command makes the plots work better\n",
    "#in the notebook, don't use it outside of a notebook\n",
    "%matplotlib inline"
   ]
  },
  {
   "cell_type": "markdown",
   "metadata": {},
   "source": [
    "# Retrieving exemplary corpora\n",
    "\n",
    "To get started we will need some examples. Let's start by downloading one of the corpuses from the Davies set purchased for this class and developed by a computational linguist at Brigham Young University. We can get a list of works available from the [corpora here](https://www.english-corpora.org/).\n",
    "\n",
    "In this notebook, I will be accessing the data locally - you also have access to this data through the Dropbox download link. The same code can be modified slighlty to access the rest of the corpora on RCC. \n",
    "There is a notebook describing this process in the same repository, as well as in the same directory on RCC.\n",
    "\n",
    "爲了開始，我們將需要一些例子。讓我們先從為這門課購買的戴維斯集中下載一個語料庫，它是由楊百翰大學的一位計算語言學家開發的。我們可以在這裡得到一個從語料庫中獲得的作品清單。\n",
    "\n",
    "在這本筆記本中，我將在本地訪問這些數據--你也可以通過Dropbox的下載鏈接來訪問這些數據。同樣的程式碼可以稍作修改，以訪問RCC上的其他語料庫。在同一個資源庫中，以及在RCC的同一個目錄中，有一個筆記本描述了這個過程。\n",
    "\n",
    "下載：https://www.english-corpora.org/movies/help/texts.asp"
   ]
  },
  {
   "cell_type": "code",
   "execution_count": 191,
   "metadata": {},
   "outputs": [],
   "source": [
    "#corpus_name = \"/Users/hyunkukwon/Downloads/Movies\"\n",
    "corpus_name = \"H:\\\\corpura\"\n",
    "\n",
    "#corpus_name = \"Movies\""
   ]
  },
  {
   "cell_type": "markdown",
   "metadata": {},
   "source": [
    "This method extracts the text from the zip files and stores the raw data."
   ]
  },
  {
   "cell_type": "code",
   "execution_count": 194,
   "metadata": {},
   "outputs": [],
   "source": [
    "def loadcorpus(corpus_name, corpus_style=\"movies\"):\n",
    "    texts_raw = {}\n",
    "    for file in os.listdir(corpus_name + \"/\"):\n",
    "        if corpus_style in file:\n",
    "            print(file)\n",
    "            zfile = zipfile.ZipFile(corpus_name + \"/\" + file)\n",
    "            for file in zfile.namelist():\n",
    "                texts_raw[file] = []\n",
    "                with zfile.open(file) as f:\n",
    "                    for line in f:\n",
    "                        texts_raw[file].append(line)\n",
    "    return texts_raw"
   ]
  },
  {
   "cell_type": "markdown",
   "metadata": {},
   "source": [
    "Let's look at what the code chunk above does. \n",
    "\n",
    "First, \"def\" function literally defines a function. You can call the function that you defined by using the function name, which is, here, loadcorpus. \n",
    "\n",
    "Second, it might be obvious, but, in Python, + operator is used when you combine literal strings or string variables. So, \"corpus_name\" + \"/\" gets you \"corpus_name/\". For example, in my case, the corpus_name is 'Users/hyunkukwon/Downloads/Movies'; so, corpus_name + \"/\" gives me '/Users/hyunkukwon/Downloads/Movies/'. By the way, why do we use \"\" here? This is because / is an operator in itself. Using \"\" makes / a string rather than an operator. Just to let you know, you can use type() to see what's the type of something. For example, if you write type(corpus_name), it'll get you 'string'.\n",
    "\n",
    "Third, the \"os.listdir\" function is used to get the list of files in the specified directory. So, here we're trying to get all the files in the directory. \n",
    "\n",
    "But we have some problems here: \n",
    "\n",
    "(1) first problem is that we do not want to load all the files in this directory; we want to load the files that have 'text' in the file name. So, we use the \"if corpus_style in file:\" to get the files that have the textual characteristics that we specified when we defined the function (corpus_style = \"text\"). Just to clarify, specifying the corpus_style does not get us the txt. files (in other words, it's not about the file extension). \n",
    "\n",
    "(2) second problem is that the files we have are zip files. So, we should unzip it so that we can get them on Python. That's why we use ZipFile, a class of zipfile module. We use ZipFile to read and write zip files. Then we use namelist() function, which returns the list of archive members by name.\n",
    "\n",
    "Finally, append() function adds an item at the end of the list. Here, we make an empty list by doing \"texts_raw[file] = []\"; and then we open the file, get every line in the file, and then append it to the empty list. The for loop does the iteration. \n",
    "\n",
    "By the way, we used something similar above: \"texts_raw = {}\". But they're different: {} is a dictionary, while [] is a list. "
   ]
  },
  {
   "cell_type": "code",
   "execution_count": 196,
   "metadata": {},
   "outputs": [
    {
     "name": "stdout",
     "output_type": "stream",
     "text": [
      "movies-db.zip\n",
      "movies-lexicon.zip\n",
      "movies-sources.zip\n",
      "movies-text.zip\n"
     ]
    }
   ],
   "source": [
    "movie_raw = loadcorpus(corpus_name)"
   ]
  },
  {
   "cell_type": "code",
   "execution_count": 198,
   "metadata": {},
   "outputs": [
    {
     "data": {
      "text/plain": [
       "{'movies_db.txt': [b'20641\\t241706047\\t871452\\r\\n',\n",
       "  b'20641\\t241706048\\t7536\\r\\n',\n",
       "  b'20641\\t241706049\\t5\\r\\n',\n",
       "  b'20641\\t241706050\\t27\\r\\n',\n",
       "  b'20641\\t241706051\\t14913\\r\\n',\n",
       "  b'20641\\t241706052\\t111\\r\\n',\n",
       "  b'20641\\t241706053\\t3\\r\\n',\n",
       "  b'20641\\t241706054\\t189\\r\\n',\n",
       "  b'20641\\t241706055\\t1\\r\\n',\n",
       "  b'20641\\t241706056\\t3\\r\\n',\n",
       "  b'20641\\t241706057\\t2174\\r\\n',\n",
       "  b'20641\\t241706058\\t31\\r\\n',\n",
       "  b'20641\\t241706059\\t2723\\r\\n',\n",
       "  b'20641\\t241706060\\t1\\r\\n',\n",
       "  b'20641\\t241706061\\t515\\r\\n',\n",
       "  b'20641\\t241706062\\t19\\r\\n',\n",
       "  b'20641\\t241706063\\t1\\r\\n',\n",
       "  b'20641\\t241706064\\t1729\\r\\n',\n",
       "  b'20641\\t241706065\\t6\\r\\n',\n",
       "  b'20641\\t241706066\\t625\\r\\n',\n",
       "  b'20641\\t241706067\\t1\\r\\n',\n",
       "  b'20641\\t241706068\\t748\\r\\n',\n",
       "  b'20641\\t241706069\\t17\\r\\n',\n",
       "  b'20641\\t241706070\\t748\\r\\n',\n",
       "  b'20641\\t241706071\\t2\\r\\n',\n",
       "  b'20641\\t241706072\\t39\\r\\n',\n",
       "  b'20641\\t241706073\\t6\\r\\n',\n",
       "  b'20641\\t241706074\\t17\\r\\n',\n",
       "  b'20641\\t241706075\\t4\\r\\n',\n",
       "  b'20641\\t241706076\\t125\\r\\n',\n",
       "  b'20641\\t241706077\\t2\\r\\n',\n",
       "  b'20641\\t241706078\\t3\\r\\n',\n",
       "  b'20641\\t241706079\\t24346\\r\\n',\n",
       "  b'20641\\t241706080\\t31\\r\\n',\n",
       "  b'20641\\t241706081\\t48294\\r\\n',\n",
       "  b'20641\\t241706082\\t236\\r\\n',\n",
       "  b'20641\\t241706083\\t2\\r\\n',\n",
       "  b'20641\\t241706084\\t96265\\r\\n',\n",
       "  b'20641\\t241706085\\t1\\r\\n',\n",
       "  b'20641\\t241706086\\t93\\r\\n',\n",
       "  b'20641\\t241706087\\t2\\r\\n',\n",
       "  b'20641\\t241706088\\t5\\r\\n',\n",
       "  b'20641\\t241706089\\t55\\r\\n',\n",
       "  b'20641\\t241706090\\t1\\r\\n',\n",
       "  b'20641\\t241706091\\t41\\r\\n',\n",
       "  b'20641\\t241706092\\t3\\r\\n',\n",
       "  b'20641\\t241706093\\t24\\r\\n',\n",
       "  b'20641\\t241706094\\t171\\r\\n',\n",
       "  b'20641\\t241706095\\t9\\r\\n',\n",
       "  b'20641\\t241706096\\t1420\\r\\n',\n",
       "  b'20641\\t241706097\\t5\\r\\n',\n",
       "  b'20641\\t241706098\\t1\\r\\n',\n",
       "  b'20641\\t241706099\\t392\\r\\n',\n",
       "  b'20641\\t241706100\\t43\\r\\n',\n",
       "  b'20641\\t241706101\\t1\\r\\n',\n",
       "  b'20641\\t241706102\\t137\\r\\n',\n",
       "  b'20641\\t241706103\\t5\\r\\n',\n",
       "  b'20641\\t241706104\\t41509\\r\\n',\n",
       "  b'20641\\t241706105\\t19\\r\\n',\n",
       "  b'20641\\t241706106\\t20\\r\\n',\n",
       "  b'20641\\t241706107\\t6\\r\\n',\n",
       "  b'20641\\t241706108\\t915\\r\\n',\n",
       "  b'20641\\t241706109\\t202\\r\\n',\n",
       "  b'20641\\t241706110\\t3\\r\\n',\n",
       "  b'20641\\t241706111\\t24\\r\\n',\n",
       "  b'20641\\t241706112\\t82\\r\\n',\n",
       "  b'20641\\t241706113\\t71\\r\\n',\n",
       "  b'20641\\t241706114\\t2697\\r\\n',\n",
       "  b'20641\\t241706115\\t5\\r\\n',\n",
       "  b'20641\\t241706116\\t1\\r\\n',\n",
       "  b'20641\\t241706117\\t7\\r\\n',\n",
       "  b'20641\\t241706118\\t16\\r\\n',\n",
       "  b'20641\\t241706119\\t140\\r\\n',\n",
       "  b'20641\\t241706120\\t19\\r\\n',\n",
       "  b'20641\\t241706121\\t4\\r\\n',\n",
       "  b'20641\\t241706122\\t7\\r\\n',\n",
       "  b'20641\\t241706123\\t57\\r\\n',\n",
       "  b'20641\\t241706124\\t1\\r\\n',\n",
       "  b'20641\\t241706125\\t1135\\r\\n',\n",
       "  b'20641\\t241706126\\t48\\r\\n',\n",
       "  b'20641\\t241706127\\t6\\r\\n',\n",
       "  b'20641\\t241706128\\t616\\r\\n',\n",
       "  b'20641\\t241706129\\t26\\r\\n',\n",
       "  b'20641\\t241706130\\t88\\r\\n',\n",
       "  b'20641\\t241706131\\t2\\r\\n',\n",
       "  b'20641\\t241706132\\t96265\\r\\n',\n",
       "  b'20641\\t241706133\\t1\\r\\n',\n",
       "  b'20641\\t241706134\\t3\\r\\n',\n",
       "  b'20641\\t241706135\\t140\\r\\n',\n",
       "  b'20641\\t241706136\\t5\\r\\n',\n",
       "  b'20641\\t241706137\\t1\\r\\n',\n",
       "  b'20641\\t241706138\\t7\\r\\n',\n",
       "  b'20641\\t241706139\\t72\\r\\n',\n",
       "  b'20641\\t241706140\\t2\\r\\n',\n",
       "  b'20641\\t241706141\\t3\\r\\n',\n",
       "  b'20641\\t241706142\\t113\\r\\n',\n",
       "  b'20641\\t241706143\\t5\\r\\n',\n",
       "  b'20641\\t241706144\\t1864\\r\\n',\n",
       "  b'20641\\t241706145\\t89\\r\\n',\n",
       "  b'20641\\t241706146\\t2\\r\\n',\n",
       "  b'20641\\t241706147\\t324564\\r\\n',\n",
       "  b'20641\\t241706148\\t45\\r\\n',\n",
       "  b'20641\\t241706149\\t7\\r\\n',\n",
       "  b'20641\\t241706150\\t93\\r\\n',\n",
       "  b'20641\\t241706151\\t1\\r\\n',\n",
       "  b'20641\\t241706152\\t93\\r\\n',\n",
       "  b'20641\\t241706153\\t2\\r\\n',\n",
       "  b'20641\\t241706154\\t3\\r\\n',\n",
       "  b'20641\\t241706155\\t55\\r\\n',\n",
       "  b'20641\\t241706156\\t1\\r\\n',\n",
       "  b'20641\\t241706157\\t47\\r\\n',\n",
       "  b'20641\\t241706158\\t2\\r\\n',\n",
       "  b'20641\\t241706159\\t3\\r\\n',\n",
       "  b'20641\\t241706160\\t95\\r\\n',\n",
       "  b'20641\\t241706161\\t12\\r\\n',\n",
       "  b'20641\\t241706162\\t1\\r\\n',\n",
       "  b'20641\\t241706163\\t2041\\r\\n',\n",
       "  b'20641\\t241706164\\t17\\r\\n',\n",
       "  b'20641\\t241706165\\t2041\\r\\n',\n",
       "  b'20641\\t241706166\\t74760\\r\\n',\n",
       "  b'20641\\t241706167\\t15\\r\\n',\n",
       "  b'20641\\t241706168\\t26\\r\\n',\n",
       "  b'20641\\t241706169\\t401\\r\\n',\n",
       "  b'20641\\t241706170\\t10725\\r\\n',\n",
       "  b'20641\\t241706171\\t14\\r\\n',\n",
       "  b'20641\\t241706172\\t17\\r\\n',\n",
       "  b'20641\\t241706173\\t271\\r\\n',\n",
       "  b'20641\\t241706174\\t5975\\r\\n',\n",
       "  b'20641\\t241706175\\t1\\r\\n',\n",
       "  b'20641\\t241706176\\t382\\r\\n',\n",
       "  b'20641\\t241706177\\t2\\r\\n',\n",
       "  b'20641\\t241706178\\t176\\r\\n',\n",
       "  b'20641\\t241706179\\t2\\r\\n',\n",
       "  b'20641\\t241706180\\t302\\r\\n',\n",
       "  b'20641\\t241706181\\t2\\r\\n',\n",
       "  b'20641\\t241706182\\t563\\r\\n',\n",
       "  b'20641\\t241706183\\t2\\r\\n',\n",
       "  b'20641\\t241706184\\t528\\r\\n',\n",
       "  b'20641\\t241706185\\t812\\r\\n',\n",
       "  b'20641\\t241706186\\t1\\r\\n',\n",
       "  b'20641\\t241706187\\t286\\r\\n',\n",
       "  b'20641\\t241706188\\t3\\r\\n',\n",
       "  b'20641\\t241706189\\t95\\r\\n',\n",
       "  b'20641\\t241706190\\t119363\\r\\n',\n",
       "  b'20641\\t241706191\\t921\\r\\n',\n",
       "  b'20641\\t241706192\\t2\\r\\n',\n",
       "  b'20641\\t241706193\\t96265\\r\\n',\n",
       "  b'20641\\t241706194\\t1\\r\\n',\n",
       "  b'20641\\t241706195\\t392\\r\\n',\n",
       "  b'20641\\t241706196\\t4\\r\\n',\n",
       "  b'20641\\t241706197\\t3\\r\\n',\n",
       "  b'20641\\t241706198\\t277\\r\\n',\n",
       "  b'20641\\t241706199\\t5\\r\\n',\n",
       "  b'20641\\t241706200\\t1\\r\\n',\n",
       "  b'20641\\t241706201\\t34\\r\\n',\n",
       "  b'20641\\t241706202\\t11\\r\\n',\n",
       "  b'20641\\t241706203\\t8\\r\\n',\n",
       "  b'20641\\t241706204\\t271\\r\\n',\n",
       "  b'20641\\t241706205\\t5975\\r\\n',\n",
       "  b'20641\\t241706206\\t2\\r\\n',\n",
       "  b'20641\\t241706207\\t134\\r\\n',\n",
       "  b'20641\\t241706208\\t10278\\r\\n',\n",
       "  b'20641\\t241706209\\t1\\r\\n',\n",
       "  b'20641\\t241706210\\t3\\r\\n',\n",
       "  b'20641\\t241706211\\t113\\r\\n',\n",
       "  b'20641\\t241706212\\t32\\r\\n',\n",
       "  b'20641\\t241706213\\t95\\r\\n',\n",
       "  b'20641\\t241706214\\t9\\r\\n',\n",
       "  b'20641\\t241706215\\t76\\r\\n',\n",
       "  b'20641\\t241706216\\t22\\r\\n',\n",
       "  b'20641\\t241706217\\t1175\\r\\n',\n",
       "  b'20641\\t241706218\\t6\\r\\n',\n",
       "  b'20641\\t241706219\\t53279\\r\\n',\n",
       "  b'20641\\t241706220\\t25\\r\\n',\n",
       "  b'20641\\t241706221\\t140\\r\\n',\n",
       "  b'20641\\t241706222\\t110\\r\\n',\n",
       "  b'20641\\t241706223\\t269\\r\\n',\n",
       "  b'20641\\t241706224\\t4193\\r\\n',\n",
       "  b'20641\\t241706225\\t1\\r\\n',\n",
       "  b'20641\\t241706226\\t61\\r\\n',\n",
       "  b'20641\\t241706227\\t2\\r\\n',\n",
       "  b'20641\\t241706228\\t251\\r\\n',\n",
       "  b'20641\\t241706229\\t1\\r\\n',\n",
       "  b'20641\\t241706230\\t28359\\r\\n',\n",
       "  b'20641\\t241706231\\t5\\r\\n',\n",
       "  b'20641\\t241706232\\t37\\r\\n',\n",
       "  b'20641\\t241706233\\t2\\r\\n',\n",
       "  b'20641\\t241706234\\t3\\r\\n',\n",
       "  b'20641\\t241706235\\t24\\r\\n',\n",
       "  b'20641\\t241706236\\t3461\\r\\n',\n",
       "  b'20641\\t241706237\\t9808\\r\\n',\n",
       "  b'20641\\t241706238\\t1\\r\\n',\n",
       "  b'20641\\t241706239\\t336\\r\\n',\n",
       "  b'20641\\t241706240\\t2\\r\\n',\n",
       "  b'20641\\t241706241\\t3\\r\\n',\n",
       "  b'20641\\t241706242\\t42\\r\\n',\n",
       "  b'20641\\t241706243\\t70\\r\\n',\n",
       "  b'20641\\t241706244\\t29\\r\\n',\n",
       "  b'20641\\t241706245\\t19693\\r\\n',\n",
       "  b'20641\\t241706246\\t1\\r\\n',\n",
       "  b'20641\\t241706247\\t8429\\r\\n',\n",
       "  b'20641\\t241706248\\t8429\\r\\n',\n",
       "  b'20641\\t241706249\\t8429\\r\\n',\n",
       "  b'20641\\t241706250\\t8429\\r\\n',\n",
       "  b'20641\\t241706251\\t8429\\r\\n',\n",
       "  b'20641\\t241706252\\t8429\\r\\n',\n",
       "  b'20641\\t241706253\\t8429\\r\\n',\n",
       "  b'20641\\t241706254\\t8429\\r\\n',\n",
       "  b'20641\\t241706255\\t8429\\r\\n',\n",
       "  b'20641\\t241706256\\t8429\\r\\n',\n",
       "  b'20641\\t241706257\\t19\\r\\n',\n",
       "  b'20641\\t241706258\\t346\\r\\n',\n",
       "  b'20641\\t241706259\\t3484\\r\\n',\n",
       "  b'20641\\t241706260\\t5700\\r\\n',\n",
       "  b'20641\\t241706261\\t1\\r\\n',\n",
       "  b'20641\\t241706262\\t604\\r\\n',\n",
       "  b'20641\\t241706263\\t139\\r\\n',\n",
       "  b'20641\\t241706264\\t2\\r\\n',\n",
       "  b'20641\\t241706265\\t86\\r\\n',\n",
       "  b'20641\\t241706266\\t5\\r\\n',\n",
       "  b'20641\\t241706267\\t4\\r\\n',\n",
       "  b'20641\\t241706268\\t16\\r\\n',\n",
       "  b'20641\\t241706269\\t27\\r\\n',\n",
       "  b'20641\\t241706270\\t36\\r\\n',\n",
       "  b'20641\\t241706271\\t183\\r\\n',\n",
       "  b'20641\\t241706272\\t5\\r\\n',\n",
       "  b'20641\\t241706273\\t388\\r\\n',\n",
       "  b'20641\\t241706274\\t19\\r\\n',\n",
       "  b'20641\\t241706275\\t130\\r\\n',\n",
       "  b'20641\\t241706276\\t2\\r\\n',\n",
       "  b'20641\\t241706277\\t37\\r\\n',\n",
       "  b'20641\\t241706278\\t5\\r\\n',\n",
       "  b'20641\\t241706279\\t4\\r\\n',\n",
       "  b'20641\\t241706280\\t47\\r\\n',\n",
       "  b'20641\\t241706281\\t2\\r\\n',\n",
       "  b'20641\\t241706282\\t158\\r\\n',\n",
       "  b'20641\\t241706283\\t2\\r\\n',\n",
       "  b'20641\\t241706284\\t96265\\r\\n',\n",
       "  b'20641\\t241706285\\t1\\r\\n',\n",
       "  b'20641\\t241706286\\t3\\r\\n',\n",
       "  b'20641\\t241706287\\t24\\r\\n',\n",
       "  b'20641\\t241706288\\t8615\\r\\n',\n",
       "  b'20641\\t241706289\\t777\\r\\n',\n",
       "  b'20641\\t241706290\\t3\\r\\n',\n",
       "  b'20641\\t241706291\\t5655\\r\\n',\n",
       "  b'20641\\t241706292\\t5\\r\\n',\n",
       "  b'20641\\t241706293\\t20\\r\\n',\n",
       "  b'20641\\t241706294\\t23216\\r\\n',\n",
       "  b'20641\\t241706295\\t1\\r\\n',\n",
       "  b'20641\\t241706296\\t1760\\r\\n',\n",
       "  b'20641\\t241706297\\t2\\r\\n',\n",
       "  b'20641\\t241706298\\t5\\r\\n',\n",
       "  b'20641\\t241706299\\t97\\r\\n',\n",
       "  b'20641\\t241706300\\t232\\r\\n',\n",
       "  b'20641\\t241706301\\t229\\r\\n',\n",
       "  b'20641\\t241706302\\t9\\r\\n',\n",
       "  b'20641\\t241706303\\t76\\r\\n',\n",
       "  b'20641\\t241706304\\t44252\\r\\n',\n",
       "  b'20641\\t241706305\\t2087\\r\\n',\n",
       "  b'20641\\t241706306\\t2\\r\\n',\n",
       "  b'20641\\t241706307\\t96265\\r\\n',\n",
       "  b'20641\\t241706308\\t1\\r\\n',\n",
       "  b'20641\\t241706309\\t1976\\r\\n',\n",
       "  b'20641\\t241706310\\t10\\r\\n',\n",
       "  b'20641\\t241706311\\t78\\r\\n',\n",
       "  b'20641\\t241706312\\t5\\r\\n',\n",
       "  b'20641\\t241706313\\t117\\r\\n',\n",
       "  b'20641\\t241706314\\t432\\r\\n',\n",
       "  b'20641\\t241706315\\t441\\r\\n',\n",
       "  b'20641\\t241706316\\t38\\r\\n',\n",
       "  b'20641\\t241706317\\t229\\r\\n',\n",
       "  b'20641\\t241706318\\t1627\\r\\n',\n",
       "  b'20641\\t241706319\\t48\\r\\n',\n",
       "  b'20641\\t241706320\\t6\\r\\n',\n",
       "  b'20641\\t241706321\\t22812\\r\\n',\n",
       "  b'20641\\t241706322\\t1\\r\\n',\n",
       "  b'20641\\t241706323\\t72\\r\\n',\n",
       "  b'20641\\t241706324\\t2\\r\\n',\n",
       "  b'20641\\t241706325\\t3\\r\\n',\n",
       "  b'20641\\t241706326\\t24\\r\\n',\n",
       "  b'20641\\t241706327\\t777\\r\\n',\n",
       "  b'20641\\t241706328\\t5\\r\\n',\n",
       "  b'20641\\t241706329\\t5655\\r\\n',\n",
       "  b'20641\\t241706330\\t19\\r\\n',\n",
       "  b'20641\\t241706331\\t1\\r\\n',\n",
       "  b'20641\\t241706332\\t6389\\r\\n',\n",
       "  b'20641\\t241706333\\t2\\r\\n',\n",
       "  b'20641\\t241706334\\t3\\r\\n',\n",
       "  b'20641\\t241706335\\t189\\r\\n',\n",
       "  b'20641\\t241706336\\t1\\r\\n',\n",
       "  b'20641\\t241706337\\t61\\r\\n',\n",
       "  b'20641\\t241706338\\t2\\r\\n',\n",
       "  b'20641\\t241706339\\t3\\r\\n',\n",
       "  b'20641\\t241706340\\t24\\r\\n',\n",
       "  b'20641\\t241706341\\t777\\r\\n',\n",
       "  b'20641\\t241706342\\t9\\r\\n',\n",
       "  b'20641\\t241706343\\t30\\r\\n',\n",
       "  b'20641\\t241706344\\t43\\r\\n',\n",
       "  b'20641\\t241706345\\t14459\\r\\n',\n",
       "  b'20641\\t241706346\\t56\\r\\n',\n",
       "  b'20641\\t241706347\\t12\\r\\n',\n",
       "  b'20641\\t241706348\\t18\\r\\n',\n",
       "  b'20641\\t241706349\\t1\\r\\n',\n",
       "  b'20641\\t241706350\\t16\\r\\n',\n",
       "  b'20641\\t241706351\\t27\\r\\n',\n",
       "  b'20641\\t241706352\\t8\\r\\n',\n",
       "  b'20641\\t241706353\\t105\\r\\n',\n",
       "  b'20641\\t241706354\\t229\\r\\n',\n",
       "  b'20641\\t241706355\\t3813\\r\\n',\n",
       "  b'20641\\t241706356\\t1\\r\\n',\n",
       "  b'20641\\t241706357\\t7\\r\\n',\n",
       "  b'20641\\t241706358\\t94\\r\\n',\n",
       "  b'20641\\t241706359\\t87\\r\\n',\n",
       "  b'20641\\t241706360\\t1\\r\\n',\n",
       "  b'20641\\t241706361\\t7\\r\\n',\n",
       "  b'20641\\t241706362\\t61\\r\\n',\n",
       "  b'20641\\t241706363\\t1\\r\\n',\n",
       "  b'20641\\t241706364\\t330874\\r\\n',\n",
       "  b'20641\\t241706365\\t1\\r\\n',\n",
       "  b'20641\\t241706366\\t184\\r\\n',\n",
       "  b'20641\\t241706367\\t37\\r\\n',\n",
       "  b'20641\\t241706368\\t5\\r\\n',\n",
       "  b'20641\\t241706369\\t136\\r\\n',\n",
       "  b'20641\\t241706370\\t4\\r\\n',\n",
       "  b'20641\\t241706371\\t57\\r\\n',\n",
       "  b'20641\\t241706372\\t2\\r\\n',\n",
       "  b'20641\\t241706373\\t205394\\r\\n',\n",
       "  b'20641\\t241706374\\t2\\r\\n',\n",
       "  b'20641\\t241706375\\t158\\r\\n',\n",
       "  b'20641\\t241706376\\t2\\r\\n',\n",
       "  b'20641\\t241706377\\t32\\r\\n',\n",
       "  b'20641\\t241706378\\t27\\r\\n',\n",
       "  b'20641\\t241706379\\t20\\r\\n',\n",
       "  b'20641\\t241706380\\t6\\r\\n',\n",
       "  b'20641\\t241706381\\t987\\r\\n',\n",
       "  b'20641\\t241706382\\t2\\r\\n',\n",
       "  b'20641\\t241706383\\t396\\r\\n',\n",
       "  b'20641\\t241706384\\t4\\r\\n',\n",
       "  b'20641\\t241706385\\t3\\r\\n',\n",
       "  b'20641\\t241706386\\t1172\\r\\n',\n",
       "  b'20641\\t241706387\\t704\\r\\n',\n",
       "  b'20641\\t241706388\\t6\\r\\n',\n",
       "  b'20641\\t241706389\\t2114\\r\\n',\n",
       "  b'20641\\t241706390\\t433\\r\\n',\n",
       "  b'20641\\t241706391\\t23\\r\\n',\n",
       "  b'20641\\t241706392\\t1\\r\\n',\n",
       "  b'20641\\t241706393\\t7\\r\\n',\n",
       "  b'20641\\t241706394\\t34\\r\\n',\n",
       "  b'20641\\t241706395\\t11\\r\\n',\n",
       "  b'20641\\t241706396\\t1309\\r\\n',\n",
       "  b'20641\\t241706397\\t1302\\r\\n',\n",
       "  b'20641\\t241706398\\t1\\r\\n',\n",
       "  b'20641\\t241706399\\t34\\r\\n',\n",
       "  b'20641\\t241706400\\t11\\r\\n',\n",
       "  b'20641\\t241706401\\t1309\\r\\n',\n",
       "  b'20641\\t241706402\\t1302\\r\\n',\n",
       "  b'20641\\t241706403\\t38\\r\\n',\n",
       "  b'20641\\t241706404\\t456\\r\\n',\n",
       "  b'20641\\t241706405\\t45\\r\\n',\n",
       "  b'20641\\t241706406\\t7\\r\\n',\n",
       "  b'20641\\t241706407\\t66\\r\\n',\n",
       "  b'20641\\t241706408\\t11\\r\\n',\n",
       "  b'20641\\t241706409\\t12\\r\\n',\n",
       "  b'20641\\t241706410\\t2\\r\\n',\n",
       "  b'20641\\t241706411\\t96265\\r\\n',\n",
       "  b'20641\\t241706412\\t1\\r\\n',\n",
       "  b'20641\\t241706413\\t47\\r\\n',\n",
       "  b'20641\\t241706414\\t2\\r\\n',\n",
       "  b'20641\\t241706415\\t205394\\r\\n',\n",
       "  b'20641\\t241706416\\t2\\r\\n',\n",
       "  b'20641\\t241706417\\t1036\\r\\n',\n",
       "  b'20641\\t241706418\\t29\\r\\n',\n",
       "  b'20641\\t241706419\\t468\\r\\n',\n",
       "  b'20641\\t241706420\\t1\\r\\n',\n",
       "  b'20641\\t241706421\\t604\\r\\n',\n",
       "  b'20641\\t241706422\\t29\\r\\n',\n",
       "  b'20641\\t241706423\\t468\\r\\n',\n",
       "  b'20641\\t241706424\\t1\\r\\n',\n",
       "  b'20641\\t241706425\\t72\\r\\n',\n",
       "  b'20641\\t241706426\\t2\\r\\n',\n",
       "  b'20641\\t241706427\\t3\\r\\n',\n",
       "  b'20641\\t241706428\\t11802\\r\\n',\n",
       "  b'20641\\t241706429\\t1\\r\\n',\n",
       "  b'20641\\t241706430\\t147\\r\\n',\n",
       "  b'20641\\t241706431\\t58\\r\\n',\n",
       "  b'20641\\t241706432\\t5\\r\\n',\n",
       "  b'20641\\t241706433\\t69\\r\\n',\n",
       "  b'20641\\t241706434\\t8\\r\\n',\n",
       "  b'20641\\t241706435\\t155\\r\\n',\n",
       "  b'20641\\t241706436\\t101\\r\\n',\n",
       "  b'20641\\t241706437\\t28\\r\\n',\n",
       "  b'20641\\t241706438\\t4\\r\\n',\n",
       "  b'20641\\t241706439\\t336\\r\\n',\n",
       "  b'20641\\t241706440\\t8\\r\\n',\n",
       "  b'20641\\t241706441\\t383\\r\\n',\n",
       "  b'20641\\t241706442\\t2\\r\\n',\n",
       "  b'20641\\t241706443\\t80\\r\\n',\n",
       "  b'20641\\t241706444\\t1\\r\\n',\n",
       "  b'20641\\t241706445\\t3\\r\\n',\n",
       "  b'20641\\t241706446\\t24\\r\\n',\n",
       "  b'20641\\t241706447\\t8429\\r\\n',\n",
       "  b'20641\\t241706448\\t8429\\r\\n',\n",
       "  b'20641\\t241706449\\t8429\\r\\n',\n",
       "  b'20641\\t241706450\\t8429\\r\\n',\n",
       "  b'20641\\t241706451\\t8429\\r\\n',\n",
       "  b'20641\\t241706452\\t8429\\r\\n',\n",
       "  b'20641\\t241706453\\t8429\\r\\n',\n",
       "  b'20641\\t241706454\\t8429\\r\\n',\n",
       "  b'20641\\t241706455\\t8429\\r\\n',\n",
       "  b'20641\\t241706456\\t8429\\r\\n',\n",
       "  b'20641\\t241706457\\t239\\r\\n',\n",
       "  b'20641\\t241706458\\t1\\r\\n',\n",
       "  b'20641\\t241706459\\t392\\r\\n',\n",
       "  b'20641\\t241706460\\t4\\r\\n',\n",
       "  b'20641\\t241706461\\t47\\r\\n',\n",
       "  b'20641\\t241706462\\t2\\r\\n',\n",
       "  b'20641\\t241706463\\t96265\\r\\n',\n",
       "  b'20641\\t241706464\\t1\\r\\n',\n",
       "  b'20641\\t241706465\\t203\\r\\n',\n",
       "  b'20641\\t241706466\\t67\\r\\n',\n",
       "  b'20641\\t241706467\\t1\\r\\n',\n",
       "  b'20641\\t241706468\\t66\\r\\n',\n",
       "  b'20641\\t241706469\\t11\\r\\n',\n",
       "  b'20641\\t241706470\\t39\\r\\n',\n",
       "  b'20641\\t241706471\\t3\\r\\n',\n",
       "  b'20641\\t241706472\\t140\\r\\n',\n",
       "  b'20641\\t241706473\\t25\\r\\n',\n",
       "  b'20641\\t241706474\\t301\\r\\n',\n",
       "  b'20641\\t241706475\\t8\\r\\n',\n",
       "  b'20641\\t241706476\\t45463\\r\\n',\n",
       "  b'20641\\t241706477\\t23927\\r\\n',\n",
       "  b'20641\\t241706478\\t1\\r\\n',\n",
       "  b'20641\\t241706479\\t392\\r\\n',\n",
       "  b'20641\\t241706480\\t2\\r\\n',\n",
       "  b'20641\\t241706481\\t28\\r\\n',\n",
       "  b'20641\\t241706482\\t11\\r\\n',\n",
       "  b'20641\\t241706483\\t17\\r\\n',\n",
       "  b'20641\\t241706484\\t184\\r\\n',\n",
       "  b'20641\\t241706485\\t37\\r\\n',\n",
       "  b'20641\\t241706486\\t32\\r\\n',\n",
       "  b'20641\\t241706487\\t4\\r\\n',\n",
       "  b'20641\\t241706488\\t491\\r\\n',\n",
       "  b'20641\\t241706489\\t32\\r\\n',\n",
       "  b'20641\\t241706490\\t37\\r\\n',\n",
       "  b'20641\\t241706491\\t1\\r\\n',\n",
       "  b'20641\\t241706492\\t7\\r\\n',\n",
       "  b'20641\\t241706493\\t44\\r\\n',\n",
       "  b'20641\\t241706494\\t164\\r\\n',\n",
       "  b'20641\\t241706495\\t129\\r\\n',\n",
       "  b'20641\\t241706496\\t14\\r\\n',\n",
       "  b'20641\\t241706497\\t140\\r\\n',\n",
       "  b'20641\\t241706498\\t8\\r\\n',\n",
       "  b'20641\\t241706499\\t856\\r\\n',\n",
       "  b'20641\\t241706500\\t1\\r\\n',\n",
       "  b'20641\\t241706501\\t7\\r\\n',\n",
       "  b'20641\\t241706502\\t57\\r\\n',\n",
       "  b'20641\\t241706503\\t2\\r\\n',\n",
       "  b'20641\\t241706504\\t488\\r\\n',\n",
       "  b'20641\\t241706505\\t2\\r\\n',\n",
       "  b'20641\\t241706506\\t8415\\r\\n',\n",
       "  b'20641\\t241706507\\t45\\r\\n',\n",
       "  b'20641\\t241706508\\t47\\r\\n',\n",
       "  b'20641\\t241706509\\t2\\r\\n',\n",
       "  b'20641\\t241706510\\t6\\r\\n',\n",
       "  b'20641\\t241706511\\t1871\\r\\n',\n",
       "  b'20641\\t241706512\\t1\\r\\n',\n",
       "  b'20641\\t241706513\\t47\\r\\n',\n",
       "  b'20641\\t241706514\\t2\\r\\n',\n",
       "  b'20641\\t241706515\\t270\\r\\n',\n",
       "  b'20641\\t241706516\\t37\\r\\n',\n",
       "  b'20641\\t241706517\\t5\\r\\n',\n",
       "  b'20641\\t241706518\\t4\\r\\n',\n",
       "  b'20641\\t241706519\\t7\\r\\n',\n",
       "  b'20641\\t241706520\\t234\\r\\n',\n",
       "  b'20641\\t241706521\\t2\\r\\n',\n",
       "  b'20641\\t241706522\\t324564\\r\\n',\n",
       "  b'20641\\t241706523\\t45\\r\\n',\n",
       "  b'20641\\t241706524\\t7\\r\\n',\n",
       "  b'20641\\t241706525\\t1976\\r\\n',\n",
       "  b'20641\\t241706526\\t1683\\r\\n',\n",
       "  b'20641\\t241706527\\t2\\r\\n',\n",
       "  b'20641\\t241706528\\t3\\r\\n',\n",
       "  b'20641\\t241706529\\t241\\r\\n',\n",
       "  b'20641\\t241706530\\t3\\r\\n',\n",
       "  b'20641\\t241706531\\t497\\r\\n',\n",
       "  b'20641\\t241706532\\t1020\\r\\n',\n",
       "  b'20641\\t241706533\\t5\\r\\n',\n",
       "  b'20641\\t241706534\\t1\\r\\n',\n",
       "  b'20641\\t241706535\\t165\\r\\n',\n",
       "  b'20641\\t241706536\\t99\\r\\n',\n",
       "  b'20641\\t241706537\\t229\\r\\n',\n",
       "  b'20641\\t241706538\\t1683\\r\\n',\n",
       "  b'20641\\t241706539\\t1\\r\\n',\n",
       "  b'20641\\t241706540\\t94\\r\\n',\n",
       "  b'20641\\t241706541\\t87\\r\\n',\n",
       "  b'20641\\t241706542\\t1\\r\\n',\n",
       "  b'20641\\t241706543\\t234\\r\\n',\n",
       "  b'20641\\t241706544\\t32\\r\\n',\n",
       "  b'20641\\t241706545\\t164\\r\\n',\n",
       "  b'20641\\t241706546\\t1\\r\\n',\n",
       "  b'20641\\t241706547\\t94\\r\\n',\n",
       "  b'20641\\t241706548\\t87\\r\\n',\n",
       "  b'20641\\t241706549\\t1\\r\\n',\n",
       "  b'20641\\t241706550\\t47\\r\\n',\n",
       "  b'20641\\t241706551\\t2\\r\\n',\n",
       "  b'20641\\t241706552\\t39\\r\\n',\n",
       "  b'20641\\t241706553\\t23\\r\\n',\n",
       "  b'20641\\t241706554\\t28\\r\\n',\n",
       "  b'20641\\t241706555\\t4\\r\\n',\n",
       "  b'20641\\t241706556\\t336\\r\\n',\n",
       "  b'20641\\t241706557\\t2\\r\\n',\n",
       "  b'20641\\t241706558\\t488\\r\\n',\n",
       "  b'20641\\t241706559\\t1\\r\\n',\n",
       "  b'20641\\t241706560\\t51\\r\\n',\n",
       "  b'20641\\t241706561\\t2278\\r\\n',\n",
       "  b'20641\\t241706562\\t1\\r\\n',\n",
       "  b'20641\\t241706563\\t90409\\r\\n',\n",
       "  b'20641\\t241706564\\t1\\r\\n',\n",
       "  b'20641\\t241706565\\t7\\r\\n',\n",
       "  b'20641\\t241706566\\t397\\r\\n',\n",
       "  b'20641\\t241706567\\t11\\r\\n',\n",
       "  b'20641\\t241706568\\t36\\r\\n',\n",
       "  b'20641\\t241706569\\t595\\r\\n',\n",
       "  b'20641\\t241706570\\t1\\r\\n',\n",
       "  b'20641\\t241706571\\t7\\r\\n',\n",
       "  b'20641\\t241706572\\t324564\\r\\n',\n",
       "  b'20641\\t241706573\\t45\\r\\n',\n",
       "  b'20641\\t241706574\\t7\\r\\n',\n",
       "  b'20641\\t241706575\\t146\\r\\n',\n",
       "  b'20641\\t241706576\\t11\\r\\n',\n",
       "  b'20641\\t241706577\\t6\\r\\n',\n",
       "  b'20641\\t241706578\\t4454\\r\\n',\n",
       "  b'20641\\t241706579\\t1\\r\\n',\n",
       "  b'20641\\t241706580\\t7\\r\\n',\n",
       "  b'20641\\t241706581\\t182\\r\\n',\n",
       "  b'20641\\t241706582\\t127\\r\\n',\n",
       "  b'20641\\t241706583\\t8024\\r\\n',\n",
       "  b'20641\\t241706584\\t2\\r\\n',\n",
       "  b'20641\\t241706585\\t488\\r\\n',\n",
       "  b'20641\\t241706586\\t2\\r\\n',\n",
       "  b'20641\\t241706587\\t488\\r\\n',\n",
       "  b'20641\\t241706588\\t1\\r\\n',\n",
       "  b'20641\\t241706589\\t604\\r\\n',\n",
       "  b'20641\\t241706590\\t290\\r\\n',\n",
       "  b'20641\\t241706591\\t1\\r\\n',\n",
       "  b'20641\\t241706592\\t7\\r\\n',\n",
       "  b'20641\\t241706593\\t61\\r\\n',\n",
       "  b'20641\\t241706594\\t1\\r\\n',\n",
       "  b'20641\\t241706595\\t7\\r\\n',\n",
       "  b'20641\\t241706596\\t419\\r\\n',\n",
       "  b'20641\\t241706597\\t1\\r\\n',\n",
       "  b'20641\\t241706598\\t16\\r\\n',\n",
       "  b'20641\\t241706599\\t488\\r\\n',\n",
       "  b'20641\\t241706600\\t43\\r\\n',\n",
       "  b'20641\\t241706601\\t2\\r\\n',\n",
       "  b'20641\\t241706602\\t324564\\r\\n',\n",
       "  b'20641\\t241706603\\t45\\r\\n',\n",
       "  b'20641\\t241706604\\t7\\r\\n',\n",
       "  b'20641\\t241706605\\t3\\r\\n',\n",
       "  b'20641\\t241706606\\t164\\r\\n',\n",
       "  b'20641\\t241706607\\t428\\r\\n',\n",
       "  b'20641\\t241706608\\t5\\r\\n',\n",
       "  b'20641\\t241706609\\t1526\\r\\n',\n",
       "  b'20641\\t241706610\\t45\\r\\n',\n",
       "  b'20641\\t241706611\\t7\\r\\n',\n",
       "  b'20641\\t241706612\\t47\\r\\n',\n",
       "  b'20641\\t241706613\\t2\\r\\n',\n",
       "  b'20641\\t241706614\\t291\\r\\n',\n",
       "  b'20641\\t241706615\\t127\\r\\n',\n",
       "  b'20641\\t241706616\\t1\\r\\n',\n",
       "  b'20641\\t241706617\\t33\\r\\n',\n",
       "  b'20641\\t241706618\\t1543\\r\\n',\n",
       "  b'20641\\t241706619\\t103\\r\\n',\n",
       "  b'20641\\t241706620\\t4454\\r\\n',\n",
       "  b'20641\\t241706621\\t1\\r\\n',\n",
       "  b'20641\\t241706622\\t33\\r\\n',\n",
       "  b'20641\\t241706623\\t72\\r\\n',\n",
       "  b'20641\\t241706624\\t2\\r\\n',\n",
       "  b'20641\\t241706625\\t28\\r\\n',\n",
       "  b'20641\\t241706626\\t11\\r\\n',\n",
       "  b'20641\\t241706627\\t8\\r\\n',\n",
       "  b'20641\\t241706628\\t5916\\r\\n',\n",
       "  b'20641\\t241706629\\t17\\r\\n',\n",
       "  b'20641\\t241706630\\t72\\r\\n',\n",
       "  b'20641\\t241706631\\t2\\r\\n',\n",
       "  b'20641\\t241706632\\t194\\r\\n',\n",
       "  b'20641\\t241706633\\t36\\r\\n',\n",
       "  b'20641\\t241706634\\t4\\r\\n',\n",
       "  b'20641\\t241706635\\t4104\\r\\n',\n",
       "  b'20641\\t241706636\\t85\\r\\n',\n",
       "  b'20641\\t241706637\\t2\\r\\n',\n",
       "  b'20641\\t241706638\\t38\\r\\n',\n",
       "  b'20641\\t241706639\\t79\\r\\n',\n",
       "  b'20641\\t241706640\\t6\\r\\n',\n",
       "  b'20641\\t241706641\\t6153\\r\\n',\n",
       "  b'20641\\t241706642\\t20\\r\\n',\n",
       "  b'20641\\t241706643\\t6\\r\\n',\n",
       "  b'20641\\t241706644\\t258\\r\\n',\n",
       "  b'20641\\t241706645\\t1\\r\\n',\n",
       "  b'20641\\t241706646\\t7\\r\\n',\n",
       "  b'20641\\t241706647\\t8429\\r\\n',\n",
       "  b'20641\\t241706648\\t8429\\r\\n',\n",
       "  b'20641\\t241706649\\t8429\\r\\n',\n",
       "  b'20641\\t241706650\\t8429\\r\\n',\n",
       "  b'20641\\t241706651\\t8429\\r\\n',\n",
       "  b'20641\\t241706652\\t8429\\r\\n',\n",
       "  b'20641\\t241706653\\t8429\\r\\n',\n",
       "  b'20641\\t241706654\\t8429\\r\\n',\n",
       "  b'20641\\t241706655\\t8429\\r\\n',\n",
       "  b'20641\\t241706656\\t8429\\r\\n',\n",
       "  b'20641\\t241706657\\t1\\r\\n',\n",
       "  b'20641\\t241706658\\t147\\r\\n',\n",
       "  b'20641\\t241706659\\t37\\r\\n',\n",
       "  b'20641\\t241706660\\t5\\r\\n',\n",
       "  b'20641\\t241706661\\t4\\r\\n',\n",
       "  b'20641\\t241706662\\t94\\r\\n',\n",
       "  b'20641\\t241706663\\t14\\r\\n',\n",
       "  b'20641\\t241706664\\t50\\r\\n',\n",
       "  b'20641\\t241706665\\t8\\r\\n',\n",
       "  b'20641\\t241706666\\t856\\r\\n',\n",
       "  b'20641\\t241706667\\t48\\r\\n',\n",
       "  b'20641\\t241706668\\t19\\r\\n',\n",
       "  b'20641\\t241706669\\t1\\r\\n',\n",
       "  b'20641\\t241706670\\t94\\r\\n',\n",
       "  b'20641\\t241706671\\t87\\r\\n',\n",
       "  b'20641\\t241706672\\t2\\r\\n',\n",
       "  b'20641\\t241706673\\t1845\\r\\n',\n",
       "  b'20641\\t241706674\\t1\\r\\n',\n",
       "  b'20641\\t241706675\\t18161\\r\\n',\n",
       "  b'20641\\t241706676\\t25\\r\\n',\n",
       "  b'20641\\t241706677\\t6\\r\\n',\n",
       "  b'20641\\t241706678\\t273\\r\\n',\n",
       "  b'20641\\t241706679\\t2\\r\\n',\n",
       "  b'20641\\t241706680\\t14\\r\\n',\n",
       "  b'20641\\t241706681\\t50\\r\\n',\n",
       "  b'20641\\t241706682\\t446\\r\\n',\n",
       "  b'20641\\t241706683\\t296\\r\\n',\n",
       "  b'20641\\t241706684\\t1\\r\\n',\n",
       "  b'20641\\t241706685\\t47\\r\\n',\n",
       "  b'20641\\t241706686\\t2\\r\\n',\n",
       "  b'20641\\t241706687\\t3\\r\\n',\n",
       "  b'20641\\t241706688\\t95\\r\\n',\n",
       "  b'20641\\t241706689\\t226\\r\\n',\n",
       "  b'20641\\t241706690\\t2\\r\\n',\n",
       "  b'20641\\t241706691\\t24995\\r\\n',\n",
       "  b'20641\\t241706692\\t226\\r\\n',\n",
       "  b'20641\\t241706693\\t1\\r\\n',\n",
       "  b'20641\\t241706694\\t3640\\r\\n',\n",
       "  b'20641\\t241706695\\t15\\r\\n',\n",
       "  b'20641\\t241706696\\t6\\r\\n',\n",
       "  b'20641\\t241706697\\t1846\\r\\n',\n",
       "  b'20641\\t241706698\\t2\\r\\n',\n",
       "  b'20641\\t241706699\\t1627\\r\\n',\n",
       "  b'20641\\t241706700\\t2\\r\\n',\n",
       "  b'20641\\t241706701\\t32\\r\\n',\n",
       "  b'20641\\t241706702\\t23\\r\\n',\n",
       "  b'20641\\t241706703\\t46\\r\\n',\n",
       "  b'20641\\t241706704\\t307\\r\\n',\n",
       "  b'20641\\t241706705\\t60\\r\\n',\n",
       "  b'20641\\t241706706\\t5\\r\\n',\n",
       "  b'20641\\t241706707\\t1\\r\\n',\n",
       "  b'20641\\t241706708\\t7\\r\\n',\n",
       "  b'20641\\t241706709\\t254\\r\\n',\n",
       "  b'20641\\t241706710\\t2\\r\\n',\n",
       "  b'20641\\t241706711\\t1627\\r\\n',\n",
       "  b'20641\\t241706712\\t2\\r\\n',\n",
       "  b'20641\\t241706713\\t793\\r\\n',\n",
       "  b'20641\\t241706714\\t12\\r\\n',\n",
       "  b'20641\\t241706715\\t84\\r\\n',\n",
       "  b'20641\\t241706716\\t1\\r\\n',\n",
       "  b'20641\\t241706717\\t7\\r\\n',\n",
       "  b'20641\\t241706718\\t1845\\r\\n',\n",
       "  b'20641\\t241706719\\t2\\r\\n',\n",
       "  b'20641\\t241706720\\t424\\r\\n',\n",
       "  b'20641\\t241706721\\t100\\r\\n',\n",
       "  b'20641\\t241706722\\t8\\r\\n',\n",
       "  b'20641\\t241706723\\t856\\r\\n',\n",
       "  b'20641\\t241706724\\t1\\r\\n',\n",
       "  b'20641\\t241706725\\t16\\r\\n',\n",
       "  b'20641\\t241706726\\t95\\r\\n',\n",
       "  b'20641\\t241706727\\t2356\\r\\n',\n",
       "  b'20641\\t241706728\\t8\\r\\n',\n",
       "  b'20641\\t241706729\\t222994\\r\\n',\n",
       "  b'20641\\t241706730\\t80\\r\\n',\n",
       "  b'20641\\t241706731\\t1\\r\\n',\n",
       "  b'20641\\t241706732\\t47\\r\\n',\n",
       "  b'20641\\t241706733\\t2\\r\\n',\n",
       "  b'20641\\t241706734\\t3\\r\\n',\n",
       "  b'20641\\t241706735\\t24\\r\\n',\n",
       "  b'20641\\t241706736\\t384\\r\\n',\n",
       "  b'20641\\t241706737\\t475\\r\\n',\n",
       "  b'20641\\t241706738\\t2604\\r\\n',\n",
       "  b'20641\\t241706739\\t2\\r\\n',\n",
       "  b'20641\\t241706740\\t36\\r\\n',\n",
       "  b'20641\\t241706741\\t867\\r\\n',\n",
       "  b'20641\\t241706742\\t1\\r\\n',\n",
       "  b'20641\\t241706743\\t165\\r\\n',\n",
       "  b'20641\\t241706744\\t395\\r\\n',\n",
       "  b'20641\\t241706745\\t105\\r\\n',\n",
       "  b'20641\\t241706746\\t1\\r\\n',\n",
       "  b'20641\\t241706747\\t153\\r\\n',\n",
       "  b'20641\\t241706748\\t13200\\r\\n',\n",
       "  b'20641\\t241706749\\t94\\r\\n',\n",
       "  b'20641\\t241706750\\t48505\\r\\n',\n",
       "  b'20641\\t241706751\\t6\\r\\n',\n",
       "  b'20641\\t241706752\\t1111\\r\\n',\n",
       "  b'20641\\t241706753\\t3879\\r\\n',\n",
       "  b'20641\\t241706754\\t88\\r\\n',\n",
       "  b'20641\\t241706755\\t3\\r\\n',\n",
       "  b'20641\\t241706756\\t488\\r\\n',\n",
       "  b'20641\\t241706757\\t25\\r\\n',\n",
       "  b'20641\\t241706758\\t5\\r\\n',\n",
       "  b'20641\\t241706759\\t51\\r\\n',\n",
       "  b'20641\\t241706760\\t1693\\r\\n',\n",
       "  b'20641\\t241706761\\t2\\r\\n',\n",
       "  b'20641\\t241706762\\t85\\r\\n',\n",
       "  b'20641\\t241706763\\t10880\\r\\n',\n",
       "  b'20641\\t241706764\\t115\\r\\n',\n",
       "  b'20641\\t241706765\\t554\\r\\n',\n",
       "  b'20641\\t241706766\\t46\\r\\n',\n",
       "  b'20641\\t241706767\\t16415\\r\\n',\n",
       "  b'20641\\t241706768\\t5\\r\\n',\n",
       "  b'20641\\t241706769\\t2306\\r\\n',\n",
       "  b'20641\\t241706770\\t229\\r\\n',\n",
       "  b'20641\\t241706771\\t13200\\r\\n',\n",
       "  b'20641\\t241706772\\t2\\r\\n',\n",
       "  b'20641\\t241706773\\t1223\\r\\n',\n",
       "  b'20641\\t241706774\\t2\\r\\n',\n",
       "  b'20641\\t241706775\\t1627\\r\\n',\n",
       "  b'20641\\t241706776\\t4\\r\\n',\n",
       "  b'20641\\t241706777\\t72\\r\\n',\n",
       "  b'20641\\t241706778\\t2\\r\\n',\n",
       "  b'20641\\t241706779\\t5\\r\\n',\n",
       "  b'20641\\t241706780\\t21\\r\\n',\n",
       "  b'20641\\t241706781\\t13\\r\\n',\n",
       "  b'20641\\t241706782\\t75\\r\\n',\n",
       "  b'20641\\t241706783\\t105\\r\\n',\n",
       "  b'20641\\t241706784\\t920\\r\\n',\n",
       "  b'20641\\t241706785\\t211\\r\\n',\n",
       "  b'20641\\t241706786\\t5\\r\\n',\n",
       "  b'20641\\t241706787\\t687\\r\\n',\n",
       "  b'20641\\t241706788\\t12\\r\\n',\n",
       "  b'20641\\t241706789\\t1\\r\\n',\n",
       "  b'20641\\t241706790\\t4961\\r\\n',\n",
       "  b'20641\\t241706791\\t3584\\r\\n',\n",
       "  b'20641\\t241706792\\t48\\r\\n',\n",
       "  b'20641\\t241706793\\t265\\r\\n',\n",
       "  b'20641\\t241706794\\t22812\\r\\n',\n",
       "  b'20641\\t241706795\\t2\\r\\n',\n",
       "  b'20641\\t241706796\\t40\\r\\n',\n",
       "  b'20641\\t241706797\\t3135\\r\\n',\n",
       "  b'20641\\t241706798\\t19\\r\\n',\n",
       "  b'20641\\t241706799\\t28\\r\\n',\n",
       "  b'20641\\t241706800\\t920\\r\\n',\n",
       "  b'20641\\t241706801\\t1\\r\\n',\n",
       "  b'20641\\t241706802\\t94\\r\\n',\n",
       "  b'20641\\t241706803\\t87\\r\\n',\n",
       "  b'20641\\t241706804\\t2\\r\\n',\n",
       "  b'20641\\t241706805\\t140\\r\\n',\n",
       "  b'20641\\t241706806\\t31\\r\\n',\n",
       "  b'20641\\t241706807\\t856\\r\\n',\n",
       "  b'20641\\t241706808\\t1\\r\\n',\n",
       "  b'20641\\t241706809\\t126864\\r\\n',\n",
       "  b'20641\\t241706810\\t10\\r\\n',\n",
       "  b'20641\\t241706811\\t7\\r\\n',\n",
       "  b'20641\\t241706812\\t4949\\r\\n',\n",
       "  b'20641\\t241706813\\t243192\\r\\n',\n",
       "  b'20641\\t241706814\\t45\\r\\n',\n",
       "  b'20641\\t241706815\\t7\\r\\n',\n",
       "  b'20641\\t241706816\\t234\\r\\n',\n",
       "  b'20641\\t241706817\\t11\\r\\n',\n",
       "  b'20641\\t241706818\\t168\\r\\n',\n",
       "  b'20641\\t241706819\\t1\\r\\n',\n",
       "  b'20641\\t241706820\\t7\\r\\n',\n",
       "  b'20641\\t241706821\\t94\\r\\n',\n",
       "  b'20641\\t241706822\\t87\\r\\n',\n",
       "  b'20641\\t241706823\\t2\\r\\n',\n",
       "  b'20641\\t241706824\\t1845\\r\\n',\n",
       "  b'20641\\t241706825\\t2\\r\\n',\n",
       "  b'20641\\t241706826\\t12691\\r\\n',\n",
       "  b'20641\\t241706827\\t19258\\r\\n',\n",
       "  b'20641\\t241706828\\t17\\r\\n',\n",
       "  b'20641\\t241706829\\t7\\r\\n',\n",
       "  b'20641\\t241706830\\t57\\r\\n',\n",
       "  b'20641\\t241706831\\t2\\r\\n',\n",
       "  b'20641\\t241706832\\t158\\r\\n',\n",
       "  b'20641\\t241706833\\t1\\r\\n',\n",
       "  b'20641\\t241706834\\t57\\r\\n',\n",
       "  b'20641\\t241706835\\t2\\r\\n',\n",
       "  b'20641\\t241706836\\t1627\\r\\n',\n",
       "  b'20641\\t241706837\\t1\\r\\n',\n",
       "  b'20641\\t241706838\\t662\\r\\n',\n",
       "  b'20641\\t241706839\\t265\\r\\n',\n",
       "  b'20641\\t241706840\\t88\\r\\n',\n",
       "  b'20641\\t241706841\\t1\\r\\n',\n",
       "  b'20641\\t241706842\\t3\\r\\n',\n",
       "  b'20641\\t241706843\\t68\\r\\n',\n",
       "  b'20641\\t241706844\\t120\\r\\n',\n",
       "  b'20641\\t241706845\\t272\\r\\n',\n",
       "  b'20641\\t241706846\\t76\\r\\n',\n",
       "  b'20641\\t241706847\\t8429\\r\\n',\n",
       "  b'20641\\t241706848\\t8429\\r\\n',\n",
       "  b'20641\\t241706849\\t8429\\r\\n',\n",
       "  b'20641\\t241706850\\t8429\\r\\n',\n",
       "  b'20641\\t241706851\\t8429\\r\\n',\n",
       "  b'20641\\t241706852\\t8429\\r\\n',\n",
       "  b'20641\\t241706853\\t8429\\r\\n',\n",
       "  b'20641\\t241706854\\t8429\\r\\n',\n",
       "  b'20641\\t241706855\\t8429\\r\\n',\n",
       "  b'20641\\t241706856\\t8429\\r\\n',\n",
       "  b'20641\\t241706857\\t1\\r\\n',\n",
       "  b'20641\\t241706858\\t47\\r\\n',\n",
       "  b'20641\\t241706859\\t2\\r\\n',\n",
       "  b'20641\\t241706860\\t32\\r\\n',\n",
       "  b'20641\\t241706861\\t430\\r\\n',\n",
       "  b'20641\\t241706862\\t8\\r\\n',\n",
       "  b'20641\\t241706863\\t3846\\r\\n',\n",
       "  b'20641\\t241706864\\t9826\\r\\n',\n",
       "  b'20641\\t241706865\\t2382\\r\\n',\n",
       "  b'20641\\t241706866\\t2266\\r\\n',\n",
       "  b'20641\\t241706867\\t2\\r\\n',\n",
       "  b'20641\\t241706868\\t1435\\r\\n',\n",
       "  b'20641\\t241706869\\t6759\\r\\n',\n",
       "  b'20641\\t241706870\\t1\\r\\n',\n",
       "  b'20641\\t241706871\\t315727\\r\\n',\n",
       "  b'20641\\t241706872\\t79\\r\\n',\n",
       "  b'20641\\t241706873\\t6\\r\\n',\n",
       "  b'20641\\t241706874\\t88\\r\\n',\n",
       "  b'20641\\t241706875\\t1\\r\\n',\n",
       "  b'20641\\t241706876\\t57\\r\\n',\n",
       "  b'20641\\t241706877\\t2\\r\\n',\n",
       "  b'20641\\t241706878\\t158\\r\\n',\n",
       "  b'20641\\t241706879\\t2\\r\\n',\n",
       "  b'20641\\t241706880\\t3\\r\\n',\n",
       "  b'20641\\t241706881\\t164\\r\\n',\n",
       "  b'20641\\t241706882\\t2\\r\\n',\n",
       "  b'20641\\t241706883\\t1845\\r\\n',\n",
       "  b'20641\\t241706884\\t1\\r\\n',\n",
       "  b'20641\\t241706885\\t3\\r\\n',\n",
       "  b'20641\\t241706886\\t1536\\r\\n',\n",
       "  b'20641\\t241706887\\t2\\r\\n',\n",
       "  b'20641\\t241706888\\t12\\r\\n',\n",
       "  b'20641\\t241706889\\t11\\r\\n',\n",
       "  b'20641\\t241706890\\t499511\\r\\n',\n",
       "  b'20641\\t241706891\\t1\\r\\n',\n",
       "  b'20641\\t241706892\\t115\\r\\n',\n",
       "  b'20641\\t241706893\\t32497\\r\\n',\n",
       "  b'20641\\t241706894\\t38\\r\\n',\n",
       "  b'20641\\t241706895\\t19\\r\\n',\n",
       "  b'20641\\t241706896\\t1\\r\\n',\n",
       "  b'20641\\t241706897\\t35\\r\\n',\n",
       "  b'20641\\t241706898\\t11\\r\\n',\n",
       "  b'20641\\t241706899\\t6\\r\\n',\n",
       "  b'20641\\t241706900\\t574\\r\\n',\n",
       "  b'20641\\t241706901\\t38\\r\\n',\n",
       "  b'20641\\t241706902\\t5\\r\\n',\n",
       "  b'20641\\t241706903\\t2\\r\\n',\n",
       "  b'20641\\t241706904\\t5\\r\\n',\n",
       "  b'20641\\t241706905\\t229\\r\\n',\n",
       "  b'20641\\t241706906\\t3813\\r\\n',\n",
       "  b'20641\\t241706907\\t4\\r\\n',\n",
       "  b'20641\\t241706908\\t2516\\r\\n',\n",
       "  b'20641\\t241706909\\t71\\r\\n',\n",
       "  b'20641\\t241706910\\t376\\r\\n',\n",
       "  b'20641\\t241706911\\t19\\r\\n',\n",
       "  b'20641\\t241706912\\t1695\\r\\n',\n",
       "  b'20641\\t241706913\\t67\\r\\n',\n",
       "  b'20641\\t241706914\\t84\\r\\n',\n",
       "  b'20641\\t241706915\\t79\\r\\n',\n",
       "  b'20641\\t241706916\\t186\\r\\n',\n",
       "  b'20641\\t241706917\\t4\\r\\n',\n",
       "  b'20641\\t241706918\\t3\\r\\n',\n",
       "  b'20641\\t241706919\\t24\\r\\n',\n",
       "  b'20641\\t241706920\\t183\\r\\n',\n",
       "  b'20641\\t241706921\\t2\\r\\n',\n",
       "  b'20641\\t241706922\\t96265\\r\\n',\n",
       "  b'20641\\t241706923\\t1\\r\\n',\n",
       "  b'20641\\t241706924\\t165\\r\\n',\n",
       "  b'20641\\t241706925\\t3\\r\\n',\n",
       "  b'20641\\t241706926\\t1377\\r\\n',\n",
       "  b'20641\\t241706927\\t38\\r\\n',\n",
       "  b'20641\\t241706928\\t1175\\r\\n',\n",
       "  b'20641\\t241706929\\t1\\r\\n',\n",
       "  b'20641\\t241706930\\t35\\r\\n',\n",
       "  b'20641\\t241706931\\t5\\r\\n',\n",
       "  b'20641\\t241706932\\t113\\r\\n',\n",
       "  b'20641\\t241706933\\t5\\r\\n',\n",
       "  b'20641\\t241706934\\t341\\r\\n',\n",
       "  b'20641\\t241706935\\t25\\r\\n',\n",
       "  b'20641\\t241706936\\t856\\r\\n',\n",
       "  b'20641\\t241706937\\t2\\r\\n',\n",
       "  b'20641\\t241706938\\t4193\\r\\n',\n",
       "  b'20641\\t241706939\\t4\\r\\n',\n",
       "  b'20641\\t241706940\\t72\\r\\n',\n",
       "  b'20641\\t241706941\\t2\\r\\n',\n",
       "  b'20641\\t241706942\\t3\\r\\n',\n",
       "  b'20641\\t241706943\\t42\\r\\n',\n",
       "  b'20641\\t241706944\\t152\\r\\n',\n",
       "  b'20641\\t241706945\\t8\\r\\n',\n",
       "  b'20641\\t241706946\\t16839\\r\\n',\n",
       "  b'20641\\t241706947\\t15\\r\\n',\n",
       "  b'20641\\t241706948\\t34247\\r\\n',\n",
       "  b'20641\\t241706949\\t14\\r\\n',\n",
       "  b'20641\\t241706950\\t12538\\r\\n',\n",
       "  b'20641\\t241706951\\t25\\r\\n',\n",
       "  b'20641\\t241706952\\t8\\r\\n',\n",
       "  b'20641\\t241706953\\t27690\\r\\n',\n",
       "  b'20641\\t241706954\\t1\\r\\n',\n",
       "  b'20641\\t241706955\\t3\\r\\n',\n",
       "  b'20641\\t241706956\\t164\\r\\n',\n",
       "  b'20641\\t241706957\\t1113\\r\\n',\n",
       "  b'20641\\t241706958\\t130\\r\\n',\n",
       "  b'20641\\t241706959\\t25\\r\\n',\n",
       "  b'20641\\t241706960\\t5\\r\\n',\n",
       "  b'20641\\t241706961\\t2\\r\\n',\n",
       "  b'20641\\t241706962\\t96265\\r\\n',\n",
       "  b'20641\\t241706963\\t1\\r\\n',\n",
       "  b'20641\\t241706964\\t107509\\r\\n',\n",
       "  b'20641\\t241706965\\t14\\r\\n',\n",
       "  b'20641\\t241706966\\t12538\\r\\n',\n",
       "  b'20641\\t241706967\\t25\\r\\n',\n",
       "  b'20641\\t241706968\\t96265\\r\\n',\n",
       "  b'20641\\t241706969\\t2\\r\\n',\n",
       "  b'20641\\t241706970\\t1845\\r\\n',\n",
       "  b'20641\\t241706971\\t1\\r\\n',\n",
       "  b'20641\\t241706972\\t11398\\r\\n',\n",
       "  b'20641\\t241706973\\t25\\r\\n',\n",
       "  b'20641\\t241706974\\t19\\r\\n',\n",
       "  b'20641\\t241706975\\t1\\r\\n',\n",
       "  b'20641\\t241706976\\t28359\\r\\n',\n",
       "  b'20641\\t241706977\\t5\\r\\n',\n",
       "  b'20641\\t241706978\\t37\\r\\n',\n",
       "  b'20641\\t241706979\\t1\\r\\n',\n",
       "  b'20641\\t241706980\\t833\\r\\n',\n",
       "  b'20641\\t241706981\\t6\\r\\n',\n",
       "  b'20641\\t241706982\\t119\\r\\n',\n",
       "  b'20641\\t241706983\\t2\\r\\n',\n",
       "  b'20641\\t241706984\\t1627\\r\\n',\n",
       "  b'20641\\t241706985\\t2\\r\\n',\n",
       "  b'20641\\t241706986\\t32\\r\\n',\n",
       "  b'20641\\t241706987\\t68\\r\\n',\n",
       "  b'20641\\t241706988\\t120\\r\\n',\n",
       "  b'20641\\t241706989\\t8\\r\\n',\n",
       "  b'20641\\t241706990\\t1146\\r\\n',\n",
       "  b'20641\\t241706991\\t25\\r\\n',\n",
       "  b'20641\\t241706992\\t5\\r\\n',\n",
       "  b'20641\\t241706993\\t92\\r\\n',\n",
       "  b'20641\\t241706994\\t2820\\r\\n',\n",
       "  b'20641\\t241706995\\t45\\r\\n',\n",
       "  b'20641\\t241706996\\t985\\r\\n',\n",
       "  b'20641\\t241706997\\t2\\r\\n',\n",
       "  b'20641\\t241706998\\t13437\\r\\n',\n",
       "  b'20641\\t241706999\\t1\\r\\n',\n",
       "  b'20641\\t241707000\\t41\\r\\n',\n",
       "  b'20641\\t241707001\\t8\\r\\n',\n",
       "  b'20641\\t241707002\\t625\\r\\n',\n",
       "  b'20641\\t241707003\\t83\\r\\n',\n",
       "  b'20641\\t241707004\\t6996\\r\\n',\n",
       "  b'20641\\t241707005\\t1\\r\\n',\n",
       "  b'20641\\t241707006\\t275\\r\\n',\n",
       "  b'20641\\t241707007\\t139\\r\\n',\n",
       "  b'20641\\t241707008\\t204\\r\\n',\n",
       "  b'20641\\t241707009\\t198\\r\\n',\n",
       "  b'20641\\t241707010\\t92\\r\\n',\n",
       "  b'20641\\t241707011\\t29\\r\\n',\n",
       "  b'20641\\t241707012\\t684\\r\\n',\n",
       "  b'20641\\t241707013\\t2\\r\\n',\n",
       "  b'20641\\t241707014\\t2176\\r\\n',\n",
       "  b'20641\\t241707015\\t1\\r\\n',\n",
       "  b'20641\\t241707016\\t115\\r\\n',\n",
       "  b'20641\\t241707017\\t1927\\r\\n',\n",
       "  b'20641\\t241707018\\t84\\r\\n',\n",
       "  b'20641\\t241707019\\t1\\r\\n',\n",
       "  b'20641\\t241707020\\t3\\r\\n',\n",
       "  b'20641\\t241707021\\t21\\r\\n',\n",
       "  b'20641\\t241707022\\t13\\r\\n',\n",
       "  b'20641\\t241707023\\t70\\r\\n',\n",
       "  b'20641\\t241707024\\t1146\\r\\n',\n",
       "  b'20641\\t241707025\\t92\\r\\n',\n",
       "  b'20641\\t241707026\\t2176\\r\\n',\n",
       "  b'20641\\t241707027\\t2\\r\\n',\n",
       "  b'20641\\t241707028\\t204\\r\\n',\n",
       "  b'20641\\t241707029\\t30\\r\\n',\n",
       "  b'20641\\t241707030\\t447\\r\\n',\n",
       "  b'20641\\t241707031\\t1\\r\\n',\n",
       "  b'20641\\t241707032\\t66\\r\\n',\n",
       "  b'20641\\t241707033\\t11\\r\\n',\n",
       "  b'20641\\t241707034\\t8\\r\\n',\n",
       "  b'20641\\t241707035\\t314\\r\\n',\n",
       "  b'20641\\t241707036\\t4679\\r\\n',\n",
       "  b'20641\\t241707037\\t5146\\r\\n',\n",
       "  b'20641\\t241707038\\t2\\r\\n',\n",
       "  b'20641\\t241707039\\t31\\r\\n',\n",
       "  b'20641\\t241707040\\t684\\r\\n',\n",
       "  b'20641\\t241707041\\t1\\r\\n',\n",
       "  b'20641\\t241707042\\t811\\r\\n',\n",
       "  b'20641\\t241707043\\t2\\r\\n',\n",
       "  b'20641\\t241707044\\t3\\r\\n',\n",
       "  b'20641\\t241707045\\t42\\r\\n',\n",
       "  b'20641\\t241707046\\t2303\\r\\n',\n",
       "  ...],\n",
       " 'movies_lexicon.txt': [b'wordID\\twordCS\\tword\\tlemma\\tPos\\r\\n',\n",
       "  b'-----\\t-----\\t-----\\t-----\\t-----\\r\\n',\n",
       "  b'\\r\\n',\n",
       "  b'1\\t.\\t.\\t.\\t.\\r\\n',\n",
       "  b'2\\t,\\t,\\t,\\t,\\r\\n',\n",
       "  b'3\\tI\\ti\\ti\\tppis1\\r\\n',\n",
       "  b'4\\t?\\t?\\t?\\t?\\r\\n',\n",
       "  b'5\\tyou\\tyou\\tyou\\tppy\\r\\n',\n",
       "  b'6\\tthe\\tthe\\tthe\\tat\\r\\n',\n",
       "  b'7\\t-\\t-\\t-\\t-\\r\\n',\n",
       "  b'8\\ta\\ta\\ta\\tat1\\r\\n',\n",
       "  b'9\\tto\\tto\\tto\\tto\\r\\n',\n",
       "  b'10\\t!\\t!\\t!\\t!\\r\\n',\n",
       "  b\"11\\t's\\t's\\tbe\\tvbz\\r\\n\",\n",
       "  b'12\\tit\\tit\\tit\\tpph1\\r\\n',\n",
       "  b\"13\\tn't\\tn't\\tn't\\txx\\r\\n\",\n",
       "  b'14\\tand\\tand\\tand\\tcc\\r\\n',\n",
       "  b'15\\tof\\tof\\tof\\tio\\r\\n',\n",
       "  b'16\\tYou\\tyou\\tyou\\tppy\\r\\n',\n",
       "  b'17\\t...\\t...\\t--\\t...\\r\\n',\n",
       "  b'18\\tis\\tis\\tbe\\tvbz\\r\\n',\n",
       "  b'19\\tme\\tme\\tme\\tppio1\\r\\n',\n",
       "  b'20\\tin\\tin\\tin\\tii\\r\\n',\n",
       "  b'21\\tdo\\tdo\\tdo\\tvd0\\r\\n',\n",
       "  b'22\\tto\\tto\\tto\\tii\\r\\n',\n",
       "  b'23\\twas\\twas\\tbe\\tvbdz\\r\\n',\n",
       "  b\"24\\t'm\\t'm\\tbe\\tvbm\\r\\n\",\n",
       "  b'25\\tfor\\tfor\\tfor\\tif\\r\\n',\n",
       "  b'26\\tthis\\tthis\\tthis\\tdd1\\r\\n',\n",
       "  b\"27\\t're\\t're\\tbe\\tvbr\\r\\n\",\n",
       "  b'28\\tthat\\tthat\\tthat\\tdd1\\r\\n',\n",
       "  b'29\\tmy\\tmy\\tmy\\tappge\\r\\n',\n",
       "  b'30\\tbe\\tbe\\tbe\\tvbi\\r\\n',\n",
       "  b'31\\tyour\\tyour\\tyour\\tappge\\r\\n',\n",
       "  b'32\\twe\\twe\\twe\\tppis2\\r\\n',\n",
       "  b'33\\t\"\\t\"\\t\"\\t\"\\r\\n',\n",
       "  b'34\\tIt\\tit\\tit\\tpph1\\r\\n',\n",
       "  b'35\\tWhat\\twhat\\twhat\\tddq\\r\\n',\n",
       "  b'36\\tnot\\tnot\\tnot\\txx\\r\\n',\n",
       "  b'37\\tare\\tare\\tbe\\tvbr\\r\\n',\n",
       "  b'38\\twith\\twith\\twith\\tiw\\r\\n',\n",
       "  b'39\\twhat\\twhat\\twhat\\tddq\\r\\n',\n",
       "  b'40\\the\\the\\the\\tpphs1\\r\\n',\n",
       "  b'41\\tAnd\\tand\\tand\\tcc\\r\\n',\n",
       "  b\"42\\t'll\\t'll\\twill\\tvm\\r\\n\",\n",
       "  b'43\\there\\there\\there\\trl\\r\\n',\n",
       "  b'44\\tWe\\twe\\twe\\tppis2\\r\\n',\n",
       "  b'45\\t.\\t.\\t--\\t#y\\r\\n',\n",
       "  b'46\\tjust\\tjust\\tjust\\trr\\r\\n',\n",
       "  b'47\\tOh\\toh\\toh\\tuh\\r\\n',\n",
       "  b'48\\ton\\ton\\ton\\tii\\r\\n',\n",
       "  b'49\\tknow\\tknow\\tknow\\tvv0\\r\\n',\n",
       "  b'50\\thave\\thave\\thave\\tvh0\\r\\n',\n",
       "  b'51\\tThe\\tthe\\tthe\\tat\\r\\n',\n",
       "  b'52\\thim\\thim\\thim\\tppho1\\r\\n',\n",
       "  b'53\\tHe\\the\\the\\tpphs1\\r\\n',\n",
       "  b'54\\tup\\tup\\tup\\trp\\r\\n',\n",
       "  b'55\\tdid\\tdid\\tdo\\tvdd\\r\\n',\n",
       "  b'56\\tthat\\tthat\\tthat\\tcst\\r\\n',\n",
       "  b'57\\tNo\\tno\\tno\\tuh\\r\\n',\n",
       "  b'58\\tcan\\tcan\\tcan\\tvm\\r\\n',\n",
       "  b'59\\tthey\\tthey\\tthey\\tpphs2\\r\\n',\n",
       "  b'60\\tabout\\tabout\\tabout\\tii\\r\\n',\n",
       "  b'61\\tYeah\\tyeah\\tyeah\\tuh\\r\\n',\n",
       "  b'62\\thave\\thave\\thave\\tvhi\\r\\n',\n",
       "  b'63\\t)\\t)\\t)\\t)\\r\\n',\n",
       "  b'64\\t(\\t(\\t(\\t(\\r\\n',\n",
       "  b'65\\tat\\tat\\tat\\tii\\r\\n',\n",
       "  b'66\\tThat\\tthat\\tthat\\tdd1\\r\\n',\n",
       "  b'67\\tout\\tout\\tout\\trp\\r\\n',\n",
       "  b\"68\\t've\\t've\\thave\\tvh0\\r\\n\",\n",
       "  b'69\\tdo\\tdo\\tdo\\tvdi\\r\\n',\n",
       "  b'70\\tget\\tget\\tget\\tvvi\\r\\n',\n",
       "  b'71\\tna\\tna\\tna\\tto\\r\\n',\n",
       "  b'72\\tWell\\twell\\twell\\trr\\r\\n',\n",
       "  b'73\\tDo\\tdo\\tdo\\tvd0\\r\\n',\n",
       "  b'74\\tbut\\tbut\\tbut\\tccb\\r\\n',\n",
       "  b'75\\tknow\\tknow\\tknow\\tvvi\\r\\n',\n",
       "  b'76\\tgo\\tgo\\tgo\\tvvi\\r\\n',\n",
       "  b'77\\t:\\t:\\t:\\t:\\r\\n',\n",
       "  b'78\\tBut\\tbut\\tbut\\tccb\\r\\n',\n",
       "  b'79\\tall\\tall\\tall\\tdb\\r\\n',\n",
       "  b'80\\tnow\\tnow\\tnow\\trt\\r\\n',\n",
       "  b'81\\twould\\twould\\twould\\tvm\\r\\n',\n",
       "  b'82\\tgon\\tgon\\tgo\\tvvgk\\r\\n',\n",
       "  b\"83\\t's\\t's\\t's\\tge\\r\\n\",\n",
       "  b'84\\tthere\\tthere\\tthere\\trl\\r\\n',\n",
       "  b'85\\tshe\\tshe\\tshe\\tpphs1\\r\\n',\n",
       "  b'86\\twill\\twill\\twill\\tvm\\r\\n',\n",
       "  b'87\\ton\\ton\\ton\\trp\\r\\n',\n",
       "  b'88\\ttime\\ttime\\ttime\\tnnt1\\r\\n',\n",
       "  b'89\\tthem\\tthem\\tthem\\tppho2\\r\\n',\n",
       "  b'90\\this\\this\\this\\tappge\\r\\n',\n",
       "  b'91\\twere\\twere\\tbe\\tvbdr\\r\\n',\n",
       "  b'92\\tfrom\\tfrom\\tfrom\\tii\\r\\n',\n",
       "  b'93\\tYes\\tyes\\tyes\\tuh\\r\\n',\n",
       "  b'94\\tCome\\tcome\\tcome\\tvv0\\r\\n',\n",
       "  b'95\\tgot\\tgot\\tget\\tvvd\\r\\n',\n",
       "  b'96\\tThis\\tthis\\tthis\\tdd1\\r\\n',\n",
       "  b'97\\tbeen\\tbeen\\tbe\\tvbn\\r\\n',\n",
       "  b'98\\tman\\tman\\tman\\tnn1\\r\\n',\n",
       "  b'99\\tan\\tan\\ta\\tat1\\r\\n',\n",
       "  b'100\\tus\\tus\\tus\\tppio2\\r\\n',\n",
       "  b'101\\tlike\\tlike\\tlike\\tii\\r\\n',\n",
       "  b'102\\tThey\\tthey\\tthey\\tpphs2\\r\\n',\n",
       "  b\"103\\t'\\t'\\t'\\tge\\r\\n\",\n",
       "  b'104\\tcould\\tcould\\tcould\\tvm\\r\\n',\n",
       "  b'105\\tgood\\tgood\\tgood\\tjj\\r\\n',\n",
       "  b'106\\tHey\\they\\they\\tuh\\r\\n',\n",
       "  b'107\\twant\\twant\\twant\\tvv0\\r\\n',\n",
       "  b'108\\tsee\\tsee\\tsee\\tvvi\\r\\n',\n",
       "  b'109\\tSo\\tso\\tso\\trr\\r\\n',\n",
       "  b'110\\tsome\\tsome\\tsome\\tdd\\r\\n',\n",
       "  b'111\\tor\\tor\\tor\\tcc\\r\\n',\n",
       "  b'112\\tca\\tca\\tcan\\tvm\\r\\n',\n",
       "  b'113\\tthink\\tthink\\tthink\\tvv0\\r\\n',\n",
       "  b'114\\ther\\ther\\ther\\tppho1\\r\\n',\n",
       "  b'115\\tShe\\tshe\\tshe\\tpphs1\\r\\n',\n",
       "  b'116\\tq!\\tq!\\tq!\\tq!\\r\\n',\n",
       "  b'117\\thad\\thad\\thave\\tvhd\\r\\n',\n",
       "  b'118\\twho\\twho\\twho\\tpnqs\\r\\n',\n",
       "  b'119\\tway\\tway\\tway\\tnn1\\r\\n',\n",
       "  b'120\\tgot\\tgot\\tget\\tvvn\\r\\n',\n",
       "  b'121\\treally\\treally\\treally\\trr\\r\\n',\n",
       "  b'122\\tsomething\\tsomething\\tsomething\\tpn1\\r\\n',\n",
       "  b\"123\\t'd\\t'd\\thave\\tvm\\r\\n\",\n",
       "  b'124\\tour\\tour\\tour\\tappge\\r\\n',\n",
       "  b'125\\tWhy\\twhy\\twhy\\trrq\\r\\n',\n",
       "  b'126\\tone\\tone\\tone\\tmc1\\r\\n',\n",
       "  b'127\\tright\\tright\\tright\\trr22\\r\\n',\n",
       "  b'128\\tif\\tif\\tif\\tcs\\r\\n',\n",
       "  b'129\\tdown\\tdown\\tdown\\trp\\r\\n',\n",
       "  b'130\\tback\\tback\\tback\\trp\\r\\n',\n",
       "  b'131\\tOkay\\tokay\\tokay\\trr\\r\\n',\n",
       "  b'132\\tof\\tof\\tof\\tii22\\r\\n',\n",
       "  b'133\\thas\\thas\\thave\\tvhz\\r\\n',\n",
       "  b'134\\tnever\\tnever\\tnever\\trr\\r\\n',\n",
       "  b'135\\tno\\tno\\tno\\tat\\r\\n',\n",
       "  b'136\\tgoing\\tgoing\\tgo\\tvvg\\r\\n',\n",
       "  b'137\\tIf\\tif\\tif\\tcs\\r\\n',\n",
       "  b'138\\tNow\\tnow\\tnow\\trt\\r\\n',\n",
       "  b'139\\tthat\\tthat\\tthat\\tcst_dd1\\r\\n',\n",
       "  b'140\\tget\\tget\\tget\\tvv0\\r\\n',\n",
       "  b'141\\tpeople\\tpeople\\tpeople\\tnn\\r\\n',\n",
       "  b\"142\\t's\\t's\\tbe\\tvm22\\r\\n\",\n",
       "  b'143\\tvery\\tvery\\tvery\\trg\\r\\n',\n",
       "  b'144\\tby\\tby\\tby\\tii\\r\\n',\n",
       "  b'145\\tthat\\tthat\\tthat\\tdd1_cst\\r\\n',\n",
       "  b'146\\tThere\\tthere\\tthere\\tex\\r\\n',\n",
       "  b'147\\tHow\\thow\\thow\\trrq\\r\\n',\n",
       "  b'148\\tthen\\tthen\\tthen\\trt\\r\\n',\n",
       "  b'149\\t#\\t#\\t#\\tfo\\r\\n',\n",
       "  b'150\\tshould\\tshould\\tshould\\tvm\\r\\n',\n",
       "  b'151\\tthink\\tthink\\tthink\\tvvi\\r\\n',\n",
       "  b'152\\ttake\\ttake\\ttake\\tvvi\\r\\n',\n",
       "  b'153\\tMy\\tmy\\tmy\\tappge\\r\\n',\n",
       "  b'154\\tthere\\tthere\\tthere\\tex\\r\\n',\n",
       "  b'155\\tthing\\tthing\\tthing\\tnn1\\r\\n',\n",
       "  b'156\\tsaid\\tsaid\\tsay\\tvvd\\r\\n',\n",
       "  b'157\\tsay\\tsay\\tsay\\tvvi\\r\\n',\n",
       "  b'158\\tno\\tno\\tno\\tuh\\r\\n',\n",
       "  b'159\\tdoes\\tdoes\\tdo\\tvdz\\r\\n',\n",
       "  b'160\\tdoing\\tdoing\\tdo\\tvdg\\r\\n',\n",
       "  b'161\\tout\\tout\\tout\\tii21\\r\\n',\n",
       "  b'162\\ttell\\ttell\\ttell\\tvvi\\r\\n',\n",
       "  b'163\\tmake\\tmake\\tmake\\tvvi\\r\\n',\n",
       "  b'164\\tgo\\tgo\\tgo\\tvv0\\r\\n',\n",
       "  b'165\\tJust\\tjust\\tjust\\trr\\r\\n',\n",
       "  b'166\\twant\\twant\\twant\\tvvi\\r\\n',\n",
       "  b'167\\tYOU\\tyou\\tyou\\tppy\\r\\n',\n",
       "  b'168\\thow\\thow\\thow\\trrq\\r\\n',\n",
       "  b'169\\tin\\tin\\tin\\tii_rp@\\r\\n',\n",
       "  b'170\\tIs\\tis\\tbe\\tvbz\\r\\n',\n",
       "  b'171\\tgoing\\tgoing\\tgo\\tvvgk\\r\\n',\n",
       "  b'172\\tany\\tany\\tany\\tdd\\r\\n',\n",
       "  b'173\\tMr\\tmr\\t--\\t#nnb\\r\\n',\n",
       "  b'174\\tGet\\tget\\tget\\tvv0\\r\\n',\n",
       "  b'175\\tall\\tall\\tall\\tdb_rr@\\r\\n',\n",
       "  b'176\\ttwo\\ttwo\\ttwo\\tmc\\r\\n',\n",
       "  b'177\\tThank\\tthank\\tthank\\tvv0\\r\\n',\n",
       "  b'178\\tinto\\tinto\\tinto\\tii\\r\\n',\n",
       "  b'179\\tAre\\tare\\tbe\\tvbr\\r\\n',\n",
       "  b'180\\tneed\\tneed\\tneed\\tvv0\\r\\n',\n",
       "  b'181\\tone\\tone\\tone\\tpn1\\r\\n',\n",
       "  b'182\\tAll\\tall\\tall\\trr21\\r\\n',\n",
       "  b'183\\tsorry\\tsorry\\tsorry\\tjj\\r\\n',\n",
       "  b'184\\tWhere\\twhere\\twhere\\trrq\\r\\n',\n",
       "  b'185\\tsir\\tsir\\tsir\\tnn1\\r\\n',\n",
       "  b'186\\tnight\\tnight\\tnight\\tnnt1\\r\\n',\n",
       "  b'187\\tmean\\tmean\\tmean\\tvv0\\r\\n',\n",
       "  b'188\\tday\\tday\\tday\\tnnt1\\r\\n',\n",
       "  b'189\\tam\\tam\\tbe\\tvbm\\r\\n',\n",
       "  b'190\\tthese\\tthese\\tthese\\tdd2\\r\\n',\n",
       "  b'191\\tlife\\tlife\\tlife\\tnn1\\r\\n',\n",
       "  b'192\\tGod\\tgod\\tgod\\tnp1\\r\\n',\n",
       "  b'193\\tso\\tso\\tso\\trg_rr\\r\\n',\n",
       "  b'194\\twhy\\twhy\\twhy\\trrq\\r\\n',\n",
       "  b\"195\\t's\\t's\\tbe\\tvhz\\r\\n\",\n",
       "  b'196\\tanything\\tanything\\tanything\\tpn1\\r\\n',\n",
       "  b'197\\tLet\\tlet\\tlet\\tvm21\\r\\n',\n",
       "  b'198\\tcome\\tcome\\tcome\\tvvi\\r\\n',\n",
       "  b'199\\ther\\ther\\ther\\tappge\\r\\n',\n",
       "  b'200\\ttheir\\ttheir\\ttheir\\tappge\\r\\n',\n",
       "  b'201\\tlittle\\tlittle\\tlittle\\tjj\\r\\n',\n",
       "  b'202\\tagain\\tagain\\tagain\\trt\\r\\n',\n",
       "  b'203\\tLook\\tlook\\tlook\\tvv0\\r\\n',\n",
       "  b'204\\tmust\\tmust\\tmust\\tvm\\r\\n',\n",
       "  b'205\\tthan\\tthan\\tthan\\tcsn\\r\\n',\n",
       "  b'206\\tlike\\tlike\\tlike\\tvvi\\r\\n',\n",
       "  b'207\\tfirst\\tfirst\\tfirst\\tmd\\r\\n',\n",
       "  b'208\\tTHE\\tthe\\tthe\\tat\\r\\n',\n",
       "  b'209\\tWho\\twho\\twho\\tpnqs\\r\\n',\n",
       "  b'210\\tNot\\tnot\\tnot\\txx\\r\\n',\n",
       "  b'211\\twhen\\twhen\\twhen\\tcs_rrq\\r\\n',\n",
       "  b'212\\tsee\\tsee\\tsee\\tvv0\\r\\n',\n",
       "  b'213\\tGood\\tgood\\tgood\\tjj\\r\\n',\n",
       "  b'214\\tas\\tas\\tas\\tcsa\\r\\n',\n",
       "  b'215\\tthings\\tthings\\tthing\\tnn2\\r\\n',\n",
       "  b'216\\tever\\tever\\tever\\trr\\r\\n',\n",
       "  b'217\\teven\\teven\\teven\\trr\\r\\n',\n",
       "  b'218\\tGo\\tgo\\tgo\\tvv0\\r\\n',\n",
       "  b'219\\tbecause\\tbecause\\tbecause\\tcs\\r\\n',\n",
       "  b'220\\talways\\talways\\talways\\trr\\r\\n',\n",
       "  b\"221\\t's\\t's\\tbe\\tvbz_vhz@\\r\\n\",\n",
       "  b'222\\tcome\\tcome\\tcome\\tvv0\\r\\n',\n",
       "  b'223\\tstill\\tstill\\tstill\\trr\\r\\n',\n",
       "  b'224\\tyears\\tyears\\tyear\\tnnt2\\r\\n',\n",
       "  b'225\\tthose\\tthose\\tthose\\tdd2\\r\\n',\n",
       "  b'226\\tmoney\\tmoney\\tmoney\\tnn1\\r\\n',\n",
       "  b'227\\toff\\toff\\toff\\trp\\r\\n',\n",
       "  b'228\\tYour\\tyour\\tyour\\tappge\\r\\n',\n",
       "  b'229\\told\\told\\told\\tjj\\r\\n',\n",
       "  b'230\\tso\\tso\\tso\\trg\\r\\n',\n",
       "  b'231\\tDid\\tdid\\tdo\\tvdd\\r\\n',\n",
       "  b'232\\ttoo\\ttoo\\ttoo\\trg\\r\\n',\n",
       "  b'233\\tA\\ta\\ta\\tat1\\r\\n',\n",
       "  b'234\\tHere\\there\\there\\trl\\r\\n',\n",
       "  b'235\\tgreat\\tgreat\\tgreat\\tjj\\r\\n',\n",
       "  b'236\\taway\\taway\\taway\\trl\\r\\n',\n",
       "  b'237\\tplease\\tplease\\tplease\\trr\\r\\n',\n",
       "  b'238\\tname\\tname\\tname\\tnn1\\r\\n',\n",
       "  b'239\\tnothing\\tnothing\\tnothing\\tpn1\\r\\n',\n",
       "  b'240\\tguys\\tguys\\tguy\\tnn2\\r\\n',\n",
       "  b'241\\tthought\\tthought\\tthink\\tvvd\\r\\n',\n",
       "  b'242\\tIn\\tin\\tin\\tii\\r\\n',\n",
       "  b'243\\tfind\\tfind\\tfind\\tvvi\\r\\n',\n",
       "  b'244\\tguy\\tguy\\tguy\\tnn1\\r\\n',\n",
       "  b'245\\ton\\ton\\ton\\tii_rp@\\r\\n',\n",
       "  b'246\\tright\\tright\\tright\\tjj\\r\\n',\n",
       "  b'247\\tgive\\tgive\\tgive\\tvvi\\r\\n',\n",
       "  b'248\\tonly\\tonly\\tonly\\trr\\r\\n',\n",
       "  b'249\\two\\two\\twill\\tvm\\r\\n',\n",
       "  b'250\\tin\\tin\\tin\\trp@\\r\\n',\n",
       "  b'251\\twell\\twell\\twell\\trr\\r\\n',\n",
       "  b'252\\tif\\tif\\tif\\tcs_csw@\\r\\n',\n",
       "  b'253\\tlast\\tlast\\tlast\\tmd\\r\\n',\n",
       "  b'254\\tHello\\thello\\thello\\tuh\\r\\n',\n",
       "  b'255\\tgirl\\tgirl\\tgirl\\tnn1\\r\\n',\n",
       "  b'256\\tso\\tso\\tso\\trr\\r\\n',\n",
       "  b'257\\tbig\\tbig\\tbig\\tjj\\r\\n',\n",
       "  b'258\\tworld\\tworld\\tworld\\tnn1\\r\\n',\n",
       "  b'259\\teverything\\teverything\\teverything\\tpn1\\r\\n',\n",
       "  b'260\\tdone\\tdone\\tdo\\tvdn\\r\\n',\n",
       "  b'261\\ttalk\\ttalk\\ttalk\\tvvi\\r\\n',\n",
       "  b'262\\tplace\\tplace\\tplace\\tnn1\\r\\n',\n",
       "  b'263\\tyeah\\tyeah\\tyeah\\tuh\\r\\n',\n",
       "  b'264\\tright\\tright\\tright\\trr_nn1_jj\\r\\n',\n",
       "  b'265\\tother\\tother\\tother\\tjj\\r\\n',\n",
       "  b'266\\tnew\\tnew\\tnew\\tjj\\r\\n',\n",
       "  b'267\\tshit\\tshit\\tshit\\tnn1\\r\\n',\n",
       "  b'268\\ttoo\\ttoo\\ttoo\\trr@\\r\\n',\n",
       "  b'269\\tmore\\tmore\\tmore\\tdar\\r\\n',\n",
       "  b'270\\twhere\\twhere\\twhere\\trrq\\r\\n',\n",
       "  b'271\\tsure\\tsure\\tsure\\tjj\\r\\n',\n",
       "  b'272\\tta\\tta\\tta\\tto\\r\\n',\n",
       "  b'273\\thouse\\thouse\\thouse\\tnn1\\r\\n',\n",
       "  b'274\\tlove\\tlove\\tlove\\tvv0\\r\\n',\n",
       "  b'275\\tThen\\tthen\\tthen\\trt\\r\\n',\n",
       "  b'276\\tcame\\tcame\\tcome\\tvvd\\r\\n',\n",
       "  b'277\\ttold\\ttold\\ttell\\tvvd\\r\\n',\n",
       "  b'278\\tsay\\tsay\\tsay\\tvv0\\r\\n',\n",
       "  b'279\\tboy\\tboy\\tboy\\tnn1\\r\\n',\n",
       "  b'280\\t-\\t-\\t--\\t#y\\r\\n',\n",
       "  b'281\\thelp\\thelp\\thelp\\tvvi\\r\\n',\n",
       "  b'282\\tmight\\tmight\\tmight\\tvm\\r\\n',\n",
       "  b'283\\tevery\\tevery\\tevery\\tat1\\r\\n',\n",
       "  b'284\\tLet\\tlet\\tlet\\tvv0\\r\\n',\n",
       "  b'285\\tcourse\\tcourse\\tcourse\\trr22\\r\\n',\n",
       "  b'286\\tMaybe\\tmaybe\\tmaybe\\trr\\r\\n',\n",
       "  b'287\\tPlease\\tplease\\tplease\\trr\\r\\n',\n",
       "  b'288\\tover\\tover\\tover\\trp\\r\\n',\n",
       "  b'289\\town\\town\\town\\tda\\r\\n',\n",
       "  b'290\\ton\\ton\\ton\\trp@\\r\\n',\n",
       "  b'291\\tall\\tall\\tall\\trr21\\r\\n',\n",
       "  b'292\\tcoming\\tcoming\\tcome\\tvvg\\r\\n',\n",
       "  b'293\\tHi\\thi\\thi\\tuh\\r\\n',\n",
       "  b'294\\telse\\telse\\telse\\trr\\r\\n',\n",
       "  b'295\\tgetting\\tgetting\\tget\\tvvg\\r\\n',\n",
       "  b'296\\tyourself\\tyourself\\tyourself\\tppx1\\r\\n',\n",
       "  b'297\\tbad\\tbad\\tbad\\tjj\\r\\n',\n",
       "  b'298\\tanother\\tanother\\tanother\\tdd1\\r\\n',\n",
       "  b'299\\tcar\\tcar\\tcar\\tnn1\\r\\n',\n",
       "  b'300\\tbaby\\tbaby\\tbaby\\tnn1\\r\\n',\n",
       "  b'301\\tbeing\\tbeing\\tbe\\tvbg\\r\\n',\n",
       "  b'302\\tthree\\tthree\\tthree\\tmc\\r\\n',\n",
       "  b'303\\twent\\twent\\tgo\\tvvd\\r\\n',\n",
       "  b'304\\thell\\thell\\thell\\tnn1\\r\\n',\n",
       "  b'305\\tai\\tai\\tai\\tfu\\r\\n',\n",
       "  b'306\\ttake\\ttake\\ttake\\tvv0\\r\\n',\n",
       "  b'307\\ttalking\\ttalking\\ttalk\\tvvg\\r\\n',\n",
       "  b'308\\tfather\\tfather\\tfather\\tnn1\\r\\n',\n",
       "  b'309\\thome\\thome\\thome\\trl\\r\\n',\n",
       "  b'310\\t..\\t..\\t...\\t...\\r\\n',\n",
       "  b'311\\tuh\\tuh\\tuh\\tuh\\r\\n',\n",
       "  b'312\\tfriend\\tfriend\\tfriend\\tnn1\\r\\n',\n",
       "  b'313\\tokay\\tokay\\tokay\\trr\\r\\n',\n",
       "  b'314\\tfine\\tfine\\tfine\\tjj\\r\\n',\n",
       "  b'315\\tmorning\\tmorning\\tmorning\\tnnt1\\r\\n',\n",
       "  b'316\\t\\'\\t\\'\\t\\'\\t\"@\\r\\n',\n",
       "  b'317\\ttrying\\ttrying\\ttry\\tvvg\\r\\n',\n",
       "  b'318\\ton\\ton\\ton\\trp@_ii\\r\\n',\n",
       "  b'319\\tThanks\\tthanks\\tthanks\\tnn2\\r\\n',\n",
       "  b'320\\tseen\\tseen\\tsee\\tvvn\\r\\n',\n",
       "  b'321\\tdead\\tdead\\tdead\\tjj\\r\\n',\n",
       "  b'322\\twanted\\twanted\\twant\\tvvd\\r\\n',\n",
       "  b'323\\tlot\\tlot\\tlot\\tnn1\\r\\n',\n",
       "  b'324\\tAND\\tand\\tand\\tcc\\r\\n',\n",
       "  b'325\\tmany\\tmany\\tmany\\tda2\\r\\n',\n",
       "  b'326\\tjob\\tjob\\tjob\\tnn1\\r\\n',\n",
       "  b'327\\tlooking\\tlooking\\tlook\\tvvg\\r\\n',\n",
       "  b'328\\twhich\\twhich\\twhich\\tddq\\r\\n',\n",
       "  b'329\\tsame\\tsame\\tsame\\tda\\r\\n',\n",
       "  b'330\\tlook\\tlook\\tlook\\tvvi\\r\\n',\n",
       "  b'331\\t--\\t--\\t--\\t#y\\r\\n',\n",
       "  b'332\\tmuch\\tmuch\\tmuch\\tda1\\r\\n',\n",
       "  b'333\\tHave\\thave\\thave\\tvh0\\r\\n',\n",
       "  b'334\\tFor\\tfor\\tfor\\tif\\r\\n',\n",
       "  b'335\\tlet\\tlet\\tlet\\tvvi\\r\\n',\n",
       "  b'336\\tWait\\twait\\twait\\tvv0\\r\\n',\n",
       "  b'337\\tokay\\tokay\\tokay\\tjj\\r\\n',\n",
       "  b'338\\tso\\tso\\tso\\tcs@_rr\\r\\n',\n",
       "  b'339\\ttoday\\ttoday\\ttoday\\trt\\r\\n',\n",
       "  b'340\\troom\\troom\\troom\\tnn1\\r\\n',\n",
       "  b'341\\tlike\\tlike\\tlike\\tvv0\\r\\n',\n",
       "  b'342\\tTO\\tto\\tto\\tto\\r\\n',\n",
       "  b'343\\thear\\thear\\thear\\tvvi\\r\\n',\n",
       "  b'344\\tTake\\ttake\\ttake\\tvv0\\r\\n',\n",
       "  b'345\\tWhen\\twhen\\twhen\\tcs_rrq\\r\\n',\n",
       "  b'346\\ttogether\\ttogether\\ttogether\\trl\\r\\n',\n",
       "  b'347\\tmay\\tmay\\tmay\\tvm\\r\\n',\n",
       "  b'348\\tknew\\tknew\\tknow\\tvvd\\r\\n',\n",
       "  b'349\\tmuch\\tmuch\\tmuch\\tda1_rr\\r\\n',\n",
       "  b'350\\ttell\\ttell\\ttell\\tvv0\\r\\n',\n",
       "  b'351\\tmother\\tmother\\tmother\\tnn1\\r\\n',\n",
       "  b'352\\tmean\\tmean\\tmean\\tvvi\\r\\n',\n",
       "  b'353\\tCan\\tcan\\tcan\\tvm_vv0%\\r\\n',\n",
       "  b'354\\taround\\taround\\taround\\trp\\r\\n',\n",
       "  b'355\\treal\\treal\\treal\\tjj\\r\\n',\n",
       "  b'356\\tmen\\tmen\\tman\\tnn2\\r\\n',\n",
       "  b'357\\ttonight\\ttonight\\ttonight\\trt\\r\\n',\n",
       "  b'358\\tlook\\tlook\\tlook\\tvv0\\r\\n',\n",
       "  b'359\\tbelieve\\tbelieve\\tbelieve\\tvvi\\r\\n',\n",
       "  b'360\\tcall\\tcall\\tcall\\tvvi\\r\\n',\n",
       "  b'361\\tlove\\tlove\\tlove\\tnn1\\r\\n',\n",
       "  b'362\\tson\\tson\\tson\\tnn1\\r\\n',\n",
       "  b'363\\tAll\\tall\\tall\\tdb\\r\\n',\n",
       "  b'364\\thappened\\thappened\\thappen\\tvvd\\r\\n',\n",
       "  b'365\\tlet\\tlet\\tlet\\tvm21\\r\\n',\n",
       "  b'366\\t\\'\\t\\'\\t\\'\\t\"@_ge\\r\\n',\n",
       "  b'367\\tidea\\tidea\\tidea\\tnn1\\r\\n',\n",
       "  b'368\\tsomeone\\tsomeone\\tsomeone\\tpn1\\r\\n',\n",
       "  b'369\\tsaw\\tsaw\\tsee\\tvvd\\r\\n',\n",
       "  b'370\\twoman\\twoman\\twoman\\tnn1\\r\\n',\n",
       "  b'371\\tnext\\tnext\\tnext\\tmd\\r\\n',\n",
       "  b'372\\tBecause\\tbecause\\tbecause\\tcs\\r\\n',\n",
       "  b'373\\tleave\\tleave\\tleave\\tvvi\\r\\n',\n",
       "  b'374\\tUh\\tuh\\tuh\\tuh\\r\\n',\n",
       "  b'375\\tmyself\\tmyself\\tmyself\\tppx1\\r\\n',\n",
       "  b'376\\tkeep\\tkeep\\tkeep\\tvvi\\r\\n',\n",
       "  b'377\\tfamily\\tfamily\\tfamily\\tnn1\\r\\n',\n",
       "  b'378\\tkind\\tkind\\tkind\\tnn1\\r\\n',\n",
       "  b'379\\tmaybe\\tmaybe\\tmaybe\\trr\\r\\n',\n",
       "  b'380\\tyes\\tyes\\tyes\\tuh\\r\\n',\n",
       "  b'381\\tkill\\tkill\\tkill\\tvvi\\r\\n',\n",
       "  b'382\\tOne\\tone\\tone\\tmc1\\r\\n',\n",
       "  b'383\\tminute\\tminute\\tminute\\tnnt1\\r\\n',\n",
       "  b'384\\ta\\ta\\ta\\trr21\\r\\n',\n",
       "  b'385\\tdays\\tdays\\tday\\tnnt2\\r\\n',\n",
       "  b'386\\twife\\twife\\twife\\tnn1\\r\\n',\n",
       "  b'387\\tSorry\\tsorry\\tsorry\\tjj\\r\\n',\n",
       "  b'388\\ttook\\ttook\\ttake\\tvvd\\r\\n',\n",
       "  b\"389\\t'S\\t's\\tbe\\tvbz\\r\\n\",\n",
       "  b'390\\t*\\t*\\t*\\tfu\\r\\n',\n",
       "  b'391\\tgone\\tgone\\tgo\\tvvn\\r\\n',\n",
       "  b'392\\tSee\\tsee\\tsee\\tvv0\\r\\n',\n",
       "  b'393\\tonly\\tonly\\tonly\\tjj\\r\\n',\n",
       "  b'394\\tfew\\tfew\\tfew\\tda2\\r\\n',\n",
       "  b'395\\tfeel\\tfeel\\tfeel\\tvv0\\r\\n',\n",
       "  b'396\\thuh\\thuh\\thuh\\tuh\\r\\n',\n",
       "  b'397\\tThat\\tthat\\tthat\\tdd1_cst\\r\\n',\n",
       "  b\"398\\tN'T\\tn't\\tn't\\txx\\r\\n\",\n",
       "  b'399\\tsays\\tsays\\tsay\\tvvz\\r\\n',\n",
       "  b'400\\tyet\\tyet\\tyet\\trr\\r\\n',\n",
       "  b'401\\twithout\\twithout\\twithout\\tiw\\r\\n',\n",
       "  b'402\\tnice\\tnice\\tnice\\tjj\\r\\n',\n",
       "  b'403\\tGive\\tgive\\tgive\\tvv0\\r\\n',\n",
       "  b'404\\tto\\tto\\tto\\tii22\\r\\n',\n",
       "  b'405\\tguess\\tguess\\tguess\\tvv0\\r\\n',\n",
       "  b'406\\thead\\thead\\thead\\tnn1\\r\\n',\n",
       "  b'407\\tOK\\tok\\tok\\trr\\r\\n',\n",
       "  b'408\\tfucking\\tfucking\\tfucking\\tjj\\r\\n',\n",
       "  b'409\\twrong\\twrong\\twrong\\tjj_rr@\\r\\n',\n",
       "  b'410\\tfriends\\tfriends\\tfriend\\tnn2\\r\\n',\n",
       "  b'411\\tbusiness\\tbusiness\\tbusiness\\tnn1\\r\\n',\n",
       "  b'412\\tat\\tat\\tat\\trr21\\r\\n',\n",
       "  b'413\\tin\\tin\\tin\\trp@_ii\\r\\n',\n",
       "  b'414\\task\\task\\task\\tvvi\\r\\n',\n",
       "  b'415\\twan\\twan\\twan\\tvv0\\r\\n',\n",
       "  b'416\\twhole\\twhole\\twhole\\tjj\\r\\n',\n",
       "  b'417\\tschool\\tschool\\tschool\\tnn1\\r\\n',\n",
       "  b'418\\talready\\talready\\talready\\trr\\r\\n',\n",
       "  b'419\\tListen\\tlisten\\tlisten\\tvv0\\r\\n',\n",
       "  b'420\\tput\\tput\\tput\\tvvi\\r\\n',\n",
       "  b'421\\tneed\\tneed\\tneed\\tvvi\\r\\n',\n",
       "  b'422\\tunderstand\\tunderstand\\tunderstand\\tvvi\\r\\n',\n",
       "  b'423\\twhen\\twhen\\twhen\\trrq_cs\\r\\n',\n",
       "  b'424\\tgive\\tgive\\tgive\\tvv0\\r\\n',\n",
       "  b'425\\t\\'\\t\\'\\t\\'\\tge_\"@\\r\\n',\n",
       "  b'426\\tmade\\tmade\\tmake\\tvvd\\r\\n',\n",
       "  b'427\\tA\\ta\\ta\\tat1_zz1\\r\\n',\n",
       "  b'428\\tlet\\tlet\\tlet\\tvv0\\r\\n',\n",
       "  b'429\\tTell\\ttell\\ttell\\tvv0\\r\\n',\n",
       "  b'430\\tmake\\tmake\\tmake\\tvv0\\r\\n',\n",
       "  b'431\\tbeautiful\\tbeautiful\\tbeautiful\\tjj\\r\\n',\n",
       "  b'432\\tbetter\\tbetter\\tbetter\\trrr\\r\\n',\n",
       "  b'433\\tdoor\\tdoor\\tdoor\\tnn1\\r\\n',\n",
       "  b'434\\tsuch\\tsuch\\tsuch\\tda\\r\\n',\n",
       "  b'435\\tA\\ta\\ta\\tat1@_zz1\\r\\n',\n",
       "  b'436\\tago\\tago\\tago\\tra\\r\\n',\n",
       "  b'437\\twork\\twork\\twork\\tnn1\\r\\n',\n",
       "  b'438\\tthrough\\tthrough\\tthrough\\tii\\r\\n',\n",
       "  b'439\\tAh\\tah\\tah\\tuh\\r\\n',\n",
       "  b'440\\tStop\\tstop\\tstop\\tvv0\\r\\n',\n",
       "  b'441\\tstay\\tstay\\tstay\\tvvi\\r\\n',\n",
       "  b'442\\ttomorrow\\ttomorrow\\ttomorrow\\trt\\r\\n',\n",
       "  b'443\\tstop\\tstop\\tstop\\tvvi\\r\\n',\n",
       "  b\"444\\t's\\t's\\t's\\tge_vbz\\r\\n\",\n",
       "  b'445\\twants\\twants\\twant\\tvvz\\r\\n',\n",
       "  b'446\\tone\\tone\\tone\\tpn1_mc1\\r\\n',\n",
       "  b'447\\tyear\\tyear\\tyear\\tnnt1\\r\\n',\n",
       "  b'448\\tMiss\\tmiss\\tmiss\\tnnb\\r\\n',\n",
       "  b'449\\tOf\\tof\\tof\\trr21\\r\\n',\n",
       "  b'450\\tDad\\tdad\\tdad\\tnn1\\r\\n',\n",
       "  b'451\\tproblem\\tproblem\\tproblem\\tnn1\\r\\n',\n",
       "  b'452\\tactually\\tactually\\tactually\\trr\\r\\n',\n",
       "  b'453\\tgot\\tgot\\tget\\tvvd_vvn\\r\\n',\n",
       "  b'454\\tTo\\tto\\tto\\tto\\r\\n',\n",
       "  b'455\\thappy\\thappy\\thappy\\tjj\\r\\n',\n",
       "  b'456\\tme\\tme\\t--\\t#nnu\\r\\n',\n",
       "  b'457\\tNo\\tno\\tno\\tat\\r\\n',\n",
       "  b'458\\tsaying\\tsaying\\tsay\\tvvg\\r\\n',\n",
       "  b'459\\tright\\tright\\tright\\trr\\r\\n',\n",
       "  b'460\\tfeel\\tfeel\\tfeel\\tvvi\\r\\n',\n",
       "  b'461\\tmeet\\tmeet\\tmeet\\tvvi\\r\\n',\n",
       "  b'462\\twhere\\twhere\\twhere\\tcs_rrq\\r\\n',\n",
       "  b'463\\tkids\\tkids\\tkid\\tnn2\\r\\n',\n",
       "  b'464\\tcrazy\\tcrazy\\tcrazy\\tjj\\r\\n',\n",
       "  b'465\\tbrother\\tbrother\\tbrother\\tnn1\\r\\n',\n",
       "  b'466\\tyoung\\tyoung\\tyoung\\tjj\\r\\n',\n",
       "  b'467\\tas\\tas\\tas\\trg\\r\\n',\n",
       "  b'468\\thand\\thand\\thand\\tnn1\\r\\n',\n",
       "  b'469\\tworry\\tworry\\tworry\\tvvi\\r\\n',\n",
       "  b'470\\twork\\twork\\twork\\tvvi\\r\\n',\n",
       "  b'471\\theart\\theart\\theart\\tnn1\\r\\n',\n",
       "  b'472\\tbefore\\tbefore\\tbefore\\tcs\\r\\n',\n",
       "  b'473\\tstuff\\tstuff\\tstuff\\tnn1\\r\\n',\n",
       "  b'474\\tOF\\tof\\tof\\tio\\r\\n',\n",
       "  b'475\\tlittle\\tlittle\\tlittle\\trr22\\r\\n',\n",
       "  b'476\\thaving\\thaving\\thave\\tvhg\\r\\n',\n",
       "  b'477\\twhen\\twhen\\twhen\\tcs\\r\\n',\n",
       "  b'478\\tkid\\tkid\\tkid\\tnn1\\r\\n',\n",
       "  b'479\\ttry\\ttry\\ttry\\tvvi\\r\\n',\n",
       "  b'480\\tOr\\tor\\tor\\tcc\\r\\n',\n",
       "  b'481\\tNothing\\tnothing\\tnothing\\tpn1\\r\\n',\n",
       "  b'482\\tWith\\twith\\twith\\tiw\\r\\n',\n",
       "  b'483\\tWould\\twould\\twould\\tvm\\r\\n',\n",
       "  b'484\\tminutes\\tminutes\\tminute\\tnnt2\\r\\n',\n",
       "  b'485\\tpart\\tpart\\tpart\\tnn1\\r\\n',\n",
       "  b\"486\\t's\\t's\\tbe\\tvbz_ge\\r\\n\",\n",
       "  b'487\\tmind\\tmind\\tmind\\tnn1\\r\\n',\n",
       "  b'488\\twait\\twait\\twait\\tvv0\\r\\n',\n",
       "  b'489\\tup\\tup\\tup\\trp_ii@\\r\\n',\n",
       "  b'490\\tbest\\tbest\\tbest\\tjjt\\r\\n',\n",
       "  b'491\\tThere\\tthere\\tthere\\trl\\r\\n',\n",
       "  b'492\\teyes\\teyes\\teye\\tnn2\\r\\n',\n",
       "  b'493\\tremember\\tremember\\tremember\\tvv0\\r\\n',\n",
       "  b'494\\tReally\\treally\\treally\\trr\\r\\n',\n",
       "  b'495\\ttown\\ttown\\ttown\\tnn1\\r\\n',\n",
       "  b'496\\tafraid\\tafraid\\tafraid\\tjj\\r\\n',\n",
       "  b\"497\\t'd\\t'd\\thave\\tvhd\\r\\n\",\n",
       "  b'498\\tprobably\\tprobably\\tprobably\\trr\\r\\n',\n",
       "  b'499\\tenough\\tenough\\tenough\\trr\\r\\n',\n",
       "  b'500\\tcomes\\tcomes\\tcome\\tvvz\\r\\n',\n",
       "  b'501\\tlong\\tlong\\tlong\\tjj\\r\\n',\n",
       "  b'502\\tfuck\\tfuck\\tfuck\\tnn1\\r\\n',\n",
       "  b'503\\tstory\\tstory\\tstory\\tnn1\\r\\n',\n",
       "  b'504\\tanyone\\tanyone\\tanyone\\tpn1\\r\\n',\n",
       "  b'505\\tboys\\tboys\\tboy\\tnn2\\r\\n',\n",
       "  b'506\\tknows\\tknows\\tknow\\tvvz\\r\\n',\n",
       "  b'507\\tNo\\tno\\tno\\tat_uh\\r\\n',\n",
       "  b'508\\tdifferent\\tdifferent\\tdifferent\\tjj\\r\\n',\n",
       "  b'509\\tthank\\tthank\\tthank\\tvv0\\r\\n',\n",
       "  b'510\\tface\\tface\\tface\\tnn1\\r\\n',\n",
       "  b'511\\tJesus\\tjesus\\tjesus\\tnp1\\r\\n',\n",
       "  b'512\\tsomebody\\tsomebody\\tsomebody\\tpn1\\r\\n',\n",
       "  b'513\\tword\\tword\\tword\\tnn1\\r\\n',\n",
       "  b'514\\twater\\twater\\twater\\tnn1\\r\\n',\n",
       "  b'515\\tExcuse\\texcuse\\texcuse\\tvv0\\r\\n',\n",
       "  b'516\\tchance\\tchance\\tchance\\tnn1\\r\\n',\n",
       "  b'517\\ttrue\\ttrue\\ttrue\\tjj\\r\\n',\n",
       "  b'518\\tMr\\tmr\\tmr\\tnnb\\r\\n',\n",
       "  b'519\\tgave\\tgave\\tgive\\tvvd\\r\\n',\n",
       "  b'520\\ts\\ts\\ts\\tzz1\\r\\n',\n",
       "  b'521\\thands\\thands\\thand\\tnn2\\r\\n',\n",
       "  b'522\\thad\\thad\\thave\\tvhn\\r\\n',\n",
       "  b'523\\tweek\\tweek\\tweek\\tnnt1\\r\\n',\n",
       "  b'524\\tMrs\\tmrs\\t--\\t#nnb\\r\\n',\n",
       "  b'525\\teverybody\\teverybody\\teverybody\\tpn1\\r\\n',\n",
       "  b'526\\tmost\\tmost\\tmost\\trgt\\r\\n',\n",
       "  b'527\\tgoes\\tgoes\\tgo\\tvvz\\r\\n',\n",
       "  b'528\\tfive\\tfive\\tfive\\tmc\\r\\n',\n",
       "  b'529\\tcare\\tcare\\tcare\\tnn1\\r\\n',\n",
       "  b'530\\tgame\\tgame\\tgame\\tnn1\\r\\n',\n",
       "  b'531\\tIS\\tis\\tbe\\tvbz\\r\\n',\n",
       "  b'532\\tlook\\tlook\\tlook\\tvv0_nn1\\r\\n',\n",
       "  b'533\\ttimes\\ttimes\\ttime\\tnnt2\\r\\n',\n",
       "  b'534\\tmakes\\tmakes\\tmake\\tvvz\\r\\n',\n",
       "  b'535\\talso\\talso\\talso\\trr\\r\\n',\n",
       "  b'536\\tDO\\tdo\\tdo\\tvd0\\r\\n',\n",
       "  b'537\\thope\\thope\\thope\\tvv0\\r\\n',\n",
       "  b'538\\tRight\\tright\\tright\\trr_nn1_jj\\r\\n',\n",
       "  b'539\\tsupposed\\tsupposed\\tsupposed\\tjj\\r\\n',\n",
       "  b'540\\ttaking\\ttaking\\ttake\\tvvg\\r\\n',\n",
       "  b'541\\tMom\\tmom\\tmom\\tnn1\\r\\n',\n",
       "  b'542\\tfound\\tfound\\tfind\\tvvd\\r\\n',\n",
       "  b'543\\tphone\\tphone\\tphone\\tnn1\\r\\n',\n",
       "  b'544\\tmoment\\tmoment\\tmoment\\tnn1\\r\\n',\n",
       "  b'545\\tplay\\tplay\\tplay\\tvvi\\r\\n',\n",
       "  b'546\\tshow\\tshow\\tshow\\tvvi\\r\\n',\n",
       "  b'547\\tkeep\\tkeep\\tkeep\\tvv0\\r\\n',\n",
       "  b'548\\tass\\tass\\tass\\tnn1\\r\\n',\n",
       "  b'549\\tWE\\twe\\twe\\tppis2\\r\\n',\n",
       "  b'550\\tgirls\\tgirls\\tgirl\\tnn2\\r\\n',\n",
       "  b'551\\tperson\\tperson\\tperson\\tnn1\\r\\n',\n",
       "  b'552\\timportant\\timportant\\timportant\\tjj\\r\\n',\n",
       "  b'553\\tWHAT\\twhat\\twhat\\tddq\\r\\n',\n",
       "  b'554\\tlooks\\tlooks\\tlook\\tvvz\\r\\n',\n",
       "  b'555\\tagainst\\tagainst\\tagainst\\tii\\r\\n',\n",
       "  b'556\\twhen\\twhen\\twhen\\trrq\\r\\n',\n",
       "  b'557\\tparty\\tparty\\tparty\\tnn1\\r\\n',\n",
       "  b'558\\tchildren\\tchildren\\tchild\\tnn2\\r\\n',\n",
       "  b'559\\tdeath\\tdeath\\tdeath\\tnn1\\r\\n',\n",
       "  b'560\\tside\\tside\\tside\\tnn1\\r\\n',\n",
       "  b'561\\tpolice\\tpolice\\tpolice\\tnn2\\r\\n',\n",
       "  b'562\\tpoint\\tpoint\\tpoint\\tnn1\\r\\n',\n",
       "  b'563\\tfour\\tfour\\tfour\\tmc\\r\\n',\n",
       "  b'564\\ttrouble\\ttrouble\\ttrouble\\tnn1\\r\\n',\n",
       "  b'565\\tTHAT\\tthat\\tthat\\tdd1\\r\\n',\n",
       "  b'566\\tits\\tits\\tits\\tappge\\r\\n',\n",
       "  b'567\\tworking\\tworking\\twork\\tvvg\\r\\n',\n",
       "  b'568\\t-\\t-\\t--\\t#nn1_jj\\r\\n',\n",
       "  b'569\\tJohn\\tjohn\\tjohn\\tnp1\\r\\n',\n",
       "  b'570\\thappen\\thappen\\thappen\\tvvi\\r\\n',\n",
       "  b'571\\theard\\theard\\thear\\tvvd\\r\\n',\n",
       "  b'572\\tdad\\tdad\\tdad\\tnn1\\r\\n',\n",
       "  b'573\\tend\\tend\\tend\\tnn1\\r\\n',\n",
       "  b'574\\tmatter\\tmatter\\tmatter\\tnn1\\r\\n',\n",
       "  b'575\\tlive\\tlive\\tlive\\tvvi\\r\\n',\n",
       "  b'576\\tright\\tright\\tright\\trr_nn1\\r\\n',\n",
       "  b'577\\tmaking\\tmaking\\tmake\\tvvg\\r\\n',\n",
       "  b'578\\tif\\tif\\tif\\tcsw@_cs\\r\\n',\n",
       "  b'579\\tnumber\\tnumber\\tnumber\\tnn1\\r\\n',\n",
       "  b'580\\tgets\\tgets\\tget\\tvvz\\r\\n',\n",
       "  b'581\\tas\\tas\\tas\\tii_csa\\r\\n',\n",
       "  b'582\\tshall\\tshall\\tshall\\tvm\\r\\n',\n",
       "  b'583\\thome\\thome\\thome\\tnn1\\r\\n',\n",
       "  b'584\\tremember\\tremember\\tremember\\tvvi\\r\\n',\n",
       "  b'585\\tcouple\\tcouple\\tcouple\\tnn1\\r\\n',\n",
       "  b'586\\tOn\\ton\\ton\\tii\\r\\n',\n",
       "  b'587\\tIN\\tin\\tin\\tii\\r\\n',\n",
       "  b'588\\tdie\\tdie\\tdie\\tvvi\\r\\n',\n",
       "  b'589\\tthis\\tthis\\tthis\\tdd1_rg%\\r\\n',\n",
       "  b'590\\tback\\tback\\tback\\trp_nn1\\r\\n',\n",
       "  b'591\\tof\\tof\\tof\\trr21\\r\\n',\n",
       "  b'592\\tuse\\tuse\\tuse\\tvvi\\r\\n',\n",
       "  b'593\\tbelieve\\tbelieve\\tbelieve\\tvv0\\r\\n',\n",
       "  b'594\\tTo\\tto\\tto\\tii\\r\\n',\n",
       "  b'595\\tfunny\\tfunny\\tfunny\\tjj\\r\\n',\n",
       "  b'596\\thours\\thours\\thour\\tnnt2\\r\\n',\n",
       "  b'597\\tbed\\tbed\\tbed\\tnn1\\r\\n',\n",
       "  b'598\\tHis\\this\\this\\tappge\\r\\n',\n",
       "  b'599\\tmore\\tmore\\tmore\\trgr\\r\\n',\n",
       "  b'600\\teveryone\\teveryone\\teveryone\\tpn1\\r\\n',\n",
       "  b'601\\tover\\tover\\tover\\tii\\r\\n',\n",
       "  b'602\\tlove\\tlove\\tlove\\tvvi\\r\\n',\n",
       "  b'603\\tused\\tused\\tuse\\tvmk\\r\\n',\n",
       "  b'604\\tHold\\thold\\thold\\tvv0\\r\\n',\n",
       "  b'605\\tHow\\thow\\thow\\trgq@_rrq\\r\\n',\n",
       "  b'606\\tstart\\tstart\\tstart\\tvvi\\r\\n',\n",
       "  b'607\\tbody\\tbody\\tbody\\tnn1\\r\\n',\n",
       "  b'608\\tafter\\tafter\\tafter\\tii_cs\\r\\n',\n",
       "  b'609\\tcountry\\tcountry\\tcountry\\tnn1\\r\\n',\n",
       "  b'610\\tbefore\\tbefore\\tbefore\\trt\\r\\n',\n",
       "  b'611\\tcall\\tcall\\tcall\\tvv0\\r\\n',\n",
       "  b'612\\tem\\tem\\tem\\tfu\\r\\n',\n",
       "  b'613\\texactly\\texactly\\texactly\\trr\\r\\n',\n",
       "  b'614\\tbring\\tbring\\tbring\\tvvi\\r\\n',\n",
       "  b'615\\tyours\\tyours\\tyours\\tppge\\r\\n',\n",
       "  b'616\\tback\\tback\\tback\\tnn1\\r\\n',\n",
       "  b'617\\tanymore\\tanymore\\tanymore\\trr\\r\\n',\n",
       "  b'618\\tgun\\tgun\\tgun\\tnn1\\r\\n',\n",
       "  b'619\\tFuck\\tfuck\\tfuck\\tvv0\\r\\n',\n",
       "  b'620\\tMe\\tme\\tme\\tppio1\\r\\n',\n",
       "  b'621\\tafter\\tafter\\tafter\\tii\\r\\n',\n",
       "  b'622\\tone\\tone\\tone\\tpn122\\r\\n',\n",
       "  b'623\\ti\\ti\\ti\\tzz1_mc1\\r\\n',\n",
       "  b'624\\toff\\toff\\toff\\tii_rp\\r\\n',\n",
       "  b'625\\tlady\\tlady\\tlady\\tnn1\\r\\n',\n",
       "  b'626\\tmore\\tmore\\tmore\\trrr_dar\\r\\n',\n",
       "  b'627\\tmore\\tmore\\tmore\\tdar_rrr\\r\\n',\n",
       "  b'628\\they\\they\\they\\tuh\\r\\n',\n",
       "  b'629\\tTHIS\\tthis\\tthis\\tdd1\\r\\n',\n",
       "  b'630\\tpretty\\tpretty\\tpretty\\trg\\r\\n',\n",
       "  b'631\\twar\\twar\\twar\\tnn1\\r\\n',\n",
       "  b'632\\tcare\\tcare\\tcare\\tvvi\\r\\n',\n",
       "  b'633\\tsoon\\tsoon\\tsoon\\trr\\r\\n',\n",
       "  b'634\\tunderstand\\tunderstand\\tunderstand\\tvv0\\r\\n',\n",
       "  b'635\\toff\\toff\\toff\\trp_ii\\r\\n',\n",
       "  b'636\\tThese\\tthese\\tthese\\tdd2\\r\\n',\n",
       "  b'637\\tVery\\tvery\\tvery\\trg\\r\\n',\n",
       "  b'638\\tDoes\\tdoes\\tdo\\tvdz\\r\\n',\n",
       "  b'639\\twan\\twan\\twan\\tvvi\\r\\n',\n",
       "  b'640\\twomen\\twomen\\twoman\\tnn2\\r\\n',\n",
       "  b'641\\tmade\\tmade\\tmake\\tvvn\\r\\n',\n",
       "  b'642\\tcase\\tcase\\tcase\\tnn1\\r\\n',\n",
       "  b'643\\tover\\tover\\tover\\trp_ii\\r\\n',\n",
       "  b'644\\trest\\trest\\trest\\tnn1\\r\\n',\n",
       "  b'645\\thusband\\thusband\\thusband\\tnn1\\r\\n',\n",
       "  b'646\\tDr\\tdr\\t--\\t#nnb\\r\\n',\n",
       "  b'647\\tdog\\tdog\\tdog\\tnn1\\r\\n',\n",
       "  b'648\\tlisten\\tlisten\\tlisten\\tvv0\\r\\n',\n",
       "  b'649\\talmost\\talmost\\talmost\\trr\\r\\n',\n",
       "  b'650\\tof\\tof\\tof\\tii33\\r\\n',\n",
       "  b'651\\tanybody\\tanybody\\tanybody\\tpn1\\r\\n',\n",
       "  b'652\\tline\\tline\\tline\\tnn1\\r\\n',\n",
       "  b'653\\twaiting\\twaiting\\twait\\tvvg\\r\\n',\n",
       "  b\"654\\t've\\t've\\thave\\tvhi\\r\\n\",\n",
       "  b'655\\talone\\talone\\talone\\tjj\\r\\n',\n",
       "  b'656\\tShit\\tshit\\tshit\\tnn1\\r\\n',\n",
       "  b'657\\ttruth\\ttruth\\ttruth\\tnn1\\r\\n',\n",
       "  b'658\\tA\\ta\\ta\\tat1@\\r\\n',\n",
       "  b'659\\tchild\\tchild\\tchild\\tnn1\\r\\n',\n",
       "  b'660\\tfind\\tfind\\tfind\\tvv0\\r\\n',\n",
       "  b'661\\tbetter\\tbetter\\tbetter\\tjjr\\r\\n',\n",
       "  b'662\\tSome\\tsome\\tsome\\tdd\\r\\n',\n",
       "  b'663\\tup\\tup\\tup\\tii21\\r\\n',\n",
       "  b'664\\tunder\\tunder\\tunder\\tii\\r\\n',\n",
       "  b'665\\twait\\twait\\twait\\tvvi\\r\\n',\n",
       "  b'666\\tquestion\\tquestion\\tquestion\\tnn1\\r\\n',\n",
       "  b'667\\tmusic\\tmusic\\tmusic\\tnn1\\r\\n',\n",
       "  b'668\\tHE\\the\\the\\tpphs1\\r\\n',\n",
       "  b'669\\tKeep\\tkeep\\tkeep\\tvv0\\r\\n',\n",
       "  b'670\\tmove\\tmove\\tmove\\tvvi\\r\\n',\n",
       "  b'671\\tIT\\tit\\tit\\tpph1@_nn1\\r\\n',\n",
       "  b'672\\tTwo\\ttwo\\ttwo\\tmc\\r\\n',\n",
       "  b'673\\tUm\\tum\\tum\\tuh\\r\\n',\n",
       "  b'674\\tas\\tas\\tas\\tcs33\\r\\n',\n",
       "  b'675\\tcome\\tcome\\tcome\\tvvn\\r\\n',\n",
       "  b'676\\thoney\\thoney\\thoney\\tnn1\\r\\n',\n",
       "  b'677\\tpay\\tpay\\tpay\\tvvi\\r\\n',\n",
       "  b'678\\tof\\tof\\tof\\trr22\\r\\n',\n",
       "  b'679\\t-\\t-\\t--\\t#jj_nn1\\r\\n',\n",
       "  b'680\\tcan\\tcan\\tcan\\tvm_vv0%\\r\\n',\n",
       "  b'681\\tin\\tin\\tin\\tii_rp%\\r\\n',\n",
       "  b'682\\ttelling\\ttelling\\ttell\\tvvg\\r\\n',\n",
       "  b'683\\treason\\treason\\treason\\tnn1\\r\\n',\n",
       "  b'684\\tdaughter\\tdaughter\\tdaughter\\tnn1\\r\\n',\n",
       "  b'685\\tleast\\tleast\\tleast\\trr22\\r\\n',\n",
       "  b'686\\teat\\teat\\teat\\tvvi\\r\\n',\n",
       "  b'687\\thear\\thear\\thear\\tvv0\\r\\n',\n",
       "  b'688\\tbetter\\tbetter\\tbetter\\trrr_jjr\\r\\n',\n",
       "  b'689\\thow\\thow\\thow\\trgq@_rrq\\r\\n',\n",
       "  b'690\\tmonths\\tmonths\\tmonth\\tnnt2\\r\\n',\n",
       "  b'691\\tMan\\tman\\tman\\tnn1\\r\\n',\n",
       "  b'692\\tmom\\tmom\\tmom\\tnn1\\r\\n',\n",
       "  b'693\\twish\\twish\\twish\\tvv0\\r\\n',\n",
       "  b'694\\tNew\\tnew\\tnew\\tnp1\\r\\n',\n",
       "  b'695\\tover\\tover\\tover\\tii_rp\\r\\n',\n",
       "  b'696\\tlong\\tlong\\tlong\\trr_jj\\r\\n',\n",
       "  b'697\\tuntil\\tuntil\\tuntil\\tcs\\r\\n',\n",
       "  b'698\\tFOR\\tfor\\tfor\\tif\\r\\n',\n",
       "  b'699\\table\\table\\table\\tjk\\r\\n',\n",
       "  b'700\\tblood\\tblood\\tblood\\tnn1\\r\\n',\n",
       "  b'701\\tthinking\\tthinking\\tthink\\tvvg\\r\\n',\n",
       "  b'702\\tlike\\tlike\\tlike\\trr\\r\\n',\n",
       "  b'703\\tanyway\\tanyway\\tanyway\\trr\\r\\n',\n",
       "  b'704\\twhere\\twhere\\twhere\\trrq_cs\\r\\n',\n",
       "  b'705\\tbook\\tbook\\tbook\\tnn1\\r\\n',\n",
       "  b'706\\tahead\\tahead\\tahead\\trl\\r\\n',\n",
       "  b'707\\tMY\\tmy\\tmy\\tappge\\r\\n',\n",
       "  b'708\\tsure\\tsure\\tsure\\tjj_rr%\\r\\n',\n",
       "  b'709\\tbetween\\tbetween\\tbetween\\tii\\r\\n',\n",
       "  b'710\\toffice\\toffice\\toffice\\tnn1\\r\\n',\n",
       "  b'711\\tleft\\tleft\\tleave\\tvvd\\r\\n',\n",
       "  b'712\\tquite\\tquite\\tquite\\trg\\r\\n',\n",
       "  b'713\\tshow\\tshow\\tshow\\tnn1\\r\\n',\n",
       "  b'714\\tstupid\\tstupid\\tstupid\\tjj\\r\\n',\n",
       "  b'715\\toh\\toh\\toh\\tuh\\r\\n',\n",
       "  b'716\\tlike\\tlike\\tlike\\tii_vv0@\\r\\n',\n",
       "  b'717\\tOur\\tour\\tour\\tappge\\r\\n',\n",
       "  b'718\\tTO\\tto\\tto\\tii\\r\\n',\n",
       "  b'719\\tNever\\tnever\\tnever\\trr\\r\\n',\n",
       "  b'720\\tfood\\tfood\\tfood\\tnn1\\r\\n',\n",
       "  b'721\\tdoctor\\tdoctor\\tdoctor\\tnn1\\r\\n',\n",
       "  b'722\\talive\\talive\\talive\\tjj\\r\\n',\n",
       "  b'723\\tother\\tother\\tother\\tppx222\\r\\n',\n",
       "  b'724\\teach\\teach\\teach\\tppx221\\r\\n',\n",
       "  b'725\\tthere\\tthere\\tthere\\tex_rl\\r\\n',\n",
       "  b'726\\tonce\\tonce\\tonce\\trr\\r\\n',\n",
       "  b'727\\tstarted\\tstarted\\tstart\\tvvd\\r\\n',\n",
       "  b'728\\tsister\\tsister\\tsister\\tnn1\\r\\n',\n",
       "  b'729\\tabout\\tabout\\tabout\\tii_rp@\\r\\n',\n",
       "  b'730\\tWhoa\\twhoa\\twhoa\\tuh\\r\\n',\n",
       "  b'731\\tGreat\\tgreat\\tgreat\\tjj\\r\\n',\n",
       "  b'732\\twhile\\twhile\\twhile\\tcs\\r\\n',\n",
       "  b'733\\tWas\\twas\\tbe\\tvbdz\\r\\n',\n",
       "  b'734\\tWAS\\twas\\tbe\\tvbdz\\r\\n',\n",
       "  b'735\\tsix\\tsix\\tsix\\tmc\\r\\n',\n",
       "  b'736\\tbit\\tbit\\tbit\\tnn1\\r\\n',\n",
       "  b'737\\twhatever\\twhatever\\twhatever\\tddqv\\r\\n',\n",
       "  b'738\\tJack\\tjack\\tjack\\tnp1\\r\\n',\n",
       "  b'739\\tto\\tto\\tto\\tii_to\\r\\n',\n",
       "  b'740\\thour\\thour\\thour\\tnnt1\\r\\n',\n",
       "  b'741\\tBye\\tbye\\tbye\\tuh\\r\\n',\n",
       "  b'742\\tasked\\tasked\\task\\tvvd\\r\\n',\n",
       "  b'743\\tfull\\tfull\\tfull\\tjj\\r\\n',\n",
       "  b'744\\tEverything\\teverything\\teverything\\tpn1\\r\\n',\n",
       "  b'745\\thot\\thot\\thot\\tjj\\r\\n',\n",
       "  b'746\\tto\\tto\\tto\\tii@\\r\\n',\n",
       "  b'747\\tin\\tin\\tin\\tii31\\r\\n',\n",
       "  b'748\\tSay\\tsay\\tsay\\tvv0\\r\\n',\n",
       "  b'749\\tlate\\tlate\\tlate\\tjj\\r\\n',\n",
       "  b'750\\tready\\tready\\tready\\tjj\\r\\n',\n",
       "  b'751\\tback\\tback\\tback\\tnn1_rp\\r\\n',\n",
       "  b'752\\tAt\\tat\\tat\\tii\\r\\n',\n",
       "  b'753\\tdinner\\tdinner\\tdinner\\tnn1\\r\\n',\n",
       "  b'754\\tCould\\tcould\\tcould\\tvm\\r\\n',\n",
       "  b'755\\tYOUR\\tyour\\tyour\\tappge\\r\\n',\n",
       "  b'756\\tpower\\tpower\\tpower\\tnn1\\r\\n',\n",
       "  b\"757\\t'M\\t'm\\tbe\\tvbm\\r\\n\",\n",
       "  b'758\\thimself\\thimself\\thimself\\tppx1\\r\\n',\n",
       "  b'759\\tShut\\tshut\\tshut\\tvv0\\r\\n',\n",
       "  b'760\\tMAN\\tman\\tman\\tnn1\\r\\n',\n",
       "  b'761\\trun\\trun\\trun\\tvvi\\r\\n',\n",
       "  b'762\\tfact\\tfact\\tfact\\tnn1\\r\\n',\n",
       "  b'763\\tas\\tas\\tas\\tcsa_ii@\\r\\n',\n",
       "  b'764\\tHow\\thow\\thow\\trgq@\\r\\n',\n",
       "  b'765\\tnews\\tnews\\tnews\\tnn1\\r\\n',\n",
       "  b'766\\tlater\\tlater\\tlater\\trrr\\r\\n',\n",
       "  b'767\\tME\\tme\\tme\\tppio1\\r\\n',\n",
       "  b'768\\tcity\\tcity\\tcity\\tnn1\\r\\n',\n",
       "  b'769\\tmind\\tmind\\tmind\\tvvi\\r\\n',\n",
       "  b'770\\tseems\\tseems\\tseem\\tvvz\\r\\n',\n",
       "  b'771\\tdeal\\tdeal\\tdeal\\tnn1\\r\\n',\n",
       "  b'772\\tSir\\tsir\\tsir\\tnn1\\r\\n',\n",
       "  b'773\\tbitch\\tbitch\\tbitch\\tnn1\\r\\n',\n",
       "  b'774\\tHuh\\thuh\\thuh\\tuh\\r\\n',\n",
       "  b'775\\tWow\\twow\\twow\\tuh\\r\\n',\n",
       "  b'776\\tum\\tum\\tum\\tuh\\r\\n',\n",
       "  b'777\\tglad\\tglad\\tglad\\tjj\\r\\n',\n",
       "  b'778\\tluck\\tluck\\tluck\\tnn1\\r\\n',\n",
       "  b'779\\tserious\\tserious\\tserious\\tjj\\r\\n',\n",
       "  b'780\\tfire\\tfire\\tfire\\tnn1\\r\\n',\n",
       "  b'781\\tthanks\\tthanks\\tthanks\\tnn2\\r\\n',\n",
       "  b'782\\twonderful\\twonderful\\twonderful\\tjj\\r\\n',\n",
       "  b'783\\tnobody\\tnobody\\tnobody\\tpn1\\r\\n',\n",
       "  b'784\\tChristmas\\tchristmas\\tchristmas\\tnnt1\\r\\n',\n",
       "  b'785\\tHelp\\thelp\\thelp\\tvv0\\r\\n',\n",
       "  b'786\\tlook\\tlook\\tlook\\tnn1\\r\\n',\n",
       "  b'787\\tCan\\tcan\\tcan\\tvm\\r\\n',\n",
       "  b'788\\tJoe\\tjoe\\tjoe\\tnp1\\r\\n',\n",
       "  b'789\\tcalled\\tcalled\\tcall\\tvvn\\r\\n',\n",
       "  b'790\\thard\\thard\\thard\\tjj\\r\\n',\n",
       "  b'791\\t1\\t1\\t1\\tmc1\\r\\n',\n",
       "  b'792\\tfree\\tfree\\tfree\\tjj\\r\\n',\n",
       "  b'793\\tput\\tput\\tput\\tvv0_vvd\\r\\n',\n",
       "  b'794\\thappens\\thappens\\thappen\\tvvz\\r\\n',\n",
       "  b'795\\ttaken\\ttaken\\ttake\\tvvn\\r\\n',\n",
       "  b'796\\tnice\\tnice\\tnice\\tjj_rr@\\r\\n',\n",
       "  b'797\\tforget\\tforget\\tforget\\tvvi\\r\\n',\n",
       "  b\"798\\t'RE\\t're\\tbe\\tvbr\\r\\n\",\n",
       "  b'799\\thair\\thair\\thair\\tnn1\\r\\n',\n",
       "  b'800\\tPut\\tput\\tput\\tvv0\\r\\n',\n",
       "  b'801\\tplaying\\tplaying\\tplay\\tvvg\\r\\n',\n",
       "  b'802\\tYork\\tyork\\tyork\\tnp1\\r\\n',\n",
       "  b'803\\tBE\\tbe\\tbe\\tvbi\\r\\n',\n",
       "  b'804\\tHow\\thow\\thow\\trrq_rgq@\\r\\n',\n",
       "  b'805\\tgentlemen\\tgentlemen\\tgentleman\\tnn2\\r\\n',\n",
       "  b'806\\tspeak\\tspeak\\tspeak\\tvvi\\r\\n',\n",
       "  b'807\\theard\\theard\\thear\\tvvn\\r\\n',\n",
       "  b'808\\tstay\\tstay\\tstay\\tvv0\\r\\n',\n",
       "  b'809\\thate\\thate\\thate\\tvv0\\r\\n',\n",
       "  b'810\\tfrom\\tfrom\\tfrom\\tii22_ii\\r\\n',\n",
       "  b'811\\tSure\\tsure\\tsure\\trr\\r\\n',\n",
       "  b'812\\t10\\t10\\t10\\tmc\\r\\n',\n",
       "  b'813\\ttried\\ttried\\ttry\\tvvd\\r\\n',\n",
       "  b'814\\taway\\taway\\taway\\tii21_rl\\r\\n',\n",
       "  b'815\\tleave\\tleave\\tleave\\tvv0\\r\\n',\n",
       "  b'816\\tmuch\\tmuch\\tmuch\\trr\\r\\n',\n",
       "  b'817\\tmine\\tmine\\tmine\\tppge\\r\\n',\n",
       "  b'818\\tWhen\\twhen\\twhen\\trrq\\r\\n',\n",
       "  b'819\\tabout\\tabout\\tabout\\trg\\r\\n',\n",
       "  b'820\\tweeks\\tweeks\\tweek\\tnnt2\\r\\n',\n",
       "  b'821\\tSomething\\tsomething\\tsomething\\tpn1\\r\\n',\n",
       "  b'822\\tCa\\tca\\tcan\\tvm\\r\\n',\n",
       "  b'823\\tmillion\\tmillion\\tmillion\\tnno\\r\\n',\n",
       "  b'824\\tas\\tas\\tas\\tii\\r\\n',\n",
       "  b'825\\there\\there\\there\\trl22\\r\\n',\n",
       "  b'826\\tchange\\tchange\\tchange\\tvvi\\r\\n',\n",
       "  b'827\\tsince\\tsince\\tsince\\tcs\\r\\n',\n",
       "  b'828\\tfeet\\tfeet\\tfoot\\tnn2\\r\\n',\n",
       "  b'829\\tspecial\\tspecial\\tspecial\\tjj\\r\\n',\n",
       "  b'830\\tparents\\tparents\\tparent\\tnn2\\r\\n',\n",
       "  b'831\\tteam\\tteam\\tteam\\tnn1\\r\\n',\n",
       "  b'832\\tbuy\\tbuy\\tbuy\\tvvi\\r\\n',\n",
       "  b'833\\tBy\\tby\\tby\\tii\\r\\n',\n",
       "  b'834\\tNobody\\tnobody\\tnobody\\tpn1\\r\\n',\n",
       "  b'835\\tmeans\\tmeans\\tmean\\tvvz\\r\\n',\n",
       "  b'836\\thelp\\thelp\\thelp\\tnn1\\r\\n',\n",
       "  b'837\\tNo\\tno\\t--\\t#nn1\\r\\n',\n",
       "  b'838\\tOH\\toh\\toh\\tuh\\r\\n',\n",
       "  b'839\\tWhich\\twhich\\twhich\\tddq\\r\\n',\n",
       "  b'840\\taround\\taround\\taround\\trp_ii\\r\\n',\n",
       "  b'841\\tbefore\\tbefore\\tbefore\\tii_cs\\r\\n',\n",
       "  b'842\\tsense\\tsense\\tsense\\tnn1\\r\\n',\n",
       "  b'843\\tall\\tall\\tall\\trr@_db\\r\\n',\n",
       "  b'844\\tsmall\\tsmall\\tsmall\\tjj\\r\\n',\n",
       "  b'845\\tEverybody\\teverybody\\teverybody\\tpn1\\r\\n',\n",
       "  b'846\\tGeorge\\tgeorge\\tgeorge\\tnp1\\r\\n',\n",
       "  b'847\\tHmm\\thmm\\thmm\\tuh\\r\\n',\n",
       "  b'848\\twords\\twords\\tword\\tnn2\\r\\n',\n",
       "  b'849\\tRight\\tright\\tright\\trr_nn1\\r\\n',\n",
       "  b'850\\tevening\\tevening\\tevening\\tnnt1\\r\\n',\n",
       "  b'851\\tfucking\\tfucking\\tfucking\\trr\\r\\n',\n",
       "  b'852\\tStay\\tstay\\tstay\\tvv0\\r\\n',\n",
       "  b'853\\tthat\\tthat\\tthat\\tcs22\\r\\n',\n",
       "  b'854\\ttold\\ttold\\ttell\\tvvn\\r\\n',\n",
       "  b'855\\tall\\tall\\tall\\trr22\\r\\n',\n",
       "  b'856\\tdrink\\tdrink\\tdrink\\tnn1\\r\\n',\n",
       "  b'857\\tbehind\\tbehind\\tbehind\\tii\\r\\n',\n",
       "  b'858\\tpiece\\tpiece\\tpiece\\tnn1\\r\\n',\n",
       "  b'859\\twill\\twill\\twill\\tvm_vv0%\\r\\n',\n",
       "  b'860\\tdied\\tdied\\tdie\\tvvd\\r\\n',\n",
       "  b'861\\tFrom\\tfrom\\tfrom\\tii\\r\\n',\n",
       "  b'862\\tleaving\\tleaving\\tleave\\tvvg\\r\\n',\n",
       "  b'863\\tturn\\tturn\\tturn\\tvvi\\r\\n',\n",
       "  b'864\\tair\\tair\\tair\\tnn1\\r\\n',\n",
       "  b'865\\tneeds\\tneeds\\tneed\\tvvz\\r\\n',\n",
       "  b'866\\tcompany\\tcompany\\tcompany\\tnn1\\r\\n',\n",
       "  b'867\\tmuch\\tmuch\\tmuch\\trr_da1\\r\\n',\n",
       "  b'868\\tdarling\\tdarling\\tdarling\\tnn1\\r\\n',\n",
       "  b'869\\tsick\\tsick\\tsick\\tjj\\r\\n',\n",
       "  b'870\\tlong\\tlong\\tlong\\trr\\r\\n',\n",
       "  b'871\\tDaddy\\tdaddy\\tdaddy\\tnn1\\r\\n',\n",
       "  b'872\\tNOT\\tnot\\tnot\\txx\\r\\n',\n",
       "  b'873\\tso\\tso\\tso\\trr_rg\\r\\n',\n",
       "  b'874\\tMake\\tmake\\tmake\\tvv0\\r\\n',\n",
       "  b'875\\ttry\\ttry\\ttry\\tvv0\\r\\n',\n",
       "  b'876\\talong\\talong\\talong\\trp\\r\\n',\n",
       "  b'877\\troad\\troad\\troad\\tnn1\\r\\n',\n",
       "  b'878\\tARE\\tare\\tbe\\tvbr\\r\\n',\n",
       "  b'879\\tt\\tt\\tt\\tzz1\\r\\n',\n",
       "  b'880\\tknown\\tknown\\tknow\\tvvn\\r\\n',\n",
       "  b'881\\tlike\\tlike\\tlike\\tii_jj@\\r\\n',\n",
       "  b'882\\tA\\ta\\ta\\tzz1_at1@\\r\\n',\n",
       "  b'883\\tcome\\tcome\\tcome\\tvv0_vvn@\\r\\n',\n",
       "  b'884\\tmovie\\tmovie\\tmovie\\tnn1\\r\\n',\n",
       "  b'885\\tPeople\\tpeople\\tpeople\\tnn\\r\\n',\n",
       "  b'886\\t20\\t20\\t20\\tmc\\r\\n',\n",
       "  b'887\\tpicture\\tpicture\\tpicture\\tnn1\\r\\n',\n",
       "  b'888\\tif\\tif\\tif\\tcs22\\r\\n',\n",
       "  b'889\\tcall\\tcall\\tcall\\tnn1\\r\\n',\n",
       "  b'890\\tready\\tready\\tready\\tjj_rr@\\r\\n',\n",
       "  b'891\\tBe\\tbe\\tbe\\tvb0\\r\\n',\n",
       "  b'892\\tright\\tright\\tright\\tjj_nn1\\r\\n',\n",
       "  b'893\\tall\\tall\\tall\\trr\\r\\n',\n",
       "  b'894\\tChrist\\tchrist\\tchrist\\tnp1\\r\\n',\n",
       "  b'895\\tblack\\tblack\\tblack\\tjj\\r\\n',\n",
       "  b'896\\tEvery\\tevery\\tevery\\tat1\\r\\n',\n",
       "  b'897\\t-\\t-\\t--\\t#nn1\\r\\n',\n",
       "  b'898\\tsomewhere\\tsomewhere\\tsomewhere\\trl\\r\\n',\n",
       "  b'899\\tperfect\\tperfect\\tperfect\\tjj\\r\\n',\n",
       "  b'900\\twhite\\twhite\\twhite\\tjj\\r\\n',\n",
       "  b'901\\tRemember\\tremember\\tremember\\tvv0\\r\\n',\n",
       "  b'902\\tenough\\tenough\\tenough\\trr_dd\\r\\n',\n",
       "  b'903\\tpossible\\tpossible\\tpossible\\tjj\\r\\n',\n",
       "  b'904\\thigh\\thigh\\thigh\\tjj\\r\\n',\n",
       "  b'905\\tWITH\\twith\\twith\\tiw\\r\\n',\n",
       "  b'906\\tJUST\\tjust\\tjust\\trr\\r\\n',\n",
       "  b'907\\tthrough\\tthrough\\tthrough\\tii_rp@\\r\\n',\n",
       "  b'908\\tCharlie\\tcharlie\\tcharlie\\tnp1\\r\\n',\n",
       "  b'909\\tas\\tas\\tas\\tcs31\\r\\n',\n",
       "  b'910\\tThat\\tthat\\tthat\\tcst\\r\\n',\n",
       "  b'911\\tstand\\tstand\\tstand\\tvvi\\r\\n',\n",
       "  b'912\\tthat\\tthat\\tthat\\trg\\r\\n',\n",
       "  b'913\\t2\\t2\\t2\\tmc\\r\\n',\n",
       "  b'914\\tSam\\tsam\\tsam\\tnp1\\r\\n',\n",
       "  b'915\\teye\\teye\\teye\\tnn1\\r\\n',\n",
       "  b'916\\tkilled\\tkilled\\tkill\\tvvd\\r\\n',\n",
       "  b'917\\tFirst\\tfirst\\tfirst\\tmd\\r\\n',\n",
       "  b'918\\thurt\\thurt\\thurt\\tvvi\\r\\n',\n",
       "  b'919\\ttakes\\ttakes\\ttake\\tvvz\\r\\n',\n",
       "  b'920\\tsong\\tsong\\tsong\\tnn1\\r\\n',\n",
       "  b'921\\ttoo\\ttoo\\ttoo\\trr@_rg\\r\\n',\n",
       "  b'922\\tcause\\tcause\\tcause\\tnn1_vv0\\r\\n',\n",
       "  b'923\\tsex\\tsex\\tsex\\tnn1\\r\\n',\n",
       "  b'924\\tThose\\tthose\\tthose\\tdd2\\r\\n',\n",
       "  b'925\\tsafe\\tsafe\\tsafe\\tjj\\r\\n',\n",
       "  b'926\\tboth\\tboth\\tboth\\tdb2\\r\\n',\n",
       "  b'927\\twhile\\twhile\\twhile\\tnnt1@\\r\\n',\n",
       "  b'928\\tlucky\\tlucky\\tlucky\\tjj\\r\\n',\n",
       "  b'929\\tsit\\tsit\\tsit\\tvvi\\r\\n',\n",
       "  b'930\\tya\\tya\\tyou\\tppy\\r\\n',\n",
       "  b'931\\ther\\ther\\ther\\tappge_ppho1\\r\\n',\n",
       "  b'932\\tsometimes\\tsometimes\\tsometimes\\trt\\r\\n',\n",
       "  b'933\\taround\\taround\\taround\\tii_rp\\r\\n',\n",
       "  b'934\\tWill\\twill\\twill\\tvm_vv0%\\r\\n',\n",
       "  b'935\\tDavid\\tdavid\\tdavid\\tnp1\\r\\n',\n",
       "  b'936\\tover\\tover\\tover\\trl21\\r\\n',\n",
       "  b'937\\tBUT\\tbut\\tbut\\tccb\\r\\n',\n",
       "  b'938\\tlose\\tlose\\tlose\\tvvi\\r\\n',\n",
       "  b'939\\tasking\\tasking\\task\\tvvg\\r\\n',\n",
       "  b'940\\tAll\\tall\\tall\\tdb_rr@\\r\\n',\n",
       "  b'941\\tsleep\\tsleep\\tsleep\\tvvi\\r\\n',\n",
       "  b'942\\twalk\\twalk\\twalk\\tvvi\\r\\n',\n",
       "  b'943\\tlive\\tlive\\tlive\\tvv0\\r\\n',\n",
       "  b'944\\tpoor\\tpoor\\tpoor\\tjj\\r\\n',\n",
       "  b'945\\tFine\\tfine\\tfine\\tjj\\r\\n',\n",
       "  b'946\\tAny\\tany\\tany\\tdd\\r\\n',\n",
       "  b'947\\tfuckin\\tfuckin\\tfuckin\\trr\\r\\n',\n",
       "  b'948\\t;\\t;\\t;\\t;\\r\\n',\n",
       "  b'949\\tTom\\ttom\\ttom\\tnp1\\r\\n',\n",
       "  b'950\\thold\\thold\\thold\\tvvi\\r\\n',\n",
       "  b'951\\tstreet\\tstreet\\tstreet\\tnn1\\r\\n',\n",
       "  b'952\\tAlright\\talright\\talright\\trr\\r\\n',\n",
       "  b'953\\tfar\\tfar\\tfar\\trr\\r\\n',\n",
       "  b'954\\tsuppose\\tsuppose\\tsuppose\\tvv0\\r\\n',\n",
       "  b'955\\tTHEY\\tthey\\tthey\\tpphs2\\r\\n',\n",
       "  b'956\\tright\\tright\\tright\\tnn1_rr\\r\\n',\n",
       "  b'957\\tquestions\\tquestions\\tquestion\\tnn2\\r\\n',\n",
       "  b'958\\tothers\\tothers\\tothers\\tnn2\\r\\n',\n",
       "  b'959\\tNO\\tno\\tno\\tuh\\r\\n',\n",
       "  b'960\\task\\task\\task\\tvv0\\r\\n',\n",
       "  b'961\\tsend\\tsend\\tsend\\tvvi\\r\\n',\n",
       "  b'962\\tFather\\tfather\\tfather\\tnn1\\r\\n',\n",
       "  b'963\\tHERE\\there\\there\\trl\\r\\n',\n",
       "  b'964\\tOf\\tof\\tof\\tio\\r\\n',\n",
       "  b'965\\ttired\\ttired\\ttired\\tjj\\r\\n',\n",
       "  b'966\\tstop\\tstop\\tstop\\tvv0\\r\\n',\n",
       "  b'967\\tmouth\\tmouth\\tmouth\\tnn1\\r\\n',\n",
       "  b'968\\tlaw\\tlaw\\tlaw\\tnn1\\r\\n',\n",
       "  b'969\\twrong\\twrong\\twrong\\tjj\\r\\n',\n",
       "  b'970\\tThree\\tthree\\tthree\\tmc\\r\\n',\n",
       "  b'971\\tkidding\\tkidding\\tkid\\tvvg\\r\\n',\n",
       "  b'972\\tAs\\tas\\tas\\tcsa\\r\\n',\n",
       "  b'973\\tIT\\tit\\tit\\tnn1_pph1@\\r\\n',\n",
       "  b'974\\tcoffee\\tcoffee\\tcoffee\\tnn1\\r\\n',\n",
       "  b'975\\tplan\\tplan\\tplan\\tnn1\\r\\n',\n",
       "  b'976\\tAmerica\\tamerica\\tamerica\\tnp1\\r\\n',\n",
       "  b'977\\tAn\\tan\\ta\\tat1\\r\\n',\n",
       "  b'978\\tmad\\tmad\\tmad\\tjj\\r\\n',\n",
       "  b'979\\tsave\\tsave\\tsave\\tvvi\\r\\n',\n",
       "  b'980\\tgod\\tgod\\tgod\\tnn1\\r\\n',\n",
       "  b'981\\tMove\\tmove\\tmove\\tvv0\\r\\n',\n",
       "  b'982\\tha\\tha\\tha\\tuh\\r\\n',\n",
       "  b'983\\tfault\\tfault\\tfault\\tnn1\\r\\n',\n",
       "  b'984\\tdear\\tdear\\tdear\\tuh\\r\\n',\n",
       "  b'985\\tPaul\\tpaul\\tpaul\\tnp1\\r\\n',\n",
       "  b'986\\tdown\\tdown\\tdown\\trp_ii@\\r\\n',\n",
       "  b'987\\tboat\\tboat\\tboat\\tnn1\\r\\n',\n",
       "  b'988\\tI\\ti\\ti\\tppis1_zz1%\\r\\n',\n",
       "  b'989\\tmet\\tmet\\tmeet\\tvvd\\r\\n',\n",
       "  b'990\\tOoh\\tooh\\tooh\\tuh\\r\\n',\n",
       "  b'991\\tMary\\tmary\\tmary\\tnp1\\r\\n',\n",
       "  b'992\\tpick\\tpick\\tpick\\tvvi\\r\\n',\n",
       "  b'993\\tMichael\\tmichael\\tmichael\\tnp\\r\\n',\n",
       "  b'994\\tinside\\tinside\\tinside\\trl\\r\\n',\n",
       "  b'995\\tSit\\tsit\\tsit\\tvv0\\r\\n',\n",
       "  b\"996\\tone's\\tones\\tone\\tnn2\\r\\n\",\n",
       "  b'997\\tSure\\tsure\\tsure\\tjj\\r\\n',\n",
       "  ...],\n",
       " 'movies_sources.txt': [b'textID\\tfileID\\t#words\\tgenre\\tdate\\tcountry\\tlanguage(s)\\tIMDB\\ttitle\\r\\n',\n",
       "  b'-----\\t-----\\t-----\\t-----\\t-----\\t-----\\t-----\\t-----\\t-----\\r\\n',\n",
       "  b'\\r\\n',\n",
       "  b'20641\\t176501\\t11140\\tDrama, Romance\\t1930\\tUSA\\tEnglish\\t0020641\\tAnna Christie\\r\\n',\n",
       "  b'22241\\t5992934\\t7426\\tDrama\\t1931\\tUSA\\tEnglish\\t0022241\\tOver the Hill\\r\\n',\n",
       "  b'25641\\t4613561\\t238\\tAnimation, Short, Comedy\\t1934\\tUSA\\tEnglish\\t0025641\\tPeculiar Penguins\\r\\n',\n",
       "  b'26641\\t3639561\\t7536\\tComedy, Drama, Family\\t1935\\tUSA\\tEnglish\\t0026641\\tThe Littlest Rebel\\r\\n',\n",
       "  b'26941\\t4613564\\t330\\tAnimation, Comedy, Family\\t1935\\tUSA\\tEnglish\\t0026941\\tThe Robber Kitten\\r\\n',\n",
       "  b'27441\\t3097530\\t9379\\tComedy, Crime, Mystery\\t1936\\tUSA\\tEnglish, Cantonese\\t0027441\\tCharlie Chan at the Race Track\\r\\n',\n",
       "  b'28141\\t6458656\\t7936\\tBiography, Drama, History\\t1936\\tUSA\\tEnglish\\t0028141\\tThe Prisoner of Shark Island\\r\\n',\n",
       "  b'30341\\t3148641\\t10157\\tMystery, Thriller\\t1938\\tUK\\tEnglish, German, French, Italian\\t0030341\\tThe Lady Vanishes\\r\\n',\n",
       "  b'30241\\t5192290\\t13428\\tComedy, Romance\\t1938\\tUSA\\tEnglish\\t0030241\\tHoliday\\r\\n',\n",
       "  b\"31241\\t3656878\\t114\\tFamily, Animation, Comedy\\t1939\\tUSA\\tEnglish\\t0031241\\tDonald's Cousin Gus\\r\\n\",\n",
       "  b'34241\\t4257286\\t7265\\tComedy, Music, Romance\\t1941\\tUSA\\tEnglish\\t0034241\\tSun Valley Serenade\\r\\n',\n",
       "  b'36241\\t4799965\\t8999\\tComedy, Drama, Romance\\t1943\\tUSA\\tEnglish, Spanish\\t0036241\\tThe Outlaw\\r\\n',\n",
       "  b'36341\\t6510398\\t7481\\tDrama, Horror, Mystery\\t1943\\tUSA\\tEnglish, Italian, Latin, French\\t0036341\\tThe Seventh Victim\\r\\n',\n",
       "  b'36441\\t6691593\\t445\\tAnimation, Family, Short\\t1943\\tUSA\\tEnglish\\t0036441\\tTin Pan Alley Cats\\r\\n',\n",
       "  b'36641\\t3589306\\t1628\\tMystery, Drama, Fantasy\\t1944\\tUSA\\tEnglish\\t0036641\\tBetween Two Worlds\\r\\n',\n",
       "  b'39941\\t5243442\\t12111\\tDrama, Film-Noir, Mystery\\t1947\\tUSA\\tEnglish\\t0039941\\tThe Unsuspected\\r\\n',\n",
       "  b'41841\\t5883516\\t8230\\tAction, Drama, Romance, War\\t1949\\tUSA\\tEnglish\\t0041841\\tSands of Iwo Jima\\r\\n',\n",
       "  b'42041\\t4671350\\t10109\\tAction, Crime, Drama\\t1949\\tUSA\\tEnglish\\t0042041\\tWhite Heat\\r\\n',\n",
       "  b'42541\\t6017201\\t10879\\tComedy\\t1950\\tUK\\tEnglish\\t0042541\\tThe Happiest Days of Your Life\\r\\n',\n",
       "  b'44941\\t4788308\\t14126\\tDrama\\t1952\\tUSA\\tEnglish\\t0044941\\tMy Son John\\r\\n',\n",
       "  b'44841\\t3557993\\t494\\tFamily, Animation, Short\\t1952\\tUSA\\tEnglish\\t0044841\\tThe Little House\\r\\n',\n",
       "  b'45941\\t6648679\\t6519\\tDrama, History, War\\t1953\\tUSA\\tEnglish\\t0045941\\tThe Juggler\\r\\n',\n",
       "  b'48441\\t6520352\\t5513\\tMusical\\t1955\\tUK\\tEnglish\\t0048441\\tOh... Rosalinda!!\\r\\n',\n",
       "  b'51141\\t6776618\\t10417\\tDrama, Romance, War\\t1957\\tUSA\\tEnglish\\t0051141\\tUntil They Sail\\r\\n',\n",
       "  b'52141\\t6349778\\t10092\\tComedy\\t1958\\tUSA\\tEnglish\\t0052141\\tRock-a-Bye Baby\\r\\n',\n",
       "  b'53041\\t6333252\\t7804\\tDrama, Horror, Sci-Fi\\t1959\\tUK\\tEnglish\\t0053041\\tThe Man Who Could Cheat Death\\r\\n',\n",
       "  b'53841\\t3838558\\t15025\\tDrama, Romance\\t1960\\tUSA\\tEnglish\\t0053841\\tFrom the Terrace\\r\\n',\n",
       "  b'54641\\t4063067\\t4422\\tAdventure, Fantasy\\t1961\\tItaly, France\\tEnglish, Italian\\t0054641\\tJourney Beneath the Desert\\r\\n',\n",
       "  b'56141\\t6711210\\t12992\\tDrama, Romance\\t1962\\tUK\\tEnglish, German\\t0056141\\tA Kind of Loving\\r\\n',\n",
       "  b'56541\\t3419585\\t12581\\tDrama\\t1962\\tUSA\\tEnglish\\t0056541\\tSweet Bird of Youth\\r\\n',\n",
       "  b'56241\\t3992313\\t6703\\tBiography, Drama\\t1962\\tUSA\\tEnglish, American Sign Language\\t0056241\\tThe Miracle Worker\\r\\n',\n",
       "  b'59641\\t5841175\\t11355\\tAction, Drama, Sport\\t1965\\tUSA\\tEnglish\\t0059641\\tRed Line 7000\\r\\n',\n",
       "  b'60841\\t4592570\\t6350\\tHorror\\t1966\\tUK\\tEnglish\\t0060841\\tThe Plague of the Zombies\\r\\n',\n",
       "  b'62341\\t4865083\\t4943\\tAction, Adventure\\t1967\\tSwitzerland, USA\\tEnglish\\t0062341\\tTarzan and the Great River\\r\\n',\n",
       "  b'62141\\t6747461\\t13606\\tDrama\\t1967\\tUK\\tEnglish\\t0062141\\tPoor Cow\\r\\n',\n",
       "  b'62741\\t7008578\\t4604\\tAdventure, Crime\\t1968\\tSpain, West Germany, UK, USA\\tEnglish, German\\t0062741\\tThe Blood of Fu Manchu\\r\\n',\n",
       "  b'63141\\t5888026\\t6617\\tBiography, Drama, Music\\t1968\\tUK, France\\tEnglish\\t0063141\\tIsadora\\r\\n',\n",
       "  b'63341\\t6326694\\t9608\\tFamily, Comedy, Crime\\t1968\\tUSA\\tEnglish\\t0063341\\tNever a Dull Moment\\r\\n',\n",
       "  b'64541\\t117722\\t11129\\tDrama, Family\\t1969\\tUK\\tEnglish\\t0064541\\tKes\\r\\n',\n",
       "  b'64041\\t6101321\\t11183\\tDrama, Romance\\t1969\\tUSA\\tEnglish\\t0064041\\tThe Arrangement\\r\\n',\n",
       "  b'67541\\t4782831\\t5581\\tDrama, Thriller\\t1971\\tAustralia, USA, UK\\tEnglish\\t0067541\\tWake in Fright\\r\\n',\n",
       "  b'66141\\t5795415\\t5429\\tCrime, Thriller, Horror\\t1971\\tSweden, USA\\tEnglish\\t0066141\\tThe Night Visitor\\r\\n',\n",
       "  b'67141\\t3654524\\t4780\\tAdventure, Sci-Fi\\t1971\\tUSA\\tEnglish\\t0067141\\tGlen and Randa\\r\\n',\n",
       "  b\"67341\\t4843810\\t4025\\tDrama, Horror, Mystery\\t1971\\tUSA\\tEnglish\\t0067341\\tLet's Scare Jessica to Death\\r\\n\",\n",
       "  b'67741\\t37855\\t6507\\tAction, Crime, Thriller\\t1971\\tUSA\\tEnglish\\t0067741\\tShaft\\r\\n',\n",
       "  b'68341\\t3494483\\t11244\\tCrime, Drama\\t1972\\tFrance, Italy, USA\\tEnglish, Italian\\t0068341\\tThe Valachi Papers\\r\\n',\n",
       "  b'69341\\t3155231\\t4289\\tHorror\\t1972\\tUK, USA\\tEnglish\\t0069341\\tTales from the Crypt\\r\\n',\n",
       "  b'73341\\t3287491\\t7775\\tAdventure\\t1975\\tUK, USA\\tEnglish\\t0073341\\tThe Man Who Would Be King\\r\\n',\n",
       "  b'74441\\t5393824\\t8276\\tComedy, Western\\t1976\\tUSA\\tEnglish, Hebrew, French, German\\t0074441\\tThe Duchess and the Dirtwater Fox\\r\\n',\n",
       "  b'76341\\t5992403\\t3662\\tComedy, Drama\\t1977\\tPhilippines\\tEnglish\\t0076341\\tPerfumed Nightmare\\r\\n',\n",
       "  b'76141\\t3614724\\t8012\\tComedy\\t1977\\tUSA\\tEnglish\\t0076141\\tHigh Anxiety\\r\\n',\n",
       "  b'78841\\t3626284\\t9317\\tComedy, Drama\\t1979\\tUSA, West Germany\\tEnglish, Russian, Italian\\t0078841\\tBeing There\\r\\n',\n",
       "  b'80741\\t3141659\\t5779\\tDocumentary, Sport\\t1980\\tHong Kong, USA\\tEnglish\\t0080741\\tFist of Fear, Touch of Death\\r\\n',\n",
       "  b'80641\\t5468989\\t6078\\tAction, Adventure, Drama\\t1980\\tUK\\tEnglish\\t0080641\\tThe Dogs of War\\r\\n',\n",
       "  b'83641\\t3680162\\t10670\\tComedy, Drama, Romance\\t1982\\tUSA\\tEnglish, Spanish\\t0083641\\tBest Friends\\r\\n',\n",
       "  b'86541\\t3134239\\t6318\\tHorror, Sci-Fi, Thriller\\t1983\\tCanada\\tEnglish\\t0086541\\tVideodrome\\r\\n',\n",
       "  b\"89841\\t4964321\\t10000\\tComedy, Crime, Drama\\t1985\\tUSA\\tEnglish\\t0089841\\tPrizzi's Honor\\r\\n\",\n",
       "  b'89941\\t3689889\\t7598\\tAction, Adventure, Drama, Thriller\\t1985\\tUSA\\tEnglish\\t0089941\\tRunaway Train\\r\\n',\n",
       "  b'91541\\t4142541\\t10242\\tComedy\\t1986\\tUSA\\tEnglish, Spanish, Chinese\\t0091541\\tThe Money Pit\\r\\n',\n",
       "  b'92641\\t6449781\\t5393\\tAction, Crime, Drama\\t1987\\tUSA\\tEnglish\\t0092641\\tBest Seller\\r\\n',\n",
       "  b'198341\\t143744\\t10627\\tDrama, Horror, Thriller\\t1987\\tUSA\\tEnglish\\t0198341\\tBody Count\\r\\n',\n",
       "  b'96341\\t6406360\\t8634\\tHorror, Sci-Fi\\t1988\\tUSA\\tEnglish\\t0096341\\tUninvited\\r\\n',\n",
       "  b'95341\\t5542280\\t13467\\tDocumentary, Biography\\t1988\\tWest Germany, France, USA\\tEnglish, Spanish, French, German\\t0095341\\tH\\x93tel Terminus\\r\\n',\n",
       "  b'98141\\t4972639\\t4596\\tAction, Crime, Drama\\t1989\\tAustralia, USA\\tEnglish\\t0098141\\tThe Punisher\\r\\n',\n",
       "  b'97441\\t3557370\\t7098\\tBiography, Drama, History\\t1989\\tUSA\\tEnglish\\t0097441\\tGlory\\r\\n',\n",
       "  b'99141\\t3157381\\t8852\\tAction, Comedy\\t1990\\tUSA\\tEnglish\\t0099141\\tBird on a Wire\\r\\n',\n",
       "  b'100641\\t7036483\\t9027\\tDrama, Crime\\t1990\\tUSA\\tEnglish\\t0100641\\tSmall Time\\r\\n',\n",
       "  b'103241\\t5061156\\t10116\\tComedy\\t1991\\tUSA\\tEnglish\\t0103241\\tWhat About Bob?\\r\\n',\n",
       "  b'106341\\t3572086\\t5100\\tComedy, Crime, Drama\\t1993\\tAustralia, Italy\\tEnglish\\t0106341\\tBad Boy Bubby\\r\\n',\n",
       "  b'106941\\t3300799\\t11016\\tComedy, Drama, Romance\\t1993\\tUSA\\tEnglish\\t0106941\\tFor Love or Money\\r\\n',\n",
       "  b'219841\\t3546832\\t3598\\tDocumentary, Short\\t1994\\tUK\\tEnglish\\t0219841\\tJosef von Sternberg, the Man Who Made Dietrich\\r\\n',\n",
       "  b'112541\\t3378717\\t12230\\tComedy\\t1995\\tUSA\\tEnglish\\t0112541\\tBlue in the Face\\r\\n',\n",
       "  b'113041\\t3094716\\t13924\\tComedy, Family, Romance\\t1995\\tUSA\\tEnglish\\t0113041\\tFather of the Bride Part II\\r\\n',\n",
       "  b'112641\\t203601\\t26152\\tCrime, Drama\\t1995\\tUSA, France\\tEnglish\\t0112641\\tCasino\\r\\n',\n",
       "  b'115641\\t5132258\\t8456\\tAnimation, Adventure, Comedy\\t1996\\tUSA\\tEnglish, Spanish, Hindi\\t0115641\\tBeavis and Butt-Head Do America\\r\\n',\n",
       "  b'246641\\t3300733\\t8744\\tDocumentary, Comedy\\t1996\\tUSA\\tEnglish\\t0246641\\tGeorge Carlin: Back in Town\\r\\n',\n",
       "  b'116441\\t4398492\\t13456\\tBiography, Crime, Drama\\t1996\\tUSA, Canada\\tEnglish\\t0116441\\tGotti\\r\\n',\n",
       "  b'119141\\t3824955\\t8615\\tComedy, Drama, Romance\\t1997\\tUSA\\tEnglish, Spanish\\t0119141\\tFools Rush In\\r\\n',\n",
       "  b'120241\\t87989\\t14506\\tComedy, Drama, Mystery, Thriller, Crime\\t1997\\tUSA\\tEnglish\\t0120241\\tSuicide Kings\\r\\n',\n",
       "  b'118541\\t116834\\t10119\\tComedy, Crime\\t1997\\tUSA, UK\\tEnglish, Spanish\\t0118541\\t8 Heads in a Duffel Bag\\r\\n',\n",
       "  b'171741\\t173500\\t5870\\tDrama, War\\t1998\\tCanada, USA\\tEnglish\\t0171741\\tShot Through the Heart\\r\\n',\n",
       "  b'167341\\t3705947\\t2915\\tAdventure, Family, Drama\\t1998\\tFinland\\tEnglish, Finnish\\t0167341\\tPoika ja ilves\\r\\n',\n",
       "  b'194341\\t5763918\\t704\\tShort\\t1998\\tN/A\\tN/A\\t0194341\\tThe Second Bakery Attack\\r\\n',\n",
       "  b'164841\\t3169563\\t8669\\tDrama\\t1998\\tUK\\tEnglish\\t0164841\\tA Rather English Marriage\\r\\n',\n",
       "  b'118441\\t118560\\t8105\\tComedy\\t1998\\tUK, USA\\tEnglish\\t0118441\\tRPM\\r\\n',\n",
       "  b'175541\\t197055\\t6078\\tComedy, Drama\\t1998\\tUSA\\tEnglish\\t0175541\\tCrocodile Tears\\r\\n',\n",
       "  b'138541\\t5158622\\t5980\\tCrime, Drama, Thriller\\t1998\\tUSA\\tEnglish\\t0138541\\tJudas Kiss\\r\\n',\n",
       "  b'120741\\t240430\\t7363\\tComedy, Crime\\t1998\\tUSA\\tEnglish, Italian\\t0120741\\tMafia!\\r\\n',\n",
       "  b'120841\\t3361360\\t5963\\tAction, Horror, Sci-Fi, Thriller\\t1998\\tUSA\\tEnglish\\t0120841\\tSpecies II\\r\\n',\n",
       "  b'172341\\t4927870\\t4609\\tWestern\\t1998\\tUSA, Spain\\tEnglish\\t0172341\\tDollar for the Dead\\r\\n',\n",
       "  b\"217641\\t4288799\\t5177\\tDocumentary\\t1999\\tUK\\tEnglish\\t0217641\\tThe Making of 'Walking with Dinosaurs'\\r\\n\",\n",
       "  b'122541\\t5737999\\t10386\\tComedy, Romance\\t1999\\tUK, France, USA\\tEnglish\\t0122541\\tAn Ideal Husband\\r\\n',\n",
       "  b'274041\\t5062779\\t4066\\tComedy, Crime\\t1999\\tUSA\\tEnglish\\t0274041\\tRed Silk\\r\\n',\n",
       "  b'218141\\t3896765\\t4447\\tDrama, Fantasy, Mystery\\t2000\\tCanada, Germany\\tEnglish\\t0218141\\tDeeply\\r\\n',\n",
       "  b'211941\\t7028477\\t5891\\tDrama\\t2000\\tUSA\\tEnglish\\t0211941\\tBeat\\r\\n',\n",
       "  b'214641\\t3331215\\t6544\\tAction, Adventure, Comedy\\t2000\\tUSA\\tEnglish\\t0214641\\tDragonheart: A New Beginning\\r\\n',\n",
       "  b\"260141\\t3546752\\t2533\\tN/A\\t2000\\tUSA\\tEnglish\\t0260141\\tLocked Up Down Shorty's\\r\\n\",\n",
       "  b\"308541\\t4827571\\t2856\\tDocumentary, Short\\t2000\\tUSA\\tEnglish\\t0308541\\tThe Making of 'Evil Dead II' or The Gore the Merrier\\r\\n\",\n",
       "  b'156841\\t6219998\\t12944\\tComedy, Drama, Romance\\t2000\\tUSA\\tEnglish, French\\t0156841\\tThe Next Best Thing\\r\\n',\n",
       "  b'202641\\t7018952\\t11661\\tComedy, Drama, Romance\\t2000\\tUSA\\tEnglish\\t0202641\\tTwo Family House\\r\\n',\n",
       "  b'291341\\t3134368\\t8429\\tComedy, Crime, Drama\\t2001\\tUK, USA\\tEnglish\\t0291341\\tMean Machine\\r\\n',\n",
       "  b'288441\\t4091251\\t3625\\tAnimation, Family, Musical, Romance\\t2001\\tUSA\\tEnglish\\t0288441\\tBarbie in the Nutcracker\\r\\n',\n",
       "  b'282541\\t3265140\\t7598\\tComedy, Documentary\\t2001\\tUSA\\tEnglish\\t0282541\\tHail Sid Caesar! The Golden Age of Comedy\\r\\n',\n",
       "  b'239641\\t5530524\\t5292\\tHorror, Thriller, Sci-Fi\\t2001\\tUSA\\tEnglish\\t0239641\\tMimic 2\\r\\n',\n",
       "  b'269341\\t213973\\t9842\\tComedy, Romance\\t2001\\tUSA\\tEnglish\\t0269341\\tTwo Can Play That Game\\r\\n',\n",
       "  b'311941\\t117380\\t6209\\tComedy, Drama\\t2002\\tCanada, USA\\tEnglish, German\\t0311941\\tTry Seventeen\\r\\n',\n",
       "  b'284741\\t4904523\\t8546\\tBiography, Drama, History\\t2002\\tNetherlands, Italy, Germany, USA\\tEnglish\\t0284741\\tCaesar\\r\\n',\n",
       "  b'258841\\t3659993\\t5067\\tHorror, Thriller\\t2002\\tUK\\tEnglish\\t0258841\\tNine Tenths\\r\\n',\n",
       "  b\"324941\\t39804\\t6743\\tAnimation, Adventure, Comedy, Family, Musical\\t2002\\tUSA\\tEnglish\\t0324941\\t101 Dalmatians 2: Patch's London Adventure\\r\\n\",\n",
       "  b'273041\\t3546690\\t3499\\tHorror, Mystery, Thriller\\t2002\\tUSA\\tEnglish\\t0273041\\t13th Child\\r\\n',\n",
       "  b'353341\\t215439\\t2903\\tComedy, Horror\\t2002\\tUSA\\tEnglish\\t0353341\\tDead/Undead\\r\\n',\n",
       "  b'329241\\t4619183\\t12138\\tDocumentary\\t2002\\tUSA\\tEnglish\\t0329241\\tJoan Crawford: The Ultimate Movie Star\\r\\n',\n",
       "  b'277941\\t52059\\t13722\\tAction, Adventure, Biography\\t2003\\tAustralia, UK, USA, France\\tEnglish\\t0277941\\tNed Kelly\\r\\n',\n",
       "  b'320241\\t176341\\t4320\\tDrama\\t2003\\tUSA\\tEnglish\\t0320241\\tParticles of Truth\\r\\n',\n",
       "  b\"337741\\t3130499\\t11726\\tComedy, Drama, Romance\\t2003\\tUSA\\tEnglish, French\\t0337741\\tSomething's Gotta Give\\r\\n\",\n",
       "  b'306841\\t52485\\t7870\\tAdventure, Comedy, Family\\t2003\\tUSA\\tEnglish, Italian\\t0306841\\tThe Lizzie McGuire Movie\\r\\n',\n",
       "  b'387541\\t85498\\t9360\\tAction, Adventure, Drama\\t2004\\tGermany, UK, South Africa, Italy\\tEnglish\\t0387541\\tCurse of the Ring\\r\\n',\n",
       "  b\"318641\\t3681074\\t6522\\tComedy\\t2004\\tUK\\tEnglish\\t0318641\\tThe Rutles 2: Can't Buy Me Lunch\\r\\n\",\n",
       "  b'304141\\t3290054\\t9787\\tAdventure, Family, Fantasy\\t2004\\tUK, USA\\tEnglish\\t0304141\\tHarry Potter and the Prisoner of Azkaban\\r\\n',\n",
       "  b'361841\\t226748\\t12481\\tComedy, Romance, Drama\\t2004\\tUSA\\tEnglish\\t0361841\\tLittle Black Book\\r\\n',\n",
       "  b'427541\\t3367118\\t2713\\tDocumentary\\t2004\\tUSA\\tEnglish\\t0427541\\tMiles Electric: A Different Kind of Blue\\r\\n',\n",
       "  b'418141\\t6672813\\t6197\\tAnimation, Adventure, Comedy\\t2004\\tUSA\\tEnglish\\t0418141\\tScooby-Doo and the Loch Ness Monster\\r\\n',\n",
       "  b'334541\\t3159624\\t6564\\tAction, Adventure, Comedy\\t2004\\tUSA\\tEnglish\\t0334541\\tTremors 4: The Legend Begins\\r\\n',\n",
       "  b'428441\\t3312121\\t14147\\tDocumentary\\t2004\\tUSA, Japan, UK\\tEnglish\\t0428441\\tThe Cutting Edge: The Magic of Movie Editing\\r\\n',\n",
       "  b'376541\\t3180633\\t7317\\tDrama, Romance\\t2004\\tUSA, UK\\tEnglish\\t0376541\\tCloser\\r\\n',\n",
       "  b'369441\\t3149417\\t8531\\tComedy, Crime\\t2005\\tUSA\\tEnglish, Spanish\\t0369441\\tFun with Dick and Jane\\r\\n',\n",
       "  b'386741\\t3082270\\t4172\\tAnimation, Action, Sci-Fi\\t2006\\tFrance, Luxembourg, UK\\tEnglish, French\\t0386741\\tRenaissance\\r\\n',\n",
       "  b'428541\\t3151568\\t6580\\tDrama, Thriller\\t2006\\tUSA\\tEnglish\\t0428541\\tFive Fingers\\r\\n',\n",
       "  b'381341\\t3473714\\t7193\\tComedy\\t2006\\tUSA\\tEnglish\\t0381341\\tKisses and Caroms\\r\\n',\n",
       "  b'454841\\t3167504\\t4807\\tHorror, Thriller\\t2006\\tUSA\\tEnglish\\t0454841\\tThe Hills Have Eyes\\r\\n',\n",
       "  b'469641\\t3087801\\t9297\\tDrama, History, Thriller\\t2006\\tUSA\\tEnglish\\t0469641\\tWorld Trade Center\\r\\n',\n",
       "  b'1062941\\t6006318\\t86\\tShort\\t2007\\tN/A\\tN/A\\t1062941\\tMy Dear Rosetta\\r\\n',\n",
       "  b'968741\\t3338333\\t10513\\tDrama\\t2007\\tUK\\tEnglish\\t0968741\\tFutureshock: Comet\\r\\n',\n",
       "  b'790741\\t3330901\\t10774\\tCrime, Drama, Mystery\\t2007\\tUK\\tEnglish\\t0790741\\tThe Riddle\\r\\n',\n",
       "  b'462441\\t5603931\\t15902\\tDocumentary, Music\\t2007\\tUK, USA\\tEnglish\\t0462441\\tAmazing Journey: The Story of The Who\\r\\n',\n",
       "  b'834941\\t3506069\\t8289\\tAdventure, Family\\t2007\\tUSA\\tEnglish\\t0834941\\tA Plumm Summer\\r\\n',\n",
       "  b'849441\\t3360757\\t9209\\tWestern\\t2007\\tUSA\\tEnglish\\t0849441\\tGhost Town: The Movie\\r\\n',\n",
       "  b\"415141\\t3290227\\t9473\\tComedy, Drama\\t2007\\tUSA\\tEnglish\\t0415141\\tMama's Boy\\r\\n\",\n",
       "  b'481141\\t3175011\\t8316\\tComedy, Drama, Romance\\t2007\\tUSA\\tEnglish\\t0481141\\tNo Reservations\\r\\n',\n",
       "  b'1107841\\t4260330\\t3348\\tDocumentary, Short\\t2007\\tUSA\\tEnglish\\t1107841\\tReturn of the Living Dead: The Dead Have Risen\\r\\n',\n",
       "  b'804541\\t4054650\\t3841\\tThriller, Western\\t2007\\tUSA\\tEnglish\\t0804541\\tShiloh Falls\\r\\n',\n",
       "  b'1234241\\t6646712\\t5436\\tComedy, Horror\\t2008\\tAustralia\\tEnglish\\t1234241\\tBloodspit\\r\\n',\n",
       "  b'1029241\\t3487457\\t2898\\tDrama, Horror, Thriller\\t2008\\tFrance, Belgium, UK, Australia\\tEnglish, Thai\\t1029241\\tVinyan\\r\\n',\n",
       "  b'479341\\t3566580\\t8212\\tDrama, War\\t2008\\tGermany, USA, Israel\\tEnglish\\t0479341\\tAdam Resurrected\\r\\n',\n",
       "  b'800241\\t3353045\\t7073\\tCrime, Drama, Mystery, Thriller\\t2008\\tUK, Germany, Spain, Lithuania\\tEnglish, Russian, Spanish, Chinese, French\\t0800241\\tTranssiberian\\r\\n',\n",
       "  b'954541\\t3265602\\t10600\\tComedy\\t2008\\tUSA\\tEnglish, German\\t0954541\\tBachelor Party 2: The Last Temptation\\r\\n',\n",
       "  b\"1798141\\t5138357\\t4403\\tAnimation\\t2008\\tUSA\\tEnglish\\t1798141\\tDisney's Christmas Favorites\\r\\n\",\n",
       "  b'1249441\\t3353026\\t86\\tComedy\\t2008\\tUSA\\tEnglish\\t1249441\\tHoochie Mamma Drama\\r\\n',\n",
       "  b'1073241\\t3500832\\t13824\\tCrime, Drama, Mystery\\t2008\\tUSA\\tEnglish\\t1073241\\tNothing But the Truth\\r\\n',\n",
       "  b'815241\\t3423744\\t15260\\tDocumentary, Comedy, War\\t2008\\tUSA\\tEnglish, Hebrew, Arabic, Persian, Spanish\\t0815241\\tReligulous\\r\\n',\n",
       "  b'1189341\\t5719597\\t2330\\tDrama\\t2008\\tUSA\\tEnglish\\t1189341\\tThe Lost Coast\\r\\n',\n",
       "  b'1056441\\t3626320\\t12148\\tComedy, Drama, Romance\\t2008\\tUSA\\tEnglish\\t1056441\\tTru Loved\\r\\n',\n",
       "  b'1068641\\t3507366\\t4491\\tCrime, Drama, Romance\\t2008\\tUSA, Argentina\\tEnglish, Spanish\\t1068641\\tThe Burning Plain\\r\\n',\n",
       "  b'1140941\\t3348011\\t5941\\tCrime, Horror, Romance\\t2008\\tUSA, Canada\\tEnglish\\t1140941\\tJoy Ride 2: Dead Ahead\\r\\n',\n",
       "  b'464041\\t3342117\\t5214\\tDrama, Horror, Mystery, Thriller\\t2008\\tUSA, Canada, UK\\tEnglish\\t0464041\\tThe Lazarus Project\\r\\n',\n",
       "  b'1339641\\t3698161\\t1398\\tDocumentary\\t2009\\tCanada\\tEnglish\\t1339641\\tThe Coca-Cola Case\\r\\n',\n",
       "  b'1031241\\t5210230\\t9645\\tAdventure, Drama, Fantasy\\t2009\\tUK\\tEnglish\\t1031241\\tFrom Time to Time\\r\\n',\n",
       "  b'417741\\t3540265\\t9955\\tAdventure, Family, Fantasy, Mystery\\t2009\\tUK, USA\\tEnglish\\t0417741\\tHarry Potter and the Half-Blood Prince\\r\\n',\n",
       "  b'471041\\t3579947\\t5061\\tAction, Thriller\\t2009\\tUK, USA\\tEnglish\\t0471041\\tThe Tournament\\r\\n',\n",
       "  b'993841\\t5532799\\t7285\\tHorror, Sci-Fi, Thriller\\t2009\\tUSA\\tEnglish\\t0993841\\tDead Air\\r\\n',\n",
       "  b'929241\\t3492781\\t5349\\tHorror, Sci-Fi\\t2009\\tUSA\\tEnglish\\t0929241\\tPortal\\r\\n',\n",
       "  b'1398941\\t3572050\\t4183\\tAnimation, Action, Drama\\t2009\\tUSA\\tEnglish\\t1398941\\tSuperman/Batman: Public Enemies\\r\\n',\n",
       "  b'1129441\\t6766000\\t6678\\tComedy, Horror, Thriller\\t2009\\tUSA\\tEnglish\\t1129441\\tThanksKilling\\r\\n',\n",
       "  b'1187041\\t3582904\\t9313\\tComedy, Romance\\t2009\\tUSA\\tEnglish\\t1187041\\tThe Answer Man\\r\\n',\n",
       "  b'1234541\\t3472822\\t6852\\tCrime, Sci-Fi, Thriller\\t2009\\tUSA\\tEnglish\\t1234541\\tThe Butterfly Effect 3: Revelations\\r\\n',\n",
       "  b'960741\\t6864101\\t5472\\tThriller\\t2009\\tUSA\\tEnglish\\t0960741\\tThe Canyon\\r\\n',\n",
       "  b'1456941\\t4050075\\t7381\\tAction, Adventure, Drama\\t2010\\tAustralia\\tEnglish\\t1456941\\tTomorrow, When the War Began\\r\\n',\n",
       "  b'1972641\\t5453821\\t5423\\tAnimation, Short, Family\\t2010\\tNorway, Sweden\\tEnglish\\t1972641\\tThe Last Norwegian Troll\\r\\n',\n",
       "  b'1514041\\t3983999\\t11100\\tCrime, Thriller\\t2010\\tUK\\tEnglish\\t1514041\\t4.3.2.1.\\r\\n',\n",
       "  b'1674741\\t4868469\\t6725\\tDocumentary\\t2010\\tUK\\tEnglish\\t1674741\\tThe Secret Life of Chaos\\r\\n',\n",
       "  b\"1282041\\t5800875\\t4131\\tDrama\\t2010\\tUSA\\tEnglish, Spanish\\t1282041\\tAnton Chekhov's The Duel\\r\\n\",\n",
       "  b'1273241\\t4079070\\t9040\\tCrime, Drama, Thriller\\t2010\\tUSA\\tEnglish\\t1273241\\tBrotherhood\\r\\n',\n",
       "  b'1341341\\t4195898\\t12546\\tComedy, Romance\\t2010\\tUSA\\tEnglish\\t1341341\\tCeremony\\r\\n',\n",
       "  b'1754141\\t4253549\\t8126\\tComedy\\t2010\\tUSA\\tEnglish\\t1754141\\tLiving Will...\\r\\n',\n",
       "  b\"1401241\\t4238278\\t9008\\tAction, Crime, Drama\\t2010\\tUSA\\tEnglish\\t1401241\\tMadso's War\\r\\n\",\n",
       "  b'1478841\\t3861906\\t9961\\tDocumentary\\t2010\\tUSA\\tEnglish\\t1478841\\tThe Buddha\\r\\n',\n",
       "  b'1196141\\t3737502\\t9722\\tComedy, Family\\t2010\\tUSA, UK\\tEnglish, German\\t1196141\\tDiary of a Wimpy Kid\\r\\n',\n",
       "  b'1551641\\t5272248\\t6395\\tBiography, Drama, History\\t2011\\tSouth Africa, Canada\\tEnglish, Xhosa\\t1551641\\tWinnie Mandela\\r\\n',\n",
       "  b'1659341\\t6935779\\t13470\\tDrama\\t2011\\tUSA\\tEnglish\\t1659341\\tCertainty\\r\\n',\n",
       "  b'1999141\\t5169794\\t3342\\tAction, Adventure, Fantasy\\t2011\\tUSA\\tEnglish\\t1999141\\tDragon Crusaders\\r\\n',\n",
       "  b'2096541\\t4785650\\t15191\\tDocumentary\\t2011\\tUSA\\tEnglish\\t2096541\\tMethod to the Madness of Jerry Lewis\\r\\n',\n",
       "  b'1645141\\t6809856\\t10852\\tDrama, Musical\\t2011\\tUSA\\tEnglish\\t1645141\\tSironia\\r\\n',\n",
       "  b'1568341\\t4790461\\t7534\\tComedy, Crime, Drama, Horror, Mystery, Thriller\\t2011\\tUSA\\tEnglish\\t1568341\\tSome Guy Who Kills People\\r\\n',\n",
       "  b'1462041\\t4452183\\t5730\\tDrama, Mystery, Thriller\\t2011\\tUSA, Canada\\tEnglish\\t1462041\\tDream House\\r\\n',\n",
       "  b\"2214941\\t6406633\\t9201\\tHorror, Thriller\\t2012\\tAustralia\\tEnglish\\t2214941\\tDaddy's Little Girl\\r\\n\",\n",
       "  b'2182241\\t5046814\\t6197\\tAction, Thriller\\t2012\\tItaly, Romania, USA\\tEnglish, Italian\\t2182241\\tSins Expiation\\r\\n',\n",
       "  b'2281241\\t5002092\\t5738\\tDrama\\t2012\\tUSA\\tEnglish\\t2281241\\tFirelight\\r\\n',\n",
       "  b\"1995341\\t4958864\\t12667\\tComedy, Drama\\t2012\\tUSA\\tEnglish\\t1995341\\tIt's a Disaster\\r\\n\",\n",
       "  b'2246941\\t5146564\\t8818\\tDrama, Family\\t2012\\tUSA\\tEnglish\\t2246941\\tRaising Izzie\\r\\n',\n",
       "  b'2101441\\t5069275\\t6742\\tCrime, Drama\\t2012\\tUSA\\tEnglish\\t2101441\\tSpring Breakers\\r\\n',\n",
       "  b'1800741\\t4710182\\t7066\\tDrama, Music, Romance\\t2012\\tUSA\\tEnglish\\t1800741\\tStep Up Revolution\\r\\n',\n",
       "  b'1772341\\t4812691\\t10526\\tAnimation, Adventure, Comedy\\t2012\\tUSA\\tEnglish\\t1772341\\tWreck-It Ralph\\r\\n',\n",
       "  b'2322641\\t5570047\\t9512\\tDrama\\t2013\\tAustralia\\tEnglish\\t2322641\\tThe Turning\\r\\n',\n",
       "  b'1847541\\t6406448\\t8873\\tDrama\\t2013\\tAustralia, USA\\tEnglish\\t1847541\\tAround the Block\\r\\n',\n",
       "  b'1540741\\t5492793\\t7544\\tCrime, Drama, Thriller\\t2013\\tUK, USA, Canada\\tEnglish\\t1540741\\tA Single Shot\\r\\n',\n",
       "  b'1800241\\t5562832\\t21968\\tCrime, Drama\\t2013\\tUSA\\tEnglish, Arabic\\t1800241\\tAmerican Hustle\\r\\n',\n",
       "  b'2101341\\t5028554\\t6212\\tAction, Crime, Drama\\t2013\\tUSA\\tEnglish, French, Albanian, Spanish, Hungarian\\t2101341\\tDead Man Down\\r\\n',\n",
       "  b\"1731141\\t5517221\\t8623\\tAction, Adventure, Fantasy\\t2013\\tUSA\\tEnglish\\t1731141\\tEnder's Game\\r\\n\",\n",
       "  b'2364841\\t5446994\\t10600\\tCrime, Thriller\\t2013\\tUSA\\tEnglish, Spanish\\t2364841\\tRunner Runner\\r\\n',\n",
       "  b'2327541\\t6296001\\t6795\\tComedy, Drama\\t2013\\tUSA\\tEnglish\\t2327541\\tThe Big Ask\\r\\n',\n",
       "  b'2334841\\t4835179\\t6492\\tAction, Thriller\\t2013\\tUSA\\tEnglish\\t2334841\\tThe Marine 3: Homefront\\r\\n',\n",
       "  b'1905041\\t5072405\\t8299\\tAction, Crime, Thriller\\t2013\\tUSA, Japan, Spain\\tEnglish, Russian, Spanish, Indonesian, Danish...\\t1905041\\tFast & Furious 6\\r\\n',\n",
       "  b'1403241\\t5860678\\t6685\\tAction, Fantasy, Horror, Thriller\\t2014\\tFrance, Canada\\tEnglish\\t1403241\\tWolves\\r\\n',\n",
       "  b'1641841\\t6127211\\t2609\\tAction, Crime, Thriller\\t2014\\tThailand, Canada, USA\\tEnglish, Thai\\t1641841\\tSkin Trade\\r\\n',\n",
       "  b'2339741\\t6093769\\t4280\\tDrama, Horror, Thriller\\t2014\\tUK, USA, Canada\\tEnglish\\t2339741\\tThe Woman in Black 2: Angel of Death\\r\\n',\n",
       "  b'1698641\\t6011146\\t9831\\tComedy, Family\\t2014\\tUSA\\tEnglish\\t1698641\\tAlexander and the Terrible, Horrible, No Good, Very Bad Day\\r\\n',\n",
       "  b'2141941\\t5984510\\t4932\\tDrama\\t2014\\tUSA\\tEnglish\\t2141941\\tNight Has Settled\\r\\n',\n",
       "  b'2198241\\t5580653\\t8507\\tAction, Crime, Drama\\t2014\\tUSA\\tEnglish\\t2198241\\tThe Outsider\\r\\n',\n",
       "  b'2322441\\t6127842\\t7406\\tDrama, Romance, Thriller\\t2015\\tUSA\\tEnglish\\t2322441\\tFifty Shades of Grey\\r\\n',\n",
       "  b'2381941\\t6218413\\t9743\\tComedy, Crime, Drama\\t2015\\tUSA, Argentina\\tEnglish, Spanish\\t2381941\\tFocus\\r\\n',\n",
       "  b'1655441\\t6185152\\t8250\\tDrama, Fantasy, Romance\\t2015\\tUSA, Canada\\tEnglish, Portuguese, Italian\\t1655441\\tThe Age of Adaline\\r\\n',\n",
       "  b'1628841\\t6756550\\t10964\\tAction, Adventure, Sci-Fi\\t2016\\tUSA\\tEnglish, Mandarin\\t1628841\\tIndependence Day: Resurgence\\r\\n',\n",
       "  b'1700841\\t6769407\\t11071\\tAnimation, Adventure, Comedy\\t2016\\tUSA\\tEnglish\\t1700841\\tSausage Party\\r\\n',\n",
       "  b'1878841\\t6717502\\t5859\\tHorror, Thriller\\t2016\\tUSA\\tEnglish\\t1878841\\tThe Darkness\\r\\n',\n",
       "  b'2337841\\t6870044\\t4744\\tDrama, Mystery, Thriller\\t2017\\tCanada, USA\\tEnglish\\t2337841\\tBottom of the World\\r\\n',\n",
       "  b'2398241\\t7017640\\t6899\\tAnimation, Adventure, Comedy, Family, Fantasy\\t2017\\tUSA, Hong Kong\\tEnglish\\t2398241\\tSmurfs: The Lost Village\\r\\n'],\n",
       " 'movies_text.txt': [b\"@@176501 Either you 're flat or I am . I beg your pardon . Excuse me . Always the lady . Say ... Say , what the ... ? Why , I frighten your hiccup away , Marthy . Yes , you did . And I 'm going to hit you . See here . If you soak me in the eye again I 'm gon na quit you . - You get me ? - No . Only on the back this time , Marthy . I get you . - Well , I think you lose them , Marthy . - Yes . Yes , I did . Oh , I got it . Ten ... Ten swallows of this without breathing and ... sure cure . One , two , three , four , five 10 . Maybe I got \"]}"
      ]
     },
     "execution_count": 198,
     "metadata": {},
     "output_type": "execute_result"
    }
   ],
   "source": [
    "movie_raw"
   ]
  },
  {
   "cell_type": "markdown",
   "metadata": {},
   "source": [
    "Why do we get this list of files? Because of the \"print(file)\" in the code chunk above. So, the list here involves all the files that have \"text\" in their file name. \n",
    "\n",
    "Let's look at one of the files:"
   ]
  },
  {
   "cell_type": "code",
   "execution_count": 200,
   "metadata": {},
   "outputs": [
    {
     "data": {
      "text/plain": [
       "[b'20641\\t241706047\\t871452\\r\\n',\n",
       " b'20641\\t241706048\\t7536\\r\\n',\n",
       " b'20641\\t241706049\\t5\\r\\n']"
      ]
     },
     "execution_count": 200,
     "metadata": {},
     "output_type": "execute_result"
    }
   ],
   "source": [
    "#ovie_raw['11.txt'][0:3]\n",
    "#movies_text.txt\n",
    "movie_raw['movies_db.txt'][0:3]"
   ]
  },
  {
   "cell_type": "code",
   "execution_count": 201,
   "metadata": {},
   "outputs": [
    {
     "data": {
      "text/plain": [
       "[b'wordID\\twordCS\\tword\\tlemma\\tPos\\r\\n',\n",
       " b'-----\\t-----\\t-----\\t-----\\t-----\\r\\n',\n",
       " b'\\r\\n']"
      ]
     },
     "execution_count": 201,
     "metadata": {},
     "output_type": "execute_result"
    }
   ],
   "source": [
    "movie_raw['movies_lexicon.txt'][0:3]"
   ]
  },
  {
   "cell_type": "code",
   "execution_count": 202,
   "metadata": {},
   "outputs": [
    {
     "data": {
      "text/plain": [
       "[b'textID\\tfileID\\t#words\\tgenre\\tdate\\tcountry\\tlanguage(s)\\tIMDB\\ttitle\\r\\n',\n",
       " b'-----\\t-----\\t-----\\t-----\\t-----\\t-----\\t-----\\t-----\\t-----\\r\\n',\n",
       " b'\\r\\n']"
      ]
     },
     "execution_count": 202,
     "metadata": {},
     "output_type": "execute_result"
    }
   ],
   "source": [
    "movie_raw['movies_sources.txt'][0:3]"
   ]
  },
  {
   "cell_type": "code",
   "execution_count": 203,
   "metadata": {},
   "outputs": [
    {
     "data": {
      "text/plain": [
       "[b\"@@176501 Either you 're flat or I am . I beg your pardon . Excuse me . Always the lady . Say ... Say , what the ... ? Why , I frighten your hiccup away , Marthy . Yes , you did . And I 'm going to hit you . See here . If you soak me in the eye again I 'm gon na quit you . - You get me ? - No . Only on the back this time , Marthy . I get you . - Well , I think you lose them , Marthy . - Yes . Yes , I did . Oh , I got it . Ten ... Ten swallows of this without breathing and ... sure cure . One , two , three , four , five 10 . Maybe I got \"]"
      ]
     },
     "execution_count": 203,
     "metadata": {},
     "output_type": "execute_result"
    }
   ],
   "source": [
    "movie_raw['movies_text.txt'][0:3]"
   ]
  },
  {
   "cell_type": "markdown",
   "metadata": {},
   "source": [
    "It seems messy, but nothing we can't clean. This basic method replaces some of the issues with the formatting, and prints the errors if any for debugging. Let us clean one of the raw text files.\n",
    "\n",
    "We ignore the non-unicode data for convenience in our first pass."
   ]
  },
  {
   "cell_type": "code",
   "execution_count": 62,
   "metadata": {},
   "outputs": [],
   "source": [
    "def clean_raw_text(raw_texts):\n",
    "    clean_texts = []\n",
    "    for text in raw_texts:\n",
    "        try:\n",
    "            text = text.decode(\"utf-8\")\n",
    "            clean_text = text.replace(\" \\'m\", \"'m\").replace(\" \\'ll\", \"'ll\").replace(\" \\'re\", \"'re\").replace(\" \\'s\", \"'s\").replace(\" \\'re\", \"'re\").replace(\" n\\'t\", \"n't\").replace(\" \\'ve\", \"'ve\").replace(\" /'d\", \"'d\")\n",
    "            clean_texts.append(clean_text)\n",
    "        except AttributeError:\n",
    "            # print(\"ERROR CLEANING\")\n",
    "            # print(text)\n",
    "            continue\n",
    "        except UnicodeDecodeError:\n",
    "            # print(\"Unicode Error, Skip\")\n",
    "            continue\n",
    "    return clean_texts"
   ]
  },
  {
   "cell_type": "markdown",
   "metadata": {},
   "source": [
    "Now we're familiar with the code structure (such as for loop) as well as some functions (such as append). Let's briefly look at the functions that didn't appear above.\n",
    "\n",
    "replace() is a Python built-in function for strings. What it does is: it replaces the one that comes before with the one that comes later. The syntax of this function is the following: str.replace(old, new[, max]). The [, max] part is optional, and we didn't use it here. For example, text.replace(\" \\'m\", \"'m\") literally replaces /'m with 'm. \n",
    "\n",
    "decode() is a function which literally converts from one encoding scheme to the other one."
   ]
  },
  {
   "cell_type": "code",
   "execution_count": 63,
   "metadata": {},
   "outputs": [],
   "source": [
    "#clean_11 = clean_raw_text(movie_raw['11.txt'])\n",
    "clean_11 = clean_raw_text(movie_raw['movies_text.txt'])"
   ]
  },
  {
   "cell_type": "code",
   "execution_count": 64,
   "metadata": {},
   "outputs": [
    {
     "ename": "IndexError",
     "evalue": "list index out of range",
     "output_type": "error",
     "traceback": [
      "\u001b[1;31m---------------------------------------------------------------------------\u001b[0m",
      "\u001b[1;31mIndexError\u001b[0m                                Traceback (most recent call last)",
      "\u001b[1;32m<ipython-input-64-cc026114c646>\u001b[0m in \u001b[0;36m<module>\u001b[1;34m\u001b[0m\n\u001b[1;32m----> 1\u001b[1;33m \u001b[0mclean_11\u001b[0m\u001b[1;33m[\u001b[0m\u001b[1;36m1\u001b[0m\u001b[1;33m]\u001b[0m\u001b[1;33m\u001b[0m\u001b[1;33m\u001b[0m\u001b[0m\n\u001b[0m",
      "\u001b[1;31mIndexError\u001b[0m: list index out of range"
     ]
    }
   ],
   "source": [
    "clean_11[1]"
   ]
  },
  {
   "cell_type": "markdown",
   "metadata": {},
   "source": [
    "This method cleaned a few basic formatting errors. You are welcome to experiment and add your own code to expand on cleaning the text. Once it begins to look the way you want it to, we can start using spaCy to do some heavier cleaning. spaCy does this through the use of language models. Make sure you have the spaCy english language model loaded. "
   ]
  },
  {
   "cell_type": "code",
   "execution_count": 65,
   "metadata": {},
   "outputs": [],
   "source": [
    "nlp = spacy.load(\"en_core_web_sm\")"
   ]
  },
  {
   "cell_type": "markdown",
   "metadata": {},
   "source": [
    "This model is going to be the basis of most of the tasks which NLTK (the Natural Language Tool Kit) might have done otherwise. While NLTK uses a bunch of clunky models from multiple places, spacy neatly packs all functionality in one model. This deep trained model will start by doing our word tokenizing and normalising. These methods are already included in lucem illud, and here we will just demonstrate them outside the package so to explain what goes on under the hood.\n",
    "\n",
    "When we run text through a spacy model, it performs a lot of computation on each of the tokens. Each token is given certain attributes, such as a part of speech, information whether it is a number, a stop word, and so on. \n",
    "\n",
    "To perform a tokenization, we check if the string includes punctuation and add this token. "
   ]
  },
  {
   "cell_type": "code",
   "execution_count": 66,
   "metadata": {},
   "outputs": [],
   "source": [
    "def word_tokenize(word_list):\n",
    "    tokenized = []\n",
    "    # pass word list through language model.\n",
    "    doc = nlp(word_list)\n",
    "    for token in doc:\n",
    "        if not token.is_punct and len(token.text.strip()) > 0:\n",
    "            tokenized.append(token.text)\n",
    "    return tokenized"
   ]
  },
  {
   "cell_type": "markdown",
   "metadata": {},
   "source": [
    "Let's look at the cell above. What are we doing here? We want to tokenize the corpus, i.e. split the text into minimal meaningful units. To do so, we collect tokens in the document that is neither punctuation (e.g. \"?\", \",\", \"!\" etc) nor the ones the length of which is not bigger than 0. is_punct tells you if a token is a punctuation or not; so, we use \"if not\" to weed out punctuations. len(token.text.strip()) gets you the length of each string; so, we remove strings the length of which is not bigger than 0. By the way, strip() function here returns a copy of the wtring with both leading and trailing characters stripped. Since we didn't specify any characters, it merely removes the spaces before and after each string."
   ]
  },
  {
   "cell_type": "code",
   "execution_count": 67,
   "metadata": {},
   "outputs": [
    {
     "ename": "IndexError",
     "evalue": "list index out of range",
     "output_type": "error",
     "traceback": [
      "\u001b[1;31m---------------------------------------------------------------------------\u001b[0m",
      "\u001b[1;31mIndexError\u001b[0m                                Traceback (most recent call last)",
      "\u001b[1;32m<ipython-input-67-8770580598bf>\u001b[0m in \u001b[0;36m<module>\u001b[1;34m\u001b[0m\n\u001b[1;32m----> 1\u001b[1;33m \u001b[0mword_tokenize\u001b[0m\u001b[1;33m(\u001b[0m\u001b[0mclean_11\u001b[0m\u001b[1;33m[\u001b[0m\u001b[1;36m1\u001b[0m\u001b[1;33m]\u001b[0m\u001b[1;33m)\u001b[0m\u001b[1;33m\u001b[0m\u001b[1;33m\u001b[0m\u001b[0m\n\u001b[0m",
      "\u001b[1;31mIndexError\u001b[0m: list index out of range"
     ]
    }
   ],
   "source": [
    "word_tokenize(clean_11[1])"
   ]
  },
  {
   "cell_type": "markdown",
   "metadata": {},
   "source": [
    "You can see how the sentence is broken into its constituent words. We can then do some analysis with this. \n",
    "\n",
    "Note: we still don't know which movie this is, just that it is raw movie text data. Maybe in the process of our text cleaning and counting we will come across something!"
   ]
  },
  {
   "cell_type": "markdown",
   "metadata": {},
   "source": [
    "# Counting words\n",
    "\n",
    "If we want to do some analysis we can start by simply counting the number of times each word occurs within the corpus."
   ]
  },
  {
   "cell_type": "code",
   "execution_count": 68,
   "metadata": {},
   "outputs": [],
   "source": [
    "def wordCounter(wordLst):\n",
    "    wordCounts = {}\n",
    "    for word in wordLst:\n",
    "        #We usually need to normalize the case\n",
    "        wLower = word.lower()\n",
    "        if wLower in wordCounts:\n",
    "            wordCounts[wLower] += 1\n",
    "        else:\n",
    "            wordCounts[wLower] = 1\n",
    "    #convert to DataFrame\n",
    "    countsForFrame = {'word' : [], 'count' : []}\n",
    "    for w, c in wordCounts.items():\n",
    "        countsForFrame['word'].append(w)\n",
    "        countsForFrame['count'].append(c)\n",
    "    return pandas.DataFrame(countsForFrame)"
   ]
  },
  {
   "cell_type": "markdown",
   "metadata": {},
   "source": [
    "What's going on here? We first make an empty dictionary (by the way, if you're not familiar with dictionaries, you should go look it up online.) Then, we go through each word in the word list one by one with the for loop. If the word that the loop is looking at has appeared before, we add one more to the number(\"+=1\"); if it didn't appear before, we assign one to the word (\"= 1\"). \n",
    "\n",
    "And then we convert it to DataFrame. Why do we use wordCounts.items() here? Because the wordCounts that we defined above is a dictionary; and items() returns the list of all dictionary keys with values. And then we use pandas.DataFrame to convert this dictionary to DataFrame."
   ]
  },
  {
   "cell_type": "code",
   "execution_count": 69,
   "metadata": {},
   "outputs": [
    {
     "ename": "IndexError",
     "evalue": "list index out of range",
     "output_type": "error",
     "traceback": [
      "\u001b[1;31m---------------------------------------------------------------------------\u001b[0m",
      "\u001b[1;31mIndexError\u001b[0m                                Traceback (most recent call last)",
      "\u001b[1;32m<ipython-input-69-1263b7854f45>\u001b[0m in \u001b[0;36m<module>\u001b[1;34m\u001b[0m\n\u001b[1;32m----> 1\u001b[1;33m \u001b[0mcountedWords\u001b[0m \u001b[1;33m=\u001b[0m \u001b[0mwordCounter\u001b[0m\u001b[1;33m(\u001b[0m\u001b[0mword_tokenize\u001b[0m\u001b[1;33m(\u001b[0m\u001b[0mclean_11\u001b[0m\u001b[1;33m[\u001b[0m\u001b[1;36m1\u001b[0m\u001b[1;33m]\u001b[0m\u001b[1;33m)\u001b[0m\u001b[1;33m)\u001b[0m\u001b[1;33m\u001b[0m\u001b[1;33m\u001b[0m\u001b[0m\n\u001b[0m\u001b[0;32m      2\u001b[0m \u001b[0mcountedWords\u001b[0m\u001b[1;33m[\u001b[0m\u001b[1;33m:\u001b[0m\u001b[1;36m10\u001b[0m\u001b[1;33m]\u001b[0m\u001b[1;33m\u001b[0m\u001b[1;33m\u001b[0m\u001b[0m\n",
      "\u001b[1;31mIndexError\u001b[0m: list index out of range"
     ]
    }
   ],
   "source": [
    "countedWords = wordCounter(word_tokenize(clean_11[1]))\n",
    "countedWords[:10]"
   ]
  },
  {
   "cell_type": "markdown",
   "metadata": {},
   "source": [
    "Lets sort and plot our counts to investigate the shape of our word frequency distribution.\n",
    "\n",
    "First we need to sort the words by count."
   ]
  },
  {
   "cell_type": "code",
   "execution_count": 70,
   "metadata": {},
   "outputs": [
    {
     "ename": "NameError",
     "evalue": "name 'countedWords' is not defined",
     "output_type": "error",
     "traceback": [
      "\u001b[1;31m---------------------------------------------------------------------------\u001b[0m",
      "\u001b[1;31mNameError\u001b[0m                                 Traceback (most recent call last)",
      "\u001b[1;32m<ipython-input-70-972ee072b7a3>\u001b[0m in \u001b[0;36m<module>\u001b[1;34m\u001b[0m\n\u001b[0;32m      1\u001b[0m \u001b[1;31m#Doing this in place (changing the original DataFrame) as we don't need the unsorted DataFrame\u001b[0m\u001b[1;33m\u001b[0m\u001b[1;33m\u001b[0m\u001b[1;33m\u001b[0m\u001b[0m\n\u001b[1;32m----> 2\u001b[1;33m \u001b[0mcountedWords\u001b[0m\u001b[1;33m.\u001b[0m\u001b[0msort_values\u001b[0m\u001b[1;33m(\u001b[0m\u001b[1;34m'count'\u001b[0m\u001b[1;33m,\u001b[0m \u001b[0mascending\u001b[0m\u001b[1;33m=\u001b[0m\u001b[1;32mFalse\u001b[0m\u001b[1;33m,\u001b[0m \u001b[0minplace\u001b[0m\u001b[1;33m=\u001b[0m\u001b[1;32mTrue\u001b[0m\u001b[1;33m)\u001b[0m\u001b[1;33m\u001b[0m\u001b[1;33m\u001b[0m\u001b[0m\n\u001b[0m\u001b[0;32m      3\u001b[0m \u001b[0mcountedWords\u001b[0m\u001b[1;33m[\u001b[0m\u001b[1;33m:\u001b[0m\u001b[1;36m100\u001b[0m\u001b[1;33m]\u001b[0m\u001b[1;33m\u001b[0m\u001b[1;33m\u001b[0m\u001b[0m\n",
      "\u001b[1;31mNameError\u001b[0m: name 'countedWords' is not defined"
     ]
    }
   ],
   "source": [
    "#Doing this in place (changing the original DataFrame) as we don't need the unsorted DataFrame\n",
    "countedWords.sort_values('count', ascending=False, inplace=True)\n",
    "countedWords[:100]"
   ]
  },
  {
   "cell_type": "markdown",
   "metadata": {},
   "source": [
    "Punctuation and very common words (articles 'a' and 'the'; prepositions 'of' and 'to') make up the most common values, but this isn't very interesting and can actually get in the way of our analysis. We may remove these 'function words' by removing according to a stopword list, setting some frequency threshold, or using a weighting scheme (like tf.idf) to decrease their influence - we will look at these methods in more detail as we go through this tutorial. "
   ]
  },
  {
   "cell_type": "code",
   "execution_count": 71,
   "metadata": {},
   "outputs": [
    {
     "ename": "NameError",
     "evalue": "name 'countedWords' is not defined",
     "output_type": "error",
     "traceback": [
      "\u001b[1;31m---------------------------------------------------------------------------\u001b[0m",
      "\u001b[1;31mNameError\u001b[0m                                 Traceback (most recent call last)",
      "\u001b[1;32m<ipython-input-71-67c430ee286b>\u001b[0m in \u001b[0;36m<module>\u001b[1;34m\u001b[0m\n\u001b[0;32m      2\u001b[0m \u001b[0mfig\u001b[0m \u001b[1;33m=\u001b[0m \u001b[0mplt\u001b[0m\u001b[1;33m.\u001b[0m\u001b[0mfigure\u001b[0m\u001b[1;33m(\u001b[0m\u001b[1;33m)\u001b[0m\u001b[1;33m\u001b[0m\u001b[1;33m\u001b[0m\u001b[0m\n\u001b[0;32m      3\u001b[0m \u001b[0max\u001b[0m \u001b[1;33m=\u001b[0m \u001b[0mfig\u001b[0m\u001b[1;33m.\u001b[0m\u001b[0madd_subplot\u001b[0m\u001b[1;33m(\u001b[0m\u001b[1;36m111\u001b[0m\u001b[1;33m)\u001b[0m\u001b[1;33m\u001b[0m\u001b[1;33m\u001b[0m\u001b[0m\n\u001b[1;32m----> 4\u001b[1;33m \u001b[0mplt\u001b[0m\u001b[1;33m.\u001b[0m\u001b[0mplot\u001b[0m\u001b[1;33m(\u001b[0m\u001b[0mrange\u001b[0m\u001b[1;33m(\u001b[0m\u001b[0mlen\u001b[0m\u001b[1;33m(\u001b[0m\u001b[0mcountedWords\u001b[0m\u001b[1;33m)\u001b[0m\u001b[1;33m)\u001b[0m\u001b[1;33m,\u001b[0m \u001b[0mcountedWords\u001b[0m\u001b[1;33m[\u001b[0m\u001b[1;34m'count'\u001b[0m\u001b[1;33m]\u001b[0m\u001b[1;33m)\u001b[0m\u001b[1;33m\u001b[0m\u001b[1;33m\u001b[0m\u001b[0m\n\u001b[0m\u001b[0;32m      5\u001b[0m \u001b[0mplt\u001b[0m\u001b[1;33m.\u001b[0m\u001b[0mshow\u001b[0m\u001b[1;33m(\u001b[0m\u001b[1;33m)\u001b[0m\u001b[1;33m\u001b[0m\u001b[1;33m\u001b[0m\u001b[0m\n",
      "\u001b[1;31mNameError\u001b[0m: name 'countedWords' is not defined"
     ]
    },
    {
     "data": {
      "image/png": "[encoded data removed]",
      "text/plain": [
       "<Figure size 432x288 with 1 Axes>"
      ]
     },
     "metadata": {
      "needs_background": "light"
     },
     "output_type": "display_data"
    }
   ],
   "source": [
    "#Creating a figure and axis lets us do things like change the scaling or add a title\n",
    "fig = plt.figure()\n",
    "ax = fig.add_subplot(111)\n",
    "plt.plot(range(len(countedWords)), countedWords['count'])\n",
    "plt.show()"
   ]
  },
  {
   "cell_type": "markdown",
   "metadata": {},
   "source": [
    "This shows that likelihood of a word occurring is inversely proportional to its rank. This effect is called [Zipf's Law](https://en.wikipedia.org/wiki/Zipf%27s_law), and suggests that the most frequent word will occur approximately twice as often as the second most frequent word, three times as often as the third most frequent word, etc. Zipf's law is most easily observed by plotting the data on a log-log graph, with the axes being log (rank order) and log (frequency) resulting in a linear relationship."
   ]
  },
  {
   "cell_type": "code",
   "execution_count": 72,
   "metadata": {},
   "outputs": [
    {
     "ename": "NameError",
     "evalue": "name 'countedWords' is not defined",
     "output_type": "error",
     "traceback": [
      "\u001b[1;31m---------------------------------------------------------------------------\u001b[0m",
      "\u001b[1;31mNameError\u001b[0m                                 Traceback (most recent call last)",
      "\u001b[1;32m<ipython-input-72-5186a4c6480a>\u001b[0m in \u001b[0;36m<module>\u001b[1;34m\u001b[0m\n\u001b[0;32m      1\u001b[0m \u001b[0mfig\u001b[0m \u001b[1;33m=\u001b[0m \u001b[0mplt\u001b[0m\u001b[1;33m.\u001b[0m\u001b[0mfigure\u001b[0m\u001b[1;33m(\u001b[0m\u001b[1;33m)\u001b[0m\u001b[1;33m\u001b[0m\u001b[1;33m\u001b[0m\u001b[0m\n\u001b[0;32m      2\u001b[0m \u001b[0max\u001b[0m \u001b[1;33m=\u001b[0m \u001b[0mfig\u001b[0m\u001b[1;33m.\u001b[0m\u001b[0madd_subplot\u001b[0m\u001b[1;33m(\u001b[0m\u001b[1;36m111\u001b[0m\u001b[1;33m)\u001b[0m\u001b[1;33m\u001b[0m\u001b[1;33m\u001b[0m\u001b[0m\n\u001b[1;32m----> 3\u001b[1;33m \u001b[0mplt\u001b[0m\u001b[1;33m.\u001b[0m\u001b[0mplot\u001b[0m\u001b[1;33m(\u001b[0m\u001b[0mrange\u001b[0m\u001b[1;33m(\u001b[0m\u001b[0mlen\u001b[0m\u001b[1;33m(\u001b[0m\u001b[0mcountedWords\u001b[0m\u001b[1;33m)\u001b[0m\u001b[1;33m)\u001b[0m\u001b[1;33m,\u001b[0m \u001b[0mcountedWords\u001b[0m\u001b[1;33m[\u001b[0m\u001b[1;34m'count'\u001b[0m\u001b[1;33m]\u001b[0m\u001b[1;33m)\u001b[0m\u001b[1;33m\u001b[0m\u001b[1;33m\u001b[0m\u001b[0m\n\u001b[0m\u001b[0;32m      4\u001b[0m \u001b[0max\u001b[0m\u001b[1;33m.\u001b[0m\u001b[0mset_yscale\u001b[0m\u001b[1;33m(\u001b[0m\u001b[1;34m'log'\u001b[0m\u001b[1;33m)\u001b[0m\u001b[1;33m\u001b[0m\u001b[1;33m\u001b[0m\u001b[0m\n\u001b[0;32m      5\u001b[0m \u001b[0max\u001b[0m\u001b[1;33m.\u001b[0m\u001b[0mset_xscale\u001b[0m\u001b[1;33m(\u001b[0m\u001b[1;34m'log'\u001b[0m\u001b[1;33m)\u001b[0m\u001b[1;33m\u001b[0m\u001b[1;33m\u001b[0m\u001b[0m\n",
      "\u001b[1;31mNameError\u001b[0m: name 'countedWords' is not defined"
     ]
    },
    {
     "data": {
      "image/png": "[encoded data removed]",
      "text/plain": [
       "<Figure size 432x288 with 1 Axes>"
      ]
     },
     "metadata": {
      "needs_background": "light"
     },
     "output_type": "display_data"
    }
   ],
   "source": [
    "fig = plt.figure()\n",
    "ax = fig.add_subplot(111)\n",
    "plt.plot(range(len(countedWords)), countedWords['count'])\n",
    "ax.set_yscale('log')\n",
    "ax.set_xscale('log')\n",
    "plt.show()"
   ]
  },
  {
   "cell_type": "markdown",
   "metadata": {},
   "source": [
    "(The same relationship occurs in many other rankings, such as population ranks of cities, corporation sizes, income rankings, etc.) \n",
    "\n",
    "The distribution was imagined by Zipf to be driven by a principle of 'least effort' where speakers did not work any harder than necessary to communicate a given idea, but the basis for this relationship is still not well understood and conforms at least as well to a process of [preferential attachment](https://en.wikipedia.org/wiki/Preferential_attachment) whereby people disproportionately attend to popular words.\n"
   ]
  },
  {
   "cell_type": "markdown",
   "metadata": {},
   "source": [
    "# Getting and working with raw text\n",
    "\n",
    "First, we will retrieve a collection of press releases from a *GitHub API* that archived them, based on a number of analyses by Justin Grimmer, a political scientist whose work we will read in a few weeks!\n",
    "\n",
    "GitHub API requests are made to `'https://api.github.com/'` and responses are in JSON, similar to Tumblr's API.\n",
    "\n",
    "We will get the information on [github.com/lintool/GrimmerSenatePressReleases](https://github.com/lintool/GrimmerSenatePressReleases) as it contains a nice set documents."
   ]
  },
  {
   "cell_type": "code",
   "execution_count": 73,
   "metadata": {},
   "outputs": [
    {
     "name": "stdout",
     "output_type": "stream",
     "text": [
      "dict_keys(['id', 'node_id', 'name', 'full_name', 'private', 'owner', 'html_url', 'description', 'fork', 'url', 'forks_url', 'keys_url', 'collaborators_url', 'teams_url', 'hooks_url', 'issue_events_url', 'events_url', 'assignees_url', 'branches_url', 'tags_url', 'blobs_url', 'git_tags_url', 'git_refs_url', 'trees_url', 'statuses_url', 'languages_url', 'stargazers_url', 'contributors_url', 'subscribers_url', 'subscription_url', 'commits_url', 'git_commits_url', 'comments_url', 'issue_comment_url', 'contents_url', 'compare_url', 'merges_url', 'archive_url', 'downloads_url', 'issues_url', 'pulls_url', 'milestones_url', 'notifications_url', 'labels_url', 'releases_url', 'deployments_url', 'created_at', 'updated_at', 'pushed_at', 'git_url', 'ssh_url', 'clone_url', 'svn_url', 'homepage', 'size', 'stargazers_count', 'watchers_count', 'language', 'has_issues', 'has_projects', 'has_downloads', 'has_wiki', 'has_pages', 'forks_count', 'mirror_url', 'archived', 'disabled', 'open_issues_count', 'license', 'allow_forking', 'visibility', 'forks', 'open_issues', 'watchers', 'default_branch', 'temp_clone_token', 'network_count', 'subscribers_count'])\n",
      "Grimmer's Senate Press Releases\n"
     ]
    }
   ],
   "source": [
    "r = requests.get('https://api.github.com/repos/lintool/GrimmerSenatePressReleases')\n",
    "senateReleasesData = json.loads(r.text)\n",
    "print(senateReleasesData.keys())\n",
    "print(senateReleasesData['description'])"
   ]
  },
  {
   "cell_type": "markdown",
   "metadata": {},
   "source": [
    "What we are interested in here is the `'contents_url'`"
   ]
  },
  {
   "cell_type": "code",
   "execution_count": 74,
   "metadata": {},
   "outputs": [
    {
     "name": "stdout",
     "output_type": "stream",
     "text": [
      "https://api.github.com/repos/lintool/GrimmerSenatePressReleases/contents/{+path}\n"
     ]
    }
   ],
   "source": [
    "print(senateReleasesData['contents_url'])"
   ]
  },
  {
   "cell_type": "markdown",
   "metadata": {},
   "source": [
    "We can use this to get any or all of the files from the repo."
   ]
  },
  {
   "cell_type": "code",
   "execution_count": 75,
   "metadata": {},
   "outputs": [
    {
     "data": {
      "text/plain": [
       "{'name': '10Apr2007Whitehouse123.txt',\n",
       " 'path': 'raw/Whitehouse/10Apr2007Whitehouse123.txt',\n",
       " 'sha': 'f524289ee563dca58690c8d36c23dce5dbd9962a',\n",
       " 'size': 2206,\n",
       " 'url': 'https://api.github.com/repos/lintool/GrimmerSenatePressReleases/contents/raw/Whitehouse/10Apr2007Whitehouse123.txt?ref=master',\n",
       " 'html_url': 'https://github.com/lintool/GrimmerSenatePressReleases/blob/master/raw/Whitehouse/10Apr2007Whitehouse123.txt',\n",
       " 'git_url': 'https://api.github.com/repos/lintool/GrimmerSenatePressReleases/git/blobs/f524289ee563dca58690c8d36c23dce5dbd9962a',\n",
       " 'download_url': 'https://raw.githubusercontent.com/lintool/GrimmerSenatePressReleases/master/raw/Whitehouse/10Apr2007Whitehouse123.txt',\n",
       " 'type': 'file',\n",
       " '_links': {'self': 'https://api.github.com/repos/lintool/GrimmerSenatePressReleases/contents/raw/Whitehouse/10Apr2007Whitehouse123.txt?ref=master',\n",
       "  'git': 'https://api.github.com/repos/lintool/GrimmerSenatePressReleases/git/blobs/f524289ee563dca58690c8d36c23dce5dbd9962a',\n",
       "  'html': 'https://github.com/lintool/GrimmerSenatePressReleases/blob/master/raw/Whitehouse/10Apr2007Whitehouse123.txt'}}"
      ]
     },
     "execution_count": 75,
     "metadata": {},
     "output_type": "execute_result"
    }
   ],
   "source": [
    "r = requests.get('https://api.github.com/repos/lintool/GrimmerSenatePressReleases/contents/raw/Whitehouse')\n",
    "whitehouseLinks = json.loads(r.text)\n",
    "whitehouseLinks[0]"
   ]
  },
  {
   "cell_type": "markdown",
   "metadata": {},
   "source": [
    "Now we have a list of information about Whitehouse press releases. Let's look at one of them."
   ]
  },
  {
   "cell_type": "code",
   "execution_count": 76,
   "metadata": {},
   "outputs": [
    {
     "name": "stdout",
     "output_type": "stream",
     "text": [
      "SEN. WHITEHOUSE SHARES WESTERLY GIRL'S STORY IN PUSH FOR STEM CELL RESEARCH\n",
      "  Sharing the story of Lila Barber, a 12 year old girl from Westerly, Sen. Sheldon Whitehouse (D-R.I.) on Tuesday, April 10, 2007, illustrated the hope stem cell research can offer in a speech on the Senate floor in favor of legislation to expand federal funding for stem cell research.  \n",
      "   Whitehouse met Lila two weeks ago. She was diagnosed two years ago with osteosarcoma, a cancerous bone condition, and last year underwent cadaver bone transplant surgery. The procedure saved her leg and is helping her remain cancer-free, but the transplanted tissue will not grow with her and likely will break down over time. Stem cell research, Whitehouse explained, could vastly improve the care of patients like Lila by allowing surgeons to enhance transplants with a patient's own stem cells, which could replace the lost bone and cartilage, or grow entirely new replacement bones and joints. \n",
      "   \"Stem cell research gives hope\n"
     ]
    },
    {
     "data": {
      "text/plain": [
       "2206"
      ]
     },
     "execution_count": 76,
     "metadata": {},
     "output_type": "execute_result"
    }
   ],
   "source": [
    "r = requests.get(whitehouseLinks[0]['download_url'])\n",
    "whitehouseRelease = r.text\n",
    "print(whitehouseRelease[:1000])\n",
    "len(whitehouseRelease)"
   ]
  },
  {
   "cell_type": "markdown",
   "metadata": {},
   "source": [
    "Now we have a string of correctly encoded text. For analysis of its words, next we need to tokenize it, or split it into a sequence of tokens or word instances."
   ]
  },
  {
   "cell_type": "code",
   "execution_count": 77,
   "metadata": {},
   "outputs": [
    {
     "data": {
      "text/plain": [
       "['STEM',\n",
       " 'CELL',\n",
       " 'RESEARCH',\n",
       " 'Sharing',\n",
       " 'the',\n",
       " 'story',\n",
       " 'of',\n",
       " 'Lila',\n",
       " 'Barber',\n",
       " 'a',\n",
       " '12',\n",
       " 'year',\n",
       " 'old',\n",
       " 'girl',\n",
       " 'from',\n",
       " 'Westerly',\n",
       " 'Sen.',\n",
       " 'Sheldon',\n",
       " 'Whitehouse',\n",
       " 'D']"
      ]
     },
     "execution_count": 77,
     "metadata": {},
     "output_type": "execute_result"
    }
   ],
   "source": [
    "whTokens = word_tokenize(whitehouseRelease)\n",
    "whTokens[10:30]"
   ]
  },
  {
   "cell_type": "markdown",
   "metadata": {},
   "source": [
    "Previous iterations of the course used `nltk`s tokenizer, but as we saw before, we used spaCy's model (https://spacy.io/api/tokenizer). We intend to avoid using NLTK when we can - for production level code, it is a lot faster and cleaner to use spaCy.\n",
    "\n",
    "That being said, `nltk` does have some useful methods for quick analysis of small corpora. We will explore a few here, and encourage you to figure out for yourself which other ones might be useful.\n",
    "\n",
    "To use the list of tokens in `nltk`, and take advantage of functions like `concordance`, shown above, we can convert it into a `Text`."
   ]
  },
  {
   "cell_type": "code",
   "execution_count": 78,
   "metadata": {},
   "outputs": [],
   "source": [
    "import nltk"
   ]
  },
  {
   "cell_type": "code",
   "execution_count": 79,
   "metadata": {},
   "outputs": [
    {
     "name": "stdout",
     "output_type": "stream",
     "text": [
      "Displaying 5 of 5 matches:\n",
      "ld girl from Westerly Sen. Sheldon Whitehouse D R.I. on Tuesday April 10 2007 il\n",
      "ral funding for stem cell research Whitehouse met Lila two weeks ago She was dia\n",
      " down over time Stem cell research Whitehouse explained could vastly improve the\n",
      "s research might help or even cure Whitehouse said Whitehouse also praised the e\n",
      " help or even cure Whitehouse said Whitehouse also praised the efforts of Rhode \n"
     ]
    }
   ],
   "source": [
    "whText = nltk.Text(whTokens)\n",
    "\n",
    "whitehouseIndex = nltk.text.ConcordanceIndex(whText) \n",
    "whitehouseIndex.print_concordance('Whitehouse')"
   ]
  },
  {
   "cell_type": "markdown",
   "metadata": {},
   "source": [
    "*Note* that the `Text` class is for doing rapid, exploratory analysis. It provides an easy interface to many of the operations we want to do, but it does not allow us much control over the particular operations it glosses. When you are doing a more complete analysis, you should be using the module specifically designed for that task instead of the shortcut method `Text` provides, e.g. use  [`collocations` Module](http://www.nltk.org/api/nltk.html#module-nltk.collocations) instead of `.collocations()`.\n",
    "\n",
    "Now that we have gotten this loaded, let's glance at few features we will delve into more deeply later.\n",
    "\n",
    "For example, we can find words that statistically tend to occur together and typically have a composite, idiomatic meaning irreducible to the semantics of its component words. We will do this later with more control over exactly how these are identified."
   ]
  },
  {
   "cell_type": "markdown",
   "metadata": {},
   "source": [
    "Or we can pick a word (or words) and find what words tend to occur around it."
   ]
  },
  {
   "cell_type": "code",
   "execution_count": 80,
   "metadata": {},
   "outputs": [
    {
     "name": "stdout",
     "output_type": "stream",
     "text": [
      "for_cell on_cells the_cell hope_cell time_cell own_cells joints_cell\n",
      "of_cell embryonic_cells\n"
     ]
    }
   ],
   "source": [
    "whText.common_contexts(['stem'])"
   ]
  },
  {
   "cell_type": "markdown",
   "metadata": {},
   "source": [
    "We can also just count the number of times the word occurs."
   ]
  },
  {
   "cell_type": "code",
   "execution_count": 81,
   "metadata": {},
   "outputs": [
    {
     "data": {
      "text/plain": [
       "5"
      ]
     },
     "execution_count": 81,
     "metadata": {},
     "output_type": "execute_result"
    }
   ],
   "source": [
    "whText.count('cell')"
   ]
  },
  {
   "cell_type": "markdown",
   "metadata": {},
   "source": [
    "\n",
    "We can also plot each time a set of words occurs."
   ]
  },
  {
   "cell_type": "code",
   "execution_count": 82,
   "metadata": {},
   "outputs": [
    {
     "data": {
      "image/png": "[encoded data removed]",
      "text/plain": [
       "<Figure size 432x288 with 1 Axes>"
      ]
     },
     "metadata": {
      "needs_background": "light"
     },
     "output_type": "display_data"
    }
   ],
   "source": [
    "sns.reset_orig() #Seaborn messes with this plot, disabling it\n",
    "whText.dispersion_plot(['Sen.','stem', 'cell', 'federal' ,'Lila', 'Barber', 'Whitehouse'])\n",
    "sns.set() #Re-enabling seaborn"
   ]
  },
  {
   "cell_type": "markdown",
   "metadata": {},
   "source": [
    "If we want to do an analysis of all the Whitehouse press releases we will first need to obtain them. By looking at the API we can see the the URL we want is [https://api.github.com/repos/lintool/GrimmerSenatePressReleases/contents/raw/Whitehouse](https://api.github.com/repos/lintool/GrimmerSenatePressReleases/contents/raw/Whitehouse), so we can create a function to scrape the individual files.\n",
    "\n",
    "If you want to know more about downloading from APIs, refer back to the 1st notebook."
   ]
  },
  {
   "cell_type": "code",
   "execution_count": 83,
   "metadata": {},
   "outputs": [
    {
     "data": {
      "text/html": [
       "<div>\n",
       "<style scoped>\n",
       "    .dataframe tbody tr th:only-of-type {\n",
       "        vertical-align: middle;\n",
       "    }\n",
       "\n",
       "    .dataframe tbody tr th {\n",
       "        vertical-align: top;\n",
       "    }\n",
       "\n",
       "    .dataframe thead th {\n",
       "        text-align: right;\n",
       "    }\n",
       "</style>\n",
       "<table border=\"1\" class=\"dataframe\">\n",
       "  <thead>\n",
       "    <tr style=\"text-align: right;\">\n",
       "      <th></th>\n",
       "      <th>name</th>\n",
       "      <th>text</th>\n",
       "      <th>path</th>\n",
       "      <th>html_url</th>\n",
       "      <th>download_url</th>\n",
       "    </tr>\n",
       "  </thead>\n",
       "  <tbody>\n",
       "    <tr>\n",
       "      <th>0</th>\n",
       "      <td>10Apr2007Whitehouse123.txt</td>\n",
       "      <td>SEN. WHITEHOUSE SHARES WESTERLY GIRL'S STORY I...</td>\n",
       "      <td>raw/Whitehouse/10Apr2007Whitehouse123.txt</td>\n",
       "      <td>https://github.com/lintool/GrimmerSenatePressR...</td>\n",
       "      <td>https://raw.githubusercontent.com/lintool/Grim...</td>\n",
       "    </tr>\n",
       "    <tr>\n",
       "      <th>1</th>\n",
       "      <td>10Apr2008Whitehouse2.txt</td>\n",
       "      <td>SEN. WHITEHOUSE SAYS PRESIDENT BUSH MUST BEGIN...</td>\n",
       "      <td>raw/Whitehouse/10Apr2008Whitehouse2.txt</td>\n",
       "      <td>https://github.com/lintool/GrimmerSenatePressR...</td>\n",
       "      <td>https://raw.githubusercontent.com/lintool/Grim...</td>\n",
       "    </tr>\n",
       "    <tr>\n",
       "      <th>2</th>\n",
       "      <td>10Apr2008Whitehouse3.txt</td>\n",
       "      <td>EPA MUST REVIEW LEGAL PROCESS TO ROOT OUT POLI...</td>\n",
       "      <td>raw/Whitehouse/10Apr2008Whitehouse3.txt</td>\n",
       "      <td>https://github.com/lintool/GrimmerSenatePressR...</td>\n",
       "      <td>https://raw.githubusercontent.com/lintool/Grim...</td>\n",
       "    </tr>\n",
       "    <tr>\n",
       "      <th>3</th>\n",
       "      <td>10Aug2007Whitehouse78.txt</td>\n",
       "      <td>R.I. SENATORS PRAISE SEN. DENIAL OF LNG FACILI...</td>\n",
       "      <td>raw/Whitehouse/10Aug2007Whitehouse78.txt</td>\n",
       "      <td>https://github.com/lintool/GrimmerSenatePressR...</td>\n",
       "      <td>https://raw.githubusercontent.com/lintool/Grim...</td>\n",
       "    </tr>\n",
       "    <tr>\n",
       "      <th>4</th>\n",
       "      <td>10Jan2008Whitehouse35.txt</td>\n",
       "      <td>SEN. WHITEHOUSE COMMENTS ON ONE-YEAR ANNIVERSA...</td>\n",
       "      <td>raw/Whitehouse/10Jan2008Whitehouse35.txt</td>\n",
       "      <td>https://github.com/lintool/GrimmerSenatePressR...</td>\n",
       "      <td>https://raw.githubusercontent.com/lintool/Grim...</td>\n",
       "    </tr>\n",
       "  </tbody>\n",
       "</table>\n",
       "</div>"
      ],
      "text/plain": [
       "                         name  \\\n",
       "0  10Apr2007Whitehouse123.txt   \n",
       "1    10Apr2008Whitehouse2.txt   \n",
       "2    10Apr2008Whitehouse3.txt   \n",
       "3   10Aug2007Whitehouse78.txt   \n",
       "4   10Jan2008Whitehouse35.txt   \n",
       "\n",
       "                                                text  \\\n",
       "0  SEN. WHITEHOUSE SHARES WESTERLY GIRL'S STORY I...   \n",
       "1  SEN. WHITEHOUSE SAYS PRESIDENT BUSH MUST BEGIN...   \n",
       "2  EPA MUST REVIEW LEGAL PROCESS TO ROOT OUT POLI...   \n",
       "3  R.I. SENATORS PRAISE SEN. DENIAL OF LNG FACILI...   \n",
       "4  SEN. WHITEHOUSE COMMENTS ON ONE-YEAR ANNIVERSA...   \n",
       "\n",
       "                                        path  \\\n",
       "0  raw/Whitehouse/10Apr2007Whitehouse123.txt   \n",
       "1    raw/Whitehouse/10Apr2008Whitehouse2.txt   \n",
       "2    raw/Whitehouse/10Apr2008Whitehouse3.txt   \n",
       "3   raw/Whitehouse/10Aug2007Whitehouse78.txt   \n",
       "4   raw/Whitehouse/10Jan2008Whitehouse35.txt   \n",
       "\n",
       "                                            html_url  \\\n",
       "0  https://github.com/lintool/GrimmerSenatePressR...   \n",
       "1  https://github.com/lintool/GrimmerSenatePressR...   \n",
       "2  https://github.com/lintool/GrimmerSenatePressR...   \n",
       "3  https://github.com/lintool/GrimmerSenatePressR...   \n",
       "4  https://github.com/lintool/GrimmerSenatePressR...   \n",
       "\n",
       "                                        download_url  \n",
       "0  https://raw.githubusercontent.com/lintool/Grim...  \n",
       "1  https://raw.githubusercontent.com/lintool/Grim...  \n",
       "2  https://raw.githubusercontent.com/lintool/Grim...  \n",
       "3  https://raw.githubusercontent.com/lintool/Grim...  \n",
       "4  https://raw.githubusercontent.com/lintool/Grim...  "
      ]
     },
     "execution_count": 83,
     "metadata": {},
     "output_type": "execute_result"
    }
   ],
   "source": [
    "def getGithubFiles(target, maxFiles = 100):\n",
    "    #We are setting a max so our examples don't take too long to run\n",
    "    #For converting to a DataFrame\n",
    "    releasesDict = {\n",
    "        'name' : [], #The name of the file\n",
    "        'text' : [], #The text of the file, watch out for binary files\n",
    "        'path' : [], #The path in the git repo to the file\n",
    "        'html_url' : [], #The url to see the file on Github\n",
    "        'download_url' : [], #The url to download the file\n",
    "    }\n",
    "\n",
    "    #Get the directory information from Github\n",
    "    r = requests.get(target)\n",
    "    filesLst = json.loads(r.text)\n",
    "\n",
    "    for fileDict in filesLst[:maxFiles]:\n",
    "        #These are provided by the directory\n",
    "        releasesDict['name'].append(fileDict['name'])\n",
    "        releasesDict['path'].append(fileDict['path'])\n",
    "        releasesDict['html_url'].append(fileDict['html_url'])\n",
    "        releasesDict['download_url'].append(fileDict['download_url'])\n",
    "\n",
    "        #We need to download the text though\n",
    "        text = requests.get(fileDict['download_url']).text\n",
    "        releasesDict['text'].append(text)\n",
    "\n",
    "    return pandas.DataFrame(releasesDict)\n",
    "\n",
    "whReleases = getGithubFiles('https://api.github.com/repos/lintool/GrimmerSenatePressReleases/contents/raw/Whitehouse', maxFiles = 10)\n",
    "whReleases[:5]"
   ]
  },
  {
   "cell_type": "markdown",
   "metadata": {},
   "source": [
    "If you are having trouble downloading the data uncomment this next cell"
   ]
  },
  {
   "cell_type": "code",
   "execution_count": 84,
   "metadata": {},
   "outputs": [],
   "source": [
    "#whReleases = pandas.read_csv('../data/whReleases.csv')"
   ]
  },
  {
   "cell_type": "markdown",
   "metadata": {},
   "source": [
    "Now we have all the texts in a DataFrame we can look at a few things.\n",
    "\n",
    "First let's tokenize the texts with the same tokenizer as we used before. We will just save the tokens as a list for now; no need to convert to `Text`s."
   ]
  },
  {
   "cell_type": "code",
   "execution_count": 85,
   "metadata": {},
   "outputs": [],
   "source": [
    "whReleases['tokenized_text'] = whReleases['text'].apply(lambda x: word_tokenize(x))"
   ]
  },
  {
   "cell_type": "markdown",
   "metadata": {},
   "source": [
    "Now lets see how long each of the press releases is:"
   ]
  },
  {
   "cell_type": "code",
   "execution_count": 86,
   "metadata": {},
   "outputs": [
    {
     "data": {
      "text/plain": [
       "0    350\n",
       "1    311\n",
       "2    497\n",
       "3    189\n",
       "4    236\n",
       "5    334\n",
       "6    241\n",
       "7    469\n",
       "8    443\n",
       "9    425\n",
       "Name: word_counts, dtype: int64"
      ]
     },
     "execution_count": 86,
     "metadata": {},
     "output_type": "execute_result"
    }
   ],
   "source": [
    "whReleases['word_counts'] = whReleases['tokenized_text'].apply(lambda x: len(x))\n",
    "whReleases['word_counts']"
   ]
  },
  {
   "cell_type": "markdown",
   "metadata": {},
   "source": [
    "But before we proceed: what is the lambda function here? What the lambda function does here is that it iterates over the list row by row and applies the function, e.g. word_tokenize() or len(), to each list. So, it looks similar to for loop; but, lambda is an expression while for loop is a statement. I won't elaborate on the difference between these two here for space limitations. "
   ]
  },
  {
   "cell_type": "markdown",
   "metadata": {},
   "source": [
    "## <span style=\"color:red\">*Exercise 1*</span>\n",
    "\n",
    "<span style=\"color:red\">Construct cells immediately below this that input and interrogate a corpus relating to your anticipated final project. This could include one of the Davies corpora or some other you have constructed. Turn your text into an nltk `Text` object, and explore all of the features examined above, and others that relate to better understanding your corpus in relation to your research question. </span>"
   ]
  },
  {
   "cell_type": "markdown",
   "metadata": {},
   "source": [
    "# Filtering and normalizing text\n",
    "\n",
    "As we want to start comparing the different releases we may choose to do a bit of filtering and normalizing that will allow us to focus on what we most care about. We can first make all of the words lower case, then drop the non-word tokens. Next, we can remove some 'stop words', stem the remaining words to remove suffixes, prefixes and (in some languages) infixes, or lemmatize tokens by intelligently grouping inflected or variant forms of the same word (e.g., with a stemmer and a dictionary). \n",
    "\n",
    "To begin this process, we will first define a function to work over the tokenized lists, then another to add normalized tokens to a new column."
   ]
  },
  {
   "cell_type": "markdown",
   "metadata": {},
   "source": [
    "We will be using spaCy's built in stop words identifying capacity. When we run text through spaCy's language pipeline, it automatically tags it as a stop word. "
   ]
  },
  {
   "cell_type": "markdown",
   "metadata": {},
   "source": [
    "We can remove these stopwords from the analysis by fiat, but we could also take a more principled approach by looking at the frequency distribution of words and selecting a specific cut-off associated with the preservation of 'meaningful words' identified upon inspection. Alternatively, we could automatically set a cut-off by rule, such as removal of all words more frequent than the most frequent verb, or the most frequent noun (not pronoun), or some term of central interest. "
   ]
  },
  {
   "cell_type": "code",
   "execution_count": 87,
   "metadata": {},
   "outputs": [
    {
     "data": {
      "text/plain": [
       "[('the', 179),\n",
       " ('of', 112),\n",
       " ('to', 112),\n",
       " ('and', 108),\n",
       " ('in', 64),\n",
       " ('a', 61),\n",
       " (\"'s\", 50),\n",
       " ('that', 41),\n",
       " ('our', 39),\n",
       " ('for', 35),\n",
       " ('on', 33),\n",
       " ('is', 33),\n",
       " ('Whitehouse', 31),\n",
       " ('Iraq', 28),\n",
       " ('Bush', 27),\n",
       " ('President', 25),\n",
       " ('troops', 21),\n",
       " ('by', 19),\n",
       " ('American', 19),\n",
       " ('with', 18)]"
      ]
     },
     "execution_count": 87,
     "metadata": {},
     "output_type": "execute_result"
    }
   ],
   "source": [
    "countsDict = {}\n",
    "for word in whReleases['tokenized_text'].sum():\n",
    "    if word in countsDict:\n",
    "        countsDict[word] += 1\n",
    "    else:\n",
    "        countsDict[word] = 1\n",
    "word_counts = sorted(countsDict.items(), key = lambda x : x[1], reverse = True)\n",
    "word_counts[:20]"
   ]
  },
  {
   "cell_type": "markdown",
   "metadata": {},
   "source": [
    "What are we doing here? We want to get the list of all words in the corpus, and then count how many times each word is used. \"whReleases['tokenized_text'].sum()\" does the the former; and the rest of the codes in the loop does the latter. And then we use sorted function to sort the words in a descending order, i.e., arranged from the largest to the smallest number."
   ]
  },
  {
   "cell_type": "markdown",
   "metadata": {},
   "source": [
    "We can look at this and pick the cutoff, often at the first noun. So we will cut all words before `'Whitehouse'`."
   ]
  },
  {
   "cell_type": "code",
   "execution_count": 88,
   "metadata": {},
   "outputs": [
    {
     "data": {
      "text/plain": [
       "['the', 'of', 'to', 'and', 'in', 'a', \"'s\", 'that', 'our', 'for', 'on', 'is']"
      ]
     },
     "execution_count": 88,
     "metadata": {},
     "output_type": "execute_result"
    }
   ],
   "source": [
    "#The stop list is then all words that occur before the first noun\n",
    "stop_words_freq = []\n",
    "for word, count in word_counts:\n",
    "    if word == 'Whitehouse':\n",
    "        break\n",
    "    else:\n",
    "        stop_words_freq.append(word)\n",
    "stop_words_freq"
   ]
  },
  {
   "cell_type": "markdown",
   "metadata": {},
   "source": [
    "We're already familiar with for and if statements. But what does the break statement do here? Let's go back to what we are up to: We are trying to find words that occur more frequently than Whitehouse, which is the cutoff word that we're using here. So, using \"break\", we stopped when we see \"Whitehouse\"; then, we appended the words that appeared before \"Whitehouse\", i.e., the words that occurred more frequently than Whitehouse. As you can see, what the break statement does is: it stops the execution of the loop and move on to the next line of code. "
   ]
  },
  {
   "cell_type": "markdown",
   "metadata": {},
   "source": [
    "If we did have any extra words to add as stop words apart from those normally considered as stop words, we would add it to our stop words by passing it to the normalize tokens method. "
   ]
  },
  {
   "cell_type": "markdown",
   "metadata": {},
   "source": [
    "Now we can create our function to normalize the tokens"
   ]
  },
  {
   "cell_type": "code",
   "execution_count": 89,
   "metadata": {},
   "outputs": [],
   "source": [
    "def normalizeTokens(word_list, extra_stop=[]):\n",
    "    #We can use a generator here as we just need to iterate over it\n",
    "    normalized = []\n",
    "    if type(word_list) == list and len(word_list) == 1:\n",
    "        word_list = word_list[0]\n",
    "\n",
    "    if type(word_list) == list:\n",
    "        word_list = ' '.join([str(elem) for elem in word_list]) \n",
    "\n",
    "    doc = nlp(word_list.lower())\n",
    "    \n",
    "    # add the property of stop word to words considered as stop words\n",
    "    if len(extra_stop) > 0:\n",
    "        for stopword in extra_stop:\n",
    "            lexeme = nlp.vocab[stopword]\n",
    "            lexeme.is_stop = True\n",
    "\n",
    "    for w in doc:\n",
    "        # if it's not a stop word or punctuation mark, add it to our article\n",
    "        if w.text != '\\n' and not w.is_stop and not w.is_punct and not w.like_num and len(w.text.strip()) > 0:\n",
    "            # we add the lematized version of the word\n",
    "            normalized.append(str(w.lemma_))\n",
    "\n",
    "    return normalized"
   ]
  },
  {
   "cell_type": "code",
   "execution_count": 90,
   "metadata": {},
   "outputs": [
    {
     "data": {
      "text/html": [
       "<div>\n",
       "<style scoped>\n",
       "    .dataframe tbody tr th:only-of-type {\n",
       "        vertical-align: middle;\n",
       "    }\n",
       "\n",
       "    .dataframe tbody tr th {\n",
       "        vertical-align: top;\n",
       "    }\n",
       "\n",
       "    .dataframe thead th {\n",
       "        text-align: right;\n",
       "    }\n",
       "</style>\n",
       "<table border=\"1\" class=\"dataframe\">\n",
       "  <thead>\n",
       "    <tr style=\"text-align: right;\">\n",
       "      <th></th>\n",
       "      <th>name</th>\n",
       "      <th>text</th>\n",
       "      <th>path</th>\n",
       "      <th>html_url</th>\n",
       "      <th>download_url</th>\n",
       "      <th>tokenized_text</th>\n",
       "      <th>word_counts</th>\n",
       "      <th>normalized_tokens</th>\n",
       "      <th>normalized_tokens_count</th>\n",
       "    </tr>\n",
       "  </thead>\n",
       "  <tbody>\n",
       "    <tr>\n",
       "      <th>0</th>\n",
       "      <td>10Apr2007Whitehouse123.txt</td>\n",
       "      <td>SEN. WHITEHOUSE SHARES WESTERLY GIRL'S STORY I...</td>\n",
       "      <td>raw/Whitehouse/10Apr2007Whitehouse123.txt</td>\n",
       "      <td>https://github.com/lintool/GrimmerSenatePressR...</td>\n",
       "      <td>https://raw.githubusercontent.com/lintool/Grim...</td>\n",
       "      <td>[SEN, WHITEHOUSE, SHARES, WESTERLY, GIRL, 'S, ...</td>\n",
       "      <td>350</td>\n",
       "      <td>[sen, whitehouse, share, westerly, girl, story...</td>\n",
       "      <td>224</td>\n",
       "    </tr>\n",
       "    <tr>\n",
       "      <th>1</th>\n",
       "      <td>10Apr2008Whitehouse2.txt</td>\n",
       "      <td>SEN. WHITEHOUSE SAYS PRESIDENT BUSH MUST BEGIN...</td>\n",
       "      <td>raw/Whitehouse/10Apr2008Whitehouse2.txt</td>\n",
       "      <td>https://github.com/lintool/GrimmerSenatePressR...</td>\n",
       "      <td>https://raw.githubusercontent.com/lintool/Grim...</td>\n",
       "      <td>[SEN, WHITEHOUSE, SAYS, PRESIDENT, BUSH, MUST,...</td>\n",
       "      <td>311</td>\n",
       "      <td>[sen, whitehouse, say, president, bush, begin,...</td>\n",
       "      <td>159</td>\n",
       "    </tr>\n",
       "    <tr>\n",
       "      <th>2</th>\n",
       "      <td>10Apr2008Whitehouse3.txt</td>\n",
       "      <td>EPA MUST REVIEW LEGAL PROCESS TO ROOT OUT POLI...</td>\n",
       "      <td>raw/Whitehouse/10Apr2008Whitehouse3.txt</td>\n",
       "      <td>https://github.com/lintool/GrimmerSenatePressR...</td>\n",
       "      <td>https://raw.githubusercontent.com/lintool/Grim...</td>\n",
       "      <td>[EPA, MUST, REVIEW, LEGAL, PROCESS, TO, ROOT, ...</td>\n",
       "      <td>497</td>\n",
       "      <td>[epa, review, legal, process, root, political,...</td>\n",
       "      <td>298</td>\n",
       "    </tr>\n",
       "    <tr>\n",
       "      <th>3</th>\n",
       "      <td>10Aug2007Whitehouse78.txt</td>\n",
       "      <td>R.I. SENATORS PRAISE SEN. DENIAL OF LNG FACILI...</td>\n",
       "      <td>raw/Whitehouse/10Aug2007Whitehouse78.txt</td>\n",
       "      <td>https://github.com/lintool/GrimmerSenatePressR...</td>\n",
       "      <td>https://raw.githubusercontent.com/lintool/Grim...</td>\n",
       "      <td>[R.I., SENATORS, PRAISE, SEN, DENIAL, OF, LNG,...</td>\n",
       "      <td>189</td>\n",
       "      <td>[r.i, senator, praise, sen, denial, lng, facil...</td>\n",
       "      <td>116</td>\n",
       "    </tr>\n",
       "    <tr>\n",
       "      <th>4</th>\n",
       "      <td>10Jan2008Whitehouse35.txt</td>\n",
       "      <td>SEN. WHITEHOUSE COMMENTS ON ONE-YEAR ANNIVERSA...</td>\n",
       "      <td>raw/Whitehouse/10Jan2008Whitehouse35.txt</td>\n",
       "      <td>https://github.com/lintool/GrimmerSenatePressR...</td>\n",
       "      <td>https://raw.githubusercontent.com/lintool/Grim...</td>\n",
       "      <td>[SEN, WHITEHOUSE, COMMENTS, ON, ONE, YEAR, ANN...</td>\n",
       "      <td>236</td>\n",
       "      <td>[sen, whitehouse, comment, year, anniversary, ...</td>\n",
       "      <td>125</td>\n",
       "    </tr>\n",
       "    <tr>\n",
       "      <th>5</th>\n",
       "      <td>10Mar2008Whitehouse8.txt</td>\n",
       "      <td>SENS. REED, WHITEHOUSE WELCOME RHODE ISLAND ST...</td>\n",
       "      <td>raw/Whitehouse/10Mar2008Whitehouse8.txt</td>\n",
       "      <td>https://github.com/lintool/GrimmerSenatePressR...</td>\n",
       "      <td>https://raw.githubusercontent.com/lintool/Grim...</td>\n",
       "      <td>[SENS, REED, WHITEHOUSE, WELCOME, RHODE, ISLAN...</td>\n",
       "      <td>334</td>\n",
       "      <td>[sens, reed, whitehouse, welcome, rhode, islan...</td>\n",
       "      <td>197</td>\n",
       "    </tr>\n",
       "    <tr>\n",
       "      <th>6</th>\n",
       "      <td>10Sep2007Whitehouse72.txt</td>\n",
       "      <td>REP. WHITEHOUSE ISSUES STATEMENT ON GEN. PETRA...</td>\n",
       "      <td>raw/Whitehouse/10Sep2007Whitehouse72.txt</td>\n",
       "      <td>https://github.com/lintool/GrimmerSenatePressR...</td>\n",
       "      <td>https://raw.githubusercontent.com/lintool/Grim...</td>\n",
       "      <td>[REP, WHITEHOUSE, ISSUES, STATEMENT, ON, GEN, ...</td>\n",
       "      <td>241</td>\n",
       "      <td>[rep, whitehouse, issue, statement, gen, petra...</td>\n",
       "      <td>118</td>\n",
       "    </tr>\n",
       "    <tr>\n",
       "      <th>7</th>\n",
       "      <td>11Apr2007Whitehouse122.txt</td>\n",
       "      <td>SEN. WHITEHOUSE URGES BUSH FOR NEW DIRECTION I...</td>\n",
       "      <td>raw/Whitehouse/11Apr2007Whitehouse122.txt</td>\n",
       "      <td>https://github.com/lintool/GrimmerSenatePressR...</td>\n",
       "      <td>https://raw.githubusercontent.com/lintool/Grim...</td>\n",
       "      <td>[SEN, WHITEHOUSE, URGES, BUSH, FOR, NEW, DIREC...</td>\n",
       "      <td>469</td>\n",
       "      <td>[sen, whitehouse, urge, bush, new, direction, ...</td>\n",
       "      <td>249</td>\n",
       "    </tr>\n",
       "    <tr>\n",
       "      <th>8</th>\n",
       "      <td>11Jan2007Whitehouse161.txt</td>\n",
       "      <td>SENS. REED, WHITEHOUSE URGE PORTUGAL TO RECONS...</td>\n",
       "      <td>raw/Whitehouse/11Jan2007Whitehouse161.txt</td>\n",
       "      <td>https://github.com/lintool/GrimmerSenatePressR...</td>\n",
       "      <td>https://raw.githubusercontent.com/lintool/Grim...</td>\n",
       "      <td>[SENS, REED, WHITEHOUSE, URGE, PORTUGAL, TO, R...</td>\n",
       "      <td>443</td>\n",
       "      <td>[sens, reed, whitehouse, urge, portugal, recon...</td>\n",
       "      <td>237</td>\n",
       "    </tr>\n",
       "    <tr>\n",
       "      <th>9</th>\n",
       "      <td>11Mar2008Whitehouse7.txt</td>\n",
       "      <td>WHITEHOUSE UNVEILS 'BUSH DEBT': $7.7 TRILLION ...</td>\n",
       "      <td>raw/Whitehouse/11Mar2008Whitehouse7.txt</td>\n",
       "      <td>https://github.com/lintool/GrimmerSenatePressR...</td>\n",
       "      <td>https://raw.githubusercontent.com/lintool/Grim...</td>\n",
       "      <td>[WHITEHOUSE, UNVEILS, BUSH, DEBT, $, 7.7, TRIL...</td>\n",
       "      <td>425</td>\n",
       "      <td>[whitehouse, unveil, bush, debt, $, foregone, ...</td>\n",
       "      <td>241</td>\n",
       "    </tr>\n",
       "  </tbody>\n",
       "</table>\n",
       "</div>"
      ],
      "text/plain": [
       "                         name  \\\n",
       "0  10Apr2007Whitehouse123.txt   \n",
       "1    10Apr2008Whitehouse2.txt   \n",
       "2    10Apr2008Whitehouse3.txt   \n",
       "3   10Aug2007Whitehouse78.txt   \n",
       "4   10Jan2008Whitehouse35.txt   \n",
       "5    10Mar2008Whitehouse8.txt   \n",
       "6   10Sep2007Whitehouse72.txt   \n",
       "7  11Apr2007Whitehouse122.txt   \n",
       "8  11Jan2007Whitehouse161.txt   \n",
       "9    11Mar2008Whitehouse7.txt   \n",
       "\n",
       "                                                text  \\\n",
       "0  SEN. WHITEHOUSE SHARES WESTERLY GIRL'S STORY I...   \n",
       "1  SEN. WHITEHOUSE SAYS PRESIDENT BUSH MUST BEGIN...   \n",
       "2  EPA MUST REVIEW LEGAL PROCESS TO ROOT OUT POLI...   \n",
       "3  R.I. SENATORS PRAISE SEN. DENIAL OF LNG FACILI...   \n",
       "4  SEN. WHITEHOUSE COMMENTS ON ONE-YEAR ANNIVERSA...   \n",
       "5  SENS. REED, WHITEHOUSE WELCOME RHODE ISLAND ST...   \n",
       "6  REP. WHITEHOUSE ISSUES STATEMENT ON GEN. PETRA...   \n",
       "7  SEN. WHITEHOUSE URGES BUSH FOR NEW DIRECTION I...   \n",
       "8  SENS. REED, WHITEHOUSE URGE PORTUGAL TO RECONS...   \n",
       "9  WHITEHOUSE UNVEILS 'BUSH DEBT': $7.7 TRILLION ...   \n",
       "\n",
       "                                        path  \\\n",
       "0  raw/Whitehouse/10Apr2007Whitehouse123.txt   \n",
       "1    raw/Whitehouse/10Apr2008Whitehouse2.txt   \n",
       "2    raw/Whitehouse/10Apr2008Whitehouse3.txt   \n",
       "3   raw/Whitehouse/10Aug2007Whitehouse78.txt   \n",
       "4   raw/Whitehouse/10Jan2008Whitehouse35.txt   \n",
       "5    raw/Whitehouse/10Mar2008Whitehouse8.txt   \n",
       "6   raw/Whitehouse/10Sep2007Whitehouse72.txt   \n",
       "7  raw/Whitehouse/11Apr2007Whitehouse122.txt   \n",
       "8  raw/Whitehouse/11Jan2007Whitehouse161.txt   \n",
       "9    raw/Whitehouse/11Mar2008Whitehouse7.txt   \n",
       "\n",
       "                                            html_url  \\\n",
       "0  https://github.com/lintool/GrimmerSenatePressR...   \n",
       "1  https://github.com/lintool/GrimmerSenatePressR...   \n",
       "2  https://github.com/lintool/GrimmerSenatePressR...   \n",
       "3  https://github.com/lintool/GrimmerSenatePressR...   \n",
       "4  https://github.com/lintool/GrimmerSenatePressR...   \n",
       "5  https://github.com/lintool/GrimmerSenatePressR...   \n",
       "6  https://github.com/lintool/GrimmerSenatePressR...   \n",
       "7  https://github.com/lintool/GrimmerSenatePressR...   \n",
       "8  https://github.com/lintool/GrimmerSenatePressR...   \n",
       "9  https://github.com/lintool/GrimmerSenatePressR...   \n",
       "\n",
       "                                        download_url  \\\n",
       "0  https://raw.githubusercontent.com/lintool/Grim...   \n",
       "1  https://raw.githubusercontent.com/lintool/Grim...   \n",
       "2  https://raw.githubusercontent.com/lintool/Grim...   \n",
       "3  https://raw.githubusercontent.com/lintool/Grim...   \n",
       "4  https://raw.githubusercontent.com/lintool/Grim...   \n",
       "5  https://raw.githubusercontent.com/lintool/Grim...   \n",
       "6  https://raw.githubusercontent.com/lintool/Grim...   \n",
       "7  https://raw.githubusercontent.com/lintool/Grim...   \n",
       "8  https://raw.githubusercontent.com/lintool/Grim...   \n",
       "9  https://raw.githubusercontent.com/lintool/Grim...   \n",
       "\n",
       "                                      tokenized_text  word_counts  \\\n",
       "0  [SEN, WHITEHOUSE, SHARES, WESTERLY, GIRL, 'S, ...          350   \n",
       "1  [SEN, WHITEHOUSE, SAYS, PRESIDENT, BUSH, MUST,...          311   \n",
       "2  [EPA, MUST, REVIEW, LEGAL, PROCESS, TO, ROOT, ...          497   \n",
       "3  [R.I., SENATORS, PRAISE, SEN, DENIAL, OF, LNG,...          189   \n",
       "4  [SEN, WHITEHOUSE, COMMENTS, ON, ONE, YEAR, ANN...          236   \n",
       "5  [SENS, REED, WHITEHOUSE, WELCOME, RHODE, ISLAN...          334   \n",
       "6  [REP, WHITEHOUSE, ISSUES, STATEMENT, ON, GEN, ...          241   \n",
       "7  [SEN, WHITEHOUSE, URGES, BUSH, FOR, NEW, DIREC...          469   \n",
       "8  [SENS, REED, WHITEHOUSE, URGE, PORTUGAL, TO, R...          443   \n",
       "9  [WHITEHOUSE, UNVEILS, BUSH, DEBT, $, 7.7, TRIL...          425   \n",
       "\n",
       "                                   normalized_tokens  normalized_tokens_count  \n",
       "0  [sen, whitehouse, share, westerly, girl, story...                      224  \n",
       "1  [sen, whitehouse, say, president, bush, begin,...                      159  \n",
       "2  [epa, review, legal, process, root, political,...                      298  \n",
       "3  [r.i, senator, praise, sen, denial, lng, facil...                      116  \n",
       "4  [sen, whitehouse, comment, year, anniversary, ...                      125  \n",
       "5  [sens, reed, whitehouse, welcome, rhode, islan...                      197  \n",
       "6  [rep, whitehouse, issue, statement, gen, petra...                      118  \n",
       "7  [sen, whitehouse, urge, bush, new, direction, ...                      249  \n",
       "8  [sens, reed, whitehouse, urge, portugal, recon...                      237  \n",
       "9  [whitehouse, unveil, bush, debt, $, foregone, ...                      241  "
      ]
     },
     "execution_count": 90,
     "metadata": {},
     "output_type": "execute_result"
    }
   ],
   "source": [
    "whReleases['normalized_tokens'] = whReleases['tokenized_text'].apply(lambda x: normalizeTokens(x))\n",
    "\n",
    "whReleases['normalized_tokens_count'] = whReleases['normalized_tokens'].apply(lambda x: len(x))\n",
    "\n",
    "whReleases"
   ]
  },
  {
   "cell_type": "markdown",
   "metadata": {},
   "source": [
    "You can see that in the final step of normalizing, we add the lemmatized form of the word. spaCy's built in lemmatizer does this (https://spacy.io/api/lemmatizer). Lemmatization can be thought of as finding the root or the base of the word after removing inflections and other variations of words. Another possible way of finding the roots of words is using NLTK's porting or stemming functionalities, but we will not be getting into them.\n",
    "\n",
    "Now that it is cleaned we start analyzing the dataset. We can start by finding frequency distributions for the dataset. Lets start looking at all the press releases together. The [`ConditionalFreqDist`](http://www.nltk.org/api/nltk.html#nltk.probability.ConditionalProbDist) class reads in an iterable of tuples, the first element is the condition and the second the focal word. For starters, we will use word lengths as the conditions, but tags or clusters will provide more useful results."
   ]
  },
  {
   "cell_type": "code",
   "execution_count": 91,
   "metadata": {},
   "outputs": [
    {
     "name": "stdout",
     "output_type": "stream",
     "text": [
      "1964\n"
     ]
    }
   ],
   "source": [
    "#.sum() adds together the lists from each row into a single list\n",
    "whcfdist = nltk.ConditionalFreqDist(((len(w), w) for w in whReleases['normalized_tokens'].sum()))\n",
    "\n",
    "#print the number of words\n",
    "print(whcfdist.N())"
   ]
  },
  {
   "cell_type": "markdown",
   "metadata": {},
   "source": [
    "From this we can lookup the distributions of different word lengths"
   ]
  },
  {
   "cell_type": "code",
   "execution_count": 92,
   "metadata": {},
   "outputs": [
    {
     "data": {
      "image/png": "[encoded data removed]",
      "text/plain": [
       "<Figure size 432x288 with 1 Axes>"
      ]
     },
     "metadata": {},
     "output_type": "display_data"
    },
    {
     "data": {
      "text/plain": [
       "<AxesSubplot:xlabel='Samples', ylabel='Counts'>"
      ]
     },
     "execution_count": 92,
     "metadata": {},
     "output_type": "execute_result"
    }
   ],
   "source": [
    "whcfdist[3].plot()"
   ]
  },
  {
   "cell_type": "markdown",
   "metadata": {},
   "source": [
    "We can also create a Conditional Probability Distribution or [`ConditionalProbDist`](http://www.nltk.org/api/nltk.html#nltk.probability.ConditionalProbDist) from the `ConditionalFreqDist`. To do this, however, we need a model for the probability distribution. A simple model is [`ELEProbDist`](http://www.nltk.org/api/nltk.html#nltk.probability.ELEProbDist) which gives the expected likelihood estimate for the probability distribution of the experiment used to generate the observed frequency distribution. "
   ]
  },
  {
   "cell_type": "code",
   "execution_count": 93,
   "metadata": {},
   "outputs": [
    {
     "name": "stdout",
     "output_type": "stream",
     "text": [
      "ri\n",
      "0.25\n"
     ]
    }
   ],
   "source": [
    "whcpdist = nltk.ConditionalProbDist(whcfdist, nltk.ELEProbDist)\n",
    "\n",
    "#print the most common 2 letter word\n",
    "print(whcpdist[2].max())\n",
    "\n",
    "#And its probability\n",
    "print(whcpdist[2].prob(whcpdist[2].max()))"
   ]
  },
  {
   "cell_type": "markdown",
   "metadata": {},
   "source": [
    "Length is one feature of a word, but there are many more important features we care about. Another critical feature is a word's role in the sentence, or its part of speech (POS). \n",
    "\n",
    "The method below works similarly to ```nltk.pos_text```, and can work with the conditional frequency distributions it provides."
   ]
  },
  {
   "cell_type": "code",
   "execution_count": 94,
   "metadata": {},
   "outputs": [],
   "source": [
    "def spacy_pos(word_list):\n",
    "    tags = []\n",
    "    doc = nlp(word_list.lower())\n",
    "    for w in doc:\n",
    "        tags.append((w.text, w.tag_))\n",
    "    return tags"
   ]
  },
  {
   "cell_type": "code",
   "execution_count": 95,
   "metadata": {},
   "outputs": [],
   "source": [
    "whReleases['normalized_tokens_POS'] = [spacy_pos(t) for t in whReleases['text']]"
   ]
  },
  {
   "cell_type": "markdown",
   "metadata": {},
   "source": [
    "This gives us a new column with the part of speech as a short initialism and the word in a tuple, exactly how the `nltk.ConditionalFreqDist()` function wants them. We can now construct another conditional frequency distribution."
   ]
  },
  {
   "cell_type": "code",
   "execution_count": 96,
   "metadata": {},
   "outputs": [
    {
     "data": {
      "text/plain": [
       "[('sen', FreqDist({'NN': 9})),\n",
       " ('.', FreqDist({'.': 165, 'NNP': 1})),\n",
       " ('whitehouse', FreqDist({'NN': 39, 'VB': 1})),\n",
       " ('shares', FreqDist({'NNS': 1})),\n",
       " ('westerly', FreqDist({'RB': 2})),\n",
       " ('girl', FreqDist({'NN': 2})),\n",
       " (\"'s\", FreqDist({'POS': 47, 'VBZ': 5})),\n",
       " ('story', FreqDist({'NN': 2})),\n",
       " ('in', FreqDist({'IN': 72})),\n",
       " ('push', FreqDist({'NN': 1}))]"
      ]
     },
     "execution_count": 96,
     "metadata": {},
     "output_type": "execute_result"
    }
   ],
   "source": [
    "whcfdist_WordtoPOS = nltk.ConditionalFreqDist(whReleases['normalized_tokens_POS'].sum())\n",
    "list(whcfdist_WordtoPOS.items())[:10]"
   ]
  },
  {
   "cell_type": "markdown",
   "metadata": {},
   "source": [
    "This gives the frequency of each word as each part of speech...which can be uninformative and boring. What we want is the converse; the frequency of each part of speech for each word."
   ]
  },
  {
   "cell_type": "code",
   "execution_count": 97,
   "metadata": {},
   "outputs": [],
   "source": [
    "whcfdist_POStoWord = nltk.ConditionalFreqDist((p, w) for w, p in whReleases['normalized_tokens_POS'].sum())"
   ]
  },
  {
   "cell_type": "markdown",
   "metadata": {},
   "source": [
    "We can now identify and collect all of the superlative adjectives"
   ]
  },
  {
   "cell_type": "code",
   "execution_count": 98,
   "metadata": {},
   "outputs": [
    {
     "data": {
      "text/plain": [
       "FreqDist({'american': 19, 'new': 14, 'portuguese': 9, 'political': 8, 'federal': 6, 'united': 6, 'clear': 5, 'general': 5, 'potential': 5, 'fiscal': 5, ...})"
      ]
     },
     "execution_count": 98,
     "metadata": {},
     "output_type": "execute_result"
    }
   ],
   "source": [
    "whcfdist_POStoWord['JJ']"
   ]
  },
  {
   "cell_type": "markdown",
   "metadata": {},
   "source": [
    "Or look at the most common nouns"
   ]
  },
  {
   "cell_type": "code",
   "execution_count": 99,
   "metadata": {},
   "outputs": [
    {
     "data": {
      "text/plain": [
       "[('whitehouse', 39),\n",
       " ('president', 28),\n",
       " ('bush', 28),\n",
       " ('iraq', 27),\n",
       " ('rhode', 20)]"
      ]
     },
     "execution_count": 99,
     "metadata": {},
     "output_type": "execute_result"
    }
   ],
   "source": [
    "whcfdist_POStoWord['NN'].most_common(5)"
   ]
  },
  {
   "cell_type": "markdown",
   "metadata": {},
   "source": [
    "Or plot the base form verbs against their number of occurrences"
   ]
  },
  {
   "cell_type": "code",
   "execution_count": 100,
   "metadata": {},
   "outputs": [
    {
     "data": {
      "image/png": "[encoded data removed]",
      "text/plain": [
       "<Figure size 432x288 with 1 Axes>"
      ]
     },
     "metadata": {},
     "output_type": "display_data"
    },
    {
     "data": {
      "text/plain": [
       "<AxesSubplot:xlabel='Samples', ylabel='Counts'>"
      ]
     },
     "execution_count": 100,
     "metadata": {},
     "output_type": "execute_result"
    }
   ],
   "source": [
    "whcfdist_POStoWord['VB'].plot()"
   ]
  },
  {
   "cell_type": "markdown",
   "metadata": {},
   "source": [
    "We can then do a similar analysis of the word probabilities"
   ]
  },
  {
   "cell_type": "code",
   "execution_count": 101,
   "metadata": {},
   "outputs": [
    {
     "name": "stdout",
     "output_type": "stream",
     "text": [
      "whitehouse\n",
      "0.034037052994398964\n"
     ]
    }
   ],
   "source": [
    "whcpdist_POStoWord = nltk.ConditionalProbDist(whcfdist_POStoWord, nltk.ELEProbDist)\n",
    "\n",
    "#print the most common nouns\n",
    "print(whcpdist_POStoWord['NN'].max())\n",
    "\n",
    "#And its probability\n",
    "print(whcpdist_POStoWord['NN'].prob(whcpdist_POStoWord['NN'].max()))"
   ]
  },
  {
   "cell_type": "markdown",
   "metadata": {},
   "source": [
    "We can even create a...wait for it...*WORD CLOUD* or Wordl to gaze at and draw mystical, approximate inferences about important nouns and verbs in our corpus:"
   ]
  },
  {
   "cell_type": "code",
   "execution_count": 102,
   "metadata": {},
   "outputs": [
    {
     "data": {
      "image/png": "[encoded data removed]",
      "text/plain": [
       "<Figure size 432x288 with 1 Axes>"
      ]
     },
     "metadata": {},
     "output_type": "display_data"
    }
   ],
   "source": [
    "wc = wordcloud.WordCloud(background_color=\"white\", max_words=500, width= 1000, height = 1000, mode ='RGBA', scale=.5).generate(' '.join(whReleases['normalized_tokens'].sum()))\n",
    "plt.imshow(wc)\n",
    "plt.axis(\"off\")\n",
    "plt.savefig(\"whitehouse_word_cloud.pdf\", format = 'pdf')"
   ]
  },
  {
   "cell_type": "markdown",
   "metadata": {},
   "source": [
    "## <span style=\"color:red\">*Exercise 2*</span>\n",
    "\n",
    "<span style=\"color:red\">Construct cells immediately below this that filter, stem and lemmatize the tokens in your corpus, and then creates plots (with titles and labels) that map the word frequency distribution, word probability distribution, and at least two conditional probability distributions that help us better understand the social and cultural game underlying the production of your corpus. Create a wordl of words (or normalized words) and add a few vague comments about what mysteries are revealed through it.</span>"
   ]
  },
  {
   "cell_type": "markdown",
   "metadata": {},
   "source": [
    "## Davies Corpora\n",
    "\n",
    "Now that we have our basic cleaning down, we can arrange our Davies Corpora. Let us try this with the movies corpora we have already loaded.\n",
    "\n",
    "We'll use a smaller corpus of a 1000 movies for this demonstration."
   ]
  },
  {
   "cell_type": "markdown",
   "metadata": {},
   "source": [
    "https://www.corpusdata.org/formats.asp\n",
    "下載"
   ]
  },
  {
   "cell_type": "code",
   "execution_count": 104,
   "metadata": {},
   "outputs": [],
   "source": [
    "#zfile = zipfile.ZipFile(corpus_name + \"/sources_movies.zip\")\n",
    "zfile = zipfile.ZipFile(corpus_name + \"\\\\movies-sources.zip\")\n",
    "\n",
    "source = []\n"
   ]
  },
  {
   "cell_type": "code",
   "execution_count": 105,
   "metadata": {},
   "outputs": [],
   "source": [
    "for file in zfile.namelist():\n",
    "    with zfile.open(file) as f:\n",
    "        for line in f:\n",
    "            source.append(line)"
   ]
  },
  {
   "cell_type": "code",
   "execution_count": 176,
   "metadata": {},
   "outputs": [
    {
     "data": {
      "text/plain": [
       "[b'textID\\tfileID\\t#words\\tgenre\\tdate\\tcountry\\tlanguage(s)\\tIMDB\\ttitle\\r\\n',\n",
       " b'-----\\t-----\\t-----\\t-----\\t-----\\t-----\\t-----\\t-----\\t-----\\r\\n',\n",
       " b'\\r\\n',\n",
       " b'20641\\t176501\\t11140\\tDrama, Romance\\t1930\\tUSA\\tEnglish\\t0020641\\tAnna Christie\\r\\n',\n",
       " b'22241\\t5992934\\t7426\\tDrama\\t1931\\tUSA\\tEnglish\\t0022241\\tOver the Hill\\r\\n',\n",
       " b'25641\\t4613561\\t238\\tAnimation, Short, Comedy\\t1934\\tUSA\\tEnglish\\t0025641\\tPeculiar Penguins\\r\\n',\n",
       " b'26641\\t3639561\\t7536\\tComedy, Drama, Family\\t1935\\tUSA\\tEnglish\\t0026641\\tThe Littlest Rebel\\r\\n',\n",
       " b'26941\\t4613564\\t330\\tAnimation, Comedy, Family\\t1935\\tUSA\\tEnglish\\t0026941\\tThe Robber Kitten\\r\\n',\n",
       " b'27441\\t3097530\\t9379\\tComedy, Crime, Mystery\\t1936\\tUSA\\tEnglish, Cantonese\\t0027441\\tCharlie Chan at the Race Track\\r\\n',\n",
       " b'28141\\t6458656\\t7936\\tBiography, Drama, History\\t1936\\tUSA\\tEnglish\\t0028141\\tThe Prisoner of Shark Island\\r\\n',\n",
       " b'30341\\t3148641\\t10157\\tMystery, Thriller\\t1938\\tUK\\tEnglish, German, French, Italian\\t0030341\\tThe Lady Vanishes\\r\\n',\n",
       " b'30241\\t5192290\\t13428\\tComedy, Romance\\t1938\\tUSA\\tEnglish\\t0030241\\tHoliday\\r\\n',\n",
       " b\"31241\\t3656878\\t114\\tFamily, Animation, Comedy\\t1939\\tUSA\\tEnglish\\t0031241\\tDonald's Cousin Gus\\r\\n\",\n",
       " b'34241\\t4257286\\t7265\\tComedy, Music, Romance\\t1941\\tUSA\\tEnglish\\t0034241\\tSun Valley Serenade\\r\\n',\n",
       " b'36241\\t4799965\\t8999\\tComedy, Drama, Romance\\t1943\\tUSA\\tEnglish, Spanish\\t0036241\\tThe Outlaw\\r\\n',\n",
       " b'36341\\t6510398\\t7481\\tDrama, Horror, Mystery\\t1943\\tUSA\\tEnglish, Italian, Latin, French\\t0036341\\tThe Seventh Victim\\r\\n',\n",
       " b'36441\\t6691593\\t445\\tAnimation, Family, Short\\t1943\\tUSA\\tEnglish\\t0036441\\tTin Pan Alley Cats\\r\\n',\n",
       " b'36641\\t3589306\\t1628\\tMystery, Drama, Fantasy\\t1944\\tUSA\\tEnglish\\t0036641\\tBetween Two Worlds\\r\\n',\n",
       " b'39941\\t5243442\\t12111\\tDrama, Film-Noir, Mystery\\t1947\\tUSA\\tEnglish\\t0039941\\tThe Unsuspected\\r\\n',\n",
       " b'41841\\t5883516\\t8230\\tAction, Drama, Romance, War\\t1949\\tUSA\\tEnglish\\t0041841\\tSands of Iwo Jima\\r\\n']"
      ]
     },
     "execution_count": 176,
     "metadata": {},
     "output_type": "execute_result"
    }
   ],
   "source": [
    "source[0:20]"
   ]
  },
  {
   "cell_type": "markdown",
   "metadata": {},
   "source": [
    "It looks dirty because the file is encoded as bytes, but we can certainly see the information there. The file id is also present in the original raw text data: as the first \"word\". Look back at the normalized/tokenized words to confirm that. We're going to use this to create a dataframe with: Fileid, movie name, genre, year, and country.\n",
    "\n",
    "It is advised that you run a similar check of the source file before you do other extraction.\n",
    "\n",
    "First, let us create a dictionary mapping file-id to all the text. Each movie will be mapped to a list of the tokenized words.\n",
    "\n",
    "In this example, I only use it to load 100 movies. You can comment this out or increase/decrease the number as you see fit."
   ]
  },
  {
   "cell_type": "code",
   "execution_count": 183,
   "metadata": {},
   "outputs": [],
   "source": [
    "movie_texts = {}"
   ]
  },
  {
   "cell_type": "code",
   "execution_count": 189,
   "metadata": {},
   "outputs": [
    {
     "data": {
      "text/plain": [
       "{'movies_text.txt': [b\"@@176501 Either you 're flat or I am . I beg your pardon . Excuse me . Always the lady . Say ... Say , what the ... ? Why , I frighten your hiccup away , Marthy . Yes , you did . And I 'm going to hit you . See here . If you soak me in the eye again I 'm gon na quit you . - You get me ? - No . Only on the back this time , Marthy . I get you . - Well , I think you lose them , Marthy . - Yes . Yes , I did . Oh , I got it . Ten ... Ten swallows of this without breathing and ... sure cure . One , two , three , four , five 10 . Maybe I got \"]}"
      ]
     },
     "execution_count": 189,
     "metadata": {},
     "output_type": "execute_result"
    }
   ],
   "source": [
    "movie_raw"
   ]
  },
  {
   "cell_type": "code",
   "execution_count": 184,
   "metadata": {},
   "outputs": [],
   "source": [
    "for files in movie_raw:\n",
    "    if len(movie_texts) > 100:\n",
    "        break\n",
    "    movies = clean_raw_text(movie_raw[files][1:])\n",
    "    for movie in movies:\n",
    "        txts = lucem_illud_2020.word_tokenize(movie)\n",
    "        try:\n",
    "            movie_texts[txts[0][2:]] = txts[1:]\n",
    "        except IndexError:\n",
    "            continue"
   ]
  },
  {
   "cell_type": "code",
   "execution_count": 185,
   "metadata": {},
   "outputs": [],
   "source": [
    "import pandas as pd"
   ]
  },
  {
   "cell_type": "code",
   "execution_count": 186,
   "metadata": {},
   "outputs": [],
   "source": [
    "movie_df = pd.DataFrame(columns=[\"Movie Name\", \"Genre\", \"Year\", \"Country\", \"Tokenized Texts\"])"
   ]
  },
  {
   "cell_type": "markdown",
   "metadata": {},
   "source": [
    "textID\\tfileID\\t#words\\tgenre\\tdate\\tcountry\\tlanguage(s)\\tIMDB\\ttitle\\r\\"
   ]
  },
  {
   "cell_type": "code",
   "execution_count": 187,
   "metadata": {},
   "outputs": [],
   "source": [
    "for movie in source[3:]:\n",
    "    try:\n",
    "        tid, fileid, total_words, genre, year, country,language,imdb, title = movie.decode(\"utf-8\").split(\"\\t\")\n",
    "        #tid, fileid, total_words, genre, year, lang, country, imdb, title = movie.decode(\"utf-8\").split(\"\\t\")\n",
    "    except UnicodeDecodeError:\n",
    "        continue\n",
    "    try:\n",
    "        movie_df.loc[fileid.strip()] = [title.strip(), genre.strip(), year.strip(), country.strip(), movie_texts[fileid.strip()]]\n",
    "    except KeyError:\n",
    "        continue"
   ]
  },
  {
   "cell_type": "code",
   "execution_count": 188,
   "metadata": {},
   "outputs": [
    {
     "data": {
      "text/html": [
       "<div>\n",
       "<style scoped>\n",
       "    .dataframe tbody tr th:only-of-type {\n",
       "        vertical-align: middle;\n",
       "    }\n",
       "\n",
       "    .dataframe tbody tr th {\n",
       "        vertical-align: top;\n",
       "    }\n",
       "\n",
       "    .dataframe thead th {\n",
       "        text-align: right;\n",
       "    }\n",
       "</style>\n",
       "<table border=\"1\" class=\"dataframe\">\n",
       "  <thead>\n",
       "    <tr style=\"text-align: right;\">\n",
       "      <th></th>\n",
       "      <th>Movie Name</th>\n",
       "      <th>Genre</th>\n",
       "      <th>Year</th>\n",
       "      <th>Country</th>\n",
       "      <th>Tokenized Texts</th>\n",
       "    </tr>\n",
       "  </thead>\n",
       "  <tbody>\n",
       "  </tbody>\n",
       "</table>\n",
       "</div>"
      ],
      "text/plain": [
       "Empty DataFrame\n",
       "Columns: [Movie Name, Genre, Year, Country, Tokenized Texts]\n",
       "Index: []"
      ]
     },
     "execution_count": 188,
     "metadata": {},
     "output_type": "execute_result"
    }
   ],
   "source": [
    "movie_df.head()"
   ]
  },
  {
   "cell_type": "markdown",
   "metadata": {},
   "source": [
    "# Part-of-Speech (POS) tagging"
   ]
  },
  {
   "cell_type": "markdown",
   "metadata": {},
   "source": [
    "In POS tagging, we classify each word by its semantic role in a sentence. We will be using the in-built spaCy pos-tagging.\n",
    "\n",
    "https://spacy.io/usage/linguistic-features\n",
    "\n",
    "|#. |Tag |Description |\n",
    "|---|----|------------|\n",
    "|1.\t|CC\t|Coordinating conjunction\n",
    "|2.\t|CD\t|Cardinal number\n",
    "|3.\t|DT\t|Determiner\n",
    "|4.\t|EX\t|Existential there\n",
    "|5.\t|FW\t|Foreign word\n",
    "|6.\t|IN\t|Preposition or subordinating conjunction\n",
    "|7.\t|JJ\t|Adjective\n",
    "|8.\t|JJR|\tAdjective, comparative\n",
    "|9.\t|JJS|\tAdjective, superlative\n",
    "|10.|\tLS\t|List item marker\n",
    "|11.|\tMD\t|Modal\n",
    "|12.|\tNN\t|Noun, singular or mass\n",
    "|13.|\tNNS\t|Noun, plural\n",
    "|14.|\tNNP\t|Proper noun, singular\n",
    "|15.|\tNNPS|\tProper noun, plural\n",
    "|16.|\tPDT\t|Predeterminer\n",
    "|17.|\tPOS\t|Possessive ending\n",
    "|18.|\tPRP\t|Personal pronoun\n",
    "|19.|\tPRP\\$|\tPossessive pronoun\n",
    "|20.|\tRB\t|Adverb\n",
    "|21.|\tRBR\t|Adverb, comparative\n",
    "|22.|\tRBS\t|Adverb, superlative\n",
    "|23.|\tRP\t|Particle\n",
    "|24.|\tSYM\t|Symbol\n",
    "|25.|\tTO\t|to\n",
    "|26.|\tUH\t|Interjection\n",
    "|27.|\tVB\t|Verb, base form\n",
    "|28.|\tVBD\t|Verb, past tense\n",
    "|29.|\tVBG\t|Verb, gerund or present participle\n",
    "|30.|\tVBN\t|Verb, past participle\n",
    "|31.|\tVBP\t|Verb, non-3rd person singular present\n",
    "|32.|\tVBZ\t|Verb, 3rd person singular present\n",
    "|33.|\tWDT\t|Wh-determiner\n",
    "|34.|\tWP\t|Wh-pronoun\n",
    "|35.|\tWP$\t|Possessive wh-pronoun\n",
    "|36.|\tWRB\t|Wh-adverb\n",
    "\n",
    "spaCy pos-tags word as we run it through the english language model. A small example:"
   ]
  },
  {
   "cell_type": "code",
   "execution_count": 113,
   "metadata": {},
   "outputs": [],
   "source": [
    "sent = nlp(u\"Tom went to IKEA to get some of those delicious Swedish meatballs.\")\n"
   ]
  },
  {
   "cell_type": "code",
   "execution_count": 114,
   "metadata": {},
   "outputs": [
    {
     "name": "stdout",
     "output_type": "stream",
     "text": [
      "Tom PROPN NNP\n",
      "went VERB VBD\n",
      "to ADP IN\n",
      "IKEA NOUN NN\n",
      "to PART TO\n",
      "get VERB VB\n",
      "some DET DT\n",
      "of ADP IN\n",
      "those DET DT\n",
      "delicious ADJ JJ\n",
      "Swedish ADJ JJ\n",
      "meatballs NOUN NNS\n",
      ". PUNCT .\n"
     ]
    }
   ],
   "source": [
    "for token in sent:\n",
    "    print(token.text, token.pos_, token.tag_)"
   ]
  },
  {
   "cell_type": "markdown",
   "metadata": {},
   "source": [
    "This looks quite good. Now we will try POS tagging with a somewhat larger corpus. We consider a few of the top posts from the reddit data we used last week."
   ]
  },
  {
   "cell_type": "code",
   "execution_count": 115,
   "metadata": {},
   "outputs": [],
   "source": [
    "redditDF = pandas.read_csv('../data/reddit.csv')"
   ]
  },
  {
   "cell_type": "markdown",
   "metadata": {},
   "source": [
    "Grabbing the 10 highest scoring posts and tokenizing the sentences. Once again, notice that we aren't going to do any kind of stemming this week (although *semantic* normalization may be performed where we translate synonyms into the same focal word). Here, we will use sentences tokenized by spaCy. Like before, these methods can also be found in lucem_illud.\n",
    "\n"
   ]
  },
  {
   "cell_type": "code",
   "execution_count": 116,
   "metadata": {},
   "outputs": [],
   "source": [
    "def sent_tokenize(word_list):\n",
    "    doc = nlp(word_list)\n",
    "    #sentences = [sent.string.strip() for sent in doc.sents]\n",
    "    sentences = [sent.text.strip() for sent in doc.sents]\n",
    "    return sentences"
   ]
  },
  {
   "cell_type": "code",
   "execution_count": 117,
   "metadata": {},
   "outputs": [
    {
     "data": {
      "text/html": [
       "<div>\n",
       "<style scoped>\n",
       "    .dataframe tbody tr th:only-of-type {\n",
       "        vertical-align: middle;\n",
       "    }\n",
       "\n",
       "    .dataframe tbody tr th {\n",
       "        vertical-align: top;\n",
       "    }\n",
       "\n",
       "    .dataframe thead th {\n",
       "        text-align: right;\n",
       "    }\n",
       "</style>\n",
       "<table border=\"1\" class=\"dataframe\">\n",
       "  <thead>\n",
       "    <tr style=\"text-align: right;\">\n",
       "      <th></th>\n",
       "      <th>Unnamed: 0</th>\n",
       "      <th>author</th>\n",
       "      <th>over_18</th>\n",
       "      <th>score</th>\n",
       "      <th>subreddit</th>\n",
       "      <th>text</th>\n",
       "      <th>title</th>\n",
       "      <th>url</th>\n",
       "      <th>sentences</th>\n",
       "    </tr>\n",
       "  </thead>\n",
       "  <tbody>\n",
       "    <tr>\n",
       "      <th>9</th>\n",
       "      <td>8</td>\n",
       "      <td>brenkelieshere</td>\n",
       "      <td>False</td>\n",
       "      <td>9448</td>\n",
       "      <td>Tales From Tech Support</td>\n",
       "      <td>Last year, Help Desk got a call from a user co...</td>\n",
       "      <td>How to fix a laptop that won't boot in under a...</td>\n",
       "      <td>https://www.reddit.com/r/talesfromtechsupport/...</td>\n",
       "      <td>[[Last, year, Help, Desk, got, a, call, from, ...</td>\n",
       "    </tr>\n",
       "    <tr>\n",
       "      <th>8</th>\n",
       "      <td>7</td>\n",
       "      <td>Bombadils</td>\n",
       "      <td>False</td>\n",
       "      <td>10528</td>\n",
       "      <td>Tales From Tech Support</td>\n",
       "      <td>First post in quite some time! I work at a loc...</td>\n",
       "      <td>OK, now the password is 'D35p41r'</td>\n",
       "      <td>https://www.reddit.com/r/talesfromtechsupport/...</td>\n",
       "      <td>[[First, post, in, quite, some, time], [I, wor...</td>\n",
       "    </tr>\n",
       "    <tr>\n",
       "      <th>7</th>\n",
       "      <td>1200</td>\n",
       "      <td>whenlifegivesyoushit</td>\n",
       "      <td>False</td>\n",
       "      <td>11003</td>\n",
       "      <td>Relationships</td>\n",
       "      <td>[Original Post](https://www.reddit.com/r/relat...</td>\n",
       "      <td>[UPDATE]My [26 F] with my husband [29 M] 1 yea...</td>\n",
       "      <td>https://www.reddit.com/r/relationships/comment...</td>\n",
       "      <td>[[Original, Post](https://www.reddit.com, r, r...</td>\n",
       "    </tr>\n",
       "    <tr>\n",
       "      <th>6</th>\n",
       "      <td>6</td>\n",
       "      <td>sfsdfd</td>\n",
       "      <td>False</td>\n",
       "      <td>11295</td>\n",
       "      <td>Tales From Tech Support</td>\n",
       "      <td>I witnessed this astounding IT meltdown around...</td>\n",
       "      <td>Company-wide email + 30,000 employees + auto-r...</td>\n",
       "      <td>https://www.reddit.com/r/talesfromtechsupport/...</td>\n",
       "      <td>[[I, witnessed, this, astounding, IT, meltdown...</td>\n",
       "    </tr>\n",
       "    <tr>\n",
       "      <th>5</th>\n",
       "      <td>5</td>\n",
       "      <td>Raitaro</td>\n",
       "      <td>False</td>\n",
       "      <td>12372</td>\n",
       "      <td>Tales From Tech Support</td>\n",
       "      <td>I work Helpdesk for a retail store chain in th...</td>\n",
       "      <td>I'm pretty sure I knocked a user out from near...</td>\n",
       "      <td>https://www.reddit.com/r/talesfromtechsupport/...</td>\n",
       "      <td>[[I, work, Helpdesk, for, a, retail, store, ch...</td>\n",
       "    </tr>\n",
       "    <tr>\n",
       "      <th>4</th>\n",
       "      <td>4</td>\n",
       "      <td>goldie-gold</td>\n",
       "      <td>False</td>\n",
       "      <td>12650</td>\n",
       "      <td>Tales From Tech Support</td>\n",
       "      <td>This just happened...  So, I had a laptop syst...</td>\n",
       "      <td>Engineer is doing drugs!! No. No they aren't.</td>\n",
       "      <td>https://www.reddit.com/r/talesfromtechsupport/...</td>\n",
       "      <td>[[This, just, happened], [So, I, had, a, lapto...</td>\n",
       "    </tr>\n",
       "    <tr>\n",
       "      <th>3</th>\n",
       "      <td>3</td>\n",
       "      <td>TheDroolinFool</td>\n",
       "      <td>False</td>\n",
       "      <td>13152</td>\n",
       "      <td>Tales From Tech Support</td>\n",
       "      <td>Another tale from the out of hours IT desk... ...</td>\n",
       "      <td>\"I need you to fix Google Bing immediately!\"</td>\n",
       "      <td>https://www.reddit.com/r/talesfromtechsupport/...</td>\n",
       "      <td>[[Another, tale, from, the, out, of, hours, IT...</td>\n",
       "    </tr>\n",
       "    <tr>\n",
       "      <th>2</th>\n",
       "      <td>2</td>\n",
       "      <td>Clickity_clickity</td>\n",
       "      <td>False</td>\n",
       "      <td>13404</td>\n",
       "      <td>Tales From Tech Support</td>\n",
       "      <td>[Part 1](http://www.reddit.com/r/talesfromtech...</td>\n",
       "      <td>Jack, the Worst End User, Part 4</td>\n",
       "      <td>https://www.reddit.com/r/talesfromtechsupport/...</td>\n",
       "      <td>[[Part, 1](http://www.reddit.com, r, talesfrom...</td>\n",
       "    </tr>\n",
       "    <tr>\n",
       "      <th>1</th>\n",
       "      <td>1</td>\n",
       "      <td>SECGaz</td>\n",
       "      <td>False</td>\n",
       "      <td>13724</td>\n",
       "      <td>Tales From Tech Support</td>\n",
       "      <td>&gt; $Me  - Hello, IT.   &gt; $Usr - Hi, I am still ...</td>\n",
       "      <td>Hi, I am still off sick but I am not.</td>\n",
       "      <td>https://www.reddit.com/r/talesfromtechsupport/...</td>\n",
       "      <td>[[&gt;, $, Me, Hello, IT], [&gt;, $, Usr, Hi, I, am,...</td>\n",
       "    </tr>\n",
       "    <tr>\n",
       "      <th>0</th>\n",
       "      <td>0</td>\n",
       "      <td>guitarsdontdance</td>\n",
       "      <td>False</td>\n",
       "      <td>14089</td>\n",
       "      <td>Tales From Tech Support</td>\n",
       "      <td>So my story starts on what was a normal day ta...</td>\n",
       "      <td>\"Don't bother sending a tech, I'll be dead by ...</td>\n",
       "      <td>https://www.reddit.com/r/talesfromtechsupport/...</td>\n",
       "      <td>[[So, my, story, starts, on, what, was, a, nor...</td>\n",
       "    </tr>\n",
       "  </tbody>\n",
       "</table>\n",
       "</div>"
      ],
      "text/plain": [
       "   Unnamed: 0                author  over_18  score                subreddit  \\\n",
       "9           8        brenkelieshere    False   9448  Tales From Tech Support   \n",
       "8           7             Bombadils    False  10528  Tales From Tech Support   \n",
       "7        1200  whenlifegivesyoushit    False  11003            Relationships   \n",
       "6           6                sfsdfd    False  11295  Tales From Tech Support   \n",
       "5           5               Raitaro    False  12372  Tales From Tech Support   \n",
       "4           4           goldie-gold    False  12650  Tales From Tech Support   \n",
       "3           3        TheDroolinFool    False  13152  Tales From Tech Support   \n",
       "2           2     Clickity_clickity    False  13404  Tales From Tech Support   \n",
       "1           1                SECGaz    False  13724  Tales From Tech Support   \n",
       "0           0      guitarsdontdance    False  14089  Tales From Tech Support   \n",
       "\n",
       "                                                text  \\\n",
       "9  Last year, Help Desk got a call from a user co...   \n",
       "8  First post in quite some time! I work at a loc...   \n",
       "7  [Original Post](https://www.reddit.com/r/relat...   \n",
       "6  I witnessed this astounding IT meltdown around...   \n",
       "5  I work Helpdesk for a retail store chain in th...   \n",
       "4  This just happened...  So, I had a laptop syst...   \n",
       "3  Another tale from the out of hours IT desk... ...   \n",
       "2  [Part 1](http://www.reddit.com/r/talesfromtech...   \n",
       "1  > $Me  - Hello, IT.   > $Usr - Hi, I am still ...   \n",
       "0  So my story starts on what was a normal day ta...   \n",
       "\n",
       "                                               title  \\\n",
       "9  How to fix a laptop that won't boot in under a...   \n",
       "8                  OK, now the password is 'D35p41r'   \n",
       "7  [UPDATE]My [26 F] with my husband [29 M] 1 yea...   \n",
       "6  Company-wide email + 30,000 employees + auto-r...   \n",
       "5  I'm pretty sure I knocked a user out from near...   \n",
       "4      Engineer is doing drugs!! No. No they aren't.   \n",
       "3       \"I need you to fix Google Bing immediately!\"   \n",
       "2                   Jack, the Worst End User, Part 4   \n",
       "1              Hi, I am still off sick but I am not.   \n",
       "0  \"Don't bother sending a tech, I'll be dead by ...   \n",
       "\n",
       "                                                 url  \\\n",
       "9  https://www.reddit.com/r/talesfromtechsupport/...   \n",
       "8  https://www.reddit.com/r/talesfromtechsupport/...   \n",
       "7  https://www.reddit.com/r/relationships/comment...   \n",
       "6  https://www.reddit.com/r/talesfromtechsupport/...   \n",
       "5  https://www.reddit.com/r/talesfromtechsupport/...   \n",
       "4  https://www.reddit.com/r/talesfromtechsupport/...   \n",
       "3  https://www.reddit.com/r/talesfromtechsupport/...   \n",
       "2  https://www.reddit.com/r/talesfromtechsupport/...   \n",
       "1  https://www.reddit.com/r/talesfromtechsupport/...   \n",
       "0  https://www.reddit.com/r/talesfromtechsupport/...   \n",
       "\n",
       "                                           sentences  \n",
       "9  [[Last, year, Help, Desk, got, a, call, from, ...  \n",
       "8  [[First, post, in, quite, some, time], [I, wor...  \n",
       "7  [[Original, Post](https://www.reddit.com, r, r...  \n",
       "6  [[I, witnessed, this, astounding, IT, meltdown...  \n",
       "5  [[I, work, Helpdesk, for, a, retail, store, ch...  \n",
       "4  [[This, just, happened], [So, I, had, a, lapto...  \n",
       "3  [[Another, tale, from, the, out, of, hours, IT...  \n",
       "2  [[Part, 1](http://www.reddit.com, r, talesfrom...  \n",
       "1  [[>, $, Me, Hello, IT], [>, $, Usr, Hi, I, am,...  \n",
       "0  [[So, my, story, starts, on, what, was, a, nor...  "
      ]
     },
     "execution_count": 117,
     "metadata": {},
     "output_type": "execute_result"
    }
   ],
   "source": [
    "redditTopScores = redditDF.sort_values('score')[-10:]\n",
    "redditTopScores['sentences'] = redditTopScores['text'].apply(lambda x: [word_tokenize(s) for s in sent_tokenize(x)])\n",
    "redditTopScores.index = range(len(redditTopScores) - 1, -1,-1) #Reindex to make things nice in the future\n",
    "redditTopScores"
   ]
  },
  {
   "cell_type": "code",
   "execution_count": 118,
   "metadata": {},
   "outputs": [],
   "source": [
    "def tag_sents_pos(sentences):\n",
    "    \"\"\"\n",
    "    function which replicates NLTK pos tagging on sentences.\n",
    "    \"\"\"\n",
    "    new_sents = []\n",
    "    for sentence in sentences:\n",
    "        new_sent = ' '.join(sentence)\n",
    "        new_sents.append(new_sent)\n",
    "    final_string = ' '.join(new_sents)\n",
    "    doc = nlp(final_string)\n",
    "    \n",
    "    pos_sents = []\n",
    "    for sent in doc.sents:\n",
    "        pos_sent = []\n",
    "        for token in sent:\n",
    "            pos_sent.append((token.text, token.tag_))\n",
    "        pos_sents.append(pos_sent)\n",
    "    \n",
    "    return pos_sents"
   ]
  },
  {
   "cell_type": "code",
   "execution_count": 119,
   "metadata": {},
   "outputs": [],
   "source": [
    "redditTopScores['POS_sents'] = redditTopScores['sentences'].apply(lambda x: tag_sents_pos(x))"
   ]
  },
  {
   "cell_type": "code",
   "execution_count": 120,
   "metadata": {},
   "outputs": [
    {
     "data": {
      "text/plain": [
       "9    [[(Last, JJ), (year, NN), (Help, NNP), (Desk, ...\n",
       "8    [[(First, JJ), (post, NN), (in, IN), (quite, P...\n",
       "7    [[(Original, JJ), (Post](https://www.reddit.co...\n",
       "6    [[(I, PRP), (witnessed, VBD), (this, DT), (ast...\n",
       "5    [[(I, PRP), (work, VBP), (Helpdesk, NNP), (for...\n",
       "4    [[(This, DT), (just, RB), (happened, VBD), (So...\n",
       "3    [[(Another, DT), (tale, NN), (from, IN), (the,...\n",
       "2    [[(Part, NN), (1](http://www.reddit.com, CD)],...\n",
       "1    [[(>, NFP), ($, $), (Me, PRP)], [(Hello, UH), ...\n",
       "0    [[(So, RB), (my, PRP$), (story, NN), (starts, ...\n",
       "Name: POS_sents, dtype: object"
      ]
     },
     "execution_count": 120,
     "metadata": {},
     "output_type": "execute_result"
    }
   ],
   "source": [
    "redditTopScores['POS_sents']"
   ]
  },
  {
   "cell_type": "markdown",
   "metadata": {},
   "source": [
    "And count the number of `NN` (nouns)"
   ]
  },
  {
   "cell_type": "code",
   "execution_count": 121,
   "metadata": {},
   "outputs": [
    {
     "data": {
      "text/plain": [
       "[('password', 22),\n",
       " ('time', 14),\n",
       " ('u', 13),\n",
       " ('computer', 13),\n",
       " ('lot', 12),\n",
       " ('life', 11),\n",
       " ('email', 11),\n",
       " ('system', 10),\n",
       " ('laptop', 9),\n",
       " ('message', 9),\n",
       " ('day', 9),\n",
       " ('auto', 9),\n",
       " ('call', 8),\n",
       " ('office', 8),\n",
       " ('part', 8),\n",
       " ('today', 8),\n",
       " ('story', 8),\n",
       " ('IT', 8),\n",
       " ('user', 7),\n",
       " ('job', 7)]"
      ]
     },
     "execution_count": 121,
     "metadata": {},
     "output_type": "execute_result"
    }
   ],
   "source": [
    "countTarget = 'NN'\n",
    "targetCounts = {}\n",
    "for entry in redditTopScores['POS_sents']:\n",
    "    for sentence in entry:\n",
    "        for ent, kind in sentence:\n",
    "            if kind != countTarget:\n",
    "                continue\n",
    "            elif ent in targetCounts:\n",
    "                targetCounts[ent] += 1\n",
    "            else:\n",
    "                targetCounts[ent] = 1\n",
    "sortedTargets = sorted(targetCounts.items(), key = lambda x: x[1], reverse = True)\n",
    "sortedTargets[:20]"
   ]
  },
  {
   "cell_type": "markdown",
   "metadata": {},
   "source": [
    "What about the adjectives that modify the word, \"computer\"?"
   ]
  },
  {
   "cell_type": "code",
   "execution_count": 122,
   "metadata": {},
   "outputs": [
    {
     "name": "stdout",
     "output_type": "stream",
     "text": [
      "{'unrestricted', 'own'}\n"
     ]
    }
   ],
   "source": [
    "NTarget = 'JJ'\n",
    "Word = 'computer'\n",
    "NResults = set()\n",
    "for entry in redditTopScores['POS_sents']:\n",
    "    for sentence in entry:\n",
    "        for (ent1, kind1),(ent2,kind2) in zip(sentence[:-1], sentence[1:]):\n",
    "            if (kind1,ent2.lower())==(NTarget,Word):\n",
    "                NResults.add(ent1)\n",
    "            else:\n",
    "                continue\n",
    "\n",
    "print(NResults)     "
   ]
  },
  {
   "cell_type": "markdown",
   "metadata": {},
   "source": [
    "## <span style=\"color:red\">*Exercise 4*</span>\n",
    "\n",
    "<span style=\"color:red\">In the cells immediately following, perform POS tagging on a meaningful (but modest) subset of a corpus associated with your final project. Examine the list of words associated with at least three different parts of speech. Consider conditional associations (e.g., adjectives associated with nouns or adverbs with verbs of interest). What do these distributions suggest about your corpus?"
   ]
  },
  {
   "cell_type": "markdown",
   "metadata": {},
   "source": [
    "# Collocations"
   ]
  },
  {
   "cell_type": "markdown",
   "metadata": {},
   "source": [
    "As illustrated above, we might want to find significant bigrams (two-word phrases), trigrams (three-word phrases), n-grams (*n*-word phrases) or skip-grams (noncontinguous 'phrases' with skip-length *n*). \n",
    "\n",
    "We will begin with the [`nltk.collocations.BigramCollocationFinder`](http://www.nltk.org/api/nltk.html?highlight=bigramcollocationfinder#nltk.collocations.BigramCollocationFinder) class, which can be given raw lists of strings with the `from_words()` method. By default it only looks at continuous bigrams but there is an option (`window_size`) to allow skip-grams."
   ]
  },
  {
   "cell_type": "code",
   "execution_count": 123,
   "metadata": {},
   "outputs": [
    {
     "name": "stdout",
     "output_type": "stream",
     "text": [
      "There are 1964 bigrams in the finder\n"
     ]
    }
   ],
   "source": [
    "whBigrams = nltk.collocations.BigramCollocationFinder.from_words(whReleases['normalized_tokens'].sum())\n",
    "print(\"There are {} bigrams in the finder\".format(whBigrams.N))"
   ]
  },
  {
   "cell_type": "markdown",
   "metadata": {},
   "source": [
    "To compare the bigrams we need to tell nltk what our score function is. Initially, we will look at the raw counts."
   ]
  },
  {
   "cell_type": "code",
   "execution_count": 124,
   "metadata": {},
   "outputs": [
    {
     "name": "stdout",
     "output_type": "stream",
     "text": [
      "[('president', 'bush'), ('rhode', 'island'), ('sheldon', 'whitehouse'), ('stem', 'cell'), ('whitehouse', 'd'), ('d', 'r.i'), ('bush', 'administration'), ('u.s', 'senator'), ('whitehouse', 'say'), ('american', 'people')]\n"
     ]
    }
   ],
   "source": [
    "def bigramScoring(count, wordsTuple, total):\n",
    "    return count\n",
    "\n",
    "print(whBigrams.nbest(bigramScoring, 10))"
   ]
  },
  {
   "cell_type": "markdown",
   "metadata": {},
   "source": [
    "One note about how `BigramCollocationFinder` works. It doesn't use the strings internally."
   ]
  },
  {
   "cell_type": "code",
   "execution_count": 125,
   "metadata": {},
   "outputs": [
    {
     "name": "stdout",
     "output_type": "stream",
     "text": [
      "The first word is:  28, The second word is: 31\n",
      "The first word is:  20, The second word is: 17\n",
      "The first word is:  12, The second word is: 12\n",
      "The first word is:  12, The second word is: 40\n",
      "The first word is:  40, The second word is: 17\n",
      "The first word is:  17, The second word is: 10\n",
      "The first word is:  40, The second word is: 17\n",
      "The first word is:  13, The second word is: 13\n",
      "The first word is:  31, The second word is: 11\n",
      "The first word is:  9, The second word is: 24\n"
     ]
    }
   ],
   "source": [
    "birgramScores = []\n",
    "\n",
    "def bigramPrinting(count, wordsTuple, total):\n",
    "    global birgramScores\n",
    "    birgramScores.append(\"The first word is:  {}, The second word is: {}\".format(*wordsTuple))\n",
    "    #Returns None so all the tuples are considered to have the same rank\n",
    "\n",
    "whBigrams.nbest(bigramPrinting, 10)\n",
    "print('\\n'.join(birgramScores[:10]))"
   ]
  },
  {
   "cell_type": "markdown",
   "metadata": {},
   "source": [
    "The words are each given numeric IDs and there is a dictionary that maps the IDs to the words they represent. This is a common performance optimization.\n",
    "\n",
    "Two words can appear together by chance. Recall from  Manning and Schütze's textbook that a t-value can be computed for each bigram to see how significant the association is. You may also want to try computing the $\\chi^2$, likelihood ratio, and pointwise mutual information statistics. "
   ]
  },
  {
   "cell_type": "code",
   "execution_count": 126,
   "metadata": {},
   "outputs": [
    {
     "data": {
      "text/plain": [
       "[(('rhode', 'island'), 178.42791632631025),\n",
       " (('stem', 'cell'), 146.27449459815534),\n",
       " (('president', 'bush'), 126.23062149808423),\n",
       " (('sheldon', 'whitehouse'), 97.40535043376386),\n",
       " (('d', 'r.i'), 84.89634183337617),\n",
       " (('united', 'state'), 63.528572026357075),\n",
       " (('whitehouse', 'd'), 57.74744623651276),\n",
       " (('u.s', 'senator'), 57.03786703770191),\n",
       " (('senator', 'sheldon'), 46.93608358543005),\n",
       " (('jack', 'reed'), 46.47304595760241),\n",
       " (('bush', 'administration'), 45.4509557751863),\n",
       " (('honor', 'society'), 44.900172381728815),\n",
       " (('american', 'people'), 43.66613970841824),\n",
       " (('bring', 'troop'), 43.07951375003984),\n",
       " (('cell', 'research'), 41.08298559892974),\n",
       " (('d', 'ri'), 39.013185331609264),\n",
       " (('potential', 'closing'), 38.17005571163625),\n",
       " (('youth', 'program'), 38.17005571163625),\n",
       " (('troop', 'home'), 36.666015832295386),\n",
       " (('come', 'home'), 36.52029777577777),\n",
       " (('epw', 'committee'), 34.315160571201105),\n",
       " (('whitehouse', 'say'), 33.09869922194955),\n",
       " (('budget', 'resolution'), 32.08678784585971),\n",
       " (('district', 'columbia'), 31.556327881857438),\n",
       " (('greenhouse', 'gas'), 31.556327881857438),\n",
       " (('humpty', 'dumpty'), 31.556327881857438),\n",
       " (('jose', 'socrate'), 31.556327881857438),\n",
       " (('prime', 'minister'), 31.556327881857438),\n",
       " (('weaver', 'cove'), 31.556327881857438),\n",
       " (('change', 'course'), 31.444022758433917),\n",
       " (('send', 'clear'), 31.444022758433917),\n",
       " (('new', 'direction'), 30.35193688607352),\n",
       " (('senate', 'youth'), 29.888099675583184),\n",
       " (('rhode', 'islander'), 27.991808869489184),\n",
       " (('enhancement', 'act'), 27.73724287208856),\n",
       " (('harm', 'way'), 27.73724287208856),\n",
       " (('interest', 'payment'), 27.73724287208856),\n",
       " (('foregone', 'surplus'), 26.01115043737788),\n",
       " (('sen', 'whitehouse'), 25.89621972953516),\n",
       " (('direction', 'iraq'), 24.987906473769613)]"
      ]
     },
     "execution_count": 126,
     "metadata": {},
     "output_type": "execute_result"
    }
   ],
   "source": [
    "bigram_measures = nltk.collocations.BigramAssocMeasures()\n",
    "whBigrams.score_ngrams(bigram_measures.likelihood_ratio)[:40]\n",
    "# other options include student_t, chi_sq, likelihood_ratio, pmi"
   ]
  },
  {
   "cell_type": "markdown",
   "metadata": {},
   "source": [
    "There are a few other available measures"
   ]
  },
  {
   "cell_type": "code",
   "execution_count": 127,
   "metadata": {},
   "outputs": [
    {
     "data": {
      "text/plain": [
       "['chi_sq',\n",
       " 'dice',\n",
       " 'fisher',\n",
       " 'jaccard',\n",
       " 'likelihood_ratio',\n",
       " 'mi_like',\n",
       " 'phi_sq',\n",
       " 'pmi',\n",
       " 'poisson_stirling',\n",
       " 'raw_freq',\n",
       " 'student_t']"
      ]
     },
     "execution_count": 127,
     "metadata": {},
     "output_type": "execute_result"
    }
   ],
   "source": [
    "[s for s in dir(bigram_measures) if s[0] != '_']"
   ]
  },
  {
   "cell_type": "markdown",
   "metadata": {},
   "source": [
    "We can also look at trigrams"
   ]
  },
  {
   "cell_type": "code",
   "execution_count": 128,
   "metadata": {},
   "outputs": [
    {
     "data": {
      "text/plain": [
       "[(('sheldon', 'whitehouse', 'd'), 3.1616086893217816),\n",
       " (('whitehouse', 'd', 'r.i'), 2.6450850001523705),\n",
       " (('bring', 'troop', 'home'), 2.449192549827382),\n",
       " (('senator', 'sheldon', 'whitehouse'), 2.448829313992519),\n",
       " (('stem', 'cell', 'research'), 2.235917719697493),\n",
       " (('u.s', 'senator', 'sheldon'), 2.235832851864714),\n",
       " (('senate', 'youth', 'program'), 1.7320171301402933),\n",
       " (('jack', 'reed', 'd'), 1.7319693830304341),\n",
       " (('united', 'state', 'senator'), 1.7318990346240586),\n",
       " (('new', 'direction', 'iraq'), 1.7318496410621351),\n",
       " (('whitehouse', 'd', 'ri'), 1.731643684876661),\n",
       " (('rhode', 'island', 'state'), 1.7313892331940257),\n",
       " (('sen', 'sheldon', 'whitehouse'), 1.7313323557590838),\n",
       " (('reconsider', 'potential', 'closing'), 1.4142080628720362),\n",
       " (('responsibility', 'security', 'governance'), 1.4142047631714012),\n",
       " (('$', 'foregone', 'surplus'), 1.4142018301041699),\n",
       " (('v.', 'epa', 'decide'), 1.4142018301041699),\n",
       " (('cell', 'enhancement', 'act'), 1.4142003635705542),\n",
       " (('select', 'committee', 'intelligence'), 1.4142003635705542),\n",
       " (('send', 'clear', 'message'), 1.4141998136204483)]"
      ]
     },
     "execution_count": 128,
     "metadata": {},
     "output_type": "execute_result"
    }
   ],
   "source": [
    "trigram_measures = nltk.collocations.TrigramAssocMeasures()\n",
    "whTrigrams = nltk.collocations.TrigramCollocationFinder.from_words(whReleases['normalized_tokens'].sum())\n",
    "whTrigrams.score_ngrams(trigram_measures.student_t)[:20]"
   ]
  },
  {
   "cell_type": "markdown",
   "metadata": {},
   "source": [
    "Or n-grams (for any number n)"
   ]
  },
  {
   "cell_type": "code",
   "execution_count": 129,
   "metadata": {},
   "outputs": [
    {
     "name": "stdout",
     "output_type": "stream",
     "text": [
      "{('sen', 'sheldon', 'whitehouse', 'd'): 2, ('sheldon', 'whitehouse', 'd', 'r.i'): 7, ('stem', 'cell', 'research', 'whitehouse'): 2, ('stem', 'cell', 'enhancement', 'act'): 2, ('begin', 'bring', 'troop', 'home'): 2, ('bring', 'troop', 'home', 'iraq'): 2, ('u.s', 'senator', 'sheldon', 'whitehouse'): 5, ('senator', 'sheldon', 'whitehouse', 'd'): 5, ('sheldon', 'whitehouse', 'd', 'ri'): 3, ('whitehouse', 'd', 'ri', 'say'): 2, ('d', 'ri', 'say', 'today'): 2, ('member', 'senate', 'select', 'committee'): 2, ('senate', 'select', 'committee', 'intelligence'): 2, ('california', 'rhode', 'island', 'state'): 2, ('u.s', 'senator', 'jack', 'reed'): 2, ('senator', 'jack', 'reed', 'd'): 2, ('jack', 'reed', 'd', 'r.i'): 2, ('reed', 'd', 'r.i', 'sheldon'): 2, ('d', 'r.i', 'sheldon', 'whitehouse'): 2, ('r.i', 'sheldon', 'whitehouse', 'd'): 2, ('iraq', 'sen', 'sheldon', 'whitehouse'): 2, ('portuguese', 'american', 'citizen', 'rhode'): 2, ('american', 'citizen', 'rhode', 'island'): 2}\n"
     ]
    }
   ],
   "source": [
    "Ngrams = nltk.ngrams(whReleases['normalized_tokens'].sum(), 4)\n",
    "Counts = {}\n",
    "for ngram in list(Ngrams):\n",
    "    if ngram in Counts.keys():\n",
    "        Counts[ngram] += 1\n",
    "    else:\n",
    "        Counts[ngram] = 1\n",
    "Filtered = {}\n",
    "for key in Counts.keys():\n",
    "    if Counts[key] < 2:\n",
    "        pass\n",
    "    else:\n",
    "        Filtered[key] = Counts[key]\n",
    "print(Filtered)"
   ]
  },
  {
   "cell_type": "markdown",
   "metadata": {},
   "source": [
    "Gensim is another important python text processing package which allows us to use collocations, among other cool methods (which we will explore later weeks)."
   ]
  },
  {
   "cell_type": "code",
   "execution_count": 130,
   "metadata": {},
   "outputs": [],
   "source": [
    "import gensim"
   ]
  },
  {
   "cell_type": "code",
   "execution_count": 131,
   "metadata": {},
   "outputs": [],
   "source": [
    "bigram = gensim.models.Phrases(whReleases['normalized_tokens'])"
   ]
  },
  {
   "cell_type": "code",
   "execution_count": 132,
   "metadata": {},
   "outputs": [],
   "source": [
    "texts = [bigram[line] for line in whReleases['normalized_tokens']]"
   ]
  },
  {
   "cell_type": "code",
   "execution_count": 133,
   "metadata": {},
   "outputs": [
    {
     "data": {
      "text/plain": [
       "['sen',\n",
       " 'whitehouse',\n",
       " 'share',\n",
       " 'westerly',\n",
       " 'girl',\n",
       " 'story',\n",
       " 'push',\n",
       " 'stem_cell',\n",
       " 'research',\n",
       " 'share',\n",
       " 'story',\n",
       " 'lila',\n",
       " 'barber',\n",
       " 'year',\n",
       " 'old',\n",
       " 'girl',\n",
       " 'westerly',\n",
       " 'sen',\n",
       " 'sheldon_whitehouse',\n",
       " 'd_r.i',\n",
       " 'tuesday',\n",
       " 'april',\n",
       " 'illustrate',\n",
       " 'hope',\n",
       " 'stem_cell',\n",
       " 'research',\n",
       " 'offer',\n",
       " 'speech',\n",
       " 'senate',\n",
       " 'floor',\n",
       " 'favor',\n",
       " 'legislation',\n",
       " 'expand',\n",
       " 'federal',\n",
       " 'funding',\n",
       " 'stem_cell',\n",
       " 'research',\n",
       " 'whitehouse',\n",
       " 'meet',\n",
       " 'lila',\n",
       " 'week',\n",
       " 'ago',\n",
       " 'diagnose',\n",
       " 'year',\n",
       " 'ago',\n",
       " 'osteosarcoma',\n",
       " 'cancerous',\n",
       " 'bone',\n",
       " 'condition',\n",
       " 'year',\n",
       " 'undergo',\n",
       " 'cadaver',\n",
       " 'bone',\n",
       " 'transplant',\n",
       " 'surgery',\n",
       " 'procedure',\n",
       " 'save',\n",
       " 'leg',\n",
       " 'help',\n",
       " 'remain',\n",
       " 'cancer',\n",
       " 'free',\n",
       " 'transplanted',\n",
       " 'tissue',\n",
       " 'grow',\n",
       " 'likely',\n",
       " 'break',\n",
       " 'time',\n",
       " 'stem_cell',\n",
       " 'research',\n",
       " 'whitehouse',\n",
       " 'explain',\n",
       " 'vastly',\n",
       " 'improve',\n",
       " 'care',\n",
       " 'patient',\n",
       " 'like',\n",
       " 'lila',\n",
       " 'allow',\n",
       " 'surgeon',\n",
       " 'enhance',\n",
       " 'transplant',\n",
       " 'patient',\n",
       " 'stem_cell',\n",
       " 'replace',\n",
       " 'lost',\n",
       " 'bone',\n",
       " 'cartilage',\n",
       " 'grow',\n",
       " 'entirely',\n",
       " 'new',\n",
       " 'replacement',\n",
       " 'bone',\n",
       " 'joint',\n",
       " 'stem_cell',\n",
       " 'research',\n",
       " 'give',\n",
       " 'hope',\n",
       " 'lila',\n",
       " 'million',\n",
       " 'american',\n",
       " 'challenge',\n",
       " 'osteosarcoma',\n",
       " 'diabetes',\n",
       " 'heart',\n",
       " 'disease',\n",
       " 'alzheimer',\n",
       " 'parkinson',\n",
       " 'spinal',\n",
       " 'cord',\n",
       " 'injury',\n",
       " 'stroke',\n",
       " 'myriad',\n",
       " 'disease',\n",
       " 'condition',\n",
       " 'research',\n",
       " 'help',\n",
       " 'cure',\n",
       " 'whitehouse',\n",
       " 'say',\n",
       " 'whitehouse',\n",
       " 'praise',\n",
       " 'effort',\n",
       " 'rhode_island',\n",
       " 'congressman',\n",
       " 'jim',\n",
       " 'langevin',\n",
       " 'd',\n",
       " 'champion',\n",
       " 'stem_cell',\n",
       " 'legislation',\n",
       " 'nationally',\n",
       " 'rhode_island',\n",
       " 'rhode_island',\n",
       " 'lieutenant',\n",
       " 'governor',\n",
       " 'elizabeth',\n",
       " 'robert',\n",
       " 'robert',\n",
       " 'today',\n",
       " 'release',\n",
       " 'statewide',\n",
       " 'report',\n",
       " 'stem_cell',\n",
       " 'step',\n",
       " 'develop',\n",
       " 'comprehensive',\n",
       " 'plan',\n",
       " 'research',\n",
       " 'initiative',\n",
       " 'rhode_island',\n",
       " 'stem_cell',\n",
       " 'enhancement',\n",
       " 'act',\n",
       " 's.',\n",
       " 'expand',\n",
       " 'number',\n",
       " 'human',\n",
       " 'embryonic',\n",
       " 'stem_cell',\n",
       " 'eligible',\n",
       " 'federally',\n",
       " 'fund',\n",
       " 'research',\n",
       " 'arbitrary',\n",
       " 'limit',\n",
       " 'impose',\n",
       " 'president_bush',\n",
       " 'august',\n",
       " 'bill',\n",
       " 'direct',\n",
       " 'department',\n",
       " 'health',\n",
       " 'human',\n",
       " 'service',\n",
       " 'hhs',\n",
       " 'conduct',\n",
       " 'research',\n",
       " 'stem_cell',\n",
       " 'derive',\n",
       " 'embryo',\n",
       " 'currently',\n",
       " 'store',\n",
       " 'fertility',\n",
       " 'clinic',\n",
       " 'destroy',\n",
       " 'year',\n",
       " 'senator',\n",
       " 'vote',\n",
       " 'pass',\n",
       " 'stem_cell',\n",
       " 'enhancement',\n",
       " 'act',\n",
       " 'h.r',\n",
       " 'legislation',\n",
       " 'similar',\n",
       " 's.',\n",
       " 'president_bush',\n",
       " 'issue',\n",
       " 'veto',\n",
       " 'presidency',\n",
       " 'block',\n",
       " 'bipartisan',\n",
       " 'measure']"
      ]
     },
     "execution_count": 133,
     "metadata": {},
     "output_type": "execute_result"
    }
   ],
   "source": [
    "texts[0]"
   ]
  },
  {
   "cell_type": "markdown",
   "metadata": {},
   "source": [
    "## <span style=\"color:red\">*Exercise 5*</span>\n",
    "\n",
    "<span style=\"color:red\">Construct cells immediately below this that identify statistically significant bigrams, trigrams, quadgrams, higher-order *n*grams and skipgrams. Explore whether these collocations are idiomatic and so irreducible to the semantic sum of their component words. You can do this by examination of conditional frequencies (e.g., what else is 'united' besides the 'United States'). If these phrases are idiomatic, what do they suggest about the culture of the world producing them?\n",
    "\n",
    "<span style=\"color:red\">**Stretch**: In Manning and Schütze's textbook, there Section 5.3.2 explores how to use the *t*-test to find words whose co-occurance patterns best distinguish two words. Implement that and use it to explore phrases in your corpus. For instance, you could tell what words come after \"America\" much more often than after \"Iraq\"?</span> "
   ]
  },
  {
   "cell_type": "markdown",
   "metadata": {},
   "source": [
    "# Named-Entity Recognition\n",
    "\n",
    "Named Entity Recognition (NER) is also a classification task, which identifies named objects. \n",
    "Like every other part of the pipeline, spaCy also tags words with their tagged entity (https://spacy.io/api/entityrecognizer). You can see the full capacity of what spaCy does by checking out: https://spacy.io/usage/linguistic-features.\n",
    "\n",
    "For training the identification of such entities, spaCy uses a deep learning model."
   ]
  },
  {
   "cell_type": "markdown",
   "metadata": {},
   "source": [
    "Let's try it on a basic sentence:"
   ]
  },
  {
   "cell_type": "code",
   "execution_count": 134,
   "metadata": {},
   "outputs": [],
   "source": [
    "sent = nlp(u\"Tom went to IKEA to get some of those delicious Swedish meatballs.\")"
   ]
  },
  {
   "cell_type": "code",
   "execution_count": 135,
   "metadata": {},
   "outputs": [
    {
     "name": "stdout",
     "output_type": "stream",
     "text": [
      "Tom PERSON\n",
      "went \n",
      "to \n",
      "IKEA \n",
      "to \n",
      "get \n",
      "some \n",
      "of \n",
      "those \n",
      "delicious \n",
      "Swedish NORP\n",
      "meatballs \n",
      ". \n"
     ]
    }
   ],
   "source": [
    "for token in sent:\n",
    "    print(token.text, token.ent_type_)"
   ]
  },
  {
   "cell_type": "markdown",
   "metadata": {},
   "source": [
    "For only finding ents-"
   ]
  },
  {
   "cell_type": "code",
   "execution_count": 136,
   "metadata": {},
   "outputs": [
    {
     "name": "stdout",
     "output_type": "stream",
     "text": [
      "Tom PERSON\n",
      "Swedish NORP\n"
     ]
    }
   ],
   "source": [
    "for ent in sent.ents:\n",
    "    print(ent.text, ent.label_)"
   ]
  },
  {
   "cell_type": "code",
   "execution_count": 137,
   "metadata": {},
   "outputs": [],
   "source": [
    "def tag_sents_ner(sentences):\n",
    "    \"\"\"\n",
    "    function which replicates NLTK ner tagging on sentences.\n",
    "    \"\"\"\n",
    "    new_sents = []\n",
    "    for sentence in sentences:\n",
    "        new_sent = ' '.join(sentence)\n",
    "        new_sents.append(new_sent)\n",
    "    final_string = ' '.join(new_sents)\n",
    "    \n",
    "    print(new_sents)\n",
    "    print(final_string)\n",
    "    \n",
    "    doc = nlp(final_string)\n",
    "    \n",
    "    pos_sents = []\n",
    "    for sent in doc.sents:\n",
    "        pos_sent = []\n",
    "        for ent in sent.ents:\n",
    "            pos_sent.append((ent.text, ent.label_))\n",
    "        pos_sents.append(pos_sent)\n",
    "    \n",
    "    return pos_sents"
   ]
  },
  {
   "cell_type": "markdown",
   "metadata": {},
   "source": [
    "We can also run NER over our entire corpus:"
   ]
  },
  {
   "cell_type": "code",
   "execution_count": 138,
   "metadata": {},
   "outputs": [
    {
     "name": "stdout",
     "output_type": "stream",
     "text": [
      "['Last year Help Desk got a call from a user complaining that the laptop we issued him would not read DVDs', \"He was one of those I 'm a very busy and a very important man and I do n't have time to follow your troubleshooting steps over the phone\", 'Just fix it dammit', 'kinda guys so he said he would get someone to drop off the laptop at our office and pick up a loaner', 'nbsp', \"We received the laptop a couple days later there was a note attached saying that now it was n't even booting into Windows anymore\", '', \"Sure enough he was right it did n't even attempt to load Windows and instead we were greeted by the Non system disk or disk error message\", '', 'It sounded and looked like the PC was trying to boot from the DVD drive instead of the HDD', 'nbsp', 'We opened the disk tray and saw the culprit', '', 'There was a DVD in there all right but it was placed upside down', 'nbsp', 'We flipped the disc over nbsp', 'He was trying to watch Dumb and Dumber']\n",
      "Last year Help Desk got a call from a user complaining that the laptop we issued him would not read DVDs He was one of those I 'm a very busy and a very important man and I do n't have time to follow your troubleshooting steps over the phone Just fix it dammit kinda guys so he said he would get someone to drop off the laptop at our office and pick up a loaner nbsp We received the laptop a couple days later there was a note attached saying that now it was n't even booting into Windows anymore  Sure enough he was right it did n't even attempt to load Windows and instead we were greeted by the Non system disk or disk error message  It sounded and looked like the PC was trying to boot from the DVD drive instead of the HDD nbsp We opened the disk tray and saw the culprit  There was a DVD in there all right but it was placed upside down nbsp We flipped the disc over nbsp He was trying to watch Dumb and Dumber\n",
      "['First post in quite some time', 'I work at a local authority on the helldesk', 'Social workers are the bane of my existence but you learn to cope with their general incompetence as part of the job', 'But sometimes they can still surprise you', 'This happened today', 'So we use a generic username for most of our computers so that people can log onto the machine then from there they log into Citrix to work', 'Everyone knows the username and password for this', \"It 's literally written on the walls in most areas because the only thing it can access is another login page so it is n't a security issue\", 'Most of these accounts stay logged on at all times to save confusing the geniuses that work here', 'A guy rang up said hello and asked for the generic login details', \"I 've changed the exact username and password but other than that this is more or less word for word >\", 'Genius', \"So what 's the username\", '> Me', \"It 's Computer\", '> Genius so is that the asset number of the PC > Me', \"Nono it 's just the word Computer >\", 'Genius', 'And then backslash my name > Me', 'NO', \"It 's the word Computer\", 'C O M P U T E R. Computer', 'nothing else > Genius', \"And what 's the password\", '> Me', \"It 's P4ssword\", 'As in the word Password with a capital P but you replace the a with a 4', '> Genius', \"So it 's Password4\", '> Me', 'NO', 'It is not', 'It is P-4 s s w o r d With a capital P at the beginning', 'Everything else is lower case', '> Genius', 'Ok so the username is ComputerP4ssword', \"What 's the password\", '> Me NO', 'The username is Computer', 'The password is P4ssword', \"That 's everything\", 'Just two words', 'Two boxes two words', '> Genius type type type', \"It did n't work\", \"I typed in password but it said it 's incorrect\", '> Me Spell out what you typed for me please', '> Genius p a s s w o r d > Me very slowly and clearly in case it was my accent or something', 'Like i said', 'CAPITAL P. NUMBER FOUR', 'LOWER CASE S LOWER CASE S LOWER CASE W LOWERCASE O LOWERCASE R LOWER CASE D. P4ssword', '> Genius type type click Nope', 'And it says the account is locked', 'I used a capital P this time definitely', '> Me did you use a 4 instead of the a >', 'Genius Use four what s', 'I remoted to the machine and typed it in for him', 'He complained that the system was needlessly complicated']\n",
      "First post in quite some time I work at a local authority on the helldesk Social workers are the bane of my existence but you learn to cope with their general incompetence as part of the job But sometimes they can still surprise you This happened today So we use a generic username for most of our computers so that people can log onto the machine then from there they log into Citrix to work Everyone knows the username and password for this It 's literally written on the walls in most areas because the only thing it can access is another login page so it is n't a security issue Most of these accounts stay logged on at all times to save confusing the geniuses that work here A guy rang up said hello and asked for the generic login details I 've changed the exact username and password but other than that this is more or less word for word > Genius So what 's the username > Me It 's Computer > Genius so is that the asset number of the PC > Me Nono it 's just the word Computer > Genius And then backslash my name > Me NO It 's the word Computer C O M P U T E R. Computer nothing else > Genius And what 's the password > Me It 's P4ssword As in the word Password with a capital P but you replace the a with a 4 > Genius So it 's Password4 > Me NO It is not It is P-4 s s w o r d With a capital P at the beginning Everything else is lower case > Genius Ok so the username is ComputerP4ssword What 's the password > Me NO The username is Computer The password is P4ssword That 's everything Just two words Two boxes two words > Genius type type type It did n't work I typed in password but it said it 's incorrect > Me Spell out what you typed for me please > Genius p a s s w o r d > Me very slowly and clearly in case it was my accent or something Like i said CAPITAL P. NUMBER FOUR LOWER CASE S LOWER CASE S LOWER CASE W LOWERCASE O LOWERCASE R LOWER CASE D. P4ssword > Genius type type click Nope And it says the account is locked I used a capital P this time definitely > Me did you use a 4 instead of the a > Genius Use four what s I remoted to the machine and typed it in for him He complained that the system was needlessly complicated\n",
      "['Original Post](https://www.reddit.com r relationships comments/3dheie my_26_f_with_my_husband_29_m_1_year_he_has_been/', '', 'Summary of Original Post-', 'My husband was diagnosed with terminal cancer', 'After failure of chemo and other treatments he was told he has about a month to live', 'I asked for advice on how to make this time count and all of you wonderful people gave some very good advice', \"Let me begin by saying that as much as I was day dreaming that I 'll get to update everyone of a miraculous recovery my brave darling made I had to wake up to the bitter reality\", 'My husband passed away a few days ago', 'And just as a lot of you had warned me with all the preparation in the world and a warning that not many are fortunate to receive absolutely nothing about when it actually happened felt like I was at all ready', 'It may as easily have been sudden', \"He fought bravely to the end and I 'm proud of his attitude\", \"I 'm happy he does n't have to suffer and put on a brave face for me anymore\", '', \"I 'm here to thank all of you\", 'Despite what I said above about not feeling prepared I do feel blessed for having got that time', 'We may not have completely finished the list but we sure got to do some of the things that the busy preoccupations of life in all its cruelty snatches from a lot of people', \"We may not be completely without regrets but we managed to make our list of I wish I had 's a lot shorter than it would have been before the warning\", 'So here I am to thank everyone who commented replied PMed on that post', 'It meant a lot to both of us', 'A sincere thanks to all of you', '', 'A special shout to a few people u mistyranch for courage and sharing u mcdie88 for making me feel like a 100 years old covered that milestone too as he insisted I will live his share too', \"u tacofugitive for looking out for me u aaoun responsible for some high quality home made porn u dahlialia who irritated the hell out of my husband as I wanted answers to ALL the questions u emalen thanks to whom I thought about this part the coping u whatsleftisrigh for instilling some pragmatism in me u ianoftawa thanks to whom unfinished business wo n't be an issue u brandyelf who made X'mas come early this year u tenebrous1 who inspired a letter that I have n't been able to read past two lines of u emlgsh whose words rung in my ears to keep me stronger on the bad days u throwyourtoothbrush without whose advice I would have tried to do it all on my own and made a mess for sure u tomyownrhythm who sure knows how to turn a good spin on the dark moments u daivyjones for the immense support u WeltallPrime for inspiring my very first novel and so many others for all the wonderful advice support and most importantly for sharing your stories I ca n't thank you enough\", \"I 'm sorry I ca n't mention all of you here\", 'Please know how much every word meant to me', \"Here 's an update of all the things we did end up doing and I hope this will help someone else like us out there 1\", 'As suggested by a lot of you pictures and videos', 'I have loads of data of him doing his daily chores to just snoring away next to me', \"And I still do n't think it 's enough\", \"Do this you may not have a warning you may regret it if you do n't\", \"A little background of me here I 've always been anti pictures I would proudly say make memories not photo albums and that if something is important enough you 'll remember it\", 'While I still stand by that to a certain extent I do condone finding that balance', 'I would charge my tab turn on the camera and put it in our room', 'So I could enjoy him and then re enjoy our moments later', 'And we made the heavily suggested naughty videos as well', \"Fair warning getting closure is important so do n't get drowned in these memories either\", \"It 's too soon for me\", 'but I do understand the risks and will look out for myself', '2', 'Which brings me to my next point', 'Discussing the future', 'As much as one would want to avoid thinking about a life beyond the one they love the most not thinking of it will make it that much harder when it inevitably comes', \"Here 's where all the advice on being practical was executed\", 'Practicality on financial and emotional fronts financial being having ALL the financial information including account numbers passwords life insurance policy details wills and any debts and the latter being arranging for a therapist and talking about expectations from a partner after one is gone and discussing the kids futures if any', \"He documented all the financial information and verified it twice taught me how to access his bank 's site and wrote down a step by step guide on how to get the insurance money once he was gone\", 'He wrote a letter addressed to my next spouse with all the not so easy to discover things about me that were wonderful and necessary in his words', '3', 'I wrote a book about him', \"I 'm an aspiring author and I 'm proud to say that the love of my life is the sole reader of my only book\", '4', 'Scrapbook', 'This was so fun', \"I collected screenshots of the best and meanest things we 've ever said to each other printed those interspersed those with our pictures over the years in chronological order starting with the cliched obligatory baby pictures threw in a few lists I wrote out of top 9 dates top 9 best sex top 9 reasons I love him both our birthdays fall on 9th etc mixed in a crossword puzzle he had to solve and our scrapbook was ready\", '5', 'I named a star after him', 'I know this is slightly silly', 'but now I can look at him whenever I want', '6', 'Needless to say indefinite time off work spent every waking moment in his arms and sleeping moment in his tightly wrapped arms', 'Yes lots of cuddling and just being together', '7', 'Balcony picnic', 'This was an excellent idea', 'Stars candlelight good food and some good old fashioned open air sex 8', 'Speaking of which lots of sex', '9', \"We discussed with his doctors and freezing his sperm was not a possibility at this stage so that could n't pan out\", '10', 'The last life party', 'I wanted to call it The party that never ends but he played the cancer card so I was shot down', 'All his friends and family came over everyone said a few things about and to him nobody was allowed to cry I told them I was spending a lot on the funeral and he was stealing my thunder by being a tear hogger', \"It was actually pretty nice with gag jokes from his goofy friends something like a Halloween with a ghost attending but he 's friendly like Casper rather than being creepy scary 11\", 'Told him I loved him constantly', 'And anything else that came to my mind that I wanted him to know', 'He was quite a sport about it and returned the favor', '12', 'We played cards together watched football matches and his favorite shows together', 'Things he loves', 'Casually holding each other', '13', 'Festival week- a day designated to all the festivals', 'Milestone birthdays- video recording for each with a message 14', 'Cooked his favorite meals for him', 'He was my happy helper', \"He 'd wash the tomatoes and I 'd make the lasagna\", 'He called me the food conjurer', '15', \"Made him wear his favorite shirts for several days so now they 'll smell like him for some time\", '16', 'Knit him a sweater made a portrait of his 17', \"Things very specific to him that he wanted to do- a small bucket list that I wo n't bore you with I feel like I 've lived a lifetime in the last month\", 'The quote about living each day like your last got realized', \"I made a lot of memories I 'll never forget\", 'I want to say one more thing before I sign off', 'All those who have been patient enough to make it to this part of the post or impatient enough to skip to this part thanks for reading', 'I have read a lot of things on this sub and unfortunately a majority of the things I read are escapist overcautious and pessimistic', 'While I encourage the right of one to protect themselves from potential hurt I do find the world hiding behind that right shying away from happiness and condemning others at the drop of a hat', \"Not meaning to sound preachy or claiming to know anyone 's personal situation I do wish to say this believe in people believe in goodness believe in second chances\", \"My husband and I did n't have it perfect we had our rough patches and forgave each other for mistakes if the other truly showed repentance for them\", 'I could have left him long back and I would have been in the same scenario I am today leading a life without him', 'The difference is I would have chosen that in the former scenario whereas now I have to accept the situation', \"And being here I know I would give anything in the world for that choice right now I 'm so glad I was wise enough to look past his tiny flaws and fill my life with moments of the absolutely wonderful loving man he is was\", \"Be vulnerable take risks get hurt it 's part of being a human and it 's ok\", \"As long as you 're not being downright stupid harming yourself or those around you irreparably and not being codependent enabling someone 's flaws rather than accepting them it 's ok to make mistakes that 's how we learn and grow\", \"And on the chance that it 's not a mistake the potential upside is limitless\", '', 'In the comments of my original post a lot of you wrote that you cried and told your SO you loved them or gave them a random hug much to their surprise', \"I 'll admit that those comments made me happier than anything else\", 'That our story could inspire some bond somewhere to get stronger was the greatest compliment', 'So I request anyone reading this to do this today', 'Give your SO that surprise hug tell them you love them', \"I would n't wish what we went through on my worst enemy and I 'm still glad I got that time\", \"But most of you wo n't\", 'THIS time is that time for you', \"I 'm sorry that for most of you it will be sudden painful and prolonged\", 'Living your life like each day is your last is impractical', 'But living your relationship like each day is your last is the easiest and most comforting thing in the world', 'Hug them hold them tell them you love them', 'Cheers to all the love in the world', '', 'Thank you all once again', '', 'tl;dr', '', 'My husband passed away this update is to thank all of you for your wonderful advice and support', 'Edit 1 Thank you once again Reddit for all the overwhelming response', 'Thanks for all the tears all the hugs and all the support', 'Thanks for the PMs offering more support', 'And above all thanks for our story helped make a difference in your life', \"I 'm so grateful to each of you who 's vowed to work on their relationships and love their partners more\", \"I 'm trying to reply to each one of you kindhearted folks apologies if I have missed out on anyone\", 'Thank you for being with me in this time', 'Your thoughts prayers and support means a lot to me', '', 'Edit 2 For those requesting for a picture](http://imgur.com gallery UrGLxAB new']\n",
      "Original Post](https://www.reddit.com r relationships comments/3dheie my_26_f_with_my_husband_29_m_1_year_he_has_been/  Summary of Original Post- My husband was diagnosed with terminal cancer After failure of chemo and other treatments he was told he has about a month to live I asked for advice on how to make this time count and all of you wonderful people gave some very good advice Let me begin by saying that as much as I was day dreaming that I 'll get to update everyone of a miraculous recovery my brave darling made I had to wake up to the bitter reality My husband passed away a few days ago And just as a lot of you had warned me with all the preparation in the world and a warning that not many are fortunate to receive absolutely nothing about when it actually happened felt like I was at all ready It may as easily have been sudden He fought bravely to the end and I 'm proud of his attitude I 'm happy he does n't have to suffer and put on a brave face for me anymore  I 'm here to thank all of you Despite what I said above about not feeling prepared I do feel blessed for having got that time We may not have completely finished the list but we sure got to do some of the things that the busy preoccupations of life in all its cruelty snatches from a lot of people We may not be completely without regrets but we managed to make our list of I wish I had 's a lot shorter than it would have been before the warning So here I am to thank everyone who commented replied PMed on that post It meant a lot to both of us A sincere thanks to all of you  A special shout to a few people u mistyranch for courage and sharing u mcdie88 for making me feel like a 100 years old covered that milestone too as he insisted I will live his share too u tacofugitive for looking out for me u aaoun responsible for some high quality home made porn u dahlialia who irritated the hell out of my husband as I wanted answers to ALL the questions u emalen thanks to whom I thought about this part the coping u whatsleftisrigh for instilling some pragmatism in me u ianoftawa thanks to whom unfinished business wo n't be an issue u brandyelf who made X'mas come early this year u tenebrous1 who inspired a letter that I have n't been able to read past two lines of u emlgsh whose words rung in my ears to keep me stronger on the bad days u throwyourtoothbrush without whose advice I would have tried to do it all on my own and made a mess for sure u tomyownrhythm who sure knows how to turn a good spin on the dark moments u daivyjones for the immense support u WeltallPrime for inspiring my very first novel and so many others for all the wonderful advice support and most importantly for sharing your stories I ca n't thank you enough I 'm sorry I ca n't mention all of you here Please know how much every word meant to me Here 's an update of all the things we did end up doing and I hope this will help someone else like us out there 1 As suggested by a lot of you pictures and videos I have loads of data of him doing his daily chores to just snoring away next to me And I still do n't think it 's enough Do this you may not have a warning you may regret it if you do n't A little background of me here I 've always been anti pictures I would proudly say make memories not photo albums and that if something is important enough you 'll remember it While I still stand by that to a certain extent I do condone finding that balance I would charge my tab turn on the camera and put it in our room So I could enjoy him and then re enjoy our moments later And we made the heavily suggested naughty videos as well Fair warning getting closure is important so do n't get drowned in these memories either It 's too soon for me but I do understand the risks and will look out for myself 2 Which brings me to my next point Discussing the future As much as one would want to avoid thinking about a life beyond the one they love the most not thinking of it will make it that much harder when it inevitably comes Here 's where all the advice on being practical was executed Practicality on financial and emotional fronts financial being having ALL the financial information including account numbers passwords life insurance policy details wills and any debts and the latter being arranging for a therapist and talking about expectations from a partner after one is gone and discussing the kids futures if any He documented all the financial information and verified it twice taught me how to access his bank 's site and wrote down a step by step guide on how to get the insurance money once he was gone He wrote a letter addressed to my next spouse with all the not so easy to discover things about me that were wonderful and necessary in his words 3 I wrote a book about him I 'm an aspiring author and I 'm proud to say that the love of my life is the sole reader of my only book 4 Scrapbook This was so fun I collected screenshots of the best and meanest things we 've ever said to each other printed those interspersed those with our pictures over the years in chronological order starting with the cliched obligatory baby pictures threw in a few lists I wrote out of top 9 dates top 9 best sex top 9 reasons I love him both our birthdays fall on 9th etc mixed in a crossword puzzle he had to solve and our scrapbook was ready 5 I named a star after him I know this is slightly silly but now I can look at him whenever I want 6 Needless to say indefinite time off work spent every waking moment in his arms and sleeping moment in his tightly wrapped arms Yes lots of cuddling and just being together 7 Balcony picnic This was an excellent idea Stars candlelight good food and some good old fashioned open air sex 8 Speaking of which lots of sex 9 We discussed with his doctors and freezing his sperm was not a possibility at this stage so that could n't pan out 10 The last life party I wanted to call it The party that never ends but he played the cancer card so I was shot down All his friends and family came over everyone said a few things about and to him nobody was allowed to cry I told them I was spending a lot on the funeral and he was stealing my thunder by being a tear hogger It was actually pretty nice with gag jokes from his goofy friends something like a Halloween with a ghost attending but he 's friendly like Casper rather than being creepy scary 11 Told him I loved him constantly And anything else that came to my mind that I wanted him to know He was quite a sport about it and returned the favor 12 We played cards together watched football matches and his favorite shows together Things he loves Casually holding each other 13 Festival week- a day designated to all the festivals Milestone birthdays- video recording for each with a message 14 Cooked his favorite meals for him He was my happy helper He 'd wash the tomatoes and I 'd make the lasagna He called me the food conjurer 15 Made him wear his favorite shirts for several days so now they 'll smell like him for some time 16 Knit him a sweater made a portrait of his 17 Things very specific to him that he wanted to do- a small bucket list that I wo n't bore you with I feel like I 've lived a lifetime in the last month The quote about living each day like your last got realized I made a lot of memories I 'll never forget I want to say one more thing before I sign off All those who have been patient enough to make it to this part of the post or impatient enough to skip to this part thanks for reading I have read a lot of things on this sub and unfortunately a majority of the things I read are escapist overcautious and pessimistic While I encourage the right of one to protect themselves from potential hurt I do find the world hiding behind that right shying away from happiness and condemning others at the drop of a hat Not meaning to sound preachy or claiming to know anyone 's personal situation I do wish to say this believe in people believe in goodness believe in second chances My husband and I did n't have it perfect we had our rough patches and forgave each other for mistakes if the other truly showed repentance for them I could have left him long back and I would have been in the same scenario I am today leading a life without him The difference is I would have chosen that in the former scenario whereas now I have to accept the situation And being here I know I would give anything in the world for that choice right now I 'm so glad I was wise enough to look past his tiny flaws and fill my life with moments of the absolutely wonderful loving man he is was Be vulnerable take risks get hurt it 's part of being a human and it 's ok As long as you 're not being downright stupid harming yourself or those around you irreparably and not being codependent enabling someone 's flaws rather than accepting them it 's ok to make mistakes that 's how we learn and grow And on the chance that it 's not a mistake the potential upside is limitless  In the comments of my original post a lot of you wrote that you cried and told your SO you loved them or gave them a random hug much to their surprise I 'll admit that those comments made me happier than anything else That our story could inspire some bond somewhere to get stronger was the greatest compliment So I request anyone reading this to do this today Give your SO that surprise hug tell them you love them I would n't wish what we went through on my worst enemy and I 'm still glad I got that time But most of you wo n't THIS time is that time for you I 'm sorry that for most of you it will be sudden painful and prolonged Living your life like each day is your last is impractical But living your relationship like each day is your last is the easiest and most comforting thing in the world Hug them hold them tell them you love them Cheers to all the love in the world  Thank you all once again  tl;dr  My husband passed away this update is to thank all of you for your wonderful advice and support Edit 1 Thank you once again Reddit for all the overwhelming response Thanks for all the tears all the hugs and all the support Thanks for the PMs offering more support And above all thanks for our story helped make a difference in your life I 'm so grateful to each of you who 's vowed to work on their relationships and love their partners more I 'm trying to reply to each one of you kindhearted folks apologies if I have missed out on anyone Thank you for being with me in this time Your thoughts prayers and support means a lot to me  Edit 2 For those requesting for a picture](http://imgur.com gallery UrGLxAB new\n"
     ]
    },
    {
     "name": "stdout",
     "output_type": "stream",
     "text": [
      "['I witnessed this astounding IT meltdown around 2004 in a large academic organization', '', 'An employee decided to send a broad solicitation about her need for a local apartment', 'She happened to discover and use an all-employees@org.edu type of email address that included everyone', 'And by everyone I mean every employee in a 30,000 employee academic institution', \"Everyone from the CEO on down received this lady 's apartment inquiry\", '', \"Of course this kicked off the usual round of why am I getting this and take me offa list and omg everyone stop replying responses each reply all'ed to all-employees@org.edu so 30,000 new messages\", 'Email started to bog down as a half million messages apparated into mailboxes', '', \"IT Fail 1 Not necessarily making an all-employees@org.edu email address that 's quite reasonable but granting unrestricted access to it rather than configuring the mail server to check the sender and generate one not the CEO = not authorized reply\", '', \"That was n't the real problem\", \"That incident might 've simmered down after people stopped responding\", '', \"In a 30k organization lots of people go on vacay and some of them let 's say 20 remembered to set their email to auto respond about their absence\", 'And the auto responders responded to the same recipients including all-employees@org.edu', \"So every I do n't care about your apartment message did n't just generate 30,000 copies of itself it also generated 30,000 20 = 600,000 new messages\", \"Even the avalanche of apartment messages became drowned out by the volume of I 'll be gone til November auto replies\", '', \"That also was n't the real problem which again might have died down all by itself\", '', 'The REAL problem was that the mail servers were quite diligent', \"The auto responders did n't just send one I 'm away message they sent an I 'm away message in response to every incoming message including the I 'm away messages of the other auto responders\", '', 'The auto response avalanche converted the entire mail system into an Agent Smith like replication factory of away messages as auto responders incessantly informed not just every employee but also each other about employee status', '', 'The email systems melted down', 'Everything went offline', 'A 30k wide enterprise suddenly had no email for about 24 hours', '', \"That 's not the end of the story\", '', 'The IT staff busied themselves with mucking out the mailboxes from these millions of messages and deactivating the auto responders', 'They brought the email system back online and their first order of business was to send out an email explaining the cause of the problem etc', 'And they addressed the notification email to all-employees@org.edu', '', 'IT Fail 2 Before they sent their email message they had disabled most of the auto responders but they missed at least one', 'More specifically they missed at least two']\n",
      "I witnessed this astounding IT meltdown around 2004 in a large academic organization  An employee decided to send a broad solicitation about her need for a local apartment She happened to discover and use an all-employees@org.edu type of email address that included everyone And by everyone I mean every employee in a 30,000 employee academic institution Everyone from the CEO on down received this lady 's apartment inquiry  Of course this kicked off the usual round of why am I getting this and take me offa list and omg everyone stop replying responses each reply all'ed to all-employees@org.edu so 30,000 new messages Email started to bog down as a half million messages apparated into mailboxes  IT Fail 1 Not necessarily making an all-employees@org.edu email address that 's quite reasonable but granting unrestricted access to it rather than configuring the mail server to check the sender and generate one not the CEO = not authorized reply  That was n't the real problem That incident might 've simmered down after people stopped responding  In a 30k organization lots of people go on vacay and some of them let 's say 20 remembered to set their email to auto respond about their absence And the auto responders responded to the same recipients including all-employees@org.edu So every I do n't care about your apartment message did n't just generate 30,000 copies of itself it also generated 30,000 20 = 600,000 new messages Even the avalanche of apartment messages became drowned out by the volume of I 'll be gone til November auto replies  That also was n't the real problem which again might have died down all by itself  The REAL problem was that the mail servers were quite diligent The auto responders did n't just send one I 'm away message they sent an I 'm away message in response to every incoming message including the I 'm away messages of the other auto responders  The auto response avalanche converted the entire mail system into an Agent Smith like replication factory of away messages as auto responders incessantly informed not just every employee but also each other about employee status  The email systems melted down Everything went offline A 30k wide enterprise suddenly had no email for about 24 hours  That 's not the end of the story  The IT staff busied themselves with mucking out the mailboxes from these millions of messages and deactivating the auto responders They brought the email system back online and their first order of business was to send out an email explaining the cause of the problem etc And they addressed the notification email to all-employees@org.edu  IT Fail 2 Before they sent their email message they had disabled most of the auto responders but they missed at least one More specifically they missed at least two\n",
      "['I work Helpdesk for a retail store chain in the UK', \"I had a call from a store about a till drawer that was n't opening after a transaction\", '> me Could you check that the till is plugged in to the back of the pc > user', 'Sure one second', 'I hear him rummaging under the desk > user', 'yeah', \"It 's plugged in\", \"The POS software occasionally forgets which COM port to operate for the till drawer > me I 'm just going to try to open the drawer manually\", \"Can you stand back from the drawer so it does n't hit you > user\", 'haha sure', '', 'I open up CMD and try to open the drawer echo a > COM1 nothing', 'echo a > COM2 UGHHHHH Thud > me Hello', 'I heard something did the drawer open > user', '> me Hello', '', 'After around 20 seconds a woman picks up the phone laughing > user2', 'User had to go to the bathroom to clean his nose the till drawer hit him in face and bust his nose', \"We 'll call you back later\", '', \"Whenever I want to reach through the screen and smack a user I 'll always think back to this story and remember that it 's possible\"]\n",
      "I work Helpdesk for a retail store chain in the UK I had a call from a store about a till drawer that was n't opening after a transaction > me Could you check that the till is plugged in to the back of the pc > user Sure one second I hear him rummaging under the desk > user yeah It 's plugged in The POS software occasionally forgets which COM port to operate for the till drawer > me I 'm just going to try to open the drawer manually Can you stand back from the drawer so it does n't hit you > user haha sure  I open up CMD and try to open the drawer echo a > COM1 nothing echo a > COM2 UGHHHHH Thud > me Hello I heard something did the drawer open > user > me Hello  After around 20 seconds a woman picks up the phone laughing > user2 User had to go to the bathroom to clean his nose the till drawer hit him in face and bust his nose We 'll call you back later  Whenever I want to reach through the screen and smack a user I 'll always think back to this story and remember that it 's possible\n",
      "['This just happened', 'So I had a laptop system board fail', 'Under warranty', 'No problem', 'Engineer comes on site', 'Does the job', 'All good', \"10 minutes later I 'm called down to where he was working by a member of management saying that he must have been doing drugs in there because there 's a syringe in the bin\", \"There 's about 10 members of staff all freaking out\", '', \"It 's thermal compound\", '', 'Edit damn this got big', 'My biggest post ever']\n",
      "This just happened So I had a laptop system board fail Under warranty No problem Engineer comes on site Does the job All good 10 minutes later I 'm called down to where he was working by a member of management saying that he must have been doing drugs in there because there 's a syringe in the bin There 's about 10 members of staff all freaking out  It 's thermal compound  Edit damn this got big My biggest post ever\n",
      "['Another tale from the out of hours IT desk', 'Me Service Desk Caller GOOGLE BING ISNT', 'WORKING IS THE SYSTEM DOWN', 'ITS VERY IMPORTANT I USE THE BING', 'Note yes caller actually said the bing', 'Me', \"I 'm sorry can you confirm which system you 're referring to as I 'm unfamiliar with that Caller\", 'Google Bing', 'Really how can you not know this', 'Me Google Bing is not a system we support out of hours nor in hours', 'This sounds like a mash up between two different search engines', 'What exactly is happening', '', 'Caller', 'I need Google Bing to do my job', 'This is unacceptable', \"I ca n't find Google Bing anywhere on my PC\", 'How dare you remove this', 'I need you to fix Google Bing immediately', '', 'Me', 'May I remote in to take a look < spend 5 mins setting up remote connection > Turns out that caller had a shortcut on her desktop called Google Bing this opened the Bing Search homepage in Google Chrome shivers', \"She 'd accidentally changed the name of the shortcut from Google Bing to something else and hence could not find it\", '', 'Me okay that has been renamed now', \"so you 're good to go\", 'Caller', \"next time do n't mess around with my computer\", \"I know you guys changed this I 'm not stupid\", 'I have a certificate of proficiency in computering Me', 'okay', 'thanks for calling click', 'Note yes caller really said computering', 'I died a little inside after taking this call']\n",
      "Another tale from the out of hours IT desk Me Service Desk Caller GOOGLE BING ISNT WORKING IS THE SYSTEM DOWN ITS VERY IMPORTANT I USE THE BING Note yes caller actually said the bing Me I 'm sorry can you confirm which system you 're referring to as I 'm unfamiliar with that Caller Google Bing Really how can you not know this Me Google Bing is not a system we support out of hours nor in hours This sounds like a mash up between two different search engines What exactly is happening  Caller I need Google Bing to do my job This is unacceptable I ca n't find Google Bing anywhere on my PC How dare you remove this I need you to fix Google Bing immediately  Me May I remote in to take a look < spend 5 mins setting up remote connection > Turns out that caller had a shortcut on her desktop called Google Bing this opened the Bing Search homepage in Google Chrome shivers She 'd accidentally changed the name of the shortcut from Google Bing to something else and hence could not find it  Me okay that has been renamed now so you 're good to go Caller next time do n't mess around with my computer I know you guys changed this I 'm not stupid I have a certificate of proficiency in computering Me okay thanks for calling click Note yes caller really said computering I died a little inside after taking this call\n",
      "['Part 1](http://www.reddit.com r talesfromtechsupport comments/2bb3ki jack_the_worst_end_user_part_1/', 'Part 2](http://www.reddit.com r talesfromtechsupport comments/2be9fw jack_the_worst_end_user_part_2/', 'Part 3](http://www.reddit.com r talesfromtechsupport comments/2bhoz1 jack_the_worst_end_user_part_3/', 'Part 4 > To Boss@company >', 'From Steve@client > Subject Out of office > Dear sir >', 'I apologize for the inconvenience but I need to request file XYZ from you', 'My phone is having trouble recieveing emails however but I can receive the file by facebook message > Steve', 'Jack had been out of the office about twenty minutes when Boss forwarded this to me', 'I called him at his desk', 'Hey Boss', 'I just got the email you forwarded me', 'You need me to send file XYZ for you', '', 'Yes', 'Can you can you send people files on facebook', 'Yes I can', \"But I 'll have to use the computer Jack 's been using though\", \"It 's the only one that can access facebook\", 'Right right', \"I 'll meet you in my wife 's office\", 'I hung up the phone and launched a single .bat file on my desktop', 'it ran its commands and then deleted itself as I walked away', '', '', \"I got to Boss Wife 's office a few minutes later\", 'I smiled to her and Boss before crossing to the computer', \"Give me a second to bring up facebook and then-- I turned the laptop around to face us and Boss 's wife reached over moving the mouse\", 'The screen flared to life', 'Boss stared', 'Boss Wife gasped', 'A soft moan followed by the neigh of a horse emanated from the laptop', 'She frantically closed the video window revealing a second window underneath it a Bing search for best places to buy weed near me', \"She closed that one too revealing Buzzfeed 's 10 signs you 're over your job\", '', 'As she slammed the laptop shut Boss shook his head red and shaking with anger', 'How How was that--', 'I mean I thought WHO WAS USING THIS COMPUTER', 'he roared', \"Boss 's wife shook her head\", 'Jack was using it about a half hour ago', 'As as if on cue Jack appeared in the doorway with the leftovers from lunch in a carryout bag in his hand', '', \"Boss 's back was to him\", 'THAT KIND OF THING SHOULD BE BLOCKED', 'He yelled at me pointing to the laptop', 'I nodded', 'I agree', 'Jack said he needed to use the unrestricted computer for some important projects', \"That 's why he asked you to retrieve the key to my desk last week right\", 'I pointed to the door with my chin and Boss saw Jack', 'Jack blinked at Boss', 'He looked at me', 'He looked at the computer', 'Then back to me', 'I could see it dawned on him what was going on', \"Y you did something to my computer did n't you\", 'He demanded', '', 'Of course I had', \"I had copied a hidden batch file onto Jack 's desktop from a USB drive when I fixed his computer the other day\", 'A file that would send me his browsing history without remoting into his desktop or alerting him', \"Then all it would need would be a remote command which I 'd set off from my own computer\", 'The file would then delete itself after launching three web pages as soon as the mouse moved three of the most incriminating web pages Jack had ever visited on the computer', \"All it needed was a remote command which I 'd set off from my own computer\", \"Granted it was n't entirely untraceable but the only person who 'd know what to look for was in this room looking with as angry a face I could muster at the awful end user who had become the bane of my existence\", \"Boss 's wife chimed in\", 'She was at least slightly more computer savvy than her husband', 'No', \"Clickity did n't do anything\", 'He just exited the', 'you know', 'The screensaver', 'Whatever was there must have been what you were um *working on when you rushed out of the office for lunch', 'she glared at Jack and then addressed Boss', 'He must have forgotten to close out the evidence of his blatant misuse of company property', 'I shook my head solemnly', 'And I trusted you with this unrestricted computer too Jack', \"I even gave you your own email address for the company because I thought you 'd be an asset\", 'Clearly clearly I was wrong', 'I tried my best to sound hurt', \"Boss 's Wife nonchalantly picked up the laptop and handed it to me\", \"Jack I am rather upset that you 'd do something like this\", 'I hired you as a favor to your mother', \"And you can be certain she 'll hear about this\", 'Now go home', 'Jack stood there shaking', \"He probably had an idea of what I had done but he 'd have no way to prove it\", 'But', 'He', 'I', 'He pointed at me wordlessly', 'GET OUT', 'Boss yelled', 'Jack burst into tears and ran from the room', '', \"Now as I write this it 's been four weeks since Jack was terminated\", 'I patched the security hole from Spotify and the interns are listening to music again', \"I did n't give the spare desk key back to the office manager\", '', 'As for Jack', 'I saw him the other day when he stopped by with his mother', 'He came and knocked on my door', '', 'Um Clickity', 'I looked up and narrowed my eyes', 'What I just', \"I wanted to say I 'm sorry for for saying that stuff and acting like I did\", 'I blinked', \"and um now that I 've apologized I was hoping you could tell my mom that I did n't really look up any of that stuff\", 'You', \"You know you 're the one who did it\", 'Not me', 'I mean he took a breath', \"I mean I 've learned my lesson\", 'so Seriously', 'Come on Clickity', \"She 's made me get another job and she cut my allowance COME ON\", 'He looked at me pleadingly', 'I almost felt sorry for him', 'Almost', 'Actually not even almost', '', 'I shook my head and went back to typing', 'Jack continued standing there and after a few long moments I looked at him', 'You can go now', 'And then he was gone', '', '', 'Edit Clarity on my evil plan', 'Edit 2', 'Wow 3 gildings on one post', 'You guys are the best', '', '', 'Edit 3', 'Wow', 'This story has gotten a total of 20 gildings One on part 2 One on part 3 17 here and one in /r lounge', 'I am overwhelmed with happiness that you all enjoyed my story this much']\n",
      "Part 1](http://www.reddit.com r talesfromtechsupport comments/2bb3ki jack_the_worst_end_user_part_1/ Part 2](http://www.reddit.com r talesfromtechsupport comments/2be9fw jack_the_worst_end_user_part_2/ Part 3](http://www.reddit.com r talesfromtechsupport comments/2bhoz1 jack_the_worst_end_user_part_3/ Part 4 > To Boss@company > From Steve@client > Subject Out of office > Dear sir > I apologize for the inconvenience but I need to request file XYZ from you My phone is having trouble recieveing emails however but I can receive the file by facebook message > Steve Jack had been out of the office about twenty minutes when Boss forwarded this to me I called him at his desk Hey Boss I just got the email you forwarded me You need me to send file XYZ for you  Yes Can you can you send people files on facebook Yes I can But I 'll have to use the computer Jack 's been using though It 's the only one that can access facebook Right right I 'll meet you in my wife 's office I hung up the phone and launched a single .bat file on my desktop it ran its commands and then deleted itself as I walked away   I got to Boss Wife 's office a few minutes later I smiled to her and Boss before crossing to the computer Give me a second to bring up facebook and then-- I turned the laptop around to face us and Boss 's wife reached over moving the mouse The screen flared to life Boss stared Boss Wife gasped A soft moan followed by the neigh of a horse emanated from the laptop She frantically closed the video window revealing a second window underneath it a Bing search for best places to buy weed near me She closed that one too revealing Buzzfeed 's 10 signs you 're over your job  As she slammed the laptop shut Boss shook his head red and shaking with anger How How was that-- I mean I thought WHO WAS USING THIS COMPUTER he roared Boss 's wife shook her head Jack was using it about a half hour ago As as if on cue Jack appeared in the doorway with the leftovers from lunch in a carryout bag in his hand  Boss 's back was to him THAT KIND OF THING SHOULD BE BLOCKED He yelled at me pointing to the laptop I nodded I agree Jack said he needed to use the unrestricted computer for some important projects That 's why he asked you to retrieve the key to my desk last week right I pointed to the door with my chin and Boss saw Jack Jack blinked at Boss He looked at me He looked at the computer Then back to me I could see it dawned on him what was going on Y you did something to my computer did n't you He demanded  Of course I had I had copied a hidden batch file onto Jack 's desktop from a USB drive when I fixed his computer the other day A file that would send me his browsing history without remoting into his desktop or alerting him Then all it would need would be a remote command which I 'd set off from my own computer The file would then delete itself after launching three web pages as soon as the mouse moved three of the most incriminating web pages Jack had ever visited on the computer All it needed was a remote command which I 'd set off from my own computer Granted it was n't entirely untraceable but the only person who 'd know what to look for was in this room looking with as angry a face I could muster at the awful end user who had become the bane of my existence Boss 's wife chimed in She was at least slightly more computer savvy than her husband No Clickity did n't do anything He just exited the you know The screensaver Whatever was there must have been what you were um *working on when you rushed out of the office for lunch she glared at Jack and then addressed Boss He must have forgotten to close out the evidence of his blatant misuse of company property I shook my head solemnly And I trusted you with this unrestricted computer too Jack I even gave you your own email address for the company because I thought you 'd be an asset Clearly clearly I was wrong I tried my best to sound hurt Boss 's Wife nonchalantly picked up the laptop and handed it to me Jack I am rather upset that you 'd do something like this I hired you as a favor to your mother And you can be certain she 'll hear about this Now go home Jack stood there shaking He probably had an idea of what I had done but he 'd have no way to prove it But He I He pointed at me wordlessly GET OUT Boss yelled Jack burst into tears and ran from the room  Now as I write this it 's been four weeks since Jack was terminated I patched the security hole from Spotify and the interns are listening to music again I did n't give the spare desk key back to the office manager  As for Jack I saw him the other day when he stopped by with his mother He came and knocked on my door  Um Clickity I looked up and narrowed my eyes What I just I wanted to say I 'm sorry for for saying that stuff and acting like I did I blinked and um now that I 've apologized I was hoping you could tell my mom that I did n't really look up any of that stuff You You know you 're the one who did it Not me I mean he took a breath I mean I 've learned my lesson so Seriously Come on Clickity She 's made me get another job and she cut my allowance COME ON He looked at me pleadingly I almost felt sorry for him Almost Actually not even almost  I shook my head and went back to typing Jack continued standing there and after a few long moments I looked at him You can go now And then he was gone   Edit Clarity on my evil plan Edit 2 Wow 3 gildings on one post You guys are the best   Edit 3 Wow This story has gotten a total of 20 gildings One on part 2 One on part 3 17 here and one in /r lounge I am overwhelmed with happiness that you all enjoyed my story this much\n"
     ]
    },
    {
     "name": "stdout",
     "output_type": "stream",
     "text": [
      "['> $ Me Hello IT', '> $ Usr Hi I am still off sick', 'but I am not', '> $ Me Oh did you mean to call HR or is there an IT issue > $', \"Usr It 's an IT issue\", 'I am back at work now', 'but I am still sick', \"> $ Me I do n't understand the issue\", '> $', 'Usr I have tried to log into $ HRsystem', 'but it has me listed as off sick > $ Me', 'Ah I see You need to add an end date to your sickness', '> $ Usr', 'But I am back now', '> $ Me', \"That 's ok you need to fill in the date field with when you came back\", '> $', 'Usr I am back now', '> $ Me Ok did you start back at work today', '> $', 'Usr Yes I am back now', '> $ Me Do you have the $ HRsystem open in front of you > $', 'Usr Yes', '> $ Me Can you see the field for Date returned to work', '> $', 'Usr Yes', '> $ Me Click the little calendar icon and select the date you returned', '> $ Usr', 'But I am back now', 'Are you', 'Are you really', \"I am pretty sure you 've left your brain cell at home though > $ Me So select $ TodaysDate from the calendar that pops up\", \"> $ Usr Why > $ Me So that the $ HRsystem knows that you 're back at work and not still off sick\", '> $ Usr', 'But I am back now', 'Are you a rubbish chat bot sent to test me', '> $ Me You need to tell the HR system when you came back so it unlocks your profile', \"> $ Usr Ca n't it tell\", '> $ Me How would it tell > $', 'Usr', 'Well I am in the building and logged into my computer is that not enough', '', '', 'This is a test has to be a test am I getting secret shoppered', \"> $ Me The systems are n't linked in that way\", 'People come into work all the time when off on holiday or sick to drop things off collect things', 'If the system logged that as a day in work then holiday and sick pay would be all messed up', 'We also have a number of remote users who are never in the office', '> $', 'Usr So how do I sort this out', '', 'ARE YOU KIDDING ME', '> $ Me Fill in the date field', '', 'I need to get out of this call', '> $ Me Can I remote onto your system and help you sort it', '> $ Usr Would you mind', 'It might be easier', '', '', \"Too F'in\", \"right it 'll be easier > $ Me Ok I am on\", \"and I 'll just add today 's date in here\", \"and we 're all set\", '> $', 'Usr', 'So I am back now', '> $ Me', \"Yes you 're no longer being shown as off sick\", \"> $ Usr Can you reset my password while I 've got you on\", \"Please please please IT gods do n't do this to me > $ Me What 's wrong with your password\", '> $ Usr Nothing but I got the about to expire message when I logged in and I want to you to reset it for me', \"> $ Me You can change your password yourself by clicking the change password link when you see that screen or wait for it to expire and you 'll be forced to do it when you next log in\", '> $', \"Usr I do n't want to change my password\", '', '', 'You did this to me', '> $ Me You have to change your password every 60 days', \"> $ Usr Ca n't you just give me another 60 days > $ Me The policy of changing it is for security\", '> $ Usr My password is very secure', 'Ok', '$ Usr I want to play a game', \"> $ Me Ok what 's your current password\", '> $', \"Usr It 's $ actuallyquitesecurepassword\", '> $ Me Ok now that you have told me your password it is no longer secure and I must insist you change it immediately', '> $ Usr You work in IT you knew my password anyway', '> $ Me No all passwords are secure', 'I can reset passwords but I can not look at them', 'As I am still connected to you I will help you change it now', 'Proceed to open the password change menu for $ User', \"$ User fills in the fields and gets an error saying that new password is a previously used password and thus ca n't be allowed\", \"> $ Usr It wo n't let me change it\", \"> $ Me You did n't change it you just typed it in again > $\", \"Usr I do n't want to change my password\", '> $ Me You have too', 'It is company policy', '> $ Usr Passwords are hard to remember', '> $ Me Just pick a couple of random words and then add a number and a symbol', '> $ Usr', 'what do you mean', '> $ Me Like DeskMugPhonePencil1', 'Just pick a few things you can see from your desk and ta da', 'Easy to remember', '', '$', \"Usr 's new password is 100 going to be DeskMugPhonePencil1\", \"> $ Usr Ok that 's done then\", '> $ Me Ok enter the details on screen then', '', 'New password accepted', 'Thank F@ck', \"> $ Me That 's all sorted for you then\", \"> $ Usr Great > $ Me I 'll disconnect the remote connection\", 'Freedom > $ Usr I just thought', '', 'Oh balls > $ Usr I have been back since last Thursday so will that all be right > $ Me You watched me fill in your return date as today because you said it was today', '> $', 'Usr I am back today', 'but I came back last week', '> $ Me Go in $ HRsystem and change the return date to last Thursday', '> $', 'Usr How do I do that', '', '', 'Screw you IT gods', \"> $ Me I 'll remote back in and sort it\", '>', '', '', '', '', '', '', '', '', '']\n",
      "> $ Me Hello IT > $ Usr Hi I am still off sick but I am not > $ Me Oh did you mean to call HR or is there an IT issue > $ Usr It 's an IT issue I am back at work now but I am still sick > $ Me I do n't understand the issue > $ Usr I have tried to log into $ HRsystem but it has me listed as off sick > $ Me Ah I see You need to add an end date to your sickness > $ Usr But I am back now > $ Me That 's ok you need to fill in the date field with when you came back > $ Usr I am back now > $ Me Ok did you start back at work today > $ Usr Yes I am back now > $ Me Do you have the $ HRsystem open in front of you > $ Usr Yes > $ Me Can you see the field for Date returned to work > $ Usr Yes > $ Me Click the little calendar icon and select the date you returned > $ Usr But I am back now Are you Are you really I am pretty sure you 've left your brain cell at home though > $ Me So select $ TodaysDate from the calendar that pops up > $ Usr Why > $ Me So that the $ HRsystem knows that you 're back at work and not still off sick > $ Usr But I am back now Are you a rubbish chat bot sent to test me > $ Me You need to tell the HR system when you came back so it unlocks your profile > $ Usr Ca n't it tell > $ Me How would it tell > $ Usr Well I am in the building and logged into my computer is that not enough   This is a test has to be a test am I getting secret shoppered > $ Me The systems are n't linked in that way People come into work all the time when off on holiday or sick to drop things off collect things If the system logged that as a day in work then holiday and sick pay would be all messed up We also have a number of remote users who are never in the office > $ Usr So how do I sort this out  ARE YOU KIDDING ME > $ Me Fill in the date field  I need to get out of this call > $ Me Can I remote onto your system and help you sort it > $ Usr Would you mind It might be easier   Too F'in right it 'll be easier > $ Me Ok I am on and I 'll just add today 's date in here and we 're all set > $ Usr So I am back now > $ Me Yes you 're no longer being shown as off sick > $ Usr Can you reset my password while I 've got you on Please please please IT gods do n't do this to me > $ Me What 's wrong with your password > $ Usr Nothing but I got the about to expire message when I logged in and I want to you to reset it for me > $ Me You can change your password yourself by clicking the change password link when you see that screen or wait for it to expire and you 'll be forced to do it when you next log in > $ Usr I do n't want to change my password   You did this to me > $ Me You have to change your password every 60 days > $ Usr Ca n't you just give me another 60 days > $ Me The policy of changing it is for security > $ Usr My password is very secure Ok $ Usr I want to play a game > $ Me Ok what 's your current password > $ Usr It 's $ actuallyquitesecurepassword > $ Me Ok now that you have told me your password it is no longer secure and I must insist you change it immediately > $ Usr You work in IT you knew my password anyway > $ Me No all passwords are secure I can reset passwords but I can not look at them As I am still connected to you I will help you change it now Proceed to open the password change menu for $ User $ User fills in the fields and gets an error saying that new password is a previously used password and thus ca n't be allowed > $ Usr It wo n't let me change it > $ Me You did n't change it you just typed it in again > $ Usr I do n't want to change my password > $ Me You have too It is company policy > $ Usr Passwords are hard to remember > $ Me Just pick a couple of random words and then add a number and a symbol > $ Usr what do you mean > $ Me Like DeskMugPhonePencil1 Just pick a few things you can see from your desk and ta da Easy to remember  $ Usr 's new password is 100 going to be DeskMugPhonePencil1 > $ Usr Ok that 's done then > $ Me Ok enter the details on screen then  New password accepted Thank F@ck > $ Me That 's all sorted for you then > $ Usr Great > $ Me I 'll disconnect the remote connection Freedom > $ Usr I just thought  Oh balls > $ Usr I have been back since last Thursday so will that all be right > $ Me You watched me fill in your return date as today because you said it was today > $ Usr I am back today but I came back last week > $ Me Go in $ HRsystem and change the return date to last Thursday > $ Usr How do I do that   Screw you IT gods > $ Me I 'll remote back in and sort it >         \n",
      "['So my story starts on what was a normal day taking calls on the front line for a large cable company', '', 'The job pays well and for the most part the people I deal with are fairly nice to talk to', \"Quite often we 'll get calls from seniors especially in the morning who have premise equipment issues such as snow on screen or no signal on their TV sets connected to our digital equipment\", '', 'Now my heart does go out to some of these folk because up until recently past few years we would supply straight analog cable to many homes coax direct from wall to TV with scrolling guide', '', \"However most cities we service nowadays require our digital equipment to receive channels and this has caused a lot of frustration with older people who do n't know how to operate said equipment ie always having your TV set on video or hdmi to get picture\", 'So often times we get customers who are repeat offenders with long ticket histories of these types of issues', '', \"So anyway I get a call from an older gentleman who 's quite bitter and mean right off the bat does n't like that I asked for his address telephone number to verify the account hates that he has to speak with a machine before reaching an agent etc\", '', 'I have some experience handling these types of customers however this call was going to be a little different', '', \"I spent over 45 minutes with this guy we 'll call him Mr. Smith trying to get his TV set connected to the digital box properly so he could receive a picture\", '', 'No luck', 'He was getting clearly frustrated by the whole ordeal and started blaming me for not being able to do my job properly how I was useless etc', '', 'Whatever', '', \"Like I said I 've dealt with this before\", 'so I tried my best not to take it personally but eventually I had to ask him if we could book a service tech to the home a courtesy call to get his TV working correctly', 'Unfortunately our booking calendar was showing an appointment 3 days out', '', \"That 's when he dropped this on me Do n't bother sending a goddamn technician because I 'll be dead by then\", '', \"I 'm 94 and TV is the only thing I have left are you really going to make me wait for a tech\", 'I instantly felt bad', '', \"I mean I 've heard every complaint in the book as to why people do n't want to wait for a tech but this one kind of got to me\", '', \"I 'm in my mid-20 's so honestly I ca n't even imagine how it must feel to utter those words\", '', \"So I spoke with my supervisor who said they 'd see if we could get someone out earlier\", \"but we could n't promise anything\", 'So I let Mr. Smith know', 'and he was predictably not very happy with my answer', 'At that point it almost sounded like he started to cry and went into how he has no family left and no friends that come visit this was after I asked if there was anyone in his building that might be able to help', '', 'Man', '', 'I felt terrible so I took it upon myself to ask Mr. Smith if I could pay a visit he lived in a small city over from where I was not very far to drive', '', 'He was a little shocked I was willing to do this but sounded thankful I was willing to come out and help him personally', '', 'So I head over get to the residence and meet him within 30 seconds I had the cable running again simple input change and even brought him a simplified remote for his set top box to avoid this problem in the future', '', \"That 's when he started crying\", \"He goes into how he has n't actually spoken or really interacted with anyone for years\", '', 'He gave me a hug and told me how thankful he was that I came out and helped him and told me how sorry he was for being so mean earlier on', '', 'I said it was no problem', 'and I was happy to help and that was it I left', '3 weeks later my supervisor comes to my desk and asks me if I could come speak with her for a bit about an account for Mr. Smith', 'Turns out he sent the cable company a letter outlining how thankful he was for helping him with his issue and how it really made an old man happy again for once in a very long time', '', 'The letter was framed and put on our front entrance to retail', '', \"I guess the moral of this story is no matter how nasty someone is to you over the phone sometimes they 're not always a terrible person and just going through a lot\", '', 'I still think about Mr. Smith occasionally when I get those nasty customers and it makes me feel a little better', '', \"Anyway thanks for reading just thought I 'd share how this one call changed my outlook on life\", '']\n",
      "So my story starts on what was a normal day taking calls on the front line for a large cable company  The job pays well and for the most part the people I deal with are fairly nice to talk to Quite often we 'll get calls from seniors especially in the morning who have premise equipment issues such as snow on screen or no signal on their TV sets connected to our digital equipment  Now my heart does go out to some of these folk because up until recently past few years we would supply straight analog cable to many homes coax direct from wall to TV with scrolling guide  However most cities we service nowadays require our digital equipment to receive channels and this has caused a lot of frustration with older people who do n't know how to operate said equipment ie always having your TV set on video or hdmi to get picture So often times we get customers who are repeat offenders with long ticket histories of these types of issues  So anyway I get a call from an older gentleman who 's quite bitter and mean right off the bat does n't like that I asked for his address telephone number to verify the account hates that he has to speak with a machine before reaching an agent etc  I have some experience handling these types of customers however this call was going to be a little different  I spent over 45 minutes with this guy we 'll call him Mr. Smith trying to get his TV set connected to the digital box properly so he could receive a picture  No luck He was getting clearly frustrated by the whole ordeal and started blaming me for not being able to do my job properly how I was useless etc  Whatever  Like I said I 've dealt with this before so I tried my best not to take it personally but eventually I had to ask him if we could book a service tech to the home a courtesy call to get his TV working correctly Unfortunately our booking calendar was showing an appointment 3 days out  That 's when he dropped this on me Do n't bother sending a goddamn technician because I 'll be dead by then  I 'm 94 and TV is the only thing I have left are you really going to make me wait for a tech I instantly felt bad  I mean I 've heard every complaint in the book as to why people do n't want to wait for a tech but this one kind of got to me  I 'm in my mid-20 's so honestly I ca n't even imagine how it must feel to utter those words  So I spoke with my supervisor who said they 'd see if we could get someone out earlier but we could n't promise anything So I let Mr. Smith know and he was predictably not very happy with my answer At that point it almost sounded like he started to cry and went into how he has no family left and no friends that come visit this was after I asked if there was anyone in his building that might be able to help  Man  I felt terrible so I took it upon myself to ask Mr. Smith if I could pay a visit he lived in a small city over from where I was not very far to drive  He was a little shocked I was willing to do this but sounded thankful I was willing to come out and help him personally  So I head over get to the residence and meet him within 30 seconds I had the cable running again simple input change and even brought him a simplified remote for his set top box to avoid this problem in the future  That 's when he started crying He goes into how he has n't actually spoken or really interacted with anyone for years  He gave me a hug and told me how thankful he was that I came out and helped him and told me how sorry he was for being so mean earlier on  I said it was no problem and I was happy to help and that was it I left 3 weeks later my supervisor comes to my desk and asks me if I could come speak with her for a bit about an account for Mr. Smith Turns out he sent the cable company a letter outlining how thankful he was for helping him with his issue and how it really made an old man happy again for once in a very long time  The letter was framed and put on our front entrance to retail  I guess the moral of this story is no matter how nasty someone is to you over the phone sometimes they 're not always a terrible person and just going through a lot  I still think about Mr. Smith occasionally when I get those nasty customers and it makes me feel a little better  Anyway thanks for reading just thought I 'd share how this one call changed my outlook on life \n"
     ]
    }
   ],
   "source": [
    "redditTopScores['classified_sents'] = redditTopScores['sentences'].apply(lambda x: tag_sents_ner(x))"
   ]
  },
  {
   "cell_type": "code",
   "execution_count": 139,
   "metadata": {},
   "outputs": [
    {
     "data": {
      "text/plain": [
       "9    [[(Last year, DATE), (Help Desk, PERSON)], [(a...\n",
       "8    [[], [], [(today, DATE), (Citrix, PRODUCT)], [...\n",
       "7    [[], [], [(about a month, DATE), (a few days a...\n",
       "6    [[], [(30,000, CARDINAL)], [(30,000, CARDINAL)...\n",
       "5    [[(Helpdesk, PERSON), (UK, GPE)], [], [], [], ...\n",
       "4    [[], [(10 minutes later, TIME)], [(about 10, C...\n",
       "3    [[(hours, TIME), (Desk Caller, PERSON)], [(Cal...\n",
       "2    [[(1](http://www.reddit.com, CARDINAL)], [(2](...\n",
       "1    [[], [], [], [], [], [], [], [], [], [], [(HRs...\n",
       "0    [[], [], [(recently past few years, DATE)], []...\n",
       "Name: classified_sents, dtype: object"
      ]
     },
     "execution_count": 139,
     "metadata": {},
     "output_type": "execute_result"
    }
   ],
   "source": [
    "redditTopScores['classified_sents']"
   ]
  },
  {
   "cell_type": "markdown",
   "metadata": {},
   "source": [
    "Find the most common entities (which are, of course, boring):"
   ]
  },
  {
   "cell_type": "code",
   "execution_count": 140,
   "metadata": {},
   "outputs": [
    {
     "data": {
      "text/plain": [
       "[('Jack', 14),\n",
       " ('today', 6),\n",
       " ('Boss', 6),\n",
       " ('one', 4),\n",
       " ('HRsystem', 4),\n",
       " ('Usr', 4),\n",
       " ('Smith', 4),\n",
       " ('two', 3),\n",
       " ('9', 3),\n",
       " ('second', 3)]"
      ]
     },
     "execution_count": 140,
     "metadata": {},
     "output_type": "execute_result"
    }
   ],
   "source": [
    "entityCounts = {}\n",
    "for entry in redditTopScores['classified_sents']:\n",
    "    for sentence in entry:\n",
    "        for ent, kind in sentence:\n",
    "            if ent in entityCounts:\n",
    "                entityCounts[ent] += 1\n",
    "            else:\n",
    "                entityCounts[ent] = 1\n",
    "sortedEntities = sorted(entityCounts.items(), key = lambda x: x[1], reverse = True)\n",
    "sortedEntities[:10]"
   ]
  },
  {
   "cell_type": "markdown",
   "metadata": {},
   "source": [
    "Or those occurring only twice:"
   ]
  },
  {
   "cell_type": "code",
   "execution_count": 141,
   "metadata": {},
   "outputs": [
    {
     "data": {
      "text/plain": [
       "['first',\n",
       " '3',\n",
       " '10',\n",
       " '20',\n",
       " 'hours',\n",
       " 'Google Bing',\n",
       " 'XYZ',\n",
       " 'last week',\n",
       " 'three',\n",
       " '2',\n",
       " 'User',\n",
       " 'last Thursday']"
      ]
     },
     "execution_count": 141,
     "metadata": {},
     "output_type": "execute_result"
    }
   ],
   "source": [
    "[x[0] for x in sortedEntities if x[1] == 2]"
   ]
  },
  {
   "cell_type": "markdown",
   "metadata": {},
   "source": [
    "We could also list the most common \"non-objects\". (We note that we're not graphing these because there are so few here.)"
   ]
  },
  {
   "cell_type": "code",
   "execution_count": 142,
   "metadata": {},
   "outputs": [
    {
     "data": {
      "text/plain": [
       "[('Jack', 14),\n",
       " ('today', 6),\n",
       " ('one', 4),\n",
       " ('HRsystem', 4),\n",
       " ('Usr', 4),\n",
       " ('Smith', 4),\n",
       " ('two', 3),\n",
       " ('9', 3),\n",
       " ('second', 3),\n",
       " ('30,000', 3)]"
      ]
     },
     "execution_count": 142,
     "metadata": {},
     "output_type": "execute_result"
    }
   ],
   "source": [
    "nonObjCounts = {}\n",
    "for entry in redditTopScores['classified_sents']:\n",
    "    for sentence in entry:\n",
    "        for ent, kind in sentence:\n",
    "            if kind == 'ORG':\n",
    "                continue\n",
    "            elif ent in nonObjCounts:\n",
    "                nonObjCounts[ent] += 1\n",
    "            else:\n",
    "                nonObjCounts[ent] = 1\n",
    "sortedNonObj = sorted(nonObjCounts.items(), key = lambda x: x[1], reverse = True)\n",
    "sortedNonObj[:10]"
   ]
  },
  {
   "cell_type": "markdown",
   "metadata": {},
   "source": [
    "What about the Organizations?"
   ]
  },
  {
   "cell_type": "code",
   "execution_count": 143,
   "metadata": {},
   "outputs": [
    {
     "name": "stdout",
     "output_type": "stream",
     "text": [
      "HDD\n",
      "Fair\n",
      "Milestone\n",
      "picture](http://imgur.com\n",
      "UrGLxAB\n",
      "COM\n",
      "CMD\n",
      "Caller Google Bing Really\n",
      "Caller\n",
      "XYZ\n",
      "XYZ\n",
      "Boss\n",
      "Bing\n",
      "Buzzfeed\n",
      "Boss\n",
      "USB\n",
      "Boss\n",
      "GET OUT Boss\n",
      "Spotify\n",
      "Edit Clarity\n",
      "> $ Usr\n",
      "> $\n",
      "Ok $\n",
      "> $ Usr Passwords\n"
     ]
    }
   ],
   "source": [
    "OrgCounts = {}\n",
    "for entry in redditTopScores['classified_sents']:\n",
    "    for sentence in entry:\n",
    "        for ent, kind in sentence:\n",
    "            if kind == 'ORG':\n",
    "                print(ent)"
   ]
  },
  {
   "cell_type": "markdown",
   "metadata": {},
   "source": [
    "These, of course, have much smaller counts.\n",
    "\n",
    "In this particular example we didn't find the most interesting entities - you can remedy that in exercise 4!"
   ]
  },
  {
   "cell_type": "markdown",
   "metadata": {},
   "source": [
    "## <span style=\"color:red\">*Exercise 6*</span>\n",
    "\n",
    "<span style=\"color:red\">In the cells immediately following, perform NER on a (modest) subset of your corpus of interest. List all of the different kinds of entities tagged? What does their distribution suggest about the focus of your corpus? For a subset of your corpus, tally at least one type of named entity and calculate the Precision, Recall and F-score for the NER classification just performed."
   ]
  },
  {
   "cell_type": "markdown",
   "metadata": {},
   "source": [
    "## Dependency parsing and graph representations\n",
    "\n",
    "Dependency parsing was developed to robustly capture linguistic dependencies from text. The complex tags associated with these parses are detailed [here]('http://universaldependencies.org/u/overview/syntax.html'). When parsing with the dependency parser, we will work directly from the untokenized text. Note that no *processing* takes place before parsing sentences--we do not remove so-called stop words or anything that plays a syntactic role in the sentence, although anaphora resolution and related normalization may be performed before or after parsing to enhance the value of information extraction. "
   ]
  },
  {
   "cell_type": "markdown",
   "metadata": {},
   "source": [
    "We will be using spaCy's built in dependancy parser to go about exploring the tree.\n",
    "Note that unlike previous examples, large corpuses or collections of sentences don't give us as much information, so we will be navigating smaller sentences.\n",
    "\n",
    "Let us start by exploring noun chunks. Noun chunks are “base noun phrases” – flat phrases that have a noun as their head. You can think of noun chunks as a noun plus the words describing the noun – for example, “the lavish green grass” or “the world’s largest tech fund”. To get the noun chunks in a document, simply iterate over the sentences noun chunks."
   ]
  },
  {
   "cell_type": "code",
   "execution_count": 144,
   "metadata": {},
   "outputs": [],
   "source": [
    "from spacy import displacy"
   ]
  },
  {
   "cell_type": "code",
   "execution_count": 145,
   "metadata": {},
   "outputs": [],
   "source": [
    "doc = nlp(\"Autonomous cars shift insurance liability toward manufacturers\")"
   ]
  },
  {
   "cell_type": "code",
   "execution_count": 146,
   "metadata": {},
   "outputs": [
    {
     "data": {
      "text/html": [
       "<span class=\"tex2jax_ignore\"><svg xmlns=\"http://www.w3.org/2000/svg\" xmlns:xlink=\"http://www.w3.org/1999/xlink\" xml:lang=\"en\" id=\"aad5ec24a4fe480d80ac9748cf2236d3-0\" class=\"displacy\" width=\"1275\" height=\"399.5\" direction=\"ltr\" style=\"max-width: none; height: 399.5px; color: #000000; background: #ffffff; font-family: Arial; direction: ltr\">\n",
       "<text class=\"displacy-token\" fill=\"currentColor\" text-anchor=\"middle\" y=\"309.5\">\n",
       "    <tspan class=\"displacy-word\" fill=\"currentColor\" x=\"50\">Autonomous</tspan>\n",
       "    <tspan class=\"displacy-tag\" dy=\"2em\" fill=\"currentColor\" x=\"50\">ADJ</tspan>\n",
       "</text>\n",
       "\n",
       "<text class=\"displacy-token\" fill=\"currentColor\" text-anchor=\"middle\" y=\"309.5\">\n",
       "    <tspan class=\"displacy-word\" fill=\"currentColor\" x=\"225\">cars</tspan>\n",
       "    <tspan class=\"displacy-tag\" dy=\"2em\" fill=\"currentColor\" x=\"225\">NOUN</tspan>\n",
       "</text>\n",
       "\n",
       "<text class=\"displacy-token\" fill=\"currentColor\" text-anchor=\"middle\" y=\"309.5\">\n",
       "    <tspan class=\"displacy-word\" fill=\"currentColor\" x=\"400\">shift</tspan>\n",
       "    <tspan class=\"displacy-tag\" dy=\"2em\" fill=\"currentColor\" x=\"400\">VERB</tspan>\n",
       "</text>\n",
       "\n",
       "<text class=\"displacy-token\" fill=\"currentColor\" text-anchor=\"middle\" y=\"309.5\">\n",
       "    <tspan class=\"displacy-word\" fill=\"currentColor\" x=\"575\">insurance</tspan>\n",
       "    <tspan class=\"displacy-tag\" dy=\"2em\" fill=\"currentColor\" x=\"575\">NOUN</tspan>\n",
       "</text>\n",
       "\n",
       "<text class=\"displacy-token\" fill=\"currentColor\" text-anchor=\"middle\" y=\"309.5\">\n",
       "    <tspan class=\"displacy-word\" fill=\"currentColor\" x=\"750\">liability</tspan>\n",
       "    <tspan class=\"displacy-tag\" dy=\"2em\" fill=\"currentColor\" x=\"750\">NOUN</tspan>\n",
       "</text>\n",
       "\n",
       "<text class=\"displacy-token\" fill=\"currentColor\" text-anchor=\"middle\" y=\"309.5\">\n",
       "    <tspan class=\"displacy-word\" fill=\"currentColor\" x=\"925\">toward</tspan>\n",
       "    <tspan class=\"displacy-tag\" dy=\"2em\" fill=\"currentColor\" x=\"925\">ADP</tspan>\n",
       "</text>\n",
       "\n",
       "<text class=\"displacy-token\" fill=\"currentColor\" text-anchor=\"middle\" y=\"309.5\">\n",
       "    <tspan class=\"displacy-word\" fill=\"currentColor\" x=\"1100\">manufacturers</tspan>\n",
       "    <tspan class=\"displacy-tag\" dy=\"2em\" fill=\"currentColor\" x=\"1100\">NOUN</tspan>\n",
       "</text>\n",
       "\n",
       "<g class=\"displacy-arrow\">\n",
       "    <path class=\"displacy-arc\" id=\"arrow-aad5ec24a4fe480d80ac9748cf2236d3-0-0\" stroke-width=\"2px\" d=\"M70,264.5 C70,177.0 215.0,177.0 215.0,264.5\" fill=\"none\" stroke=\"currentColor\"/>\n",
       "    <text dy=\"1.25em\" style=\"font-size: 0.8em; letter-spacing: 1px\">\n",
       "        <textPath xlink:href=\"#arrow-aad5ec24a4fe480d80ac9748cf2236d3-0-0\" class=\"displacy-label\" startOffset=\"50%\" side=\"left\" fill=\"currentColor\" text-anchor=\"middle\">amod</textPath>\n",
       "    </text>\n",
       "    <path class=\"displacy-arrowhead\" d=\"M70,266.5 L62,254.5 78,254.5\" fill=\"currentColor\"/>\n",
       "</g>\n",
       "\n",
       "<g class=\"displacy-arrow\">\n",
       "    <path class=\"displacy-arc\" id=\"arrow-aad5ec24a4fe480d80ac9748cf2236d3-0-1\" stroke-width=\"2px\" d=\"M245,264.5 C245,177.0 390.0,177.0 390.0,264.5\" fill=\"none\" stroke=\"currentColor\"/>\n",
       "    <text dy=\"1.25em\" style=\"font-size: 0.8em; letter-spacing: 1px\">\n",
       "        <textPath xlink:href=\"#arrow-aad5ec24a4fe480d80ac9748cf2236d3-0-1\" class=\"displacy-label\" startOffset=\"50%\" side=\"left\" fill=\"currentColor\" text-anchor=\"middle\">nsubj</textPath>\n",
       "    </text>\n",
       "    <path class=\"displacy-arrowhead\" d=\"M245,266.5 L237,254.5 253,254.5\" fill=\"currentColor\"/>\n",
       "</g>\n",
       "\n",
       "<g class=\"displacy-arrow\">\n",
       "    <path class=\"displacy-arc\" id=\"arrow-aad5ec24a4fe480d80ac9748cf2236d3-0-2\" stroke-width=\"2px\" d=\"M595,264.5 C595,177.0 740.0,177.0 740.0,264.5\" fill=\"none\" stroke=\"currentColor\"/>\n",
       "    <text dy=\"1.25em\" style=\"font-size: 0.8em; letter-spacing: 1px\">\n",
       "        <textPath xlink:href=\"#arrow-aad5ec24a4fe480d80ac9748cf2236d3-0-2\" class=\"displacy-label\" startOffset=\"50%\" side=\"left\" fill=\"currentColor\" text-anchor=\"middle\">compound</textPath>\n",
       "    </text>\n",
       "    <path class=\"displacy-arrowhead\" d=\"M595,266.5 L587,254.5 603,254.5\" fill=\"currentColor\"/>\n",
       "</g>\n",
       "\n",
       "<g class=\"displacy-arrow\">\n",
       "    <path class=\"displacy-arc\" id=\"arrow-aad5ec24a4fe480d80ac9748cf2236d3-0-3\" stroke-width=\"2px\" d=\"M420,264.5 C420,89.5 745.0,89.5 745.0,264.5\" fill=\"none\" stroke=\"currentColor\"/>\n",
       "    <text dy=\"1.25em\" style=\"font-size: 0.8em; letter-spacing: 1px\">\n",
       "        <textPath xlink:href=\"#arrow-aad5ec24a4fe480d80ac9748cf2236d3-0-3\" class=\"displacy-label\" startOffset=\"50%\" side=\"left\" fill=\"currentColor\" text-anchor=\"middle\">dobj</textPath>\n",
       "    </text>\n",
       "    <path class=\"displacy-arrowhead\" d=\"M745.0,266.5 L753.0,254.5 737.0,254.5\" fill=\"currentColor\"/>\n",
       "</g>\n",
       "\n",
       "<g class=\"displacy-arrow\">\n",
       "    <path class=\"displacy-arc\" id=\"arrow-aad5ec24a4fe480d80ac9748cf2236d3-0-4\" stroke-width=\"2px\" d=\"M420,264.5 C420,2.0 925.0,2.0 925.0,264.5\" fill=\"none\" stroke=\"currentColor\"/>\n",
       "    <text dy=\"1.25em\" style=\"font-size: 0.8em; letter-spacing: 1px\">\n",
       "        <textPath xlink:href=\"#arrow-aad5ec24a4fe480d80ac9748cf2236d3-0-4\" class=\"displacy-label\" startOffset=\"50%\" side=\"left\" fill=\"currentColor\" text-anchor=\"middle\">prep</textPath>\n",
       "    </text>\n",
       "    <path class=\"displacy-arrowhead\" d=\"M925.0,266.5 L933.0,254.5 917.0,254.5\" fill=\"currentColor\"/>\n",
       "</g>\n",
       "\n",
       "<g class=\"displacy-arrow\">\n",
       "    <path class=\"displacy-arc\" id=\"arrow-aad5ec24a4fe480d80ac9748cf2236d3-0-5\" stroke-width=\"2px\" d=\"M945,264.5 C945,177.0 1090.0,177.0 1090.0,264.5\" fill=\"none\" stroke=\"currentColor\"/>\n",
       "    <text dy=\"1.25em\" style=\"font-size: 0.8em; letter-spacing: 1px\">\n",
       "        <textPath xlink:href=\"#arrow-aad5ec24a4fe480d80ac9748cf2236d3-0-5\" class=\"displacy-label\" startOffset=\"50%\" side=\"left\" fill=\"currentColor\" text-anchor=\"middle\">pobj</textPath>\n",
       "    </text>\n",
       "    <path class=\"displacy-arrowhead\" d=\"M1090.0,266.5 L1098.0,254.5 1082.0,254.5\" fill=\"currentColor\"/>\n",
       "</g>\n",
       "</svg></span>"
      ],
      "text/plain": [
       "<IPython.core.display.HTML object>"
      ]
     },
     "metadata": {},
     "output_type": "display_data"
    }
   ],
   "source": [
    "displacy.render(doc, style='dep')"
   ]
  },
  {
   "cell_type": "code",
   "execution_count": 147,
   "metadata": {},
   "outputs": [
    {
     "name": "stdout",
     "output_type": "stream",
     "text": [
      "Autonomous cars cars nsubj shift\n",
      "insurance liability liability dobj shift\n",
      "manufacturers manufacturers pobj toward\n"
     ]
    }
   ],
   "source": [
    "for chunk in doc.noun_chunks:\n",
    "    print(chunk.text, chunk.root.text, chunk.root.dep_, chunk.root.head.text)"
   ]
  },
  {
   "cell_type": "markdown",
   "metadata": {},
   "source": [
    "spaCy uses the terms head and child to describe the words connected by a single arc in the dependency tree. The term dep is used for the arc label, which describes the type of syntactic relation that connects the child to the head. As with other attributes, the value of .dep is a hash value. You can get the string value with .dep_.\n",
    "\n",
    "For your reference:\n",
    "\n",
    "Text: The original token text.\n",
    "\n",
    "Dep: The syntactic relation connecting child to head.\n",
    "\n",
    "Head text: The original text of the token head.\n",
    "\n",
    "Head POS: The part-of-speech tag of the token head.\n",
    "\n",
    "Children: The immediate syntactic dependents of the token."
   ]
  },
  {
   "cell_type": "code",
   "execution_count": 148,
   "metadata": {},
   "outputs": [
    {
     "name": "stdout",
     "output_type": "stream",
     "text": [
      "Autonomous amod cars NOUN []\n",
      "cars nsubj shift VERB [Autonomous]\n",
      "shift ROOT shift VERB [cars, liability, toward]\n",
      "insurance compound liability NOUN []\n",
      "liability dobj shift VERB [insurance]\n",
      "toward prep shift VERB [manufacturers]\n",
      "manufacturers pobj toward ADP []\n"
     ]
    }
   ],
   "source": [
    "for token in doc:\n",
    "    print(token.text, token.dep_, token.head.text, token.head.pos_,\n",
    "            [child for child in token.children])"
   ]
  },
  {
   "cell_type": "markdown",
   "metadata": {},
   "source": [
    "Because the syntactic relations form a tree, every word has exactly one head. You can therefore iterate over the arcs in the tree by iterating over the words in the sentence. This is usually the best way to match an arc of interest — from below:"
   ]
  },
  {
   "cell_type": "code",
   "execution_count": 149,
   "metadata": {},
   "outputs": [],
   "source": [
    "from spacy.symbols import nsubj, VERB"
   ]
  },
  {
   "cell_type": "code",
   "execution_count": 150,
   "metadata": {},
   "outputs": [
    {
     "name": "stdout",
     "output_type": "stream",
     "text": [
      "{shift}\n"
     ]
    }
   ],
   "source": [
    "verbs = set()\n",
    "for possible_subject in doc:\n",
    "    if possible_subject.dep == nsubj and possible_subject.head.pos == VERB:\n",
    "        verbs.add(possible_subject.head)\n",
    "print(verbs)"
   ]
  },
  {
   "cell_type": "markdown",
   "metadata": {},
   "source": [
    "You can *also* navigate from above. It isn't as efficient though."
   ]
  },
  {
   "cell_type": "code",
   "execution_count": 151,
   "metadata": {},
   "outputs": [],
   "source": [
    "verbs = []\n",
    "for possible_verb in doc:\n",
    "    if possible_verb.pos == VERB:\n",
    "        for possible_subject in possible_verb.children:\n",
    "            if possible_subject.dep == nsubj:\n",
    "                verbs.append(possible_verb)\n",
    "                break"
   ]
  },
  {
   "cell_type": "code",
   "execution_count": 152,
   "metadata": {},
   "outputs": [
    {
     "name": "stdout",
     "output_type": "stream",
     "text": [
      "[shift]\n"
     ]
    }
   ],
   "source": [
    "print(verbs)"
   ]
  },
  {
   "cell_type": "markdown",
   "metadata": {},
   "source": [
    "### Iterating around the local tree\n",
    "A few more convenience attributes are provided for iterating around the local tree from the token. Token.lefts and Token.rights attributes provide sequences of syntactic children that occur before and after the token. Both sequences are in sentence order. There are also two integer-typed attributes, Token.n_lefts and Token.n_rights that give the number of left and right children."
   ]
  },
  {
   "cell_type": "code",
   "execution_count": 153,
   "metadata": {},
   "outputs": [
    {
     "name": "stdout",
     "output_type": "stream",
     "text": [
      "['bright', 'red']\n",
      "['on']\n",
      "2\n",
      "1\n"
     ]
    }
   ],
   "source": [
    "doc = nlp(\"bright red apples on the tree\")\n",
    "print([token.text for token in doc[2].lefts])  # ['bright', 'red']\n",
    "print([token.text for token in doc[2].rights])  # ['on']\n",
    "print(doc[2].n_lefts)  # 2\n",
    "print(doc[2].n_rights)  # 1"
   ]
  },
  {
   "cell_type": "markdown",
   "metadata": {},
   "source": [
    "You can get a whole phrase by its syntactic head using the Token.subtree attribute. This returns an ordered sequence of tokens. You can walk up the tree with the Token.ancestors attribute, and check dominance with Token.is_ancestor"
   ]
  },
  {
   "cell_type": "code",
   "execution_count": 154,
   "metadata": {},
   "outputs": [
    {
     "name": "stdout",
     "output_type": "stream",
     "text": [
      "Credit nmod 0 2 ['holders', 'submit']\n",
      "and cc 0 0 ['Credit', 'holders', 'submit']\n",
      "mortgage compound 0 0 ['account', 'Credit', 'holders', 'submit']\n",
      "account conj 1 0 ['Credit', 'holders', 'submit']\n",
      "holders nsubj 1 0 ['submit']\n"
     ]
    }
   ],
   "source": [
    "doc = nlp(\"Credit and mortgage account holders must submit their requests\")\n",
    "\n",
    "root = [token for token in doc if token.head == token][0]\n",
    "subject = list(root.lefts)[0]\n",
    "for descendant in subject.subtree:\n",
    "    assert subject is descendant or subject.is_ancestor(descendant)\n",
    "    print(descendant.text, descendant.dep_, descendant.n_lefts,\n",
    "            descendant.n_rights,\n",
    "            [ancestor.text for ancestor in descendant.ancestors])"
   ]
  },
  {
   "cell_type": "markdown",
   "metadata": {},
   "source": [
    "Finally, the .left_edge and .right_edge attributes can be especially useful, because they give you the first and last token of the subtree. This is the easiest way to create a Span object for a syntactic phrase. Note that .right_edge gives a token within the subtree — so if you use it as the end-point of a range, don’t forget to +1!"
   ]
  },
  {
   "cell_type": "code",
   "execution_count": 155,
   "metadata": {},
   "outputs": [
    {
     "name": "stdout",
     "output_type": "stream",
     "text": [
      "Credit and mortgage account holders NOUN nsubj submit\n",
      "must AUX aux submit\n",
      "submit VERB ROOT submit\n",
      "their PRON poss requests\n",
      "requests NOUN dobj submit\n"
     ]
    }
   ],
   "source": [
    "span = doc[doc[4].left_edge.i : doc[4].right_edge.i+1]\n",
    "with doc.retokenize() as retokenizer:\n",
    "    retokenizer.merge(span)\n",
    "for token in doc:\n",
    "    print(token.text, token.pos_, token.dep_, token.head.text)"
   ]
  },
  {
   "cell_type": "code",
   "execution_count": 156,
   "metadata": {},
   "outputs": [
    {
     "data": {
      "text/html": [
       "<span class=\"tex2jax_ignore\"><svg xmlns=\"http://www.w3.org/2000/svg\" xmlns:xlink=\"http://www.w3.org/1999/xlink\" xml:lang=\"en\" id=\"aedf0ac8523a4c7eb3fa7a495356a0c0-0\" class=\"displacy\" width=\"925\" height=\"312.0\" direction=\"ltr\" style=\"max-width: none; height: 312.0px; color: #000000; background: #ffffff; font-family: Arial; direction: ltr\">\n",
       "<text class=\"displacy-token\" fill=\"currentColor\" text-anchor=\"middle\" y=\"222.0\">\n",
       "    <tspan class=\"displacy-word\" fill=\"currentColor\" x=\"50\">Credit and mortgage account holders</tspan>\n",
       "    <tspan class=\"displacy-tag\" dy=\"2em\" fill=\"currentColor\" x=\"50\">NOUN</tspan>\n",
       "</text>\n",
       "\n",
       "<text class=\"displacy-token\" fill=\"currentColor\" text-anchor=\"middle\" y=\"222.0\">\n",
       "    <tspan class=\"displacy-word\" fill=\"currentColor\" x=\"225\">must</tspan>\n",
       "    <tspan class=\"displacy-tag\" dy=\"2em\" fill=\"currentColor\" x=\"225\">AUX</tspan>\n",
       "</text>\n",
       "\n",
       "<text class=\"displacy-token\" fill=\"currentColor\" text-anchor=\"middle\" y=\"222.0\">\n",
       "    <tspan class=\"displacy-word\" fill=\"currentColor\" x=\"400\">submit</tspan>\n",
       "    <tspan class=\"displacy-tag\" dy=\"2em\" fill=\"currentColor\" x=\"400\">VERB</tspan>\n",
       "</text>\n",
       "\n",
       "<text class=\"displacy-token\" fill=\"currentColor\" text-anchor=\"middle\" y=\"222.0\">\n",
       "    <tspan class=\"displacy-word\" fill=\"currentColor\" x=\"575\">their</tspan>\n",
       "    <tspan class=\"displacy-tag\" dy=\"2em\" fill=\"currentColor\" x=\"575\">PRON</tspan>\n",
       "</text>\n",
       "\n",
       "<text class=\"displacy-token\" fill=\"currentColor\" text-anchor=\"middle\" y=\"222.0\">\n",
       "    <tspan class=\"displacy-word\" fill=\"currentColor\" x=\"750\">requests</tspan>\n",
       "    <tspan class=\"displacy-tag\" dy=\"2em\" fill=\"currentColor\" x=\"750\">NOUN</tspan>\n",
       "</text>\n",
       "\n",
       "<g class=\"displacy-arrow\">\n",
       "    <path class=\"displacy-arc\" id=\"arrow-aedf0ac8523a4c7eb3fa7a495356a0c0-0-0\" stroke-width=\"2px\" d=\"M70,177.0 C70,2.0 400.0,2.0 400.0,177.0\" fill=\"none\" stroke=\"currentColor\"/>\n",
       "    <text dy=\"1.25em\" style=\"font-size: 0.8em; letter-spacing: 1px\">\n",
       "        <textPath xlink:href=\"#arrow-aedf0ac8523a4c7eb3fa7a495356a0c0-0-0\" class=\"displacy-label\" startOffset=\"50%\" side=\"left\" fill=\"currentColor\" text-anchor=\"middle\">nsubj</textPath>\n",
       "    </text>\n",
       "    <path class=\"displacy-arrowhead\" d=\"M70,179.0 L62,167.0 78,167.0\" fill=\"currentColor\"/>\n",
       "</g>\n",
       "\n",
       "<g class=\"displacy-arrow\">\n",
       "    <path class=\"displacy-arc\" id=\"arrow-aedf0ac8523a4c7eb3fa7a495356a0c0-0-1\" stroke-width=\"2px\" d=\"M245,177.0 C245,89.5 395.0,89.5 395.0,177.0\" fill=\"none\" stroke=\"currentColor\"/>\n",
       "    <text dy=\"1.25em\" style=\"font-size: 0.8em; letter-spacing: 1px\">\n",
       "        <textPath xlink:href=\"#arrow-aedf0ac8523a4c7eb3fa7a495356a0c0-0-1\" class=\"displacy-label\" startOffset=\"50%\" side=\"left\" fill=\"currentColor\" text-anchor=\"middle\">aux</textPath>\n",
       "    </text>\n",
       "    <path class=\"displacy-arrowhead\" d=\"M245,179.0 L237,167.0 253,167.0\" fill=\"currentColor\"/>\n",
       "</g>\n",
       "\n",
       "<g class=\"displacy-arrow\">\n",
       "    <path class=\"displacy-arc\" id=\"arrow-aedf0ac8523a4c7eb3fa7a495356a0c0-0-2\" stroke-width=\"2px\" d=\"M595,177.0 C595,89.5 745.0,89.5 745.0,177.0\" fill=\"none\" stroke=\"currentColor\"/>\n",
       "    <text dy=\"1.25em\" style=\"font-size: 0.8em; letter-spacing: 1px\">\n",
       "        <textPath xlink:href=\"#arrow-aedf0ac8523a4c7eb3fa7a495356a0c0-0-2\" class=\"displacy-label\" startOffset=\"50%\" side=\"left\" fill=\"currentColor\" text-anchor=\"middle\">poss</textPath>\n",
       "    </text>\n",
       "    <path class=\"displacy-arrowhead\" d=\"M595,179.0 L587,167.0 603,167.0\" fill=\"currentColor\"/>\n",
       "</g>\n",
       "\n",
       "<g class=\"displacy-arrow\">\n",
       "    <path class=\"displacy-arc\" id=\"arrow-aedf0ac8523a4c7eb3fa7a495356a0c0-0-3\" stroke-width=\"2px\" d=\"M420,177.0 C420,2.0 750.0,2.0 750.0,177.0\" fill=\"none\" stroke=\"currentColor\"/>\n",
       "    <text dy=\"1.25em\" style=\"font-size: 0.8em; letter-spacing: 1px\">\n",
       "        <textPath xlink:href=\"#arrow-aedf0ac8523a4c7eb3fa7a495356a0c0-0-3\" class=\"displacy-label\" startOffset=\"50%\" side=\"left\" fill=\"currentColor\" text-anchor=\"middle\">dobj</textPath>\n",
       "    </text>\n",
       "    <path class=\"displacy-arrowhead\" d=\"M750.0,179.0 L758.0,167.0 742.0,167.0\" fill=\"currentColor\"/>\n",
       "</g>\n",
       "</svg></span>"
      ],
      "text/plain": [
       "<IPython.core.display.HTML object>"
      ]
     },
     "metadata": {},
     "output_type": "display_data"
    }
   ],
   "source": [
    "displacy.render(doc, style='dep')"
   ]
  },
  {
   "cell_type": "markdown",
   "metadata": {},
   "source": [
    "### Information Extraction\n",
    "\n",
    "How can dependancy graphs be useful? We can extract information from the sentences based on relationships between words within parsed phrases. Let us see if we can do this to glean any information, from, say, our movies dataset. \n",
    "\n",
    "How violent are the movies? Who is killing who?"
   ]
  },
  {
   "cell_type": "markdown",
   "metadata": {},
   "source": [
    "沒有 movie_df這個檔案"
   ]
  },
  {
   "cell_type": "code",
   "execution_count": 157,
   "metadata": {},
   "outputs": [],
   "source": [
    "movie_violences = {}"
   ]
  },
  {
   "cell_type": "code",
   "execution_count": 158,
   "metadata": {},
   "outputs": [
    {
     "name": "stderr",
     "output_type": "stream",
     "text": [
      "<>:15: SyntaxWarning: \"is not\" with a literal. Did you mean \"!=\"?\n",
      "<>:17: SyntaxWarning: \"is not\" with a literal. Did you mean \"!=\"?\n",
      "<>:15: SyntaxWarning: \"is not\" with a literal. Did you mean \"!=\"?\n",
      "<>:17: SyntaxWarning: \"is not\" with a literal. Did you mean \"!=\"?\n",
      "<ipython-input-158-9d395d491929>:15: SyntaxWarning: \"is not\" with a literal. Did you mean \"!=\"?\n",
      "  if subject is not 0:\n",
      "<ipython-input-158-9d395d491929>:17: SyntaxWarning: \"is not\" with a literal. Did you mean \"!=\"?\n",
      "  if object_ is not 0:\n"
     ]
    }
   ],
   "source": [
    "for index, row in movie_df.iterrows():\n",
    "    text = ' '.join(row['Tokenized Texts'])\n",
    "    movie_violences[row['Movie Name']] = ([], [])\n",
    "    doc = nlp(text)\n",
    "    for chunk in doc.noun_chunks:\n",
    "        subject = 0\n",
    "        object_ = 0\n",
    "        # if the verb or the root of the sentence is kill\n",
    "        if chunk.root.head.text == 'kill':\n",
    "            # we find the subjects and objects around the word, and if it does exist, add it to the tuple\n",
    "            if chunk.root.dep_ == 'nsubj':\n",
    "                subject = chunk.root.text\n",
    "            if chunk.root.dep_ == 'dobj':\n",
    "                object_ = chunk.root.text\n",
    "            if subject is not 0:\n",
    "                movie_violences[row['Movie Name']][0].append(subject)\n",
    "            if object_ is not 0:\n",
    "                movie_violences[row['Movie Name']][1].append(object_)"
   ]
  },
  {
   "cell_type": "code",
   "execution_count": 159,
   "metadata": {},
   "outputs": [
    {
     "data": {
      "text/plain": [
       "{}"
      ]
     },
     "execution_count": 159,
     "metadata": {},
     "output_type": "execute_result"
    }
   ],
   "source": [
    "movie_violences"
   ]
  },
  {
   "cell_type": "markdown",
   "metadata": {},
   "source": [
    "That's pretty neat: we can see who tried to kill who, or at least talked about it. A lot of 'I' killing 'you', as we'd imagine. What else can we see?\n",
    "\n",
    "The movie, about time, which is about time travel, funnily enough has:\n",
    "`'About Time': (['I'], ['Hitler'])`"
   ]
  },
  {
   "cell_type": "markdown",
   "metadata": {},
   "source": [
    "## <span style=\"color:red\">*Exercise 7*</span>\n",
    "\n",
    "<span style=\"color:red\">In the cells immediately following, parse a (modest) subset of your corpus of interest. How deep are the phrase structure and dependency parse trees nested? How does parse depth relate to perceived sentence complexity? What are five things you can extract from these parses for subsequent analysis? (e.g., nouns collocated in a noun phrase; adjectives that modify a noun; etc.) Capture these sets of things for a focal set of words (e.g., \"Bush\", \"Obama\", \"Trump\"). What do they reveal about the roles that these entities are perceive to play in the social world inscribed by your texts?"
   ]
  },
  {
   "cell_type": "markdown",
   "metadata": {},
   "source": [
    "# Distributional distances\n",
    "\n",
    "If we want to compare different corpora, we need a distance or divergence that compares the two distributions.\n",
    "\n",
    "We will use the: \n",
    "\n",
    "+ Kullback-Leibler (KL) divergence\n",
    "+ $\\chi^2$ divergence\n",
    "+ Kolmogorov-Smirnov (KS) distance\n",
    "+ Wasserstein distance\n",
    "\n",
    "### Kullback-Leibler and $x^2$ divergences ###\n",
    "\n",
    "KL and $\\chi^2$ divergences are members of the broader <a \"href=https://en.wikipedia.org/wiki/F-divergence\" target=\"_blank\">$f$-divergence</a> family, a function of $D_f (P || Q)$ that calculates the difference between two probability distributions P and Q. The KL $f(t)$ is $ t \\text{ log } t $, while the $\\chi^2$ is $t^2-1$. KL comes from information and $\\chi^2$ from measure theory. As such, the KL divergence computes the relative entropy between two distributions--how they differ in bits, while the $\\chi^2$ whether the same statistical inferences can be drawn from them both.  \n",
    "\n",
    "Specifically, given two discrete probability distributions $P$ and $Q$, the Kullback-Leibler divergence from $Q$ to $P$ is defined as:\n",
    "\n",
    "$D_{\\mathrm{KL}}(P\\|Q) = \\sum_i P(i) \\, \\log\\frac{P(i)}{Q(i)}$.\n",
    "\n",
    "The [scipy.stats.entropy()](https://docs.scipy.org/doc/scipy/reference/generated/scipy.stats.entropy.html) function does the calculation for you, which takes in two arrays of probabilities and computes the KL divergence. Note that the KL divergence is in general not commutative, i.e. $D_{\\mathrm{KL}}(P\\|Q) \\neq D_{\\mathrm{KL}}(Q\\|P)$ .\n",
    "\n",
    "Also note that the KL divernce is the sum of elementwise divergences. Scipy provides [scipy.special.kl_div()](https://docs.scipy.org/doc/scipy/reference/generated/scipy.special.kl_div.html#scipy-special-kl-div) which calculates elementwise divergences for you.\n",
    "\n",
    "The $\\chi^2$ Divergence is defined as:\n",
    "\n",
    "$D_{\\mathrm{\\chi^2}}(P\\|Q) = \\sum_i \\left(\\frac{P(i)}{Q(i)}-1\\right)^2$. \n",
    "\n",
    "This is also noncommutative, and the code can be drawn directly from scipy.\n",
    "\n",
    "### Kolmogorov-Smirnov ###\n",
    "\n",
    "The two-sample Kolmogovorov-Smirnov test statistic calculates the distance between the cumulative distribution function of the two distributions to be compared, and, along with the $x^2$ divergence, is among the most common approaches two calculating a distance in statistics. It can be interpreted as a test of whether two distributions are drawn from the same underlying distribution. As with the others, the code is readily available in scipy.\n",
    "\n",
    "### Wasserstein Distance ###\n",
    "\n",
    "When this is computed on a Euclidian metric structure (e.g., numbers of words), this is also known as the earth mover’s distance, because it can be seen as the minimum amount of \"work\" required to transform $P$ into $Q$, where \"work\" is measured as the amount of distribution weight that must be moved, multiplied by the distance it has to be moved.\n",
    "\n",
    "### Computing ###\n",
    "\n",
    "To do this we will need to create the arrays, lets compare the Whitehouse releases with the Kennedy releases. First we have to download them and load them into a DataFrame."
   ]
  },
  {
   "cell_type": "code",
   "execution_count": 160,
   "metadata": {},
   "outputs": [
    {
     "data": {
      "text/html": [
       "<div>\n",
       "<style scoped>\n",
       "    .dataframe tbody tr th:only-of-type {\n",
       "        vertical-align: middle;\n",
       "    }\n",
       "\n",
       "    .dataframe tbody tr th {\n",
       "        vertical-align: top;\n",
       "    }\n",
       "\n",
       "    .dataframe thead th {\n",
       "        text-align: right;\n",
       "    }\n",
       "</style>\n",
       "<table border=\"1\" class=\"dataframe\">\n",
       "  <thead>\n",
       "    <tr style=\"text-align: right;\">\n",
       "      <th></th>\n",
       "      <th>name</th>\n",
       "      <th>text</th>\n",
       "      <th>path</th>\n",
       "      <th>html_url</th>\n",
       "      <th>download_url</th>\n",
       "    </tr>\n",
       "  </thead>\n",
       "  <tbody>\n",
       "    <tr>\n",
       "      <th>0</th>\n",
       "      <td>01Apr2005Kennedy14.txt</td>\n",
       "      <td>FOR IMMEDIATE RELEASE   FOR IMMEDIATE...</td>\n",
       "      <td>raw/Kennedy/01Apr2005Kennedy14.txt</td>\n",
       "      <td>https://github.com/lintool/GrimmerSenatePressR...</td>\n",
       "      <td>https://raw.githubusercontent.com/lintool/Grim...</td>\n",
       "    </tr>\n",
       "    <tr>\n",
       "      <th>1</th>\n",
       "      <td>01Aug2005Kennedy12.txt</td>\n",
       "      <td>FOR IMMEDIATE RELEASE   FOR IMMEDIATE...</td>\n",
       "      <td>raw/Kennedy/01Aug2005Kennedy12.txt</td>\n",
       "      <td>https://github.com/lintool/GrimmerSenatePressR...</td>\n",
       "      <td>https://raw.githubusercontent.com/lintool/Grim...</td>\n",
       "    </tr>\n",
       "    <tr>\n",
       "      <th>2</th>\n",
       "      <td>01Aug2006Kennedy10.txt</td>\n",
       "      <td>FOR IMMEDIATE RELEASE  FOR IMMEDIATE ...</td>\n",
       "      <td>raw/Kennedy/01Aug2006Kennedy10.txt</td>\n",
       "      <td>https://github.com/lintool/GrimmerSenatePressR...</td>\n",
       "      <td>https://raw.githubusercontent.com/lintool/Grim...</td>\n",
       "    </tr>\n",
       "    <tr>\n",
       "      <th>3</th>\n",
       "      <td>01Aug2006Kennedy11.txt</td>\n",
       "      <td>FOR IMMEDIATE RELEASE  FOR IMMEDIATE ...</td>\n",
       "      <td>raw/Kennedy/01Aug2006Kennedy11.txt</td>\n",
       "      <td>https://github.com/lintool/GrimmerSenatePressR...</td>\n",
       "      <td>https://raw.githubusercontent.com/lintool/Grim...</td>\n",
       "    </tr>\n",
       "    <tr>\n",
       "      <th>4</th>\n",
       "      <td>01Aug2006Kennedy12.txt</td>\n",
       "      <td>FOR IMMEDIATE RELEASE  FOR IMMEDIATE ...</td>\n",
       "      <td>raw/Kennedy/01Aug2006Kennedy12.txt</td>\n",
       "      <td>https://github.com/lintool/GrimmerSenatePressR...</td>\n",
       "      <td>https://raw.githubusercontent.com/lintool/Grim...</td>\n",
       "    </tr>\n",
       "  </tbody>\n",
       "</table>\n",
       "</div>"
      ],
      "text/plain": [
       "                     name                                               text  \\\n",
       "0  01Apr2005Kennedy14.txt           FOR IMMEDIATE RELEASE   FOR IMMEDIATE...   \n",
       "1  01Aug2005Kennedy12.txt           FOR IMMEDIATE RELEASE   FOR IMMEDIATE...   \n",
       "2  01Aug2006Kennedy10.txt           FOR IMMEDIATE RELEASE  FOR IMMEDIATE ...   \n",
       "3  01Aug2006Kennedy11.txt           FOR IMMEDIATE RELEASE  FOR IMMEDIATE ...   \n",
       "4  01Aug2006Kennedy12.txt           FOR IMMEDIATE RELEASE  FOR IMMEDIATE ...   \n",
       "\n",
       "                                 path  \\\n",
       "0  raw/Kennedy/01Apr2005Kennedy14.txt   \n",
       "1  raw/Kennedy/01Aug2005Kennedy12.txt   \n",
       "2  raw/Kennedy/01Aug2006Kennedy10.txt   \n",
       "3  raw/Kennedy/01Aug2006Kennedy11.txt   \n",
       "4  raw/Kennedy/01Aug2006Kennedy12.txt   \n",
       "\n",
       "                                            html_url  \\\n",
       "0  https://github.com/lintool/GrimmerSenatePressR...   \n",
       "1  https://github.com/lintool/GrimmerSenatePressR...   \n",
       "2  https://github.com/lintool/GrimmerSenatePressR...   \n",
       "3  https://github.com/lintool/GrimmerSenatePressR...   \n",
       "4  https://github.com/lintool/GrimmerSenatePressR...   \n",
       "\n",
       "                                        download_url  \n",
       "0  https://raw.githubusercontent.com/lintool/Grim...  \n",
       "1  https://raw.githubusercontent.com/lintool/Grim...  \n",
       "2  https://raw.githubusercontent.com/lintool/Grim...  \n",
       "3  https://raw.githubusercontent.com/lintool/Grim...  \n",
       "4  https://raw.githubusercontent.com/lintool/Grim...  "
      ]
     },
     "execution_count": 160,
     "metadata": {},
     "output_type": "execute_result"
    }
   ],
   "source": [
    "kenReleases = getGithubFiles('https://api.github.com/repos/lintool/GrimmerSenatePressReleases/contents/raw/Kennedy', maxFiles = 10)\n",
    "kenReleases[:5]"
   ]
  },
  {
   "cell_type": "markdown",
   "metadata": {},
   "source": [
    "Then we can tokenize, stem and remove stop words, like we did for the Whitehouse press releases"
   ]
  },
  {
   "cell_type": "code",
   "execution_count": 161,
   "metadata": {},
   "outputs": [],
   "source": [
    "kenReleases['tokenized_text'] = kenReleases['text'].apply(lambda x: word_tokenize(x))\n",
    "kenReleases['normalized_tokens'] = kenReleases['tokenized_text'].apply(lambda x: normalizeTokens(x))"
   ]
  },
  {
   "cell_type": "markdown",
   "metadata": {},
   "source": [
    "Now we need to compare the two collection of words, remove those not found in both, and assign the remaining ones indices."
   ]
  },
  {
   "cell_type": "code",
   "execution_count": 162,
   "metadata": {},
   "outputs": [
    {
     "data": {
      "text/plain": [
       "132"
      ]
     },
     "execution_count": 162,
     "metadata": {},
     "output_type": "execute_result"
    }
   ],
   "source": [
    "whWords = set(whReleases['normalized_tokens'].sum())\n",
    "kenWords = set(kenReleases['normalized_tokens'].sum())\n",
    "\n",
    "#Change & to | if you want to keep all words\n",
    "overlapWords = whWords & kenWords\n",
    "\n",
    "overlapWordsDict = {word: index for index, word in enumerate(overlapWords)}\n",
    "overlapWordsDict['student']"
   ]
  },
  {
   "cell_type": "markdown",
   "metadata": {},
   "source": [
    "Now we can count the occurrences of each word in the corpora and create our arrays. Note that we don't have to use numpy arrays as we do here. We could just use a list, but the arrays are faster in numpy so we encourage you to get in the habit of using them."
   ]
  },
  {
   "cell_type": "code",
   "execution_count": 163,
   "metadata": {},
   "outputs": [
    {
     "data": {
      "text/plain": [
       "1.0"
      ]
     },
     "execution_count": 163,
     "metadata": {},
     "output_type": "execute_result"
    }
   ],
   "source": [
    "def makeProbsArray(dfColumn, overlapDict):\n",
    "    words = dfColumn.sum()\n",
    "    countList = [0] * len(overlapDict)\n",
    "    for word in words:\n",
    "        try:\n",
    "            countList[overlapDict[word]] += 1\n",
    "        except KeyError:\n",
    "            #The word is not common so we skip it\n",
    "            pass\n",
    "    countArray = np.array(countList)\n",
    "    return countArray / countArray.sum()\n",
    "\n",
    "whProbArray = makeProbsArray(whReleases['normalized_tokens'], overlapWordsDict)\n",
    "kenProbArray = makeProbsArray(kenReleases['normalized_tokens'], overlapWordsDict)\n",
    "kenProbArray.sum()\n",
    "#There is a little bit of a floating point math error\n",
    "#but it's too small to see with print and too small matter here"
   ]
  },
  {
   "cell_type": "markdown",
   "metadata": {},
   "source": [
    "We can now compute the KL divergence. Pay attention to the asymmetry. Use [the Jensen–Shannon divergence](https://en.wikipedia.org/wiki/Jensen%E2%80%93Shannon_divergence), which is the average KL divergence between each distribution and the average of both distributions (i.e., the midpoint), if you want symmetry."
   ]
  },
  {
   "cell_type": "code",
   "execution_count": 164,
   "metadata": {},
   "outputs": [
    {
     "name": "stdout",
     "output_type": "stream",
     "text": [
      "0.6208730145404155\n",
      "0.5740844746918974\n"
     ]
    }
   ],
   "source": [
    "wh_kenDivergence = scipy.stats.entropy(whProbArray, kenProbArray)\n",
    "print (wh_kenDivergence)\n",
    "ken_whDivergence = scipy.stats.entropy(kenProbArray, whProbArray)\n",
    "print (ken_whDivergence)"
   ]
  },
  {
   "cell_type": "markdown",
   "metadata": {},
   "source": [
    "Then, we can do the elementwise calculation and see which words best distinguish the two corpora."
   ]
  },
  {
   "cell_type": "code",
   "execution_count": 165,
   "metadata": {},
   "outputs": [
    {
     "data": {
      "text/html": [
       "<div>\n",
       "<style scoped>\n",
       "    .dataframe tbody tr th:only-of-type {\n",
       "        vertical-align: middle;\n",
       "    }\n",
       "\n",
       "    .dataframe tbody tr th {\n",
       "        vertical-align: top;\n",
       "    }\n",
       "\n",
       "    .dataframe thead th {\n",
       "        text-align: right;\n",
       "    }\n",
       "</style>\n",
       "<table border=\"1\" class=\"dataframe\">\n",
       "  <thead>\n",
       "    <tr style=\"text-align: right;\">\n",
       "      <th></th>\n",
       "      <th>word</th>\n",
       "      <th>elementwise divergence</th>\n",
       "    </tr>\n",
       "  </thead>\n",
       "  <tbody>\n",
       "    <tr>\n",
       "      <th>0</th>\n",
       "      <td>family</td>\n",
       "      <td>0.000093</td>\n",
       "    </tr>\n",
       "    <tr>\n",
       "      <th>1</th>\n",
       "      <td>deeply</td>\n",
       "      <td>0.001334</td>\n",
       "    </tr>\n",
       "    <tr>\n",
       "      <th>2</th>\n",
       "      <td>conduct</td>\n",
       "      <td>0.000004</td>\n",
       "    </tr>\n",
       "    <tr>\n",
       "      <th>3</th>\n",
       "      <td>begin</td>\n",
       "      <td>0.005686</td>\n",
       "    </tr>\n",
       "    <tr>\n",
       "      <th>4</th>\n",
       "      <td>chairman</td>\n",
       "      <td>0.004942</td>\n",
       "    </tr>\n",
       "    <tr>\n",
       "      <th>5</th>\n",
       "      <td>influence</td>\n",
       "      <td>0.000055</td>\n",
       "    </tr>\n",
       "    <tr>\n",
       "      <th>6</th>\n",
       "      <td>fully</td>\n",
       "      <td>0.000812</td>\n",
       "    </tr>\n",
       "    <tr>\n",
       "      <th>7</th>\n",
       "      <td>advantage</td>\n",
       "      <td>0.000389</td>\n",
       "    </tr>\n",
       "    <tr>\n",
       "      <th>8</th>\n",
       "      <td>important</td>\n",
       "      <td>0.000473</td>\n",
       "    </tr>\n",
       "    <tr>\n",
       "      <th>9</th>\n",
       "      <td>study</td>\n",
       "      <td>0.000072</td>\n",
       "    </tr>\n",
       "  </tbody>\n",
       "</table>\n",
       "</div>"
      ],
      "text/plain": [
       "        word  elementwise divergence\n",
       "0     family                0.000093\n",
       "1     deeply                0.001334\n",
       "2    conduct                0.000004\n",
       "3      begin                0.005686\n",
       "4   chairman                0.004942\n",
       "5  influence                0.000055\n",
       "6      fully                0.000812\n",
       "7  advantage                0.000389\n",
       "8  important                0.000473\n",
       "9      study                0.000072"
      ]
     },
     "execution_count": 165,
     "metadata": {},
     "output_type": "execute_result"
    }
   ],
   "source": [
    "wh_kenDivergence_ew = scipy.special.kl_div(whProbArray, kenProbArray)\n",
    "kl_df = pandas.DataFrame(list(overlapWordsDict.keys()), columns = ['word'], index = list(overlapWordsDict.values()))\n",
    "kl_df = kl_df.sort_index()\n",
    "kl_df['elementwise divergence'] = wh_kenDivergence_ew\n",
    "kl_df[:10]"
   ]
  },
  {
   "cell_type": "code",
   "execution_count": 166,
   "metadata": {},
   "outputs": [
    {
     "data": {
      "text/html": [
       "<div>\n",
       "<style scoped>\n",
       "    .dataframe tbody tr th:only-of-type {\n",
       "        vertical-align: middle;\n",
       "    }\n",
       "\n",
       "    .dataframe tbody tr th {\n",
       "        vertical-align: top;\n",
       "    }\n",
       "\n",
       "    .dataframe thead th {\n",
       "        text-align: right;\n",
       "    }\n",
       "</style>\n",
       "<table border=\"1\" class=\"dataframe\">\n",
       "  <thead>\n",
       "    <tr style=\"text-align: right;\">\n",
       "      <th></th>\n",
       "      <th>word</th>\n",
       "      <th>elementwise divergence</th>\n",
       "    </tr>\n",
       "  </thead>\n",
       "  <tbody>\n",
       "    <tr>\n",
       "      <th>226</th>\n",
       "      <td>iraq</td>\n",
       "      <td>0.094153</td>\n",
       "    </tr>\n",
       "    <tr>\n",
       "      <th>247</th>\n",
       "      <td>bush</td>\n",
       "      <td>0.047752</td>\n",
       "    </tr>\n",
       "    <tr>\n",
       "      <th>257</th>\n",
       "      <td>stem</td>\n",
       "      <td>0.023534</td>\n",
       "    </tr>\n",
       "    <tr>\n",
       "      <th>136</th>\n",
       "      <td>law</td>\n",
       "      <td>0.022612</td>\n",
       "    </tr>\n",
       "    <tr>\n",
       "      <th>71</th>\n",
       "      <td>american</td>\n",
       "      <td>0.020836</td>\n",
       "    </tr>\n",
       "    <tr>\n",
       "      <th>235</th>\n",
       "      <td>department</td>\n",
       "      <td>0.020716</td>\n",
       "    </tr>\n",
       "    <tr>\n",
       "      <th>105</th>\n",
       "      <td>member</td>\n",
       "      <td>0.013145</td>\n",
       "    </tr>\n",
       "    <tr>\n",
       "      <th>190</th>\n",
       "      <td>war</td>\n",
       "      <td>0.012563</td>\n",
       "    </tr>\n",
       "    <tr>\n",
       "      <th>228</th>\n",
       "      <td>program</td>\n",
       "      <td>0.011129</td>\n",
       "    </tr>\n",
       "    <tr>\n",
       "      <th>200</th>\n",
       "      <td>country</td>\n",
       "      <td>0.010113</td>\n",
       "    </tr>\n",
       "  </tbody>\n",
       "</table>\n",
       "</div>"
      ],
      "text/plain": [
       "           word  elementwise divergence\n",
       "226        iraq                0.094153\n",
       "247        bush                0.047752\n",
       "257        stem                0.023534\n",
       "136         law                0.022612\n",
       "71     american                0.020836\n",
       "235  department                0.020716\n",
       "105      member                0.013145\n",
       "190         war                0.012563\n",
       "228     program                0.011129\n",
       "200     country                0.010113"
      ]
     },
     "execution_count": 166,
     "metadata": {},
     "output_type": "execute_result"
    }
   ],
   "source": [
    "kl_df.sort_values(by='elementwise divergence', ascending=False)[:10]"
   ]
  },
  {
   "cell_type": "markdown",
   "metadata": {},
   "source": [
    "Now we will apply what we learned today \n",
    "First, let's transform every text into normalized tokens. Note that in this first step, no stopword is removed.\n",
    "We'll use only the first 11 movies: you are welcome to try more."
   ]
  },
  {
   "cell_type": "code",
   "execution_count": 167,
   "metadata": {},
   "outputs": [],
   "source": [
    "corpora = []\n",
    "for index, row in movie_df.iterrows():\n",
    "    if len(corpora) > 10:\n",
    "        break\n",
    "    corpora.append(row['Tokenized Texts'])"
   ]
  },
  {
   "cell_type": "markdown",
   "metadata": {},
   "source": [
    "Then, let's separate the normalized tokens into stopwords and non-stopwords."
   ]
  },
  {
   "cell_type": "code",
   "execution_count": 168,
   "metadata": {},
   "outputs": [],
   "source": [
    "corpora_s = []\n",
    "corpora_nons = []\n",
    "for corpus in corpora:\n",
    "    s = []\n",
    "    nons = []\n",
    "    doc = nlp(' '.join(corpus))\n",
    "    for word in doc:\n",
    "        if word.is_stop:\n",
    "            s.append(word.text)\n",
    "        else:\n",
    "            nons.append(word.text)\n",
    "    corpora_s.append(s)\n",
    "    corpora_nons.append(nons)"
   ]
  },
  {
   "cell_type": "markdown",
   "metadata": {},
   "source": [
    "Define some covenient funtions for calculating divergence and distances."
   ]
  },
  {
   "cell_type": "code",
   "execution_count": 169,
   "metadata": {},
   "outputs": [],
   "source": [
    "def kl_divergence(X, Y):\n",
    "    P = X.copy()\n",
    "    Q = Y.copy()\n",
    "    P.columns = ['P']\n",
    "    Q.columns = ['Q']\n",
    "    df = Q.join(P).fillna(0)\n",
    "    p = df.iloc[:,1]\n",
    "    q = df.iloc[:,0]\n",
    "    D_kl = scipy.stats.entropy(p, q)\n",
    "    return D_kl\n",
    "\n",
    "def chi2_divergence(X,Y):\n",
    "    P = X.copy()\n",
    "    Q = Y.copy()\n",
    "    P.columns = ['P']\n",
    "    Q.columns = ['Q']\n",
    "    df = Q.join(P).fillna(0)\n",
    "    p = df.iloc[:,1]\n",
    "    q = df.iloc[:,0]\n",
    "    return scipy.stats.chisquare(p, q).statistic\n",
    "\n",
    "def Divergence(corpus1, corpus2, difference=\"KL\"):\n",
    "    \"\"\"Difference parameter can equal KL, Chi2, or Wass\"\"\"\n",
    "    freqP = nltk.FreqDist(corpus1)\n",
    "    P = pandas.DataFrame(list(freqP.values()), columns = ['frequency'], index = list(freqP.keys()))\n",
    "    freqQ = nltk.FreqDist(corpus2)\n",
    "    Q = pandas.DataFrame(list(freqQ.values()), columns = ['frequency'], index = list(freqQ.keys()))\n",
    "    if difference == \"KL\":\n",
    "        return kl_divergence(P, Q)\n",
    "    elif difference == \"Chi2\":\n",
    "        return chi2_divergence(P, Q)\n",
    "    elif difference == \"KS\":\n",
    "        try:\n",
    "            return scipy.stats.ks_2samp(P['frequency'], Q['frequency']).statistic\n",
    "        except:\n",
    "            return scipy.stats.ks_2samp(P['frequency'], Q['frequency'])\n",
    "    elif difference == \"Wasserstein\":\n",
    "        try:\n",
    "            return scipy.stats.wasserstein_distance(P['frequency'], Q['frequency'], u_weights=None, v_weights=None).statistic\n",
    "        except:\n",
    "            return scipy.stats.wasserstein_distance(P['frequency'], Q['frequency'], u_weights=None, v_weights=None)"
   ]
  },
  {
   "cell_type": "markdown",
   "metadata": {},
   "source": [
    "Now we will calculate the KL divergence for each pair of corpora, turn the results into a matrix, and visualize the matrix as a heatmap. Recall that $D_{\\mathrm{KL}}(P\\|Q)$ measures the amount of information loss when $Q$ is used to approximate $P$. Here, the rows are the $P$s used for calculating KL divergences, and the columns are the $Q$s. So, each cell measures the amount of information loss when the word distribution of the column text is used to approximate the word distribution of the row text. Because the KL divergence is directional, such that the divergence of $P$ from $Q$ is different from the same of $Q$ from $P$, the matrix is assymetric and contains unique information above and below the diagonal. The same is true for the $\\chi^2$ divergence."
   ]
  },
  {
   "cell_type": "code",
   "execution_count": 170,
   "metadata": {},
   "outputs": [
    {
     "data": {
      "text/plain": [
       "0"
      ]
     },
     "execution_count": 170,
     "metadata": {},
     "output_type": "execute_result"
    }
   ],
   "source": [
    "len(corpora)"
   ]
  },
  {
   "cell_type": "markdown",
   "metadata": {},
   "source": [
    "還是沒有 movie_df這個檔案"
   ]
  },
  {
   "cell_type": "code",
   "execution_count": 171,
   "metadata": {},
   "outputs": [],
   "source": [
    "fileids = list(movie_df['Movie Name'])[0:11]"
   ]
  },
  {
   "cell_type": "code",
   "execution_count": 172,
   "metadata": {},
   "outputs": [
    {
     "ename": "ValueError",
     "evalue": "Empty data passed with indices specified.",
     "output_type": "error",
     "traceback": [
      "\u001b[1;31m---------------------------------------------------------------------------\u001b[0m",
      "\u001b[1;31mValueError\u001b[0m                                Traceback (most recent call last)",
      "\u001b[1;32mH:\\anaconda3\\lib\\site-packages\\pandas\\core\\internals\\managers.py\u001b[0m in \u001b[0;36mcreate_block_manager_from_blocks\u001b[1;34m(blocks, axes)\u001b[0m\n\u001b[0;32m   1674\u001b[0m                 blocks = [\n\u001b[1;32m-> 1675\u001b[1;33m                     make_block(\n\u001b[0m\u001b[0;32m   1676\u001b[0m                         \u001b[0mvalues\u001b[0m\u001b[1;33m=\u001b[0m\u001b[0mblocks\u001b[0m\u001b[1;33m[\u001b[0m\u001b[1;36m0\u001b[0m\u001b[1;33m]\u001b[0m\u001b[1;33m,\u001b[0m \u001b[0mplacement\u001b[0m\u001b[1;33m=\u001b[0m\u001b[0mslice\u001b[0m\u001b[1;33m(\u001b[0m\u001b[1;36m0\u001b[0m\u001b[1;33m,\u001b[0m \u001b[0mlen\u001b[0m\u001b[1;33m(\u001b[0m\u001b[0maxes\u001b[0m\u001b[1;33m[\u001b[0m\u001b[1;36m0\u001b[0m\u001b[1;33m]\u001b[0m\u001b[1;33m)\u001b[0m\u001b[1;33m)\u001b[0m\u001b[1;33m,\u001b[0m \u001b[0mndim\u001b[0m\u001b[1;33m=\u001b[0m\u001b[1;36m2\u001b[0m\u001b[1;33m\u001b[0m\u001b[1;33m\u001b[0m\u001b[0m\n",
      "\u001b[1;32mH:\\anaconda3\\lib\\site-packages\\pandas\\core\\internals\\blocks.py\u001b[0m in \u001b[0;36mmake_block\u001b[1;34m(values, placement, klass, ndim, dtype)\u001b[0m\n\u001b[0;32m   2741\u001b[0m \u001b[1;33m\u001b[0m\u001b[0m\n\u001b[1;32m-> 2742\u001b[1;33m     \u001b[1;32mreturn\u001b[0m \u001b[0mklass\u001b[0m\u001b[1;33m(\u001b[0m\u001b[0mvalues\u001b[0m\u001b[1;33m,\u001b[0m \u001b[0mndim\u001b[0m\u001b[1;33m=\u001b[0m\u001b[0mndim\u001b[0m\u001b[1;33m,\u001b[0m \u001b[0mplacement\u001b[0m\u001b[1;33m=\u001b[0m\u001b[0mplacement\u001b[0m\u001b[1;33m)\u001b[0m\u001b[1;33m\u001b[0m\u001b[1;33m\u001b[0m\u001b[0m\n\u001b[0m\u001b[0;32m   2743\u001b[0m \u001b[1;33m\u001b[0m\u001b[0m\n",
      "\u001b[1;32mH:\\anaconda3\\lib\\site-packages\\pandas\\core\\internals\\blocks.py\u001b[0m in \u001b[0;36m__init__\u001b[1;34m(self, values, placement, ndim)\u001b[0m\n\u001b[0;32m    141\u001b[0m         \u001b[1;32mif\u001b[0m \u001b[0mself\u001b[0m\u001b[1;33m.\u001b[0m\u001b[0m_validate_ndim\u001b[0m \u001b[1;32mand\u001b[0m \u001b[0mself\u001b[0m\u001b[1;33m.\u001b[0m\u001b[0mndim\u001b[0m \u001b[1;32mand\u001b[0m \u001b[0mlen\u001b[0m\u001b[1;33m(\u001b[0m\u001b[0mself\u001b[0m\u001b[1;33m.\u001b[0m\u001b[0mmgr_locs\u001b[0m\u001b[1;33m)\u001b[0m \u001b[1;33m!=\u001b[0m \u001b[0mlen\u001b[0m\u001b[1;33m(\u001b[0m\u001b[0mself\u001b[0m\u001b[1;33m.\u001b[0m\u001b[0mvalues\u001b[0m\u001b[1;33m)\u001b[0m\u001b[1;33m:\u001b[0m\u001b[1;33m\u001b[0m\u001b[1;33m\u001b[0m\u001b[0m\n\u001b[1;32m--> 142\u001b[1;33m             raise ValueError(\n\u001b[0m\u001b[0;32m    143\u001b[0m                 \u001b[1;34mf\"Wrong number of items passed {len(self.values)}, \"\u001b[0m\u001b[1;33m\u001b[0m\u001b[1;33m\u001b[0m\u001b[0m\n",
      "\u001b[1;31mValueError\u001b[0m: Wrong number of items passed 1, placement implies 0",
      "\nDuring handling of the above exception, another exception occurred:\n",
      "\u001b[1;31mValueError\u001b[0m                                Traceback (most recent call last)",
      "\u001b[1;32m<ipython-input-172-ad06e1b7d662>\u001b[0m in \u001b[0;36m<module>\u001b[1;34m\u001b[0m\n\u001b[0;32m      7\u001b[0m \u001b[0mM\u001b[0m \u001b[1;33m=\u001b[0m \u001b[0mnp\u001b[0m\u001b[1;33m.\u001b[0m\u001b[0marray\u001b[0m\u001b[1;33m(\u001b[0m\u001b[0mL\u001b[0m\u001b[1;33m)\u001b[0m\u001b[1;33m\u001b[0m\u001b[1;33m\u001b[0m\u001b[0m\n\u001b[0;32m      8\u001b[0m \u001b[0mfig\u001b[0m \u001b[1;33m=\u001b[0m \u001b[0mplt\u001b[0m\u001b[1;33m.\u001b[0m\u001b[0mfigure\u001b[0m\u001b[1;33m(\u001b[0m\u001b[1;33m)\u001b[0m\u001b[1;33m\u001b[0m\u001b[1;33m\u001b[0m\u001b[0m\n\u001b[1;32m----> 9\u001b[1;33m \u001b[0mdiv\u001b[0m \u001b[1;33m=\u001b[0m \u001b[0mpandas\u001b[0m\u001b[1;33m.\u001b[0m\u001b[0mDataFrame\u001b[0m\u001b[1;33m(\u001b[0m\u001b[0mM\u001b[0m\u001b[1;33m,\u001b[0m \u001b[0mcolumns\u001b[0m \u001b[1;33m=\u001b[0m \u001b[0mfileids\u001b[0m\u001b[1;33m,\u001b[0m \u001b[0mindex\u001b[0m \u001b[1;33m=\u001b[0m \u001b[0mfileids\u001b[0m\u001b[1;33m)\u001b[0m\u001b[1;33m\u001b[0m\u001b[1;33m\u001b[0m\u001b[0m\n\u001b[0m\u001b[0;32m     10\u001b[0m \u001b[0max\u001b[0m \u001b[1;33m=\u001b[0m \u001b[0msns\u001b[0m\u001b[1;33m.\u001b[0m\u001b[0mheatmap\u001b[0m\u001b[1;33m(\u001b[0m\u001b[0mdiv\u001b[0m\u001b[1;33m)\u001b[0m\u001b[1;33m\u001b[0m\u001b[1;33m\u001b[0m\u001b[0m\n\u001b[0;32m     11\u001b[0m \u001b[0mplt\u001b[0m\u001b[1;33m.\u001b[0m\u001b[0mshow\u001b[0m\u001b[1;33m(\u001b[0m\u001b[1;33m)\u001b[0m\u001b[1;33m\u001b[0m\u001b[1;33m\u001b[0m\u001b[0m\n",
      "\u001b[1;32mH:\\anaconda3\\lib\\site-packages\\pandas\\core\\frame.py\u001b[0m in \u001b[0;36m__init__\u001b[1;34m(self, data, index, columns, dtype, copy)\u001b[0m\n\u001b[0;32m    556\u001b[0m                 \u001b[0mmgr\u001b[0m \u001b[1;33m=\u001b[0m \u001b[0minit_dict\u001b[0m\u001b[1;33m(\u001b[0m\u001b[1;33m{\u001b[0m\u001b[0mdata\u001b[0m\u001b[1;33m.\u001b[0m\u001b[0mname\u001b[0m\u001b[1;33m:\u001b[0m \u001b[0mdata\u001b[0m\u001b[1;33m}\u001b[0m\u001b[1;33m,\u001b[0m \u001b[0mindex\u001b[0m\u001b[1;33m,\u001b[0m \u001b[0mcolumns\u001b[0m\u001b[1;33m,\u001b[0m \u001b[0mdtype\u001b[0m\u001b[1;33m=\u001b[0m\u001b[0mdtype\u001b[0m\u001b[1;33m)\u001b[0m\u001b[1;33m\u001b[0m\u001b[1;33m\u001b[0m\u001b[0m\n\u001b[0;32m    557\u001b[0m             \u001b[1;32melse\u001b[0m\u001b[1;33m:\u001b[0m\u001b[1;33m\u001b[0m\u001b[1;33m\u001b[0m\u001b[0m\n\u001b[1;32m--> 558\u001b[1;33m                 \u001b[0mmgr\u001b[0m \u001b[1;33m=\u001b[0m \u001b[0minit_ndarray\u001b[0m\u001b[1;33m(\u001b[0m\u001b[0mdata\u001b[0m\u001b[1;33m,\u001b[0m \u001b[0mindex\u001b[0m\u001b[1;33m,\u001b[0m \u001b[0mcolumns\u001b[0m\u001b[1;33m,\u001b[0m \u001b[0mdtype\u001b[0m\u001b[1;33m=\u001b[0m\u001b[0mdtype\u001b[0m\u001b[1;33m,\u001b[0m \u001b[0mcopy\u001b[0m\u001b[1;33m=\u001b[0m\u001b[0mcopy\u001b[0m\u001b[1;33m)\u001b[0m\u001b[1;33m\u001b[0m\u001b[1;33m\u001b[0m\u001b[0m\n\u001b[0m\u001b[0;32m    559\u001b[0m \u001b[1;33m\u001b[0m\u001b[0m\n\u001b[0;32m    560\u001b[0m         \u001b[1;31m# For data is list-like, or Iterable (will consume into list)\u001b[0m\u001b[1;33m\u001b[0m\u001b[1;33m\u001b[0m\u001b[1;33m\u001b[0m\u001b[0m\n",
      "\u001b[1;32mH:\\anaconda3\\lib\\site-packages\\pandas\\core\\internals\\construction.py\u001b[0m in \u001b[0;36minit_ndarray\u001b[1;34m(values, index, columns, dtype, copy)\u001b[0m\n\u001b[0;32m    236\u001b[0m         \u001b[0mblock_values\u001b[0m \u001b[1;33m=\u001b[0m \u001b[1;33m[\u001b[0m\u001b[0mvalues\u001b[0m\u001b[1;33m]\u001b[0m\u001b[1;33m\u001b[0m\u001b[1;33m\u001b[0m\u001b[0m\n\u001b[0;32m    237\u001b[0m \u001b[1;33m\u001b[0m\u001b[0m\n\u001b[1;32m--> 238\u001b[1;33m     \u001b[1;32mreturn\u001b[0m \u001b[0mcreate_block_manager_from_blocks\u001b[0m\u001b[1;33m(\u001b[0m\u001b[0mblock_values\u001b[0m\u001b[1;33m,\u001b[0m \u001b[1;33m[\u001b[0m\u001b[0mcolumns\u001b[0m\u001b[1;33m,\u001b[0m \u001b[0mindex\u001b[0m\u001b[1;33m]\u001b[0m\u001b[1;33m)\u001b[0m\u001b[1;33m\u001b[0m\u001b[1;33m\u001b[0m\u001b[0m\n\u001b[0m\u001b[0;32m    239\u001b[0m \u001b[1;33m\u001b[0m\u001b[0m\n\u001b[0;32m    240\u001b[0m \u001b[1;33m\u001b[0m\u001b[0m\n",
      "\u001b[1;32mH:\\anaconda3\\lib\\site-packages\\pandas\\core\\internals\\managers.py\u001b[0m in \u001b[0;36mcreate_block_manager_from_blocks\u001b[1;34m(blocks, axes)\u001b[0m\n\u001b[0;32m   1685\u001b[0m         \u001b[0mblocks\u001b[0m \u001b[1;33m=\u001b[0m \u001b[1;33m[\u001b[0m\u001b[0mgetattr\u001b[0m\u001b[1;33m(\u001b[0m\u001b[0mb\u001b[0m\u001b[1;33m,\u001b[0m \u001b[1;34m\"values\"\u001b[0m\u001b[1;33m,\u001b[0m \u001b[0mb\u001b[0m\u001b[1;33m)\u001b[0m \u001b[1;32mfor\u001b[0m \u001b[0mb\u001b[0m \u001b[1;32min\u001b[0m \u001b[0mblocks\u001b[0m\u001b[1;33m]\u001b[0m\u001b[1;33m\u001b[0m\u001b[1;33m\u001b[0m\u001b[0m\n\u001b[0;32m   1686\u001b[0m         \u001b[0mtot_items\u001b[0m \u001b[1;33m=\u001b[0m \u001b[0msum\u001b[0m\u001b[1;33m(\u001b[0m\u001b[0mb\u001b[0m\u001b[1;33m.\u001b[0m\u001b[0mshape\u001b[0m\u001b[1;33m[\u001b[0m\u001b[1;36m0\u001b[0m\u001b[1;33m]\u001b[0m \u001b[1;32mfor\u001b[0m \u001b[0mb\u001b[0m \u001b[1;32min\u001b[0m \u001b[0mblocks\u001b[0m\u001b[1;33m)\u001b[0m\u001b[1;33m\u001b[0m\u001b[1;33m\u001b[0m\u001b[0m\n\u001b[1;32m-> 1687\u001b[1;33m         \u001b[1;32mraise\u001b[0m \u001b[0mconstruction_error\u001b[0m\u001b[1;33m(\u001b[0m\u001b[0mtot_items\u001b[0m\u001b[1;33m,\u001b[0m \u001b[0mblocks\u001b[0m\u001b[1;33m[\u001b[0m\u001b[1;36m0\u001b[0m\u001b[1;33m]\u001b[0m\u001b[1;33m.\u001b[0m\u001b[0mshape\u001b[0m\u001b[1;33m[\u001b[0m\u001b[1;36m1\u001b[0m\u001b[1;33m:\u001b[0m\u001b[1;33m]\u001b[0m\u001b[1;33m,\u001b[0m \u001b[0maxes\u001b[0m\u001b[1;33m,\u001b[0m \u001b[0me\u001b[0m\u001b[1;33m)\u001b[0m\u001b[1;33m\u001b[0m\u001b[1;33m\u001b[0m\u001b[0m\n\u001b[0m\u001b[0;32m   1688\u001b[0m \u001b[1;33m\u001b[0m\u001b[0m\n\u001b[0;32m   1689\u001b[0m \u001b[1;33m\u001b[0m\u001b[0m\n",
      "\u001b[1;31mValueError\u001b[0m: Empty data passed with indices specified."
     ]
    },
    {
     "data": {
      "text/plain": [
       "<Figure size 432x288 with 0 Axes>"
      ]
     },
     "metadata": {},
     "output_type": "display_data"
    }
   ],
   "source": [
    "L = []\n",
    "for p in corpora:\n",
    "    l = []\n",
    "    for q in corpora:\n",
    "        l.append(Divergence(p,q, difference = 'KL'))\n",
    "    L.append(l)\n",
    "M = np.array(L)\n",
    "fig = plt.figure()\n",
    "div = pandas.DataFrame(M, columns = fileids, index = fileids)\n",
    "ax = sns.heatmap(div)\n",
    "plt.show()"
   ]
  },
  {
   "cell_type": "markdown",
   "metadata": {},
   "source": [
    "\n",
    "To reveal more patterns, let's do a multidimensional scaling of the matrix."
   ]
  },
  {
   "cell_type": "code",
   "execution_count": 116,
   "metadata": {},
   "outputs": [
    {
     "ename": "ValueError",
     "evalue": "Expected 2D array, got 1D array instead:\narray=[].\nReshape your data either using array.reshape(-1, 1) if your data has a single feature or array.reshape(1, -1) if it contains a single sample.",
     "output_type": "error",
     "traceback": [
      "\u001b[1;31m---------------------------------------------------------------------------\u001b[0m",
      "\u001b[1;31mValueError\u001b[0m                                Traceback (most recent call last)",
      "\u001b[1;32m<ipython-input-116-3ad2b04e993f>\u001b[0m in \u001b[0;36m<module>\u001b[1;34m\u001b[0m\n\u001b[0;32m      1\u001b[0m \u001b[0mmds\u001b[0m \u001b[1;33m=\u001b[0m \u001b[0msklearn\u001b[0m\u001b[1;33m.\u001b[0m\u001b[0mmanifold\u001b[0m\u001b[1;33m.\u001b[0m\u001b[0mMDS\u001b[0m\u001b[1;33m(\u001b[0m\u001b[1;33m)\u001b[0m\u001b[1;33m\u001b[0m\u001b[1;33m\u001b[0m\u001b[0m\n\u001b[1;32m----> 2\u001b[1;33m \u001b[0mpos\u001b[0m \u001b[1;33m=\u001b[0m \u001b[0mmds\u001b[0m\u001b[1;33m.\u001b[0m\u001b[0mfit\u001b[0m\u001b[1;33m(\u001b[0m\u001b[0mM\u001b[0m\u001b[1;33m)\u001b[0m\u001b[1;33m.\u001b[0m\u001b[0membedding_\u001b[0m\u001b[1;33m\u001b[0m\u001b[1;33m\u001b[0m\u001b[0m\n\u001b[0m\u001b[0;32m      3\u001b[0m \u001b[0mx\u001b[0m \u001b[1;33m=\u001b[0m \u001b[0mpos\u001b[0m\u001b[1;33m[\u001b[0m\u001b[1;33m:\u001b[0m\u001b[1;33m,\u001b[0m\u001b[1;36m0\u001b[0m\u001b[1;33m]\u001b[0m\u001b[1;33m\u001b[0m\u001b[1;33m\u001b[0m\u001b[0m\n\u001b[0;32m      4\u001b[0m \u001b[0my\u001b[0m \u001b[1;33m=\u001b[0m \u001b[0mpos\u001b[0m\u001b[1;33m[\u001b[0m\u001b[1;33m:\u001b[0m\u001b[1;33m,\u001b[0m\u001b[1;36m1\u001b[0m\u001b[1;33m]\u001b[0m\u001b[1;33m\u001b[0m\u001b[1;33m\u001b[0m\u001b[0m\n\u001b[0;32m      5\u001b[0m \u001b[0mfig\u001b[0m\u001b[1;33m,\u001b[0m \u001b[0max\u001b[0m \u001b[1;33m=\u001b[0m \u001b[0mplt\u001b[0m\u001b[1;33m.\u001b[0m\u001b[0msubplots\u001b[0m\u001b[1;33m(\u001b[0m\u001b[0mfigsize\u001b[0m \u001b[1;33m=\u001b[0m \u001b[1;33m(\u001b[0m\u001b[1;36m6\u001b[0m\u001b[1;33m,\u001b[0m\u001b[1;36m6\u001b[0m\u001b[1;33m)\u001b[0m\u001b[1;33m)\u001b[0m\u001b[1;33m\u001b[0m\u001b[1;33m\u001b[0m\u001b[0m\n",
      "\u001b[1;32mH:\\anaconda3\\lib\\site-packages\\sklearn\\manifold\\_mds.py\u001b[0m in \u001b[0;36mfit\u001b[1;34m(self, X, y, init)\u001b[0m\n\u001b[0;32m    416\u001b[0m             \u001b[0mchosen\u001b[0m \u001b[0marray\u001b[0m\u001b[1;33m.\u001b[0m\u001b[1;33m\u001b[0m\u001b[1;33m\u001b[0m\u001b[0m\n\u001b[0;32m    417\u001b[0m         \"\"\"\n\u001b[1;32m--> 418\u001b[1;33m         \u001b[0mself\u001b[0m\u001b[1;33m.\u001b[0m\u001b[0mfit_transform\u001b[0m\u001b[1;33m(\u001b[0m\u001b[0mX\u001b[0m\u001b[1;33m,\u001b[0m \u001b[0minit\u001b[0m\u001b[1;33m=\u001b[0m\u001b[0minit\u001b[0m\u001b[1;33m)\u001b[0m\u001b[1;33m\u001b[0m\u001b[1;33m\u001b[0m\u001b[0m\n\u001b[0m\u001b[0;32m    419\u001b[0m         \u001b[1;32mreturn\u001b[0m \u001b[0mself\u001b[0m\u001b[1;33m\u001b[0m\u001b[1;33m\u001b[0m\u001b[0m\n\u001b[0;32m    420\u001b[0m \u001b[1;33m\u001b[0m\u001b[0m\n",
      "\u001b[1;32mH:\\anaconda3\\lib\\site-packages\\sklearn\\manifold\\_mds.py\u001b[0m in \u001b[0;36mfit_transform\u001b[1;34m(self, X, y, init)\u001b[0m\n\u001b[0;32m    437\u001b[0m             \u001b[0mchosen\u001b[0m \u001b[0marray\u001b[0m\u001b[1;33m.\u001b[0m\u001b[1;33m\u001b[0m\u001b[1;33m\u001b[0m\u001b[0m\n\u001b[0;32m    438\u001b[0m         \"\"\"\n\u001b[1;32m--> 439\u001b[1;33m         \u001b[0mX\u001b[0m \u001b[1;33m=\u001b[0m \u001b[0mself\u001b[0m\u001b[1;33m.\u001b[0m\u001b[0m_validate_data\u001b[0m\u001b[1;33m(\u001b[0m\u001b[0mX\u001b[0m\u001b[1;33m)\u001b[0m\u001b[1;33m\u001b[0m\u001b[1;33m\u001b[0m\u001b[0m\n\u001b[0m\u001b[0;32m    440\u001b[0m         \u001b[1;32mif\u001b[0m \u001b[0mX\u001b[0m\u001b[1;33m.\u001b[0m\u001b[0mshape\u001b[0m\u001b[1;33m[\u001b[0m\u001b[1;36m0\u001b[0m\u001b[1;33m]\u001b[0m \u001b[1;33m==\u001b[0m \u001b[0mX\u001b[0m\u001b[1;33m.\u001b[0m\u001b[0mshape\u001b[0m\u001b[1;33m[\u001b[0m\u001b[1;36m1\u001b[0m\u001b[1;33m]\u001b[0m \u001b[1;32mand\u001b[0m \u001b[0mself\u001b[0m\u001b[1;33m.\u001b[0m\u001b[0mdissimilarity\u001b[0m \u001b[1;33m!=\u001b[0m \u001b[1;34m\"precomputed\"\u001b[0m\u001b[1;33m:\u001b[0m\u001b[1;33m\u001b[0m\u001b[1;33m\u001b[0m\u001b[0m\n\u001b[0;32m    441\u001b[0m             warnings.warn(\"The MDS API has changed. ``fit`` now constructs an\"\n",
      "\u001b[1;32mH:\\anaconda3\\lib\\site-packages\\sklearn\\base.py\u001b[0m in \u001b[0;36m_validate_data\u001b[1;34m(self, X, y, reset, validate_separately, **check_params)\u001b[0m\n\u001b[0;32m    419\u001b[0m             \u001b[0mout\u001b[0m \u001b[1;33m=\u001b[0m \u001b[0mX\u001b[0m\u001b[1;33m\u001b[0m\u001b[1;33m\u001b[0m\u001b[0m\n\u001b[0;32m    420\u001b[0m         \u001b[1;32melif\u001b[0m \u001b[0misinstance\u001b[0m\u001b[1;33m(\u001b[0m\u001b[0my\u001b[0m\u001b[1;33m,\u001b[0m \u001b[0mstr\u001b[0m\u001b[1;33m)\u001b[0m \u001b[1;32mand\u001b[0m \u001b[0my\u001b[0m \u001b[1;33m==\u001b[0m \u001b[1;34m'no_validation'\u001b[0m\u001b[1;33m:\u001b[0m\u001b[1;33m\u001b[0m\u001b[1;33m\u001b[0m\u001b[0m\n\u001b[1;32m--> 421\u001b[1;33m             \u001b[0mX\u001b[0m \u001b[1;33m=\u001b[0m \u001b[0mcheck_array\u001b[0m\u001b[1;33m(\u001b[0m\u001b[0mX\u001b[0m\u001b[1;33m,\u001b[0m \u001b[1;33m**\u001b[0m\u001b[0mcheck_params\u001b[0m\u001b[1;33m)\u001b[0m\u001b[1;33m\u001b[0m\u001b[1;33m\u001b[0m\u001b[0m\n\u001b[0m\u001b[0;32m    422\u001b[0m             \u001b[0mout\u001b[0m \u001b[1;33m=\u001b[0m \u001b[0mX\u001b[0m\u001b[1;33m\u001b[0m\u001b[1;33m\u001b[0m\u001b[0m\n\u001b[0;32m    423\u001b[0m         \u001b[1;32melse\u001b[0m\u001b[1;33m:\u001b[0m\u001b[1;33m\u001b[0m\u001b[1;33m\u001b[0m\u001b[0m\n",
      "\u001b[1;32mH:\\anaconda3\\lib\\site-packages\\sklearn\\utils\\validation.py\u001b[0m in \u001b[0;36minner_f\u001b[1;34m(*args, **kwargs)\u001b[0m\n\u001b[0;32m     61\u001b[0m             \u001b[0mextra_args\u001b[0m \u001b[1;33m=\u001b[0m \u001b[0mlen\u001b[0m\u001b[1;33m(\u001b[0m\u001b[0margs\u001b[0m\u001b[1;33m)\u001b[0m \u001b[1;33m-\u001b[0m \u001b[0mlen\u001b[0m\u001b[1;33m(\u001b[0m\u001b[0mall_args\u001b[0m\u001b[1;33m)\u001b[0m\u001b[1;33m\u001b[0m\u001b[1;33m\u001b[0m\u001b[0m\n\u001b[0;32m     62\u001b[0m             \u001b[1;32mif\u001b[0m \u001b[0mextra_args\u001b[0m \u001b[1;33m<=\u001b[0m \u001b[1;36m0\u001b[0m\u001b[1;33m:\u001b[0m\u001b[1;33m\u001b[0m\u001b[1;33m\u001b[0m\u001b[0m\n\u001b[1;32m---> 63\u001b[1;33m                 \u001b[1;32mreturn\u001b[0m \u001b[0mf\u001b[0m\u001b[1;33m(\u001b[0m\u001b[1;33m*\u001b[0m\u001b[0margs\u001b[0m\u001b[1;33m,\u001b[0m \u001b[1;33m**\u001b[0m\u001b[0mkwargs\u001b[0m\u001b[1;33m)\u001b[0m\u001b[1;33m\u001b[0m\u001b[1;33m\u001b[0m\u001b[0m\n\u001b[0m\u001b[0;32m     64\u001b[0m \u001b[1;33m\u001b[0m\u001b[0m\n\u001b[0;32m     65\u001b[0m             \u001b[1;31m# extra_args > 0\u001b[0m\u001b[1;33m\u001b[0m\u001b[1;33m\u001b[0m\u001b[1;33m\u001b[0m\u001b[0m\n",
      "\u001b[1;32mH:\\anaconda3\\lib\\site-packages\\sklearn\\utils\\validation.py\u001b[0m in \u001b[0;36mcheck_array\u001b[1;34m(array, accept_sparse, accept_large_sparse, dtype, order, copy, force_all_finite, ensure_2d, allow_nd, ensure_min_samples, ensure_min_features, estimator)\u001b[0m\n\u001b[0;32m    635\u001b[0m             \u001b[1;31m# If input is 1D raise error\u001b[0m\u001b[1;33m\u001b[0m\u001b[1;33m\u001b[0m\u001b[1;33m\u001b[0m\u001b[0m\n\u001b[0;32m    636\u001b[0m             \u001b[1;32mif\u001b[0m \u001b[0marray\u001b[0m\u001b[1;33m.\u001b[0m\u001b[0mndim\u001b[0m \u001b[1;33m==\u001b[0m \u001b[1;36m1\u001b[0m\u001b[1;33m:\u001b[0m\u001b[1;33m\u001b[0m\u001b[1;33m\u001b[0m\u001b[0m\n\u001b[1;32m--> 637\u001b[1;33m                 raise ValueError(\n\u001b[0m\u001b[0;32m    638\u001b[0m                     \u001b[1;34m\"Expected 2D array, got 1D array instead:\\narray={}.\\n\"\u001b[0m\u001b[1;33m\u001b[0m\u001b[1;33m\u001b[0m\u001b[0m\n\u001b[0;32m    639\u001b[0m                     \u001b[1;34m\"Reshape your data either using array.reshape(-1, 1) if \"\u001b[0m\u001b[1;33m\u001b[0m\u001b[1;33m\u001b[0m\u001b[0m\n",
      "\u001b[1;31mValueError\u001b[0m: Expected 2D array, got 1D array instead:\narray=[].\nReshape your data either using array.reshape(-1, 1) if your data has a single feature or array.reshape(1, -1) if it contains a single sample."
     ]
    }
   ],
   "source": [
    "mds = sklearn.manifold.MDS()\n",
    "pos = mds.fit(M).embedding_\n",
    "x = pos[:,0]\n",
    "y = pos[:,1]\n",
    "fig, ax = plt.subplots(figsize = (6,6))\n",
    "plt.plot(x, y, ' ')\n",
    "for i, txt in enumerate(fileids):\n",
    "    ax.annotate(txt, (x[i],y[i]))"
   ]
  },
  {
   "cell_type": "markdown",
   "metadata": {},
   "source": [
    "A co-respondent's course and The Chain Gang are away from the others - any guesses why?\n",
    "\n",
    "We may just want to focus on the distrbution of stopwords or non-stopwords. Let's do the analysis again first for stopwords and then for non-stopwords."
   ]
  },
  {
   "cell_type": "code",
   "execution_count": null,
   "metadata": {
    "collapsed": true
   },
   "outputs": [],
   "source": [
    "L = []\n",
    "for p in corpora_s:\n",
    "    l = []\n",
    "    for q in corpora_s:\n",
    "        l.append(Divergence(p,q, difference='KL'))\n",
    "    L.append(l)\n",
    "M = np.array(L)\n",
    "fig = plt.figure()\n",
    "div = pandas.DataFrame(M, columns = fileids, index = fileids)\n",
    "ax = sns.heatmap(div)\n",
    "plt.show()"
   ]
  },
  {
   "cell_type": "code",
   "execution_count": null,
   "metadata": {
    "collapsed": true
   },
   "outputs": [],
   "source": [
    "L = []\n",
    "for p in corpora_nons:\n",
    "    l = []\n",
    "    for q in corpora_nons:\n",
    "        l.append(Divergence(p,q, difference='KL'))\n",
    "    L.append(l)\n",
    "M = np.array(L)\n",
    "fig = plt.figure()\n",
    "div = pandas.DataFrame(M, columns = fileids, index = fileids)\n",
    "ax = sns.heatmap(div)\n",
    "plt.show()"
   ]
  },
  {
   "cell_type": "markdown",
   "metadata": {},
   "source": [
    "Now we compute the same for the assymmetric $\\chi^2$ Divergence."
   ]
  },
  {
   "cell_type": "code",
   "execution_count": null,
   "metadata": {
    "collapsed": true
   },
   "outputs": [],
   "source": [
    "L = []\n",
    "for p in corpora_nons:\n",
    "    l = []\n",
    "    for q in corpora_nons:\n",
    "        l.append(Divergence(p,q, difference='Chi2'))\n",
    "    L.append(l)\n",
    "M = np.array(L)\n",
    "fig = plt.figure()\n",
    "div = pandas.DataFrame(M, columns = fileids, index = fileids)\n",
    "ax = sns.heatmap(div)\n",
    "plt.show()"
   ]
  },
  {
   "cell_type": "markdown",
   "metadata": {
    "scrolled": true
   },
   "source": [
    "For the KS distance:"
   ]
  },
  {
   "cell_type": "code",
   "execution_count": null,
   "metadata": {
    "collapsed": true
   },
   "outputs": [],
   "source": [
    "L = []\n",
    "for p in corpora_nons:\n",
    "    l = []\n",
    "    for q in corpora_nons:\n",
    "        l.append(Divergence(p,q, difference='KS'))\n",
    "    L.append(l)\n",
    "M = np.array(L)\n",
    "fig = plt.figure()\n",
    "div = pandas.DataFrame(M, columns = fileids, index = fileids)\n",
    "ax = sns.heatmap(div)\n",
    "plt.show()"
   ]
  },
  {
   "cell_type": "markdown",
   "metadata": {},
   "source": [
    "And finally for the Wasserstein or \"earth mover's\" Distance."
   ]
  },
  {
   "cell_type": "code",
   "execution_count": null,
   "metadata": {
    "collapsed": true
   },
   "outputs": [],
   "source": [
    "L = []\n",
    "for p in corpora_nons:\n",
    "    l = []\n",
    "    for q in corpora_nons:\n",
    "        l.append(Divergence(p,q, difference='Wasserstein'))\n",
    "    L.append(l)\n",
    "M = np.array(L)\n",
    "fig = plt.figure()\n",
    "div = pandas.DataFrame(M, columns = fileids, index = fileids)\n",
    "ax = sns.heatmap(div)\n",
    "plt.show()"
   ]
  },
  {
   "cell_type": "markdown",
   "metadata": {},
   "source": [
    "You can see that decade X is highly divergent and this makes reading the plot somewhat difficult. Let's fix this by taking the log of each cell, which will reduce the distance of decode X from other texts as an outlier."
   ]
  },
  {
   "cell_type": "code",
   "execution_count": null,
   "metadata": {
    "collapsed": true
   },
   "outputs": [],
   "source": [
    "ax = sns.heatmap(div.apply(np.log).replace([np.inf, -np.inf], np.nan))\n",
    "plt.show()"
   ]
  },
  {
   "cell_type": "markdown",
   "metadata": {},
   "source": [
    "We only tried 11 movies, and from the same time period, so our signals might not be too interesting. What about different time periods?\n",
    "\n",
    "An interesting experiment to maybe get some clearer signals: documents by decade in the Davies Corpus Of Historial American English (COHA) and see if we can detect patterns between them. \n",
    "\n",
    "If we want to rerun this on a new data set of our own composition, we can be a bit more efficient with our coding. Let's use the Shakespeare texts from last week as example: "
   ]
  },
  {
   "cell_type": "code",
   "execution_count": null,
   "metadata": {
    "collapsed": true
   },
   "outputs": [],
   "source": [
    "shakespeare_df = lucem_illud_2020.loadTextDirectory('../data/Shakespeare')"
   ]
  },
  {
   "cell_type": "markdown",
   "metadata": {},
   "source": [
    "Now we stem and remove stopwords"
   ]
  },
  {
   "cell_type": "code",
   "execution_count": null,
   "metadata": {
    "collapsed": true
   },
   "outputs": [],
   "source": [
    "shakespeare_df['tokenized_text'] = shakespeare_df['text'].apply(lambda x: word_tokenize(x))\n",
    "shakespeare_df['normalized_tokens'] = shakespeare_df['tokenized_text'].apply(lambda x: normalizeTokens(x))"
   ]
  },
  {
   "cell_type": "markdown",
   "metadata": {},
   "source": [
    "Create the corpus file and generate the heatmap:"
   ]
  },
  {
   "cell_type": "code",
   "execution_count": null,
   "metadata": {
    "collapsed": true
   },
   "outputs": [],
   "source": [
    "measure = 'KS' #\"KL\", \"Chi2\", \"KS\", \"Wasserstein\"\n",
    "num_of_texts = 10 #The bigger this number the slower it will run, you can also try selecting your own plays\n",
    "fileids_sp = list(shakespeare_df[:num_of_texts].index)\n",
    "corpora_sp = list(shakespeare_df[:num_of_texts]['normalized_tokens'])\n",
    "L = []\n",
    "for p in corpora_sp:\n",
    "    l = []\n",
    "    for q in corpora_sp:\n",
    "        l.append(Divergence(p,q, difference=measure))\n",
    "    L.append(l)\n",
    "M = np.array(L)\n",
    "fig = plt.figure()\n",
    "div = pandas.DataFrame(M, columns = fileids_sp, index = fileids_sp)\n",
    "ax = sns.heatmap(div)\n",
    "plt.show()"
   ]
  },
  {
   "cell_type": "markdown",
   "metadata": {},
   "source": [
    "What are \"The Passionate Pilgrim\" and \"The Phoenix and the Turtle\"? Little known poems by Shakespeare that are unsurprisingly hard to classify, as they are so different from everything else he wrote."
   ]
  },
  {
   "cell_type": "markdown",
   "metadata": {},
   "source": [
    "## <span style=\"color:red\">*Exercise 8*</span>\n",
    "\n",
    "<span style=\"color:red\">Construct cells immediately below this that calculate the KL and $\\chi^2$ divergences, and the KS and Wasserstein distances between four separate corpora, plot these with heatmaps, and then array them in two dimensions with multidimensional scaling as above. What does this reveal about relations between the corpora? Which analysis (and divergence or distribution) distinguishes the authors or documents better? \n",
    "\n",
    "<span style=\"color:red\">**Stretch**: Calculate the <a \"href=https://en.wikipedia.org/wiki/Jensen–Shannon_divergence\" target=\"_blank\">Jensen-Shannon Divergence</a> between your four corpora. What is the relationship between the KL and JS divergences?</span> "
   ]
  },
  {
   "cell_type": "code",
   "execution_count": null,
   "metadata": {
    "collapsed": true
   },
   "outputs": [],
   "source": []
  }
 ],
 "metadata": {
  "anaconda-cloud": {},
  "kernelspec": {
   "display_name": "Python 3",
   "language": "python",
   "name": "python3"
  },
  "language_info": {
   "codemirror_mode": {
    "name": "ipython",
    "version": 3
   },
   "file_extension": ".py",
   "mimetype": "text/x-python",
   "name": "python",
   "nbconvert_exporter": "python",
   "pygments_lexer": "ipython3",
   "version": "3.8.8"
  }
 },
 "nbformat": 4,
 "nbformat_minor": 1
}
