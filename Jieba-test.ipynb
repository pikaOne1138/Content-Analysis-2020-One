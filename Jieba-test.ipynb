{
 "cells": [
  {
   "cell_type": "markdown",
   "id": "fe6e6911",
   "metadata": {},
   "source": [
    "[Python - 知名 Jieba 中文斷詞工具教學](https://blog.kennycoder.io/2020/02/12/Python-%E7%9F%A5%E5%90%8DJieba%E4%B8%AD%E6%96%87%E6%96%B7%E8%A9%9E%E5%B7%A5%E5%85%B7%E6%95%99%E5%AD%B8/)  \n",
    "[[Python] 基於 jieba 的中文分詞總結](https://iter01.com/586897.html)、[[Python] 基於 jieba 的中文分詞總結](https://www.cnblogs.com/feily/p/14415259.html)  \n",
    "[[NLP][Python] 中文斷詞最方便的開源工具之一： Jieba](https://clay-atlas.com/blog/2019/09/23/python-chinese-tutorial-tokenizer-jieba/)  \n",
    "[Python自然語言處理(二)：使用jieba進行中文斷詞](https://yanwei-liu.medium.com/faf7828141a4)\n",
    "[中文斷詞](https://blog.maxkit.com.tw/2020/08/blog-post.html)\n"
   ]
  },
  {
   "cell_type": "markdown",
   "id": "eaed8a76",
   "metadata": {},
   "source": [
    "安裝記錄\n",
    "安裝jieba「conda install -c conda-forge jieba」  \n",
    "繼續安裝paddle「pip install paddlepaddle」"
   ]
  },
  {
   "cell_type": "code",
   "execution_count": 3,
   "id": "b3c91faa",
   "metadata": {},
   "outputs": [],
   "source": [
    "import jieba\n",
    "import paddle"
   ]
  },
  {
   "cell_type": "code",
   "execution_count": 4,
   "id": "12a9032f",
   "metadata": {},
   "outputs": [
    {
     "name": "stderr",
     "output_type": "stream",
     "text": [
      "Paddle enabled successfully......\n"
     ]
    },
    {
     "name": "stdout",
     "output_type": "stream",
     "text": [
      "我/来自/北京/清华大学\n",
      "我/喜欢/写/程式\n",
      "每天/发/技术/文章\n",
      "---------------\n",
      "我/来自/北京/清华/清华大学/华大/大学\n",
      "我/喜欢/写/程式\n",
      "每天/发/技术/文章\n",
      "---------------\n",
      "我/来自/北京/清华/华大/大学/清华大学\n",
      "我/喜欢/写/程式\n",
      "每天/发/技术/文章\n"
     ]
    }
   ],
   "source": [
    "paddle.enable_static() #新增這一行就可以\n",
    "jieba.enable_paddle()\n",
    "\n",
    "documents = ['我来自北京清华大学', '我喜欢写程式', '每天发技术文章']\n",
    "# 精確模式\n",
    "for sentence in documents:\n",
    "    seg_list = jieba.cut(sentence)\n",
    "    print('/'.join(seg_list))\n",
    "\n",
    "print('---------------')\n",
    "\n",
    "# 全模式\n",
    "for sentence in documents:\n",
    "    seg_list = jieba.cut(sentence, cut_all=True)\n",
    "    print('/'.join(seg_list))\n",
    "\n",
    "print('---------------')\n",
    "\n",
    "# 搜索引擎模式\n",
    "for sentence in documents:\n",
    "    seg_list = jieba.cut_for_search(sentence)\n",
    "    print('/'.join(seg_list))"
   ]
  },
  {
   "cell_type": "code",
   "execution_count": null,
   "id": "4e76a99b",
   "metadata": {},
   "outputs": [],
   "source": []
  }
 ],
 "metadata": {
  "kernelspec": {
   "display_name": "Python 3",
   "language": "python",
   "name": "python3"
  },
  "language_info": {
   "codemirror_mode": {
    "name": "ipython",
    "version": 3
   },
   "file_extension": ".py",
   "mimetype": "text/x-python",
   "name": "python",
   "nbconvert_exporter": "python",
   "pygments_lexer": "ipython3",
   "version": "3.8.8"
  }
 },
 "nbformat": 4,
 "nbformat_minor": 5
}
