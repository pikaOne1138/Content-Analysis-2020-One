{
 "cells": [
  {
   "cell_type": "markdown",
   "metadata": {},
   "source": [
    "# Week 2 - Sampling & Reliability 抽樣和可靠性\n",
    "\n",
    "Up until this week, we have assumed that the corpus you have used for analysis assignments represented a *meaningful* assemblage of texts from which reasonable inferences could be drawn about the social game, social world and social actors that produced it. \n",
    "\n",
    "This week, we ask you to build a corpus for preliminary analysis and articulate what your sample represents in context of your final project. We begin by exploring how we can get *human* readings of content at scale. We want to gather and utilize human responses for several reasons. First, we may want to use crowdsourced human scores as the primary method of coding, extracting or organizing content (as it was in two of the assigned readings). Second, we may want to validate or tune a computational algorithm we may have developed in terms of how it is associated with human meanings or experience. Finally, we may want to use human coding on a sample of data as the basis for training a model or algorithm to then extrapolate *human-like* annotations to the entire population. Here intelligent sampling is critical to maximize effective maching training. \n",
    "\n",
    "For this notebook we will be using the following packages\n",
    "\n",
    "直到本週，我們都假設您用於分析作業的語料庫代表了一組有意義的文本，從中可以對產生它的社交遊戲、社交世界和社會參與者進行合理的推論。\n",
    "\n",
    "本週，我們要求您構建一個用於初步分析的語料庫，並闡明您的樣本在最終項目的背景下代表什麼。我們首先探索如何讓人類大規模閱讀內容。出於多種原因，我們希望收集和利用人類的反應。首先，我們可能希望使用眾包人工評分作為編碼、提取或組織內容的主要方法（就像在兩個指定閱讀中一樣）。其次，我們可能想要驗證或調整我們可能已經開發的計算算法如何與人類意義或經驗相關聯。最後，我們可能希望在數據樣本上使用人工編碼作為訓練模型或算法的基礎，然後推斷類人對整個人口的註釋。在這裡，智能採樣對於最大化有效的加工訓練至關重要。\n",
    "\n",
    "對於這個筆記本，我們將使用以下包"
   ]
  },
  {
   "cell_type": "code",
   "execution_count": 27,
   "metadata": {},
   "outputs": [],
   "source": [
    "#Special module written for this class\n",
    "#This provides access to data and to helper functions from previous weeks\n",
    "#Make sure you update it before starting this notebook\n",
    "import lucem_illud_2020 #pip install -U git+git://github.com/Computational-Content-Analysis-2020/lucem_illud_2020.git\n",
    "\n",
    "#All these packages need to be installed from pip\n",
    "import numpy as np #For arrays\n",
    "import scipy as sp #For some stats\n",
    "import pandas #Gives us DataFrames\n",
    "import matplotlib.pyplot as plt #For graphics\n",
    "import seaborn #Makes the graphics look nicer\n",
    "import pyanno #On python3 make sure to pip install pyanno3\n",
    "\n",
    "#We need to import these this way due to how pyanno is setup\n",
    "from pyanno.measures import pairwise_matrix, agreement, cohens_kappa, cohens_weighted_kappa, fleiss_kappa, krippendorffs_alpha, pearsons_rho, scotts_pi, spearmans_rho\n",
    "from pyanno.annotations import AnnotationsContainer\n",
    "from pyanno.models import ModelA, ModelBt, ModelB\n",
    "\n",
    "from functools import reduce\n",
    "from itertools import permutations\n",
    "import math\n",
    "\n",
    "\n",
    "#This 'magic' command makes the plots work better\n",
    "#in the notebook, don't use it outside of a notebook.\n",
    "#Also you can ignore the warning\n",
    "#我們的開發環境是 Jupyter Notebook，這個指令可以讓圖形不會在新視窗呈現\n",
    "%matplotlib inline\n",
    "\n",
    "import os #For looking through files\n",
    "import os.path #For managing file paths"
   ]
  },
  {
   "cell_type": "markdown",
   "metadata": {},
   "source": [
    "[pyanno用戶指南使用python庫](http://docs.enthought.com/uchicago-pyanno/user_guide.html#using-the-library-from-python)\n",
    "\n",
    "pyAnno 2.0 is a Python library for the analysis and diagnostic testing of annotation and curation efforts. pyAnno implements statistical models for inferring from categorical data annotated by multiple annotators:\n",
    "\n",
    "- annotator accuracies and biases,\n",
    "- gold standard categories of items,\n",
    "- prevalence of categories in population, and\n",
    "- population distribution of annotator accuracies and biases.\n",
    "\n",
    "The models include a generalization of Dawid and Skene’s (1979) multinomial model with Dirichlet priors on prevalence and estimator accuracy, and the two models introduces in Rzhetsky et al.’s (2009). The implementation allows Maximum Likelihood and Maximum A Posteriori estimation of parameters, and to draw samples from the full posterior distribution over annotator accuracy.\n",
    "\n",
    "pyAnno 2.0 是一個 Python 庫，用於對註釋和管理工作進行分析和診斷測試。pyAnno 實現了統計模型，用於從多個註釋器註釋的分類數據中進行推斷：\n",
    "\n",
    "- 註釋器的準確性和偏差，\n",
    "- 項目的黃金標準類別，\n",
    "- 人口類別的流行程度，以及\n",
    "- 註釋器準確性和偏差的總體分佈。\n",
    "這些模型包括 Dawid 和 Skene (1979) 多項式模型的泛化和 Dirichlet 先驗關於流行度和估計器準確度，這兩個模型在 Rzhetsky 等人 (2009) 中引入。該實現允許參數的最大似然和最大後驗估計，並從註釋器準確性的完整後驗分佈中抽取樣本。\n",
    "\n",
    "pyAnno 庫由幾個模塊組成：\n",
    "\n",
    "pyanno.models為註解過程定義了許多模型\n",
    "pyanno.annotations提供了一個AnnotationsContainer對象來加載註釋文件\n",
    "pyanno.measures包含許多統計函數來測量註釋者之間的一致性和協方差\n",
    "pyanno.plots定義函數以給出註釋和模型參數的圖形表示\n",
    "pyanno.database定義了一個 PyannoDatabase對象，可用於存儲和檢索將模型應用於註釋的結果\n",
    "pyanno.ui包含 pyAnno GUI 的定義，由 pyAnno 應用程序使用，通常不直接從 Python 使用\n",
    "                      "
   ]
  },
  {
   "cell_type": "markdown",
   "metadata": {},
   "source": [
    "## <span style=\"color:red\">*Pitch the Domain of your Project*  推銷你的項目領域 </span>\n",
    "\n",
    "<span style=\"color:red\">In the two cells immediately following, describe **WHAT** you are planning to analyze for your final project (i.e., texts, contexts and the social game, world and actors you intend to learn about through your analysis) (<200 words) and **WHY** you are going to do it (i.e., why would theory and/or the average person benefit from knowing the results of your investigation) (<200 words)? [**Note**: your individual or collective project can change over the course of the quarter if new data and/or analysis opportunities arise or if old ones fade away.]\n",
    "    \n",
    "推銷你的項目領域\n",
    "在兩個單元格緊隨其後，說明什麼你打算來分析您的最終項目（即文本，背景和社交遊戲，世界和演員，你希望通過你的分析，以了解）（<200字），為什麼你打算這樣做（即，為什麼理論和/或普通人會從了解您的調查結果中受益）（<200 字）？[注意：如果出現新的數據和/或分析機會或舊的數據和/或分析機會消失，您的個人或集體項目可能會在本季度的過程中發生變化。]"
   ]
  },
  {
   "cell_type": "markdown",
   "metadata": {},
   "source": [
    "## ***What?*** \n",
    "<200 words"
   ]
  },
  {
   "cell_type": "markdown",
   "metadata": {},
   "source": [
    "## ***Why?***\n",
    "<200 words"
   ]
  },
  {
   "cell_type": "markdown",
   "metadata": {},
   "source": [
    "## <span style=\"color:red\">*Pitch Your Sample*</span>\n",
    "\n",
    "<span style=\"color:red\">In the cell immediately following, describe the rationale behind your proposed sample design for your final project. What is the social game, social work, or social actors about whom you are seeking to make inferences? What are its virtues with respect to your research questions? What are its limitations? What are alternatives? What would be a reasonable path to \"scale up\" your sample for further analysis (i.e., high-profile publication)? (<200 words)."
   ]
  },
  {
   "cell_type": "markdown",
   "metadata": {},
   "source": [
    "# Example Annotation Dataset"
   ]
  },
  {
   "cell_type": "markdown",
   "metadata": {},
   "source": [
    "Load Rzhetsky et al (2009)'s sample dataset, which can be found [here](https://github.com/enthought/uchicago-pyanno/tree/master/data). This data is the result of a content analytic / content extraction study in which Andrey Rzhetsky and colleagues from the National Library of Medicine, published [here](http://journals.plos.org/ploscompbiol/article?id=10.1371/journal.pcbi.1000391) in [PLOS Computational Biology](http://journals.plos.org/ploscompbiol/), gave eight annotators 10,000 sentence chunks from biomedical text in biomedical abstracts and articles, then asked them, in a loop design schematically illustrated below that provided 3 independent codings for each document. The sampling strategy pursued diversity by drawing from PubMed abstracts (1000) and full-text articles (9000: 20% from abstracts, 10% from introductions, 20% from methods, 25% from results, and 25% from discussions.) The dataset extract here involves respondents codes for sentences in terms of their *Evidence*: {0, 1, 2, 3, -1} where 0 is the complete lack of evidence, 3 is direct evidence present within the sentence, and -1 is didn't respond. (They also crowdsourced and analyzed *polarity*, *certainty*, and *number*). For example, consider the following two abutting sentence chunks: *\"Because null mutations in toxR and toxT abolish CT and TcpA expression in the El Tor biotype and also attenuate virulence...\"* [i.e., average certainty = 0], *\"...it is likely that the ToxR regulon has functional similarities between the two biotypes despite the clear differences in the inducing parameters observed in vitro\"* [i.e., average certainty = 1].\""
   ]
  },
  {
   "cell_type": "code",
   "execution_count": 28,
   "metadata": {},
   "outputs": [
    {
     "data": {
      "text/html": [
       "<img source=\"loopdesign.png\">\n"
      ],
      "text/plain": [
       "<IPython.core.display.HTML object>"
      ]
     },
     "metadata": {},
     "output_type": "display_data"
    }
   ],
   "source": [
    "%%html\n",
    "<img source=\"loopdesign.png\">"
   ]
  },
  {
   "cell_type": "markdown",
   "metadata": {},
   "source": [
    "[Click here for loop design](loopdesign.png)"
   ]
  },
  {
   "cell_type": "markdown",
   "metadata": {},
   "source": [
    "之前宣告 numpy as np \n",
    "Numpy 是許多 Python 資料科學套件的基礎，讓使用者可以很容易建立向量（Vector）、矩陣（Matrix）等進行高效率的大量資料運算。\n",
    "[簡明 Python Numpy 入門教學](https://blog.techbridge.cc/2020/08/24/numpy-zen-intro-tutorial/)\n",
    "\n",
    "loadtxt：讀取文字檔轉成矩陣\n",
    "\n",
    "從 from pyanno.annotations import AnnotationsContainer\n",
    "AnnotationsContainer能夠讀取帶有由空格和/或逗號分隔的註釋的文本文件。標籤可以是任何數字或單詞。使用missing_values關鍵字參數可以指定哪些標記表示數據中的缺失值。文件的默認缺失值為 ‘-1’, ‘NA’, ‘None’, and ‘*’."
   ]
  },
  {
   "cell_type": "code",
   "execution_count": 29,
   "metadata": {},
   "outputs": [],
   "source": [
    "x = np.loadtxt(\"../data/pyAnno/testdata_numerical.txt\")\n",
    "anno = AnnotationsContainer.from_array(x, missing_values=[-1])"
   ]
  },
  {
   "cell_type": "markdown",
   "metadata": {},
   "source": [
    "Interrogate the AnnotationsContainer object.\n",
    "詢問 AnnotationsContainer 對象。"
   ]
  },
  {
   "cell_type": "code",
   "execution_count": 30,
   "metadata": {},
   "outputs": [
    {
     "data": {
      "text/plain": [
       "array([[ 1,  2,  3, ..., -1, -1, -1],\n",
       "       [ 0,  0,  0, ..., -1, -1, -1],\n",
       "       [ 2,  2,  1, ..., -1, -1, -1],\n",
       "       ...,\n",
       "       [ 2,  2, -1, ..., -1, -1,  1],\n",
       "       [ 2,  2, -1, ..., -1, -1,  3],\n",
       "       [ 1,  1, -1, ..., -1, -1,  0]])"
      ]
     },
     "execution_count": 30,
     "metadata": {},
     "output_type": "execute_result"
    }
   ],
   "source": [
    "anno.annotations"
   ]
  },
  {
   "cell_type": "code",
   "execution_count": 31,
   "metadata": {},
   "outputs": [
    {
     "data": {
      "text/plain": [
       "[1.0, 2.0, 3.0, 4.0]"
      ]
     },
     "execution_count": 31,
     "metadata": {},
     "output_type": "execute_result"
    }
   ],
   "source": [
    "anno.labels"
   ]
  },
  {
   "cell_type": "code",
   "execution_count": 32,
   "metadata": {},
   "outputs": [
    {
     "data": {
      "text/plain": [
       "[-1]"
      ]
     },
     "execution_count": 32,
     "metadata": {},
     "output_type": "execute_result"
    }
   ],
   "source": [
    "anno.missing_values"
   ]
  },
  {
   "cell_type": "markdown",
   "metadata": {},
   "source": [
    "# Annotation Statistics 註釋統計"
   ]
  },
  {
   "cell_type": "markdown",
   "metadata": {},
   "source": [
    "First, we assume categorical codes...that each code is qualitatively distinct from each other. Two measures are primarily used for this: Scott's $\\pi$, Cohen's $\\kappa$, and Krippendorff's $\\alpha$ which each measure the extent of agreement between two annotators, but take into account the possibility of the agreement occurring by chance in slightly different ways. Any agreement measure begins with the frequency of codes:\n",
    "\n",
    "首先，我們假設分類代碼……每個代碼在質量上彼此不同。為此主要使用兩種度量：Scott 的 𝜋 , 科恩  𝜅 , 和克里彭多夫的  𝛼 每個都測量兩個註釋者之間的一致程度，但考慮到以略有不同的方式偶然發生一致的可能性。任何一致性度量都從代碼的頻率開始："
   ]
  },
  {
   "cell_type": "markdown",
   "metadata": {},
   "source": [
    "pyanno.measures包含許多統計函數來測量註釋者之間的一致性和協方差"
   ]
  },
  {
   "cell_type": "code",
   "execution_count": 33,
   "metadata": {},
   "outputs": [
    {
     "data": {
      "text/plain": [
       "array([0.11666667, 0.245     , 0.34083333, 0.2975    ])"
      ]
     },
     "execution_count": 33,
     "metadata": {},
     "output_type": "execute_result"
    }
   ],
   "source": [
    "pyanno.measures.agreement.labels_frequency(anno.annotations,4)"
   ]
  },
  {
   "cell_type": "markdown",
   "metadata": {},
   "source": [
    "Now consider the \"confusion matrix\" or matrix of coded agreements between any two coders:\n",
    "\n",
    "現在考慮任何兩個編碼器之間的“混淆矩陣”或編碼協議矩陣："
   ]
  },
  {
   "cell_type": "markdown",
   "metadata": {},
   "source": [
    "import seaborn #Makes the graphics look nicer\n",
    "\n",
    "熱圖是一個以顏色變化來顯示數據的矩陣。簡單來說，就是用依據數字的不同，使用不同的顏色來呈現數據。\n",
    "\n",
    "[python3.x-seaborn.heatmap随笔](https://zhuanlan.zhihu.com/p/35494575) 用處：將數據繪製為顏色方格（編碼矩陣）。\n",
    "[Python 商業數據分析之可視化繪圖 第19講： 熱力圖（Seaborn-Heatmap）](https://medium.com/python-%E8%B3%87%E6%96%99%E8%A6%96%E8%A6%BA%E5%8C%96/python-%E5%95%86%E6%A5%AD%E6%95%B8%E6%93%9A%E5%88%86%E6%9E%90%E4%B9%8B%E5%8F%AF%E8%A6%96%E5%8C%96%E7%B9%AA%E5%9C%96-%E7%AC%AC19%E8%AC%9B-%E7%86%B1%E5%8A%9B%E5%9C%96-seaborn-heatmap-cf1b17d7964e)"
   ]
  },
  {
   "cell_type": "code",
   "execution_count": 34,
   "metadata": {},
   "outputs": [
    {
     "name": "stdout",
     "output_type": "stream",
     "text": [
      "[[ 8.  7.  3.  2.]\n",
      " [ 9. 30. 13.  3.]\n",
      " [ 2.  9. 42. 11.]\n",
      " [ 1.  7. 14. 39.]]\n"
     ]
    },
    {
     "data": {
      "image/png": "[encoded data removed]",
      "text/plain": [
       "<Figure size 432x288 with 2 Axes>"
      ]
     },
     "metadata": {
      "needs_background": "light"
     },
     "output_type": "display_data"
    }
   ],
   "source": [
    "c = pyanno.measures.agreement.confusion_matrix(anno.annotations[:,0], anno.annotations[:,1],4)\n",
    "print(c)\n",
    "ac = seaborn.heatmap(c)\n",
    "plt.show()"
   ]
  },
  {
   "cell_type": "markdown",
   "metadata": {},
   "source": [
    "Scott's $\\pi$ is computed as:\n",
    "\n",
    "$\\pi = \\frac{\\text{Pr}(a)-\\text{Pr}(e)}{1-\\text{Pr}(e)}$\n",
    "\n",
    "Where Pr($a$) is relative observed agreement, and Pr($e$) is expected agreement using joint proportions calculated from the confusion matrix or matrix of coded agreements between any two coders:"
   ]
  },
  {
   "cell_type": "code",
   "execution_count": 35,
   "metadata": {},
   "outputs": [
    {
     "data": {
      "text/plain": [
       "0.4386478265891502"
      ]
     },
     "execution_count": 35,
     "metadata": {},
     "output_type": "execute_result"
    }
   ],
   "source": [
    "scotts_pi(anno.annotations[:,0], anno.annotations[:,1])"
   ]
  },
  {
   "cell_type": "markdown",
   "metadata": {},
   "source": [
    "[scotts_pi API查找](http://docs.enthought.com/uchicago-pyanno/pyanno.measures.html?highlight=scotts_pi)\n",
    "scotts_pi從pyanno.measures來\n",
    "\n",
    "返回 Scott 對兩個註釋者的 pi 統計量。\n",
    "假設註釋者以與組合觀察到的註釋相同的頻率繪製隨機註釋。"
   ]
  },
  {
   "cell_type": "markdown",
   "metadata": {},
   "source": [
    "The generalization of Scott's $\\pi$ to $n$ coders is Fleiss' $\\kappa$ (Fleiss called it $\\kappa$ because he thought he was generalizing Cohen's $\\kappa$)"
   ]
  },
  {
   "cell_type": "code",
   "execution_count": 36,
   "metadata": {},
   "outputs": [
    {
     "data": {
      "text/plain": [
       "0.40417653771912765"
      ]
     },
     "execution_count": 36,
     "metadata": {},
     "output_type": "execute_result"
    }
   ],
   "source": [
    "fleiss_kappa(anno.annotations[::])"
   ]
  },
  {
   "cell_type": "markdown",
   "metadata": {},
   "source": [
    "[fleiss_kappa API查找](http://docs.enthought.com/uchicago-pyanno/pyanno.measures.html?highlight=fleiss_kappa)\n",
    "fleiss_kappa從pyanno.measures來\n",
    "Compute Fleiss’ kappa for multiple annotators. 為多個註釋器計算 Fleiss 的 kappa。"
   ]
  },
  {
   "cell_type": "markdown",
   "metadata": {},
   "source": [
    "Krippendorff's $\\alpha$ generalizes of Fleiss' $\\kappa$ to $n$ coders and takes into account the fact that annotations here are not categorically different, but ordinal, by adding a weight matrix in which off-diagonal cells contain weights indicating the seriousness of the disagreement between each score. When produced with no arguments, it simply produces an arithmetic distance (e.g., 3-1=2), such that cells one off the diagonal are weighted 1, two off 2, etc."
   ]
  },
  {
   "cell_type": "code",
   "execution_count": 37,
   "metadata": {},
   "outputs": [
    {
     "data": {
      "text/plain": [
       "0.6472588223831547"
      ]
     },
     "execution_count": 37,
     "metadata": {},
     "output_type": "execute_result"
    }
   ],
   "source": [
    "krippendorffs_alpha(anno.annotations[::])"
   ]
  },
  {
   "cell_type": "markdown",
   "metadata": {},
   "source": [
    "krippendorffs_alpha來自pyanno.measures "
   ]
  },
  {
   "cell_type": "markdown",
   "metadata": {},
   "source": [
    "Like Scott's $\\pi$, Cohen's $\\kappa$ also takes into account the possibility of the agreement occurring by chance, but in the following way:\n",
    "\n",
    "$\\kappa = \\frac{p_o-p_e}{1-p_e}=1-\\frac{1-p_o}{p_e}$\n",
    "\n",
    "where $p_o$ is the relative observed agreement among raters, and $p_e$ is the hypothetical probability of chance agreement, using the observed data to calculate the probabilities of each observer randomly saying each category. If the raters are in complete agreement then $\\kappa = 1$. If there is no agreement among the raters other than what would be expected by chance (as given by $p_e$), $\\kappa ≤ 0 $. Here, Cohen's $\\kappa$ statistic for the first two annotators is computed. This is probably the most common metric of agreement."
   ]
  },
  {
   "cell_type": "code",
   "execution_count": 38,
   "metadata": {},
   "outputs": [
    {
     "data": {
      "text/plain": [
       "0.43917037219392857"
      ]
     },
     "execution_count": 38,
     "metadata": {},
     "output_type": "execute_result"
    }
   ],
   "source": [
    "cohens_kappa(anno.annotations[:,0], anno.annotations[:,1])"
   ]
  },
  {
   "cell_type": "markdown",
   "metadata": {},
   "source": [
    "cohens_kappa 來自pyanno.measures "
   ]
  },
  {
   "cell_type": "code",
   "execution_count": 39,
   "metadata": {},
   "outputs": [
    {
     "name": "stdout",
     "output_type": "stream",
     "text": [
      "[[1.         0.43917037 0.47677621        nan        nan        nan\n",
      "  0.45819119 0.43381462]\n",
      " [0.43917037 1.         0.38432922 0.41344423        nan        nan\n",
      "         nan 0.33643611]\n",
      " [0.47677621 0.38432922 1.         0.39583333 0.51704894        nan\n",
      "         nan        nan]\n",
      " [       nan 0.41344423 0.39583333 1.         0.34597068 0.4446844\n",
      "         nan        nan]\n",
      " [       nan        nan 0.51704894 0.34597068 1.         0.37938644\n",
      "  0.43039733        nan]\n",
      " [       nan        nan        nan 0.4446844  0.37938644 1.\n",
      "  0.38341929 0.31214748]\n",
      " [0.45819119        nan        nan        nan 0.43039733 0.38341929\n",
      "  1.         0.394806  ]\n",
      " [0.43381462 0.33643611        nan        nan        nan 0.31214748\n",
      "  0.394806   1.        ]]\n"
     ]
    }
   ],
   "source": [
    "m = pairwise_matrix(cohens_kappa, anno.annotations)\n",
    "print(m)"
   ]
  },
  {
   "cell_type": "markdown",
   "metadata": {},
   "source": [
    "pairwise_matrix 來自pyanno.measures \n",
    "\n",
    "http://docs.enthought.com/uchicago-pyanno/pyanno.measures.html?highlight=pairwise_matrix#pyanno.measures.helpers.pairwise_matrix"
   ]
  },
  {
   "cell_type": "code",
   "execution_count": 40,
   "metadata": {},
   "outputs": [
    {
     "data": {
      "image/png": "[encoded data removed]",
      "text/plain": [
       "<Figure size 432x288 with 2 Axes>"
      ]
     },
     "metadata": {
      "needs_background": "light"
     },
     "output_type": "display_data"
    }
   ],
   "source": [
    "ax = seaborn.heatmap(m)\n",
    "plt.show()"
   ]
  },
  {
   "cell_type": "markdown",
   "metadata": {},
   "source": [
    "You can see that this 8 by 3 loop design will be less stable than an 8 choose 3 combinatorial design, because each codes with more others. \n",
    "您可以看到，這種 8 x 3 循環設計的穩定性不如 8 選擇 3 組合設計，因為每個編碼與其他編碼更多。"
   ]
  },
  {
   "cell_type": "markdown",
   "metadata": {},
   "source": [
    "One can also assess the average Cohen's $\\kappa$ for all pairs of coders that have coded against one another:\n",
    "人們還可以評估平均科恩  𝜅  對於所有相互編碼的編碼器對："
   ]
  },
  {
   "cell_type": "code",
   "execution_count": 41,
   "metadata": {},
   "outputs": [
    {
     "name": "stdout",
     "output_type": "stream",
     "text": [
      "<itertools.permutations object at 0x0000015A38524310>\n",
      "[0.43917037219392857, 0.4767762070864697, nan, nan, nan, 0.4581911921337387, 0.43381461648228553, 0.43917037219392857, 0.3843292186130882, 0.4134442306498665, nan, nan, nan, 0.3364361089350721, 0.4767762070864697, 0.3843292186130882, 0.3958333333333333, 0.5170489390408439, nan, nan, nan, nan, 0.4134442306498665, 0.3958333333333333, 0.34597068464345354, 0.44468439563151724, nan, nan, nan, nan, 0.5170489390408439, 0.34597068464345354, 0.3793864353795703, 0.4303973325923869, nan, nan, nan, nan, 0.44468439563151724, 0.3793864353795703, 0.3834192902778848, 0.3121474755812354, 0.4581911921337387, nan, nan, nan, 0.4303973325923869, 0.3834192902778848, 0.3948059978358323, 0.43381461648228553, 0.3364361089350721, nan, nan, nan, 0.3121474755812354, 0.3948059978358323]\n",
      "[0.43917037219392857, 0.4767762070864697, 0.4581911921337387, 0.43381461648228553, 0.43917037219392857, 0.3843292186130882, 0.4134442306498665, 0.3364361089350721, 0.4767762070864697, 0.3843292186130882, 0.3958333333333333, 0.5170489390408439, 0.4134442306498665, 0.3958333333333333, 0.34597068464345354, 0.44468439563151724, 0.5170489390408439, 0.34597068464345354, 0.3793864353795703, 0.4303973325923869, 0.44468439563151724, 0.3793864353795703, 0.3834192902778848, 0.3121474755812354, 0.4581911921337387, 0.4303973325923869, 0.3834192902778848, 0.3948059978358323, 0.43381461648228553, 0.3364361089350721, 0.3121474755812354, 0.3948059978358323]\n"
     ]
    },
    {
     "data": {
      "text/plain": [
       "0.40911598940065674"
      ]
     },
     "execution_count": 41,
     "metadata": {},
     "output_type": "execute_result"
    }
   ],
   "source": [
    "def pairwise_metric_average(metric, array):\n",
    "    \"\"\"Calculate the pairwise metric average for the real elements of metric function run on an array of annotations\"\"\"\n",
    "    p = permutations(range(array[0,:].size),2)\n",
    "    print(p)\n",
    "    m = [metric(array[:,x[0]], array[:,x[1]]) for x in p]\n",
    "    print(m)\n",
    "    clean_m = [c for c in m if not math.isnan(c)]\n",
    "    print(clean_m)\n",
    "    return reduce(lambda a, b: a + b, clean_m)/len(clean_m)    \n",
    " \n",
    "pairwise_metric_average(cohens_kappa, anno.annotations)"
   ]
  },
  {
   "cell_type": "markdown",
   "metadata": {},
   "source": [
    "[itertools --- 为高效循环而创建迭代器的函数](https://docs.python.org/zh-cn/3/library/itertools.html)\n",
    "permutations來自itertools\n",
    "\n",
    "[functools的reduce](https://docs.python.org/zh-cn/3/library/functools.html?highlight=reduce#functools.reduce)\n",
    "[reduce範例](https://www.runoob.com/python/python-func-reduce.html)\n",
    "reduce(lambda parameter1, parameter2: expression, iterable)\n",
    "\n",
    "math.isnan(x)：是否為有效數字"
   ]
  },
  {
   "cell_type": "markdown",
   "metadata": {},
   "source": [
    "As recognized with Krippendorff's flexible $\\alpha$, our scores are *not* categorical, but rather ordered and her considered metric. Weighted $\\kappa$ allows you to count disagreements differently and is useful when codes are ordered as they are here. Here a weight matrix is added to the calculation, in which off-diagonal cells contain weights indicating the seriousness of the disagreement between each score. When automatically produced, it simply produces an arithmetic distance (e.g., 3-1=2), such that cells one off the diagonal are weighted 1, two off 2, etc. Here\n",
    "\n",
    "$\\kappa = 1-\\frac{\\sum^k_{i=1}\\sum^k_{j=1}w_{ij}x_{ij}}{\\sum^k_{i=1}\\sum^k_{j=1}w_{ij}m_{ij}}$\n",
    "\n",
    "where $\\kappa$ = $n$ codes and $w_{ij}$,$x_{ij}$, and $m_{ij}$ represent elements in the weight, observed, and expected matrices, respectively. (Obviously, when diagonal cells contain weights of 0 and off-diagonal cells weights of 1, this equals $\\kappa$)."
   ]
  },
  {
   "cell_type": "markdown",
   "metadata": {},
   "source": [
    "正如 Krippendorff 的靈活  𝛼 ，我們的分數不是分類的，而是有序的和她考慮的指標。加權 𝜅 允許您以不同的方式計算分歧，並且在代碼按此處排序時很有用。這裡在計算中添加了一個權重矩陣，其中非對角線單元包含權重，表明每個分數之間不一致的嚴重程度。當自動生成時，它只是生成一個算術距離（例如，3-1=2），這樣對角線上的單元格的權重為 1，兩個對角線的權重為 2，等等。這裡"
   ]
  },
  {
   "cell_type": "code",
   "execution_count": 42,
   "metadata": {},
   "outputs": [
    {
     "data": {
      "text/plain": [
       "0.5330240507874497"
      ]
     },
     "execution_count": 42,
     "metadata": {},
     "output_type": "execute_result"
    }
   ],
   "source": [
    "cohens_weighted_kappa(anno.annotations[:,0], anno.annotations[:,1])"
   ]
  },
  {
   "cell_type": "markdown",
   "metadata": {},
   "source": [
    "Or averaged over the total:"
   ]
  },
  {
   "cell_type": "code",
   "execution_count": 43,
   "metadata": {},
   "outputs": [
    {
     "name": "stdout",
     "output_type": "stream",
     "text": [
      "<itertools.permutations object at 0x0000015A3855C540>\n",
      "[0.5330240507874497, 0.6105464425883063, nan, nan, nan, 0.550073457394711, 0.5738721317358106, 0.5330240507874497, 0.49051010745605017, 0.5551863380163202, nan, nan, nan, 0.45140906597313923, 0.6105464425883063, 0.49051010745605006, 0.5227598827174613, 0.6055769583562649, nan, nan, nan, nan, 0.5551863380163203, 0.5227598827174613, 0.5039930122285999, 0.5705037762469913, nan, nan, nan, nan, 0.6055769583562649, 0.5039930122285999, 0.501159384915792, 0.5459506208430287, nan, nan, nan, nan, 0.5705037762469914, 0.501159384915792, 0.5149169455680349, 0.43071146006947925, 0.550073457394711, nan, nan, nan, 0.5459506208430287, 0.5149169455680348, 0.5183878990500265, 0.5738721317358106, 0.45140906597313946, nan, nan, nan, 0.43071146006947936, 0.5183878990500265]\n",
      "[0.5330240507874497, 0.6105464425883063, 0.550073457394711, 0.5738721317358106, 0.5330240507874497, 0.49051010745605017, 0.5551863380163202, 0.45140906597313923, 0.6105464425883063, 0.49051010745605006, 0.5227598827174613, 0.6055769583562649, 0.5551863380163203, 0.5227598827174613, 0.5039930122285999, 0.5705037762469913, 0.6055769583562649, 0.5039930122285999, 0.501159384915792, 0.5459506208430287, 0.5705037762469914, 0.501159384915792, 0.5149169455680349, 0.43071146006947925, 0.550073457394711, 0.5459506208430287, 0.5149169455680348, 0.5183878990500265, 0.5738721317358106, 0.45140906597313946, 0.43071146006947936, 0.5183878990500265]\n"
     ]
    },
    {
     "data": {
      "text/plain": [
       "0.5299113458717166"
      ]
     },
     "execution_count": 43,
     "metadata": {},
     "output_type": "execute_result"
    }
   ],
   "source": [
    "pairwise_metric_average(cohens_weighted_kappa,anno.annotations)"
   ]
  },
  {
   "cell_type": "markdown",
   "metadata": {},
   "source": [
    "呼叫剛剛宣告的函式 pairwise_metric_average，"
   ]
  },
  {
   "cell_type": "markdown",
   "metadata": {},
   "source": [
    "Alternatively, if the annontation data can be understood as indicating real values, we can assess not agreement, but rather the correlation of values (Pearson's $\\rho$) or correlation of ranks (Spearman's $\\rho$) for pairs of coders:"
   ]
  },
  {
   "cell_type": "markdown",
   "metadata": {},
   "source": [
    "pairwise_matrix 來自pyanno.measures \n",
    "\n",
    "http://docs.enthought.com/uchicago-pyanno/pyanno.measures.html?highlight=pairwise_matrix#pyanno.measures.helpers.pairwise_matrix\n",
    "\n",
    "pyanno.measures.helpers.pairwise_matrix(pairwise_statistic, annotations, \\**args, \\**\\*kwargs)[source]\n",
    "兩個必須參數，兩個選填參數\n",
    "\n",
    "Parameters:\t\n",
    "- pairwise_statistics (function) – Function accepting as first two arguments two 1D array of annotations, and returning a single scalar measuring some annotations statistics.\n",
    "- annotations (ndarray, shape = (n_items, n_annotators)) – Annotations in pyanno format.\n",
    "- args (any) – Additional arguments passed to pairwise_statistics.\n",
    "- kwargs (any) – Additional keyword arguments passed to pairwise_statistics.\n",
    "\n",
    "Returns:\t\n",
    "stat_matrix (ndarray, shape = (n_annotators, n_annotators)) - stat_matrix[i,j] is the value of pairwise_statistics applied to the annotations of annotators i and j\n"
   ]
  },
  {
   "cell_type": "code",
   "execution_count": 44,
   "metadata": {},
   "outputs": [
    {
     "data": {
      "image/png": "[encoded data removed]",
      "text/plain": [
       "<Figure size 432x288 with 2 Axes>"
      ]
     },
     "metadata": {
      "needs_background": "light"
     },
     "output_type": "display_data"
    },
    {
     "data": {
      "image/png": "[encoded data removed]",
      "text/plain": [
       "<Figure size 432x288 with 2 Axes>"
      ]
     },
     "metadata": {
      "needs_background": "light"
     },
     "output_type": "display_data"
    }
   ],
   "source": [
    "n = pairwise_matrix(pearsons_rho, anno.annotations)\n",
    "m = pairwise_matrix(spearmans_rho, anno.annotations)\n",
    "an = seaborn.heatmap(n)\n",
    "plt.show()\n",
    "am = seaborn.heatmap(m)\n",
    "plt.show()"
   ]
  },
  {
   "cell_type": "markdown",
   "metadata": {},
   "source": [
    "Or averaged over all comparable pairs:"
   ]
  },
  {
   "cell_type": "code",
   "execution_count": 45,
   "metadata": {},
   "outputs": [
    {
     "name": "stdout",
     "output_type": "stream",
     "text": [
      "<itertools.permutations object at 0x0000015A38657400>\n",
      "[0.5960959628960918, 0.7393911508100143, nan, nan, nan, 0.6719662928205459, 0.709516831457792, 0.5960959628960918, 0.6089401268726347, 0.6900166089474209, nan, nan, nan, 0.5520258956403075, 0.7393911508100143, 0.6089401268726347, 0.6442940420092325, 0.6967869177228728, nan, nan, nan, nan, 0.6900166089474209, 0.6442940420092325, 0.6747892139024023, 0.742214648462034, nan, nan, nan, nan, 0.6967869177228728, 0.6747892139024023, 0.6299656161445877, 0.6397973706570665, nan, nan, nan, nan, 0.742214648462034, 0.6299656161445877, 0.6376853509941918, 0.5374367410027672, 0.6719662928205459, nan, nan, nan, 0.6397973706570665, 0.6376853509941918, 0.6566281435401623, 0.709516831457792, 0.5520258956403075, nan, nan, nan, 0.5374367410027672, 0.6566281435401623]\n",
      "[0.5960959628960918, 0.7393911508100143, 0.6719662928205459, 0.709516831457792, 0.5960959628960918, 0.6089401268726347, 0.6900166089474209, 0.5520258956403075, 0.7393911508100143, 0.6089401268726347, 0.6442940420092325, 0.6967869177228728, 0.6900166089474209, 0.6442940420092325, 0.6747892139024023, 0.742214648462034, 0.6967869177228728, 0.6747892139024023, 0.6299656161445877, 0.6397973706570665, 0.742214648462034, 0.6299656161445877, 0.6376853509941918, 0.5374367410027672, 0.6719662928205459, 0.6397973706570665, 0.6376853509941918, 0.6566281435401623, 0.709516831457792, 0.5520258956403075, 0.5374367410027672, 0.6566281435401623]\n",
      "<itertools.permutations object at 0x0000015A38657400>\n",
      "[0.6046486672471629, 0.7252515223949555, nan, nan, nan, 0.6527263986384305, 0.7030773648710297, 0.6046486672471629, 0.6050030680738315, 0.6827080535317015, nan, nan, nan, 0.5563013048490937, 0.7252515223949555, 0.6050030680738315, 0.6442057330699712, 0.68250578200336, nan, nan, nan, nan, 0.6827080535317016, 0.6442057330699712, 0.6549464835766579, 0.7341385292806242, nan, nan, nan, nan, 0.68250578200336, 0.6549464835766579, 0.6042410350327578, 0.6227602675911103, nan, nan, nan, nan, 0.7341385292806241, 0.6042410350327578, 0.6160257915706225, 0.49855989450678323, 0.6527263986384305, nan, nan, nan, 0.6227602675911101, 0.6160257915706225, 0.6222582938481495, 0.7030773648710296, 0.5563013048490937, nan, nan, nan, 0.4985598945067833, 0.6222582938481495]\n",
      "[0.6046486672471629, 0.7252515223949555, 0.6527263986384305, 0.7030773648710297, 0.6046486672471629, 0.6050030680738315, 0.6827080535317015, 0.5563013048490937, 0.7252515223949555, 0.6050030680738315, 0.6442057330699712, 0.68250578200336, 0.6827080535317016, 0.6442057330699712, 0.6549464835766579, 0.7341385292806242, 0.68250578200336, 0.6549464835766579, 0.6042410350327578, 0.6227602675911103, 0.7341385292806241, 0.6042410350327578, 0.6160257915706225, 0.49855989450678323, 0.6527263986384305, 0.6227602675911101, 0.6160257915706225, 0.6222582938481495, 0.7030773648710296, 0.5563013048490937, 0.4985598945067833, 0.6222582938481495]\n",
      "0.6517219321175077 0.63808488688039\n"
     ]
    }
   ],
   "source": [
    "print(pairwise_metric_average(pearsons_rho,anno.annotations), pairwise_metric_average(spearmans_rho,anno.annotations))"
   ]
  },
  {
   "cell_type": "markdown",
   "metadata": {},
   "source": [
    "## <span style=\"color:red\">*Your turn*</span>\n",
    "\n",
    "<span style=\"color:red\">Perform a content annotation survey of some kind in which at least 3 people evaluate and code each piece of content, using Amazon Mechanical Turk as described in the MTurk slides in the Assignment link on Canvas, or by hand with friends.  With the resulting data, calculate, visualize and discuss inter-coder agreement or covariation with appropriate metrics. What does this means for the reliability of human assessments regarding content in your domain?\n",
    "    \n",
    "使用 Amazon Mechanical Turk（如 Canvas 上的作業鏈接中的 MTurk 幻燈片中所述）或與朋友一起進行某種類型的內容註釋調查，其中至少有 3 人對每條內容進行評估和編碼。使用生成的數據，計算、可視化和討論具有適當度量的編碼器間一致性或協變。這對於您域中內容的人工評估的可靠性意味著什麼？"
   ]
  },
  {
   "cell_type": "markdown",
   "metadata": {},
   "source": [
    "# Models"
   ]
  },
  {
   "cell_type": "markdown",
   "metadata": {},
   "source": [
    "However, what if some coders are better than others. The prior measures all rely on the assumption that all coders are equally good. What if some are worse than others? Now we use Rzhetsky et al (2009) and Dawid & Skene's models to make inference about true label classes by downweighting bad or deviant coders. \n",
    "\n",
    "Pyanno provides three relevant models: ModelA, ModelB, and ModelBt. \n",
    "\n",
    "- Model A can only be currently run on a balanced 8-coder design, but assesses accuracy purely based on agreement. \n",
    "- Model B with $\\theta$s models the relationship between each coder and code. \n",
    "- Model B is the Dawid & Skene model from the reading. \n",
    "\n",
    "The following image schematically suggests the relationship between the models. <img src=\"../data/models.png\">\n",
    "\n",
    "但是，如果某些編碼器比其他編碼器更好怎麼辦。先前的措施都依賴於所有編碼人員都同樣優秀的假設。如果有些人比其他人更糟怎麼辦？現在我們使用 Rzhetsky 等人 (2009) 和 Dawid & Skene 的模型，通過降低不良或異常編碼器的權重來推斷真實標籤類別。\n",
    "\n",
    "Pyanno 提供了三個相關模型：ModelA、ModelB 和 ModelBt。\n",
    "模型 A 目前只能在平衡的 8 編碼器設計上運行，但純粹基於一致性評估準確性。\n",
    "B型與 𝜃 s 為每個編碼器和代碼之間的關係建模。\n",
    "模型 B 是閱讀中的 Dawid & Skene 模型。\n",
    "下圖示意性地表明了模型之間的關係。"
   ]
  },
  {
   "cell_type": "markdown",
   "metadata": {},
   "source": [
    "The models should provide similar results. To estimate the parameters for any models, we first need to create a new model. \n",
    "\n",
    "這些模型應該提供類似的結果。要估計任何模型的參數，我們首先需要創建一個新模型。"
   ]
  },
  {
   "cell_type": "markdown",
   "metadata": {},
   "source": [
    "一開始宣告 from pyanno.models import ModelA, ModelBt, ModelB\n",
    "pyanno.models為註解過程定義了許多模型"
   ]
  },
  {
   "cell_type": "markdown",
   "metadata": {},
   "source": [
    "[pyAnno’s documentation](http://docs.enthought.com/uchicago-pyanno/index.html)\n",
    "到這邊查相關api，將函式輸入查找"
   ]
  },
  {
   "cell_type": "markdown",
   "metadata": {},
   "source": [
    "以下的model皆為modekB，因為是用這個[ModelB.create_initial_state](http://docs.enthought.com/uchicago-pyanno/pyanno.models.html?highlight=create_initial_state#pyanno.modelB.ModelB.create_initial_state)初始宣告\n",
    "但，為啥註解寫model A????"
   ]
  },
  {
   "cell_type": "code",
   "execution_count": 46,
   "metadata": {},
   "outputs": [
    {
     "name": "stdout",
     "output_type": "stream",
     "text": [
      "[[[0.54737859 0.1575997  0.21317921 0.08184249]\n",
      "  [0.09150105 0.75264586 0.12024311 0.03560998]\n",
      "  [0.06787954 0.20448934 0.58888139 0.13874973]\n",
      "  [0.05416745 0.10893198 0.17430629 0.66259429]]\n",
      "\n",
      " [[0.70575895 0.11081579 0.10977025 0.07365501]\n",
      "  [0.33099979 0.48673431 0.10453562 0.07773028]\n",
      "  [0.20479023 0.09673683 0.59819943 0.10027351]\n",
      "  [0.08925234 0.09032542 0.17343298 0.64698925]]\n",
      "\n",
      " [[0.63378696 0.18770004 0.08850714 0.09000587]\n",
      "  [0.08476631 0.66741866 0.22339763 0.02441741]\n",
      "  [0.1067007  0.18659351 0.63942978 0.06727602]\n",
      "  [0.01857449 0.02937423 0.23167565 0.72037562]]\n",
      "\n",
      " [[0.68408175 0.06128272 0.24272921 0.01190632]\n",
      "  [0.11390477 0.74589762 0.0429136  0.097284  ]\n",
      "  [0.08245166 0.10134231 0.65231751 0.16388852]\n",
      "  [0.1193114  0.08702742 0.0679201  0.72574108]]\n",
      "\n",
      " [[0.74499471 0.18262541 0.016042   0.05633788]\n",
      "  [0.04068208 0.67703692 0.25737353 0.02490747]\n",
      "  [0.03163075 0.12229067 0.62051344 0.22556514]\n",
      "  [0.10247048 0.11579475 0.11673909 0.66499569]]\n",
      "\n",
      " [[0.65124122 0.20902158 0.11229484 0.02744235]\n",
      "  [0.18332022 0.60090596 0.17791143 0.03786239]\n",
      "  [0.05377849 0.10395373 0.69124408 0.1510237 ]\n",
      "  [0.02651697 0.12800463 0.13129801 0.71418039]]\n",
      "\n",
      " [[0.58269472 0.28487721 0.00371506 0.12871302]\n",
      "  [0.19297829 0.53539215 0.22423267 0.04739689]\n",
      "  [0.06527485 0.30094311 0.46336848 0.17041356]\n",
      "  [0.01007694 0.18161961 0.07993784 0.72836561]]\n",
      "\n",
      " [[0.80018176 0.15487998 0.03846607 0.00647219]\n",
      "  [0.11655091 0.63088301 0.24662049 0.00594559]\n",
      "  [0.04247339 0.04593343 0.76573197 0.14586121]\n",
      "  [0.08613907 0.1238203  0.19034668 0.59969395]]]\n",
      "-------\n",
      "-2915.1975705594455\n"
     ]
    }
   ],
   "source": [
    "# create a new instance of model A, with 4 label classes\n",
    "model = ModelB.create_initial_state(4, 8)\n",
    "# other model parameters are initialized from the model prior\n",
    "print(model.theta)\n",
    "print(\"-------\")\n",
    "print(model.log_likelihood(anno.annotations))"
   ]
  },
  {
   "cell_type": "code",
   "execution_count": 47,
   "metadata": {},
   "outputs": [],
   "source": [
    "samples = model.sample_posterior_over_accuracy(anno.annotations, 200, burn_in_samples=100, thin_samples=3)"
   ]
  },
  {
   "cell_type": "markdown",
   "metadata": {},
   "source": [
    "Pyanno allows one to use either MLE (maximum likelihood estimation) or MAP (maximum a posteriori estimation) to estimate model parameters. Note that the parameters here correspond to our estimation of the accuracy of each annotator.\n",
    "\n",
    "Pyanno 允許使用 MLE（最大似然估計）或 MAP（最大後驗估計）來估計模型參數。\n",
    "請注意，這裡的參數對應於我們對每個註釋器準確性的估計。"
   ]
  },
  {
   "cell_type": "code",
   "execution_count": 48,
   "metadata": {},
   "outputs": [
    {
     "name": "stdout",
     "output_type": "stream",
     "text": [
      "[[[7.73398728e-01 2.01020245e-01 2.55810269e-02 1.20101219e-26]\n",
      "  [1.47832659e-01 7.11503767e-01 7.66499157e-02 6.40136580e-02]\n",
      "  [1.97431020e-02 1.48708709e-01 6.96639326e-01 1.34908863e-01]\n",
      "  [2.52463780e-18 2.13647377e-02 8.51550428e-02 8.93480220e-01]]\n",
      "\n",
      " [[7.19395465e-01 2.01828761e-01 7.87757734e-02 1.55486964e-13]\n",
      "  [1.33941799e-01 7.07223261e-01 1.10418200e-01 4.84167403e-02]\n",
      "  [2.72093282e-02 1.65178369e-01 6.71232700e-01 1.36379603e-01]\n",
      "  [2.15358721e-30 5.38211823e-02 1.21871740e-01 8.24307077e-01]]\n",
      "\n",
      " [[8.50073137e-01 1.22955501e-01 2.69713621e-02 3.64395738e-42]\n",
      "  [8.93514251e-02 7.89280333e-01 8.93429608e-02 3.20252811e-02]\n",
      "  [6.11638366e-02 1.29121422e-01 7.03992731e-01 1.05722011e-01]\n",
      "  [6.53666390e-03 5.12606512e-02 2.10869595e-01 7.31333090e-01]]\n",
      "\n",
      " [[6.99612801e-01 2.70976969e-01 2.94102301e-02 8.57899704e-52]\n",
      "  [9.67171336e-02 7.62615701e-01 1.09523823e-01 3.11433425e-02]\n",
      "  [1.81150586e-02 1.45472330e-01 6.85587954e-01 1.50824657e-01]\n",
      "  [2.71897111e-47 2.98511124e-02 2.28749569e-01 7.41399319e-01]]\n",
      "\n",
      " [[8.11803144e-01 1.19373545e-01 6.88233110e-02 9.13991546e-49]\n",
      "  [1.24726986e-01 6.93211818e-01 1.47008725e-01 3.50524714e-02]\n",
      "  [1.10580622e-02 2.13907919e-01 6.46719976e-01 1.28314044e-01]\n",
      "  [6.58948915e-52 5.98095047e-02 1.82979139e-01 7.57211357e-01]]\n",
      "\n",
      " [[7.71186748e-01 2.05349662e-01 2.34635900e-02 1.87519848e-51]\n",
      "  [1.10920303e-01 6.98703449e-01 1.62586425e-01 2.77898237e-02]\n",
      "  [2.69432947e-02 1.74971748e-01 6.58688648e-01 1.39396309e-01]\n",
      "  [1.04070689e-20 8.19488668e-02 1.50728042e-01 7.67323091e-01]]\n",
      "\n",
      " [[7.77751875e-01 1.41612394e-01 8.06357307e-02 7.49343463e-22]\n",
      "  [1.14108703e-01 6.72056519e-01 1.68346177e-01 4.54886006e-02]\n",
      "  [1.60943993e-02 1.18997632e-01 7.24591200e-01 1.40316769e-01]\n",
      "  [9.41957786e-52 4.72911966e-02 1.30538454e-01 8.22170350e-01]]\n",
      "\n",
      " [[8.52754118e-01 1.18087361e-01 2.91585215e-02 1.95577162e-42]\n",
      "  [1.29319568e-01 6.36012446e-01 1.95669325e-01 3.89986612e-02]\n",
      "  [2.96631200e-02 1.67273811e-01 6.42736730e-01 1.60326339e-01]\n",
      "  [1.03418107e-24 4.32627993e-02 1.13010804e-01 8.43726397e-01]]]\n",
      "-2625.8850676193924\n"
     ]
    }
   ],
   "source": [
    "model.map(anno.annotations)\n",
    "print(model.theta)\n",
    "print(model.log_likelihood(anno.annotations))"
   ]
  },
  {
   "cell_type": "code",
   "execution_count": 49,
   "metadata": {},
   "outputs": [
    {
     "name": "stdout",
     "output_type": "stream",
     "text": [
      "[[[7.73398728e-01 2.01020245e-01 2.55810269e-02 1.20101219e-26]\n",
      "  [1.47832659e-01 7.11503767e-01 7.66499157e-02 6.40136580e-02]\n",
      "  [1.97431020e-02 1.48708709e-01 6.96639326e-01 1.34908863e-01]\n",
      "  [2.52463780e-18 2.13647377e-02 8.51550428e-02 8.93480220e-01]]\n",
      "\n",
      " [[7.19395465e-01 2.01828761e-01 7.87757734e-02 1.55486964e-13]\n",
      "  [1.33941799e-01 7.07223261e-01 1.10418200e-01 4.84167403e-02]\n",
      "  [2.72093282e-02 1.65178369e-01 6.71232700e-01 1.36379603e-01]\n",
      "  [2.15358721e-30 5.38211823e-02 1.21871740e-01 8.24307077e-01]]\n",
      "\n",
      " [[8.50073137e-01 1.22955501e-01 2.69713621e-02 3.64395738e-42]\n",
      "  [8.93514251e-02 7.89280333e-01 8.93429608e-02 3.20252811e-02]\n",
      "  [6.11638366e-02 1.29121422e-01 7.03992731e-01 1.05722011e-01]\n",
      "  [6.53666390e-03 5.12606512e-02 2.10869595e-01 7.31333090e-01]]\n",
      "\n",
      " [[6.99612801e-01 2.70976969e-01 2.94102301e-02 8.57899704e-52]\n",
      "  [9.67171336e-02 7.62615701e-01 1.09523823e-01 3.11433425e-02]\n",
      "  [1.81150586e-02 1.45472330e-01 6.85587954e-01 1.50824657e-01]\n",
      "  [2.71897111e-47 2.98511124e-02 2.28749569e-01 7.41399319e-01]]\n",
      "\n",
      " [[8.11803144e-01 1.19373545e-01 6.88233110e-02 9.13991546e-49]\n",
      "  [1.24726986e-01 6.93211818e-01 1.47008725e-01 3.50524714e-02]\n",
      "  [1.10580622e-02 2.13907919e-01 6.46719976e-01 1.28314044e-01]\n",
      "  [6.58948915e-52 5.98095047e-02 1.82979139e-01 7.57211357e-01]]\n",
      "\n",
      " [[7.71186748e-01 2.05349662e-01 2.34635900e-02 1.87519848e-51]\n",
      "  [1.10920303e-01 6.98703449e-01 1.62586425e-01 2.77898237e-02]\n",
      "  [2.69432947e-02 1.74971748e-01 6.58688648e-01 1.39396309e-01]\n",
      "  [1.04070689e-20 8.19488668e-02 1.50728042e-01 7.67323091e-01]]\n",
      "\n",
      " [[7.77751875e-01 1.41612394e-01 8.06357307e-02 7.49343463e-22]\n",
      "  [1.14108703e-01 6.72056519e-01 1.68346177e-01 4.54886006e-02]\n",
      "  [1.60943993e-02 1.18997632e-01 7.24591200e-01 1.40316769e-01]\n",
      "  [9.41957786e-52 4.72911966e-02 1.30538454e-01 8.22170350e-01]]\n",
      "\n",
      " [[8.52754118e-01 1.18087361e-01 2.91585215e-02 1.95577162e-42]\n",
      "  [1.29319568e-01 6.36012446e-01 1.95669325e-01 3.89986612e-02]\n",
      "  [2.96631200e-02 1.67273811e-01 6.42736730e-01 1.60326339e-01]\n",
      "  [1.03418107e-24 4.32627993e-02 1.13010804e-01 8.43726397e-01]]]\n",
      "-2625.8850676193924\n"
     ]
    }
   ],
   "source": [
    "model = ModelB.create_initial_state(4, 8)\n",
    "model.map(anno.annotations)\n",
    "print(model.theta)\n",
    "print(model.log_likelihood(anno.annotations))"
   ]
  },
  {
   "cell_type": "markdown",
   "metadata": {},
   "source": [
    "Once we have model parameters estimated, we can now make inferences about the true label classes. We can calculate the posterior distribution over the true label classes.\n",
    "\n",
    "一旦我們估計了模型參數，我們現在就可以對真實的標籤類別進行推斷。我們可以計算真實標籤類的後驗分佈。"
   ]
  },
  {
   "cell_type": "code",
   "execution_count": 50,
   "metadata": {},
   "outputs": [
    {
     "name": "stdout",
     "output_type": "stream",
     "text": [
      "[[1.20741380e-42 1.00240780e-01 7.90821679e-01 1.08937540e-01]\n",
      " [9.92682453e-01 7.07056554e-03 2.46981317e-04 2.03944498e-49]\n",
      " [1.07420297e-03 5.51435353e-02 9.37476514e-01 6.30574822e-03]\n",
      " ...\n",
      " [8.15378491e-04 3.51193436e-02 9.59859130e-01 4.20614824e-03]\n",
      " [1.34481992e-44 2.14447325e-03 9.16166870e-01 8.16886569e-02]\n",
      " [2.14745550e-01 7.69057353e-01 1.61970966e-02 2.01807019e-26]]\n"
     ]
    }
   ],
   "source": [
    "posterior = model.infer_labels(anno.annotations)\n",
    "print(posterior)"
   ]
  },
  {
   "cell_type": "markdown",
   "metadata": {},
   "source": [
    "Let's turn the posterior of the first 100 samples into a heatmap.\n",
    "\n",
    "讓我們將前 100 個樣本的後驗轉化為熱圖。"
   ]
  },
  {
   "cell_type": "code",
   "execution_count": 51,
   "metadata": {},
   "outputs": [],
   "source": [
    "votes = []\n",
    "for r in anno.annotations:\n",
    "    #print(r)\n",
    "    v = [0] * len(anno.labels)\n",
    "    votes.append(v)\n",
    "    for a in r:\n",
    "        if a > -1:\n",
    "            v[a] += 1\n",
    "            \n",
    "#print(votes)            \n",
    "votes_array = np.array(votes)\n",
    "#votes_array"
   ]
  },
  {
   "cell_type": "markdown",
   "metadata": {},
   "source": [
    "anno.labels if = 5 ，v = [0, 0, 0, 0, 0]\n",
    "之前宣告 numpy as np \n",
    "Numpy 是許多 Python 資料科學套件的基礎，讓使用者可以很容易建立向量（Vector）、矩陣（Matrix）等進行高效率的大量資料運算。\n",
    "\n",
    "\n",
    "下面一次就是畫兩張圖"
   ]
  },
  {
   "cell_type": "code",
   "execution_count": 54,
   "metadata": {},
   "outputs": [
    {
     "data": {
      "image/png": "[encoded data removed]",
      "text/plain": [
       "<Figure size 1080x720 with 4 Axes>"
      ]
     },
     "metadata": {
      "needs_background": "light"
     },
     "output_type": "display_data"
    }
   ],
   "source": [
    "fig, (ax1, ax2) = plt.subplots(ncols=2, figsize = (15, 10), sharey=True)\n",
    "num_questions = 20\n",
    "\n",
    "seaborn.heatmap(votes_array[:num_questions], annot =True, ax=ax2)\n",
    "seaborn.heatmap(posterior[:num_questions], annot=True, ax =ax1)\n",
    "ax1.set_title(\"Model\")\n",
    "ax2.set_title(\"Votes\")\n",
    "plt.show()"
   ]
  },
  {
   "cell_type": "markdown",
   "metadata": {},
   "source": [
    "This differs markedly from taking annotator scores at face value (Add comparison of average values)\n",
    "這與以面值獲取註釋者分數明顯不同（添加平均值的比較）"
   ]
  },
  {
   "cell_type": "code",
   "execution_count": 55,
   "metadata": {},
   "outputs": [],
   "source": [
    "samples = model.sample_posterior_over_accuracy(anno.annotations, 200, burn_in_samples=100, thin_samples=3)"
   ]
  },
  {
   "cell_type": "code",
   "execution_count": 56,
   "metadata": {},
   "outputs": [
    {
     "name": "stdout",
     "output_type": "stream",
     "text": [
      "[[[0.72144725 0.20896061 0.04799341 0.02159873]\n",
      "  [0.14554723 0.69038235 0.09272736 0.07134307]\n",
      "  [0.02882907 0.15483839 0.6778853  0.13844724]\n",
      "  [0.01236076 0.03285634 0.10715271 0.84763018]]\n",
      "\n",
      " [[0.67135904 0.20924118 0.08940026 0.02999951]\n",
      "  [0.14085082 0.68321458 0.1231002  0.0528344 ]\n",
      "  [0.03250503 0.16795531 0.65999757 0.13954208]\n",
      "  [0.01087047 0.06585547 0.140138   0.78313606]]\n",
      "\n",
      " [[0.79269542 0.14117381 0.04580194 0.02032882]\n",
      "  [0.10503286 0.74473287 0.10683967 0.0433946 ]\n",
      "  [0.0668162  0.13840987 0.69096993 0.10380401]\n",
      "  [0.01456167 0.06174629 0.21512041 0.70857163]]\n",
      "\n",
      " [[0.66452644 0.26830957 0.04906605 0.01809794]\n",
      "  [0.10456281 0.7388177  0.11513935 0.04148015]\n",
      "  [0.02721116 0.15335781 0.67105948 0.14837155]\n",
      "  [0.008517   0.03781785 0.23338453 0.72028063]]\n",
      "\n",
      " [[0.76087394 0.13893215 0.07985106 0.02034285]\n",
      "  [0.12962722 0.66965485 0.15429889 0.04641905]\n",
      "  [0.02075715 0.2080518  0.64200587 0.12918518]\n",
      "  [0.00875836 0.07532652 0.18944443 0.72647069]]\n",
      "\n",
      " [[0.72031423 0.21966329 0.04168043 0.01834205]\n",
      "  [0.1186571  0.67966218 0.16096094 0.04071978]\n",
      "  [0.03198896 0.17576344 0.65895684 0.13329076]\n",
      "  [0.01215551 0.08969607 0.16447372 0.7336747 ]]\n",
      "\n",
      " [[0.73532041 0.15311178 0.09013706 0.02143076]\n",
      "  [0.11527063 0.64708502 0.18200432 0.05564003]\n",
      "  [0.02502772 0.13060395 0.71245411 0.13191422]\n",
      "  [0.00897676 0.05688515 0.14517324 0.78896485]]\n",
      "\n",
      " [[0.78292509 0.14671043 0.05303849 0.017326  ]\n",
      "  [0.13705768 0.601608   0.20225791 0.05907641]\n",
      "  [0.03477202 0.17149563 0.6363295  0.15740284]\n",
      "  [0.01164847 0.05978548 0.13344174 0.79512431]]]\n",
      "[[[0.07480939 0.06635778 0.03254746 0.02110795]\n",
      "  [0.04522208 0.05901532 0.03697039 0.03659848]\n",
      "  [0.01594527 0.03838761 0.04837796 0.03600309]\n",
      "  [0.01149607 0.02049173 0.0366572  0.04233709]]\n",
      "\n",
      " [[0.07413539 0.06943539 0.04418297 0.02796288]\n",
      "  [0.04083437 0.05321238 0.04169496 0.02934857]\n",
      "  [0.01689307 0.03486768 0.04647808 0.03672161]\n",
      "  [0.01013797 0.02851922 0.03997316 0.04508854]]\n",
      "\n",
      " [[0.06262684 0.05659613 0.03039945 0.02138913]\n",
      "  [0.03956535 0.05811563 0.0460544  0.02440923]\n",
      "  [0.02227565 0.03584459 0.04608053 0.03088199]\n",
      "  [0.01149836 0.02731039 0.0479944  0.04870923]]\n",
      "\n",
      " [[0.07051926 0.06681296 0.03014711 0.01673712]\n",
      "  [0.03812267 0.05963877 0.04488378 0.02656045]\n",
      "  [0.01535215 0.04086367 0.05330241 0.04340897]\n",
      "  [0.01013231 0.02098736 0.04691103 0.04914049]]\n",
      "\n",
      " [[0.06432828 0.05169874 0.04172153 0.02018143]\n",
      "  [0.04540004 0.06224501 0.04820197 0.02686995]\n",
      "  [0.01413305 0.04316833 0.05190542 0.03822417]\n",
      "  [0.00818162 0.03691583 0.04520502 0.05505816]]\n",
      "\n",
      " [[0.06623133 0.06329102 0.02916709 0.01710141]\n",
      "  [0.04199755 0.06155899 0.05048062 0.02493371]\n",
      "  [0.01760465 0.04079532 0.04918837 0.04026024]\n",
      "  [0.01073341 0.03057255 0.03981287 0.04835644]]\n",
      "\n",
      " [[0.0634983  0.05178321 0.03973066 0.02179778]\n",
      "  [0.04040831 0.06338039 0.05506059 0.03200065]\n",
      "  [0.01439852 0.03566357 0.05062741 0.03753965]\n",
      "  [0.0087631  0.02658476 0.04299992 0.04783606]]\n",
      "\n",
      " [[0.06798644 0.05840982 0.034628   0.01671254]\n",
      "  [0.03945766 0.06813972 0.0623923  0.03416077]\n",
      "  [0.01740794 0.0357423  0.04179746 0.03215727]\n",
      "  [0.01089167 0.03053767 0.03917312 0.05085999]]]\n"
     ]
    }
   ],
   "source": [
    "print(samples[0].mean(axis=0))\n",
    "print(samples[0].std(axis=0))"
   ]
  },
  {
   "cell_type": "markdown",
   "metadata": {},
   "source": [
    "Let's try everything again with ModelBt\n",
    "讓我們用 ModelBt 再試一次\n",
    "這與以面值獲取註釋者分數明顯不同（添加平均值的比較）"
   ]
  },
  {
   "cell_type": "code",
   "execution_count": 57,
   "metadata": {},
   "outputs": [
    {
     "name": "stdout",
     "output_type": "stream",
     "text": [
      "[0.73875614 0.80248146 0.6949057  0.64486714 0.63326087 0.80415349\n",
      " 0.76191236 0.70337736]\n",
      "-2879.438269650883\n"
     ]
    }
   ],
   "source": [
    "# create a new instance of model B, with 4 label classes and 8 annotators.\n",
    "model = ModelBt.create_initial_state(4, 8)\n",
    "print(model.theta)\n",
    "print(model.log_likelihood(anno.annotations))"
   ]
  },
  {
   "cell_type": "code",
   "execution_count": 58,
   "metadata": {},
   "outputs": [
    {
     "name": "stdout",
     "output_type": "stream",
     "text": [
      "[0.79138686 0.74071506 0.76227124 0.72521641 0.71641885 0.71863041\n",
      " 0.77317356 0.71664529]\n",
      "-2811.946317726345\n"
     ]
    }
   ],
   "source": [
    "model.map(anno.annotations)\n",
    "print(model.theta)\n",
    "print(model.log_likelihood(anno.annotations))"
   ]
  },
  {
   "cell_type": "code",
   "execution_count": 59,
   "metadata": {},
   "outputs": [
    {
     "name": "stdout",
     "output_type": "stream",
     "text": [
      "[[0.01110295 0.28941038 0.36488451 0.33460216]\n",
      " [0.99022912 0.0024173  0.00404711 0.00330647]\n",
      " [0.00249889 0.05505596 0.93461645 0.00782869]\n",
      " ...\n",
      " [0.0025283  0.04393703 0.94561386 0.00792081]\n",
      " [0.00249331 0.00571063 0.93252901 0.05926704]\n",
      " [0.03188686 0.93883169 0.01611531 0.01316613]]\n"
     ]
    }
   ],
   "source": [
    "posterior = model.infer_labels(anno.annotations)\n",
    "print(posterior)"
   ]
  },
  {
   "cell_type": "markdown",
   "metadata": {},
   "source": [
    "Let's visualize the posterior of the first 10 samples according to ModelBt.\n",
    "讓我們根據 ModelBt 可視化前 10 個樣本的後驗。"
   ]
  },
  {
   "cell_type": "code",
   "execution_count": 60,
   "metadata": {},
   "outputs": [
    {
     "data": {
      "image/png": "[encoded data removed]",
      "text/plain": [
       "<Figure size 432x288 with 2 Axes>"
      ]
     },
     "metadata": {
      "needs_background": "light"
     },
     "output_type": "display_data"
    }
   ],
   "source": [
    "ax = seaborn.heatmap(posterior[:10,])\n",
    "plt.show()"
   ]
  },
  {
   "cell_type": "markdown",
   "metadata": {},
   "source": [
    "The property of these scores is that they enable us to identify the most likely code assuming coders of unequal quality, which also allows us to break ties when we know coder identity. For some analyses, we may simply use the posterior themselves rather than the most probably code outcome.\n",
    "\n",
    "這些分數的特性是它們使我們能夠識別最有可能的代碼，假設編碼人員的質量不同，這也使我們能夠在知道編碼人員身份時打破聯繫。對於某些分析，我們可以簡單地使用後驗本身而不是最可能的代碼結果。"
   ]
  },
  {
   "cell_type": "markdown",
   "metadata": {},
   "source": [
    "# Generating Annotations 生成註釋"
   ]
  },
  {
   "cell_type": "markdown",
   "metadata": {},
   "source": [
    "Pyanno also allows one to generate artificial data from a model.\n",
    "Pyanno 還允許從模型中生成人工數據。"
   ]
  },
  {
   "cell_type": "code",
   "execution_count": 61,
   "metadata": {},
   "outputs": [
    {
     "data": {
      "text/plain": [
       "array([[1, 1, 1],\n",
       "       [1, 1, 1],\n",
       "       [2, 2, 0],\n",
       "       [3, 3, 2],\n",
       "       [3, 3, 0],\n",
       "       [3, 3, 3],\n",
       "       [3, 3, 2],\n",
       "       [3, 3, 2],\n",
       "       [1, 1, 1],\n",
       "       [1, 1, 2],\n",
       "       [1, 1, 1],\n",
       "       [1, 1, 0],\n",
       "       [1, 1, 2],\n",
       "       [1, 1, 3],\n",
       "       [3, 3, 3],\n",
       "       [3, 3, 2],\n",
       "       [1, 1, 1],\n",
       "       [1, 3, 3],\n",
       "       [1, 1, 2],\n",
       "       [2, 2, 3]])"
      ]
     },
     "execution_count": 61,
     "metadata": {},
     "output_type": "execute_result"
    }
   ],
   "source": [
    "model = ModelBt.create_initial_state(4, 3, theta=[0.99,0.75,0.25])\n",
    "#randome generate annotations with 4 label classes and 3 annotators. \n",
    "#The accuracy of the three annotators are 0.99, 0.75, and 0.25 respectively.\n",
    "\n",
    "model.generate_annotations(20)"
   ]
  },
  {
   "cell_type": "markdown",
   "metadata": {},
   "source": [
    "## Visualizing coder accuracy 可視化編碼器準確性"
   ]
  },
  {
   "cell_type": "markdown",
   "metadata": {},
   "source": [
    "Pyanno provides a [graphical user interface](http://docs.enthought.com/uchicago-pyanno/user_guide.html) for making plots. However, it is not compatible with ipython notebooks. Nevertheless, nothing prevents us from making plots using matplotlib. Let's make a plot of the accuracy of each annotator inferred from ModelA.\n",
    "\n",
    "Pyanno 提供了用於繪製繪圖的圖形用戶界面。但是，它與 ipython 筆記本不兼容。然而，沒有什麼能阻止我們使用 matplotlib 繪製繪圖。讓我們繪製從 ModelA 推斷出的每個註釋器的準確性的圖。"
   ]
  },
  {
   "cell_type": "code",
   "execution_count": 62,
   "metadata": {},
   "outputs": [],
   "source": [
    "model = ModelBt.create_initial_state(4, 8)\n",
    "model.mle(anno.annotations)\n",
    "samples = model.sample_posterior_over_accuracy(anno.annotations, 200, burn_in_samples=100, thin_samples=3)\n",
    "y =  samples.mean(axis=0)#.mean(axis = 1).mean(axis = 1)\n",
    "y_ci = samples.std(axis=0)#.mean(axis = 1).mean(axis = 1)"
   ]
  },
  {
   "cell_type": "code",
   "execution_count": 63,
   "metadata": {},
   "outputs": [
    {
     "data": {
      "image/png": "[encoded data removed]",
      "text/plain": [
       "<Figure size 432x288 with 1 Axes>"
      ]
     },
     "metadata": {
      "needs_background": "light"
     },
     "output_type": "display_data"
    }
   ],
   "source": [
    "plt.figure()\n",
    "plt.errorbar(range(8),y, yerr = y_ci)\n",
    "plt.show()"
   ]
  },
  {
   "cell_type": "markdown",
   "metadata": {},
   "source": [
    "# Example with articles that use the General Social Survey 使用一般社會調查的文章示例"
   ]
  },
  {
   "cell_type": "markdown",
   "metadata": {},
   "source": [
    "I performed a recent study in which the variables from thousands of articles were associated with those used in the General Social Survey, a widely used population sample, in order to interrogate how social science analyses are performed. Each article was reread and coded by a balanced set of three student coders using a 6 choose 3 design, such that all possible 3-coder-subsets (20) coded an equal number of articles. Coding was performed through a website that allowed students access to the digital article. To evaluate the validity of the student codes, we also recruited a sample of authors associated with 97 of our published articles to fill out the same online survey. \n",
    "\n",
    "Because not all coders coded items with equal accuracy, and because “don’t know” was an optional answer, leading to potential ties, we used a generative, probabilistic model to estimate the maximum a posteriori probability (MAP) prediction that an item’s code is true, which integrates over the estimated accuracy of coders, assuming only that the entire population of coders is slightly more often right than wrong. The model (“Model B”) is based on a simple underlying generation process that directly accounts for the probability that coded values are correct (Rzhetsky et al. 2009). For each coded value j, a set of parameters, denoted γj, represents the probability that each coded value is correct. For the ith coder (i = 1, 2, …, 6), we introduce a matrix of probabilities, denoted λ(i)x|y, that defines the probability that she assigns code x (e.g., Dependent variable) to a GSS variable with correct annotation y. For a perfect coder, the matrix λ(i)x|y would equal the identity matrix and her vote would count most toward the total. For a coder that always codes incorrectly—a “troll”—her matrix λ(i)x|y will have all its value off the diagonal and will only minimally influence the posterior. We co-authored the open source pyanno software that implements this model."
   ]
  },
  {
   "cell_type": "markdown",
   "metadata": {},
   "source": [
    "我最近進行了一項研究，其中將數千篇文章中的變量與廣泛使用的人口樣本“綜合社會調查”中使用的變量相關聯，以詢問社會科學分析是如何進行的。每篇文章都由一組平衡的三名學生編碼員使用 6 選 3 設計重新閱讀和編碼，以便所有可能的 3 編碼員子集 (20) 編碼相同數量的文章。編碼是通過允許學生訪問數字文章的網站進行的。為了評估學生代碼的有效性，我們還招募了與我們發表的 97 篇文章相關的作者樣本來填寫相同的在線調查。\n",
    "\n",
    "因為並非所有編碼員都以相同的準確度對項目進行編碼，並且因為“不知道”是一個可選答案，導致潛在的聯繫，我們使用生成性概率模型來估計項目代碼的最大後驗概率 (MAP) 預測是真的，它整合了編碼員的估計準確性，僅假設整個編碼員群體的正確率略高於錯誤率。該模型（“模型 B”）基於一個簡單的底層生成過程，該過程直接說明編碼值正確的概率（Rzhetsky 等人，2009 年）。對於每個編碼值 j，一組參數表示為 γj，表示每個編碼值正確的概率。對於第 i 個編碼器 (i = 1, 2, …, 6)，我們引入了一個概率矩陣，表示為 λ(i)x|y，它定義了她分配代碼 x 的概率（例如，因變量）到具有正確註釋 y 的 GSS 變量。對於完美的編碼器，矩陣 λ(i)x|y 將等於單位矩陣，並且她的投票將計入總數。對於一個總是錯誤編碼的編碼器——一個“巨魔”——她的矩陣 λ(i)x|y 的所有值都在對角線上，並且只會最小程度地影響後驗。我們共同編寫了實現此模型的開源 pyanno 軟件。"
   ]
  },
  {
   "cell_type": "markdown",
   "metadata": {},
   "source": [
    "Getting the data for each content analysis survey regarding how GSS variables were used in a large population of social science articles."
   ]
  },
  {
   "cell_type": "markdown",
   "metadata": {},
   "source": [
    "獲取關於 GSS 變量如何在大量社會科學文章中使用的每個內容分析調查的數據。"
   ]
  },
  {
   "cell_type": "markdown",
   "metadata": {},
   "source": [
    "之前宣告 numpy as np \n",
    "Numpy 是許多 Python 資料科學套件的基礎，讓使用者可以很容易建立向量（Vector）、矩陣（Matrix）等進行高效率的大量資料運算。\n",
    "\n",
    "[Numpy numpy.loadtxt() 函式](https://www.delftstack.com/zh-tw/api/numpy/python-numpy-loadtxt-function/)\n",
    "dtype:結果陣列的資料型別\n",
    "delimiter:用於解析 txt 檔案內容的定界符"
   ]
  },
  {
   "cell_type": "code",
   "execution_count": 64,
   "metadata": {},
   "outputs": [],
   "source": [
    "#anno_vdep = AnnotationsContainer.from_file(missing_values=[-1], filename=\"GSSvariable_testSdependent.csv\")\n",
    "dev = np.loadtxt(fname=\"../data/dataforgssstudy/n7GSSvariable_testSdependent.csv\", dtype=int, delimiter=\",\")\n",
    "anno_dv = AnnotationsContainer.from_array(dev)\n",
    "\n",
    "ind = np.loadtxt(fname=\"../data/dataforgssstudy/n7GSSvariable_testSindependent.csv\", dtype=int, delimiter=\",\")\n",
    "anno_iv = AnnotationsContainer.from_array(ind)\n",
    "\n",
    "cent = np.loadtxt(fname=\"../data/dataforgssstudy/n7GSSvariable_testScentral.csv\", dtype=int, delimiter=\",\")\n",
    "anno_cv = AnnotationsContainer.from_array(cent)\n",
    "\n",
    "cont = np.loadtxt(fname=\"../data/dataforgssstudy/n7GSSvariable_testScontrol.csv\", dtype=int, delimiter=\",\")\n",
    "anno_ctv = AnnotationsContainer.from_array(cont)\n",
    "\n",
    "test = np.loadtxt(fname=\"../data/dataforgssstudy/testH.csv\", dtype=int, delimiter=\",\")\n",
    "anno_test = AnnotationsContainer.from_array(test)"
   ]
  },
  {
   "cell_type": "markdown",
   "metadata": {},
   "source": [
    "Let's examine the data structure."
   ]
  },
  {
   "cell_type": "code",
   "execution_count": 65,
   "metadata": {},
   "outputs": [
    {
     "data": {
      "text/plain": [
       "(21461, 6)"
      ]
     },
     "execution_count": 65,
     "metadata": {},
     "output_type": "execute_result"
    }
   ],
   "source": [
    "dev.shape"
   ]
  },
  {
   "cell_type": "code",
   "execution_count": 66,
   "metadata": {},
   "outputs": [
    {
     "data": {
      "text/plain": [
       "[0, 1]"
      ]
     },
     "execution_count": 66,
     "metadata": {},
     "output_type": "execute_result"
    }
   ],
   "source": [
    "anno_dv.labels"
   ]
  },
  {
   "cell_type": "code",
   "execution_count": 67,
   "metadata": {},
   "outputs": [
    {
     "data": {
      "text/plain": [
       "[-1]"
      ]
     },
     "execution_count": 67,
     "metadata": {},
     "output_type": "execute_result"
    }
   ],
   "source": [
    "anno_dv.missing_values"
   ]
  },
  {
   "cell_type": "code",
   "execution_count": 68,
   "metadata": {},
   "outputs": [
    {
     "data": {
      "text/plain": [
       "(21461, 6)"
      ]
     },
     "execution_count": 68,
     "metadata": {},
     "output_type": "execute_result"
    }
   ],
   "source": [
    "anno_dv.annotations.shape"
   ]
  },
  {
   "cell_type": "markdown",
   "metadata": {},
   "source": [
    "First, let's use Cohen's $\\kappa$ to measure agreement between coders..."
   ]
  },
  {
   "cell_type": "code",
   "execution_count": 69,
   "metadata": {},
   "outputs": [
    {
     "name": "stdout",
     "output_type": "stream",
     "text": [
      "[[1.         0.62426874 0.46682841 0.44599604 0.16569888 0.36657805]\n",
      " [0.62426874 1.         0.53480937 0.52673854 0.3306905  0.59513211]\n",
      " [0.46682841 0.53480937 1.         0.50580068 0.42393752 0.49833997]\n",
      " [0.44599604 0.52673854 0.50580068 1.         0.46517493 0.47023754]\n",
      " [0.16569888 0.3306905  0.42393752 0.46517493 1.         0.66190749]\n",
      " [0.36657805 0.59513211 0.49833997 0.47023754 0.66190749 1.        ]]\n"
     ]
    }
   ],
   "source": [
    "m = pairwise_matrix(cohens_kappa, anno_dv.annotations)\n",
    "print(m)"
   ]
  },
  {
   "cell_type": "markdown",
   "metadata": {},
   "source": [
    "Let's visualize that..."
   ]
  },
  {
   "cell_type": "code",
   "execution_count": 70,
   "metadata": {},
   "outputs": [
    {
     "data": {
      "image/png": "[encoded data removed]",
      "text/plain": [
       "<Figure size 432x288 with 2 Axes>"
      ]
     },
     "metadata": {
      "needs_background": "light"
     },
     "output_type": "display_data"
    }
   ],
   "source": [
    "ax = seaborn.heatmap(m)\n",
    "plt.show()"
   ]
  },
  {
   "cell_type": "code",
   "execution_count": 72,
   "metadata": {},
   "outputs": [
    {
     "name": "stdout",
     "output_type": "stream",
     "text": [
      "<itertools.permutations object at 0x0000015A3D944DB0>\n",
      "[0.6242687406382824, 0.4668284140059728, 0.44599603825842177, 0.165698875145287, 0.3665780483964582, 0.6242687406382824, 0.5348093689758858, 0.5267385361287181, 0.3306904960030061, 0.5951321145345342, 0.4668284140059728, 0.5348093689758858, 0.5058006764969304, 0.4239375236286484, 0.49833997331862867, 0.44599603825842177, 0.5267385361287181, 0.5058006764969304, 0.46517492839511415, 0.4702375393319225, 0.165698875145287, 0.3306904960030061, 0.4239375236286484, 0.46517492839511415, 0.6619074935532414, 0.3665780483964582, 0.5951321145345342, 0.49833997331862867, 0.4702375393319225, 0.6619074935532414]\n",
      "[0.6242687406382824, 0.4668284140059728, 0.44599603825842177, 0.165698875145287, 0.3665780483964582, 0.6242687406382824, 0.5348093689758858, 0.5267385361287181, 0.3306904960030061, 0.5951321145345342, 0.4668284140059728, 0.5348093689758858, 0.5058006764969304, 0.4239375236286484, 0.49833997331862867, 0.44599603825842177, 0.5267385361287181, 0.5058006764969304, 0.46517492839511415, 0.4702375393319225, 0.165698875145287, 0.3306904960030061, 0.4239375236286484, 0.46517492839511415, 0.6619074935532414, 0.3665780483964582, 0.5951321145345342, 0.49833997331862867, 0.4702375393319225, 0.6619074935532414]\n"
     ]
    },
    {
     "data": {
      "text/plain": [
       "0.4721425844540702"
      ]
     },
     "execution_count": 72,
     "metadata": {},
     "output_type": "execute_result"
    }
   ],
   "source": [
    "pairwise_metric_average(cohens_kappa, anno_dv.annotations)"
   ]
  },
  {
   "cell_type": "markdown",
   "metadata": {},
   "source": [
    "Let's compute the statistics on each of the datasets and with Pearson's $\\rho$. \n",
    "讓我們計算每個數據集的統計數據，並使用 Pearson 的  𝜌 ."
   ]
  },
  {
   "cell_type": "code",
   "execution_count": 74,
   "metadata": {},
   "outputs": [
    {
     "data": {
      "text/plain": [
       "[array([[1.        , 0.6200715 , 0.55702352, 0.49828947, 0.29373678,\n",
       "         0.42818961],\n",
       "        [0.6200715 , 1.        , 0.58402417, 0.53947334, 0.40099998,\n",
       "         0.60615717],\n",
       "        [0.55702352, 0.58402417, 1.        , 0.52836504, 0.48389922,\n",
       "         0.53848028],\n",
       "        [0.49828947, 0.53947334, 0.52836504, 1.        , 0.47941633,\n",
       "         0.49853498],\n",
       "        [0.29373678, 0.40099998, 0.48389922, 0.47941633, 1.        ,\n",
       "         0.65694952],\n",
       "        [0.42818961, 0.60615717, 0.53848028, 0.49853498, 0.65694952,\n",
       "         1.        ]]),\n",
       " array([[1.        , 0.62432813, 0.39628212, 0.38956517, 0.49796968,\n",
       "         0.44109332],\n",
       "        [0.62432813, 1.        , 0.39134517, 0.42730776, 0.66014381,\n",
       "         0.73802353],\n",
       "        [0.39628212, 0.39134517, 1.        , 0.4219237 , 0.28259668,\n",
       "         0.37560704],\n",
       "        [0.38956517, 0.42730776, 0.4219237 , 1.        , 0.42103368,\n",
       "         0.42707281],\n",
       "        [0.49796968, 0.66014381, 0.28259668, 0.42103368, 1.        ,\n",
       "         0.64518644],\n",
       "        [0.44109332, 0.73802353, 0.37560704, 0.42707281, 0.64518644,\n",
       "         1.        ]]),\n",
       " array([[1.        , 0.63869216, 0.21030735, 0.33494741, 0.45994897,\n",
       "         0.33278324],\n",
       "        [0.63869216, 1.        , 0.172013  , 0.37807595, 0.43894697,\n",
       "         0.3053891 ],\n",
       "        [0.21030735, 0.172013  , 1.        , 0.18843062, 0.15207694,\n",
       "         0.08706123],\n",
       "        [0.33494741, 0.37807595, 0.18843062, 1.        , 0.28985477,\n",
       "         0.29350305],\n",
       "        [0.45994897, 0.43894697, 0.15207694, 0.28985477, 1.        ,\n",
       "         0.4450767 ],\n",
       "        [0.33278324, 0.3053891 , 0.08706123, 0.29350305, 0.4450767 ,\n",
       "         1.        ]]),\n",
       " array([[1.        , 0.61549508, 0.30205433, 0.45003623, 0.40198297,\n",
       "         0.47143746],\n",
       "        [0.61549508, 1.        , 0.19607251, 0.48358406, 0.42704482,\n",
       "         0.49025653],\n",
       "        [0.30205433, 0.19607251, 1.        , 0.26196461, 0.39252317,\n",
       "         0.23104818],\n",
       "        [0.45003623, 0.48358406, 0.26196461, 1.        , 0.49343647,\n",
       "         0.36058747],\n",
       "        [0.40198297, 0.42704482, 0.39252317, 0.49343647, 1.        ,\n",
       "         0.34125529],\n",
       "        [0.47143746, 0.49025653, 0.23104818, 0.36058747, 0.34125529,\n",
       "         1.        ]])]"
      ]
     },
     "execution_count": 74,
     "metadata": {},
     "output_type": "execute_result"
    }
   ],
   "source": [
    "datasets = [anno_dv.annotations, anno_iv.annotations, anno_cv.annotations, anno_ctv.annotations]\n",
    "ck = [pairwise_matrix(cohens_kappa, anno) for anno in datasets]\n",
    "pr = [pairwise_matrix(pearsons_rho, anno) for anno in datasets]\n",
    "titles = ['DV', 'IV', 'Central Variable', \"Control Variable\"]\n",
    "ck\n",
    "pr"
   ]
  },
  {
   "cell_type": "markdown",
   "metadata": {},
   "source": [
    "宣告一個list把上面的annotations資料都放進去\n",
    "再把datasets內的annotations用這pairwise_matrix函式下不同的參數跑出ck跟pr"
   ]
  },
  {
   "cell_type": "markdown",
   "metadata": {},
   "source": [
    "[Python 使用 zip 與 for 迴圈同時對多個 List 進行迭代](https://blog.gtwang.org/programming/python-iterate-through-multiple-lists-in-parallel/)\n",
    "\n",
    "在 Python 中若要將兩個 list 以迴圈的方式一次各取一個元素出來處理，可以使用 zip 打包之後配合 for 迴圈來處理\n"
   ]
  },
  {
   "cell_type": "code",
   "execution_count": 45,
   "metadata": {},
   "outputs": [
    {
     "data": {
      "image/png": "[encoded data removed]",
      "text/plain": [
       "<Figure size 1296x504 with 16 Axes>"
      ]
     },
     "metadata": {
      "needs_background": "light"
     },
     "output_type": "display_data"
    }
   ],
   "source": [
    "fig, axs = plt.subplots(2,4)\n",
    "fig.set_size_inches(18, 7)\n",
    "for k, ax, title in zip(ck,axs[0], titles):\n",
    "    seaborn.heatmap(k, ax = ax)\n",
    "    ax.set_title(title)\n",
    "    ax.set_xticks(())\n",
    "    ax.set_yticks(())\n",
    "for r, ax in zip(pr,axs[1]):\n",
    "    seaborn.heatmap(r, ax = ax)\n",
    "    ax.set_xticks(())\n",
    "    ax.set_yticks(())\n",
    "plt.show()"
   ]
  },
  {
   "cell_type": "markdown",
   "metadata": {},
   "source": [
    "Now we will compare the student coders.\n",
    "現在我們將比較學生編碼器。"
   ]
  },
  {
   "cell_type": "markdown",
   "metadata": {},
   "source": [
    "之前宣告 numpy as np \n",
    "Numpy 是許多 Python 資料科學套件的基礎，讓使用者可以很容易建立向量（Vector）、矩陣（Matrix）等進行高效率的大量資料運算。"
   ]
  },
  {
   "cell_type": "code",
   "execution_count": 77,
   "metadata": {},
   "outputs": [],
   "source": [
    "nondiag = (np.eye(6)-np.ones(6))*-1.0"
   ]
  },
  {
   "cell_type": "markdown",
   "metadata": {},
   "source": [
    "np.eye(6)：生成6*6的矩陣，對角為1其他為0\n",
    "\n",
    "numpy.eye(N, M=None, k=0, dtype=, order='C')\n",
    "- N：表示2D數組中的行數。\n",
    "- M：代表列數。它是一個可選參數，默認情況下等於值N，即多行。\n",
    "- k：該參數用於表示對角線。它是完全可選的。\n",
    "默認情況下，它等於0。正值（k> 0）表示上對角線，負值（k <0）表示下對角線。\n",
    "- dtype：表示返回數組的數據類型。它是完全可選的，默認情況下是浮點數。\n",
    "- order：order參數可以是C_contiguous或F_contiguous。\n",
    "\n",
    "numpy.ones(shape, dtype=None, order='C')：返回給定形狀和類型的新數組，並填充為1。\n",
    "- shape：int 或 sequence of ints，新陣列的形狀，例如(2, 3)或者2。\n",
    "- dtype：data-type, 可選參數，數組所需的數據類型，例如numpy.int8。默認為numpy.float64。\n",
    "- order：{‘C’, ‘F’}, optional, default:C，是否以行優先(C-style)或列優先(Fortran-style)的順序將多維數據存儲在內存中。"
   ]
  },
  {
   "cell_type": "code",
   "execution_count": 78,
   "metadata": {},
   "outputs": [
    {
     "name": "stdout",
     "output_type": "stream",
     "text": [
      "[[1. 0. 0. 0. 0. 0.]\n",
      " [0. 1. 0. 0. 0. 0.]\n",
      " [0. 0. 1. 0. 0. 0.]\n",
      " [0. 0. 0. 1. 0. 0.]\n",
      " [0. 0. 0. 0. 1. 0.]\n",
      " [0. 0. 0. 0. 0. 1.]]\n",
      "--------\n",
      "[1. 1. 1. 1. 1. 1.]\n",
      "--------\n",
      "[[ 0. -1. -1. -1. -1. -1.]\n",
      " [-1.  0. -1. -1. -1. -1.]\n",
      " [-1. -1.  0. -1. -1. -1.]\n",
      " [-1. -1. -1.  0. -1. -1.]\n",
      " [-1. -1. -1. -1.  0. -1.]\n",
      " [-1. -1. -1. -1. -1.  0.]]\n",
      "--------\n",
      "[[-0.  1.  1.  1.  1.  1.]\n",
      " [ 1. -0.  1.  1.  1.  1.]\n",
      " [ 1.  1. -0.  1.  1.  1.]\n",
      " [ 1.  1.  1. -0.  1.  1.]\n",
      " [ 1.  1.  1.  1. -0.  1.]\n",
      " [ 1.  1.  1.  1.  1. -0.]]\n"
     ]
    }
   ],
   "source": [
    "print((np.eye(6)))\n",
    "print(\"--------\")\n",
    "print((np.ones(6)))\n",
    "print(\"--------\")\n",
    "print((np.eye(6)-np.ones(6)))\n",
    "print(\"--------\")\n",
    "print((np.eye(6)-np.ones(6))*-1.0)\n"
   ]
  },
  {
   "cell_type": "code",
   "execution_count": 83,
   "metadata": {},
   "outputs": [
    {
     "name": "stdout",
     "output_type": "stream",
     "text": [
      "[[1.         0.62426874 0.46682841 0.44599604 0.16569888 0.36657805]\n",
      " [0.62426874 1.         0.53480937 0.52673854 0.3306905  0.59513211]\n",
      " [0.46682841 0.53480937 1.         0.50580068 0.42393752 0.49833997]\n",
      " [0.44599604 0.52673854 0.50580068 1.         0.46517493 0.47023754]\n",
      " [0.16569888 0.3306905  0.42393752 0.46517493 1.         0.66190749]\n",
      " [0.36657805 0.59513211 0.49833997 0.47023754 0.66190749 1.        ]]\n",
      "----\n",
      "0.47214258445407015\n",
      "0.5142407278222342\n",
      "0.4529627823703711\n",
      "0.47596526866863437\n",
      "0.27082376869768193\n",
      "0.31514049828362706\n",
      "0.32833477875850064\n",
      "0.3945852779196347\n"
     ]
    }
   ],
   "source": [
    "xdevck = pairwise_matrix(cohens_kappa, anno_dv.annotations)\n",
    "xdevpr = pairwise_matrix(pearsons_rho, anno_dv.annotations)\n",
    "\n",
    "xindck = pairwise_matrix(cohens_kappa, anno_iv.annotations)\n",
    "xindpr = pairwise_matrix(pearsons_rho, anno_iv.annotations)\n",
    "\n",
    "xcenck = pairwise_matrix(cohens_kappa, anno_cv.annotations)\n",
    "xcenpr = pairwise_matrix(pearsons_rho, anno_cv.annotations)\n",
    "\n",
    "xconck = pairwise_matrix(cohens_kappa, anno_ctv.annotations)\n",
    "xconpr = pairwise_matrix(pearsons_rho, anno_ctv.annotations)\n",
    "\n",
    "print(xdevck)\n",
    "print(\"----\");\n",
    "print(np.average(xdevck, weights=nondiag))\n",
    "print(np.average(xdevpr, weights=nondiag))\n",
    "print(np.average(xindck, weights=nondiag))\n",
    "print(np.average(xindpr, weights=nondiag))\n",
    "print(np.average(xcenck, weights=nondiag))\n",
    "print(np.average(xcenpr, weights=nondiag))\n",
    "print(np.average(xconck, weights=nondiag))\n",
    "print(np.average(xconpr, weights=nondiag))"
   ]
  },
  {
   "cell_type": "markdown",
   "metadata": {},
   "source": [
    "np.average：計算平均值\n",
    "\n",
    "nondiag，上面產生的矩陣，用來計算加權"
   ]
  },
  {
   "cell_type": "markdown",
   "metadata": {},
   "source": [
    "Now we are going to bring in \"gold standard\" data. In this case, this is where we asked authors of the articles to code their own article's variables and compare with our student coders.\n",
    "\n",
    "現在我們將引入“黃金標準”數據。在這種情況下，我們要求文章的作者對他們自己的文章變量進行編碼，並與我們的學生編碼人員進行比較。"
   ]
  },
  {
   "cell_type": "code",
   "execution_count": 88,
   "metadata": {},
   "outputs": [
    {
     "data": {
      "text/plain": [
       "array([[0, 0],\n",
       "       [0, 0],\n",
       "       [1, 0],\n",
       "       ...,\n",
       "       [0, 0],\n",
       "       [0, 0],\n",
       "       [0, 0]])"
      ]
     },
     "execution_count": 88,
     "metadata": {},
     "output_type": "execute_result"
    }
   ],
   "source": [
    "mergedata = np.loadtxt(fname=\"../data/dataforgssstudy/gss_mergedataC.txt\", dtype=int, delimiter=\"\\t\")\n",
    "mergedata"
   ]
  },
  {
   "cell_type": "code",
   "execution_count": 89,
   "metadata": {},
   "outputs": [],
   "source": [
    "anno_merge_dep = AnnotationsContainer.from_array(mergedata[:,0:2])\n",
    "anno_merge_ind = AnnotationsContainer.from_array(mergedata[:,2:4])\n",
    "anno_merge_cen = AnnotationsContainer.from_array(mergedata[:,4:6])\n",
    "anno_merge_con = AnnotationsContainer.from_array(mergedata[:,6:8])\n",
    "anno_merge_dkn = AnnotationsContainer.from_array(mergedata[:,8:10])"
   ]
  },
  {
   "cell_type": "code",
   "execution_count": 90,
   "metadata": {},
   "outputs": [
    {
     "name": "stdout",
     "output_type": "stream",
     "text": [
      "Dependent variable -- kappa & rho\n",
      "0.3744311057948666\n",
      "0.3856343720362062\n",
      "\n",
      "Independent variable\n",
      "0.5430690164641346\n",
      "0.5529974941771468\n",
      "\n",
      "Central variable\n",
      "-0.064017189548477\n",
      "-0.08887644319259187\n",
      "\n",
      "Control variable\n",
      "0.2815172499181942\n",
      "0.28239237574620263\n"
     ]
    }
   ],
   "source": [
    "print(\"\"\"Dependent variable -- kappa & rho\"\"\")\n",
    "print(cohens_kappa(anno_merge_dep.annotations[:,0], anno_merge_dep.annotations[:,1]))\n",
    "print(pearsons_rho(anno_merge_dep.annotations[:,0], anno_merge_dep.annotations[:,1]))\n",
    "\n",
    "print(\"\\nIndependent variable\")\n",
    "print(cohens_kappa(anno_merge_ind.annotations[:,0], anno_merge_ind.annotations[:,1]))\n",
    "print(pearsons_rho(anno_merge_ind.annotations[:,0], anno_merge_ind.annotations[:,1]))\n",
    "\n",
    "print(\"\\nCentral variable\")\n",
    "print(cohens_kappa(anno_merge_cen.annotations[:,0], anno_merge_cen.annotations[:,1]))\n",
    "print(pearsons_rho(anno_merge_cen.annotations[:,0], anno_merge_cen.annotations[:,1]))\n",
    "\n",
    "print(\"\\nControl variable\")\n",
    "print(cohens_kappa(anno_merge_con.annotations[:,0], anno_merge_con.annotations[:,1]))\n",
    "print(pearsons_rho(anno_merge_con.annotations[:,0], anno_merge_con.annotations[:,1]))"
   ]
  },
  {
   "cell_type": "markdown",
   "metadata": {},
   "source": [
    "Whoah! Student coders and authors viewed articles that were \"central\" or critical to the published argument as fundamentally different (exhibiting negative agreement and correlation). Why? Likely because that researchers recalled what they had _intended_ as their central variables before analysis, but those that _worked out_ became central in the text."
   ]
  },
  {
   "cell_type": "markdown",
   "metadata": {},
   "source": [
    "Now for the assessment of the relative values of authors, then student coders."
   ]
  },
  {
   "cell_type": "markdown",
   "metadata": {},
   "source": [
    "哇！學生編碼員和作者認為對已發表論點“核心”或關鍵的文章有著根本的不同（表現出負面的一致性和相關性）。為什麼？可能是因為研究人員在分析之前回憶了他們想要作為中心變量的內容，但那些成功的內容成為了文本的中心。\n",
    "\n",
    "現在是評估作者的相對價值，然後是學生編碼員。"
   ]
  },
  {
   "cell_type": "code",
   "execution_count": 91,
   "metadata": {},
   "outputs": [
    {
     "name": "stdout",
     "output_type": "stream",
     "text": [
      "Dependent\n",
      "0.4763912310286678\n",
      "0.35834738617200673\n",
      "\n",
      "Independent\n",
      "0.23777403035413153\n",
      "0.3136593591905565\n",
      "\n",
      "Central\n",
      "0.35328836424957843\n",
      "0.7512647554806071\n",
      "\n",
      "Control\n",
      "0.081787521079258\n",
      "0.09443507588532883\n"
     ]
    }
   ],
   "source": [
    "print(\"Dependent\")\n",
    "print(np.average(anno_merge_dep.annotations[:,0]))\n",
    "print(np.average(anno_merge_dep.annotations[:,1]))\n",
    "\n",
    "print(\"\\nIndependent\")\n",
    "print(np.average(anno_merge_ind.annotations[:,0]))\n",
    "print(np.average(anno_merge_ind.annotations[:,1]))\n",
    "\n",
    "print(\"\\nCentral\")\n",
    "print(np.average(anno_merge_cen.annotations[:,0]))\n",
    "print(np.average(anno_merge_cen.annotations[:,1]))\n",
    "\n",
    "print(\"\\nControl\")\n",
    "print(np.average(anno_merge_con.annotations[:,0]))\n",
    "print(np.average(anno_merge_con.annotations[:,1]))"
   ]
  },
  {
   "cell_type": "markdown",
   "metadata": {},
   "source": [
    "## Now we are going to use models to predict the correct annotations\n",
    "現在我們將使用模型來預測正確的註釋\n",
    "\n",
    "Recall that Model A is built for 8 coders, but we have 6. We're going to *hack* it by adding two blank columns.\n",
    "回想一下，模型 A 是為 8 個編碼員構建的，但我們有 6 個。我們將通過添加兩個空白列來破解它。"
   ]
  },
  {
   "cell_type": "code",
   "execution_count": 93,
   "metadata": {
    "scrolled": true
   },
   "outputs": [
    {
     "data": {
      "text/plain": [
       "(21461, 6)"
      ]
     },
     "execution_count": 93,
     "metadata": {},
     "output_type": "execute_result"
    }
   ],
   "source": [
    "dev.shape"
   ]
  },
  {
   "cell_type": "markdown",
   "metadata": {},
   "source": [
    "numpy.ones(shape, dtype=None, order='C')：返回給定形狀和類型的新數組，並填充為1。\n",
    "- shape：int 或 sequence of ints，新陣列的形狀，例如(2, 3)或者2。\n",
    "- dtype：data-type, 可選參數，數組所需的數據類型，例如numpy.int8。默認為numpy.float64。\n",
    "- order：{‘C’, ‘F’}, optional, default:C，是否以行優先(C-style)或列優先(Fortran-style)的順序將多維數據存儲在內存中。"
   ]
  },
  {
   "cell_type": "code",
   "execution_count": 95,
   "metadata": {},
   "outputs": [
    {
     "data": {
      "text/plain": [
       "array([[-1, -1],\n",
       "       [-1, -1],\n",
       "       [-1, -1],\n",
       "       ...,\n",
       "       [-1, -1],\n",
       "       [-1, -1],\n",
       "       [-1, -1]])"
      ]
     },
     "execution_count": 95,
     "metadata": {},
     "output_type": "execute_result"
    }
   ],
   "source": [
    "np.ones((21461, 2), dtype=np.int)*(-1)"
   ]
  },
  {
   "cell_type": "code",
   "execution_count": 94,
   "metadata": {},
   "outputs": [
    {
     "data": {
      "text/plain": [
       "array([[ 0, -1, -1, ...,  1, -1, -1],\n",
       "       [ 0, -1, -1, ...,  0, -1, -1],\n",
       "       [ 0, -1, -1, ...,  0, -1, -1],\n",
       "       ...,\n",
       "       [-1, -1, -1, ..., -1, -1, -1],\n",
       "       [-1, -1, -1, ..., -1, -1, -1],\n",
       "       [-1, -1, -1, ..., -1, -1, -1]])"
      ]
     },
     "execution_count": 94,
     "metadata": {},
     "output_type": "execute_result"
    }
   ],
   "source": [
    "negs2 = np.ones((21461, 2), dtype=np.int)*(-1)\n",
    "devA = np.concatenate((dev, negs2), axis=1)\n",
    "devA"
   ]
  },
  {
   "cell_type": "code",
   "execution_count": 39,
   "metadata": {},
   "outputs": [
    {
     "data": {
      "text/plain": [
       "array([[-1, -1],\n",
       "       [-1, -1],\n",
       "       [-1, -1],\n",
       "       ...,\n",
       "       [-1, -1],\n",
       "       [-1, -1],\n",
       "       [-1, -1]])"
      ]
     },
     "execution_count": 39,
     "metadata": {},
     "output_type": "execute_result"
    }
   ],
   "source": [
    "negs2"
   ]
  },
  {
   "cell_type": "code",
   "execution_count": 96,
   "metadata": {},
   "outputs": [
    {
     "data": {
      "text/plain": [
       "array([0.70736137, 0.83695175, 0.62113781, 0.65817452, 0.80499504,\n",
       "       0.68318382, 0.89558863, 0.70088665])"
      ]
     },
     "execution_count": 96,
     "metadata": {},
     "output_type": "execute_result"
    }
   ],
   "source": [
    "anno_dvA = AnnotationsContainer.from_array(devA)\n",
    "model_devA = ModelA.create_initial_state(2)\n",
    "model_devA.theta"
   ]
  },
  {
   "cell_type": "code",
   "execution_count": 98,
   "metadata": {},
   "outputs": [
    {
     "name": "stdout",
     "output_type": "stream",
     "text": [
      "[0.6665347 0.3334653]\n",
      "-29606.85091908215\n"
     ]
    }
   ],
   "source": [
    "model_dvB = ModelB.create_initial_state(2, 6)\n",
    "print(model_dvB.pi)\n",
    "print(model_dvB.log_likelihood(anno_dv.annotations))"
   ]
  },
  {
   "cell_type": "code",
   "execution_count": 99,
   "metadata": {},
   "outputs": [
    {
     "name": "stdout",
     "output_type": "stream",
     "text": [
      "[0.69455487 0.30544513]\n",
      "-25462.473635032595\n"
     ]
    }
   ],
   "source": [
    "model_dvB.map(anno_dv.annotations)\n",
    "print(model_dvB.pi)\n",
    "print(model_dvB.log_likelihood(anno_dv.annotations))"
   ]
  },
  {
   "cell_type": "code",
   "execution_count": 100,
   "metadata": {},
   "outputs": [
    {
     "name": "stdout",
     "output_type": "stream",
     "text": [
      "[[0.01110295 0.28941038 0.36488451 0.33460216]\n",
      " [0.99022912 0.0024173  0.00404711 0.00330647]\n",
      " [0.00249889 0.05505596 0.93461645 0.00782869]\n",
      " ...\n",
      " [0.0025283  0.04393703 0.94561386 0.00792081]\n",
      " [0.00249331 0.00571063 0.93252901 0.05926704]\n",
      " [0.03188686 0.93883169 0.01611531 0.01316613]]\n"
     ]
    }
   ],
   "source": [
    "# compute the posterior distribution over true annotations\n",
    "posterior_dvB = model_dvB.infer_labels(anno_dv.annotations)\n",
    "# each row show the probability of each label class for the\n",
    "# corresponding item\n",
    "print(posterior)"
   ]
  },
  {
   "cell_type": "code",
   "execution_count": 101,
   "metadata": {},
   "outputs": [],
   "source": [
    "samples_dvB = model_dvB.sample_posterior_over_accuracy(anno_dv.annotations, 200, burn_in_samples=100, thin_samples=3)"
   ]
  },
  {
   "cell_type": "markdown",
   "metadata": {},
   "source": [
    "print(\"\\n\")：換行"
   ]
  },
  {
   "cell_type": "code",
   "execution_count": 59,
   "metadata": {},
   "outputs": [
    {
     "name": "stdout",
     "output_type": "stream",
     "text": [
      "Mean\n",
      "[[[0.97897223 0.02102777]\n",
      "  [0.51454802 0.48545198]]\n",
      "\n",
      " [[0.96846188 0.03153812]\n",
      "  [0.258171   0.741829  ]]\n",
      "\n",
      " [[0.98240048 0.01759952]\n",
      "  [0.34532174 0.65467826]]\n",
      "\n",
      " [[0.9338791  0.0661209 ]\n",
      "  [0.23961877 0.76038123]]\n",
      "\n",
      " [[0.69202284 0.30797716]\n",
      "  [0.0457214  0.9542786 ]]\n",
      "\n",
      " [[0.86254389 0.13745611]\n",
      "  [0.06859404 0.93140596]]]\n",
      "\n",
      "STD\n",
      "[[[0.00208558 0.00208558]\n",
      "  [0.01144073 0.01144073]]\n",
      "\n",
      " [[0.00298093 0.00298093]\n",
      "  [0.01279121 0.01279121]]\n",
      "\n",
      " [[0.00317605 0.00317605]\n",
      "  [0.01347967 0.01347967]]\n",
      "\n",
      " [[0.00492921 0.00492921]\n",
      "  [0.01149928 0.01149928]]\n",
      "\n",
      " [[0.00703396 0.00703396]\n",
      "  [0.00615834 0.00615834]]\n",
      "\n",
      " [[0.00707492 0.00707492]\n",
      "  [0.00670185 0.00670185]]]\n"
     ]
    }
   ],
   "source": [
    "# we can then compute a credible interval for the parameters:\n",
    "ci_dv_mean = samples_dvB[0].mean(axis=0)\n",
    "print(\"Mean\")\n",
    "print(ci_dv_mean)\n",
    "\n",
    "ci_dv_stdev = samples_dvB[0].std(axis=0)\n",
    "print(\"\\nSTD\")\n",
    "print(ci_dv_stdev)\n"
   ]
  },
  {
   "cell_type": "markdown",
   "metadata": {},
   "source": [
    "We will use Model B estimates for other variable assessments.\n",
    "我們將使用模型 B 估計其他變量評估。"
   ]
  },
  {
   "cell_type": "markdown",
   "metadata": {},
   "source": [
    "http://docs.enthought.com/uchicago-pyanno/modules.html\n",
    "\n",
    "create_initial_state：Factory method returning a model with random initial parameters.返回具有隨機初始參數的模型的工廠方法\n",
    "log_likelihood：Compute the log likelihood of a set of annotations given the model. 計算給定模型的一組註釋的對數似然。\n",
    "map：Computes maximum a posteriori (MAP) estimation of parameters.計算參數的最大後驗 ( MAP ) 估計。"
   ]
  },
  {
   "cell_type": "code",
   "execution_count": 104,
   "metadata": {},
   "outputs": [
    {
     "name": "stdout",
     "output_type": "stream",
     "text": [
      "-116.14723099836066\n",
      "[9.20933481e-20 1.00000000e+00]\n",
      "-48.9756711393957\n",
      "(48, 6)\n",
      "(48, 2)\n",
      "[[[0.79671949 0.20328051]\n",
      "  [0.12300009 0.87699991]]\n",
      "\n",
      " [[0.78432049 0.21567951]\n",
      "  [0.08444893 0.91555107]]\n",
      "\n",
      " [[0.80340376 0.19659624]\n",
      "  [0.49266452 0.50733548]]\n",
      "\n",
      " [[0.79413589 0.20586411]\n",
      "  [0.07216869 0.92783131]]\n",
      "\n",
      " [[0.8048094  0.1951906 ]\n",
      "  [0.35563852 0.64436148]]\n",
      "\n",
      " [[0.80264447 0.19735553]\n",
      "  [0.12434052 0.87565948]]]\n"
     ]
    }
   ],
   "source": [
    "#test\n",
    "model_testB = ModelB.create_initial_state(2, 6)\n",
    "print(model_testB.log_likelihood(anno_test.annotations))\n",
    "model_testB.map(anno_test.annotations)\n",
    "print(model_testB.pi)\n",
    "print(model_testB.log_likelihood(anno_test.annotations))\n",
    "print(anno_test.annotations.shape)\n",
    "posterior_testB = model_testB.infer_labels(anno_test.annotations)\n",
    "print(posterior_testB.shape)\n",
    "samples_testB = model_testB.sample_posterior_over_accuracy(anno_test.annotations, 200, burn_in_samples=100, thin_samples=3)\n",
    "ci_test_mean = samples_testB[0].mean(axis=0)\n",
    "print(ci_test_mean)"
   ]
  },
  {
   "cell_type": "code",
   "execution_count": 105,
   "metadata": {},
   "outputs": [
    {
     "name": "stdout",
     "output_type": "stream",
     "text": [
      "-33919.76837247147\n"
     ]
    },
    {
     "ename": "KeyboardInterrupt",
     "evalue": "",
     "output_type": "error",
     "traceback": [
      "\u001b[1;31m---------------------------------------------------------------------------\u001b[0m",
      "\u001b[1;31mKeyboardInterrupt\u001b[0m                         Traceback (most recent call last)",
      "\u001b[1;32m<ipython-input-105-8d8ae4097c2b>\u001b[0m in \u001b[0;36m<module>\u001b[1;34m\u001b[0m\n\u001b[0;32m      2\u001b[0m \u001b[0mmodel_ivB\u001b[0m \u001b[1;33m=\u001b[0m \u001b[0mModelB\u001b[0m\u001b[1;33m.\u001b[0m\u001b[0mcreate_initial_state\u001b[0m\u001b[1;33m(\u001b[0m\u001b[1;36m2\u001b[0m\u001b[1;33m,\u001b[0m \u001b[1;36m6\u001b[0m\u001b[1;33m)\u001b[0m\u001b[1;33m\u001b[0m\u001b[1;33m\u001b[0m\u001b[0m\n\u001b[0;32m      3\u001b[0m \u001b[0mprint\u001b[0m\u001b[1;33m(\u001b[0m\u001b[0mmodel_ivB\u001b[0m\u001b[1;33m.\u001b[0m\u001b[0mlog_likelihood\u001b[0m\u001b[1;33m(\u001b[0m\u001b[0manno_iv\u001b[0m\u001b[1;33m.\u001b[0m\u001b[0mannotations\u001b[0m\u001b[1;33m)\u001b[0m\u001b[1;33m)\u001b[0m\u001b[1;33m\u001b[0m\u001b[1;33m\u001b[0m\u001b[0m\n\u001b[1;32m----> 4\u001b[1;33m \u001b[0mmodel_ivB\u001b[0m\u001b[1;33m.\u001b[0m\u001b[0mmap\u001b[0m\u001b[1;33m(\u001b[0m\u001b[0manno_iv\u001b[0m\u001b[1;33m.\u001b[0m\u001b[0mannotations\u001b[0m\u001b[1;33m)\u001b[0m\u001b[1;33m\u001b[0m\u001b[1;33m\u001b[0m\u001b[0m\n\u001b[0m\u001b[0;32m      5\u001b[0m \u001b[0mprint\u001b[0m\u001b[1;33m(\u001b[0m\u001b[0mmodel_ivB\u001b[0m\u001b[1;33m.\u001b[0m\u001b[0mpi\u001b[0m\u001b[1;33m)\u001b[0m\u001b[1;33m\u001b[0m\u001b[1;33m\u001b[0m\u001b[0m\n\u001b[0;32m      6\u001b[0m \u001b[0mprint\u001b[0m\u001b[1;33m(\u001b[0m\u001b[0mmodel_ivB\u001b[0m\u001b[1;33m.\u001b[0m\u001b[0mlog_likelihood\u001b[0m\u001b[1;33m(\u001b[0m\u001b[0manno_iv\u001b[0m\u001b[1;33m.\u001b[0m\u001b[0mannotations\u001b[0m\u001b[1;33m)\u001b[0m\u001b[1;33m)\u001b[0m\u001b[1;33m\u001b[0m\u001b[1;33m\u001b[0m\u001b[0m\n",
      "\u001b[1;32mH:\\anaconda3\\lib\\site-packages\\pyanno\\modelB.py\u001b[0m in \u001b[0;36mmap\u001b[1;34m(self, annotations, epsilon, init_accuracy, max_epochs)\u001b[0m\n\u001b[0;32m    316\u001b[0m \u001b[1;33m\u001b[0m\u001b[0m\n\u001b[0;32m    317\u001b[0m         \u001b[0mmap_em_generator\u001b[0m \u001b[1;33m=\u001b[0m \u001b[0mself\u001b[0m\u001b[1;33m.\u001b[0m\u001b[0m_map_em_step\u001b[0m\u001b[1;33m(\u001b[0m\u001b[0mannotations\u001b[0m\u001b[1;33m,\u001b[0m \u001b[0minit_accuracy\u001b[0m\u001b[1;33m)\u001b[0m\u001b[1;33m\u001b[0m\u001b[1;33m\u001b[0m\u001b[0m\n\u001b[1;32m--> 318\u001b[1;33m         \u001b[0mself\u001b[0m\u001b[1;33m.\u001b[0m\u001b[0m_parameter_estimation\u001b[0m\u001b[1;33m(\u001b[0m\u001b[0mmap_em_generator\u001b[0m\u001b[1;33m,\u001b[0m \u001b[0mepsilon\u001b[0m\u001b[1;33m,\u001b[0m \u001b[0mmax_epochs\u001b[0m\u001b[1;33m)\u001b[0m\u001b[1;33m\u001b[0m\u001b[1;33m\u001b[0m\u001b[0m\n\u001b[0m\u001b[0;32m    319\u001b[0m \u001b[1;33m\u001b[0m\u001b[0m\n\u001b[0;32m    320\u001b[0m \u001b[1;33m\u001b[0m\u001b[0m\n",
      "\u001b[1;32mH:\\anaconda3\\lib\\site-packages\\pyanno\\modelB.py\u001b[0m in \u001b[0;36m_parameter_estimation\u001b[1;34m(self, learning_iterator, epsilon, max_epochs)\u001b[0m\n\u001b[0;32m    362\u001b[0m         \u001b[0mobj_history\u001b[0m \u001b[1;33m=\u001b[0m \u001b[1;33m[\u001b[0m\u001b[1;33m]\u001b[0m\u001b[1;33m\u001b[0m\u001b[1;33m\u001b[0m\u001b[0m\n\u001b[0;32m    363\u001b[0m         \u001b[0mdiff\u001b[0m \u001b[1;33m=\u001b[0m \u001b[0mnp\u001b[0m\u001b[1;33m.\u001b[0m\u001b[0minf\u001b[0m\u001b[1;33m\u001b[0m\u001b[1;33m\u001b[0m\u001b[0m\n\u001b[1;32m--> 364\u001b[1;33m         \u001b[1;32mfor\u001b[0m \u001b[0mobjective\u001b[0m\u001b[1;33m,\u001b[0m \u001b[0mprev_est\u001b[0m\u001b[1;33m,\u001b[0m \u001b[0mcat_est\u001b[0m\u001b[1;33m,\u001b[0m \u001b[0macc_est\u001b[0m \u001b[1;32min\u001b[0m \u001b[0mlearning_iterator\u001b[0m\u001b[1;33m:\u001b[0m\u001b[1;33m\u001b[0m\u001b[1;33m\u001b[0m\u001b[0m\n\u001b[0m\u001b[0;32m    365\u001b[0m             \u001b[0mlogger\u001b[0m\u001b[1;33m.\u001b[0m\u001b[0minfo\u001b[0m\u001b[1;33m(\u001b[0m\u001b[0minfo_str\u001b[0m\u001b[1;33m.\u001b[0m\u001b[0mformat\u001b[0m\u001b[1;33m(\u001b[0m\u001b[0mepoch\u001b[0m\u001b[1;33m,\u001b[0m \u001b[0mobjective\u001b[0m\u001b[1;33m,\u001b[0m \u001b[0mdiff\u001b[0m\u001b[1;33m)\u001b[0m\u001b[1;33m)\u001b[0m\u001b[1;33m\u001b[0m\u001b[1;33m\u001b[0m\u001b[0m\n\u001b[0;32m    366\u001b[0m \u001b[1;33m\u001b[0m\u001b[0m\n",
      "\u001b[1;32mH:\\anaconda3\\lib\\site-packages\\pyanno\\modelB.py\u001b[0m in \u001b[0;36m_map_em_step\u001b[1;34m(self, annotations, init_accuracy)\u001b[0m\n\u001b[0;32m    431\u001b[0m             \u001b[1;31m# update parameters to maximize likelihood\u001b[0m\u001b[1;33m\u001b[0m\u001b[1;33m\u001b[0m\u001b[1;33m\u001b[0m\u001b[0m\n\u001b[0;32m    432\u001b[0m             \u001b[0mprevalence\u001b[0m \u001b[1;33m=\u001b[0m \u001b[0mself\u001b[0m\u001b[1;33m.\u001b[0m\u001b[0m_compute_prevalence\u001b[0m\u001b[1;33m(\u001b[0m\u001b[0mcategory\u001b[0m\u001b[1;33m)\u001b[0m\u001b[1;33m\u001b[0m\u001b[1;33m\u001b[0m\u001b[0m\n\u001b[1;32m--> 433\u001b[1;33m             accuracy = self._compute_accuracy(category, annotations,\n\u001b[0m\u001b[0;32m    434\u001b[0m                                               use_prior=True)\n\u001b[0;32m    435\u001b[0m \u001b[1;33m\u001b[0m\u001b[0m\n",
      "\u001b[1;32mH:\\anaconda3\\lib\\site-packages\\pyanno\\modelB.py\u001b[0m in \u001b[0;36m_compute_accuracy\u001b[1;34m(self, category, annotations, use_prior)\u001b[0m\n\u001b[0;32m    515\u001b[0m         \u001b[1;32mfor\u001b[0m \u001b[0mi\u001b[0m \u001b[1;32min\u001b[0m \u001b[0mrange\u001b[0m\u001b[1;33m(\u001b[0m\u001b[0mnitems\u001b[0m\u001b[1;33m)\u001b[0m\u001b[1;33m:\u001b[0m\u001b[1;33m\u001b[0m\u001b[1;33m\u001b[0m\u001b[0m\n\u001b[0;32m    516\u001b[0m             \u001b[0mvalid\u001b[0m \u001b[1;33m=\u001b[0m \u001b[0mvalid_mask\u001b[0m\u001b[1;33m[\u001b[0m\u001b[0mi\u001b[0m\u001b[1;33m,\u001b[0m\u001b[1;33m:\u001b[0m\u001b[1;33m]\u001b[0m\u001b[1;33m\u001b[0m\u001b[1;33m\u001b[0m\u001b[0m\n\u001b[1;32m--> 517\u001b[1;33m             \u001b[0maccuracy\u001b[0m\u001b[1;33m[\u001b[0m\u001b[0mannotators\u001b[0m\u001b[1;33m[\u001b[0m\u001b[1;33m:\u001b[0m\u001b[1;33m,\u001b[0m\u001b[0mvalid\u001b[0m\u001b[1;33m]\u001b[0m\u001b[1;33m,\u001b[0m\u001b[1;33m:\u001b[0m\u001b[1;33m,\u001b[0m\u001b[0mannotations\u001b[0m\u001b[1;33m[\u001b[0m\u001b[0mi\u001b[0m\u001b[1;33m,\u001b[0m\u001b[0mvalid\u001b[0m\u001b[1;33m]\u001b[0m\u001b[1;33m]\u001b[0m \u001b[1;33m+=\u001b[0m \u001b[0mcategory\u001b[0m\u001b[1;33m[\u001b[0m\u001b[0mi\u001b[0m\u001b[1;33m,\u001b[0m\u001b[1;33m:\u001b[0m\u001b[1;33m]\u001b[0m\u001b[1;33m\u001b[0m\u001b[1;33m\u001b[0m\u001b[0m\n\u001b[0m\u001b[0;32m    518\u001b[0m         \u001b[0maccuracy\u001b[0m \u001b[1;33m/=\u001b[0m \u001b[0maccuracy\u001b[0m\u001b[1;33m.\u001b[0m\u001b[0msum\u001b[0m\u001b[1;33m(\u001b[0m\u001b[1;36m2\u001b[0m\u001b[1;33m)\u001b[0m\u001b[1;33m[\u001b[0m\u001b[1;33m:\u001b[0m\u001b[1;33m,\u001b[0m \u001b[1;33m:\u001b[0m\u001b[1;33m,\u001b[0m \u001b[1;32mNone\u001b[0m\u001b[1;33m]\u001b[0m\u001b[1;33m\u001b[0m\u001b[1;33m\u001b[0m\u001b[0m\n\u001b[0;32m    519\u001b[0m \u001b[1;33m\u001b[0m\u001b[0m\n",
      "\u001b[1;31mKeyboardInterrupt\u001b[0m: "
     ]
    }
   ],
   "source": [
    "#indepedent variables\n",
    "model_ivB = ModelB.create_initial_state(2, 6)\n",
    "print(model_ivB.log_likelihood(anno_iv.annotations))\n",
    "model_ivB.map(anno_iv.annotations)\n",
    "print(model_ivB.pi)\n",
    "print(model_ivB.log_likelihood(anno_iv.annotations))\n",
    "print(anno_iv.annotations.shape)\n",
    "posterior_ivB = model_ivB.infer_labels(anno_iv.annotations)\n",
    "print(posterior_ivB.shape)\n",
    "samples_ivB = model_ivB.sample_posterior_over_accuracy(anno_iv.annotations, 200, burn_in_samples=100, thin_samples=3)\n",
    "ci_iv_mean = samples_ivB[0].mean(axis=0)\n",
    "print(ci_iv_mean)\n",
    "\n",
    "#central variables\n",
    "model_cvB = ModelB.create_initial_state(2, 6)\n",
    "print(model_cvB.log_likelihood(anno_cv.annotations))\n",
    "model_cvB.map(anno_cv.annotations)\n",
    "print(model_cvB.pi)\n",
    "print(model_cvB.log_likelihood(anno_cv.annotations))\n",
    "print(anno_cv.annotations.shape)\n",
    "posterior_cvB = model_cvB.infer_labels(anno_cv.annotations)\n",
    "print(posterior_cvB.shape)\n",
    "samples_cvB = model_cvB.sample_posterior_over_accuracy(anno_cv.annotations, 200, burn_in_samples=100, thin_samples=3)\n",
    "ci_cv_mean = samples_cvB[0].mean(axis=0)\n",
    "print(ci_cv_mean)\n",
    "\n",
    "#control variables\n",
    "model_ctvB = ModelB.create_initial_state(2, 6)\n",
    "print(model_ctvB.log_likelihood(anno_ctv.annotations))\n",
    "model_ctvB.map(anno_ctv.annotations)\n",
    "print(model_ctvB.pi)\n",
    "print(model_ctvB.log_likelihood(anno_ctv.annotations))\n",
    "print(anno_ctv.annotations.shape)\n",
    "posterior_ctvB = model_ctvB.infer_labels(anno_ctv.annotations)\n",
    "print(posterior_ctvB.shape)\n",
    "samples_ctvB = model_ctvB.sample_posterior_over_accuracy(anno_iv.annotations, 200, burn_in_samples=100, thin_samples=3)\n",
    "ci_ctv_mean = samples_ctvB[0].mean(axis=0)\n",
    "print(ci_ctv_mean)"
   ]
  },
  {
   "cell_type": "markdown",
   "metadata": {},
   "source": [
    "Now we will package up the predicted data into a format we can use for other, subsequent analysis:\n",
    "現在我們將預測數據打包成一種格式，我們可以用於其他後續分析："
   ]
  },
  {
   "cell_type": "code",
   "execution_count": null,
   "metadata": {},
   "outputs": [],
   "source": [
    "print(posterior_dvB.shape)\n",
    "print(posterior_ivB.shape)\n",
    "print(posterior_cvB.shape)\n",
    "print(posterior_ctvB.shape)"
   ]
  },
  {
   "cell_type": "code",
   "execution_count": null,
   "metadata": {},
   "outputs": [],
   "source": [
    "predicted_annotations = np.concatenate((posterior_dvB, posterior_ivB, posterior_cvB, posterior_ctvB), axis=1) # posterior_dvBt, posterior_ivBt, posterior_cvBt, posterior_ctvBt), axis=1)"
   ]
  },
  {
   "cell_type": "markdown",
   "metadata": {},
   "source": [
    "concatenate：將矩陣合併/拼接起來\n",
    "另外需要指定拼接的方向，預設是 axis = 0，也就是說對0軸的陣列物件進行縱向的拼接（縱向的拼接沿著axis= 1方向）；注：一般axis = 0，就是對該軸向的陣列進行操作，操作方向是另外一個軸，即axis=1。\n"
   ]
  },
  {
   "cell_type": "code",
   "execution_count": null,
   "metadata": {},
   "outputs": [],
   "source": [
    "predicted_annotations.shape"
   ]
  },
  {
   "cell_type": "markdown",
   "metadata": {},
   "source": [
    "These annotations allowed us to uncover the degree to which social scientists alter their models to achieve a better fit...undocumented data mining. The answer was that social scientists did mine their data, but that it likely improved their analysis because change in the social world was the result of greater distortion than undocumented data mining.\n",
    "\n",
    "這些註釋使我們能夠揭示社會科學家在多大程度上改變了他們的模型以實現更好的擬合……未記錄的數據挖掘。答案是社會科學家確實挖掘了他們的數據，但它可能改進了他們的分析，因為社會世界的變化是比無證數據挖掘更大的扭曲結果。"
   ]
  },
  {
   "cell_type": "markdown",
   "metadata": {},
   "source": [
    "## Another example analysis looks at a different data set of Hotel Reviews by a variety of patrons. 另一個示例分析著眼於各種顧客的不同酒店評論數據集。"
   ]
  },
  {
   "cell_type": "markdown",
   "metadata": {},
   "source": [
    "讀取CSV變成dataFrame，並用第0列當作索引\n",
    "也可以指定用欄位名稱， index_col =\"Scott\"\n",
    "\n",
    "[Day09Pandas索引的運用！](https://ithelp.ithome.com.tw/articles/10194006)"
   ]
  },
  {
   "cell_type": "code",
   "execution_count": 106,
   "metadata": {},
   "outputs": [
    {
     "data": {
      "text/html": [
       "<div>\n",
       "<style scoped>\n",
       "    .dataframe tbody tr th:only-of-type {\n",
       "        vertical-align: middle;\n",
       "    }\n",
       "\n",
       "    .dataframe tbody tr th {\n",
       "        vertical-align: top;\n",
       "    }\n",
       "\n",
       "    .dataframe thead th {\n",
       "        text-align: right;\n",
       "    }\n",
       "</style>\n",
       "<table border=\"1\" class=\"dataframe\">\n",
       "  <thead>\n",
       "    <tr style=\"text-align: right;\">\n",
       "      <th></th>\n",
       "      <th>Karen</th>\n",
       "      <th>Scott</th>\n",
       "      <th>Jessica</th>\n",
       "      <th>write a review</th>\n",
       "      <th>A verified traveler</th>\n",
       "      <th>Kevin</th>\n",
       "      <th>William</th>\n",
       "      <th>R</th>\n",
       "      <th>S</th>\n",
       "      <th>Christopher</th>\n",
       "      <th>...</th>\n",
       "      <th>Thomas</th>\n",
       "      <th>Susan</th>\n",
       "      <th>A Traveler</th>\n",
       "      <th>M</th>\n",
       "      <th>Not Provided</th>\n",
       "      <th>B</th>\n",
       "      <th>Laura</th>\n",
       "      <th>xxxxxxxxxxxxxx</th>\n",
       "      <th>Michael</th>\n",
       "      <th>Joseph</th>\n",
       "    </tr>\n",
       "  </thead>\n",
       "  <tbody>\n",
       "    <tr>\n",
       "      <th>1785 Inn</th>\n",
       "      <td>NaN</td>\n",
       "      <td>NaN</td>\n",
       "      <td>NaN</td>\n",
       "      <td>NaN</td>\n",
       "      <td>NaN</td>\n",
       "      <td>NaN</td>\n",
       "      <td>NaN</td>\n",
       "      <td>NaN</td>\n",
       "      <td>NaN</td>\n",
       "      <td>NaN</td>\n",
       "      <td>...</td>\n",
       "      <td>NaN</td>\n",
       "      <td>NaN</td>\n",
       "      <td>NaN</td>\n",
       "      <td>NaN</td>\n",
       "      <td>NaN</td>\n",
       "      <td>NaN</td>\n",
       "      <td>NaN</td>\n",
       "      <td>NaN</td>\n",
       "      <td>NaN</td>\n",
       "      <td>NaN</td>\n",
       "    </tr>\n",
       "    <tr>\n",
       "      <th>1900 House</th>\n",
       "      <td>NaN</td>\n",
       "      <td>NaN</td>\n",
       "      <td>NaN</td>\n",
       "      <td>NaN</td>\n",
       "      <td>NaN</td>\n",
       "      <td>NaN</td>\n",
       "      <td>NaN</td>\n",
       "      <td>NaN</td>\n",
       "      <td>NaN</td>\n",
       "      <td>NaN</td>\n",
       "      <td>...</td>\n",
       "      <td>NaN</td>\n",
       "      <td>NaN</td>\n",
       "      <td>NaN</td>\n",
       "      <td>NaN</td>\n",
       "      <td>NaN</td>\n",
       "      <td>NaN</td>\n",
       "      <td>NaN</td>\n",
       "      <td>NaN</td>\n",
       "      <td>NaN</td>\n",
       "      <td>NaN</td>\n",
       "    </tr>\n",
       "    <tr>\n",
       "      <th>A Bed &amp; Breakfast In Cambridge</th>\n",
       "      <td>NaN</td>\n",
       "      <td>NaN</td>\n",
       "      <td>NaN</td>\n",
       "      <td>NaN</td>\n",
       "      <td>NaN</td>\n",
       "      <td>NaN</td>\n",
       "      <td>NaN</td>\n",
       "      <td>NaN</td>\n",
       "      <td>NaN</td>\n",
       "      <td>NaN</td>\n",
       "      <td>...</td>\n",
       "      <td>NaN</td>\n",
       "      <td>NaN</td>\n",
       "      <td>3.0</td>\n",
       "      <td>NaN</td>\n",
       "      <td>NaN</td>\n",
       "      <td>NaN</td>\n",
       "      <td>NaN</td>\n",
       "      <td>NaN</td>\n",
       "      <td>NaN</td>\n",
       "      <td>NaN</td>\n",
       "    </tr>\n",
       "    <tr>\n",
       "      <th>A Swallow's Nest Motel</th>\n",
       "      <td>NaN</td>\n",
       "      <td>NaN</td>\n",
       "      <td>NaN</td>\n",
       "      <td>NaN</td>\n",
       "      <td>NaN</td>\n",
       "      <td>NaN</td>\n",
       "      <td>NaN</td>\n",
       "      <td>NaN</td>\n",
       "      <td>NaN</td>\n",
       "      <td>NaN</td>\n",
       "      <td>...</td>\n",
       "      <td>NaN</td>\n",
       "      <td>NaN</td>\n",
       "      <td>NaN</td>\n",
       "      <td>NaN</td>\n",
       "      <td>NaN</td>\n",
       "      <td>NaN</td>\n",
       "      <td>NaN</td>\n",
       "      <td>NaN</td>\n",
       "      <td>NaN</td>\n",
       "      <td>NaN</td>\n",
       "    </tr>\n",
       "    <tr>\n",
       "      <th>Abbeville Inn</th>\n",
       "      <td>NaN</td>\n",
       "      <td>NaN</td>\n",
       "      <td>NaN</td>\n",
       "      <td>NaN</td>\n",
       "      <td>NaN</td>\n",
       "      <td>NaN</td>\n",
       "      <td>NaN</td>\n",
       "      <td>NaN</td>\n",
       "      <td>NaN</td>\n",
       "      <td>NaN</td>\n",
       "      <td>...</td>\n",
       "      <td>NaN</td>\n",
       "      <td>NaN</td>\n",
       "      <td>NaN</td>\n",
       "      <td>NaN</td>\n",
       "      <td>NaN</td>\n",
       "      <td>NaN</td>\n",
       "      <td>NaN</td>\n",
       "      <td>NaN</td>\n",
       "      <td>NaN</td>\n",
       "      <td>NaN</td>\n",
       "    </tr>\n",
       "  </tbody>\n",
       "</table>\n",
       "<p>5 rows × 49 columns</p>\n",
       "</div>"
      ],
      "text/plain": [
       "                                Karen  Scott  Jessica  write a review  \\\n",
       "1785 Inn                          NaN    NaN      NaN             NaN   \n",
       "1900 House                        NaN    NaN      NaN             NaN   \n",
       "A Bed & Breakfast In Cambridge    NaN    NaN      NaN             NaN   \n",
       "A Swallow's Nest Motel            NaN    NaN      NaN             NaN   \n",
       "Abbeville Inn                     NaN    NaN      NaN             NaN   \n",
       "\n",
       "                                A verified traveler  Kevin  William   R   S  \\\n",
       "1785 Inn                                        NaN    NaN      NaN NaN NaN   \n",
       "1900 House                                      NaN    NaN      NaN NaN NaN   \n",
       "A Bed & Breakfast In Cambridge                  NaN    NaN      NaN NaN NaN   \n",
       "A Swallow's Nest Motel                          NaN    NaN      NaN NaN NaN   \n",
       "Abbeville Inn                                   NaN    NaN      NaN NaN NaN   \n",
       "\n",
       "                                Christopher  ...  Thomas  Susan  A Traveler  \\\n",
       "1785 Inn                                NaN  ...     NaN    NaN         NaN   \n",
       "1900 House                              NaN  ...     NaN    NaN         NaN   \n",
       "A Bed & Breakfast In Cambridge          NaN  ...     NaN    NaN         3.0   \n",
       "A Swallow's Nest Motel                  NaN  ...     NaN    NaN         NaN   \n",
       "Abbeville Inn                           NaN  ...     NaN    NaN         NaN   \n",
       "\n",
       "                                 M  Not Provided   B  Laura  xxxxxxxxxxxxxx  \\\n",
       "1785 Inn                       NaN           NaN NaN    NaN             NaN   \n",
       "1900 House                     NaN           NaN NaN    NaN             NaN   \n",
       "A Bed & Breakfast In Cambridge NaN           NaN NaN    NaN             NaN   \n",
       "A Swallow's Nest Motel         NaN           NaN NaN    NaN             NaN   \n",
       "Abbeville Inn                  NaN           NaN NaN    NaN             NaN   \n",
       "\n",
       "                                Michael  Joseph  \n",
       "1785 Inn                            NaN     NaN  \n",
       "1900 House                          NaN     NaN  \n",
       "A Bed & Breakfast In Cambridge      NaN     NaN  \n",
       "A Swallow's Nest Motel              NaN     NaN  \n",
       "Abbeville Inn                       NaN     NaN  \n",
       "\n",
       "[5 rows x 49 columns]"
      ]
     },
     "execution_count": 106,
     "metadata": {},
     "output_type": "execute_result"
    }
   ],
   "source": [
    "df_hotels = pandas.read_csv('../data/hot_Reviews.csv', index_col=0)\n",
    "df_hotels[:5]"
   ]
  },
  {
   "cell_type": "markdown",
   "metadata": {},
   "source": [
    "Here a rank of 0 is a missing value and to simplify things more we will convert from a 1-10 scale to a 1-5 scale, with 0 as missing\n",
    "\n",
    "這裡 0 的等級是一個缺失值，為了簡化事情，我們將從 1-10 的比例轉換為 1-5 的比例，0 表示缺失"
   ]
  },
  {
   "cell_type": "code",
   "execution_count": 107,
   "metadata": {},
   "outputs": [
    {
     "data": {
      "text/html": [
       "<div>\n",
       "<style scoped>\n",
       "    .dataframe tbody tr th:only-of-type {\n",
       "        vertical-align: middle;\n",
       "    }\n",
       "\n",
       "    .dataframe tbody tr th {\n",
       "        vertical-align: top;\n",
       "    }\n",
       "\n",
       "    .dataframe thead th {\n",
       "        text-align: right;\n",
       "    }\n",
       "</style>\n",
       "<table border=\"1\" class=\"dataframe\">\n",
       "  <thead>\n",
       "    <tr style=\"text-align: right;\">\n",
       "      <th></th>\n",
       "      <th>Karen</th>\n",
       "      <th>Scott</th>\n",
       "      <th>Jessica</th>\n",
       "      <th>write a review</th>\n",
       "      <th>A verified traveler</th>\n",
       "      <th>Kevin</th>\n",
       "      <th>William</th>\n",
       "      <th>R</th>\n",
       "      <th>S</th>\n",
       "      <th>Christopher</th>\n",
       "      <th>...</th>\n",
       "      <th>Thomas</th>\n",
       "      <th>Susan</th>\n",
       "      <th>A Traveler</th>\n",
       "      <th>M</th>\n",
       "      <th>Not Provided</th>\n",
       "      <th>B</th>\n",
       "      <th>Laura</th>\n",
       "      <th>xxxxxxxxxxxxxx</th>\n",
       "      <th>Michael</th>\n",
       "      <th>Joseph</th>\n",
       "    </tr>\n",
       "  </thead>\n",
       "  <tbody>\n",
       "    <tr>\n",
       "      <th>1785 Inn</th>\n",
       "      <td>NaN</td>\n",
       "      <td>NaN</td>\n",
       "      <td>NaN</td>\n",
       "      <td>NaN</td>\n",
       "      <td>NaN</td>\n",
       "      <td>NaN</td>\n",
       "      <td>NaN</td>\n",
       "      <td>NaN</td>\n",
       "      <td>NaN</td>\n",
       "      <td>NaN</td>\n",
       "      <td>...</td>\n",
       "      <td>NaN</td>\n",
       "      <td>NaN</td>\n",
       "      <td>NaN</td>\n",
       "      <td>NaN</td>\n",
       "      <td>NaN</td>\n",
       "      <td>NaN</td>\n",
       "      <td>NaN</td>\n",
       "      <td>NaN</td>\n",
       "      <td>NaN</td>\n",
       "      <td>NaN</td>\n",
       "    </tr>\n",
       "    <tr>\n",
       "      <th>1900 House</th>\n",
       "      <td>NaN</td>\n",
       "      <td>NaN</td>\n",
       "      <td>NaN</td>\n",
       "      <td>NaN</td>\n",
       "      <td>NaN</td>\n",
       "      <td>NaN</td>\n",
       "      <td>NaN</td>\n",
       "      <td>NaN</td>\n",
       "      <td>NaN</td>\n",
       "      <td>NaN</td>\n",
       "      <td>...</td>\n",
       "      <td>NaN</td>\n",
       "      <td>NaN</td>\n",
       "      <td>NaN</td>\n",
       "      <td>NaN</td>\n",
       "      <td>NaN</td>\n",
       "      <td>NaN</td>\n",
       "      <td>NaN</td>\n",
       "      <td>NaN</td>\n",
       "      <td>NaN</td>\n",
       "      <td>NaN</td>\n",
       "    </tr>\n",
       "    <tr>\n",
       "      <th>A Bed &amp; Breakfast In Cambridge</th>\n",
       "      <td>NaN</td>\n",
       "      <td>NaN</td>\n",
       "      <td>NaN</td>\n",
       "      <td>NaN</td>\n",
       "      <td>NaN</td>\n",
       "      <td>NaN</td>\n",
       "      <td>NaN</td>\n",
       "      <td>NaN</td>\n",
       "      <td>NaN</td>\n",
       "      <td>NaN</td>\n",
       "      <td>...</td>\n",
       "      <td>NaN</td>\n",
       "      <td>NaN</td>\n",
       "      <td>3.0</td>\n",
       "      <td>NaN</td>\n",
       "      <td>NaN</td>\n",
       "      <td>NaN</td>\n",
       "      <td>NaN</td>\n",
       "      <td>NaN</td>\n",
       "      <td>NaN</td>\n",
       "      <td>NaN</td>\n",
       "    </tr>\n",
       "    <tr>\n",
       "      <th>A Swallow's Nest Motel</th>\n",
       "      <td>NaN</td>\n",
       "      <td>NaN</td>\n",
       "      <td>NaN</td>\n",
       "      <td>NaN</td>\n",
       "      <td>NaN</td>\n",
       "      <td>NaN</td>\n",
       "      <td>NaN</td>\n",
       "      <td>NaN</td>\n",
       "      <td>NaN</td>\n",
       "      <td>NaN</td>\n",
       "      <td>...</td>\n",
       "      <td>NaN</td>\n",
       "      <td>NaN</td>\n",
       "      <td>NaN</td>\n",
       "      <td>NaN</td>\n",
       "      <td>NaN</td>\n",
       "      <td>NaN</td>\n",
       "      <td>NaN</td>\n",
       "      <td>NaN</td>\n",
       "      <td>NaN</td>\n",
       "      <td>NaN</td>\n",
       "    </tr>\n",
       "    <tr>\n",
       "      <th>Abbeville Inn</th>\n",
       "      <td>NaN</td>\n",
       "      <td>NaN</td>\n",
       "      <td>NaN</td>\n",
       "      <td>NaN</td>\n",
       "      <td>NaN</td>\n",
       "      <td>NaN</td>\n",
       "      <td>NaN</td>\n",
       "      <td>NaN</td>\n",
       "      <td>NaN</td>\n",
       "      <td>NaN</td>\n",
       "      <td>...</td>\n",
       "      <td>NaN</td>\n",
       "      <td>NaN</td>\n",
       "      <td>NaN</td>\n",
       "      <td>NaN</td>\n",
       "      <td>NaN</td>\n",
       "      <td>NaN</td>\n",
       "      <td>NaN</td>\n",
       "      <td>NaN</td>\n",
       "      <td>NaN</td>\n",
       "      <td>NaN</td>\n",
       "    </tr>\n",
       "    <tr>\n",
       "      <th>...</th>\n",
       "      <td>...</td>\n",
       "      <td>...</td>\n",
       "      <td>...</td>\n",
       "      <td>...</td>\n",
       "      <td>...</td>\n",
       "      <td>...</td>\n",
       "      <td>...</td>\n",
       "      <td>...</td>\n",
       "      <td>...</td>\n",
       "      <td>...</td>\n",
       "      <td>...</td>\n",
       "      <td>...</td>\n",
       "      <td>...</td>\n",
       "      <td>...</td>\n",
       "      <td>...</td>\n",
       "      <td>...</td>\n",
       "      <td>...</td>\n",
       "      <td>...</td>\n",
       "      <td>...</td>\n",
       "      <td>...</td>\n",
       "      <td>...</td>\n",
       "    </tr>\n",
       "    <tr>\n",
       "      <th>Whiteface Chalet</th>\n",
       "      <td>NaN</td>\n",
       "      <td>NaN</td>\n",
       "      <td>NaN</td>\n",
       "      <td>NaN</td>\n",
       "      <td>NaN</td>\n",
       "      <td>NaN</td>\n",
       "      <td>NaN</td>\n",
       "      <td>NaN</td>\n",
       "      <td>NaN</td>\n",
       "      <td>NaN</td>\n",
       "      <td>...</td>\n",
       "      <td>NaN</td>\n",
       "      <td>NaN</td>\n",
       "      <td>NaN</td>\n",
       "      <td>NaN</td>\n",
       "      <td>NaN</td>\n",
       "      <td>NaN</td>\n",
       "      <td>NaN</td>\n",
       "      <td>NaN</td>\n",
       "      <td>NaN</td>\n",
       "      <td>NaN</td>\n",
       "    </tr>\n",
       "    <tr>\n",
       "      <th>Wine Valley Lodge</th>\n",
       "      <td>4.0</td>\n",
       "      <td>NaN</td>\n",
       "      <td>NaN</td>\n",
       "      <td>NaN</td>\n",
       "      <td>NaN</td>\n",
       "      <td>NaN</td>\n",
       "      <td>NaN</td>\n",
       "      <td>NaN</td>\n",
       "      <td>5.0</td>\n",
       "      <td>NaN</td>\n",
       "      <td>...</td>\n",
       "      <td>5.0</td>\n",
       "      <td>NaN</td>\n",
       "      <td>5.0</td>\n",
       "      <td>4.0</td>\n",
       "      <td>NaN</td>\n",
       "      <td>NaN</td>\n",
       "      <td>4.0</td>\n",
       "      <td>NaN</td>\n",
       "      <td>3.0</td>\n",
       "      <td>NaN</td>\n",
       "    </tr>\n",
       "    <tr>\n",
       "      <th>Wingate By Wyndham Chantilly / Dulles Airport</th>\n",
       "      <td>NaN</td>\n",
       "      <td>NaN</td>\n",
       "      <td>NaN</td>\n",
       "      <td>NaN</td>\n",
       "      <td>NaN</td>\n",
       "      <td>NaN</td>\n",
       "      <td>NaN</td>\n",
       "      <td>NaN</td>\n",
       "      <td>NaN</td>\n",
       "      <td>NaN</td>\n",
       "      <td>...</td>\n",
       "      <td>NaN</td>\n",
       "      <td>NaN</td>\n",
       "      <td>5.0</td>\n",
       "      <td>NaN</td>\n",
       "      <td>NaN</td>\n",
       "      <td>NaN</td>\n",
       "      <td>NaN</td>\n",
       "      <td>NaN</td>\n",
       "      <td>NaN</td>\n",
       "      <td>NaN</td>\n",
       "    </tr>\n",
       "    <tr>\n",
       "      <th>Wingate By Wyndham Pueblo</th>\n",
       "      <td>NaN</td>\n",
       "      <td>NaN</td>\n",
       "      <td>NaN</td>\n",
       "      <td>NaN</td>\n",
       "      <td>NaN</td>\n",
       "      <td>NaN</td>\n",
       "      <td>NaN</td>\n",
       "      <td>NaN</td>\n",
       "      <td>5.0</td>\n",
       "      <td>5.0</td>\n",
       "      <td>...</td>\n",
       "      <td>NaN</td>\n",
       "      <td>NaN</td>\n",
       "      <td>5.0</td>\n",
       "      <td>4.0</td>\n",
       "      <td>5.0</td>\n",
       "      <td>NaN</td>\n",
       "      <td>4.0</td>\n",
       "      <td>NaN</td>\n",
       "      <td>NaN</td>\n",
       "      <td>NaN</td>\n",
       "    </tr>\n",
       "    <tr>\n",
       "      <th>Worldwide Hospitality Supply Company</th>\n",
       "      <td>NaN</td>\n",
       "      <td>NaN</td>\n",
       "      <td>NaN</td>\n",
       "      <td>NaN</td>\n",
       "      <td>NaN</td>\n",
       "      <td>NaN</td>\n",
       "      <td>NaN</td>\n",
       "      <td>NaN</td>\n",
       "      <td>NaN</td>\n",
       "      <td>NaN</td>\n",
       "      <td>...</td>\n",
       "      <td>NaN</td>\n",
       "      <td>NaN</td>\n",
       "      <td>NaN</td>\n",
       "      <td>NaN</td>\n",
       "      <td>NaN</td>\n",
       "      <td>NaN</td>\n",
       "      <td>NaN</td>\n",
       "      <td>NaN</td>\n",
       "      <td>NaN</td>\n",
       "      <td>NaN</td>\n",
       "    </tr>\n",
       "  </tbody>\n",
       "</table>\n",
       "<p>604 rows × 49 columns</p>\n",
       "</div>"
      ],
      "text/plain": [
       "                                               Karen  Scott  Jessica  \\\n",
       "1785 Inn                                         NaN    NaN      NaN   \n",
       "1900 House                                       NaN    NaN      NaN   \n",
       "A Bed & Breakfast In Cambridge                   NaN    NaN      NaN   \n",
       "A Swallow's Nest Motel                           NaN    NaN      NaN   \n",
       "Abbeville Inn                                    NaN    NaN      NaN   \n",
       "...                                              ...    ...      ...   \n",
       "Whiteface Chalet                                 NaN    NaN      NaN   \n",
       "Wine Valley Lodge                                4.0    NaN      NaN   \n",
       "Wingate By Wyndham Chantilly / Dulles Airport    NaN    NaN      NaN   \n",
       "Wingate By Wyndham Pueblo                        NaN    NaN      NaN   \n",
       "Worldwide Hospitality Supply Company             NaN    NaN      NaN   \n",
       "\n",
       "                                               write a review  \\\n",
       "1785 Inn                                                  NaN   \n",
       "1900 House                                                NaN   \n",
       "A Bed & Breakfast In Cambridge                            NaN   \n",
       "A Swallow's Nest Motel                                    NaN   \n",
       "Abbeville Inn                                             NaN   \n",
       "...                                                       ...   \n",
       "Whiteface Chalet                                          NaN   \n",
       "Wine Valley Lodge                                         NaN   \n",
       "Wingate By Wyndham Chantilly / Dulles Airport             NaN   \n",
       "Wingate By Wyndham Pueblo                                 NaN   \n",
       "Worldwide Hospitality Supply Company                      NaN   \n",
       "\n",
       "                                               A verified traveler  Kevin  \\\n",
       "1785 Inn                                                       NaN    NaN   \n",
       "1900 House                                                     NaN    NaN   \n",
       "A Bed & Breakfast In Cambridge                                 NaN    NaN   \n",
       "A Swallow's Nest Motel                                         NaN    NaN   \n",
       "Abbeville Inn                                                  NaN    NaN   \n",
       "...                                                            ...    ...   \n",
       "Whiteface Chalet                                               NaN    NaN   \n",
       "Wine Valley Lodge                                              NaN    NaN   \n",
       "Wingate By Wyndham Chantilly / Dulles Airport                  NaN    NaN   \n",
       "Wingate By Wyndham Pueblo                                      NaN    NaN   \n",
       "Worldwide Hospitality Supply Company                           NaN    NaN   \n",
       "\n",
       "                                               William   R    S  Christopher  \\\n",
       "1785 Inn                                           NaN NaN  NaN          NaN   \n",
       "1900 House                                         NaN NaN  NaN          NaN   \n",
       "A Bed & Breakfast In Cambridge                     NaN NaN  NaN          NaN   \n",
       "A Swallow's Nest Motel                             NaN NaN  NaN          NaN   \n",
       "Abbeville Inn                                      NaN NaN  NaN          NaN   \n",
       "...                                                ...  ..  ...          ...   \n",
       "Whiteface Chalet                                   NaN NaN  NaN          NaN   \n",
       "Wine Valley Lodge                                  NaN NaN  5.0          NaN   \n",
       "Wingate By Wyndham Chantilly / Dulles Airport      NaN NaN  NaN          NaN   \n",
       "Wingate By Wyndham Pueblo                          NaN NaN  5.0          5.0   \n",
       "Worldwide Hospitality Supply Company               NaN NaN  NaN          NaN   \n",
       "\n",
       "                                               ...  Thomas  Susan  A Traveler  \\\n",
       "1785 Inn                                       ...     NaN    NaN         NaN   \n",
       "1900 House                                     ...     NaN    NaN         NaN   \n",
       "A Bed & Breakfast In Cambridge                 ...     NaN    NaN         3.0   \n",
       "A Swallow's Nest Motel                         ...     NaN    NaN         NaN   \n",
       "Abbeville Inn                                  ...     NaN    NaN         NaN   \n",
       "...                                            ...     ...    ...         ...   \n",
       "Whiteface Chalet                               ...     NaN    NaN         NaN   \n",
       "Wine Valley Lodge                              ...     5.0    NaN         5.0   \n",
       "Wingate By Wyndham Chantilly / Dulles Airport  ...     NaN    NaN         5.0   \n",
       "Wingate By Wyndham Pueblo                      ...     NaN    NaN         5.0   \n",
       "Worldwide Hospitality Supply Company           ...     NaN    NaN         NaN   \n",
       "\n",
       "                                                 M  Not Provided   B  Laura  \\\n",
       "1785 Inn                                       NaN           NaN NaN    NaN   \n",
       "1900 House                                     NaN           NaN NaN    NaN   \n",
       "A Bed & Breakfast In Cambridge                 NaN           NaN NaN    NaN   \n",
       "A Swallow's Nest Motel                         NaN           NaN NaN    NaN   \n",
       "Abbeville Inn                                  NaN           NaN NaN    NaN   \n",
       "...                                            ...           ...  ..    ...   \n",
       "Whiteface Chalet                               NaN           NaN NaN    NaN   \n",
       "Wine Valley Lodge                              4.0           NaN NaN    4.0   \n",
       "Wingate By Wyndham Chantilly / Dulles Airport  NaN           NaN NaN    NaN   \n",
       "Wingate By Wyndham Pueblo                      4.0           5.0 NaN    4.0   \n",
       "Worldwide Hospitality Supply Company           NaN           NaN NaN    NaN   \n",
       "\n",
       "                                               xxxxxxxxxxxxxx  Michael  Joseph  \n",
       "1785 Inn                                                  NaN      NaN     NaN  \n",
       "1900 House                                                NaN      NaN     NaN  \n",
       "A Bed & Breakfast In Cambridge                            NaN      NaN     NaN  \n",
       "A Swallow's Nest Motel                                    NaN      NaN     NaN  \n",
       "Abbeville Inn                                             NaN      NaN     NaN  \n",
       "...                                                       ...      ...     ...  \n",
       "Whiteface Chalet                                          NaN      NaN     NaN  \n",
       "Wine Valley Lodge                                         NaN      3.0     NaN  \n",
       "Wingate By Wyndham Chantilly / Dulles Airport             NaN      NaN     NaN  \n",
       "Wingate By Wyndham Pueblo                                 NaN      NaN     NaN  \n",
       "Worldwide Hospitality Supply Company                      NaN      NaN     NaN  \n",
       "\n",
       "[604 rows x 49 columns]"
      ]
     },
     "execution_count": 107,
     "metadata": {},
     "output_type": "execute_result"
    }
   ],
   "source": [
    "df_hotels"
   ]
  },
  {
   "cell_type": "code",
   "execution_count": 108,
   "metadata": {},
   "outputs": [],
   "source": [
    "df_hotels = df_hotels.apply(lambda x: x // 2) #integer divide by 2 rounds all values"
   ]
  },
  {
   "cell_type": "markdown",
   "metadata": {},
   "source": [
    "將df每個cell的值都除以2"
   ]
  },
  {
   "cell_type": "code",
   "execution_count": 51,
   "metadata": {},
   "outputs": [
    {
     "data": {
      "text/html": [
       "<div>\n",
       "<style scoped>\n",
       "    .dataframe tbody tr th:only-of-type {\n",
       "        vertical-align: middle;\n",
       "    }\n",
       "\n",
       "    .dataframe tbody tr th {\n",
       "        vertical-align: top;\n",
       "    }\n",
       "\n",
       "    .dataframe thead th {\n",
       "        text-align: right;\n",
       "    }\n",
       "</style>\n",
       "<table border=\"1\" class=\"dataframe\">\n",
       "  <thead>\n",
       "    <tr style=\"text-align: right;\">\n",
       "      <th></th>\n",
       "      <th>Karen</th>\n",
       "      <th>Scott</th>\n",
       "      <th>Jessica</th>\n",
       "      <th>write a review</th>\n",
       "      <th>A verified traveler</th>\n",
       "      <th>Kevin</th>\n",
       "      <th>William</th>\n",
       "      <th>R</th>\n",
       "      <th>S</th>\n",
       "      <th>Christopher</th>\n",
       "      <th>...</th>\n",
       "      <th>Thomas</th>\n",
       "      <th>Susan</th>\n",
       "      <th>A Traveler</th>\n",
       "      <th>M</th>\n",
       "      <th>Not Provided</th>\n",
       "      <th>B</th>\n",
       "      <th>Laura</th>\n",
       "      <th>xxxxxxxxxxxxxx</th>\n",
       "      <th>Michael</th>\n",
       "      <th>Joseph</th>\n",
       "    </tr>\n",
       "  </thead>\n",
       "  <tbody>\n",
       "    <tr>\n",
       "      <th>1785 Inn</th>\n",
       "      <td>NaN</td>\n",
       "      <td>NaN</td>\n",
       "      <td>NaN</td>\n",
       "      <td>NaN</td>\n",
       "      <td>NaN</td>\n",
       "      <td>NaN</td>\n",
       "      <td>NaN</td>\n",
       "      <td>NaN</td>\n",
       "      <td>NaN</td>\n",
       "      <td>NaN</td>\n",
       "      <td>...</td>\n",
       "      <td>NaN</td>\n",
       "      <td>NaN</td>\n",
       "      <td>NaN</td>\n",
       "      <td>NaN</td>\n",
       "      <td>NaN</td>\n",
       "      <td>NaN</td>\n",
       "      <td>NaN</td>\n",
       "      <td>NaN</td>\n",
       "      <td>NaN</td>\n",
       "      <td>NaN</td>\n",
       "    </tr>\n",
       "    <tr>\n",
       "      <th>1900 House</th>\n",
       "      <td>NaN</td>\n",
       "      <td>NaN</td>\n",
       "      <td>NaN</td>\n",
       "      <td>NaN</td>\n",
       "      <td>NaN</td>\n",
       "      <td>NaN</td>\n",
       "      <td>NaN</td>\n",
       "      <td>NaN</td>\n",
       "      <td>NaN</td>\n",
       "      <td>NaN</td>\n",
       "      <td>...</td>\n",
       "      <td>NaN</td>\n",
       "      <td>NaN</td>\n",
       "      <td>NaN</td>\n",
       "      <td>NaN</td>\n",
       "      <td>NaN</td>\n",
       "      <td>NaN</td>\n",
       "      <td>NaN</td>\n",
       "      <td>NaN</td>\n",
       "      <td>NaN</td>\n",
       "      <td>NaN</td>\n",
       "    </tr>\n",
       "    <tr>\n",
       "      <th>A Bed &amp; Breakfast In Cambridge</th>\n",
       "      <td>NaN</td>\n",
       "      <td>NaN</td>\n",
       "      <td>NaN</td>\n",
       "      <td>NaN</td>\n",
       "      <td>NaN</td>\n",
       "      <td>NaN</td>\n",
       "      <td>NaN</td>\n",
       "      <td>NaN</td>\n",
       "      <td>NaN</td>\n",
       "      <td>NaN</td>\n",
       "      <td>...</td>\n",
       "      <td>NaN</td>\n",
       "      <td>NaN</td>\n",
       "      <td>1.0</td>\n",
       "      <td>NaN</td>\n",
       "      <td>NaN</td>\n",
       "      <td>NaN</td>\n",
       "      <td>NaN</td>\n",
       "      <td>NaN</td>\n",
       "      <td>NaN</td>\n",
       "      <td>NaN</td>\n",
       "    </tr>\n",
       "    <tr>\n",
       "      <th>A Swallow's Nest Motel</th>\n",
       "      <td>NaN</td>\n",
       "      <td>NaN</td>\n",
       "      <td>NaN</td>\n",
       "      <td>NaN</td>\n",
       "      <td>NaN</td>\n",
       "      <td>NaN</td>\n",
       "      <td>NaN</td>\n",
       "      <td>NaN</td>\n",
       "      <td>NaN</td>\n",
       "      <td>NaN</td>\n",
       "      <td>...</td>\n",
       "      <td>NaN</td>\n",
       "      <td>NaN</td>\n",
       "      <td>NaN</td>\n",
       "      <td>NaN</td>\n",
       "      <td>NaN</td>\n",
       "      <td>NaN</td>\n",
       "      <td>NaN</td>\n",
       "      <td>NaN</td>\n",
       "      <td>NaN</td>\n",
       "      <td>NaN</td>\n",
       "    </tr>\n",
       "    <tr>\n",
       "      <th>Abbeville Inn</th>\n",
       "      <td>NaN</td>\n",
       "      <td>NaN</td>\n",
       "      <td>NaN</td>\n",
       "      <td>NaN</td>\n",
       "      <td>NaN</td>\n",
       "      <td>NaN</td>\n",
       "      <td>NaN</td>\n",
       "      <td>NaN</td>\n",
       "      <td>NaN</td>\n",
       "      <td>NaN</td>\n",
       "      <td>...</td>\n",
       "      <td>NaN</td>\n",
       "      <td>NaN</td>\n",
       "      <td>NaN</td>\n",
       "      <td>NaN</td>\n",
       "      <td>NaN</td>\n",
       "      <td>NaN</td>\n",
       "      <td>NaN</td>\n",
       "      <td>NaN</td>\n",
       "      <td>NaN</td>\n",
       "      <td>NaN</td>\n",
       "    </tr>\n",
       "    <tr>\n",
       "      <th>...</th>\n",
       "      <td>...</td>\n",
       "      <td>...</td>\n",
       "      <td>...</td>\n",
       "      <td>...</td>\n",
       "      <td>...</td>\n",
       "      <td>...</td>\n",
       "      <td>...</td>\n",
       "      <td>...</td>\n",
       "      <td>...</td>\n",
       "      <td>...</td>\n",
       "      <td>...</td>\n",
       "      <td>...</td>\n",
       "      <td>...</td>\n",
       "      <td>...</td>\n",
       "      <td>...</td>\n",
       "      <td>...</td>\n",
       "      <td>...</td>\n",
       "      <td>...</td>\n",
       "      <td>...</td>\n",
       "      <td>...</td>\n",
       "      <td>...</td>\n",
       "    </tr>\n",
       "    <tr>\n",
       "      <th>Whiteface Chalet</th>\n",
       "      <td>NaN</td>\n",
       "      <td>NaN</td>\n",
       "      <td>NaN</td>\n",
       "      <td>NaN</td>\n",
       "      <td>NaN</td>\n",
       "      <td>NaN</td>\n",
       "      <td>NaN</td>\n",
       "      <td>NaN</td>\n",
       "      <td>NaN</td>\n",
       "      <td>NaN</td>\n",
       "      <td>...</td>\n",
       "      <td>NaN</td>\n",
       "      <td>NaN</td>\n",
       "      <td>NaN</td>\n",
       "      <td>NaN</td>\n",
       "      <td>NaN</td>\n",
       "      <td>NaN</td>\n",
       "      <td>NaN</td>\n",
       "      <td>NaN</td>\n",
       "      <td>NaN</td>\n",
       "      <td>NaN</td>\n",
       "    </tr>\n",
       "    <tr>\n",
       "      <th>Wine Valley Lodge</th>\n",
       "      <td>2.0</td>\n",
       "      <td>NaN</td>\n",
       "      <td>NaN</td>\n",
       "      <td>NaN</td>\n",
       "      <td>NaN</td>\n",
       "      <td>NaN</td>\n",
       "      <td>NaN</td>\n",
       "      <td>NaN</td>\n",
       "      <td>2.0</td>\n",
       "      <td>NaN</td>\n",
       "      <td>...</td>\n",
       "      <td>2.0</td>\n",
       "      <td>NaN</td>\n",
       "      <td>2.0</td>\n",
       "      <td>2.0</td>\n",
       "      <td>NaN</td>\n",
       "      <td>NaN</td>\n",
       "      <td>2.0</td>\n",
       "      <td>NaN</td>\n",
       "      <td>1.0</td>\n",
       "      <td>NaN</td>\n",
       "    </tr>\n",
       "    <tr>\n",
       "      <th>Wingate By Wyndham Chantilly / Dulles Airport</th>\n",
       "      <td>NaN</td>\n",
       "      <td>NaN</td>\n",
       "      <td>NaN</td>\n",
       "      <td>NaN</td>\n",
       "      <td>NaN</td>\n",
       "      <td>NaN</td>\n",
       "      <td>NaN</td>\n",
       "      <td>NaN</td>\n",
       "      <td>NaN</td>\n",
       "      <td>NaN</td>\n",
       "      <td>...</td>\n",
       "      <td>NaN</td>\n",
       "      <td>NaN</td>\n",
       "      <td>2.0</td>\n",
       "      <td>NaN</td>\n",
       "      <td>NaN</td>\n",
       "      <td>NaN</td>\n",
       "      <td>NaN</td>\n",
       "      <td>NaN</td>\n",
       "      <td>NaN</td>\n",
       "      <td>NaN</td>\n",
       "    </tr>\n",
       "    <tr>\n",
       "      <th>Wingate By Wyndham Pueblo</th>\n",
       "      <td>NaN</td>\n",
       "      <td>NaN</td>\n",
       "      <td>NaN</td>\n",
       "      <td>NaN</td>\n",
       "      <td>NaN</td>\n",
       "      <td>NaN</td>\n",
       "      <td>NaN</td>\n",
       "      <td>NaN</td>\n",
       "      <td>2.0</td>\n",
       "      <td>2.0</td>\n",
       "      <td>...</td>\n",
       "      <td>NaN</td>\n",
       "      <td>NaN</td>\n",
       "      <td>2.0</td>\n",
       "      <td>2.0</td>\n",
       "      <td>2.0</td>\n",
       "      <td>NaN</td>\n",
       "      <td>2.0</td>\n",
       "      <td>NaN</td>\n",
       "      <td>NaN</td>\n",
       "      <td>NaN</td>\n",
       "    </tr>\n",
       "    <tr>\n",
       "      <th>Worldwide Hospitality Supply Company</th>\n",
       "      <td>NaN</td>\n",
       "      <td>NaN</td>\n",
       "      <td>NaN</td>\n",
       "      <td>NaN</td>\n",
       "      <td>NaN</td>\n",
       "      <td>NaN</td>\n",
       "      <td>NaN</td>\n",
       "      <td>NaN</td>\n",
       "      <td>NaN</td>\n",
       "      <td>NaN</td>\n",
       "      <td>...</td>\n",
       "      <td>NaN</td>\n",
       "      <td>NaN</td>\n",
       "      <td>NaN</td>\n",
       "      <td>NaN</td>\n",
       "      <td>NaN</td>\n",
       "      <td>NaN</td>\n",
       "      <td>NaN</td>\n",
       "      <td>NaN</td>\n",
       "      <td>NaN</td>\n",
       "      <td>NaN</td>\n",
       "    </tr>\n",
       "  </tbody>\n",
       "</table>\n",
       "<p>604 rows × 49 columns</p>\n",
       "</div>"
      ],
      "text/plain": [
       "                                               Karen  Scott  Jessica  \\\n",
       "1785 Inn                                         NaN    NaN      NaN   \n",
       "1900 House                                       NaN    NaN      NaN   \n",
       "A Bed & Breakfast In Cambridge                   NaN    NaN      NaN   \n",
       "A Swallow's Nest Motel                           NaN    NaN      NaN   \n",
       "Abbeville Inn                                    NaN    NaN      NaN   \n",
       "...                                              ...    ...      ...   \n",
       "Whiteface Chalet                                 NaN    NaN      NaN   \n",
       "Wine Valley Lodge                                2.0    NaN      NaN   \n",
       "Wingate By Wyndham Chantilly / Dulles Airport    NaN    NaN      NaN   \n",
       "Wingate By Wyndham Pueblo                        NaN    NaN      NaN   \n",
       "Worldwide Hospitality Supply Company             NaN    NaN      NaN   \n",
       "\n",
       "                                               write a review  \\\n",
       "1785 Inn                                                  NaN   \n",
       "1900 House                                                NaN   \n",
       "A Bed & Breakfast In Cambridge                            NaN   \n",
       "A Swallow's Nest Motel                                    NaN   \n",
       "Abbeville Inn                                             NaN   \n",
       "...                                                       ...   \n",
       "Whiteface Chalet                                          NaN   \n",
       "Wine Valley Lodge                                         NaN   \n",
       "Wingate By Wyndham Chantilly / Dulles Airport             NaN   \n",
       "Wingate By Wyndham Pueblo                                 NaN   \n",
       "Worldwide Hospitality Supply Company                      NaN   \n",
       "\n",
       "                                               A verified traveler  Kevin  \\\n",
       "1785 Inn                                                       NaN    NaN   \n",
       "1900 House                                                     NaN    NaN   \n",
       "A Bed & Breakfast In Cambridge                                 NaN    NaN   \n",
       "A Swallow's Nest Motel                                         NaN    NaN   \n",
       "Abbeville Inn                                                  NaN    NaN   \n",
       "...                                                            ...    ...   \n",
       "Whiteface Chalet                                               NaN    NaN   \n",
       "Wine Valley Lodge                                              NaN    NaN   \n",
       "Wingate By Wyndham Chantilly / Dulles Airport                  NaN    NaN   \n",
       "Wingate By Wyndham Pueblo                                      NaN    NaN   \n",
       "Worldwide Hospitality Supply Company                           NaN    NaN   \n",
       "\n",
       "                                               William   R    S  Christopher  \\\n",
       "1785 Inn                                           NaN NaN  NaN          NaN   \n",
       "1900 House                                         NaN NaN  NaN          NaN   \n",
       "A Bed & Breakfast In Cambridge                     NaN NaN  NaN          NaN   \n",
       "A Swallow's Nest Motel                             NaN NaN  NaN          NaN   \n",
       "Abbeville Inn                                      NaN NaN  NaN          NaN   \n",
       "...                                                ...  ..  ...          ...   \n",
       "Whiteface Chalet                                   NaN NaN  NaN          NaN   \n",
       "Wine Valley Lodge                                  NaN NaN  2.0          NaN   \n",
       "Wingate By Wyndham Chantilly / Dulles Airport      NaN NaN  NaN          NaN   \n",
       "Wingate By Wyndham Pueblo                          NaN NaN  2.0          2.0   \n",
       "Worldwide Hospitality Supply Company               NaN NaN  NaN          NaN   \n",
       "\n",
       "                                               ...  Thomas  Susan  A Traveler  \\\n",
       "1785 Inn                                       ...     NaN    NaN         NaN   \n",
       "1900 House                                     ...     NaN    NaN         NaN   \n",
       "A Bed & Breakfast In Cambridge                 ...     NaN    NaN         1.0   \n",
       "A Swallow's Nest Motel                         ...     NaN    NaN         NaN   \n",
       "Abbeville Inn                                  ...     NaN    NaN         NaN   \n",
       "...                                            ...     ...    ...         ...   \n",
       "Whiteface Chalet                               ...     NaN    NaN         NaN   \n",
       "Wine Valley Lodge                              ...     2.0    NaN         2.0   \n",
       "Wingate By Wyndham Chantilly / Dulles Airport  ...     NaN    NaN         2.0   \n",
       "Wingate By Wyndham Pueblo                      ...     NaN    NaN         2.0   \n",
       "Worldwide Hospitality Supply Company           ...     NaN    NaN         NaN   \n",
       "\n",
       "                                                 M  Not Provided   B  Laura  \\\n",
       "1785 Inn                                       NaN           NaN NaN    NaN   \n",
       "1900 House                                     NaN           NaN NaN    NaN   \n",
       "A Bed & Breakfast In Cambridge                 NaN           NaN NaN    NaN   \n",
       "A Swallow's Nest Motel                         NaN           NaN NaN    NaN   \n",
       "Abbeville Inn                                  NaN           NaN NaN    NaN   \n",
       "...                                            ...           ...  ..    ...   \n",
       "Whiteface Chalet                               NaN           NaN NaN    NaN   \n",
       "Wine Valley Lodge                              2.0           NaN NaN    2.0   \n",
       "Wingate By Wyndham Chantilly / Dulles Airport  NaN           NaN NaN    NaN   \n",
       "Wingate By Wyndham Pueblo                      2.0           2.0 NaN    2.0   \n",
       "Worldwide Hospitality Supply Company           NaN           NaN NaN    NaN   \n",
       "\n",
       "                                               xxxxxxxxxxxxxx  Michael  Joseph  \n",
       "1785 Inn                                                  NaN      NaN     NaN  \n",
       "1900 House                                                NaN      NaN     NaN  \n",
       "A Bed & Breakfast In Cambridge                            NaN      NaN     NaN  \n",
       "A Swallow's Nest Motel                                    NaN      NaN     NaN  \n",
       "Abbeville Inn                                             NaN      NaN     NaN  \n",
       "...                                                       ...      ...     ...  \n",
       "Whiteface Chalet                                          NaN      NaN     NaN  \n",
       "Wine Valley Lodge                                         NaN      1.0     NaN  \n",
       "Wingate By Wyndham Chantilly / Dulles Airport             NaN      NaN     NaN  \n",
       "Wingate By Wyndham Pueblo                                 NaN      NaN     NaN  \n",
       "Worldwide Hospitality Supply Company                      NaN      NaN     NaN  \n",
       "\n",
       "[604 rows x 49 columns]"
      ]
     },
     "execution_count": 51,
     "metadata": {},
     "output_type": "execute_result"
    }
   ],
   "source": [
    "df_hotels"
   ]
  },
  {
   "cell_type": "markdown",
   "metadata": {},
   "source": [
    "And we can visualize all the reviews as a heatmap with the missing values greyed out"
   ]
  },
  {
   "cell_type": "markdown",
   "metadata": {},
   "source": [
    "\n",
    "cmap 引數更改用於繪圖的配色方案。"
   ]
  },
  {
   "cell_type": "code",
   "execution_count": 53,
   "metadata": {},
   "outputs": [
    {
     "data": {
      "image/png": "[encoded data removed]",
      "text/plain": [
       "<Figure size 1440x1440 with 2 Axes>"
      ]
     },
     "metadata": {
      "needs_background": "light"
     },
     "output_type": "display_data"
    }
   ],
   "source": [
    "fig, ax = plt.subplots(figsize = (20,20))\n",
    "seaborn.heatmap(df_hotels, cmap='rainbow', ax = ax)\n",
    "plt.show()"
   ]
  },
  {
   "cell_type": "markdown",
   "metadata": {},
   "source": [
    "To give the dataframe to pyanno we need to convert to np array and change the nans to intergers, lets use -1"
   ]
  },
  {
   "cell_type": "code",
   "execution_count": 63,
   "metadata": {},
   "outputs": [
    {
     "data": {
      "text/html": [
       "<div>\n",
       "<style scoped>\n",
       "    .dataframe tbody tr th:only-of-type {\n",
       "        vertical-align: middle;\n",
       "    }\n",
       "\n",
       "    .dataframe tbody tr th {\n",
       "        vertical-align: top;\n",
       "    }\n",
       "\n",
       "    .dataframe thead th {\n",
       "        text-align: right;\n",
       "    }\n",
       "</style>\n",
       "<table border=\"1\" class=\"dataframe\">\n",
       "  <thead>\n",
       "    <tr style=\"text-align: right;\">\n",
       "      <th></th>\n",
       "      <th>Karen</th>\n",
       "      <th>Scott</th>\n",
       "      <th>Jessica</th>\n",
       "      <th>write a review</th>\n",
       "      <th>A verified traveler</th>\n",
       "      <th>Kevin</th>\n",
       "      <th>William</th>\n",
       "      <th>R</th>\n",
       "      <th>S</th>\n",
       "      <th>Christopher</th>\n",
       "      <th>...</th>\n",
       "      <th>Thomas</th>\n",
       "      <th>Susan</th>\n",
       "      <th>A Traveler</th>\n",
       "      <th>M</th>\n",
       "      <th>Not Provided</th>\n",
       "      <th>B</th>\n",
       "      <th>Laura</th>\n",
       "      <th>xxxxxxxxxxxxxx</th>\n",
       "      <th>Michael</th>\n",
       "      <th>Joseph</th>\n",
       "    </tr>\n",
       "  </thead>\n",
       "  <tbody>\n",
       "    <tr>\n",
       "      <th>1785 Inn</th>\n",
       "      <td>-1.0</td>\n",
       "      <td>-1.0</td>\n",
       "      <td>-1.0</td>\n",
       "      <td>-1.0</td>\n",
       "      <td>-1.0</td>\n",
       "      <td>-1.0</td>\n",
       "      <td>-1.0</td>\n",
       "      <td>-1.0</td>\n",
       "      <td>-1.0</td>\n",
       "      <td>-1.0</td>\n",
       "      <td>...</td>\n",
       "      <td>-1.0</td>\n",
       "      <td>-1.0</td>\n",
       "      <td>-1.0</td>\n",
       "      <td>-1.0</td>\n",
       "      <td>-1.0</td>\n",
       "      <td>-1.0</td>\n",
       "      <td>-1.0</td>\n",
       "      <td>-1.0</td>\n",
       "      <td>-1.0</td>\n",
       "      <td>-1.0</td>\n",
       "    </tr>\n",
       "    <tr>\n",
       "      <th>1900 House</th>\n",
       "      <td>-1.0</td>\n",
       "      <td>-1.0</td>\n",
       "      <td>-1.0</td>\n",
       "      <td>-1.0</td>\n",
       "      <td>-1.0</td>\n",
       "      <td>-1.0</td>\n",
       "      <td>-1.0</td>\n",
       "      <td>-1.0</td>\n",
       "      <td>-1.0</td>\n",
       "      <td>-1.0</td>\n",
       "      <td>...</td>\n",
       "      <td>-1.0</td>\n",
       "      <td>-1.0</td>\n",
       "      <td>-1.0</td>\n",
       "      <td>-1.0</td>\n",
       "      <td>-1.0</td>\n",
       "      <td>-1.0</td>\n",
       "      <td>-1.0</td>\n",
       "      <td>-1.0</td>\n",
       "      <td>-1.0</td>\n",
       "      <td>-1.0</td>\n",
       "    </tr>\n",
       "    <tr>\n",
       "      <th>A Bed &amp; Breakfast In Cambridge</th>\n",
       "      <td>-1.0</td>\n",
       "      <td>-1.0</td>\n",
       "      <td>-1.0</td>\n",
       "      <td>-1.0</td>\n",
       "      <td>-1.0</td>\n",
       "      <td>-1.0</td>\n",
       "      <td>-1.0</td>\n",
       "      <td>-1.0</td>\n",
       "      <td>-1.0</td>\n",
       "      <td>-1.0</td>\n",
       "      <td>...</td>\n",
       "      <td>-1.0</td>\n",
       "      <td>-1.0</td>\n",
       "      <td>1.0</td>\n",
       "      <td>-1.0</td>\n",
       "      <td>-1.0</td>\n",
       "      <td>-1.0</td>\n",
       "      <td>-1.0</td>\n",
       "      <td>-1.0</td>\n",
       "      <td>-1.0</td>\n",
       "      <td>-1.0</td>\n",
       "    </tr>\n",
       "    <tr>\n",
       "      <th>A Swallow's Nest Motel</th>\n",
       "      <td>-1.0</td>\n",
       "      <td>-1.0</td>\n",
       "      <td>-1.0</td>\n",
       "      <td>-1.0</td>\n",
       "      <td>-1.0</td>\n",
       "      <td>-1.0</td>\n",
       "      <td>-1.0</td>\n",
       "      <td>-1.0</td>\n",
       "      <td>-1.0</td>\n",
       "      <td>-1.0</td>\n",
       "      <td>...</td>\n",
       "      <td>-1.0</td>\n",
       "      <td>-1.0</td>\n",
       "      <td>-1.0</td>\n",
       "      <td>-1.0</td>\n",
       "      <td>-1.0</td>\n",
       "      <td>-1.0</td>\n",
       "      <td>-1.0</td>\n",
       "      <td>-1.0</td>\n",
       "      <td>-1.0</td>\n",
       "      <td>-1.0</td>\n",
       "    </tr>\n",
       "    <tr>\n",
       "      <th>Abbeville Inn</th>\n",
       "      <td>-1.0</td>\n",
       "      <td>-1.0</td>\n",
       "      <td>-1.0</td>\n",
       "      <td>-1.0</td>\n",
       "      <td>-1.0</td>\n",
       "      <td>-1.0</td>\n",
       "      <td>-1.0</td>\n",
       "      <td>-1.0</td>\n",
       "      <td>-1.0</td>\n",
       "      <td>-1.0</td>\n",
       "      <td>...</td>\n",
       "      <td>-1.0</td>\n",
       "      <td>-1.0</td>\n",
       "      <td>-1.0</td>\n",
       "      <td>-1.0</td>\n",
       "      <td>-1.0</td>\n",
       "      <td>-1.0</td>\n",
       "      <td>-1.0</td>\n",
       "      <td>-1.0</td>\n",
       "      <td>-1.0</td>\n",
       "      <td>-1.0</td>\n",
       "    </tr>\n",
       "    <tr>\n",
       "      <th>...</th>\n",
       "      <td>...</td>\n",
       "      <td>...</td>\n",
       "      <td>...</td>\n",
       "      <td>...</td>\n",
       "      <td>...</td>\n",
       "      <td>...</td>\n",
       "      <td>...</td>\n",
       "      <td>...</td>\n",
       "      <td>...</td>\n",
       "      <td>...</td>\n",
       "      <td>...</td>\n",
       "      <td>...</td>\n",
       "      <td>...</td>\n",
       "      <td>...</td>\n",
       "      <td>...</td>\n",
       "      <td>...</td>\n",
       "      <td>...</td>\n",
       "      <td>...</td>\n",
       "      <td>...</td>\n",
       "      <td>...</td>\n",
       "      <td>...</td>\n",
       "    </tr>\n",
       "    <tr>\n",
       "      <th>Whiteface Chalet</th>\n",
       "      <td>-1.0</td>\n",
       "      <td>-1.0</td>\n",
       "      <td>-1.0</td>\n",
       "      <td>-1.0</td>\n",
       "      <td>-1.0</td>\n",
       "      <td>-1.0</td>\n",
       "      <td>-1.0</td>\n",
       "      <td>-1.0</td>\n",
       "      <td>-1.0</td>\n",
       "      <td>-1.0</td>\n",
       "      <td>...</td>\n",
       "      <td>-1.0</td>\n",
       "      <td>-1.0</td>\n",
       "      <td>-1.0</td>\n",
       "      <td>-1.0</td>\n",
       "      <td>-1.0</td>\n",
       "      <td>-1.0</td>\n",
       "      <td>-1.0</td>\n",
       "      <td>-1.0</td>\n",
       "      <td>-1.0</td>\n",
       "      <td>-1.0</td>\n",
       "    </tr>\n",
       "    <tr>\n",
       "      <th>Wine Valley Lodge</th>\n",
       "      <td>2.0</td>\n",
       "      <td>-1.0</td>\n",
       "      <td>-1.0</td>\n",
       "      <td>-1.0</td>\n",
       "      <td>-1.0</td>\n",
       "      <td>-1.0</td>\n",
       "      <td>-1.0</td>\n",
       "      <td>-1.0</td>\n",
       "      <td>2.0</td>\n",
       "      <td>-1.0</td>\n",
       "      <td>...</td>\n",
       "      <td>2.0</td>\n",
       "      <td>-1.0</td>\n",
       "      <td>2.0</td>\n",
       "      <td>2.0</td>\n",
       "      <td>-1.0</td>\n",
       "      <td>-1.0</td>\n",
       "      <td>2.0</td>\n",
       "      <td>-1.0</td>\n",
       "      <td>1.0</td>\n",
       "      <td>-1.0</td>\n",
       "    </tr>\n",
       "    <tr>\n",
       "      <th>Wingate By Wyndham Chantilly / Dulles Airport</th>\n",
       "      <td>-1.0</td>\n",
       "      <td>-1.0</td>\n",
       "      <td>-1.0</td>\n",
       "      <td>-1.0</td>\n",
       "      <td>-1.0</td>\n",
       "      <td>-1.0</td>\n",
       "      <td>-1.0</td>\n",
       "      <td>-1.0</td>\n",
       "      <td>-1.0</td>\n",
       "      <td>-1.0</td>\n",
       "      <td>...</td>\n",
       "      <td>-1.0</td>\n",
       "      <td>-1.0</td>\n",
       "      <td>2.0</td>\n",
       "      <td>-1.0</td>\n",
       "      <td>-1.0</td>\n",
       "      <td>-1.0</td>\n",
       "      <td>-1.0</td>\n",
       "      <td>-1.0</td>\n",
       "      <td>-1.0</td>\n",
       "      <td>-1.0</td>\n",
       "    </tr>\n",
       "    <tr>\n",
       "      <th>Wingate By Wyndham Pueblo</th>\n",
       "      <td>-1.0</td>\n",
       "      <td>-1.0</td>\n",
       "      <td>-1.0</td>\n",
       "      <td>-1.0</td>\n",
       "      <td>-1.0</td>\n",
       "      <td>-1.0</td>\n",
       "      <td>-1.0</td>\n",
       "      <td>-1.0</td>\n",
       "      <td>2.0</td>\n",
       "      <td>2.0</td>\n",
       "      <td>...</td>\n",
       "      <td>-1.0</td>\n",
       "      <td>-1.0</td>\n",
       "      <td>2.0</td>\n",
       "      <td>2.0</td>\n",
       "      <td>2.0</td>\n",
       "      <td>-1.0</td>\n",
       "      <td>2.0</td>\n",
       "      <td>-1.0</td>\n",
       "      <td>-1.0</td>\n",
       "      <td>-1.0</td>\n",
       "    </tr>\n",
       "    <tr>\n",
       "      <th>Worldwide Hospitality Supply Company</th>\n",
       "      <td>-1.0</td>\n",
       "      <td>-1.0</td>\n",
       "      <td>-1.0</td>\n",
       "      <td>-1.0</td>\n",
       "      <td>-1.0</td>\n",
       "      <td>-1.0</td>\n",
       "      <td>-1.0</td>\n",
       "      <td>-1.0</td>\n",
       "      <td>-1.0</td>\n",
       "      <td>-1.0</td>\n",
       "      <td>...</td>\n",
       "      <td>-1.0</td>\n",
       "      <td>-1.0</td>\n",
       "      <td>-1.0</td>\n",
       "      <td>-1.0</td>\n",
       "      <td>-1.0</td>\n",
       "      <td>-1.0</td>\n",
       "      <td>-1.0</td>\n",
       "      <td>-1.0</td>\n",
       "      <td>-1.0</td>\n",
       "      <td>-1.0</td>\n",
       "    </tr>\n",
       "  </tbody>\n",
       "</table>\n",
       "<p>604 rows × 49 columns</p>\n",
       "</div>"
      ],
      "text/plain": [
       "                                               Karen  Scott  Jessica  \\\n",
       "1785 Inn                                        -1.0   -1.0     -1.0   \n",
       "1900 House                                      -1.0   -1.0     -1.0   \n",
       "A Bed & Breakfast In Cambridge                  -1.0   -1.0     -1.0   \n",
       "A Swallow's Nest Motel                          -1.0   -1.0     -1.0   \n",
       "Abbeville Inn                                   -1.0   -1.0     -1.0   \n",
       "...                                              ...    ...      ...   \n",
       "Whiteface Chalet                                -1.0   -1.0     -1.0   \n",
       "Wine Valley Lodge                                2.0   -1.0     -1.0   \n",
       "Wingate By Wyndham Chantilly / Dulles Airport   -1.0   -1.0     -1.0   \n",
       "Wingate By Wyndham Pueblo                       -1.0   -1.0     -1.0   \n",
       "Worldwide Hospitality Supply Company            -1.0   -1.0     -1.0   \n",
       "\n",
       "                                               write a review  \\\n",
       "1785 Inn                                                 -1.0   \n",
       "1900 House                                               -1.0   \n",
       "A Bed & Breakfast In Cambridge                           -1.0   \n",
       "A Swallow's Nest Motel                                   -1.0   \n",
       "Abbeville Inn                                            -1.0   \n",
       "...                                                       ...   \n",
       "Whiteface Chalet                                         -1.0   \n",
       "Wine Valley Lodge                                        -1.0   \n",
       "Wingate By Wyndham Chantilly / Dulles Airport            -1.0   \n",
       "Wingate By Wyndham Pueblo                                -1.0   \n",
       "Worldwide Hospitality Supply Company                     -1.0   \n",
       "\n",
       "                                               A verified traveler  Kevin  \\\n",
       "1785 Inn                                                      -1.0   -1.0   \n",
       "1900 House                                                    -1.0   -1.0   \n",
       "A Bed & Breakfast In Cambridge                                -1.0   -1.0   \n",
       "A Swallow's Nest Motel                                        -1.0   -1.0   \n",
       "Abbeville Inn                                                 -1.0   -1.0   \n",
       "...                                                            ...    ...   \n",
       "Whiteface Chalet                                              -1.0   -1.0   \n",
       "Wine Valley Lodge                                             -1.0   -1.0   \n",
       "Wingate By Wyndham Chantilly / Dulles Airport                 -1.0   -1.0   \n",
       "Wingate By Wyndham Pueblo                                     -1.0   -1.0   \n",
       "Worldwide Hospitality Supply Company                          -1.0   -1.0   \n",
       "\n",
       "                                               William    R    S  Christopher  \\\n",
       "1785 Inn                                          -1.0 -1.0 -1.0         -1.0   \n",
       "1900 House                                        -1.0 -1.0 -1.0         -1.0   \n",
       "A Bed & Breakfast In Cambridge                    -1.0 -1.0 -1.0         -1.0   \n",
       "A Swallow's Nest Motel                            -1.0 -1.0 -1.0         -1.0   \n",
       "Abbeville Inn                                     -1.0 -1.0 -1.0         -1.0   \n",
       "...                                                ...  ...  ...          ...   \n",
       "Whiteface Chalet                                  -1.0 -1.0 -1.0         -1.0   \n",
       "Wine Valley Lodge                                 -1.0 -1.0  2.0         -1.0   \n",
       "Wingate By Wyndham Chantilly / Dulles Airport     -1.0 -1.0 -1.0         -1.0   \n",
       "Wingate By Wyndham Pueblo                         -1.0 -1.0  2.0          2.0   \n",
       "Worldwide Hospitality Supply Company              -1.0 -1.0 -1.0         -1.0   \n",
       "\n",
       "                                               ...  Thomas  Susan  A Traveler  \\\n",
       "1785 Inn                                       ...    -1.0   -1.0        -1.0   \n",
       "1900 House                                     ...    -1.0   -1.0        -1.0   \n",
       "A Bed & Breakfast In Cambridge                 ...    -1.0   -1.0         1.0   \n",
       "A Swallow's Nest Motel                         ...    -1.0   -1.0        -1.0   \n",
       "Abbeville Inn                                  ...    -1.0   -1.0        -1.0   \n",
       "...                                            ...     ...    ...         ...   \n",
       "Whiteface Chalet                               ...    -1.0   -1.0        -1.0   \n",
       "Wine Valley Lodge                              ...     2.0   -1.0         2.0   \n",
       "Wingate By Wyndham Chantilly / Dulles Airport  ...    -1.0   -1.0         2.0   \n",
       "Wingate By Wyndham Pueblo                      ...    -1.0   -1.0         2.0   \n",
       "Worldwide Hospitality Supply Company           ...    -1.0   -1.0        -1.0   \n",
       "\n",
       "                                                 M  Not Provided    B  Laura  \\\n",
       "1785 Inn                                      -1.0          -1.0 -1.0   -1.0   \n",
       "1900 House                                    -1.0          -1.0 -1.0   -1.0   \n",
       "A Bed & Breakfast In Cambridge                -1.0          -1.0 -1.0   -1.0   \n",
       "A Swallow's Nest Motel                        -1.0          -1.0 -1.0   -1.0   \n",
       "Abbeville Inn                                 -1.0          -1.0 -1.0   -1.0   \n",
       "...                                            ...           ...  ...    ...   \n",
       "Whiteface Chalet                              -1.0          -1.0 -1.0   -1.0   \n",
       "Wine Valley Lodge                              2.0          -1.0 -1.0    2.0   \n",
       "Wingate By Wyndham Chantilly / Dulles Airport -1.0          -1.0 -1.0   -1.0   \n",
       "Wingate By Wyndham Pueblo                      2.0           2.0 -1.0    2.0   \n",
       "Worldwide Hospitality Supply Company          -1.0          -1.0 -1.0   -1.0   \n",
       "\n",
       "                                               xxxxxxxxxxxxxx  Michael  Joseph  \n",
       "1785 Inn                                                 -1.0     -1.0    -1.0  \n",
       "1900 House                                               -1.0     -1.0    -1.0  \n",
       "A Bed & Breakfast In Cambridge                           -1.0     -1.0    -1.0  \n",
       "A Swallow's Nest Motel                                   -1.0     -1.0    -1.0  \n",
       "Abbeville Inn                                            -1.0     -1.0    -1.0  \n",
       "...                                                       ...      ...     ...  \n",
       "Whiteface Chalet                                         -1.0     -1.0    -1.0  \n",
       "Wine Valley Lodge                                        -1.0      1.0    -1.0  \n",
       "Wingate By Wyndham Chantilly / Dulles Airport            -1.0     -1.0    -1.0  \n",
       "Wingate By Wyndham Pueblo                                -1.0     -1.0    -1.0  \n",
       "Worldwide Hospitality Supply Company                     -1.0     -1.0    -1.0  \n",
       "\n",
       "[604 rows x 49 columns]"
      ]
     },
     "execution_count": 63,
     "metadata": {},
     "output_type": "execute_result"
    }
   ],
   "source": [
    "df_hotels.fillna(-1)"
   ]
  },
  {
   "cell_type": "markdown",
   "metadata": {},
   "source": [
    "fillna：用某一個特定值取代所有 nan\n",
    "\n",
    "**DataFrame.as_matrix()為舊方法!!!!!!!**\n",
    "\n",
    "[如何將 Pandas Dataframe 轉換為 Numpy 陣列](https://www.delftstack.com/zh-tw/howto/python-pandas/how-to-convert-pandas-dataframe-to-numpy-array/)\n",
    "\n"
   ]
  },
  {
   "cell_type": "code",
   "execution_count": 109,
   "metadata": {},
   "outputs": [
    {
     "data": {
      "text/plain": [
       "array([[-1., -1., -1., ..., -1., -1., -1.],\n",
       "       [-1., -1., -1., ..., -1., -1., -1.],\n",
       "       [-1., -1., -1., ..., -1., -1., -1.],\n",
       "       ...,\n",
       "       [-1., -1., -1., ..., -1., -1., -1.],\n",
       "       [-1., -1., -1., ..., -1., -1., -1.],\n",
       "       [-1., -1., -1., ..., -1., -1., -1.]])"
      ]
     },
     "execution_count": 109,
     "metadata": {},
     "output_type": "execute_result"
    }
   ],
   "source": [
    "df_hotels.fillna(-1).to_numpy()"
   ]
  },
  {
   "cell_type": "code",
   "execution_count": 111,
   "metadata": {},
   "outputs": [],
   "source": [
    "#hot_mat = np.array(df_hotels.fillna(-1).as_matrix())\n",
    "hot_mat = df_hotels.fillna(-1).to_numpy()\n",
    "anno_hot = AnnotationsContainer.from_array(hot_mat, missing_values=[-1])"
   ]
  },
  {
   "cell_type": "code",
   "execution_count": 68,
   "metadata": {},
   "outputs": [
    {
     "data": {
      "text/plain": [
       "array([[-1, -1, -1, ..., -1, -1, -1],\n",
       "       [-1, -1, -1, ..., -1, -1, -1],\n",
       "       [-1, -1, -1, ..., -1, -1, -1],\n",
       "       ...,\n",
       "       [-1, -1, -1, ..., -1, -1, -1],\n",
       "       [-1, -1, -1, ..., -1, -1, -1],\n",
       "       [-1, -1, -1, ..., -1, -1, -1]])"
      ]
     },
     "execution_count": 68,
     "metadata": {},
     "output_type": "execute_result"
    }
   ],
   "source": [
    "anno_hot.annotations"
   ]
  },
  {
   "cell_type": "code",
   "execution_count": 112,
   "metadata": {},
   "outputs": [
    {
     "data": {
      "text/plain": [
       "[0.0, 1.0, 2.0, 3.0, 4.0, 5.0]"
      ]
     },
     "execution_count": 112,
     "metadata": {},
     "output_type": "execute_result"
    }
   ],
   "source": [
    "anno_hot.labels"
   ]
  },
  {
   "cell_type": "code",
   "execution_count": 113,
   "metadata": {},
   "outputs": [
    {
     "data": {
      "text/plain": [
       "[-1]"
      ]
     },
     "execution_count": 113,
     "metadata": {},
     "output_type": "execute_result"
    }
   ],
   "source": [
    "anno_hot.missing_values"
   ]
  },
  {
   "cell_type": "markdown",
   "metadata": {},
   "source": [
    "Look at coder agreement"
   ]
  },
  {
   "cell_type": "code",
   "execution_count": 116,
   "metadata": {},
   "outputs": [
    {
     "data": {
      "text/plain": [
       "array([0.07806534, 0.26262198, 0.63555367, 0.00636402, 0.0093339 ,\n",
       "       0.00806109])"
      ]
     },
     "execution_count": 116,
     "metadata": {},
     "output_type": "execute_result"
    }
   ],
   "source": [
    "pyanno.measures.agreement.labels_frequency(anno_hot.annotations, 6)#6 possible catagories"
   ]
  },
  {
   "cell_type": "code",
   "execution_count": 117,
   "metadata": {},
   "outputs": [
    {
     "name": "stdout",
     "output_type": "stream",
     "text": [
      "[[0. 0. 0. 0. 0. 0.]\n",
      " [0. 0. 1. 0. 0. 0.]\n",
      " [1. 0. 4. 0. 0. 0.]\n",
      " [0. 0. 0. 0. 0. 0.]\n",
      " [0. 0. 0. 0. 0. 0.]\n",
      " [0. 0. 0. 0. 0. 0.]]\n"
     ]
    },
    {
     "data": {
      "image/png": "[encoded data removed]",
      "text/plain": [
       "<Figure size 432x288 with 2 Axes>"
      ]
     },
     "metadata": {
      "needs_background": "light"
     },
     "output_type": "display_data"
    }
   ],
   "source": [
    "c = pyanno.measures.agreement.confusion_matrix(anno_hot.annotations[:,0], anno_hot.annotations[:,1], 6) #6 possible catagories\n",
    "print(c)\n",
    "ac = seaborn.heatmap(c)\n",
    "plt.show()"
   ]
  },
  {
   "cell_type": "markdown",
   "metadata": {},
   "source": [
    "Most agreement is on 2 i.e. an average hotel and there's little agreement as rating go higher, likely due to scarcity in the sample"
   ]
  },
  {
   "cell_type": "code",
   "execution_count": 118,
   "metadata": {},
   "outputs": [
    {
     "data": {
      "text/plain": [
       "0.3787878787878787"
      ]
     },
     "execution_count": 118,
     "metadata": {},
     "output_type": "execute_result"
    }
   ],
   "source": [
    "scotts_pi(anno_hot.annotations[:,0], anno_hot.annotations[:,1])"
   ]
  },
  {
   "cell_type": "code",
   "execution_count": 119,
   "metadata": {},
   "outputs": [
    {
     "data": {
      "text/plain": [
       "0.398760907615921"
      ]
     },
     "execution_count": 119,
     "metadata": {},
     "output_type": "execute_result"
    }
   ],
   "source": [
    "krippendorffs_alpha(anno_hot.annotations[::])"
   ]
  },
  {
   "cell_type": "code",
   "execution_count": 120,
   "metadata": {},
   "outputs": [
    {
     "data": {
      "text/plain": [
       "0.40328336902212697"
      ]
     },
     "execution_count": 120,
     "metadata": {},
     "output_type": "execute_result"
    }
   ],
   "source": [
    "cohens_kappa(anno_hot.annotations[:,0], anno_hot.annotations[:,1])"
   ]
  },
  {
   "cell_type": "code",
   "execution_count": 121,
   "metadata": {
    "scrolled": true
   },
   "outputs": [
    {
     "name": "stderr",
     "output_type": "stream",
     "text": [
      "H:\\anaconda3\\lib\\site-packages\\pyanno\\measures\\helpers.py:166: RuntimeWarning: invalid value encountered in double_scalars\n",
      "  return (observed_agreement - chance_agreement) / (1. - chance_agreement)\n"
     ]
    },
    {
     "data": {
      "text/plain": [
       "<AxesSubplot:>"
      ]
     },
     "execution_count": 121,
     "metadata": {},
     "output_type": "execute_result"
    },
    {
     "data": {
      "image/png": "[encoded data removed]",
      "text/plain": [
       "<Figure size 1080x1080 with 2 Axes>"
      ]
     },
     "metadata": {
      "needs_background": "light"
     },
     "output_type": "display_data"
    }
   ],
   "source": [
    "m = pairwise_matrix(cohens_kappa, anno_hot.annotations)\n",
    "fig, ax = plt.subplots(figsize = (15, 15))\n",
    "seaborn.heatmap(m, ax =ax)"
   ]
  },
  {
   "cell_type": "markdown",
   "metadata": {},
   "source": [
    "mle：Computes maximum likelihood estimate (MLE) of parameters.計算參數的最大似然估計 ( MLE )。"
   ]
  },
  {
   "cell_type": "code",
   "execution_count": null,
   "metadata": {},
   "outputs": [],
   "source": [
    "model_hot = ModelBt.create_initial_state(6, 49)\n",
    "model_hot.mle(anno_hot.annotations)\n",
    "print(model.theta)\n",
    "print(model_hot.log_likelihood(anno_hot.annotations))"
   ]
  },
  {
   "cell_type": "markdown",
   "metadata": {},
   "source": [
    "v = [0] * len(...) = [0,0,0,0,0...0,0,0,0]"
   ]
  },
  {
   "cell_type": "code",
   "execution_count": 85,
   "metadata": {},
   "outputs": [],
   "source": [
    "def makeQuestionComparison(model, anno_target, num_questions = 20):\n",
    "    votes = []\n",
    "    for r in anno_target.annotations:\n",
    "        v = [0] * len(anno_target.labels)\n",
    "        votes.append(v)\n",
    "        #print(r)\n",
    "        for a in r:\n",
    "            if a > -1:\n",
    "                v[a] += 1\n",
    "            #print(v[a])\n",
    "    #print(\"\\nvotes:\\n\")\n",
    "    #print(votes)\n",
    "    votes_array = np.array(votes)\n",
    "    posterior = model.infer_labels(anno_target.annotations)\n",
    "    fig, (ax1, ax2) = plt.subplots(ncols=2, figsize = (15, 10), sharey=True)\n",
    "\n",
    "    seaborn.heatmap(votes_array[:num_questions], annot = True, ax=ax2)\n",
    "    seaborn.heatmap(np.nan_to_num(posterior,0)[:num_questions], annot=True, ax =ax1)\n",
    "    ax1.set_title(\"Model\")\n",
    "    ax2.set_title(\"Votes\")\n",
    "    return fig, (ax1, ax2)"
   ]
  },
  {
   "cell_type": "code",
   "execution_count": null,
   "metadata": {},
   "outputs": [],
   "source": []
  },
  {
   "cell_type": "markdown",
   "metadata": {},
   "source": [
    "- ncols，兩列子圖\n",
    "- sharey ，共享y軸\n",
    "- [matplotlib.pyplot.subplots](https://matplotlib.org/stable/api/_as_gen/matplotlib.pyplot.subplots.html) \n",
    "參數說明"
   ]
  },
  {
   "cell_type": "code",
   "execution_count": 86,
   "metadata": {},
   "outputs": [
    {
     "data": {
      "text/plain": [
       "(<Figure size 1080x720 with 4 Axes>,\n",
       " (<AxesSubplot:title={'center':'Model'}>,\n",
       "  <AxesSubplot:title={'center':'Votes'}>))"
      ]
     },
     "execution_count": 86,
     "metadata": {},
     "output_type": "execute_result"
    },
    {
     "data": {
      "image/png": "[encoded data removed]",
      "text/plain": [
       "<Figure size 1080x720 with 4 Axes>"
      ]
     },
     "metadata": {
      "needs_background": "light"
     },
     "output_type": "display_data"
    }
   ],
   "source": [
    "makeQuestionComparison(model_hot, anno_hot)"
   ]
  },
  {
   "cell_type": "markdown",
   "metadata": {},
   "source": [
    "## <span style=\"color:red\">*Your turn*</span>\n",
    "\n",
    "<span style=\"color:red\">In the cells immediately following, use the results of your content annotation survey to predict high and low-quality analysts, then predict MAP estimates for your codes in question. What do these estimates suggest about the distribution of skill among your coders? How different are these estimates from a majority vote?"
   ]
  }
 ],
 "metadata": {
  "anaconda-cloud": {},
  "kernelspec": {
   "display_name": "Python 3",
   "language": "python",
   "name": "python3"
  },
  "language_info": {
   "codemirror_mode": {
    "name": "ipython",
    "version": 3
   },
   "file_extension": ".py",
   "mimetype": "text/x-python",
   "name": "python",
   "nbconvert_exporter": "python",
   "pygments_lexer": "ipython3",
   "version": "3.8.8"
  }
 },
 "nbformat": 4,
 "nbformat_minor": 1
}
