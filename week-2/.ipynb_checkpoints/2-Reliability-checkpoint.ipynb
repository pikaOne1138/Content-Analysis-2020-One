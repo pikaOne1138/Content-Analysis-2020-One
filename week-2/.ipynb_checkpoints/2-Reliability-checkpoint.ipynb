{
 "cells": [
  {
   "cell_type": "markdown",
   "metadata": {},
   "source": [
    "# Week 2 - Sampling & Reliability 抽樣和可靠性\n",
    "\n",
    "Up until this week, we have assumed that the corpus you have used for analysis assignments represented a *meaningful* assemblage of texts from which reasonable inferences could be drawn about the social game, social world and social actors that produced it. \n",
    "\n",
    "This week, we ask you to build a corpus for preliminary analysis and articulate what your sample represents in context of your final project. We begin by exploring how we can get *human* readings of content at scale. We want to gather and utilize human responses for several reasons. First, we may want to use crowdsourced human scores as the primary method of coding, extracting or organizing content (as it was in two of the assigned readings). Second, we may want to validate or tune a computational algorithm we may have developed in terms of how it is associated with human meanings or experience. Finally, we may want to use human coding on a sample of data as the basis for training a model or algorithm to then extrapolate *human-like* annotations to the entire population. Here intelligent sampling is critical to maximize effective maching training. \n",
    "\n",
    "For this notebook we will be using the following packages\n",
    "\n",
    "直到本週，我們都假設您用於分析作業的語料庫代表了一組有意義的文本，從中可以對產生它的社交遊戲、社交世界和社會參與者進行合理的推論。\n",
    "\n",
    "本週，我們要求您構建一個用於初步分析的語料庫，並闡明您的樣本在最終項目的背景下代表什麼。我們首先探索如何讓人類大規模閱讀內容。出於多種原因，我們希望收集和利用人類的反應。首先，我們可能希望使用眾包人工評分作為編碼、提取或組織內容的主要方法（就像在兩個指定閱讀中一樣）。其次，我們可能想要驗證或調整我們可能已經開發的計算算法如何與人類意義或經驗相關聯。最後，我們可能希望在數據樣本上使用人工編碼作為訓練模型或算法的基礎，然後推斷類人對整個人口的註釋。在這裡，智能採樣對於最大化有效的加工訓練至關重要。\n",
    "\n",
    "對於這個筆記本，我們將使用以下包"
   ]
  },
  {
   "cell_type": "code",
   "execution_count": 3,
   "metadata": {},
   "outputs": [],
   "source": [
    "#Special module written for this class\n",
    "#This provides access to data and to helper functions from previous weeks\n",
    "#Make sure you update it before starting this notebook\n",
    "import lucem_illud_2020 #pip install -U git+git://github.com/Computational-Content-Analysis-2020/lucem_illud_2020.git\n",
    "\n",
    "#All these packages need to be installed from pip\n",
    "import numpy as np #For arrays\n",
    "import scipy as sp #For some stats\n",
    "import pandas #Gives us DataFrames\n",
    "import matplotlib.pyplot as plt #For graphics\n",
    "import seaborn #Makes the graphics look nicer\n",
    "import pyanno #On python3 make sure to pip install pyanno3\n",
    "\n",
    "#We need to import these this way due to how pyanno is setup\n",
    "from pyanno.measures import pairwise_matrix, agreement, cohens_kappa, cohens_weighted_kappa, fleiss_kappa, krippendorffs_alpha, pearsons_rho, scotts_pi, spearmans_rho\n",
    "from pyanno.annotations import AnnotationsContainer\n",
    "from pyanno.models import ModelA, ModelBt, ModelB\n",
    "\n",
    "from functools import reduce\n",
    "from itertools import permutations\n",
    "import math\n",
    "\n",
    "\n",
    "#This 'magic' command makes the plots work better\n",
    "#in the notebook, don't use it outside of a notebook.\n",
    "#Also you can ignore the warning\n",
    "%matplotlib inline\n",
    "\n",
    "import os #For looking through files\n",
    "import os.path #For managing file paths"
   ]
  },
  {
   "cell_type": "markdown",
   "metadata": {},
   "source": [
    "[pyanno用戶指南使用python庫](http://docs.enthought.com/uchicago-pyanno/user_guide.html#using-the-library-from-python)\n",
    "\n",
    "pyAnno 2.0 is a Python library for the analysis and diagnostic testing of annotation and curation efforts. pyAnno implements statistical models for inferring from categorical data annotated by multiple annotators:\n",
    "\n",
    "- annotator accuracies and biases,\n",
    "- gold standard categories of items,\n",
    "- prevalence of categories in population, and\n",
    "- population distribution of annotator accuracies and biases.\n",
    "\n",
    "The models include a generalization of Dawid and Skene’s (1979) multinomial model with Dirichlet priors on prevalence and estimator accuracy, and the two models introduces in Rzhetsky et al.’s (2009). The implementation allows Maximum Likelihood and Maximum A Posteriori estimation of parameters, and to draw samples from the full posterior distribution over annotator accuracy.\n",
    "\n",
    "pyAnno 2.0 是一個 Python 庫，用於對註釋和管理工作進行分析和診斷測試。pyAnno 實現了統計模型，用於從多個註釋器註釋的分類數據中進行推斷：\n",
    "\n",
    "- 註釋器的準確性和偏差，\n",
    "- 項目的黃金標準類別，\n",
    "- 人口類別的流行程度，以及\n",
    "- 註釋器準確性和偏差的總體分佈。\n",
    "這些模型包括 Dawid 和 Skene (1979) 多項式模型的泛化和 Dirichlet 先驗關於流行度和估計器準確度，這兩個模型在 Rzhetsky 等人 (2009) 中引入。該實現允許參數的最大似然和最大後驗估計，並從註釋器準確性的完整後驗分佈中抽取樣本。\n",
    "\n",
    "pyAnno 庫由幾個模塊組成：\n",
    "\n",
    "pyanno.models為註解過程定義了許多模型\n",
    "pyanno.annotations提供了一個AnnotationsContainer對象來加載註釋文件\n",
    "pyanno.measures包含許多統計函數來測量註釋者之間的一致性和協方差\n",
    "pyanno.plots定義函數以給出註釋和模型參數的圖形表示\n",
    "pyanno.database定義了一個 PyannoDatabase對象，可用於存儲和檢索將模型應用於註釋的結果\n",
    "pyanno.ui包含 pyAnno GUI 的定義，由 pyAnno 應用程序使用，通常不直接從 Python 使用\n",
    "                      "
   ]
  },
  {
   "cell_type": "markdown",
   "metadata": {},
   "source": [
    "## <span style=\"color:red\">*Pitch the Domain of your Project*  推銷你的項目領域 </span>\n",
    "\n",
    "<span style=\"color:red\">In the two cells immediately following, describe **WHAT** you are planning to analyze for your final project (i.e., texts, contexts and the social game, world and actors you intend to learn about through your analysis) (<200 words) and **WHY** you are going to do it (i.e., why would theory and/or the average person benefit from knowing the results of your investigation) (<200 words)? [**Note**: your individual or collective project can change over the course of the quarter if new data and/or analysis opportunities arise or if old ones fade away.]\n",
    "    \n",
    "推銷你的項目領域\n",
    "在兩個單元格緊隨其後，說明什麼你打算來分析您的最終項目（即文本，背景和社交遊戲，世界和演員，你希望通過你的分析，以了解）（<200字），為什麼你打算這樣做（即，為什麼理論和/或普通人會從了解您的調查結果中受益）（<200 字）？[注意：如果出現新的數據和/或分析機會或舊的數據和/或分析機會消失，您的個人或集體項目可能會在本季度的過程中發生變化。]"
   ]
  },
  {
   "cell_type": "markdown",
   "metadata": {},
   "source": [
    "## ***What?*** \n",
    "<200 words"
   ]
  },
  {
   "cell_type": "markdown",
   "metadata": {},
   "source": [
    "## ***Why?***\n",
    "<200 words"
   ]
  },
  {
   "cell_type": "markdown",
   "metadata": {},
   "source": [
    "## <span style=\"color:red\">*Pitch Your Sample*</span>\n",
    "\n",
    "<span style=\"color:red\">In the cell immediately following, describe the rationale behind your proposed sample design for your final project. What is the social game, social work, or social actors about whom you are seeking to make inferences? What are its virtues with respect to your research questions? What are its limitations? What are alternatives? What would be a reasonable path to \"scale up\" your sample for further analysis (i.e., high-profile publication)? (<200 words)."
   ]
  },
  {
   "cell_type": "markdown",
   "metadata": {},
   "source": [
    "# Example Annotation Dataset"
   ]
  },
  {
   "cell_type": "markdown",
   "metadata": {},
   "source": [
    "Load Rzhetsky et al (2009)'s sample dataset, which can be found [here](https://github.com/enthought/uchicago-pyanno/tree/master/data). This data is the result of a content analytic / content extraction study in which Andrey Rzhetsky and colleagues from the National Library of Medicine, published [here](http://journals.plos.org/ploscompbiol/article?id=10.1371/journal.pcbi.1000391) in [PLOS Computational Biology](http://journals.plos.org/ploscompbiol/), gave eight annotators 10,000 sentence chunks from biomedical text in biomedical abstracts and articles, then asked them, in a loop design schematically illustrated below that provided 3 independent codings for each document. The sampling strategy pursued diversity by drawing from PubMed abstracts (1000) and full-text articles (9000: 20% from abstracts, 10% from introductions, 20% from methods, 25% from results, and 25% from discussions.) The dataset extract here involves respondents codes for sentences in terms of their *Evidence*: {0, 1, 2, 3, -1} where 0 is the complete lack of evidence, 3 is direct evidence present within the sentence, and -1 is didn't respond. (They also crowdsourced and analyzed *polarity*, *certainty*, and *number*). For example, consider the following two abutting sentence chunks: *\"Because null mutations in toxR and toxT abolish CT and TcpA expression in the El Tor biotype and also attenuate virulence...\"* [i.e., average certainty = 0], *\"...it is likely that the ToxR regulon has functional similarities between the two biotypes despite the clear differences in the inducing parameters observed in vitro\"* [i.e., average certainty = 1].\""
   ]
  },
  {
   "cell_type": "code",
   "execution_count": 4,
   "metadata": {},
   "outputs": [
    {
     "data": {
      "text/html": [
       "<img source=\"loopdesign.png\">\n"
      ],
      "text/plain": [
       "<IPython.core.display.HTML object>"
      ]
     },
     "metadata": {},
     "output_type": "display_data"
    }
   ],
   "source": [
    "%%html\n",
    "<img source=\"loopdesign.png\">"
   ]
  },
  {
   "cell_type": "markdown",
   "metadata": {},
   "source": [
    "[Click here for loop design](loopdesign.png)"
   ]
  },
  {
   "cell_type": "markdown",
   "metadata": {},
   "source": [
    "之前宣告 numpy as np \n",
    "Numpy 是許多 Python 資料科學套件的基礎，讓使用者可以很容易建立向量（Vector）、矩陣（Matrix）等進行高效率的大量資料運算。\n",
    "[簡明 Python Numpy 入門教學](https://blog.techbridge.cc/2020/08/24/numpy-zen-intro-tutorial/)\n",
    "\n",
    "loadtxt：讀取文字檔轉成矩陣\n",
    "\n",
    "從 from pyanno.annotations import AnnotationsContainer\n",
    "AnnotationsContainer能夠讀取帶有由空格和/或逗號分隔的註釋的文本文件。標籤可以是任何數字或單詞。使用missing_values關鍵字參數可以指定哪些標記表示數據中的缺失值。文件的默認缺失值為 ‘-1’, ‘NA’, ‘None’, and ‘*’."
   ]
  },
  {
   "cell_type": "code",
   "execution_count": 10,
   "metadata": {},
   "outputs": [],
   "source": [
    "x = np.loadtxt(\"../data/pyAnno/testdata_numerical.txt\")\n",
    "anno = AnnotationsContainer.from_array(x, missing_values=[-1])"
   ]
  },
  {
   "cell_type": "markdown",
   "metadata": {},
   "source": [
    "Interrogate the AnnotationsContainer object.\n",
    "詢問 AnnotationsContainer 對象。"
   ]
  },
  {
   "cell_type": "code",
   "execution_count": 11,
   "metadata": {},
   "outputs": [
    {
     "data": {
      "text/plain": [
       "array([[ 1,  2,  3, ..., -1, -1, -1],\n",
       "       [ 0,  0,  0, ..., -1, -1, -1],\n",
       "       [ 2,  2,  1, ..., -1, -1, -1],\n",
       "       ...,\n",
       "       [ 2,  2, -1, ..., -1, -1,  1],\n",
       "       [ 2,  2, -1, ..., -1, -1,  3],\n",
       "       [ 1,  1, -1, ..., -1, -1,  0]])"
      ]
     },
     "execution_count": 11,
     "metadata": {},
     "output_type": "execute_result"
    }
   ],
   "source": [
    "anno.annotations"
   ]
  },
  {
   "cell_type": "code",
   "execution_count": 7,
   "metadata": {},
   "outputs": [
    {
     "data": {
      "text/plain": [
       "[1.0, 2.0, 3.0, 4.0]"
      ]
     },
     "execution_count": 7,
     "metadata": {},
     "output_type": "execute_result"
    }
   ],
   "source": [
    "anno.labels"
   ]
  },
  {
   "cell_type": "code",
   "execution_count": 8,
   "metadata": {},
   "outputs": [
    {
     "data": {
      "text/plain": [
       "[-1]"
      ]
     },
     "execution_count": 8,
     "metadata": {},
     "output_type": "execute_result"
    }
   ],
   "source": [
    "anno.missing_values"
   ]
  },
  {
   "cell_type": "markdown",
   "metadata": {},
   "source": [
    "# Annotation Statistics 註釋統計"
   ]
  },
  {
   "cell_type": "markdown",
   "metadata": {},
   "source": [
    "First, we assume categorical codes...that each code is qualitatively distinct from each other. Two measures are primarily used for this: Scott's $\\pi$, Cohen's $\\kappa$, and Krippendorff's $\\alpha$ which each measure the extent of agreement between two annotators, but take into account the possibility of the agreement occurring by chance in slightly different ways. Any agreement measure begins with the frequency of codes:\n",
    "\n",
    "首先，我們假設分類代碼……每個代碼在質量上彼此不同。為此主要使用兩種度量：Scott 的 𝜋 , 科恩  𝜅 , 和克里彭多夫的  𝛼 每個都測量兩個註釋者之間的一致程度，但考慮到以略有不同的方式偶然發生一致的可能性。任何一致性度量都從代碼的頻率開始："
   ]
  },
  {
   "cell_type": "markdown",
   "metadata": {},
   "source": [
    "pyanno.measures包含許多統計函數來測量註釋者之間的一致性和協方差"
   ]
  },
  {
   "cell_type": "code",
   "execution_count": 7,
   "metadata": {},
   "outputs": [
    {
     "data": {
      "text/plain": [
       "array([0.11666667, 0.245     , 0.34083333, 0.2975    ])"
      ]
     },
     "execution_count": 7,
     "metadata": {},
     "output_type": "execute_result"
    }
   ],
   "source": [
    "pyanno.measures.agreement.labels_frequency(anno.annotations,4)"
   ]
  },
  {
   "cell_type": "markdown",
   "metadata": {},
   "source": [
    "Now consider the \"confusion matrix\" or matrix of coded agreements between any two coders:\n",
    "\n",
    "現在考慮任何兩個編碼器之間的“混淆矩陣”或編碼協議矩陣："
   ]
  },
  {
   "cell_type": "markdown",
   "metadata": {},
   "source": [
    "import seaborn #Makes the graphics look nicer\n",
    "\n",
    "熱圖是一個以顏色變化來顯示數據的矩陣。簡單來說，就是用依據數字的不同，使用不同的顏色來呈現數據。\n",
    "\n",
    "[python3.x-seaborn.heatmap随笔](https://zhuanlan.zhihu.com/p/35494575) 用處：將數據繪製為顏色方格（編碼矩陣）。\n",
    "[Python 商業數據分析之可視化繪圖 第19講： 熱力圖（Seaborn-Heatmap）](https://medium.com/python-%E8%B3%87%E6%96%99%E8%A6%96%E8%A6%BA%E5%8C%96/python-%E5%95%86%E6%A5%AD%E6%95%B8%E6%93%9A%E5%88%86%E6%9E%90%E4%B9%8B%E5%8F%AF%E8%A6%96%E5%8C%96%E7%B9%AA%E5%9C%96-%E7%AC%AC19%E8%AC%9B-%E7%86%B1%E5%8A%9B%E5%9C%96-seaborn-heatmap-cf1b17d7964e)"
   ]
  },
  {
   "cell_type": "code",
   "execution_count": 8,
   "metadata": {},
   "outputs": [
    {
     "name": "stdout",
     "output_type": "stream",
     "text": [
      "[[ 8.  7.  3.  2.]\n",
      " [ 9. 30. 13.  3.]\n",
      " [ 2.  9. 42. 11.]\n",
      " [ 1.  7. 14. 39.]]\n"
     ]
    },
    {
     "data": {
      "image/png": "[encoded data removed]",
      "text/plain": [
       "<Figure size 432x288 with 2 Axes>"
      ]
     },
     "metadata": {
      "needs_background": "light"
     },
     "output_type": "display_data"
    }
   ],
   "source": [
    "c = pyanno.measures.agreement.confusion_matrix(anno.annotations[:,0], anno.annotations[:,1],4)\n",
    "print(c)\n",
    "ac = seaborn.heatmap(c)\n",
    "plt.show()"
   ]
  },
  {
   "cell_type": "markdown",
   "metadata": {},
   "source": [
    "Scott's $\\pi$ is computed as:\n",
    "\n",
    "$\\pi = \\frac{\\text{Pr}(a)-\\text{Pr}(e)}{1-\\text{Pr}(e)}$\n",
    "\n",
    "Where Pr($a$) is relative observed agreement, and Pr($e$) is expected agreement using joint proportions calculated from the confusion matrix or matrix of coded agreements between any two coders:"
   ]
  },
  {
   "cell_type": "code",
   "execution_count": 9,
   "metadata": {},
   "outputs": [
    {
     "data": {
      "text/plain": [
       "0.4386478265891502"
      ]
     },
     "execution_count": 9,
     "metadata": {},
     "output_type": "execute_result"
    }
   ],
   "source": [
    "scotts_pi(anno.annotations[:,0], anno.annotations[:,1])"
   ]
  },
  {
   "cell_type": "markdown",
   "metadata": {},
   "source": [
    "[scotts_pi API查找](http://docs.enthought.com/uchicago-pyanno/pyanno.measures.html?highlight=scotts_pi)\n",
    "scotts_pi從pyanno.measures來\n",
    "\n",
    "返回 Scott 對兩個註釋者的 pi 統計量。\n",
    "假設註釋者以與組合觀察到的註釋相同的頻率繪製隨機註釋。"
   ]
  },
  {
   "cell_type": "markdown",
   "metadata": {},
   "source": [
    "The generalization of Scott's $\\pi$ to $n$ coders is Fleiss' $\\kappa$ (Fleiss called it $\\kappa$ because he thought he was generalizing Cohen's $\\kappa$)"
   ]
  },
  {
   "cell_type": "code",
   "execution_count": 10,
   "metadata": {},
   "outputs": [
    {
     "data": {
      "text/plain": [
       "0.40417653771912765"
      ]
     },
     "execution_count": 10,
     "metadata": {},
     "output_type": "execute_result"
    }
   ],
   "source": [
    "fleiss_kappa(anno.annotations[::])"
   ]
  },
  {
   "cell_type": "markdown",
   "metadata": {},
   "source": [
    "[fleiss_kappa API查找](http://docs.enthought.com/uchicago-pyanno/pyanno.measures.html?highlight=fleiss_kappa)\n",
    "fleiss_kappa從pyanno.measures來\n",
    "Compute Fleiss’ kappa for multiple annotators. 為多個註釋器計算 Fleiss 的 kappa。"
   ]
  },
  {
   "cell_type": "markdown",
   "metadata": {},
   "source": [
    "Krippendorff's $\\alpha$ generalizes of Fleiss' $\\kappa$ to $n$ coders and takes into account the fact that annotations here are not categorically different, but ordinal, by adding a weight matrix in which off-diagonal cells contain weights indicating the seriousness of the disagreement between each score. When produced with no arguments, it simply produces an arithmetic distance (e.g., 3-1=2), such that cells one off the diagonal are weighted 1, two off 2, etc."
   ]
  },
  {
   "cell_type": "code",
   "execution_count": 11,
   "metadata": {},
   "outputs": [
    {
     "data": {
      "text/plain": [
       "0.6472588223831547"
      ]
     },
     "execution_count": 11,
     "metadata": {},
     "output_type": "execute_result"
    }
   ],
   "source": [
    "krippendorffs_alpha(anno.annotations[::])"
   ]
  },
  {
   "cell_type": "markdown",
   "metadata": {},
   "source": [
    "krippendorffs_alpha來自pyanno.measures "
   ]
  },
  {
   "cell_type": "markdown",
   "metadata": {},
   "source": [
    "Like Scott's $\\pi$, Cohen's $\\kappa$ also takes into account the possibility of the agreement occurring by chance, but in the following way:\n",
    "\n",
    "$\\kappa = \\frac{p_o-p_e}{1-p_e}=1-\\frac{1-p_o}{p_e}$\n",
    "\n",
    "where $p_o$ is the relative observed agreement among raters, and $p_e$ is the hypothetical probability of chance agreement, using the observed data to calculate the probabilities of each observer randomly saying each category. If the raters are in complete agreement then $\\kappa = 1$. If there is no agreement among the raters other than what would be expected by chance (as given by $p_e$), $\\kappa ≤ 0 $. Here, Cohen's $\\kappa$ statistic for the first two annotators is computed. This is probably the most common metric of agreement."
   ]
  },
  {
   "cell_type": "code",
   "execution_count": 12,
   "metadata": {},
   "outputs": [
    {
     "data": {
      "text/plain": [
       "0.43917037219392857"
      ]
     },
     "execution_count": 12,
     "metadata": {},
     "output_type": "execute_result"
    }
   ],
   "source": [
    "cohens_kappa(anno.annotations[:,0], anno.annotations[:,1])"
   ]
  },
  {
   "cell_type": "markdown",
   "metadata": {},
   "source": [
    "cohens_kappa 來自pyanno.measures "
   ]
  },
  {
   "cell_type": "code",
   "execution_count": 13,
   "metadata": {},
   "outputs": [
    {
     "name": "stdout",
     "output_type": "stream",
     "text": [
      "[[1.         0.43917037 0.47677621        nan        nan        nan\n",
      "  0.45819119 0.43381462]\n",
      " [0.43917037 1.         0.38432922 0.41344423        nan        nan\n",
      "         nan 0.33643611]\n",
      " [0.47677621 0.38432922 1.         0.39583333 0.51704894        nan\n",
      "         nan        nan]\n",
      " [       nan 0.41344423 0.39583333 1.         0.34597068 0.4446844\n",
      "         nan        nan]\n",
      " [       nan        nan 0.51704894 0.34597068 1.         0.37938644\n",
      "  0.43039733        nan]\n",
      " [       nan        nan        nan 0.4446844  0.37938644 1.\n",
      "  0.38341929 0.31214748]\n",
      " [0.45819119        nan        nan        nan 0.43039733 0.38341929\n",
      "  1.         0.394806  ]\n",
      " [0.43381462 0.33643611        nan        nan        nan 0.31214748\n",
      "  0.394806   1.        ]]\n"
     ]
    }
   ],
   "source": [
    "m = pairwise_matrix(cohens_kappa, anno.annotations)\n",
    "print(m)"
   ]
  },
  {
   "cell_type": "markdown",
   "metadata": {},
   "source": [
    "pairwise_matrix 來自pyanno.measures \n",
    "\n",
    "http://docs.enthought.com/uchicago-pyanno/pyanno.measures.html?highlight=pairwise_matrix#pyanno.measures.helpers.pairwise_matrix"
   ]
  },
  {
   "cell_type": "code",
   "execution_count": 14,
   "metadata": {},
   "outputs": [
    {
     "data": {
      "image/png": "[encoded data removed]",
      "text/plain": [
       "<Figure size 432x288 with 2 Axes>"
      ]
     },
     "metadata": {
      "needs_background": "light"
     },
     "output_type": "display_data"
    }
   ],
   "source": [
    "ax = seaborn.heatmap(m)\n",
    "plt.show()"
   ]
  },
  {
   "cell_type": "markdown",
   "metadata": {},
   "source": [
    "You can see that this 8 by 3 loop design will be less stable than an 8 choose 3 combinatorial design, because each codes with more others. \n",
    "您可以看到，這種 8 x 3 循環設計的穩定性不如 8 選擇 3 組合設計，因為每個編碼與其他編碼更多。"
   ]
  },
  {
   "cell_type": "markdown",
   "metadata": {},
   "source": [
    "One can also assess the average Cohen's $\\kappa$ for all pairs of coders that have coded against one another:\n",
    "人們還可以評估平均科恩  𝜅  對於所有相互編碼的編碼器對："
   ]
  },
  {
   "cell_type": "code",
   "execution_count": 14,
   "metadata": {},
   "outputs": [
    {
     "data": {
      "text/plain": [
       "0.40911598940065674"
      ]
     },
     "execution_count": 14,
     "metadata": {},
     "output_type": "execute_result"
    }
   ],
   "source": [
    "def pairwise_metric_average(metric, array):\n",
    "    \"\"\"Calculate the pairwise metric average for the real elements of metric function run on an array of annotations\"\"\"\n",
    "    p = permutations(range(array[0,:].size),2)\n",
    "    m = [metric(array[:,x[0]], array[:,x[1]]) for x in p]\n",
    "    clean_m = [c for c in m if not math.isnan(c)]\n",
    "    return reduce(lambda a, b: a + b, clean_m)/len(clean_m)    \n",
    " \n",
    "pairwise_metric_average(cohens_kappa, anno.annotations)"
   ]
  },
  {
   "cell_type": "markdown",
   "metadata": {},
   "source": [
    "[itertools --- 为高效循环而创建迭代器的函数](https://docs.python.org/zh-cn/3/library/itertools.html)\n",
    "permutations來自itertools\n",
    "\n",
    "[functools的reduce](https://docs.python.org/zh-cn/3/library/functools.html?highlight=reduce#functools.reduce)\n",
    "[reduce範例](https://www.runoob.com/python/python-func-reduce.html)\n",
    "reduce(lambda parameter1, parameter2: expression, iterable)\n",
    "\n",
    "math.isnan(x)：是否為有效數字"
   ]
  },
  {
   "cell_type": "markdown",
   "metadata": {},
   "source": [
    "As recognized with Krippendorff's flexible $\\alpha$, our scores are *not* categorical, but rather ordered and her considered metric. Weighted $\\kappa$ allows you to count disagreements differently and is useful when codes are ordered as they are here. Here a weight matrix is added to the calculation, in which off-diagonal cells contain weights indicating the seriousness of the disagreement between each score. When automatically produced, it simply produces an arithmetic distance (e.g., 3-1=2), such that cells one off the diagonal are weighted 1, two off 2, etc. Here\n",
    "\n",
    "$\\kappa = 1-\\frac{\\sum^k_{i=1}\\sum^k_{j=1}w_{ij}x_{ij}}{\\sum^k_{i=1}\\sum^k_{j=1}w_{ij}m_{ij}}$\n",
    "\n",
    "where $\\kappa$ = $n$ codes and $w_{ij}$,$x_{ij}$, and $m_{ij}$ represent elements in the weight, observed, and expected matrices, respectively. (Obviously, when diagonal cells contain weights of 0 and off-diagonal cells weights of 1, this equals $\\kappa$)."
   ]
  },
  {
   "cell_type": "markdown",
   "metadata": {},
   "source": [
    "正如 Krippendorff 的靈活  𝛼 ，我們的分數不是分類的，而是有序的和她考慮的指標。加權 𝜅 允許您以不同的方式計算分歧，並且在代碼按此處排序時很有用。這裡在計算中添加了一個權重矩陣，其中非對角線單元包含權重，表明每個分數之間不一致的嚴重程度。當自動生成時，它只是生成一個算術距離（例如，3-1=2），這樣對角線上的單元格的權重為 1，兩個對角線的權重為 2，等等。這裡"
   ]
  },
  {
   "cell_type": "code",
   "execution_count": 15,
   "metadata": {},
   "outputs": [
    {
     "data": {
      "text/plain": [
       "0.5330240507874497"
      ]
     },
     "execution_count": 15,
     "metadata": {},
     "output_type": "execute_result"
    }
   ],
   "source": [
    "cohens_weighted_kappa(anno.annotations[:,0], anno.annotations[:,1])"
   ]
  },
  {
   "cell_type": "markdown",
   "metadata": {},
   "source": [
    "Or averaged over the total:"
   ]
  },
  {
   "cell_type": "code",
   "execution_count": 16,
   "metadata": {},
   "outputs": [
    {
     "data": {
      "text/plain": [
       "0.5299113458717166"
      ]
     },
     "execution_count": 16,
     "metadata": {},
     "output_type": "execute_result"
    }
   ],
   "source": [
    "pairwise_metric_average(cohens_weighted_kappa,anno.annotations)"
   ]
  },
  {
   "cell_type": "markdown",
   "metadata": {},
   "source": [
    "呼叫剛剛宣告的函式 pairwise_metric_average，"
   ]
  },
  {
   "cell_type": "markdown",
   "metadata": {},
   "source": [
    "Alternatively, if the annontation data can be understood as indicating real values, we can assess not agreement, but rather the correlation of values (Pearson's $\\rho$) or correlation of ranks (Spearman's $\\rho$) for pairs of coders:"
   ]
  },
  {
   "cell_type": "markdown",
   "metadata": {},
   "source": [
    "pairwise_matrix 來自pyanno.measures \n",
    "\n",
    "http://docs.enthought.com/uchicago-pyanno/pyanno.measures.html?highlight=pairwise_matrix#pyanno.measures.helpers.pairwise_matrix\n",
    "\n",
    "pyanno.measures.helpers.pairwise_matrix(pairwise_statistic, annotations, \\**args, \\**\\*kwargs)[source]\n",
    "兩個必須參數，兩個選填參數\n",
    "\n",
    "Parameters:\t\n",
    "- pairwise_statistics (function) – Function accepting as first two arguments two 1D array of annotations, and returning a single scalar measuring some annotations statistics.\n",
    "- annotations (ndarray, shape = (n_items, n_annotators)) – Annotations in pyanno format.\n",
    "- args (any) – Additional arguments passed to pairwise_statistics.\n",
    "- kwargs (any) – Additional keyword arguments passed to pairwise_statistics.\n",
    "\n",
    "Returns:\t\n",
    "stat_matrix (ndarray, shape = (n_annotators, n_annotators)) - stat_matrix[i,j] is the value of pairwise_statistics applied to the annotations of annotators i and j\n"
   ]
  },
  {
   "cell_type": "code",
   "execution_count": 18,
   "metadata": {},
   "outputs": [
    {
     "data": {
      "image/png": "[encoded data removed]",
      "text/plain": [
       "<Figure size 432x288 with 2 Axes>"
      ]
     },
     "metadata": {
      "needs_background": "light"
     },
     "output_type": "display_data"
    },
    {
     "data": {
      "image/png": "[encoded data removed]",
      "text/plain": [
       "<Figure size 432x288 with 2 Axes>"
      ]
     },
     "metadata": {
      "needs_background": "light"
     },
     "output_type": "display_data"
    }
   ],
   "source": [
    "n = pairwise_matrix(pearsons_rho, anno.annotations)\n",
    "m = pairwise_matrix(spearmans_rho, anno.annotations)\n",
    "an = seaborn.heatmap(n)\n",
    "plt.show()\n",
    "am = seaborn.heatmap(m)\n",
    "plt.show()"
   ]
  },
  {
   "cell_type": "markdown",
   "metadata": {},
   "source": [
    "Or averaged over all comparable pairs:"
   ]
  },
  {
   "cell_type": "code",
   "execution_count": 19,
   "metadata": {},
   "outputs": [
    {
     "name": "stdout",
     "output_type": "stream",
     "text": [
      "0.6517219321175077 0.63808488688039\n"
     ]
    }
   ],
   "source": [
    "print(pairwise_metric_average(pearsons_rho,anno.annotations), pairwise_metric_average(spearmans_rho,anno.annotations))"
   ]
  },
  {
   "cell_type": "markdown",
   "metadata": {},
   "source": [
    "## <span style=\"color:red\">*Your turn*</span>\n",
    "\n",
    "<span style=\"color:red\">Perform a content annotation survey of some kind in which at least 3 people evaluate and code each piece of content, using Amazon Mechanical Turk as described in the MTurk slides in the Assignment link on Canvas, or by hand with friends.  With the resulting data, calculate, visualize and discuss inter-coder agreement or covariation with appropriate metrics. What does this means for the reliability of human assessments regarding content in your domain?\n",
    "    \n",
    "使用 Amazon Mechanical Turk（如 Canvas 上的作業鏈接中的 MTurk 幻燈片中所述）或與朋友一起進行某種類型的內容註釋調查，其中至少有 3 人對每條內容進行評估和編碼。使用生成的數據，計算、可視化和討論具有適當度量的編碼器間一致性或協變。這對於您域中內容的人工評估的可靠性意味著什麼？"
   ]
  },
  {
   "cell_type": "markdown",
   "metadata": {},
   "source": [
    "# Models"
   ]
  },
  {
   "cell_type": "markdown",
   "metadata": {},
   "source": [
    "However, what if some coders are better than others. The prior measures all rely on the assumption that all coders are equally good. What if some are worse than others? Now we use Rzhetsky et al (2009) and Dawid & Skene's models to make inference about true label classes by downweighting bad or deviant coders. \n",
    "\n",
    "Pyanno provides three relevant models: ModelA, ModelB, and ModelBt. \n",
    "\n",
    "- Model A can only be currently run on a balanced 8-coder design, but assesses accuracy purely based on agreement. \n",
    "- Model B with $\\theta$s models the relationship between each coder and code. \n",
    "- Model B is the Dawid & Skene model from the reading. \n",
    "\n",
    "The following image schematically suggests the relationship between the models. <img src=\"../data/models.png\">\n",
    "\n",
    "但是，如果某些編碼器比其他編碼器更好怎麼辦。先前的措施都依賴於所有編碼人員都同樣優秀的假設。如果有些人比其他人更糟怎麼辦？現在我們使用 Rzhetsky 等人 (2009) 和 Dawid & Skene 的模型，通過降低不良或異常編碼器的權重來推斷真實標籤類別。\n",
    "\n",
    "Pyanno 提供了三個相關模型：ModelA、ModelB 和 ModelBt。\n",
    "模型 A 目前只能在平衡的 8 編碼器設計上運行，但純粹基於一致性評估準確性。\n",
    "B型與 𝜃 s 為每個編碼器和代碼之間的關係建模。\n",
    "模型 B 是閱讀中的 Dawid & Skene 模型。\n",
    "下圖示意性地表明了模型之間的關係。"
   ]
  },
  {
   "cell_type": "markdown",
   "metadata": {},
   "source": [
    "The models should provide similar results. To estimate the parameters for any models, we first need to create a new model. \n",
    "\n",
    "這些模型應該提供類似的結果。要估計任何模型的參數，我們首先需要創建一個新模型。"
   ]
  },
  {
   "cell_type": "markdown",
   "metadata": {},
   "source": [
    "一開始宣告 from pyanno.models import ModelA, ModelBt, ModelB\n",
    "pyanno.models為註解過程定義了許多模型"
   ]
  },
  {
   "cell_type": "markdown",
   "metadata": {},
   "source": [
    "[pyAnno’s documentation](http://docs.enthought.com/uchicago-pyanno/index.html)\n",
    "到這邊查相關api，將函式輸入查找"
   ]
  },
  {
   "cell_type": "markdown",
   "metadata": {},
   "source": [
    "以下的model皆為modekB，因為是用這個[ModelB.create_initial_state](http://docs.enthought.com/uchicago-pyanno/pyanno.models.html?highlight=create_initial_state#pyanno.modelB.ModelB.create_initial_state)初始宣告\n",
    "但，為啥註解寫model A????"
   ]
  },
  {
   "cell_type": "code",
   "execution_count": 19,
   "metadata": {},
   "outputs": [
    {
     "name": "stdout",
     "output_type": "stream",
     "text": [
      "[[[7.32306051e-01 2.14448256e-01 3.47699611e-02 1.84757316e-02]\n",
      "  [5.25366116e-02 7.28146691e-01 5.06547307e-02 1.68661966e-01]\n",
      "  [7.84717363e-02 3.33782991e-01 4.96297666e-01 9.14476064e-02]\n",
      "  [3.84962655e-03 1.14217031e-01 1.29314223e-01 7.52619119e-01]]\n",
      "\n",
      " [[8.48554434e-01 6.17311776e-02 7.22423200e-02 1.74720688e-02]\n",
      "  [1.31372995e-01 6.20707576e-01 2.29728150e-01 1.81912784e-02]\n",
      "  [5.26093979e-02 1.51670372e-01 6.36006046e-01 1.59714184e-01]\n",
      "  [1.65973728e-02 1.37190762e-01 1.13489685e-01 7.32722180e-01]]\n",
      "\n",
      " [[9.22711642e-01 6.38796631e-02 6.86776381e-03 6.54093116e-03]\n",
      "  [6.71000202e-02 7.87375922e-01 8.11690052e-02 6.43550530e-02]\n",
      "  [1.04331703e-01 8.01602157e-02 6.38904371e-01 1.76603710e-01]\n",
      "  [1.99721830e-02 5.03300867e-02 1.85522491e-01 7.44175239e-01]]\n",
      "\n",
      " [[7.25345503e-01 8.51730864e-02 5.85912258e-02 1.30890184e-01]\n",
      "  [2.22181574e-01 6.66592716e-01 7.34671767e-02 3.77585336e-02]\n",
      "  [9.89239042e-02 1.00970204e-01 6.75364949e-01 1.24740942e-01]\n",
      "  [4.01413345e-02 3.10835450e-02 1.02112613e-01 8.26662508e-01]]\n",
      "\n",
      " [[5.04659510e-01 2.11944532e-01 6.21091646e-02 2.21286793e-01]\n",
      "  [1.75266043e-01 6.94725480e-01 1.06823945e-01 2.31845325e-02]\n",
      "  [1.24257378e-01 1.82836399e-01 5.06210767e-01 1.86695455e-01]\n",
      "  [3.81681256e-04 2.37136573e-02 2.34670245e-01 7.41234416e-01]]\n",
      "\n",
      " [[6.48523243e-01 1.27959670e-01 1.81909159e-01 4.16079279e-02]\n",
      "  [2.31996155e-01 6.30165177e-01 9.05065794e-02 4.73320883e-02]\n",
      "  [3.24443936e-02 1.89695129e-01 6.57125042e-01 1.20735435e-01]\n",
      "  [3.06496220e-03 2.34755492e-01 9.70842362e-02 6.65095310e-01]]\n",
      "\n",
      " [[7.59729865e-01 1.87917555e-01 1.51551842e-02 3.71973957e-02]\n",
      "  [1.30232544e-01 5.45197877e-01 1.77558199e-01 1.47011381e-01]\n",
      "  [8.22392238e-02 2.77412700e-01 5.62278772e-01 7.80693035e-02]\n",
      "  [3.22300386e-02 6.61396687e-02 2.52484512e-01 6.49145780e-01]]\n",
      "\n",
      " [[6.88914912e-01 7.58854293e-02 2.29418541e-01 5.78111790e-03]\n",
      "  [1.23303944e-01 6.35240380e-01 1.67864272e-01 7.35914047e-02]\n",
      "  [6.11552142e-02 1.40953371e-01 6.33171179e-01 1.64720236e-01]\n",
      "  [3.43420035e-02 8.10281716e-02 1.63142063e-01 7.21487762e-01]]]\n",
      "-------\n",
      "-2981.8941324698826\n"
     ]
    }
   ],
   "source": [
    "# create a new instance of model A, with 4 label classes\n",
    "model = ModelB.create_initial_state(4, 8)\n",
    "# other model parameters are initialized from the model prior\n",
    "print(model.theta)\n",
    "print(\"-------\")\n",
    "print(model.log_likelihood(anno.annotations))"
   ]
  },
  {
   "cell_type": "code",
   "execution_count": 20,
   "metadata": {},
   "outputs": [],
   "source": [
    "samples = model.sample_posterior_over_accuracy(anno.annotations, 200, burn_in_samples=100, thin_samples=3)"
   ]
  },
  {
   "cell_type": "markdown",
   "metadata": {},
   "source": [
    "Pyanno allows one to use either MLE (maximum likelihood estimation) or MAP (maximum a posteriori estimation) to estimate model parameters. Note that the parameters here correspond to our estimation of the accuracy of each annotator.\n",
    "\n",
    "Pyanno 允許使用 MLE（最大似然估計）或 MAP（最大後驗估計）來估計模型參數。\n",
    "請注意，這裡的參數對應於我們對每個註釋器準確性的估計。"
   ]
  },
  {
   "cell_type": "code",
   "execution_count": 22,
   "metadata": {},
   "outputs": [
    {
     "name": "stdout",
     "output_type": "stream",
     "text": [
      "[[[7.73398728e-01 2.01020245e-01 2.55810269e-02 1.20101219e-26]\n",
      "  [1.47832659e-01 7.11503767e-01 7.66499157e-02 6.40136580e-02]\n",
      "  [1.97431020e-02 1.48708709e-01 6.96639326e-01 1.34908863e-01]\n",
      "  [2.52463780e-18 2.13647377e-02 8.51550428e-02 8.93480220e-01]]\n",
      "\n",
      " [[7.19395465e-01 2.01828761e-01 7.87757734e-02 1.55486964e-13]\n",
      "  [1.33941799e-01 7.07223261e-01 1.10418200e-01 4.84167403e-02]\n",
      "  [2.72093282e-02 1.65178369e-01 6.71232700e-01 1.36379603e-01]\n",
      "  [2.15358721e-30 5.38211823e-02 1.21871740e-01 8.24307077e-01]]\n",
      "\n",
      " [[8.50073137e-01 1.22955501e-01 2.69713621e-02 3.64395738e-42]\n",
      "  [8.93514251e-02 7.89280333e-01 8.93429608e-02 3.20252811e-02]\n",
      "  [6.11638366e-02 1.29121422e-01 7.03992731e-01 1.05722011e-01]\n",
      "  [6.53666390e-03 5.12606512e-02 2.10869595e-01 7.31333090e-01]]\n",
      "\n",
      " [[6.99612801e-01 2.70976969e-01 2.94102301e-02 8.57899704e-52]\n",
      "  [9.67171336e-02 7.62615701e-01 1.09523823e-01 3.11433425e-02]\n",
      "  [1.81150586e-02 1.45472330e-01 6.85587954e-01 1.50824657e-01]\n",
      "  [2.71897111e-47 2.98511124e-02 2.28749569e-01 7.41399319e-01]]\n",
      "\n",
      " [[8.11803144e-01 1.19373545e-01 6.88233110e-02 9.13991546e-49]\n",
      "  [1.24726986e-01 6.93211818e-01 1.47008725e-01 3.50524714e-02]\n",
      "  [1.10580622e-02 2.13907919e-01 6.46719976e-01 1.28314044e-01]\n",
      "  [6.58948915e-52 5.98095047e-02 1.82979139e-01 7.57211357e-01]]\n",
      "\n",
      " [[7.71186748e-01 2.05349662e-01 2.34635900e-02 1.87519848e-51]\n",
      "  [1.10920303e-01 6.98703449e-01 1.62586425e-01 2.77898237e-02]\n",
      "  [2.69432947e-02 1.74971748e-01 6.58688648e-01 1.39396309e-01]\n",
      "  [1.04070689e-20 8.19488668e-02 1.50728042e-01 7.67323091e-01]]\n",
      "\n",
      " [[7.77751875e-01 1.41612394e-01 8.06357307e-02 7.49343463e-22]\n",
      "  [1.14108703e-01 6.72056519e-01 1.68346177e-01 4.54886006e-02]\n",
      "  [1.60943993e-02 1.18997632e-01 7.24591200e-01 1.40316769e-01]\n",
      "  [9.41957786e-52 4.72911966e-02 1.30538454e-01 8.22170350e-01]]\n",
      "\n",
      " [[8.52754118e-01 1.18087361e-01 2.91585215e-02 1.95577162e-42]\n",
      "  [1.29319568e-01 6.36012446e-01 1.95669325e-01 3.89986612e-02]\n",
      "  [2.96631200e-02 1.67273811e-01 6.42736730e-01 1.60326339e-01]\n",
      "  [1.03418107e-24 4.32627993e-02 1.13010804e-01 8.43726397e-01]]]\n",
      "-2625.8850676193924\n"
     ]
    }
   ],
   "source": [
    "model.map(anno.annotations)\n",
    "print(model.theta)\n",
    "print(model.log_likelihood(anno.annotations))"
   ]
  },
  {
   "cell_type": "code",
   "execution_count": 23,
   "metadata": {},
   "outputs": [
    {
     "name": "stdout",
     "output_type": "stream",
     "text": [
      "[[[7.73398728e-01 2.01020245e-01 2.55810269e-02 1.20101219e-26]\n",
      "  [1.47832659e-01 7.11503767e-01 7.66499157e-02 6.40136580e-02]\n",
      "  [1.97431020e-02 1.48708709e-01 6.96639326e-01 1.34908863e-01]\n",
      "  [2.52463780e-18 2.13647377e-02 8.51550428e-02 8.93480220e-01]]\n",
      "\n",
      " [[7.19395465e-01 2.01828761e-01 7.87757734e-02 1.55486964e-13]\n",
      "  [1.33941799e-01 7.07223261e-01 1.10418200e-01 4.84167403e-02]\n",
      "  [2.72093282e-02 1.65178369e-01 6.71232700e-01 1.36379603e-01]\n",
      "  [2.15358721e-30 5.38211823e-02 1.21871740e-01 8.24307077e-01]]\n",
      "\n",
      " [[8.50073137e-01 1.22955501e-01 2.69713621e-02 3.64395738e-42]\n",
      "  [8.93514251e-02 7.89280333e-01 8.93429608e-02 3.20252811e-02]\n",
      "  [6.11638366e-02 1.29121422e-01 7.03992731e-01 1.05722011e-01]\n",
      "  [6.53666390e-03 5.12606512e-02 2.10869595e-01 7.31333090e-01]]\n",
      "\n",
      " [[6.99612801e-01 2.70976969e-01 2.94102301e-02 8.57899704e-52]\n",
      "  [9.67171336e-02 7.62615701e-01 1.09523823e-01 3.11433425e-02]\n",
      "  [1.81150586e-02 1.45472330e-01 6.85587954e-01 1.50824657e-01]\n",
      "  [2.71897111e-47 2.98511124e-02 2.28749569e-01 7.41399319e-01]]\n",
      "\n",
      " [[8.11803144e-01 1.19373545e-01 6.88233110e-02 9.13991546e-49]\n",
      "  [1.24726986e-01 6.93211818e-01 1.47008725e-01 3.50524714e-02]\n",
      "  [1.10580622e-02 2.13907919e-01 6.46719976e-01 1.28314044e-01]\n",
      "  [6.58948915e-52 5.98095047e-02 1.82979139e-01 7.57211357e-01]]\n",
      "\n",
      " [[7.71186748e-01 2.05349662e-01 2.34635900e-02 1.87519848e-51]\n",
      "  [1.10920303e-01 6.98703449e-01 1.62586425e-01 2.77898237e-02]\n",
      "  [2.69432947e-02 1.74971748e-01 6.58688648e-01 1.39396309e-01]\n",
      "  [1.04070689e-20 8.19488668e-02 1.50728042e-01 7.67323091e-01]]\n",
      "\n",
      " [[7.77751875e-01 1.41612394e-01 8.06357307e-02 7.49343463e-22]\n",
      "  [1.14108703e-01 6.72056519e-01 1.68346177e-01 4.54886006e-02]\n",
      "  [1.60943993e-02 1.18997632e-01 7.24591200e-01 1.40316769e-01]\n",
      "  [9.41957786e-52 4.72911966e-02 1.30538454e-01 8.22170350e-01]]\n",
      "\n",
      " [[8.52754118e-01 1.18087361e-01 2.91585215e-02 1.95577162e-42]\n",
      "  [1.29319568e-01 6.36012446e-01 1.95669325e-01 3.89986612e-02]\n",
      "  [2.96631200e-02 1.67273811e-01 6.42736730e-01 1.60326339e-01]\n",
      "  [1.03418107e-24 4.32627993e-02 1.13010804e-01 8.43726397e-01]]]\n",
      "-2625.8850676193924\n"
     ]
    }
   ],
   "source": [
    "model = ModelB.create_initial_state(4, 8)\n",
    "model.map(anno.annotations)\n",
    "print(model.theta)\n",
    "print(model.log_likelihood(anno.annotations))"
   ]
  },
  {
   "cell_type": "markdown",
   "metadata": {},
   "source": [
    "Once we have model parameters estimated, we can now make inferences about the true label classes. We can calculate the posterior distribution over the true label classes.\n",
    "\n",
    "一旦我們估計了模型參數，我們現在就可以對真實的標籤類別進行推斷。我們可以計算真實標籤類的後驗分佈。"
   ]
  },
  {
   "cell_type": "code",
   "execution_count": 24,
   "metadata": {},
   "outputs": [
    {
     "name": "stdout",
     "output_type": "stream",
     "text": [
      "[[1.20741380e-42 1.00240780e-01 7.90821679e-01 1.08937540e-01]\n",
      " [9.92682453e-01 7.07056554e-03 2.46981317e-04 2.03944498e-49]\n",
      " [1.07420297e-03 5.51435353e-02 9.37476514e-01 6.30574822e-03]\n",
      " ...\n",
      " [8.15378491e-04 3.51193436e-02 9.59859130e-01 4.20614824e-03]\n",
      " [1.34481992e-44 2.14447325e-03 9.16166870e-01 8.16886569e-02]\n",
      " [2.14745550e-01 7.69057353e-01 1.61970966e-02 2.01807019e-26]]\n"
     ]
    }
   ],
   "source": [
    "posterior = model.infer_labels(anno.annotations)\n",
    "print(posterior)"
   ]
  },
  {
   "cell_type": "markdown",
   "metadata": {},
   "source": [
    "Let's turn the posterior of the first 100 samples into a heatmap.\n",
    "\n",
    "讓我們將前 100 個樣本的後驗轉化為熱圖。"
   ]
  },
  {
   "cell_type": "code",
   "execution_count": 25,
   "metadata": {},
   "outputs": [],
   "source": [
    "votes = []\n",
    "for r in anno.annotations:\n",
    "    v = [0] * len(anno.labels)\n",
    "    votes.append(v)\n",
    "    for a in r:\n",
    "        if a > -1:\n",
    "            v[a] += 1\n",
    "votes_array = np.array(votes)"
   ]
  },
  {
   "cell_type": "markdown",
   "metadata": {},
   "source": [
    "anno.labels if = 5 ，v = [0, 0, 0, 0, 0]\n",
    "之前宣告 numpy as np \n",
    "Numpy 是許多 Python 資料科學套件的基礎，讓使用者可以很容易建立向量（Vector）、矩陣（Matrix）等進行高效率的大量資料運算。\n",
    "\n",
    "\n",
    "下面一次就是畫兩張圖"
   ]
  },
  {
   "cell_type": "code",
   "execution_count": 26,
   "metadata": {},
   "outputs": [
    {
     "data": {
      "image/png": "[encoded data removed]",
      "text/plain": [
       "<Figure size 1080x720 with 4 Axes>"
      ]
     },
     "metadata": {
      "needs_background": "light"
     },
     "output_type": "display_data"
    }
   ],
   "source": [
    "fig, (ax1, ax2) = plt.subplots(ncols=2, figsize = (15, 10), sharey=True)\n",
    "num_questions = 20\n",
    "\n",
    "seaborn.heatmap(votes_array[:num_questions], annot = True, ax=ax2)\n",
    "seaborn.heatmap(posterior[:num_questions], annot=True, ax =ax1)\n",
    "ax1.set_title(\"Model\")\n",
    "ax2.set_title(\"Votes\")\n",
    "plt.show()"
   ]
  },
  {
   "cell_type": "markdown",
   "metadata": {},
   "source": [
    "This differs markedly from taking annotator scores at face value (Add comparison of average values)\n",
    "這與以面值獲取註釋者分數明顯不同（添加平均值的比較）"
   ]
  },
  {
   "cell_type": "code",
   "execution_count": 27,
   "metadata": {},
   "outputs": [],
   "source": [
    "samples = model.sample_posterior_over_accuracy(anno.annotations, 200, burn_in_samples=100, thin_samples=3)"
   ]
  },
  {
   "cell_type": "code",
   "execution_count": 28,
   "metadata": {},
   "outputs": [
    {
     "name": "stdout",
     "output_type": "stream",
     "text": [
      "[[[0.73057703 0.20122948 0.04793995 0.02025354]\n",
      "  [0.14519804 0.69505586 0.08623888 0.07350722]\n",
      "  [0.02719294 0.15166889 0.69014818 0.13098999]\n",
      "  [0.01293925 0.03221837 0.10004094 0.85480145]]\n",
      "\n",
      " [[0.67064422 0.20919883 0.09129461 0.02886234]\n",
      "  [0.13481953 0.68914136 0.12249972 0.05353939]\n",
      "  [0.03171706 0.17304241 0.65934246 0.13589806]\n",
      "  [0.01165564 0.06238288 0.13775616 0.78820531]]\n",
      "\n",
      " [[0.78558712 0.15105649 0.04605003 0.01730636]\n",
      "  [0.09780213 0.75397346 0.10420759 0.04401682]\n",
      "  [0.06570599 0.13169064 0.69792488 0.10467849]\n",
      "  [0.01809137 0.05861744 0.21491922 0.70837198]]\n",
      "\n",
      " [[0.65749054 0.27382076 0.04624026 0.02244844]\n",
      "  [0.10321668 0.73342586 0.11933919 0.04401827]\n",
      "  [0.02815673 0.14410288 0.6756976  0.15204279]\n",
      "  [0.0080862  0.03790608 0.235052   0.71895572]]\n",
      "\n",
      " [[0.7689065  0.1303502  0.08105325 0.01969005]\n",
      "  [0.12738873 0.67010875 0.15340921 0.04909331]\n",
      "  [0.02012575 0.21031413 0.63981064 0.12974948]\n",
      "  [0.00773622 0.0719649  0.18457157 0.73572731]]\n",
      "\n",
      " [[0.71620394 0.22042777 0.0452829  0.01808538]\n",
      "  [0.11379112 0.67512498 0.16363548 0.04744842]\n",
      "  [0.03370404 0.17823342 0.64697719 0.14108536]\n",
      "  [0.01024786 0.08674422 0.16053773 0.74247019]]\n",
      "\n",
      " [[0.73152934 0.15702581 0.09262065 0.01882421]\n",
      "  [0.11743659 0.64428278 0.18083055 0.05745007]\n",
      "  [0.02258437 0.1260885  0.71213546 0.13919167]\n",
      "  [0.01029331 0.05872866 0.14354723 0.78743081]]\n",
      "\n",
      " [[0.77831783 0.14717024 0.05507556 0.01943637]\n",
      "  [0.1413065  0.60877257 0.19471157 0.05520936]\n",
      "  [0.03553843 0.17114661 0.63920808 0.15410689]\n",
      "  [0.01114871 0.05944406 0.12721281 0.80219442]]]\n",
      "[[[0.06769493 0.0633677  0.02947421 0.02055505]\n",
      "  [0.0463363  0.05780636 0.03909744 0.03465386]\n",
      "  [0.01609456 0.03928624 0.04739282 0.0362409 ]\n",
      "  [0.01261586 0.01983111 0.04035001 0.04554705]]\n",
      "\n",
      " [[0.07190395 0.06355069 0.04188599 0.02851507]\n",
      "  [0.04150413 0.05885926 0.04153216 0.03026212]\n",
      "  [0.01504183 0.03648808 0.04281287 0.03560328]\n",
      "  [0.01117831 0.02672987 0.0430601  0.04951886]]\n",
      "\n",
      " [[0.06262533 0.05698817 0.02976362 0.01739556]\n",
      "  [0.04247343 0.05675005 0.04173671 0.0255943 ]\n",
      "  [0.02420121 0.03466711 0.0464048  0.03244167]\n",
      "  [0.01273539 0.02515535 0.05050517 0.05111102]]\n",
      "\n",
      " [[0.06401749 0.06261903 0.03194425 0.02207506]\n",
      "  [0.03490982 0.05189329 0.03947883 0.02673903]\n",
      "  [0.01480174 0.03606764 0.04952616 0.0390045 ]\n",
      "  [0.00738602 0.02114373 0.0427592  0.04296957]]\n",
      "\n",
      " [[0.06219828 0.04805095 0.03855821 0.01768048]\n",
      "  [0.04372289 0.05959126 0.04391544 0.02675835]\n",
      "  [0.01348641 0.04314199 0.05041788 0.0402954 ]\n",
      "  [0.00820307 0.02791739 0.039424   0.04472595]]\n",
      "\n",
      " [[0.0651641  0.0628808  0.02958931 0.017691  ]\n",
      "  [0.04353862 0.05853384 0.05040611 0.02824417]\n",
      "  [0.01762414 0.03810973 0.04467269 0.0344673 ]\n",
      "  [0.0089612  0.03103332 0.04303907 0.05088692]]\n",
      "\n",
      " [[0.06665444 0.05410569 0.04365577 0.01899901]\n",
      "  [0.04254214 0.06691501 0.06100917 0.03052687]\n",
      "  [0.01268156 0.03517141 0.04428183 0.03567872]\n",
      "  [0.01113389 0.02794472 0.04229966 0.04792866]]\n",
      "\n",
      " [[0.06014375 0.05265236 0.03722556 0.01828395]\n",
      "  [0.04093666 0.06223984 0.05478722 0.02949633]\n",
      "  [0.0184305  0.03713521 0.04711135 0.03609383]\n",
      "  [0.01097302 0.03062559 0.04290955 0.04906757]]]\n"
     ]
    }
   ],
   "source": [
    "print(samples[0].mean(axis=0))\n",
    "print(samples[0].std(axis=0))"
   ]
  },
  {
   "cell_type": "markdown",
   "metadata": {},
   "source": [
    "Let's try everything again with ModelBt\n",
    "讓我們用 ModelBt 再試一次\n",
    "這與以面值獲取註釋者分數明顯不同（添加平均值的比較）"
   ]
  },
  {
   "cell_type": "code",
   "execution_count": 29,
   "metadata": {},
   "outputs": [
    {
     "name": "stdout",
     "output_type": "stream",
     "text": [
      "[0.66576609 0.61949332 0.94711622 0.63167219 0.7951171  0.66340722\n",
      " 0.79945208 0.80753003]\n",
      "-2937.703460811853\n"
     ]
    }
   ],
   "source": [
    "# create a new instance of model B, with 4 label classes and 8 annotators.\n",
    "model = ModelBt.create_initial_state(4, 8)\n",
    "print(model.theta)\n",
    "print(model.log_likelihood(anno.annotations))"
   ]
  },
  {
   "cell_type": "code",
   "execution_count": 30,
   "metadata": {},
   "outputs": [
    {
     "name": "stdout",
     "output_type": "stream",
     "text": [
      "[0.7913299  0.74078916 0.76223295 0.72524156 0.71644425 0.71863481\n",
      " 0.7732043  0.71672854]\n",
      "-2811.9465256478834\n"
     ]
    }
   ],
   "source": [
    "model.map(anno.annotations)\n",
    "print(model.theta)\n",
    "print(model.log_likelihood(anno.annotations))"
   ]
  },
  {
   "cell_type": "code",
   "execution_count": 31,
   "metadata": {},
   "outputs": [
    {
     "name": "stdout",
     "output_type": "stream",
     "text": [
      "[[0.01110269 0.28933228 0.36498371 0.33458132]\n",
      " [0.99022704 0.00241794 0.00404742 0.00330759]\n",
      " [0.00249902 0.05505257 0.93461796 0.00783044]\n",
      " ...\n",
      " [0.00252836 0.0439604  0.94558888 0.00792236]\n",
      " [0.00249334 0.00571126 0.93249316 0.05930224]\n",
      " [0.03189534 0.93882664 0.01611152 0.0131665 ]]\n"
     ]
    }
   ],
   "source": [
    "posterior = model.infer_labels(anno.annotations)\n",
    "print(posterior)"
   ]
  },
  {
   "cell_type": "markdown",
   "metadata": {},
   "source": [
    "Let's visualize the posterior of the first 10 samples according to ModelBt.\n",
    "讓我們根據 ModelBt 可視化前 10 個樣本的後驗。"
   ]
  },
  {
   "cell_type": "code",
   "execution_count": 32,
   "metadata": {},
   "outputs": [
    {
     "data": {
      "image/png": "[encoded data removed]",
      "text/plain": [
       "<Figure size 432x288 with 2 Axes>"
      ]
     },
     "metadata": {
      "needs_background": "light"
     },
     "output_type": "display_data"
    }
   ],
   "source": [
    "ax = seaborn.heatmap(posterior[:10,])\n",
    "plt.show()"
   ]
  },
  {
   "cell_type": "markdown",
   "metadata": {},
   "source": [
    "The property of these scores is that they enable us to identify the most likely code assuming coders of unequal quality, which also allows us to break ties when we know coder identity. For some analyses, we may simply use the posterior themselves rather than the most probably code outcome.\n",
    "\n",
    "這些分數的特性是它們使我們能夠識別最有可能的代碼，假設編碼人員的質量不同，這也使我們能夠在知道編碼人員身份時打破聯繫。對於某些分析，我們可以簡單地使用後驗本身而不是最可能的代碼結果。"
   ]
  },
  {
   "cell_type": "markdown",
   "metadata": {},
   "source": [
    "# Generating Annotations 生成註釋"
   ]
  },
  {
   "cell_type": "markdown",
   "metadata": {},
   "source": [
    "Pyanno also allows one to generate artificial data from a model.\n",
    "Pyanno 還允許從模型中生成人工數據。"
   ]
  },
  {
   "cell_type": "code",
   "execution_count": 21,
   "metadata": {},
   "outputs": [
    {
     "data": {
      "text/plain": [
       "array([[3, 2, 3],\n",
       "       [0, 0, 2],\n",
       "       [1, 1, 0],\n",
       "       [3, 3, 2],\n",
       "       [3, 1, 1],\n",
       "       [2, 2, 3],\n",
       "       [2, 2, 2],\n",
       "       [3, 3, 1],\n",
       "       [2, 2, 1],\n",
       "       [0, 0, 3],\n",
       "       [0, 0, 0],\n",
       "       [0, 0, 1],\n",
       "       [2, 2, 0],\n",
       "       [3, 2, 1],\n",
       "       [1, 1, 0],\n",
       "       [3, 3, 1],\n",
       "       [3, 3, 0],\n",
       "       [2, 2, 0],\n",
       "       [3, 0, 2],\n",
       "       [2, 2, 1]])"
      ]
     },
     "execution_count": 21,
     "metadata": {},
     "output_type": "execute_result"
    }
   ],
   "source": [
    "model = ModelBt.create_initial_state(4, 3, theta=[0.99,0.75,0.25])\n",
    "#randome generate annotations with 4 label classes and 3 annotators. \n",
    "#The accuracy of the three annotators are 0.99, 0.75, and 0.25 respectively.\n",
    "\n",
    "model.generate_annotations(20)"
   ]
  },
  {
   "cell_type": "markdown",
   "metadata": {},
   "source": [
    "## Visualizing coder accuracy 可視化編碼器準確性"
   ]
  },
  {
   "cell_type": "markdown",
   "metadata": {},
   "source": [
    "Pyanno provides a [graphical user interface](http://docs.enthought.com/uchicago-pyanno/user_guide.html) for making plots. However, it is not compatible with ipython notebooks. Nevertheless, nothing prevents us from making plots using matplotlib. Let's make a plot of the accuracy of each annotator inferred from ModelA.\n",
    "\n",
    "Pyanno 提供了用於繪製繪圖的圖形用戶界面。但是，它與 ipython 筆記本不兼容。然而，沒有什麼能阻止我們使用 matplotlib 繪製繪圖。讓我們繪製從 ModelA 推斷出的每個註釋器的準確性的圖。"
   ]
  },
  {
   "cell_type": "code",
   "execution_count": 22,
   "metadata": {},
   "outputs": [],
   "source": [
    "model = ModelBt.create_initial_state(4, 8)\n",
    "model.mle(anno.annotations)\n",
    "samples = model.sample_posterior_over_accuracy(anno.annotations, 200, burn_in_samples=100, thin_samples=3)\n",
    "y =  samples.mean(axis=0)#.mean(axis = 1).mean(axis = 1)\n",
    "y_ci = samples.std(axis=0)#.mean(axis = 1).mean(axis = 1)"
   ]
  },
  {
   "cell_type": "code",
   "execution_count": 23,
   "metadata": {},
   "outputs": [
    {
     "data": {
      "image/png": "[encoded data removed]",
      "text/plain": [
       "<Figure size 432x288 with 1 Axes>"
      ]
     },
     "metadata": {
      "needs_background": "light"
     },
     "output_type": "display_data"
    }
   ],
   "source": [
    "plt.figure()\n",
    "plt.errorbar(range(8),y, yerr = y_ci)\n",
    "plt.show()"
   ]
  },
  {
   "cell_type": "markdown",
   "metadata": {},
   "source": [
    "# Example with articles that use the General Social Survey 使用一般社會調查的文章示例"
   ]
  },
  {
   "cell_type": "markdown",
   "metadata": {},
   "source": [
    "I performed a recent study in which the variables from thousands of articles were associated with those used in the General Social Survey, a widely used population sample, in order to interrogate how social science analyses are performed. Each article was reread and coded by a balanced set of three student coders using a 6 choose 3 design, such that all possible 3-coder-subsets (20) coded an equal number of articles. Coding was performed through a website that allowed students access to the digital article. To evaluate the validity of the student codes, we also recruited a sample of authors associated with 97 of our published articles to fill out the same online survey. \n",
    "\n",
    "Because not all coders coded items with equal accuracy, and because “don’t know” was an optional answer, leading to potential ties, we used a generative, probabilistic model to estimate the maximum a posteriori probability (MAP) prediction that an item’s code is true, which integrates over the estimated accuracy of coders, assuming only that the entire population of coders is slightly more often right than wrong. The model (“Model B”) is based on a simple underlying generation process that directly accounts for the probability that coded values are correct (Rzhetsky et al. 2009). For each coded value j, a set of parameters, denoted γj, represents the probability that each coded value is correct. For the ith coder (i = 1, 2, …, 6), we introduce a matrix of probabilities, denoted λ(i)x|y, that defines the probability that she assigns code x (e.g., Dependent variable) to a GSS variable with correct annotation y. For a perfect coder, the matrix λ(i)x|y would equal the identity matrix and her vote would count most toward the total. For a coder that always codes incorrectly—a “troll”—her matrix λ(i)x|y will have all its value off the diagonal and will only minimally influence the posterior. We co-authored the open source pyanno software that implements this model."
   ]
  },
  {
   "cell_type": "markdown",
   "metadata": {},
   "source": [
    "我最近進行了一項研究，其中將數千篇文章中的變量與廣泛使用的人口樣本“綜合社會調查”中使用的變量相關聯，以詢問社會科學分析是如何進行的。每篇文章都由一組平衡的三名學生編碼員使用 6 選 3 設計重新閱讀和編碼，以便所有可能的 3 編碼員子集 (20) 編碼相同數量的文章。編碼是通過允許學生訪問數字文章的網站進行的。為了評估學生代碼的有效性，我們還招募了與我們發表的 97 篇文章相關的作者樣本來填寫相同的在線調查。\n",
    "\n",
    "因為並非所有編碼員都以相同的準確度對項目進行編碼，並且因為“不知道”是一個可選答案，導致潛在的聯繫，我們使用生成性概率模型來估計項目代碼的最大後驗概率 (MAP) 預測是真的，它整合了編碼員的估計準確性，僅假設整個編碼員群體的正確率略高於錯誤率。該模型（“模型 B”）基於一個簡單的底層生成過程，該過程直接說明編碼值正確的概率（Rzhetsky 等人，2009 年）。對於每個編碼值 j，一組參數表示為 γj，表示每個編碼值正確的概率。對於第 i 個編碼器 (i = 1, 2, …, 6)，我們引入了一個概率矩陣，表示為 λ(i)x|y，它定義了她分配代碼 x 的概率（例如，因變量）到具有正確註釋 y 的 GSS 變量。對於完美的編碼器，矩陣 λ(i)x|y 將等於單位矩陣，並且她的投票將計入總數。對於一個總是錯誤編碼的編碼器——一個“巨魔”——她的矩陣 λ(i)x|y 的所有值都在對角線上，並且只會最小程度地影響後驗。我們共同編寫了實現此模型的開源 pyanno 軟件。"
   ]
  },
  {
   "cell_type": "markdown",
   "metadata": {},
   "source": [
    "Getting the data for each content analysis survey regarding how GSS variables were used in a large population of social science articles."
   ]
  },
  {
   "cell_type": "markdown",
   "metadata": {},
   "source": [
    "獲取關於 GSS 變量如何在大量社會科學文章中使用的每個內容分析調查的數據。"
   ]
  },
  {
   "cell_type": "markdown",
   "metadata": {},
   "source": [
    "之前宣告 numpy as np \n",
    "Numpy 是許多 Python 資料科學套件的基礎，讓使用者可以很容易建立向量（Vector）、矩陣（Matrix）等進行高效率的大量資料運算。\n",
    "\n",
    "[Numpy numpy.loadtxt() 函式](https://www.delftstack.com/zh-tw/api/numpy/python-numpy-loadtxt-function/)\n",
    "dtype:結果陣列的資料型別\n",
    "delimiter:用於解析 txt 檔案內容的定界符"
   ]
  },
  {
   "cell_type": "code",
   "execution_count": 35,
   "metadata": {},
   "outputs": [],
   "source": [
    "#anno_vdep = AnnotationsContainer.from_file(missing_values=[-1], filename=\"GSSvariable_testSdependent.csv\")\n",
    "dev = np.loadtxt(fname=\"../data/dataforgssstudy/n7GSSvariable_testSdependent.csv\", dtype=int, delimiter=\",\")\n",
    "anno_dv = AnnotationsContainer.from_array(dev)\n",
    "\n",
    "ind = np.loadtxt(fname=\"../data/dataforgssstudy/n7GSSvariable_testSindependent.csv\", dtype=int, delimiter=\",\")\n",
    "anno_iv = AnnotationsContainer.from_array(ind)\n",
    "\n",
    "cent = np.loadtxt(fname=\"../data/dataforgssstudy/n7GSSvariable_testScentral.csv\", dtype=int, delimiter=\",\")\n",
    "anno_cv = AnnotationsContainer.from_array(cent)\n",
    "\n",
    "cont = np.loadtxt(fname=\"../data/dataforgssstudy/n7GSSvariable_testScontrol.csv\", dtype=int, delimiter=\",\")\n",
    "anno_ctv = AnnotationsContainer.from_array(cont)\n",
    "\n",
    "test = np.loadtxt(fname=\"../data/dataforgssstudy/testH.csv\", dtype=int, delimiter=\",\")\n",
    "anno_test = AnnotationsContainer.from_array(test)"
   ]
  },
  {
   "cell_type": "markdown",
   "metadata": {},
   "source": [
    "Let's examine the data structure."
   ]
  },
  {
   "cell_type": "code",
   "execution_count": 37,
   "metadata": {},
   "outputs": [
    {
     "data": {
      "text/plain": [
       "(21461, 6)"
      ]
     },
     "execution_count": 37,
     "metadata": {},
     "output_type": "execute_result"
    }
   ],
   "source": [
    "dev.shape"
   ]
  },
  {
   "cell_type": "code",
   "execution_count": 38,
   "metadata": {},
   "outputs": [
    {
     "data": {
      "text/plain": [
       "[0, 1]"
      ]
     },
     "execution_count": 38,
     "metadata": {},
     "output_type": "execute_result"
    }
   ],
   "source": [
    "anno_dv.labels"
   ]
  },
  {
   "cell_type": "code",
   "execution_count": 39,
   "metadata": {},
   "outputs": [
    {
     "data": {
      "text/plain": [
       "[-1]"
      ]
     },
     "execution_count": 39,
     "metadata": {},
     "output_type": "execute_result"
    }
   ],
   "source": [
    "anno_dv.missing_values"
   ]
  },
  {
   "cell_type": "code",
   "execution_count": 40,
   "metadata": {},
   "outputs": [
    {
     "data": {
      "text/plain": [
       "(21461, 6)"
      ]
     },
     "execution_count": 40,
     "metadata": {},
     "output_type": "execute_result"
    }
   ],
   "source": [
    "anno_dv.annotations.shape"
   ]
  },
  {
   "cell_type": "markdown",
   "metadata": {},
   "source": [
    "First, let's use Cohen's $\\kappa$ to measure agreement between coders..."
   ]
  },
  {
   "cell_type": "code",
   "execution_count": 41,
   "metadata": {},
   "outputs": [
    {
     "name": "stdout",
     "output_type": "stream",
     "text": [
      "[[1.         0.62426874 0.46682841 0.44599604 0.16569888 0.36657805]\n",
      " [0.62426874 1.         0.53480937 0.52673854 0.3306905  0.59513211]\n",
      " [0.46682841 0.53480937 1.         0.50580068 0.42393752 0.49833997]\n",
      " [0.44599604 0.52673854 0.50580068 1.         0.46517493 0.47023754]\n",
      " [0.16569888 0.3306905  0.42393752 0.46517493 1.         0.66190749]\n",
      " [0.36657805 0.59513211 0.49833997 0.47023754 0.66190749 1.        ]]\n"
     ]
    }
   ],
   "source": [
    "m = pairwise_matrix(cohens_kappa, anno_dv.annotations)\n",
    "print(m)"
   ]
  },
  {
   "cell_type": "markdown",
   "metadata": {},
   "source": [
    "Let's visualize that..."
   ]
  },
  {
   "cell_type": "code",
   "execution_count": 42,
   "metadata": {},
   "outputs": [
    {
     "data": {
      "image/png": "[encoded data removed]",
      "text/plain": [
       "<Figure size 432x288 with 2 Axes>"
      ]
     },
     "metadata": {
      "needs_background": "light"
     },
     "output_type": "display_data"
    }
   ],
   "source": [
    "ax = seaborn.heatmap(m)\n",
    "plt.show()"
   ]
  },
  {
   "cell_type": "code",
   "execution_count": 43,
   "metadata": {},
   "outputs": [
    {
     "data": {
      "text/plain": [
       "0.4721425844540702"
      ]
     },
     "execution_count": 43,
     "metadata": {},
     "output_type": "execute_result"
    }
   ],
   "source": [
    "pairwise_metric_average(cohens_kappa, anno_dv.annotations)"
   ]
  },
  {
   "cell_type": "markdown",
   "metadata": {},
   "source": [
    "Let's compute the statistics on each of the datasets and with Pearson's $\\rho$. \n",
    "讓我們計算每個數據集的統計數據，並使用 Pearson 的  𝜌 ."
   ]
  },
  {
   "cell_type": "code",
   "execution_count": 44,
   "metadata": {},
   "outputs": [],
   "source": [
    "datasets = [anno_dv.annotations, anno_iv.annotations, anno_cv.annotations, anno_ctv.annotations]\n",
    "ck = [pairwise_matrix(cohens_kappa, anno) for anno in datasets]\n",
    "pr = [pairwise_matrix(pearsons_rho, anno) for anno in datasets]\n",
    "titles = ['DV', 'IV', 'Central Variable', \"Control Variable\"]"
   ]
  },
  {
   "cell_type": "markdown",
   "metadata": {},
   "source": [
    "宣告一個list把上面的annotations資料都放進去\n",
    "再把datasets內的annotations用這pairwise_matrix函式下不同的參數跑出ck跟pr"
   ]
  },
  {
   "cell_type": "markdown",
   "metadata": {},
   "source": [
    "[Python 使用 zip 與 for 迴圈同時對多個 List 進行迭代](https://blog.gtwang.org/programming/python-iterate-through-multiple-lists-in-parallel/)\n",
    "\n",
    "在 Python 中若要將兩個 list 以迴圈的方式一次各取一個元素出來處理，可以使用 zip 打包之後配合 for 迴圈來處理\n"
   ]
  },
  {
   "cell_type": "code",
   "execution_count": 45,
   "metadata": {},
   "outputs": [
    {
     "data": {
      "image/png": "[encoded data removed]",
      "text/plain": [
       "<Figure size 1296x504 with 16 Axes>"
      ]
     },
     "metadata": {
      "needs_background": "light"
     },
     "output_type": "display_data"
    }
   ],
   "source": [
    "fig, axs = plt.subplots(2,4)\n",
    "fig.set_size_inches(18, 7)\n",
    "for k, ax, title in zip(ck,axs[0], titles):\n",
    "    seaborn.heatmap(k, ax = ax)\n",
    "    ax.set_title(title)\n",
    "    ax.set_xticks(())\n",
    "    ax.set_yticks(())\n",
    "for r, ax in zip(pr,axs[1]):\n",
    "    seaborn.heatmap(r, ax = ax)\n",
    "    ax.set_xticks(())\n",
    "    ax.set_yticks(())\n",
    "plt.show()"
   ]
  },
  {
   "cell_type": "markdown",
   "metadata": {},
   "source": [
    "Now we will compare the student coders.\n",
    "現在我們將比較學生編碼器。"
   ]
  },
  {
   "cell_type": "markdown",
   "metadata": {},
   "source": [
    "之前宣告 numpy as np \n",
    "Numpy 是許多 Python 資料科學套件的基礎，讓使用者可以很容易建立向量（Vector）、矩陣（Matrix）等進行高效率的大量資料運算。"
   ]
  },
  {
   "cell_type": "code",
   "execution_count": 26,
   "metadata": {},
   "outputs": [],
   "source": [
    "nondiag = (np.eye(6)-np.ones(6))*-1.0"
   ]
  },
  {
   "cell_type": "markdown",
   "metadata": {},
   "source": [
    "np.eye(6)：生成6*6的矩陣，對角為1其他為0\n",
    "\n",
    "numpy.eye(N, M=None, k=0, dtype=, order='C')\n",
    "- N：表示2D數組中的行數。\n",
    "- M：代表列數。它是一個可選參數，默認情況下等於值N，即多行。\n",
    "- k：該參數用於表示對角線。它是完全可選的。\n",
    "默認情況下，它等於0。正值（k> 0）表示上對角線，負值（k <0）表示下對角線。\n",
    "- dtype：表示返回數組的數據類型。它是完全可選的，默認情況下是浮點數。\n",
    "- order：order參數可以是C_contiguous或F_contiguous。\n",
    "\n",
    "numpy.ones(shape, dtype=None, order='C')：返回給定形狀和類型的新數組，並填充為1。\n",
    "- shape：int 或 sequence of ints，新陣列的形狀，例如(2, 3)或者2。\n",
    "- dtype：data-type, 可選參數，數組所需的數據類型，例如numpy.int8。默認為numpy.float64。\n",
    "- order：{‘C’, ‘F’}, optional, default:C，是否以行優先(C-style)或列優先(Fortran-style)的順序將多維數據存儲在內存中。"
   ]
  },
  {
   "cell_type": "code",
   "execution_count": 33,
   "metadata": {},
   "outputs": [
    {
     "name": "stdout",
     "output_type": "stream",
     "text": [
      "[[1. 0. 0. 0. 0. 0.]\n",
      " [0. 1. 0. 0. 0. 0.]\n",
      " [0. 0. 1. 0. 0. 0.]\n",
      " [0. 0. 0. 1. 0. 0.]\n",
      " [0. 0. 0. 0. 1. 0.]\n",
      " [0. 0. 0. 0. 0. 1.]]\n",
      "--------\n",
      "[1. 1. 1. 1. 1. 1.]\n",
      "--------\n",
      "[[ 0. -1. -1. -1. -1. -1.]\n",
      " [-1.  0. -1. -1. -1. -1.]\n",
      " [-1. -1.  0. -1. -1. -1.]\n",
      " [-1. -1. -1.  0. -1. -1.]\n",
      " [-1. -1. -1. -1.  0. -1.]\n",
      " [-1. -1. -1. -1. -1.  0.]]\n",
      "--------\n",
      "[[-0.  1.  1.  1.  1.  1.]\n",
      " [ 1. -0.  1.  1.  1.  1.]\n",
      " [ 1.  1. -0.  1.  1.  1.]\n",
      " [ 1.  1.  1. -0.  1.  1.]\n",
      " [ 1.  1.  1.  1. -0.  1.]\n",
      " [ 1.  1.  1.  1.  1. -0.]]\n"
     ]
    }
   ],
   "source": [
    "print((np.eye(6)))\n",
    "print(\"--------\")\n",
    "print((np.ones(6)))\n",
    "print(\"--------\")\n",
    "print((np.eye(6)-np.ones(6)))\n",
    "print(\"--------\")\n",
    "print((np.eye(6)-np.ones(6))*-1.0)\n"
   ]
  },
  {
   "cell_type": "code",
   "execution_count": 36,
   "metadata": {},
   "outputs": [
    {
     "name": "stdout",
     "output_type": "stream",
     "text": [
      "0.47214258445407015\n",
      "0.5142407278222342\n",
      "0.4529627823703711\n",
      "0.47596526866863437\n",
      "0.27082376869768193\n",
      "0.31514049828362706\n",
      "0.32833477875850064\n",
      "0.3945852779196347\n"
     ]
    }
   ],
   "source": [
    "xdevck = pairwise_matrix(cohens_kappa, anno_dv.annotations)\n",
    "xdevpr = pairwise_matrix(pearsons_rho, anno_dv.annotations)\n",
    "\n",
    "xindck = pairwise_matrix(cohens_kappa, anno_iv.annotations)\n",
    "xindpr = pairwise_matrix(pearsons_rho, anno_iv.annotations)\n",
    "\n",
    "xcenck = pairwise_matrix(cohens_kappa, anno_cv.annotations)\n",
    "xcenpr = pairwise_matrix(pearsons_rho, anno_cv.annotations)\n",
    "\n",
    "xconck = pairwise_matrix(cohens_kappa, anno_ctv.annotations)\n",
    "xconpr = pairwise_matrix(pearsons_rho, anno_ctv.annotations)\n",
    "\n",
    "print(np.average(xdevck, weights=nondiag))\n",
    "print(np.average(xdevpr, weights=nondiag))\n",
    "print(np.average(xindck, weights=nondiag))\n",
    "print(np.average(xindpr, weights=nondiag))\n",
    "print(np.average(xcenck, weights=nondiag))\n",
    "print(np.average(xcenpr, weights=nondiag))\n",
    "print(np.average(xconck, weights=nondiag))\n",
    "print(np.average(xconpr, weights=nondiag))"
   ]
  },
  {
   "cell_type": "code",
   "execution_count": null,
   "metadata": {},
   "outputs": [],
   "source": [
    "np.average：計算平均值\n",
    "\n",
    "nondiag，上面產生的矩陣，用來計算加權"
   ]
  },
  {
   "cell_type": "markdown",
   "metadata": {},
   "source": [
    "Now we are going to bring in \"gold standard\" data. In this case, this is where we asked authors of the articles to code their own article's variables and compare with our student coders.\n",
    "\n",
    "現在我們將引入“黃金標準”數據。在這種情況下，我們要求文章的作者對他們自己的文章變量進行編碼，並與我們的學生編碼人員進行比較。"
   ]
  },
  {
   "cell_type": "code",
   "execution_count": 48,
   "metadata": {},
   "outputs": [],
   "source": [
    "mergedata = np.loadtxt(fname=\"../data/dataforgssstudy/gss_mergedataC.txt\", dtype=int, delimiter=\"\\t\")"
   ]
  },
  {
   "cell_type": "code",
   "execution_count": 49,
   "metadata": {},
   "outputs": [],
   "source": [
    "anno_merge_dep = AnnotationsContainer.from_array(mergedata[:,0:2])\n",
    "anno_merge_ind = AnnotationsContainer.from_array(mergedata[:,2:4])\n",
    "anno_merge_cen = AnnotationsContainer.from_array(mergedata[:,4:6])\n",
    "anno_merge_con = AnnotationsContainer.from_array(mergedata[:,6:8])\n",
    "anno_merge_dkn = AnnotationsContainer.from_array(mergedata[:,8:10])"
   ]
  },
  {
   "cell_type": "code",
   "execution_count": 50,
   "metadata": {},
   "outputs": [
    {
     "name": "stdout",
     "output_type": "stream",
     "text": [
      "Dependent variable -- kappa & rho\n",
      "0.3744311057948666\n",
      "0.38563437203620643\n",
      "\n",
      "Independent variable\n",
      "0.5430690164641346\n",
      "0.5529974941771468\n",
      "\n",
      "Central variable\n",
      "-0.064017189548477\n",
      "-0.08887644319259189\n",
      "\n",
      "Control variable\n",
      "0.2815172499181942\n",
      "0.28239237574620263\n"
     ]
    }
   ],
   "source": [
    "print(\"\"\"Dependent variable -- kappa & rho\"\"\")\n",
    "print(cohens_kappa(anno_merge_dep.annotations[:,0], anno_merge_dep.annotations[:,1]))\n",
    "print(pearsons_rho(anno_merge_dep.annotations[:,0], anno_merge_dep.annotations[:,1]))\n",
    "\n",
    "print(\"\\nIndependent variable\")\n",
    "print(cohens_kappa(anno_merge_ind.annotations[:,0], anno_merge_ind.annotations[:,1]))\n",
    "print(pearsons_rho(anno_merge_ind.annotations[:,0], anno_merge_ind.annotations[:,1]))\n",
    "\n",
    "print(\"\\nCentral variable\")\n",
    "print(cohens_kappa(anno_merge_cen.annotations[:,0], anno_merge_cen.annotations[:,1]))\n",
    "print(pearsons_rho(anno_merge_cen.annotations[:,0], anno_merge_cen.annotations[:,1]))\n",
    "\n",
    "print(\"\\nControl variable\")\n",
    "print(cohens_kappa(anno_merge_con.annotations[:,0], anno_merge_con.annotations[:,1]))\n",
    "print(pearsons_rho(anno_merge_con.annotations[:,0], anno_merge_con.annotations[:,1]))"
   ]
  },
  {
   "cell_type": "markdown",
   "metadata": {},
   "source": [
    "Whoah! Student coders and authors viewed articles that were \"central\" or critical to the published argument as fundamentally different (exhibiting negative agreement and correlation). Why? Likely because that researchers recalled what they had _intended_ as their central variables before analysis, but those that _worked out_ became central in the text."
   ]
  },
  {
   "cell_type": "markdown",
   "metadata": {},
   "source": [
    "Now for the assessment of the relative values of authors, then student coders."
   ]
  },
  {
   "cell_type": "markdown",
   "metadata": {},
   "source": [
    "哇！學生編碼員和作者認為對已發表論點“核心”或關鍵的文章有著根本的不同（表現出負面的一致性和相關性）。為什麼？可能是因為研究人員在分析之前回憶了他們想要作為中心變量的內容，但那些成功的內容成為了文本的中心。\n",
    "\n",
    "現在是評估作者的相對價值，然後是學生編碼員。"
   ]
  },
  {
   "cell_type": "code",
   "execution_count": 51,
   "metadata": {},
   "outputs": [
    {
     "name": "stdout",
     "output_type": "stream",
     "text": [
      "Dependent\n",
      "0.4763912310286678\n",
      "0.35834738617200673\n",
      "\n",
      "Independent\n",
      "0.23777403035413153\n",
      "0.3136593591905565\n",
      "\n",
      "Central\n",
      "0.35328836424957843\n",
      "0.7512647554806071\n",
      "\n",
      "Control\n",
      "0.081787521079258\n",
      "0.09443507588532883\n"
     ]
    }
   ],
   "source": [
    "print(\"Dependent\")\n",
    "print(np.average(anno_merge_dep.annotations[:,0]))\n",
    "print(np.average(anno_merge_dep.annotations[:,1]))\n",
    "\n",
    "print(\"\\nIndependent\")\n",
    "print(np.average(anno_merge_ind.annotations[:,0]))\n",
    "print(np.average(anno_merge_ind.annotations[:,1]))\n",
    "\n",
    "print(\"\\nCentral\")\n",
    "print(np.average(anno_merge_cen.annotations[:,0]))\n",
    "print(np.average(anno_merge_cen.annotations[:,1]))\n",
    "\n",
    "print(\"\\nControl\")\n",
    "print(np.average(anno_merge_con.annotations[:,0]))\n",
    "print(np.average(anno_merge_con.annotations[:,1]))"
   ]
  },
  {
   "cell_type": "markdown",
   "metadata": {},
   "source": [
    "## Now we are going to use models to predict the correct annotations\n",
    "現在我們將使用模型來預測正確的註釋\n",
    "\n",
    "Recall that Model A is built for 8 coders, but we have 6. We're going to *hack* it by adding two blank columns.\n",
    "回想一下，模型 A 是為 8 個編碼員構建的，但我們有 6 個。我們將通過添加兩個空白列來破解它。"
   ]
  },
  {
   "cell_type": "code",
   "execution_count": 52,
   "metadata": {},
   "outputs": [
    {
     "data": {
      "text/plain": [
       "(21461, 6)"
      ]
     },
     "execution_count": 52,
     "metadata": {},
     "output_type": "execute_result"
    }
   ],
   "source": [
    "dev.shape"
   ]
  },
  {
   "cell_type": "code",
   "execution_count": 38,
   "metadata": {},
   "outputs": [
    {
     "data": {
      "text/plain": [
       "array([[ 0, -1, -1, ...,  1, -1, -1],\n",
       "       [ 0, -1, -1, ...,  0, -1, -1],\n",
       "       [ 0, -1, -1, ...,  0, -1, -1],\n",
       "       ...,\n",
       "       [-1, -1, -1, ..., -1, -1, -1],\n",
       "       [-1, -1, -1, ..., -1, -1, -1],\n",
       "       [-1, -1, -1, ..., -1, -1, -1]])"
      ]
     },
     "execution_count": 38,
     "metadata": {},
     "output_type": "execute_result"
    }
   ],
   "source": [
    "negs2 = np.ones((21461, 2), dtype=np.int)*(-1)\n",
    "devA = np.concatenate((dev, negs2), axis=1)\n",
    "devA"
   ]
  },
  {
   "cell_type": "code",
   "execution_count": 39,
   "metadata": {},
   "outputs": [
    {
     "data": {
      "text/plain": [
       "array([[-1, -1],\n",
       "       [-1, -1],\n",
       "       [-1, -1],\n",
       "       ...,\n",
       "       [-1, -1],\n",
       "       [-1, -1],\n",
       "       [-1, -1]])"
      ]
     },
     "execution_count": 39,
     "metadata": {},
     "output_type": "execute_result"
    }
   ],
   "source": [
    "negs2"
   ]
  },
  {
   "cell_type": "code",
   "execution_count": 54,
   "metadata": {},
   "outputs": [
    {
     "data": {
      "text/plain": [
       "array([0.92391337, 0.63853173, 0.80387743, 0.90988229, 0.76849683,\n",
       "       0.6244931 , 0.91305503, 0.83408409])"
      ]
     },
     "execution_count": 54,
     "metadata": {},
     "output_type": "execute_result"
    }
   ],
   "source": [
    "anno_dvA = AnnotationsContainer.from_array(devA)\n",
    "model_devA = ModelA.create_initial_state(2)\n",
    "model_devA.theta"
   ]
  },
  {
   "cell_type": "code",
   "execution_count": 55,
   "metadata": {},
   "outputs": [
    {
     "name": "stdout",
     "output_type": "stream",
     "text": [
      "[0.92374273 0.07625727]\n",
      "-31352.978984767964\n"
     ]
    }
   ],
   "source": [
    "model_dvB = ModelB.create_initial_state(2, 6)\n",
    "print(model_dvB.pi)\n",
    "print(model_dvB.log_likelihood(anno_dv.annotations))"
   ]
  },
  {
   "cell_type": "code",
   "execution_count": 56,
   "metadata": {},
   "outputs": [
    {
     "name": "stdout",
     "output_type": "stream",
     "text": [
      "[0.69455487 0.30544513]\n",
      "-25462.473635032595\n"
     ]
    }
   ],
   "source": [
    "model_dvB.map(anno_dv.annotations)\n",
    "print(model_dvB.pi)\n",
    "print(model_dvB.log_likelihood(anno_dv.annotations))"
   ]
  },
  {
   "cell_type": "code",
   "execution_count": 57,
   "metadata": {},
   "outputs": [
    {
     "name": "stdout",
     "output_type": "stream",
     "text": [
      "[[0.01110269 0.28933228 0.36498371 0.33458132]\n",
      " [0.99022704 0.00241794 0.00404742 0.00330759]\n",
      " [0.00249902 0.05505257 0.93461796 0.00783044]\n",
      " ...\n",
      " [0.00252836 0.0439604  0.94558888 0.00792236]\n",
      " [0.00249334 0.00571126 0.93249316 0.05930224]\n",
      " [0.03189534 0.93882664 0.01611152 0.0131665 ]]\n"
     ]
    }
   ],
   "source": [
    "# compute the posterior distribution over true annotations\n",
    "posterior_dvB = model_dvB.infer_labels(anno_dv.annotations)\n",
    "# each row show the probability of each label class for the\n",
    "# corresponding item\n",
    "print(posterior)"
   ]
  },
  {
   "cell_type": "code",
   "execution_count": 58,
   "metadata": {},
   "outputs": [],
   "source": [
    "samples_dvB = model_dvB.sample_posterior_over_accuracy(anno_dv.annotations, 200, burn_in_samples=100, thin_samples=3)"
   ]
  },
  {
   "cell_type": "markdown",
   "metadata": {},
   "source": [
    "print(\"\\n\")：換行"
   ]
  },
  {
   "cell_type": "code",
   "execution_count": 59,
   "metadata": {},
   "outputs": [
    {
     "name": "stdout",
     "output_type": "stream",
     "text": [
      "Mean\n",
      "[[[0.97897223 0.02102777]\n",
      "  [0.51454802 0.48545198]]\n",
      "\n",
      " [[0.96846188 0.03153812]\n",
      "  [0.258171   0.741829  ]]\n",
      "\n",
      " [[0.98240048 0.01759952]\n",
      "  [0.34532174 0.65467826]]\n",
      "\n",
      " [[0.9338791  0.0661209 ]\n",
      "  [0.23961877 0.76038123]]\n",
      "\n",
      " [[0.69202284 0.30797716]\n",
      "  [0.0457214  0.9542786 ]]\n",
      "\n",
      " [[0.86254389 0.13745611]\n",
      "  [0.06859404 0.93140596]]]\n",
      "\n",
      "STD\n",
      "[[[0.00208558 0.00208558]\n",
      "  [0.01144073 0.01144073]]\n",
      "\n",
      " [[0.00298093 0.00298093]\n",
      "  [0.01279121 0.01279121]]\n",
      "\n",
      " [[0.00317605 0.00317605]\n",
      "  [0.01347967 0.01347967]]\n",
      "\n",
      " [[0.00492921 0.00492921]\n",
      "  [0.01149928 0.01149928]]\n",
      "\n",
      " [[0.00703396 0.00703396]\n",
      "  [0.00615834 0.00615834]]\n",
      "\n",
      " [[0.00707492 0.00707492]\n",
      "  [0.00670185 0.00670185]]]\n"
     ]
    }
   ],
   "source": [
    "# we can then compute a credible interval for the parameters:\n",
    "ci_dv_mean = samples_dvB[0].mean(axis=0)\n",
    "print(\"Mean\")\n",
    "print(ci_dv_mean)\n",
    "\n",
    "ci_dv_stdev = samples_dvB[0].std(axis=0)\n",
    "print(\"\\nSTD\")\n",
    "print(ci_dv_stdev)\n"
   ]
  },
  {
   "cell_type": "markdown",
   "metadata": {},
   "source": [
    "We will use Model B estimates for other variable assessments.\n",
    "我們將使用模型 B 估計其他變量評估。"
   ]
  },
  {
   "cell_type": "markdown",
   "metadata": {},
   "source": [
    "http://docs.enthought.com/uchicago-pyanno/modules.html\n",
    "\n",
    "create_initial_state：Factory method returning a model with random initial parameters.返回具有隨機初始參數的模型的工廠方法\n",
    "log_likelihood：Compute the log likelihood of a set of annotations given the model. 計算給定模型的一組註釋的對數似然。\n",
    "map：Computes maximum a posteriori (MAP) estimation of parameters.計算參數的最大後驗 ( MAP ) 估計。"
   ]
  },
  {
   "cell_type": "code",
   "execution_count": 60,
   "metadata": {},
   "outputs": [
    {
     "name": "stdout",
     "output_type": "stream",
     "text": [
      "-90.7435721847138\n",
      "[9.20933481e-20 1.00000000e+00]\n",
      "-48.9756711393957\n",
      "(48, 6)\n",
      "(48, 2)\n",
      "[[[0.79599419 0.20400581]\n",
      "  [0.1338016  0.8661984 ]]\n",
      "\n",
      " [[0.80499172 0.19500828]\n",
      "  [0.08959929 0.91040071]]\n",
      "\n",
      " [[0.80489069 0.19510931]\n",
      "  [0.50224937 0.49775063]]\n",
      "\n",
      " [[0.78873893 0.21126107]\n",
      "  [0.07209558 0.92790442]]\n",
      "\n",
      " [[0.79663009 0.20336991]\n",
      "  [0.3702855  0.6297145 ]]\n",
      "\n",
      " [[0.7850576  0.2149424 ]\n",
      "  [0.13146227 0.86853773]]]\n"
     ]
    }
   ],
   "source": [
    "#test\n",
    "model_testB = ModelB.create_initial_state(2, 6)\n",
    "print(model_testB.log_likelihood(anno_test.annotations))\n",
    "model_testB.map(anno_test.annotations)\n",
    "print(model_testB.pi)\n",
    "print(model_testB.log_likelihood(anno_test.annotations))\n",
    "print(anno_test.annotations.shape)\n",
    "posterior_testB = model_testB.infer_labels(anno_test.annotations)\n",
    "print(posterior_testB.shape)\n",
    "samples_testB = model_testB.sample_posterior_over_accuracy(anno_test.annotations, 200, burn_in_samples=100, thin_samples=3)\n",
    "ci_test_mean = samples_testB[0].mean(axis=0)\n",
    "print(ci_test_mean)"
   ]
  },
  {
   "cell_type": "code",
   "execution_count": 61,
   "metadata": {},
   "outputs": [
    {
     "name": "stdout",
     "output_type": "stream",
     "text": [
      "-32271.13949954751\n",
      "[0.61093546 0.38906454]\n",
      "-28620.66523246587\n",
      "(21461, 6)\n",
      "(21461, 2)\n",
      "[[[0.97096452 0.02903548]\n",
      "  [0.3480823  0.6519177 ]]\n",
      "\n",
      " [[0.93775726 0.06224274]\n",
      "  [0.05371109 0.94628891]]\n",
      "\n",
      " [[0.65839976 0.34160024]\n",
      "  [0.21177825 0.78822175]]\n",
      "\n",
      " [[0.53626062 0.46373938]\n",
      "  [0.03046035 0.96953965]]\n",
      "\n",
      " [[0.87549674 0.12450326]\n",
      "  [0.0989712  0.9010288 ]]\n",
      "\n",
      " [[0.89204183 0.10795817]\n",
      "  [0.09038903 0.90961097]]]\n",
      "-33627.85439314795\n",
      "[0.23988844 0.76011156]\n",
      "-25034.918555765576\n",
      "(21461, 6)\n",
      "(21461, 2)\n",
      "[[[0.89473614 0.10526386]\n",
      "  [0.06972237 0.93027763]]\n",
      "\n",
      " [[0.78718784 0.21281216]\n",
      "  [0.05826706 0.94173294]]\n",
      "\n",
      " [[0.9923     0.0077    ]\n",
      "  [0.84185161 0.15814839]]\n",
      "\n",
      " [[0.95228808 0.04771192]\n",
      "  [0.45641085 0.54358915]]\n",
      "\n",
      " [[0.6795567  0.3204433 ]\n",
      "  [0.05810338 0.94189662]]\n",
      "\n",
      " [[0.59429159 0.40570841]\n",
      "  [0.09562873 0.90437127]]]\n",
      "-32821.3784383908\n",
      "[0.83068326 0.16931674]\n",
      "-19415.702035242168\n",
      "(21461, 6)\n",
      "(21461, 2)\n",
      "[[[0.97093556 0.02906444]\n",
      "  [0.34858461 0.65141539]]\n",
      "\n",
      " [[0.93735038 0.06264962]\n",
      "  [0.0544324  0.9455676 ]]\n",
      "\n",
      " [[0.65736887 0.34263113]\n",
      "  [0.21012947 0.78987053]]\n",
      "\n",
      " [[0.53658042 0.46341958]\n",
      "  [0.03026267 0.96973733]]\n",
      "\n",
      " [[0.87573556 0.12426444]\n",
      "  [0.09914222 0.90085778]]\n",
      "\n",
      " [[0.89179345 0.10820655]\n",
      "  [0.0887114  0.9112886 ]]]\n"
     ]
    }
   ],
   "source": [
    "#indepedent variables\n",
    "model_ivB = ModelB.create_initial_state(2, 6)\n",
    "print(model_ivB.log_likelihood(anno_iv.annotations))\n",
    "model_ivB.map(anno_iv.annotations)\n",
    "print(model_ivB.pi)\n",
    "print(model_ivB.log_likelihood(anno_iv.annotations))\n",
    "print(anno_iv.annotations.shape)\n",
    "posterior_ivB = model_ivB.infer_labels(anno_iv.annotations)\n",
    "print(posterior_ivB.shape)\n",
    "samples_ivB = model_ivB.sample_posterior_over_accuracy(anno_iv.annotations, 200, burn_in_samples=100, thin_samples=3)\n",
    "ci_iv_mean = samples_ivB[0].mean(axis=0)\n",
    "print(ci_iv_mean)\n",
    "\n",
    "#central variables\n",
    "model_cvB = ModelB.create_initial_state(2, 6)\n",
    "print(model_cvB.log_likelihood(anno_cv.annotations))\n",
    "model_cvB.map(anno_cv.annotations)\n",
    "print(model_cvB.pi)\n",
    "print(model_cvB.log_likelihood(anno_cv.annotations))\n",
    "print(anno_cv.annotations.shape)\n",
    "posterior_cvB = model_cvB.infer_labels(anno_cv.annotations)\n",
    "print(posterior_cvB.shape)\n",
    "samples_cvB = model_cvB.sample_posterior_over_accuracy(anno_cv.annotations, 200, burn_in_samples=100, thin_samples=3)\n",
    "ci_cv_mean = samples_cvB[0].mean(axis=0)\n",
    "print(ci_cv_mean)\n",
    "\n",
    "#control variables\n",
    "model_ctvB = ModelB.create_initial_state(2, 6)\n",
    "print(model_ctvB.log_likelihood(anno_ctv.annotations))\n",
    "model_ctvB.map(anno_ctv.annotations)\n",
    "print(model_ctvB.pi)\n",
    "print(model_ctvB.log_likelihood(anno_ctv.annotations))\n",
    "print(anno_ctv.annotations.shape)\n",
    "posterior_ctvB = model_ctvB.infer_labels(anno_ctv.annotations)\n",
    "print(posterior_ctvB.shape)\n",
    "samples_ctvB = model_ctvB.sample_posterior_over_accuracy(anno_iv.annotations, 200, burn_in_samples=100, thin_samples=3)\n",
    "ci_ctv_mean = samples_ctvB[0].mean(axis=0)\n",
    "print(ci_ctv_mean)"
   ]
  },
  {
   "cell_type": "markdown",
   "metadata": {},
   "source": [
    "Now we will package up the predicted data into a format we can use for other, subsequent analysis:\n",
    "現在我們將預測數據打包成一種格式，我們可以用於其他後續分析："
   ]
  },
  {
   "cell_type": "code",
   "execution_count": 62,
   "metadata": {},
   "outputs": [
    {
     "name": "stdout",
     "output_type": "stream",
     "text": [
      "(21461, 2)\n",
      "(21461, 2)\n",
      "(21461, 2)\n",
      "(21461, 2)\n"
     ]
    }
   ],
   "source": [
    "print(posterior_dvB.shape)\n",
    "print(posterior_ivB.shape)\n",
    "print(posterior_cvB.shape)\n",
    "print(posterior_ctvB.shape)"
   ]
  },
  {
   "cell_type": "code",
   "execution_count": 63,
   "metadata": {},
   "outputs": [],
   "source": [
    "predicted_annotations = np.concatenate((posterior_dvB, posterior_ivB, posterior_cvB, posterior_ctvB), axis=1) # posterior_dvBt, posterior_ivBt, posterior_cvBt, posterior_ctvBt), axis=1)"
   ]
  },
  {
   "cell_type": "markdown",
   "metadata": {},
   "source": [
    "concatenate：將矩陣合併/拼接起來\n",
    "另外需要指定拼接的方向，預設是 axis = 0，也就是說對0軸的陣列物件進行縱向的拼接（縱向的拼接沿著axis= 1方向）；注：一般axis = 0，就是對該軸向的陣列進行操作，操作方向是另外一個軸，即axis=1。\n"
   ]
  },
  {
   "cell_type": "code",
   "execution_count": 64,
   "metadata": {},
   "outputs": [
    {
     "data": {
      "text/plain": [
       "(21461, 8)"
      ]
     },
     "execution_count": 64,
     "metadata": {},
     "output_type": "execute_result"
    }
   ],
   "source": [
    "predicted_annotations.shape"
   ]
  },
  {
   "cell_type": "markdown",
   "metadata": {},
   "source": [
    "These annotations allowed us to uncover the degree to which social scientists alter their models to achieve a better fit...undocumented data mining. The answer was that social scientists did mine their data, but that it likely improved their analysis because change in the social world was the result of greater distortion than undocumented data mining.\n",
    "\n",
    "這些註釋使我們能夠揭示社會科學家在多大程度上改變了他們的模型以實現更好的擬合……未記錄的數據挖掘。答案是社會科學家確實挖掘了他們的數據，但它可能改進了他們的分析，因為社會世界的變化是比無證數據挖掘更大的扭曲結果。"
   ]
  },
  {
   "cell_type": "markdown",
   "metadata": {},
   "source": [
    "## Another example analysis looks at a different data set of Hotel Reviews by a variety of patrons. 另一個示例分析著眼於各種顧客的不同酒店評論數據集。"
   ]
  },
  {
   "cell_type": "markdown",
   "metadata": {},
   "source": [
    "讀取CSV變成dataFrame，並用第0列當作索引\n",
    "也可以指定用欄位名稱， index_col =\"Scott\"\n",
    "\n",
    "[Day09Pandas索引的運用！](https://ithelp.ithome.com.tw/articles/10194006)"
   ]
  },
  {
   "cell_type": "code",
   "execution_count": 48,
   "metadata": {},
   "outputs": [
    {
     "data": {
      "text/html": [
       "<div>\n",
       "<style scoped>\n",
       "    .dataframe tbody tr th:only-of-type {\n",
       "        vertical-align: middle;\n",
       "    }\n",
       "\n",
       "    .dataframe tbody tr th {\n",
       "        vertical-align: top;\n",
       "    }\n",
       "\n",
       "    .dataframe thead th {\n",
       "        text-align: right;\n",
       "    }\n",
       "</style>\n",
       "<table border=\"1\" class=\"dataframe\">\n",
       "  <thead>\n",
       "    <tr style=\"text-align: right;\">\n",
       "      <th></th>\n",
       "      <th>Karen</th>\n",
       "      <th>Scott</th>\n",
       "      <th>Jessica</th>\n",
       "      <th>write a review</th>\n",
       "      <th>A verified traveler</th>\n",
       "      <th>Kevin</th>\n",
       "      <th>William</th>\n",
       "      <th>R</th>\n",
       "      <th>S</th>\n",
       "      <th>Christopher</th>\n",
       "      <th>...</th>\n",
       "      <th>Thomas</th>\n",
       "      <th>Susan</th>\n",
       "      <th>A Traveler</th>\n",
       "      <th>M</th>\n",
       "      <th>Not Provided</th>\n",
       "      <th>B</th>\n",
       "      <th>Laura</th>\n",
       "      <th>xxxxxxxxxxxxxx</th>\n",
       "      <th>Michael</th>\n",
       "      <th>Joseph</th>\n",
       "    </tr>\n",
       "  </thead>\n",
       "  <tbody>\n",
       "    <tr>\n",
       "      <th>1785 Inn</th>\n",
       "      <td>NaN</td>\n",
       "      <td>NaN</td>\n",
       "      <td>NaN</td>\n",
       "      <td>NaN</td>\n",
       "      <td>NaN</td>\n",
       "      <td>NaN</td>\n",
       "      <td>NaN</td>\n",
       "      <td>NaN</td>\n",
       "      <td>NaN</td>\n",
       "      <td>NaN</td>\n",
       "      <td>...</td>\n",
       "      <td>NaN</td>\n",
       "      <td>NaN</td>\n",
       "      <td>NaN</td>\n",
       "      <td>NaN</td>\n",
       "      <td>NaN</td>\n",
       "      <td>NaN</td>\n",
       "      <td>NaN</td>\n",
       "      <td>NaN</td>\n",
       "      <td>NaN</td>\n",
       "      <td>NaN</td>\n",
       "    </tr>\n",
       "    <tr>\n",
       "      <th>1900 House</th>\n",
       "      <td>NaN</td>\n",
       "      <td>NaN</td>\n",
       "      <td>NaN</td>\n",
       "      <td>NaN</td>\n",
       "      <td>NaN</td>\n",
       "      <td>NaN</td>\n",
       "      <td>NaN</td>\n",
       "      <td>NaN</td>\n",
       "      <td>NaN</td>\n",
       "      <td>NaN</td>\n",
       "      <td>...</td>\n",
       "      <td>NaN</td>\n",
       "      <td>NaN</td>\n",
       "      <td>NaN</td>\n",
       "      <td>NaN</td>\n",
       "      <td>NaN</td>\n",
       "      <td>NaN</td>\n",
       "      <td>NaN</td>\n",
       "      <td>NaN</td>\n",
       "      <td>NaN</td>\n",
       "      <td>NaN</td>\n",
       "    </tr>\n",
       "    <tr>\n",
       "      <th>A Bed &amp; Breakfast In Cambridge</th>\n",
       "      <td>NaN</td>\n",
       "      <td>NaN</td>\n",
       "      <td>NaN</td>\n",
       "      <td>NaN</td>\n",
       "      <td>NaN</td>\n",
       "      <td>NaN</td>\n",
       "      <td>NaN</td>\n",
       "      <td>NaN</td>\n",
       "      <td>NaN</td>\n",
       "      <td>NaN</td>\n",
       "      <td>...</td>\n",
       "      <td>NaN</td>\n",
       "      <td>NaN</td>\n",
       "      <td>3.0</td>\n",
       "      <td>NaN</td>\n",
       "      <td>NaN</td>\n",
       "      <td>NaN</td>\n",
       "      <td>NaN</td>\n",
       "      <td>NaN</td>\n",
       "      <td>NaN</td>\n",
       "      <td>NaN</td>\n",
       "    </tr>\n",
       "    <tr>\n",
       "      <th>A Swallow's Nest Motel</th>\n",
       "      <td>NaN</td>\n",
       "      <td>NaN</td>\n",
       "      <td>NaN</td>\n",
       "      <td>NaN</td>\n",
       "      <td>NaN</td>\n",
       "      <td>NaN</td>\n",
       "      <td>NaN</td>\n",
       "      <td>NaN</td>\n",
       "      <td>NaN</td>\n",
       "      <td>NaN</td>\n",
       "      <td>...</td>\n",
       "      <td>NaN</td>\n",
       "      <td>NaN</td>\n",
       "      <td>NaN</td>\n",
       "      <td>NaN</td>\n",
       "      <td>NaN</td>\n",
       "      <td>NaN</td>\n",
       "      <td>NaN</td>\n",
       "      <td>NaN</td>\n",
       "      <td>NaN</td>\n",
       "      <td>NaN</td>\n",
       "    </tr>\n",
       "    <tr>\n",
       "      <th>Abbeville Inn</th>\n",
       "      <td>NaN</td>\n",
       "      <td>NaN</td>\n",
       "      <td>NaN</td>\n",
       "      <td>NaN</td>\n",
       "      <td>NaN</td>\n",
       "      <td>NaN</td>\n",
       "      <td>NaN</td>\n",
       "      <td>NaN</td>\n",
       "      <td>NaN</td>\n",
       "      <td>NaN</td>\n",
       "      <td>...</td>\n",
       "      <td>NaN</td>\n",
       "      <td>NaN</td>\n",
       "      <td>NaN</td>\n",
       "      <td>NaN</td>\n",
       "      <td>NaN</td>\n",
       "      <td>NaN</td>\n",
       "      <td>NaN</td>\n",
       "      <td>NaN</td>\n",
       "      <td>NaN</td>\n",
       "      <td>NaN</td>\n",
       "    </tr>\n",
       "  </tbody>\n",
       "</table>\n",
       "<p>5 rows × 49 columns</p>\n",
       "</div>"
      ],
      "text/plain": [
       "                                Karen  Scott  Jessica  write a review  \\\n",
       "1785 Inn                          NaN    NaN      NaN             NaN   \n",
       "1900 House                        NaN    NaN      NaN             NaN   \n",
       "A Bed & Breakfast In Cambridge    NaN    NaN      NaN             NaN   \n",
       "A Swallow's Nest Motel            NaN    NaN      NaN             NaN   \n",
       "Abbeville Inn                     NaN    NaN      NaN             NaN   \n",
       "\n",
       "                                A verified traveler  Kevin  William   R   S  \\\n",
       "1785 Inn                                        NaN    NaN      NaN NaN NaN   \n",
       "1900 House                                      NaN    NaN      NaN NaN NaN   \n",
       "A Bed & Breakfast In Cambridge                  NaN    NaN      NaN NaN NaN   \n",
       "A Swallow's Nest Motel                          NaN    NaN      NaN NaN NaN   \n",
       "Abbeville Inn                                   NaN    NaN      NaN NaN NaN   \n",
       "\n",
       "                                Christopher  ...  Thomas  Susan  A Traveler  \\\n",
       "1785 Inn                                NaN  ...     NaN    NaN         NaN   \n",
       "1900 House                              NaN  ...     NaN    NaN         NaN   \n",
       "A Bed & Breakfast In Cambridge          NaN  ...     NaN    NaN         3.0   \n",
       "A Swallow's Nest Motel                  NaN  ...     NaN    NaN         NaN   \n",
       "Abbeville Inn                           NaN  ...     NaN    NaN         NaN   \n",
       "\n",
       "                                 M  Not Provided   B  Laura  xxxxxxxxxxxxxx  \\\n",
       "1785 Inn                       NaN           NaN NaN    NaN             NaN   \n",
       "1900 House                     NaN           NaN NaN    NaN             NaN   \n",
       "A Bed & Breakfast In Cambridge NaN           NaN NaN    NaN             NaN   \n",
       "A Swallow's Nest Motel         NaN           NaN NaN    NaN             NaN   \n",
       "Abbeville Inn                  NaN           NaN NaN    NaN             NaN   \n",
       "\n",
       "                                Michael  Joseph  \n",
       "1785 Inn                            NaN     NaN  \n",
       "1900 House                          NaN     NaN  \n",
       "A Bed & Breakfast In Cambridge      NaN     NaN  \n",
       "A Swallow's Nest Motel              NaN     NaN  \n",
       "Abbeville Inn                       NaN     NaN  \n",
       "\n",
       "[5 rows x 49 columns]"
      ]
     },
     "execution_count": 48,
     "metadata": {},
     "output_type": "execute_result"
    }
   ],
   "source": [
    "df_hotels = pandas.read_csv('../data/hot_Reviews.csv', index_col=0)\n",
    "df_hotels[:5]"
   ]
  },
  {
   "cell_type": "markdown",
   "metadata": {},
   "source": [
    "Here a rank of 0 is a missing value and to simplify things more we will convert from a 1-10 scale to a 1-5 scale, with 0 as missing\n",
    "\n",
    "這裡 0 的等級是一個缺失值，為了簡化事情，我們將從 1-10 的比例轉換為 1-5 的比例，0 表示缺失"
   ]
  },
  {
   "cell_type": "code",
   "execution_count": 49,
   "metadata": {},
   "outputs": [
    {
     "data": {
      "text/html": [
       "<div>\n",
       "<style scoped>\n",
       "    .dataframe tbody tr th:only-of-type {\n",
       "        vertical-align: middle;\n",
       "    }\n",
       "\n",
       "    .dataframe tbody tr th {\n",
       "        vertical-align: top;\n",
       "    }\n",
       "\n",
       "    .dataframe thead th {\n",
       "        text-align: right;\n",
       "    }\n",
       "</style>\n",
       "<table border=\"1\" class=\"dataframe\">\n",
       "  <thead>\n",
       "    <tr style=\"text-align: right;\">\n",
       "      <th></th>\n",
       "      <th>Karen</th>\n",
       "      <th>Scott</th>\n",
       "      <th>Jessica</th>\n",
       "      <th>write a review</th>\n",
       "      <th>A verified traveler</th>\n",
       "      <th>Kevin</th>\n",
       "      <th>William</th>\n",
       "      <th>R</th>\n",
       "      <th>S</th>\n",
       "      <th>Christopher</th>\n",
       "      <th>...</th>\n",
       "      <th>Thomas</th>\n",
       "      <th>Susan</th>\n",
       "      <th>A Traveler</th>\n",
       "      <th>M</th>\n",
       "      <th>Not Provided</th>\n",
       "      <th>B</th>\n",
       "      <th>Laura</th>\n",
       "      <th>xxxxxxxxxxxxxx</th>\n",
       "      <th>Michael</th>\n",
       "      <th>Joseph</th>\n",
       "    </tr>\n",
       "  </thead>\n",
       "  <tbody>\n",
       "    <tr>\n",
       "      <th>1785 Inn</th>\n",
       "      <td>NaN</td>\n",
       "      <td>NaN</td>\n",
       "      <td>NaN</td>\n",
       "      <td>NaN</td>\n",
       "      <td>NaN</td>\n",
       "      <td>NaN</td>\n",
       "      <td>NaN</td>\n",
       "      <td>NaN</td>\n",
       "      <td>NaN</td>\n",
       "      <td>NaN</td>\n",
       "      <td>...</td>\n",
       "      <td>NaN</td>\n",
       "      <td>NaN</td>\n",
       "      <td>NaN</td>\n",
       "      <td>NaN</td>\n",
       "      <td>NaN</td>\n",
       "      <td>NaN</td>\n",
       "      <td>NaN</td>\n",
       "      <td>NaN</td>\n",
       "      <td>NaN</td>\n",
       "      <td>NaN</td>\n",
       "    </tr>\n",
       "    <tr>\n",
       "      <th>1900 House</th>\n",
       "      <td>NaN</td>\n",
       "      <td>NaN</td>\n",
       "      <td>NaN</td>\n",
       "      <td>NaN</td>\n",
       "      <td>NaN</td>\n",
       "      <td>NaN</td>\n",
       "      <td>NaN</td>\n",
       "      <td>NaN</td>\n",
       "      <td>NaN</td>\n",
       "      <td>NaN</td>\n",
       "      <td>...</td>\n",
       "      <td>NaN</td>\n",
       "      <td>NaN</td>\n",
       "      <td>NaN</td>\n",
       "      <td>NaN</td>\n",
       "      <td>NaN</td>\n",
       "      <td>NaN</td>\n",
       "      <td>NaN</td>\n",
       "      <td>NaN</td>\n",
       "      <td>NaN</td>\n",
       "      <td>NaN</td>\n",
       "    </tr>\n",
       "    <tr>\n",
       "      <th>A Bed &amp; Breakfast In Cambridge</th>\n",
       "      <td>NaN</td>\n",
       "      <td>NaN</td>\n",
       "      <td>NaN</td>\n",
       "      <td>NaN</td>\n",
       "      <td>NaN</td>\n",
       "      <td>NaN</td>\n",
       "      <td>NaN</td>\n",
       "      <td>NaN</td>\n",
       "      <td>NaN</td>\n",
       "      <td>NaN</td>\n",
       "      <td>...</td>\n",
       "      <td>NaN</td>\n",
       "      <td>NaN</td>\n",
       "      <td>3.0</td>\n",
       "      <td>NaN</td>\n",
       "      <td>NaN</td>\n",
       "      <td>NaN</td>\n",
       "      <td>NaN</td>\n",
       "      <td>NaN</td>\n",
       "      <td>NaN</td>\n",
       "      <td>NaN</td>\n",
       "    </tr>\n",
       "    <tr>\n",
       "      <th>A Swallow's Nest Motel</th>\n",
       "      <td>NaN</td>\n",
       "      <td>NaN</td>\n",
       "      <td>NaN</td>\n",
       "      <td>NaN</td>\n",
       "      <td>NaN</td>\n",
       "      <td>NaN</td>\n",
       "      <td>NaN</td>\n",
       "      <td>NaN</td>\n",
       "      <td>NaN</td>\n",
       "      <td>NaN</td>\n",
       "      <td>...</td>\n",
       "      <td>NaN</td>\n",
       "      <td>NaN</td>\n",
       "      <td>NaN</td>\n",
       "      <td>NaN</td>\n",
       "      <td>NaN</td>\n",
       "      <td>NaN</td>\n",
       "      <td>NaN</td>\n",
       "      <td>NaN</td>\n",
       "      <td>NaN</td>\n",
       "      <td>NaN</td>\n",
       "    </tr>\n",
       "    <tr>\n",
       "      <th>Abbeville Inn</th>\n",
       "      <td>NaN</td>\n",
       "      <td>NaN</td>\n",
       "      <td>NaN</td>\n",
       "      <td>NaN</td>\n",
       "      <td>NaN</td>\n",
       "      <td>NaN</td>\n",
       "      <td>NaN</td>\n",
       "      <td>NaN</td>\n",
       "      <td>NaN</td>\n",
       "      <td>NaN</td>\n",
       "      <td>...</td>\n",
       "      <td>NaN</td>\n",
       "      <td>NaN</td>\n",
       "      <td>NaN</td>\n",
       "      <td>NaN</td>\n",
       "      <td>NaN</td>\n",
       "      <td>NaN</td>\n",
       "      <td>NaN</td>\n",
       "      <td>NaN</td>\n",
       "      <td>NaN</td>\n",
       "      <td>NaN</td>\n",
       "    </tr>\n",
       "    <tr>\n",
       "      <th>...</th>\n",
       "      <td>...</td>\n",
       "      <td>...</td>\n",
       "      <td>...</td>\n",
       "      <td>...</td>\n",
       "      <td>...</td>\n",
       "      <td>...</td>\n",
       "      <td>...</td>\n",
       "      <td>...</td>\n",
       "      <td>...</td>\n",
       "      <td>...</td>\n",
       "      <td>...</td>\n",
       "      <td>...</td>\n",
       "      <td>...</td>\n",
       "      <td>...</td>\n",
       "      <td>...</td>\n",
       "      <td>...</td>\n",
       "      <td>...</td>\n",
       "      <td>...</td>\n",
       "      <td>...</td>\n",
       "      <td>...</td>\n",
       "      <td>...</td>\n",
       "    </tr>\n",
       "    <tr>\n",
       "      <th>Whiteface Chalet</th>\n",
       "      <td>NaN</td>\n",
       "      <td>NaN</td>\n",
       "      <td>NaN</td>\n",
       "      <td>NaN</td>\n",
       "      <td>NaN</td>\n",
       "      <td>NaN</td>\n",
       "      <td>NaN</td>\n",
       "      <td>NaN</td>\n",
       "      <td>NaN</td>\n",
       "      <td>NaN</td>\n",
       "      <td>...</td>\n",
       "      <td>NaN</td>\n",
       "      <td>NaN</td>\n",
       "      <td>NaN</td>\n",
       "      <td>NaN</td>\n",
       "      <td>NaN</td>\n",
       "      <td>NaN</td>\n",
       "      <td>NaN</td>\n",
       "      <td>NaN</td>\n",
       "      <td>NaN</td>\n",
       "      <td>NaN</td>\n",
       "    </tr>\n",
       "    <tr>\n",
       "      <th>Wine Valley Lodge</th>\n",
       "      <td>4.0</td>\n",
       "      <td>NaN</td>\n",
       "      <td>NaN</td>\n",
       "      <td>NaN</td>\n",
       "      <td>NaN</td>\n",
       "      <td>NaN</td>\n",
       "      <td>NaN</td>\n",
       "      <td>NaN</td>\n",
       "      <td>5.0</td>\n",
       "      <td>NaN</td>\n",
       "      <td>...</td>\n",
       "      <td>5.0</td>\n",
       "      <td>NaN</td>\n",
       "      <td>5.0</td>\n",
       "      <td>4.0</td>\n",
       "      <td>NaN</td>\n",
       "      <td>NaN</td>\n",
       "      <td>4.0</td>\n",
       "      <td>NaN</td>\n",
       "      <td>3.0</td>\n",
       "      <td>NaN</td>\n",
       "    </tr>\n",
       "    <tr>\n",
       "      <th>Wingate By Wyndham Chantilly / Dulles Airport</th>\n",
       "      <td>NaN</td>\n",
       "      <td>NaN</td>\n",
       "      <td>NaN</td>\n",
       "      <td>NaN</td>\n",
       "      <td>NaN</td>\n",
       "      <td>NaN</td>\n",
       "      <td>NaN</td>\n",
       "      <td>NaN</td>\n",
       "      <td>NaN</td>\n",
       "      <td>NaN</td>\n",
       "      <td>...</td>\n",
       "      <td>NaN</td>\n",
       "      <td>NaN</td>\n",
       "      <td>5.0</td>\n",
       "      <td>NaN</td>\n",
       "      <td>NaN</td>\n",
       "      <td>NaN</td>\n",
       "      <td>NaN</td>\n",
       "      <td>NaN</td>\n",
       "      <td>NaN</td>\n",
       "      <td>NaN</td>\n",
       "    </tr>\n",
       "    <tr>\n",
       "      <th>Wingate By Wyndham Pueblo</th>\n",
       "      <td>NaN</td>\n",
       "      <td>NaN</td>\n",
       "      <td>NaN</td>\n",
       "      <td>NaN</td>\n",
       "      <td>NaN</td>\n",
       "      <td>NaN</td>\n",
       "      <td>NaN</td>\n",
       "      <td>NaN</td>\n",
       "      <td>5.0</td>\n",
       "      <td>5.0</td>\n",
       "      <td>...</td>\n",
       "      <td>NaN</td>\n",
       "      <td>NaN</td>\n",
       "      <td>5.0</td>\n",
       "      <td>4.0</td>\n",
       "      <td>5.0</td>\n",
       "      <td>NaN</td>\n",
       "      <td>4.0</td>\n",
       "      <td>NaN</td>\n",
       "      <td>NaN</td>\n",
       "      <td>NaN</td>\n",
       "    </tr>\n",
       "    <tr>\n",
       "      <th>Worldwide Hospitality Supply Company</th>\n",
       "      <td>NaN</td>\n",
       "      <td>NaN</td>\n",
       "      <td>NaN</td>\n",
       "      <td>NaN</td>\n",
       "      <td>NaN</td>\n",
       "      <td>NaN</td>\n",
       "      <td>NaN</td>\n",
       "      <td>NaN</td>\n",
       "      <td>NaN</td>\n",
       "      <td>NaN</td>\n",
       "      <td>...</td>\n",
       "      <td>NaN</td>\n",
       "      <td>NaN</td>\n",
       "      <td>NaN</td>\n",
       "      <td>NaN</td>\n",
       "      <td>NaN</td>\n",
       "      <td>NaN</td>\n",
       "      <td>NaN</td>\n",
       "      <td>NaN</td>\n",
       "      <td>NaN</td>\n",
       "      <td>NaN</td>\n",
       "    </tr>\n",
       "  </tbody>\n",
       "</table>\n",
       "<p>604 rows × 49 columns</p>\n",
       "</div>"
      ],
      "text/plain": [
       "                                               Karen  Scott  Jessica  \\\n",
       "1785 Inn                                         NaN    NaN      NaN   \n",
       "1900 House                                       NaN    NaN      NaN   \n",
       "A Bed & Breakfast In Cambridge                   NaN    NaN      NaN   \n",
       "A Swallow's Nest Motel                           NaN    NaN      NaN   \n",
       "Abbeville Inn                                    NaN    NaN      NaN   \n",
       "...                                              ...    ...      ...   \n",
       "Whiteface Chalet                                 NaN    NaN      NaN   \n",
       "Wine Valley Lodge                                4.0    NaN      NaN   \n",
       "Wingate By Wyndham Chantilly / Dulles Airport    NaN    NaN      NaN   \n",
       "Wingate By Wyndham Pueblo                        NaN    NaN      NaN   \n",
       "Worldwide Hospitality Supply Company             NaN    NaN      NaN   \n",
       "\n",
       "                                               write a review  \\\n",
       "1785 Inn                                                  NaN   \n",
       "1900 House                                                NaN   \n",
       "A Bed & Breakfast In Cambridge                            NaN   \n",
       "A Swallow's Nest Motel                                    NaN   \n",
       "Abbeville Inn                                             NaN   \n",
       "...                                                       ...   \n",
       "Whiteface Chalet                                          NaN   \n",
       "Wine Valley Lodge                                         NaN   \n",
       "Wingate By Wyndham Chantilly / Dulles Airport             NaN   \n",
       "Wingate By Wyndham Pueblo                                 NaN   \n",
       "Worldwide Hospitality Supply Company                      NaN   \n",
       "\n",
       "                                               A verified traveler  Kevin  \\\n",
       "1785 Inn                                                       NaN    NaN   \n",
       "1900 House                                                     NaN    NaN   \n",
       "A Bed & Breakfast In Cambridge                                 NaN    NaN   \n",
       "A Swallow's Nest Motel                                         NaN    NaN   \n",
       "Abbeville Inn                                                  NaN    NaN   \n",
       "...                                                            ...    ...   \n",
       "Whiteface Chalet                                               NaN    NaN   \n",
       "Wine Valley Lodge                                              NaN    NaN   \n",
       "Wingate By Wyndham Chantilly / Dulles Airport                  NaN    NaN   \n",
       "Wingate By Wyndham Pueblo                                      NaN    NaN   \n",
       "Worldwide Hospitality Supply Company                           NaN    NaN   \n",
       "\n",
       "                                               William   R    S  Christopher  \\\n",
       "1785 Inn                                           NaN NaN  NaN          NaN   \n",
       "1900 House                                         NaN NaN  NaN          NaN   \n",
       "A Bed & Breakfast In Cambridge                     NaN NaN  NaN          NaN   \n",
       "A Swallow's Nest Motel                             NaN NaN  NaN          NaN   \n",
       "Abbeville Inn                                      NaN NaN  NaN          NaN   \n",
       "...                                                ...  ..  ...          ...   \n",
       "Whiteface Chalet                                   NaN NaN  NaN          NaN   \n",
       "Wine Valley Lodge                                  NaN NaN  5.0          NaN   \n",
       "Wingate By Wyndham Chantilly / Dulles Airport      NaN NaN  NaN          NaN   \n",
       "Wingate By Wyndham Pueblo                          NaN NaN  5.0          5.0   \n",
       "Worldwide Hospitality Supply Company               NaN NaN  NaN          NaN   \n",
       "\n",
       "                                               ...  Thomas  Susan  A Traveler  \\\n",
       "1785 Inn                                       ...     NaN    NaN         NaN   \n",
       "1900 House                                     ...     NaN    NaN         NaN   \n",
       "A Bed & Breakfast In Cambridge                 ...     NaN    NaN         3.0   \n",
       "A Swallow's Nest Motel                         ...     NaN    NaN         NaN   \n",
       "Abbeville Inn                                  ...     NaN    NaN         NaN   \n",
       "...                                            ...     ...    ...         ...   \n",
       "Whiteface Chalet                               ...     NaN    NaN         NaN   \n",
       "Wine Valley Lodge                              ...     5.0    NaN         5.0   \n",
       "Wingate By Wyndham Chantilly / Dulles Airport  ...     NaN    NaN         5.0   \n",
       "Wingate By Wyndham Pueblo                      ...     NaN    NaN         5.0   \n",
       "Worldwide Hospitality Supply Company           ...     NaN    NaN         NaN   \n",
       "\n",
       "                                                 M  Not Provided   B  Laura  \\\n",
       "1785 Inn                                       NaN           NaN NaN    NaN   \n",
       "1900 House                                     NaN           NaN NaN    NaN   \n",
       "A Bed & Breakfast In Cambridge                 NaN           NaN NaN    NaN   \n",
       "A Swallow's Nest Motel                         NaN           NaN NaN    NaN   \n",
       "Abbeville Inn                                  NaN           NaN NaN    NaN   \n",
       "...                                            ...           ...  ..    ...   \n",
       "Whiteface Chalet                               NaN           NaN NaN    NaN   \n",
       "Wine Valley Lodge                              4.0           NaN NaN    4.0   \n",
       "Wingate By Wyndham Chantilly / Dulles Airport  NaN           NaN NaN    NaN   \n",
       "Wingate By Wyndham Pueblo                      4.0           5.0 NaN    4.0   \n",
       "Worldwide Hospitality Supply Company           NaN           NaN NaN    NaN   \n",
       "\n",
       "                                               xxxxxxxxxxxxxx  Michael  Joseph  \n",
       "1785 Inn                                                  NaN      NaN     NaN  \n",
       "1900 House                                                NaN      NaN     NaN  \n",
       "A Bed & Breakfast In Cambridge                            NaN      NaN     NaN  \n",
       "A Swallow's Nest Motel                                    NaN      NaN     NaN  \n",
       "Abbeville Inn                                             NaN      NaN     NaN  \n",
       "...                                                       ...      ...     ...  \n",
       "Whiteface Chalet                                          NaN      NaN     NaN  \n",
       "Wine Valley Lodge                                         NaN      3.0     NaN  \n",
       "Wingate By Wyndham Chantilly / Dulles Airport             NaN      NaN     NaN  \n",
       "Wingate By Wyndham Pueblo                                 NaN      NaN     NaN  \n",
       "Worldwide Hospitality Supply Company                      NaN      NaN     NaN  \n",
       "\n",
       "[604 rows x 49 columns]"
      ]
     },
     "execution_count": 49,
     "metadata": {},
     "output_type": "execute_result"
    }
   ],
   "source": [
    "df_hotels"
   ]
  },
  {
   "cell_type": "code",
   "execution_count": 50,
   "metadata": {},
   "outputs": [],
   "source": [
    "df_hotels = df_hotels.apply(lambda x: x // 2) #integer divide by 2 rounds all values"
   ]
  },
  {
   "cell_type": "markdown",
   "metadata": {},
   "source": [
    "將df每個cell的值都除以2"
   ]
  },
  {
   "cell_type": "code",
   "execution_count": 51,
   "metadata": {},
   "outputs": [
    {
     "data": {
      "text/html": [
       "<div>\n",
       "<style scoped>\n",
       "    .dataframe tbody tr th:only-of-type {\n",
       "        vertical-align: middle;\n",
       "    }\n",
       "\n",
       "    .dataframe tbody tr th {\n",
       "        vertical-align: top;\n",
       "    }\n",
       "\n",
       "    .dataframe thead th {\n",
       "        text-align: right;\n",
       "    }\n",
       "</style>\n",
       "<table border=\"1\" class=\"dataframe\">\n",
       "  <thead>\n",
       "    <tr style=\"text-align: right;\">\n",
       "      <th></th>\n",
       "      <th>Karen</th>\n",
       "      <th>Scott</th>\n",
       "      <th>Jessica</th>\n",
       "      <th>write a review</th>\n",
       "      <th>A verified traveler</th>\n",
       "      <th>Kevin</th>\n",
       "      <th>William</th>\n",
       "      <th>R</th>\n",
       "      <th>S</th>\n",
       "      <th>Christopher</th>\n",
       "      <th>...</th>\n",
       "      <th>Thomas</th>\n",
       "      <th>Susan</th>\n",
       "      <th>A Traveler</th>\n",
       "      <th>M</th>\n",
       "      <th>Not Provided</th>\n",
       "      <th>B</th>\n",
       "      <th>Laura</th>\n",
       "      <th>xxxxxxxxxxxxxx</th>\n",
       "      <th>Michael</th>\n",
       "      <th>Joseph</th>\n",
       "    </tr>\n",
       "  </thead>\n",
       "  <tbody>\n",
       "    <tr>\n",
       "      <th>1785 Inn</th>\n",
       "      <td>NaN</td>\n",
       "      <td>NaN</td>\n",
       "      <td>NaN</td>\n",
       "      <td>NaN</td>\n",
       "      <td>NaN</td>\n",
       "      <td>NaN</td>\n",
       "      <td>NaN</td>\n",
       "      <td>NaN</td>\n",
       "      <td>NaN</td>\n",
       "      <td>NaN</td>\n",
       "      <td>...</td>\n",
       "      <td>NaN</td>\n",
       "      <td>NaN</td>\n",
       "      <td>NaN</td>\n",
       "      <td>NaN</td>\n",
       "      <td>NaN</td>\n",
       "      <td>NaN</td>\n",
       "      <td>NaN</td>\n",
       "      <td>NaN</td>\n",
       "      <td>NaN</td>\n",
       "      <td>NaN</td>\n",
       "    </tr>\n",
       "    <tr>\n",
       "      <th>1900 House</th>\n",
       "      <td>NaN</td>\n",
       "      <td>NaN</td>\n",
       "      <td>NaN</td>\n",
       "      <td>NaN</td>\n",
       "      <td>NaN</td>\n",
       "      <td>NaN</td>\n",
       "      <td>NaN</td>\n",
       "      <td>NaN</td>\n",
       "      <td>NaN</td>\n",
       "      <td>NaN</td>\n",
       "      <td>...</td>\n",
       "      <td>NaN</td>\n",
       "      <td>NaN</td>\n",
       "      <td>NaN</td>\n",
       "      <td>NaN</td>\n",
       "      <td>NaN</td>\n",
       "      <td>NaN</td>\n",
       "      <td>NaN</td>\n",
       "      <td>NaN</td>\n",
       "      <td>NaN</td>\n",
       "      <td>NaN</td>\n",
       "    </tr>\n",
       "    <tr>\n",
       "      <th>A Bed &amp; Breakfast In Cambridge</th>\n",
       "      <td>NaN</td>\n",
       "      <td>NaN</td>\n",
       "      <td>NaN</td>\n",
       "      <td>NaN</td>\n",
       "      <td>NaN</td>\n",
       "      <td>NaN</td>\n",
       "      <td>NaN</td>\n",
       "      <td>NaN</td>\n",
       "      <td>NaN</td>\n",
       "      <td>NaN</td>\n",
       "      <td>...</td>\n",
       "      <td>NaN</td>\n",
       "      <td>NaN</td>\n",
       "      <td>1.0</td>\n",
       "      <td>NaN</td>\n",
       "      <td>NaN</td>\n",
       "      <td>NaN</td>\n",
       "      <td>NaN</td>\n",
       "      <td>NaN</td>\n",
       "      <td>NaN</td>\n",
       "      <td>NaN</td>\n",
       "    </tr>\n",
       "    <tr>\n",
       "      <th>A Swallow's Nest Motel</th>\n",
       "      <td>NaN</td>\n",
       "      <td>NaN</td>\n",
       "      <td>NaN</td>\n",
       "      <td>NaN</td>\n",
       "      <td>NaN</td>\n",
       "      <td>NaN</td>\n",
       "      <td>NaN</td>\n",
       "      <td>NaN</td>\n",
       "      <td>NaN</td>\n",
       "      <td>NaN</td>\n",
       "      <td>...</td>\n",
       "      <td>NaN</td>\n",
       "      <td>NaN</td>\n",
       "      <td>NaN</td>\n",
       "      <td>NaN</td>\n",
       "      <td>NaN</td>\n",
       "      <td>NaN</td>\n",
       "      <td>NaN</td>\n",
       "      <td>NaN</td>\n",
       "      <td>NaN</td>\n",
       "      <td>NaN</td>\n",
       "    </tr>\n",
       "    <tr>\n",
       "      <th>Abbeville Inn</th>\n",
       "      <td>NaN</td>\n",
       "      <td>NaN</td>\n",
       "      <td>NaN</td>\n",
       "      <td>NaN</td>\n",
       "      <td>NaN</td>\n",
       "      <td>NaN</td>\n",
       "      <td>NaN</td>\n",
       "      <td>NaN</td>\n",
       "      <td>NaN</td>\n",
       "      <td>NaN</td>\n",
       "      <td>...</td>\n",
       "      <td>NaN</td>\n",
       "      <td>NaN</td>\n",
       "      <td>NaN</td>\n",
       "      <td>NaN</td>\n",
       "      <td>NaN</td>\n",
       "      <td>NaN</td>\n",
       "      <td>NaN</td>\n",
       "      <td>NaN</td>\n",
       "      <td>NaN</td>\n",
       "      <td>NaN</td>\n",
       "    </tr>\n",
       "    <tr>\n",
       "      <th>...</th>\n",
       "      <td>...</td>\n",
       "      <td>...</td>\n",
       "      <td>...</td>\n",
       "      <td>...</td>\n",
       "      <td>...</td>\n",
       "      <td>...</td>\n",
       "      <td>...</td>\n",
       "      <td>...</td>\n",
       "      <td>...</td>\n",
       "      <td>...</td>\n",
       "      <td>...</td>\n",
       "      <td>...</td>\n",
       "      <td>...</td>\n",
       "      <td>...</td>\n",
       "      <td>...</td>\n",
       "      <td>...</td>\n",
       "      <td>...</td>\n",
       "      <td>...</td>\n",
       "      <td>...</td>\n",
       "      <td>...</td>\n",
       "      <td>...</td>\n",
       "    </tr>\n",
       "    <tr>\n",
       "      <th>Whiteface Chalet</th>\n",
       "      <td>NaN</td>\n",
       "      <td>NaN</td>\n",
       "      <td>NaN</td>\n",
       "      <td>NaN</td>\n",
       "      <td>NaN</td>\n",
       "      <td>NaN</td>\n",
       "      <td>NaN</td>\n",
       "      <td>NaN</td>\n",
       "      <td>NaN</td>\n",
       "      <td>NaN</td>\n",
       "      <td>...</td>\n",
       "      <td>NaN</td>\n",
       "      <td>NaN</td>\n",
       "      <td>NaN</td>\n",
       "      <td>NaN</td>\n",
       "      <td>NaN</td>\n",
       "      <td>NaN</td>\n",
       "      <td>NaN</td>\n",
       "      <td>NaN</td>\n",
       "      <td>NaN</td>\n",
       "      <td>NaN</td>\n",
       "    </tr>\n",
       "    <tr>\n",
       "      <th>Wine Valley Lodge</th>\n",
       "      <td>2.0</td>\n",
       "      <td>NaN</td>\n",
       "      <td>NaN</td>\n",
       "      <td>NaN</td>\n",
       "      <td>NaN</td>\n",
       "      <td>NaN</td>\n",
       "      <td>NaN</td>\n",
       "      <td>NaN</td>\n",
       "      <td>2.0</td>\n",
       "      <td>NaN</td>\n",
       "      <td>...</td>\n",
       "      <td>2.0</td>\n",
       "      <td>NaN</td>\n",
       "      <td>2.0</td>\n",
       "      <td>2.0</td>\n",
       "      <td>NaN</td>\n",
       "      <td>NaN</td>\n",
       "      <td>2.0</td>\n",
       "      <td>NaN</td>\n",
       "      <td>1.0</td>\n",
       "      <td>NaN</td>\n",
       "    </tr>\n",
       "    <tr>\n",
       "      <th>Wingate By Wyndham Chantilly / Dulles Airport</th>\n",
       "      <td>NaN</td>\n",
       "      <td>NaN</td>\n",
       "      <td>NaN</td>\n",
       "      <td>NaN</td>\n",
       "      <td>NaN</td>\n",
       "      <td>NaN</td>\n",
       "      <td>NaN</td>\n",
       "      <td>NaN</td>\n",
       "      <td>NaN</td>\n",
       "      <td>NaN</td>\n",
       "      <td>...</td>\n",
       "      <td>NaN</td>\n",
       "      <td>NaN</td>\n",
       "      <td>2.0</td>\n",
       "      <td>NaN</td>\n",
       "      <td>NaN</td>\n",
       "      <td>NaN</td>\n",
       "      <td>NaN</td>\n",
       "      <td>NaN</td>\n",
       "      <td>NaN</td>\n",
       "      <td>NaN</td>\n",
       "    </tr>\n",
       "    <tr>\n",
       "      <th>Wingate By Wyndham Pueblo</th>\n",
       "      <td>NaN</td>\n",
       "      <td>NaN</td>\n",
       "      <td>NaN</td>\n",
       "      <td>NaN</td>\n",
       "      <td>NaN</td>\n",
       "      <td>NaN</td>\n",
       "      <td>NaN</td>\n",
       "      <td>NaN</td>\n",
       "      <td>2.0</td>\n",
       "      <td>2.0</td>\n",
       "      <td>...</td>\n",
       "      <td>NaN</td>\n",
       "      <td>NaN</td>\n",
       "      <td>2.0</td>\n",
       "      <td>2.0</td>\n",
       "      <td>2.0</td>\n",
       "      <td>NaN</td>\n",
       "      <td>2.0</td>\n",
       "      <td>NaN</td>\n",
       "      <td>NaN</td>\n",
       "      <td>NaN</td>\n",
       "    </tr>\n",
       "    <tr>\n",
       "      <th>Worldwide Hospitality Supply Company</th>\n",
       "      <td>NaN</td>\n",
       "      <td>NaN</td>\n",
       "      <td>NaN</td>\n",
       "      <td>NaN</td>\n",
       "      <td>NaN</td>\n",
       "      <td>NaN</td>\n",
       "      <td>NaN</td>\n",
       "      <td>NaN</td>\n",
       "      <td>NaN</td>\n",
       "      <td>NaN</td>\n",
       "      <td>...</td>\n",
       "      <td>NaN</td>\n",
       "      <td>NaN</td>\n",
       "      <td>NaN</td>\n",
       "      <td>NaN</td>\n",
       "      <td>NaN</td>\n",
       "      <td>NaN</td>\n",
       "      <td>NaN</td>\n",
       "      <td>NaN</td>\n",
       "      <td>NaN</td>\n",
       "      <td>NaN</td>\n",
       "    </tr>\n",
       "  </tbody>\n",
       "</table>\n",
       "<p>604 rows × 49 columns</p>\n",
       "</div>"
      ],
      "text/plain": [
       "                                               Karen  Scott  Jessica  \\\n",
       "1785 Inn                                         NaN    NaN      NaN   \n",
       "1900 House                                       NaN    NaN      NaN   \n",
       "A Bed & Breakfast In Cambridge                   NaN    NaN      NaN   \n",
       "A Swallow's Nest Motel                           NaN    NaN      NaN   \n",
       "Abbeville Inn                                    NaN    NaN      NaN   \n",
       "...                                              ...    ...      ...   \n",
       "Whiteface Chalet                                 NaN    NaN      NaN   \n",
       "Wine Valley Lodge                                2.0    NaN      NaN   \n",
       "Wingate By Wyndham Chantilly / Dulles Airport    NaN    NaN      NaN   \n",
       "Wingate By Wyndham Pueblo                        NaN    NaN      NaN   \n",
       "Worldwide Hospitality Supply Company             NaN    NaN      NaN   \n",
       "\n",
       "                                               write a review  \\\n",
       "1785 Inn                                                  NaN   \n",
       "1900 House                                                NaN   \n",
       "A Bed & Breakfast In Cambridge                            NaN   \n",
       "A Swallow's Nest Motel                                    NaN   \n",
       "Abbeville Inn                                             NaN   \n",
       "...                                                       ...   \n",
       "Whiteface Chalet                                          NaN   \n",
       "Wine Valley Lodge                                         NaN   \n",
       "Wingate By Wyndham Chantilly / Dulles Airport             NaN   \n",
       "Wingate By Wyndham Pueblo                                 NaN   \n",
       "Worldwide Hospitality Supply Company                      NaN   \n",
       "\n",
       "                                               A verified traveler  Kevin  \\\n",
       "1785 Inn                                                       NaN    NaN   \n",
       "1900 House                                                     NaN    NaN   \n",
       "A Bed & Breakfast In Cambridge                                 NaN    NaN   \n",
       "A Swallow's Nest Motel                                         NaN    NaN   \n",
       "Abbeville Inn                                                  NaN    NaN   \n",
       "...                                                            ...    ...   \n",
       "Whiteface Chalet                                               NaN    NaN   \n",
       "Wine Valley Lodge                                              NaN    NaN   \n",
       "Wingate By Wyndham Chantilly / Dulles Airport                  NaN    NaN   \n",
       "Wingate By Wyndham Pueblo                                      NaN    NaN   \n",
       "Worldwide Hospitality Supply Company                           NaN    NaN   \n",
       "\n",
       "                                               William   R    S  Christopher  \\\n",
       "1785 Inn                                           NaN NaN  NaN          NaN   \n",
       "1900 House                                         NaN NaN  NaN          NaN   \n",
       "A Bed & Breakfast In Cambridge                     NaN NaN  NaN          NaN   \n",
       "A Swallow's Nest Motel                             NaN NaN  NaN          NaN   \n",
       "Abbeville Inn                                      NaN NaN  NaN          NaN   \n",
       "...                                                ...  ..  ...          ...   \n",
       "Whiteface Chalet                                   NaN NaN  NaN          NaN   \n",
       "Wine Valley Lodge                                  NaN NaN  2.0          NaN   \n",
       "Wingate By Wyndham Chantilly / Dulles Airport      NaN NaN  NaN          NaN   \n",
       "Wingate By Wyndham Pueblo                          NaN NaN  2.0          2.0   \n",
       "Worldwide Hospitality Supply Company               NaN NaN  NaN          NaN   \n",
       "\n",
       "                                               ...  Thomas  Susan  A Traveler  \\\n",
       "1785 Inn                                       ...     NaN    NaN         NaN   \n",
       "1900 House                                     ...     NaN    NaN         NaN   \n",
       "A Bed & Breakfast In Cambridge                 ...     NaN    NaN         1.0   \n",
       "A Swallow's Nest Motel                         ...     NaN    NaN         NaN   \n",
       "Abbeville Inn                                  ...     NaN    NaN         NaN   \n",
       "...                                            ...     ...    ...         ...   \n",
       "Whiteface Chalet                               ...     NaN    NaN         NaN   \n",
       "Wine Valley Lodge                              ...     2.0    NaN         2.0   \n",
       "Wingate By Wyndham Chantilly / Dulles Airport  ...     NaN    NaN         2.0   \n",
       "Wingate By Wyndham Pueblo                      ...     NaN    NaN         2.0   \n",
       "Worldwide Hospitality Supply Company           ...     NaN    NaN         NaN   \n",
       "\n",
       "                                                 M  Not Provided   B  Laura  \\\n",
       "1785 Inn                                       NaN           NaN NaN    NaN   \n",
       "1900 House                                     NaN           NaN NaN    NaN   \n",
       "A Bed & Breakfast In Cambridge                 NaN           NaN NaN    NaN   \n",
       "A Swallow's Nest Motel                         NaN           NaN NaN    NaN   \n",
       "Abbeville Inn                                  NaN           NaN NaN    NaN   \n",
       "...                                            ...           ...  ..    ...   \n",
       "Whiteface Chalet                               NaN           NaN NaN    NaN   \n",
       "Wine Valley Lodge                              2.0           NaN NaN    2.0   \n",
       "Wingate By Wyndham Chantilly / Dulles Airport  NaN           NaN NaN    NaN   \n",
       "Wingate By Wyndham Pueblo                      2.0           2.0 NaN    2.0   \n",
       "Worldwide Hospitality Supply Company           NaN           NaN NaN    NaN   \n",
       "\n",
       "                                               xxxxxxxxxxxxxx  Michael  Joseph  \n",
       "1785 Inn                                                  NaN      NaN     NaN  \n",
       "1900 House                                                NaN      NaN     NaN  \n",
       "A Bed & Breakfast In Cambridge                            NaN      NaN     NaN  \n",
       "A Swallow's Nest Motel                                    NaN      NaN     NaN  \n",
       "Abbeville Inn                                             NaN      NaN     NaN  \n",
       "...                                                       ...      ...     ...  \n",
       "Whiteface Chalet                                          NaN      NaN     NaN  \n",
       "Wine Valley Lodge                                         NaN      1.0     NaN  \n",
       "Wingate By Wyndham Chantilly / Dulles Airport             NaN      NaN     NaN  \n",
       "Wingate By Wyndham Pueblo                                 NaN      NaN     NaN  \n",
       "Worldwide Hospitality Supply Company                      NaN      NaN     NaN  \n",
       "\n",
       "[604 rows x 49 columns]"
      ]
     },
     "execution_count": 51,
     "metadata": {},
     "output_type": "execute_result"
    }
   ],
   "source": [
    "df_hotels"
   ]
  },
  {
   "cell_type": "markdown",
   "metadata": {},
   "source": [
    "And we can visualize all the reviews as a heatmap with the missing values greyed out"
   ]
  },
  {
   "cell_type": "markdown",
   "metadata": {},
   "source": [
    "\n",
    "cmap 引數更改用於繪圖的配色方案。"
   ]
  },
  {
   "cell_type": "code",
   "execution_count": 53,
   "metadata": {},
   "outputs": [
    {
     "data": {
      "image/png": "[encoded data removed]",
      "text/plain": [
       "<Figure size 1440x1440 with 2 Axes>"
      ]
     },
     "metadata": {
      "needs_background": "light"
     },
     "output_type": "display_data"
    }
   ],
   "source": [
    "fig, ax = plt.subplots(figsize = (20,20))\n",
    "seaborn.heatmap(df_hotels, cmap='rainbow', ax = ax)\n",
    "plt.show()"
   ]
  },
  {
   "cell_type": "markdown",
   "metadata": {},
   "source": [
    "To give the dataframe to pyanno we need to convert to np array and change the nans to intergers, lets use -1"
   ]
  },
  {
   "cell_type": "code",
   "execution_count": 63,
   "metadata": {},
   "outputs": [
    {
     "data": {
      "text/html": [
       "<div>\n",
       "<style scoped>\n",
       "    .dataframe tbody tr th:only-of-type {\n",
       "        vertical-align: middle;\n",
       "    }\n",
       "\n",
       "    .dataframe tbody tr th {\n",
       "        vertical-align: top;\n",
       "    }\n",
       "\n",
       "    .dataframe thead th {\n",
       "        text-align: right;\n",
       "    }\n",
       "</style>\n",
       "<table border=\"1\" class=\"dataframe\">\n",
       "  <thead>\n",
       "    <tr style=\"text-align: right;\">\n",
       "      <th></th>\n",
       "      <th>Karen</th>\n",
       "      <th>Scott</th>\n",
       "      <th>Jessica</th>\n",
       "      <th>write a review</th>\n",
       "      <th>A verified traveler</th>\n",
       "      <th>Kevin</th>\n",
       "      <th>William</th>\n",
       "      <th>R</th>\n",
       "      <th>S</th>\n",
       "      <th>Christopher</th>\n",
       "      <th>...</th>\n",
       "      <th>Thomas</th>\n",
       "      <th>Susan</th>\n",
       "      <th>A Traveler</th>\n",
       "      <th>M</th>\n",
       "      <th>Not Provided</th>\n",
       "      <th>B</th>\n",
       "      <th>Laura</th>\n",
       "      <th>xxxxxxxxxxxxxx</th>\n",
       "      <th>Michael</th>\n",
       "      <th>Joseph</th>\n",
       "    </tr>\n",
       "  </thead>\n",
       "  <tbody>\n",
       "    <tr>\n",
       "      <th>1785 Inn</th>\n",
       "      <td>-1.0</td>\n",
       "      <td>-1.0</td>\n",
       "      <td>-1.0</td>\n",
       "      <td>-1.0</td>\n",
       "      <td>-1.0</td>\n",
       "      <td>-1.0</td>\n",
       "      <td>-1.0</td>\n",
       "      <td>-1.0</td>\n",
       "      <td>-1.0</td>\n",
       "      <td>-1.0</td>\n",
       "      <td>...</td>\n",
       "      <td>-1.0</td>\n",
       "      <td>-1.0</td>\n",
       "      <td>-1.0</td>\n",
       "      <td>-1.0</td>\n",
       "      <td>-1.0</td>\n",
       "      <td>-1.0</td>\n",
       "      <td>-1.0</td>\n",
       "      <td>-1.0</td>\n",
       "      <td>-1.0</td>\n",
       "      <td>-1.0</td>\n",
       "    </tr>\n",
       "    <tr>\n",
       "      <th>1900 House</th>\n",
       "      <td>-1.0</td>\n",
       "      <td>-1.0</td>\n",
       "      <td>-1.0</td>\n",
       "      <td>-1.0</td>\n",
       "      <td>-1.0</td>\n",
       "      <td>-1.0</td>\n",
       "      <td>-1.0</td>\n",
       "      <td>-1.0</td>\n",
       "      <td>-1.0</td>\n",
       "      <td>-1.0</td>\n",
       "      <td>...</td>\n",
       "      <td>-1.0</td>\n",
       "      <td>-1.0</td>\n",
       "      <td>-1.0</td>\n",
       "      <td>-1.0</td>\n",
       "      <td>-1.0</td>\n",
       "      <td>-1.0</td>\n",
       "      <td>-1.0</td>\n",
       "      <td>-1.0</td>\n",
       "      <td>-1.0</td>\n",
       "      <td>-1.0</td>\n",
       "    </tr>\n",
       "    <tr>\n",
       "      <th>A Bed &amp; Breakfast In Cambridge</th>\n",
       "      <td>-1.0</td>\n",
       "      <td>-1.0</td>\n",
       "      <td>-1.0</td>\n",
       "      <td>-1.0</td>\n",
       "      <td>-1.0</td>\n",
       "      <td>-1.0</td>\n",
       "      <td>-1.0</td>\n",
       "      <td>-1.0</td>\n",
       "      <td>-1.0</td>\n",
       "      <td>-1.0</td>\n",
       "      <td>...</td>\n",
       "      <td>-1.0</td>\n",
       "      <td>-1.0</td>\n",
       "      <td>1.0</td>\n",
       "      <td>-1.0</td>\n",
       "      <td>-1.0</td>\n",
       "      <td>-1.0</td>\n",
       "      <td>-1.0</td>\n",
       "      <td>-1.0</td>\n",
       "      <td>-1.0</td>\n",
       "      <td>-1.0</td>\n",
       "    </tr>\n",
       "    <tr>\n",
       "      <th>A Swallow's Nest Motel</th>\n",
       "      <td>-1.0</td>\n",
       "      <td>-1.0</td>\n",
       "      <td>-1.0</td>\n",
       "      <td>-1.0</td>\n",
       "      <td>-1.0</td>\n",
       "      <td>-1.0</td>\n",
       "      <td>-1.0</td>\n",
       "      <td>-1.0</td>\n",
       "      <td>-1.0</td>\n",
       "      <td>-1.0</td>\n",
       "      <td>...</td>\n",
       "      <td>-1.0</td>\n",
       "      <td>-1.0</td>\n",
       "      <td>-1.0</td>\n",
       "      <td>-1.0</td>\n",
       "      <td>-1.0</td>\n",
       "      <td>-1.0</td>\n",
       "      <td>-1.0</td>\n",
       "      <td>-1.0</td>\n",
       "      <td>-1.0</td>\n",
       "      <td>-1.0</td>\n",
       "    </tr>\n",
       "    <tr>\n",
       "      <th>Abbeville Inn</th>\n",
       "      <td>-1.0</td>\n",
       "      <td>-1.0</td>\n",
       "      <td>-1.0</td>\n",
       "      <td>-1.0</td>\n",
       "      <td>-1.0</td>\n",
       "      <td>-1.0</td>\n",
       "      <td>-1.0</td>\n",
       "      <td>-1.0</td>\n",
       "      <td>-1.0</td>\n",
       "      <td>-1.0</td>\n",
       "      <td>...</td>\n",
       "      <td>-1.0</td>\n",
       "      <td>-1.0</td>\n",
       "      <td>-1.0</td>\n",
       "      <td>-1.0</td>\n",
       "      <td>-1.0</td>\n",
       "      <td>-1.0</td>\n",
       "      <td>-1.0</td>\n",
       "      <td>-1.0</td>\n",
       "      <td>-1.0</td>\n",
       "      <td>-1.0</td>\n",
       "    </tr>\n",
       "    <tr>\n",
       "      <th>...</th>\n",
       "      <td>...</td>\n",
       "      <td>...</td>\n",
       "      <td>...</td>\n",
       "      <td>...</td>\n",
       "      <td>...</td>\n",
       "      <td>...</td>\n",
       "      <td>...</td>\n",
       "      <td>...</td>\n",
       "      <td>...</td>\n",
       "      <td>...</td>\n",
       "      <td>...</td>\n",
       "      <td>...</td>\n",
       "      <td>...</td>\n",
       "      <td>...</td>\n",
       "      <td>...</td>\n",
       "      <td>...</td>\n",
       "      <td>...</td>\n",
       "      <td>...</td>\n",
       "      <td>...</td>\n",
       "      <td>...</td>\n",
       "      <td>...</td>\n",
       "    </tr>\n",
       "    <tr>\n",
       "      <th>Whiteface Chalet</th>\n",
       "      <td>-1.0</td>\n",
       "      <td>-1.0</td>\n",
       "      <td>-1.0</td>\n",
       "      <td>-1.0</td>\n",
       "      <td>-1.0</td>\n",
       "      <td>-1.0</td>\n",
       "      <td>-1.0</td>\n",
       "      <td>-1.0</td>\n",
       "      <td>-1.0</td>\n",
       "      <td>-1.0</td>\n",
       "      <td>...</td>\n",
       "      <td>-1.0</td>\n",
       "      <td>-1.0</td>\n",
       "      <td>-1.0</td>\n",
       "      <td>-1.0</td>\n",
       "      <td>-1.0</td>\n",
       "      <td>-1.0</td>\n",
       "      <td>-1.0</td>\n",
       "      <td>-1.0</td>\n",
       "      <td>-1.0</td>\n",
       "      <td>-1.0</td>\n",
       "    </tr>\n",
       "    <tr>\n",
       "      <th>Wine Valley Lodge</th>\n",
       "      <td>2.0</td>\n",
       "      <td>-1.0</td>\n",
       "      <td>-1.0</td>\n",
       "      <td>-1.0</td>\n",
       "      <td>-1.0</td>\n",
       "      <td>-1.0</td>\n",
       "      <td>-1.0</td>\n",
       "      <td>-1.0</td>\n",
       "      <td>2.0</td>\n",
       "      <td>-1.0</td>\n",
       "      <td>...</td>\n",
       "      <td>2.0</td>\n",
       "      <td>-1.0</td>\n",
       "      <td>2.0</td>\n",
       "      <td>2.0</td>\n",
       "      <td>-1.0</td>\n",
       "      <td>-1.0</td>\n",
       "      <td>2.0</td>\n",
       "      <td>-1.0</td>\n",
       "      <td>1.0</td>\n",
       "      <td>-1.0</td>\n",
       "    </tr>\n",
       "    <tr>\n",
       "      <th>Wingate By Wyndham Chantilly / Dulles Airport</th>\n",
       "      <td>-1.0</td>\n",
       "      <td>-1.0</td>\n",
       "      <td>-1.0</td>\n",
       "      <td>-1.0</td>\n",
       "      <td>-1.0</td>\n",
       "      <td>-1.0</td>\n",
       "      <td>-1.0</td>\n",
       "      <td>-1.0</td>\n",
       "      <td>-1.0</td>\n",
       "      <td>-1.0</td>\n",
       "      <td>...</td>\n",
       "      <td>-1.0</td>\n",
       "      <td>-1.0</td>\n",
       "      <td>2.0</td>\n",
       "      <td>-1.0</td>\n",
       "      <td>-1.0</td>\n",
       "      <td>-1.0</td>\n",
       "      <td>-1.0</td>\n",
       "      <td>-1.0</td>\n",
       "      <td>-1.0</td>\n",
       "      <td>-1.0</td>\n",
       "    </tr>\n",
       "    <tr>\n",
       "      <th>Wingate By Wyndham Pueblo</th>\n",
       "      <td>-1.0</td>\n",
       "      <td>-1.0</td>\n",
       "      <td>-1.0</td>\n",
       "      <td>-1.0</td>\n",
       "      <td>-1.0</td>\n",
       "      <td>-1.0</td>\n",
       "      <td>-1.0</td>\n",
       "      <td>-1.0</td>\n",
       "      <td>2.0</td>\n",
       "      <td>2.0</td>\n",
       "      <td>...</td>\n",
       "      <td>-1.0</td>\n",
       "      <td>-1.0</td>\n",
       "      <td>2.0</td>\n",
       "      <td>2.0</td>\n",
       "      <td>2.0</td>\n",
       "      <td>-1.0</td>\n",
       "      <td>2.0</td>\n",
       "      <td>-1.0</td>\n",
       "      <td>-1.0</td>\n",
       "      <td>-1.0</td>\n",
       "    </tr>\n",
       "    <tr>\n",
       "      <th>Worldwide Hospitality Supply Company</th>\n",
       "      <td>-1.0</td>\n",
       "      <td>-1.0</td>\n",
       "      <td>-1.0</td>\n",
       "      <td>-1.0</td>\n",
       "      <td>-1.0</td>\n",
       "      <td>-1.0</td>\n",
       "      <td>-1.0</td>\n",
       "      <td>-1.0</td>\n",
       "      <td>-1.0</td>\n",
       "      <td>-1.0</td>\n",
       "      <td>...</td>\n",
       "      <td>-1.0</td>\n",
       "      <td>-1.0</td>\n",
       "      <td>-1.0</td>\n",
       "      <td>-1.0</td>\n",
       "      <td>-1.0</td>\n",
       "      <td>-1.0</td>\n",
       "      <td>-1.0</td>\n",
       "      <td>-1.0</td>\n",
       "      <td>-1.0</td>\n",
       "      <td>-1.0</td>\n",
       "    </tr>\n",
       "  </tbody>\n",
       "</table>\n",
       "<p>604 rows × 49 columns</p>\n",
       "</div>"
      ],
      "text/plain": [
       "                                               Karen  Scott  Jessica  \\\n",
       "1785 Inn                                        -1.0   -1.0     -1.0   \n",
       "1900 House                                      -1.0   -1.0     -1.0   \n",
       "A Bed & Breakfast In Cambridge                  -1.0   -1.0     -1.0   \n",
       "A Swallow's Nest Motel                          -1.0   -1.0     -1.0   \n",
       "Abbeville Inn                                   -1.0   -1.0     -1.0   \n",
       "...                                              ...    ...      ...   \n",
       "Whiteface Chalet                                -1.0   -1.0     -1.0   \n",
       "Wine Valley Lodge                                2.0   -1.0     -1.0   \n",
       "Wingate By Wyndham Chantilly / Dulles Airport   -1.0   -1.0     -1.0   \n",
       "Wingate By Wyndham Pueblo                       -1.0   -1.0     -1.0   \n",
       "Worldwide Hospitality Supply Company            -1.0   -1.0     -1.0   \n",
       "\n",
       "                                               write a review  \\\n",
       "1785 Inn                                                 -1.0   \n",
       "1900 House                                               -1.0   \n",
       "A Bed & Breakfast In Cambridge                           -1.0   \n",
       "A Swallow's Nest Motel                                   -1.0   \n",
       "Abbeville Inn                                            -1.0   \n",
       "...                                                       ...   \n",
       "Whiteface Chalet                                         -1.0   \n",
       "Wine Valley Lodge                                        -1.0   \n",
       "Wingate By Wyndham Chantilly / Dulles Airport            -1.0   \n",
       "Wingate By Wyndham Pueblo                                -1.0   \n",
       "Worldwide Hospitality Supply Company                     -1.0   \n",
       "\n",
       "                                               A verified traveler  Kevin  \\\n",
       "1785 Inn                                                      -1.0   -1.0   \n",
       "1900 House                                                    -1.0   -1.0   \n",
       "A Bed & Breakfast In Cambridge                                -1.0   -1.0   \n",
       "A Swallow's Nest Motel                                        -1.0   -1.0   \n",
       "Abbeville Inn                                                 -1.0   -1.0   \n",
       "...                                                            ...    ...   \n",
       "Whiteface Chalet                                              -1.0   -1.0   \n",
       "Wine Valley Lodge                                             -1.0   -1.0   \n",
       "Wingate By Wyndham Chantilly / Dulles Airport                 -1.0   -1.0   \n",
       "Wingate By Wyndham Pueblo                                     -1.0   -1.0   \n",
       "Worldwide Hospitality Supply Company                          -1.0   -1.0   \n",
       "\n",
       "                                               William    R    S  Christopher  \\\n",
       "1785 Inn                                          -1.0 -1.0 -1.0         -1.0   \n",
       "1900 House                                        -1.0 -1.0 -1.0         -1.0   \n",
       "A Bed & Breakfast In Cambridge                    -1.0 -1.0 -1.0         -1.0   \n",
       "A Swallow's Nest Motel                            -1.0 -1.0 -1.0         -1.0   \n",
       "Abbeville Inn                                     -1.0 -1.0 -1.0         -1.0   \n",
       "...                                                ...  ...  ...          ...   \n",
       "Whiteface Chalet                                  -1.0 -1.0 -1.0         -1.0   \n",
       "Wine Valley Lodge                                 -1.0 -1.0  2.0         -1.0   \n",
       "Wingate By Wyndham Chantilly / Dulles Airport     -1.0 -1.0 -1.0         -1.0   \n",
       "Wingate By Wyndham Pueblo                         -1.0 -1.0  2.0          2.0   \n",
       "Worldwide Hospitality Supply Company              -1.0 -1.0 -1.0         -1.0   \n",
       "\n",
       "                                               ...  Thomas  Susan  A Traveler  \\\n",
       "1785 Inn                                       ...    -1.0   -1.0        -1.0   \n",
       "1900 House                                     ...    -1.0   -1.0        -1.0   \n",
       "A Bed & Breakfast In Cambridge                 ...    -1.0   -1.0         1.0   \n",
       "A Swallow's Nest Motel                         ...    -1.0   -1.0        -1.0   \n",
       "Abbeville Inn                                  ...    -1.0   -1.0        -1.0   \n",
       "...                                            ...     ...    ...         ...   \n",
       "Whiteface Chalet                               ...    -1.0   -1.0        -1.0   \n",
       "Wine Valley Lodge                              ...     2.0   -1.0         2.0   \n",
       "Wingate By Wyndham Chantilly / Dulles Airport  ...    -1.0   -1.0         2.0   \n",
       "Wingate By Wyndham Pueblo                      ...    -1.0   -1.0         2.0   \n",
       "Worldwide Hospitality Supply Company           ...    -1.0   -1.0        -1.0   \n",
       "\n",
       "                                                 M  Not Provided    B  Laura  \\\n",
       "1785 Inn                                      -1.0          -1.0 -1.0   -1.0   \n",
       "1900 House                                    -1.0          -1.0 -1.0   -1.0   \n",
       "A Bed & Breakfast In Cambridge                -1.0          -1.0 -1.0   -1.0   \n",
       "A Swallow's Nest Motel                        -1.0          -1.0 -1.0   -1.0   \n",
       "Abbeville Inn                                 -1.0          -1.0 -1.0   -1.0   \n",
       "...                                            ...           ...  ...    ...   \n",
       "Whiteface Chalet                              -1.0          -1.0 -1.0   -1.0   \n",
       "Wine Valley Lodge                              2.0          -1.0 -1.0    2.0   \n",
       "Wingate By Wyndham Chantilly / Dulles Airport -1.0          -1.0 -1.0   -1.0   \n",
       "Wingate By Wyndham Pueblo                      2.0           2.0 -1.0    2.0   \n",
       "Worldwide Hospitality Supply Company          -1.0          -1.0 -1.0   -1.0   \n",
       "\n",
       "                                               xxxxxxxxxxxxxx  Michael  Joseph  \n",
       "1785 Inn                                                 -1.0     -1.0    -1.0  \n",
       "1900 House                                               -1.0     -1.0    -1.0  \n",
       "A Bed & Breakfast In Cambridge                           -1.0     -1.0    -1.0  \n",
       "A Swallow's Nest Motel                                   -1.0     -1.0    -1.0  \n",
       "Abbeville Inn                                            -1.0     -1.0    -1.0  \n",
       "...                                                       ...      ...     ...  \n",
       "Whiteface Chalet                                         -1.0     -1.0    -1.0  \n",
       "Wine Valley Lodge                                        -1.0      1.0    -1.0  \n",
       "Wingate By Wyndham Chantilly / Dulles Airport            -1.0     -1.0    -1.0  \n",
       "Wingate By Wyndham Pueblo                                -1.0     -1.0    -1.0  \n",
       "Worldwide Hospitality Supply Company                     -1.0     -1.0    -1.0  \n",
       "\n",
       "[604 rows x 49 columns]"
      ]
     },
     "execution_count": 63,
     "metadata": {},
     "output_type": "execute_result"
    }
   ],
   "source": [
    "df_hotels.fillna(-1)"
   ]
  },
  {
   "cell_type": "markdown",
   "metadata": {},
   "source": [
    "fillna：用某一個特定值取代所有 nan\n",
    "\n",
    "**DataFrame.as_matrix()為舊方法!!!!!!!**\n",
    "\n",
    "[如何將 Pandas Dataframe 轉換為 Numpy 陣列](https://www.delftstack.com/zh-tw/howto/python-pandas/how-to-convert-pandas-dataframe-to-numpy-array/)\n",
    "\n"
   ]
  },
  {
   "cell_type": "code",
   "execution_count": 65,
   "metadata": {},
   "outputs": [
    {
     "data": {
      "text/plain": [
       "array([[-1., -1., -1., ..., -1., -1., -1.],\n",
       "       [-1., -1., -1., ..., -1., -1., -1.],\n",
       "       [-1., -1., -1., ..., -1., -1., -1.],\n",
       "       ...,\n",
       "       [-1., -1., -1., ..., -1., -1., -1.],\n",
       "       [-1., -1., -1., ..., -1., -1., -1.],\n",
       "       [-1., -1., -1., ..., -1., -1., -1.]])"
      ]
     },
     "execution_count": 65,
     "metadata": {},
     "output_type": "execute_result"
    }
   ],
   "source": [
    "df_hotels.fillna(-1).to_numpy()"
   ]
  },
  {
   "cell_type": "code",
   "execution_count": 67,
   "metadata": {},
   "outputs": [],
   "source": [
    "#hot_mat = np.array(df_hotels.fillna(-1).as_matrix())\n",
    "hot_mat = df_hotels.fillna(-1).to_numpy()\n",
    "anno_hot = AnnotationsContainer.from_array(hot_mat, missing_values=[-1])"
   ]
  },
  {
   "cell_type": "code",
   "execution_count": 68,
   "metadata": {},
   "outputs": [
    {
     "data": {
      "text/plain": [
       "array([[-1, -1, -1, ..., -1, -1, -1],\n",
       "       [-1, -1, -1, ..., -1, -1, -1],\n",
       "       [-1, -1, -1, ..., -1, -1, -1],\n",
       "       ...,\n",
       "       [-1, -1, -1, ..., -1, -1, -1],\n",
       "       [-1, -1, -1, ..., -1, -1, -1],\n",
       "       [-1, -1, -1, ..., -1, -1, -1]])"
      ]
     },
     "execution_count": 68,
     "metadata": {},
     "output_type": "execute_result"
    }
   ],
   "source": [
    "anno_hot.annotations"
   ]
  },
  {
   "cell_type": "code",
   "execution_count": 69,
   "metadata": {},
   "outputs": [
    {
     "data": {
      "text/plain": [
       "[0.0, 1.0, 2.0, 3.0, 4.0, 5.0]"
      ]
     },
     "execution_count": 69,
     "metadata": {},
     "output_type": "execute_result"
    }
   ],
   "source": [
    "anno_hot.labels"
   ]
  },
  {
   "cell_type": "code",
   "execution_count": 70,
   "metadata": {},
   "outputs": [
    {
     "data": {
      "text/plain": [
       "[-1]"
      ]
     },
     "execution_count": 70,
     "metadata": {},
     "output_type": "execute_result"
    }
   ],
   "source": [
    "anno_hot.missing_values"
   ]
  },
  {
   "cell_type": "markdown",
   "metadata": {},
   "source": [
    "Look at coder agreement"
   ]
  },
  {
   "cell_type": "code",
   "execution_count": 71,
   "metadata": {},
   "outputs": [
    {
     "data": {
      "text/plain": [
       "array([0.07806534, 0.26262198, 0.63555367, 0.00636402, 0.0093339 ,\n",
       "       0.00806109])"
      ]
     },
     "execution_count": 71,
     "metadata": {},
     "output_type": "execute_result"
    }
   ],
   "source": [
    "pyanno.measures.agreement.labels_frequency(anno_hot.annotations, 6)#6 possible catagories"
   ]
  },
  {
   "cell_type": "code",
   "execution_count": 72,
   "metadata": {},
   "outputs": [
    {
     "name": "stdout",
     "output_type": "stream",
     "text": [
      "[[0. 0. 0. 0. 0. 0.]\n",
      " [0. 0. 1. 0. 0. 0.]\n",
      " [1. 0. 4. 0. 0. 0.]\n",
      " [0. 0. 0. 0. 0. 0.]\n",
      " [0. 0. 0. 0. 0. 0.]\n",
      " [0. 0. 0. 0. 0. 0.]]\n"
     ]
    },
    {
     "data": {
      "image/png": "[encoded data removed]",
      "text/plain": [
       "<Figure size 432x288 with 2 Axes>"
      ]
     },
     "metadata": {
      "needs_background": "light"
     },
     "output_type": "display_data"
    }
   ],
   "source": [
    "c = pyanno.measures.agreement.confusion_matrix(anno_hot.annotations[:,0], anno_hot.annotations[:,1], 6) #6 possible catagories\n",
    "print(c)\n",
    "ac = seaborn.heatmap(c)\n",
    "plt.show()"
   ]
  },
  {
   "cell_type": "markdown",
   "metadata": {},
   "source": [
    "Most agreement is on 2 i.e. an average hotel and there's little agreement as rating go higher, likely due to scarcity in the sample"
   ]
  },
  {
   "cell_type": "code",
   "execution_count": 73,
   "metadata": {},
   "outputs": [
    {
     "data": {
      "text/plain": [
       "0.3787878787878787"
      ]
     },
     "execution_count": 73,
     "metadata": {},
     "output_type": "execute_result"
    }
   ],
   "source": [
    "scotts_pi(anno_hot.annotations[:,0], anno_hot.annotations[:,1])"
   ]
  },
  {
   "cell_type": "code",
   "execution_count": 74,
   "metadata": {},
   "outputs": [
    {
     "data": {
      "text/plain": [
       "0.398760907615921"
      ]
     },
     "execution_count": 74,
     "metadata": {},
     "output_type": "execute_result"
    }
   ],
   "source": [
    "krippendorffs_alpha(anno_hot.annotations[::])"
   ]
  },
  {
   "cell_type": "code",
   "execution_count": 75,
   "metadata": {},
   "outputs": [
    {
     "data": {
      "text/plain": [
       "0.40328336902212697"
      ]
     },
     "execution_count": 75,
     "metadata": {},
     "output_type": "execute_result"
    }
   ],
   "source": [
    "cohens_kappa(anno_hot.annotations[:,0], anno_hot.annotations[:,1])"
   ]
  },
  {
   "cell_type": "code",
   "execution_count": 76,
   "metadata": {
    "scrolled": true
   },
   "outputs": [
    {
     "name": "stderr",
     "output_type": "stream",
     "text": [
      "C:\\Users\\user\\anaconda3\\lib\\site-packages\\pyanno\\measures\\helpers.py:166: RuntimeWarning: invalid value encountered in double_scalars\n",
      "  return (observed_agreement - chance_agreement) / (1. - chance_agreement)\n"
     ]
    },
    {
     "data": {
      "text/plain": [
       "<AxesSubplot:>"
      ]
     },
     "execution_count": 76,
     "metadata": {},
     "output_type": "execute_result"
    },
    {
     "data": {
      "image/png": "[encoded data removed]",
      "text/plain": [
       "<Figure size 1080x1080 with 2 Axes>"
      ]
     },
     "metadata": {
      "needs_background": "light"
     },
     "output_type": "display_data"
    }
   ],
   "source": [
    "m = pairwise_matrix(cohens_kappa, anno_hot.annotations)\n",
    "fig, ax = plt.subplots(figsize = (15, 15))\n",
    "seaborn.heatmap(m, ax =ax)"
   ]
  },
  {
   "cell_type": "markdown",
   "metadata": {},
   "source": [
    "mle：Computes maximum likelihood estimate (MLE) of parameters.計算參數的最大似然估計 ( MLE )。"
   ]
  },
  {
   "cell_type": "code",
   "execution_count": 78,
   "metadata": {},
   "outputs": [
    {
     "name": "stdout",
     "output_type": "stream",
     "text": [
      "[0.79048531 0.73965492 0.7612564  0.72412983 0.71526562 0.71741479\n",
      " 0.77233098 0.71539839]\n",
      "-2728.485688637664\n"
     ]
    }
   ],
   "source": [
    "model_hot = ModelBt.create_initial_state(6, 49)\n",
    "model_hot.mle(anno_hot.annotations)\n",
    "print(model.theta)\n",
    "print(model_hot.log_likelihood(anno_hot.annotations))"
   ]
  },
  {
   "cell_type": "markdown",
   "metadata": {},
   "source": [
    "v = [0] * len(...) = [0,0,0,0,0...0,0,0,0]"
   ]
  },
  {
   "cell_type": "code",
   "execution_count": 85,
   "metadata": {},
   "outputs": [],
   "source": [
    "def makeQuestionComparison(model, anno_target, num_questions = 20):\n",
    "    votes = []\n",
    "    for r in anno_target.annotations:\n",
    "        v = [0] * len(anno_target.labels)\n",
    "        votes.append(v)\n",
    "        #print(r)\n",
    "        for a in r:\n",
    "            if a > -1:\n",
    "                v[a] += 1\n",
    "            #print(v[a])\n",
    "    #print(\"\\nvotes:\\n\")\n",
    "    #print(votes)\n",
    "    votes_array = np.array(votes)\n",
    "    posterior = model.infer_labels(anno_target.annotations)\n",
    "    fig, (ax1, ax2) = plt.subplots(ncols=2, figsize = (15, 10), sharey=True)\n",
    "\n",
    "    seaborn.heatmap(votes_array[:num_questions], annot = True, ax=ax2)\n",
    "    seaborn.heatmap(np.nan_to_num(posterior,0)[:num_questions], annot=True, ax =ax1)\n",
    "    ax1.set_title(\"Model\")\n",
    "    ax2.set_title(\"Votes\")\n",
    "    return fig, (ax1, ax2)"
   ]
  },
  {
   "cell_type": "markdown",
   "metadata": {},
   "source": [
    "- ncols，兩列子圖\n",
    "- sharey ，共享y軸\n",
    "- [matplotlib.pyplot.subplots](https://matplotlib.org/stable/api/_as_gen/matplotlib.pyplot.subplots.html) \n",
    "參數說明"
   ]
  },
  {
   "cell_type": "code",
   "execution_count": 86,
   "metadata": {},
   "outputs": [
    {
     "data": {
      "text/plain": [
       "(<Figure size 1080x720 with 4 Axes>,\n",
       " (<AxesSubplot:title={'center':'Model'}>,\n",
       "  <AxesSubplot:title={'center':'Votes'}>))"
      ]
     },
     "execution_count": 86,
     "metadata": {},
     "output_type": "execute_result"
    },
    {
     "data": {
      "image/png": "[encoded data removed]",
      "text/plain": [
       "<Figure size 1080x720 with 4 Axes>"
      ]
     },
     "metadata": {
      "needs_background": "light"
     },
     "output_type": "display_data"
    }
   ],
   "source": [
    "makeQuestionComparison(model_hot, anno_hot)"
   ]
  },
  {
   "cell_type": "markdown",
   "metadata": {},
   "source": [
    "## <span style=\"color:red\">*Your turn*</span>\n",
    "\n",
    "<span style=\"color:red\">In the cells immediately following, use the results of your content annotation survey to predict high and low-quality analysts, then predict MAP estimates for your codes in question. What do these estimates suggest about the distribution of skill among your coders? How different are these estimates from a majority vote?"
   ]
  }
 ],
 "metadata": {
  "anaconda-cloud": {},
  "kernelspec": {
   "display_name": "Python 3",
   "language": "python",
   "name": "python3"
  },
  "language_info": {
   "codemirror_mode": {
    "name": "ipython",
    "version": 3
   },
   "file_extension": ".py",
   "mimetype": "text/x-python",
   "name": "python",
   "nbconvert_exporter": "python",
   "pygments_lexer": "ipython3",
   "version": "3.8.8"
  }
 },
 "nbformat": 4,
 "nbformat_minor": 1
}
