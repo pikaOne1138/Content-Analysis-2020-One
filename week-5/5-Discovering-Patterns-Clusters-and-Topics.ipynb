{
 "cells": [
  {
   "cell_type": "markdown",
   "metadata": {},
   "source": [
    "\n",
    "# Week 5 - Discovering Patterns: Clusters 聚類 & Topics 主題\n",
    "\n",
    "This week, we seek to seek to discover patterns in our text data. First, we take a text corpus that we have developed and discovery emergent clusters through a process known as clustering or partitioning. We pilot this here both with a well-known *flat* clustering method, `kmeans`, and also a *hierarchical* approach, `Ward's (minimum variance) method`. We will demonstrate a simple (graphical) approach to identifying optimal cluster number, the sillhouette method, and evaluate the quality of unsupervised clusters on labeled data. Next, we will explore a method of two dimensional content clustering called topic modeling (e.g., words cluster in topics; topics cluster in documents). This statistical technique models and computationally induces *topics* from data, which are sparse distributions over (nonexclusive clusters of) words, from which documents can formally be described as sparse mixtures. We will explore these topics and consider their utility for understanding trends within a corpus. We will consider how to construct models that take document cluster and topic loadings as predictive features, the basis of influence metrics and dynamically over time.\n",
    "  \n",
    "本週，我們尋求尋求在文本數據中發現模式。  \n",
    "首先，我們採取文本語料庫，我們通過稱為群集或分區的過程開發和發現突出群集。  \n",
    "我們在這裡使用眾所周知的*扁平*聚類方法，`kmeans`，以及一個*分層*方法，`Ward's (minimum variance) method 沃德（最小方差）方法 `。  \n",
    "\n",
    "我們將演示一種簡單（圖形）方法來識別最佳簇號，Sillhouethe方法，並評估標記數據上無監督群集的質量。  \n",
    "  \n",
    "接下來，我們將探討稱為主題建模的二維內容聚類的方法（例如，主題中的單詞群集;文檔中的主題群集）。  \n",
    "  \n",
    "這種統計技術模型和計算地引起*主題*來自數據，這些數據是稀疏的分佈（非伸縮簇）單詞，從中可以正式地描述為稀疏混合物。  \n",
    "我們將探討這些主題，並考慮其實用性以了解語料庫中的趨勢。  \n",
    "我們將考慮如何構建將文檔集群和主題加載的模型作為預測功能，影響度量的基礎以及動態隨時間。\n",
    "\n",
    "For this notebook we will be using the following packages:  \n",
    "對於此筆記本，我們將使用以下軟件包："
   ]
  },
  {
   "cell_type": "markdown",
   "metadata": {},
   "source": [
    "相關資料收集\n",
    "\n",
    "聚類：  \n",
    "[聚類分析](https://zh.wikipedia.org/wiki/%E8%81%9A%E7%B1%BB%E5%88%86%E6%9E%90)、[機器學習--聚類分析（劃分方法，層次方法、密度方法）](https://www.itread01.com/content/1549253011.html)、[識辨 | 什麼是分類？什麼是聚類？](https://kknews.cc/zh-tw/tech/jv8v9vp.html)"
   ]
  },
  {
   "cell_type": "code",
   "execution_count": 1,
   "metadata": {},
   "outputs": [],
   "source": [
    "#Special module written for this class\n",
    "#This provides access to data and to helper functions from previous weeks\n",
    "#Make sure you update it before starting this notebook\n",
    "import lucem_illud_2020 #pip install -U git+git://github.com/Computational-Content-Analysis-2020/lucem_illud_2020.git\n",
    "\n",
    "\n",
    "#All these packages need to be installed from pip\n",
    "#These are all for the cluster detection\n",
    "import sklearn\n",
    "import sklearn.feature_extraction.text\n",
    "import sklearn.pipeline\n",
    "import sklearn.preprocessing\n",
    "import sklearn.datasets\n",
    "import sklearn.cluster\n",
    "import sklearn.decomposition\n",
    "import sklearn.metrics\n",
    "\n",
    "import scipy #For hierarchical clustering and some visuals\n",
    "#import scipy.cluster.hierarchy\n",
    "import gensim#For topic modeling\n",
    "import requests #For downloading our datasets\n",
    "import numpy as np #for arrays\n",
    "import pandas #gives us DataFrames\n",
    "import matplotlib.pyplot as plt #For graphics\n",
    "import matplotlib.cm #Still for graphics\n",
    "import seaborn as sns #Makes the graphics look nicer\n",
    "\n",
    "#This 'magic' command makes the plots work better\n",
    "#in the notebook, don't use it outside of a notebook.\n",
    "#Also you can ignore the warning, it\n",
    "%matplotlib inline\n",
    "\n",
    "import itertools\n",
    "import json"
   ]
  },
  {
   "cell_type": "markdown",
   "metadata": {},
   "source": [
    "Cell 1:\n",
    "\n",
    "## <span style=\"color:red\">*Pitch Your Project*</span>\n",
    "\n",
    "<span style=\"color:red\">In the three cells immediately following, describe **WHAT** you are planning to analyze for your final project (i.e., texts, contexts and the social game, world and actors you intend to learn about through your analysis) (<200 words), **WHY** you are going to do it (i.e., why would theory and/or the average person benefit from knowing the results of your investigation) (<200 words), and **HOW** you plan to investigate it (i.e., what are the approaches and operations you plan to perform, in sequence, to yield this insight) (<400 words).  \n",
    "  \n",
    "  \n",
    "<span style =“顏色：紅色”>立即關注的三個單元格中，描述您計劃分析最終項**目的**（即文本，上下文和社交遊戲，世界和演員您打算學習關於通過您的分析）（<200字），**為什麼**您將要做（即為什麼理論和/或普通人會受益於您的調查結果）（<200字），以及您計劃**如何**調查它（即，您計劃按順序執行的方法和操作是什麼，以產生此洞察力）（<400字）。\n",
    "\n",
    "Cell 2:\n",
    "\n",
    "# ***What?*** \n",
    "<200 words\n",
    "\n",
    "Cell 3:\n",
    "\n",
    "## ***Why?***\n",
    "<200 words\n",
    "\n",
    "Cell 4:\n",
    "\n",
    "## ***How?***\n",
    "<400 words\n",
    "\n",
    "Cell 5:\n",
    "\n",
    "## <span style=\"color:red\">*Pitch Your Sample*</span>\n",
    "\n",
    "<span style=\"color:red\">In the cell immediately following, describe the rationale behind your proposed sample design for your final project. What is the social game, social work, or social actors you about whom you are seeking to make inferences? What are its virtues with respect to your research questions? What are its limitations? What are alternatives? What would be a reasonable path to \"scale up\" your sample for further analysis (i.e., high-profile publication) beyond this class?</span> (<300 words).\n",
    "  \n",
    "<span style=\"color:red\">在緊接著的細胞中，描述了您最終項目所提出的樣本設計背後的理由。您正在尋求推理的社交遊戲，社會工作或社交運動員是什麼？它在研究問題方面是什麼美德？它的局限是什麼？什麼是替代品？在此類超出此類之外的進一步分析（即，高調的出版物），將是一個合理的路徑，以便進一步分析（即，高調出版物）？</span>(<300 words).  \n",
    "   \n",
    "Cell 6:\n",
    "\n",
    "## ***Which (words)?***\n",
    "<300 words"
   ]
  },
  {
   "cell_type": "markdown",
   "metadata": {},
   "source": [
    "# Getting our corpora\n",
    "\n",
    "To begin, we will use a well known corpus of testing documents from the *20 Newsgroups corpus*, a dataset commonly used to illustrate text applications of text clustering and classification. This comes packaged with sklearn and comprises approximately 20,000 newsgroup documents, partitioned (nearly) evenly across 20 newsgroups. It was originally collected by Ken Lang, probably for his 1995 *Newsweeder: Learning to filter netnews* paper. The data is organized into 20 distinct newsgroups, each corresponding to a different topic. Some of the newsgroups are very closely related (e.g. comp.sys.ibm.pc.hardware / comp.sys.mac.hardware), while others are unrelated (e.g misc.forsale / soc.religion.christian).   \n",
    "  \n",
    "首先，使用 *20 Newsgroups processor* 測試文檔的已知彙編。 *20 Newsgroups processor* 通常用於說明文本集羣和分類的文本應用。 此文件包含 sklearn，由大約 20,000 個新聞組文檔組成，平均分爲 20 個新聞組。 最初是Ken Lang收集的，可能是爲了1995年\"Newsweeder: Learning to filter net news* paper\"。 數據由20個不同的新聞組組成，每個組對應於不同的主題。 有些新聞組關係非常密切（例如 comp.sys.ibm.pc.hardware/comp.sys.mac.hardware），有些新聞組則無關（例如 misc.forsale/soc.religion.christian）。  "
   ]
  },
  {
   "cell_type": "code",
   "execution_count": 2,
   "metadata": {},
   "outputs": [
    {
     "name": "stdout",
     "output_type": "stream",
     "text": [
      "['DESCR', 'data', 'filenames', 'target', 'target_names']\n"
     ]
    }
   ],
   "source": [
    "newsgroups = sklearn.datasets.fetch_20newsgroups(subset='train', data_home = '../data/scikit_learn_data')\n",
    "print(dir(newsgroups))"
   ]
  },
  {
   "cell_type": "markdown",
   "metadata": {},
   "source": [
    "We can ascertain the categories with `target_names` or the actual files with `filenames`  \n",
    "可以使用 `target_names` 或  `filenames`   查看實際文件。"
   ]
  },
  {
   "cell_type": "code",
   "execution_count": 3,
   "metadata": {},
   "outputs": [
    {
     "name": "stdout",
     "output_type": "stream",
     "text": [
      "['alt.atheism', 'comp.graphics', 'comp.os.ms-windows.misc', 'comp.sys.ibm.pc.hardware', 'comp.sys.mac.hardware', 'comp.windows.x', 'misc.forsale', 'rec.autos', 'rec.motorcycles', 'rec.sport.baseball', 'rec.sport.hockey', 'sci.crypt', 'sci.electronics', 'sci.med', 'sci.space', 'soc.religion.christian', 'talk.politics.guns', 'talk.politics.mideast', 'talk.politics.misc', 'talk.religion.misc']\n",
      "11314\n"
     ]
    }
   ],
   "source": [
    "print(newsgroups.target_names)\n",
    "print(len(newsgroups.data))"
   ]
  },
  {
   "cell_type": "markdown",
   "metadata": {},
   "source": [
    "We will start by converting the provided data into pandas DataFrames.\n",
    "  \n",
    "First we reduce our dataset for this analysis by dropping some extraneous information and converting it into a DataFrame.  \n",
    "  \n",
    "首先，將提供的數據轉換爲pandas DataFrames。\n",
    "  \n",
    "首先，通過丟棄其他信息並將其轉換爲 DataFrame 來減少分析的數據集。"
   ]
  },
  {
   "cell_type": "code",
   "execution_count": 15,
   "metadata": {},
   "outputs": [
    {
     "name": "stdout",
     "output_type": "stream",
     "text": [
      "Fetching data for: comp.sys.mac.hardware\n",
      "Fetching data for: comp.windows.x\n",
      "Fetching data for: misc.forsale\n",
      "Fetching data for: rec.autos\n",
      "2350\n"
     ]
    },
    {
     "data": {
      "text/html": [
       "<div>\n",
       "<style scoped>\n",
       "    .dataframe tbody tr th:only-of-type {\n",
       "        vertical-align: middle;\n",
       "    }\n",
       "\n",
       "    .dataframe tbody tr th {\n",
       "        vertical-align: top;\n",
       "    }\n",
       "\n",
       "    .dataframe thead th {\n",
       "        text-align: right;\n",
       "    }\n",
       "</style>\n",
       "<table border=\"1\" class=\"dataframe\">\n",
       "  <thead>\n",
       "    <tr style=\"text-align: right;\">\n",
       "      <th></th>\n",
       "      <th>text</th>\n",
       "      <th>category</th>\n",
       "      <th>source_file</th>\n",
       "    </tr>\n",
       "  </thead>\n",
       "  <tbody>\n",
       "    <tr>\n",
       "      <th>0</th>\n",
       "      <td>\\tIn certain Apple 13\" RGB monitors there has ...</td>\n",
       "      <td>comp.sys.mac.hardware</td>\n",
       "      <td>../data/scikit_learn_data\\20news_home\\20news-b...</td>\n",
       "    </tr>\n",
       "    <tr>\n",
       "      <th>1</th>\n",
       "      <td>Does anyone know how to reach Micron?  I am in...</td>\n",
       "      <td>comp.sys.mac.hardware</td>\n",
       "      <td>../data/scikit_learn_data\\20news_home\\20news-b...</td>\n",
       "    </tr>\n",
       "    <tr>\n",
       "      <th>2</th>\n",
       "      <td>Hi there!\\n\\nCould some kind soul tell me what...</td>\n",
       "      <td>comp.sys.mac.hardware</td>\n",
       "      <td>../data/scikit_learn_data\\20news_home\\20news-b...</td>\n",
       "    </tr>\n",
       "    <tr>\n",
       "      <th>3</th>\n",
       "      <td>\"auto\\nfrom</td>\n",
       "      <td>comp.sys.mac.hardware</td>\n",
       "      <td>../data/scikit_learn_data\\20news_home\\20news-b...</td>\n",
       "    </tr>\n",
       "    <tr>\n",
       "      <th>4</th>\n",
       "      <td>\\n\\n    Don't believe the hype. There is no su...</td>\n",
       "      <td>comp.sys.mac.hardware</td>\n",
       "      <td>../data/scikit_learn_data\\20news_home\\20news-b...</td>\n",
       "    </tr>\n",
       "    <tr>\n",
       "      <th>5</th>\n",
       "      <td>What is the value of an SE (HDFD) 4/20?\\n\\n-David</td>\n",
       "      <td>comp.sys.mac.hardware</td>\n",
       "      <td>../data/scikit_learn_data\\20news_home\\20news-b...</td>\n",
       "    </tr>\n",
       "    <tr>\n",
       "      <th>6</th>\n",
       "      <td>\\n\\nF A Q !\\n\\nReference:\\nNewsgroups: comp.sy...</td>\n",
       "      <td>comp.sys.mac.hardware</td>\n",
       "      <td>../data/scikit_learn_data\\20news_home\\20news-b...</td>\n",
       "    </tr>\n",
       "    <tr>\n",
       "      <th>7</th>\n",
       "      <td>\\n\\n\\n    Nope. The Apple 16\" monitor does not...</td>\n",
       "      <td>comp.sys.mac.hardware</td>\n",
       "      <td>../data/scikit_learn_data\\20news_home\\20news-b...</td>\n",
       "    </tr>\n",
       "    <tr>\n",
       "      <th>8</th>\n",
       "      <td>\\n\\nIs it a hidden option?  I'm using PowerStr...</td>\n",
       "      <td>comp.sys.mac.hardware</td>\n",
       "      <td>../data/scikit_learn_data\\20news_home\\20news-b...</td>\n",
       "    </tr>\n",
       "    <tr>\n",
       "      <th>9</th>\n",
       "      <td>\\n\\n\\nThe previous article referred to the fac...</td>\n",
       "      <td>comp.sys.mac.hardware</td>\n",
       "      <td>../data/scikit_learn_data\\20news_home\\20news-b...</td>\n",
       "    </tr>\n",
       "  </tbody>\n",
       "</table>\n",
       "</div>"
      ],
      "text/plain": [
       "                                                text               category  \\\n",
       "0  \\tIn certain Apple 13\" RGB monitors there has ...  comp.sys.mac.hardware   \n",
       "1  Does anyone know how to reach Micron?  I am in...  comp.sys.mac.hardware   \n",
       "2  Hi there!\\n\\nCould some kind soul tell me what...  comp.sys.mac.hardware   \n",
       "3                                        \"auto\\nfrom  comp.sys.mac.hardware   \n",
       "4  \\n\\n    Don't believe the hype. There is no su...  comp.sys.mac.hardware   \n",
       "5  What is the value of an SE (HDFD) 4/20?\\n\\n-David  comp.sys.mac.hardware   \n",
       "6  \\n\\nF A Q !\\n\\nReference:\\nNewsgroups: comp.sy...  comp.sys.mac.hardware   \n",
       "7  \\n\\n\\n    Nope. The Apple 16\" monitor does not...  comp.sys.mac.hardware   \n",
       "8  \\n\\nIs it a hidden option?  I'm using PowerStr...  comp.sys.mac.hardware   \n",
       "9  \\n\\n\\nThe previous article referred to the fac...  comp.sys.mac.hardware   \n",
       "\n",
       "                                         source_file  \n",
       "0  ../data/scikit_learn_data\\20news_home\\20news-b...  \n",
       "1  ../data/scikit_learn_data\\20news_home\\20news-b...  \n",
       "2  ../data/scikit_learn_data\\20news_home\\20news-b...  \n",
       "3  ../data/scikit_learn_data\\20news_home\\20news-b...  \n",
       "4  ../data/scikit_learn_data\\20news_home\\20news-b...  \n",
       "5  ../data/scikit_learn_data\\20news_home\\20news-b...  \n",
       "6  ../data/scikit_learn_data\\20news_home\\20news-b...  \n",
       "7  ../data/scikit_learn_data\\20news_home\\20news-b...  \n",
       "8  ../data/scikit_learn_data\\20news_home\\20news-b...  \n",
       "9  ../data/scikit_learn_data\\20news_home\\20news-b...  "
      ]
     },
     "execution_count": 15,
     "metadata": {},
     "output_type": "execute_result"
    }
   ],
   "source": [
    "#設定讀取的分類\n",
    "newsgroupsCategories = ['comp.sys.mac.hardware', 'comp.windows.x', 'misc.forsale', 'rec.autos']\n",
    "\n",
    "#設定newsgroupsDF資料欄位\n",
    "newsgroupsDF = pandas.DataFrame(columns = ['text', 'category', 'source_file'])\n",
    "\n",
    "for category in newsgroupsCategories:\n",
    "    print(\"Fetching data for: {}\".format(category))\n",
    "    #取出特定分類資料\n",
    "    ng = sklearn.datasets.fetch_20newsgroups(subset='train', categories = [category], remove=['headers', 'footers', 'quotes'], data_home = '../data/scikit_learn_data/')\n",
    "    #將資料存進newsgroupsDF\n",
    "    newsgroupsDF = newsgroupsDF.append(pandas.DataFrame({'text' : ng.data, 'category' : [category] * len(ng.data), 'source_file' : ng.filenames}), ignore_index=True)\n",
    "    \n",
    "\n",
    "#Creating an explicit index column for later\n",
    "\n",
    "#newsgroupsDF['index'] = range(len(newsgroupsDF))\n",
    "#newsgroupsDF.set_index('index', inplace = True)\n",
    "print(len(newsgroupsDF))\n",
    "newsgroupsDF[:10]"
   ]
  },
  {
   "cell_type": "markdown",
   "metadata": {},
   "source": [
    "Next, we can convert the documents into word count vectors (e.g., *soc.religion.christian message a* might contain 3 mentions of \"church\", 2 of \"jesus\", 1 of \"religion\", etc., yielding a CountVector=[3,2,1,...])  \n",
    "接下來，可以將文檔轉換爲字數向量。"
   ]
  },
  {
   "cell_type": "code",
   "execution_count": 16,
   "metadata": {},
   "outputs": [
    {
     "name": "stdout",
     "output_type": "stream",
     "text": [
      "(2350, 23525)\n"
     ]
    }
   ],
   "source": [
    "#First it needs to be initialized\n",
    "ngCountVectorizer = sklearn.feature_extraction.text.CountVectorizer()\n",
    "#Then trained\n",
    "newsgroupsVects = ngCountVectorizer.fit_transform(newsgroupsDF['text'])\n",
    "print(newsgroupsVects.shape)"
   ]
  },
  {
   "cell_type": "code",
   "execution_count": 21,
   "metadata": {},
   "outputs": [
    {
     "name": "stdout",
     "output_type": "stream",
     "text": [
      "['00', '000', '0000', '00000000', '00000074', '00000093', '000000e5', '000005102000', '00000510200001', '00000ee5', '000010af', '0001mpc', '0004', '0007259d', '00072741', '00072840', '00072a27', '000773b9', '00077bbe', '000k', '000mi', '000miles', '001', '0010', '0020', '0040000d', '0060', '0065', '0066', '0068', '007', '0075', '0078', '0088', '00900001', '00_', '00each', '01', '01002', '010256', '01075', '011', '0119', '012', '0123456789', '0162', '0180', '01801', '0183', '02', '020', '0200', '02106', '02139', '02142', '02146', '0223', '024246', '025', '0283', '02at', '03', '030', '0300', '0300ff', '0303', '0314', '0320', '033', '0358', '0369', '03p', '04', '040', '0400', '0404', '0411', '0440', '0444', '0486', '0488', '0494', '04q', '05', '0507', '051', '0514', '0542', '056', '0564m', '0593', '06', '060', '0608', '062', '0638', '0639', '0646', '06561', '0666', '0669', '07', '0701', '071', '0710', '071791', '073', '074', '075822', '07748', '078', '07834', '079', '0791', '08', '0800', '081', '082', '083', '084', '08439', '0846', '085', '0850', '0853', '0854', '087', '0878', '088', '0881', '08817', '08854', '089', '08mb', '09', '0908', '0911', '0936', '094', '095', '0954', '098', '099', '0998', '0a', '0c', '0f', '0fhmt', '0g', '0h', '0jf', '0k', '0kbfkp', '0l', '0lzi3', '0pxve0b', '0qhh', '0rhj', '0rn', '0rr', '0s9', '0sc3', '0th', '0v', '0w5r', '0x0', '0x03', '0x0f', '0x10', '0x170', '0x21', '0x28', '0x2800001', '0x30', '0x3c', '0x3f', '0x400000', '0x500043', '0x70016000', '0xa8', '0xbe', '0xd0000d', '0xe0000d', '0xf776a96c', '0xff', '0xffbe', '0xffffffff', '10', '100', '1000', '10000', '1000ff00', '1000ff01', '1000ff02', '1000ff03', '1000ff04', '1000ff05', '1000ff06', '1000ff07', '1000ff08', '1000ff09', '1000ff0a', '1000ff0b', '1000ff0c', '1000ff0d', '1000ff0e', '1000ff0f', '1000ff10', '1000ff11', '1000ff12', '1000ff13', '1000ff14', '1000ffa8', '1000ffa9', '1000s', '1000w', '1000yds', '10017a', '100444', '100492', '100512', '100573', '1006', '100cdn', '100dpi', '100hz', '100k', '100m', '100mb', '100mhz', '100mm', '100mph', '100r', '100s', '100st', '101', '1010', '1011002', '1012', '101c', '101e', '102', '1024', '1024k', '1024x1024x8', '1024x768', '1024x768x256', '1024x768x8b', '1026', '10274', '103', '104', '1047', '105', '1050', '1055', '105mb', '105w', '106', '1062', '106235', '1063', '10666', '106meg', '107', '1074', '108', '10886', '1089', '109', '1091', '109mb', '10a', '10b', '10base', '10baset', '10k', '10mb', '10p', '10padk', '10pm', '10pnt', '10sa', '10th', '10v', '10w', '10w30', '10w40', '10watt', '10x', '10x20', '10x9', '11', '110', '1100', '11003', '11004', '1108642', '110v', '110vac', '111', '112', '1120', '1126', '1127apr', '112mph', '113', '1132', '1133', '114', '115', '1150', '1152x870', '1152x900', '115vac', '116', '11690', '116e', '116mph', '117', '1174', '117807', '117a', '118', '11812', '118mph', '119', '11th', '11x10', '12', '120', '1200', '1200b', '1200cc', '1200x', '1203', '120k', '120km', '120m', '120mb', '120meg', '120mph', '120ns', '120v', '121', '1215', '1216', '122', '1220', '123', '1231', '1234', '124', '1240x1024x16', '124mg', '124mph', '125', '1250', '125k', '125kb', '125mi', '126', '1261', '126k', '127', '1277', '12789', '127mb', '128', '1280', '1280x1024', '1285', '128k', '128kb', '128m', '129', '1296', '1299', '12am', '12ax7s', '12cyl', '12k', '12mb', '12mhz', '12month', '12mph', '12ms', '12v', '12w', '12x4', '13', '130', '1300', '1301', '1304', '1304s', '130hp', '130kmh', '130mph', '131', '132', '1320', '1324', '132mb', '133', '1330', '134', '1345', '1346', '1347', '134a', '135', '1350', '13500', '1353', '135mm', '136', '137', '138', '1385', '139', '1394', '1395', '13a', '13b', '13c', '13k', '14', '140', '1400', '14000', '1400k', '140493210752', '140hp', '140mb', '141', '14171', '142', '142729', '143', '1430', '14372', '1439', '144', '1444', '1447', '145', '1450', '1458', '146', '1469', '147', '148', '1482', '148k', '149', '1495', '1499', '14f', '14in', '14k', '14mb', '14ms', '14th', '14x11', '15', '150', '1500', '15000', '1501vma', '150k', '150mb', '150meg', '150mhz', '150mph', '150multidisk', '150w', '151', '1513', '152', '1520', '15213', '15228', '1524', '1525', '153', '1536', '154', '1541', '1541c', '1542', '154620', '154m', '155', '1551', '156', '1560', '157', '1571', '1572fs', '158', '159', '1593', '15am', '15f7503', '15inch', '15k', '15m', '15mhz', '15ms', '15ns', '15pin', '15th', '15w40', '16', '160', '1600', '1600x1200', '1604', '1608', '160k', '160mb', '160meg', '161', '1618', '162', '1622', '1627', '162950', '163', '16330', '16384', '164', '165', '1658123', '166', '166138', '167', '168', '169', '16a', '16b', '16bit', '16k', '16kb', '16khz', '16mb', '16megabit', '16mhz', '16mhz68000', '16ram', '16v', '16x13', '16µsec', '17', '170', '1700', '1701', '1702', '170608', '1707', '170mb', '170out', '171', '172', '1720', '1722', '173', '1738', '174', '1744', '174mhz', '175', '1750', '1750cc', '176', '1763', '1767', '1769', '177', '1778', '178', '179', '17mb', '17megs', '17t', '18', '180', '1800', '18000', '1804', '180a', '180aa', '180gr', '181', '182', '1822a', '183', '184', '1846', '185', '185c', '186', '1869', '187', '187kph', '1880', '18800', '1881', '189', '1890s', '1896', '1897', '1899', '18fm', '18k', '19', '190', '1900', '1904', '190e', '190hp', '190mmx53mmx120mm', '191', '1910', '1911', '1911a1', '1912', '1916', '1918', '192', '1920', '19200', '1920s', '1921', '1925529', '1926a', '1928', '192z', '193z', '1940s', '1941', '1943', '1945', '1946', '1947', '1948', '195', '1950', '1950s', '1952', '1953', '1956', '1958', '196', '1960', '1960s', '1962', '1963', '1964', '1965', '1966', '1967', '1968', '1969', '1970', '1970s', '1971', '1972', '1973', '1974', '1975', '1976', '1978', '1979', '198', '1980', '1981', '1982', '1983', '1984', '1985', '1986', '1987', '1988', '1989', '199', '1990', '1991', '1992', '1993', '1993apr13', '1993apr15', '1993apr16', '1993apr17', '1993apr21', '1993apr5', '1994', '1995', '1997', '19ms', '19th', '1a', '1b', '1br', '1c', '1d', '1e9fen960h05', '1f0rg', '1g', '1gb', '1gig', '1h', '1h870', '1i', '1k', '1m', '1mar92', '1mb', '1mci', '1meg', '1n', '1oz', '1p', '1p_changes', '1pf5qe', '1pq6i2', '1qgi8einnhs5', '1qkkl5innbvo', '1r', '1r16oo', '1r72', '1s', '1st', '1streader', '1w', '1x', '1x3p', '1x3x70ns', '1x9', '1xx', '1z', '20', '200', '2000', '200048', '2000cc', '2000x2000', '2001', '2002', '2002s', '20084', '200a', '200cd', '200hp', '200k', '200km', '200mb', '200mhz', '200mm', '200mpg', '200ms', '200s', '200sx', '201', '2010', '2011', '2014', '202', '202333', '2024', '2025', '2028', '203', '203p', '204', '2040', '204334504108', '20480k', '205', '2050', '2056', '206', '2060', '2061', '2067815294', '2067815406', '208', '208k', '2099', '20c', '20db', '20k', '20m', '20mb', '20mhz', '20ns', '20s', '20th', '20v', '20w50', '21', '210', '2100', '21045', '2107', '210s', '211', '211244', '211457', '211797', '212', '2125', '212a', '212mb', '213', '2131', '214', '215', '216', '217', '218', '219', '2190', '21st', '21z', '22', '220', '2200', '220cdn', '221', '22121', '2212527', '2213', '2214511', '2215', '22182', '222', '222600', '222hp', '223', '2230', '224', '22403', '224z', '225', '225z', '226', '22600', '2263', '226z', '227', '227z', '228', '228z', '229', '2295', '229z', '22a', '22bis', '22i', '22k', '23', '230', '230watt', '230z', '231', '2311', '231z', '232', '232z', '233', '2333', '234', '23421', '235', '236', '237', '238', '2386', '239', '23c', '23de', '23k', '23rd', '24', '240', '2400', '2400b', '2400sa', '24060', '2409', '240lps', '240sx', '241', '2431', '2436', '244', '245', '246', '2463', '248', '249', '24bit', '24db', '24e', '24gc', '24hrs', '24khz', '24mb', '24mm', '24si', '24sx', '24th', '24v', '24x', '24xli', '25', '250', '2500', '250mb', '250mhz', '250w', '251', '2510', '2515251', '2519', '252', '253', '25375', '254', '255', '25592', '256', '2560', '256k', '256kb', '256x9', '257', '25755', '258', '25849', '2594', '2598', '25dx', '25k', '25mb', '25mhz', '25ohm', '25sxl', '25th', '25v', '26', '260', '2600', '2603', '2614', '262', '2623a', '2626', '263', '263a', '264', '265', '2656', '266', '26601', '2664', '267', '2670', '268', '269', '26k', '26th', '27', '270', '2700', '271', '272', '273', '2732', '273ci', '274', '275', '2750', '276', '277', '2775', '2777', '2778', '278', '2787', '279', '27ter', '28', '280', '2800', '2800455', '280ms', '281', '2810', '282', '283', '284', '285', '286', '2863', '28657', '286l', '287', '28800', '289', '2895', '28a', '28dp', '28dpi', '28th', '29', '290', '2900', '2902', '2903', '291', '2922', '293', '294', '295', '296', '299', '29th', '2_patch_version3', '2a', '2a3', '2b', '2ba2', '2br', '2bsd', '2c', '2chan', '2channel', '2ci', '2d', '2e', '2f', '2f33enh', '2fd', '2fp', '2fvpmantel', '2g', '2gb', '2gl', '2h', '2h5b8z', '2hd', '2k', '2l', '2m', '2mb', '2meg', '2mtr', '2n', '2nd', '2oz', '2p', '2s', '2t', '2tpmif', '2v4', '2vir', '2watt', '2wd', '2x', '2x2', '2x4', '2x4s', '30', '300', '3000', '30000', '3000gt', '3000ux', '300dpi', '300hp', '300i', '300k', '300kb', '300mb', '300ms', '300sdl', '300x300', '300z', '300zx', '301', '302', '303', '30332', '304', '3045', '305', '306', '3073', '3074', '308', '3084', '3086', '3088', '30k', '30mb', '30mhz', '30mph', '30pm', '30th', '30w', '30x4', '31', '310', '31015', '312', '313', '314', '315', '3154', '316', '3168', '3169', '317', '318', '3184', '3186', '32', '320', '3200', '3205', '320i', '320x200', '320x240', '321', '3217', '322', '323', '3236', '324', '3249', '324meg', '325', '3250', '325i', '325is', '325ix', '326', '3265', '327', '3270', '3272', '3276', '32767', '32768', '328', '329', '3290', '3293', '32940', '3296', '32bis', '32bit', '32k', '32kb', '32mb', '32mhz', '32s', '32v', '32x32', '33', '330', '33069', '330i', '331', '3311', '332', '33397', '334', '335', '335105', '336', '3366', '336r', '337', '3373', '338', '338083e', '338meg', '339', '33961', '3399', '33dx', '33mb', '33mhz', '33point', '33v', '33version', '34', '340', '3401', '34020', '341', '3415', '342', '343', '344', '3440', '34482', '345', '346', '347', '348', '3484', '349', '349851', '34f', '35', '350', '3500', '35000', '350mb', '350ms', '351', '3510', '3511', '3519', '352', '3522', '353', '3536', '354', '355', '3557', '356', '3566', '357', '358', '3580lb', '35894', '359', '35mm', '35rc', '36', '360', '3600', '3601', '360k', '360x360', '360x360dpi', '361', '362', '3624', '364', '3641', '365', '366', '3660', '3669', '367', '368', '36k', '37', '370', '3700', '371', '3719', '372', '3726', '373', '3730', '3732', '3732523', '374', '3740', '375', '3759', '376', '377', '378', '379', '37k', '38', '380', '3802', '3803', '38030', '381', '3813', '382', '3822', '384', '3840', '385', '386', '386bsd', '386dx', '386i', '386n', '386sl', '386slc', '386sx', '386sxs', '387', '387t', '388', '389', '3890', '38khz', '39', '390', '3910', '392', '393', '395', '3950', '3956', '397', '399', '3999', '3b1', '3b2', '3bsd', '3c', '3cl', '3com', '3d', '3dcv', '3dplot', '3ds', '3du', '3e', '3ext', '3f', '3fg', '3fgx', '3frchypk', '3k', '3kbyte', '3khz', '3l', '3l0218', '3lt', '3m', '3mb', '3mwieu4', '3qpjiteram0', '3rd', '3s', '3v', '3x', '40', '400', '4000', '4004', '400included', '400x400x8', '401', '4014', '401x', '402', '403019', '404', '407', '408', '4089968285', '409', '40950', '4096', '40m', '40mb', '40meg', '40mhz', '40mph', '40pnt', '40sc', '40volts', '40watt', '41', '410', '4101', '4107', '412', '4122', '4125', '413', '413_549', '41449', '415', '4158', '416', '417', '419', '41b', '41m', '42', '420', '420002', '420251', '4208', '4216', '4222', '4227', '423', '424', '425', '4252', '4256', '426', '426534', '426868', '427', '428', '42833', '429', '42bis', '42mm', '42xx', '43', '430', '431', '432', '43214', '433', '4334', '4340', '435', '436', '4365', '4366', '437', '438', '4381', '4384', '43k', '44', '440', '4400', '440mhz', '441', '4415', '442', '44240', '4425', '4426', '4433', '4439', '444', '4440', '4444', '445', '4450', '446', '4466', '4478', '4483', '4485', '4488', '44i', '44k', '44m', '44mb', '45', '450', '451', '4510a', '452', '453', '455', '455cid', '456', '457', '458', '4581', '459', '45in', '45kb', '45lbs', '45wpc', '46', '460', '4600', '461005', '462', '462131', '4626', '465', '466', '4663', '467', '4679', '468', '46904', '4692', '46th', '47', '470', '4716', '4729', '473', '4738', '474', '475', '4755', '4776', '479', '48', '480', '4800', '481', '48202', '4821', '4824', '4833', '4841', '485', '4853', '486', '486dx', '486dx2', '486dx2sx', '486dx3', '486dx50', '486s', '486sl', '486slc', '486sx', '487', '488', '489', '4894', '48s', '48sx', '49', '490', '491', '492', '4929', '494', '4947', '495', '49546', '496', '497', '497074', '4979', '498', '499', '4999', '499997', '49khz', '4a', '4a3', '4b5', '4bis', '4bq', '4c32c1', '4cpjy0', '4cyl', '4d', '4d5', '4doors', '4dr', '4dwm', '4dx', '4e', '4ex', '4fax', '4feg', '4fg', '4fge', '4gb', '4k', '4kbps', '4l7', '4m', '4mb', '4mm', '4mx9', '4pr1000a', '4qb9c5ke1h', '4runner', '4runners', '4s', '4th', '4u1', '4vl', '4w5n', '4wd', '4x', '4x1mb', '4x4', '4x4s', '4x6', '50', '500', '5000', '500500', '500e', '500hz', '501', '503', '5030e', '5037', '5046', '505', '5050', '506', '506711', '508', '509', '50hz', '50k', '50lb', '50mb', '50mhz', '50mm', '50pin', '50z', '51', '510', '5111', '512', '512k', '512kb', '512ke', '512mhz', '513', '51341', '513bct', '514', '515', '5151', '516', '5165', '518', '51m', '52', '520', '5200', '5215', '522', '522422', '525', '525ft', '525ix', '527a', '527te', '529', '53', '530', '5300', '530i', '5320', '533', '5333', '535', '536', '5362', '538', '5380', '5396', '53c96', '54', '540', '540i', '541', '5411', '5415', '542', '5422', '543', '5434', '5437', '543mb', '544', '545', '54566', '546', '5466', '549', '55', '550', '5500', '5500e', '5501', '552', '5522', '5535', '554', '555', '5555', '55558', '5581', '559', '5590', '55lb', '55mph', '55vr16', '55x140', '56', '560', '56001', '560022', '562', '5627', '563', '5636', '565', '5650', '568', '57', '57000bps', '5705', '5710', '572', '5737', '5739', '575', '576', '5765', '5766', '577', '5773', '578', '57khz', '58', '580', '583', '586', '5869', '587', '587055', '5871', '5874', '5878', '5880', '589', '58k', '58mb', '58pcd5emb', '59', '5900', '591', '5937', '594', '595', '5954', '5959s', '5986', '599', '5995', '5996', '59k', '5a', '5b', '5bi', '5bin', '5c', '5d', '5d960', '5el3', '5f', '5fg', '5j4', '5k', '5kajhr1efqr', '5ke', '5l', '5lib', '5mb', '5megs', '5n', '5n86qt97', '5p', '5pm', '5pzk8', '5r', '5s', '5s92', '5sp', '5spd', '5th', '5v', '5w', '5x', '5x7', '5xx', '60', '600', '6000', '60000', '6000s', '6004', '6009', '600dpi', '601', '6011', '603', '6034', '6038', '604', '6043', '605', '6050', '606', '608', '6083', '6084', '609', '60hr14', '60hz', '60k', '60mb', '60mph', '60ns', '60r14', '60s', '60w', '60watts', '61', '610', '61000', '611', '612', '6122', '6128282', '613', '6131', '614', '6142', '615', '616', '6165', '617', '619', '61x6752', '62', '620', '6205', '6209', '621', '622', '6220', '6221', '6227', '623', '6233', '6236', '624', '625', '6250', '6250bpi', '6257', '626', '628', '6289a', '629', '63', '630252', '6310', '6317', '635', '636', '6375', '6377', '6379', '64', '640', '6400', '6403', '640hz', '640k', '640kb', '640x200', '640x350', '640x480', '640x480x16', '640x480x16million', '640x870', '6418', '6425', '6430', '6447', '645', '646', '6463', '648', '649', '64k', '64kb', '64mhz', '64x64', '65', '650', '65000', '6502', '6518', '653', '654', '6547', '655', '6550', '65535', '65536', '6555', '657', '6581', '65a', '65b', '65hr390', '65w', '66', '6601', '661', '663', '665', '6651', '666', '6662', '6677', '66mhz', '67', '6700', '6710', '674', '6744a', '675', '676', '6776', '678', '6794', '68', '680', '68000', '680000', '68000s', '680020', '680030', '680040', '680060', '68008', '68010', '68020', '68030', '68030s', '68040', '68050', '68060', '6809', '680x0', '6813', '682', '6829', '683', '685', '688', '68851', '68881', '68882', '68ii', '68k', '68lc040', '68mb', '68rc040', '69', '6903', '6905', '6911', '692', '6920', '694', '6947', '695', '6956', '696', '6965', '6969', '697', '6987', '699', '6996', '69rc040', '6am', '6b', '6es', '6fg', '6h0ajcy1br', '6k', '6kb', '6l', '6mb', '6mrm', '6ndih', '6pm', '6t8d', '6th', '6v', '6x', '6x3x1', '6x9', '6yc', '6ys', '6yt9b', '70', '700', '7000', '70000', '700c', '7018', '703', '7039', '706', '707', '7070', '708', '709', '70k', '70mb', '70ns', '70s', '70x15', '71', '7100', '710a', '710e', '712', '7126', '713', '714', '7143', '715', '716', '7169', '716adl', '717', '71hz', '71i', '71s', '72', '720', '7200', '720k', '720x480', '72130', '7222', '7234', '725', '7263', '727', '728', '72hz', '72mb', '72x6753', '73', '730', '7300', '7326', '733', '734', '7343', '734610425', '7351', '7353', '736', '737', '7373', '739', '74', '740', '7400', '741', '742', '7423', '743', '7446', '7457', '7462', '7466', '748', '75', '750', '7500', '750i', '752', '752x580', '753', '754', '755', '7550', '757', '759', '7595925', '7599209', '75dpi', '75w', '75x15', '76', '766', '767', '768', '77', '770', '7700', '771', '7716', '7720435', '7741', '775', '776', '777', '7777', '7779', '778', '7795966', '77k', '78', '7801', '78148', '7821', '7868', '78712', '7874', '7883', '7887', '79', '7900', '790154', '791', '792', '7927', '7942', '7944', '795', '7950', '7951', '7953', '797', '799', '79th', '7c', '7days', '7f', '7h', '7k', '7l', '7mhz', '7n', '7qj', '7th', '7u', '7u5302d', '7u9', '7vm', '7x', '7x13', '7x35', '7xx', '80', '800', '8000', '8003e', '800k', '800mb', '800x', '800x600', '800x600x32768', '800x600x64k', '801', '80186', '80286', '80287', '803', '80386', '80386dx25mhz', '80387sx', '8039', '804', '80486', '805', '8055', '8063', '807', '8076', '8081', '8086', '8087', '8088', '808k', '809', '80m', '80mb', '80mflops', '80mph', '80ns', '80th', '80us', '80x24', '80x25', '81', '810', '8100', '811', '8120', '814', '8141', '815', '816344', '817481', '818', '8180', '818a', '82', '820', '8200', '8203', '822', '8222', '8227', '8228', '823', '824', '825', '8267', '8276', '828', '8285', '8289', '83', '830', '831', '832', '832x624', '8330', '8337', '834', '8350', '837', '838', '83d87', '83x7488', '83x9648', '84', '8400', '841', '84102', '8416', '843', '8441', '845', '847', '848', '85', '850', '8500', '8513', '8514', '852', '8530', '855', '856', '857', '8585', '85h', '85mb', '85mm', '85mph', '86', '864', '8649', '867', '86c911', '86yd', '87', '870', '872522', '873', '8754', '876', '8778', '8779', '8795', '88', '8801', '8805', '8806', '88086', '8817', '882', '883', '8833', '8847', '885', '8850', '8859', '886', '888', '8880', '8885', '88c', '88k', '88mb', '88opensi', '89', '894', '895', '8960', '8967', '8971', '899', '8999', '89s', '8a', '8applix', '8b', '8bit', '8bits', '8c', '8k', '8l', '8m8qpq2rad', '8mb', '8mhz', '8mm', '8ms', '8u', '8vao', '8w', '8x', '8x13', '8xl', '90', '900', '9000', '9001', '90045', '9006', '9008', '900x900', '901', '9031', '9033', '90405', '9050', '9054', '906', '907', '908', '9094', '90day', '90k', '90pro', '90s', '90vanagon', '90x8459', '90x8799', '90x9403', '90x9507', '91', '910', '9100', '911', '91109', '9119', '9133', '9135', '914', '9155', '916', '9175', '918', '919', '9191', '91s', '92', '920', '9204', '92057', '921230', '922', '92295a', '923', '9234', '9236', '924', '9247', '925', '926', '9272', '928', '92s', '93', '930314', '9304212346', '9322', '9337', '9338', '93401', '9346', '937', '937175', '938', '9382', '94', '940', '9400', '94043', '941', '94109', '94117', '942', '944', '94403', '94538', '9468', '947', '948290', '948294', '949', '94903', '9497', '95', '950', '9500', '95008', '95014', '95030', '95035', '95051', '95060', '95061', '95062', '9515', '952', '954', '95472', '9553', '956', '957', '9574', '9590', '95k', '95lx', '96', '960', '9600', '96000', '9600ex', '9607', '960x720', '961', '9619', '962', '963', '964', '966', '9660', '9665', '967', '9673', '968', '96k', '96mb', '96oo', '97', '970', '971201', '972', '972167', '972191', '9734', '9740', '978', '979', '97ai', '97pl4', '98', '9800', '98011', '98195', '982', '982992', '985', '9851', '9855', '98601s', '98604s', '988', '989', '99', '9900', '991', '9911', '992', '99352', '9937175', '9938', '995', '996', '998', '999', '99c', '9_', '9bsd', '9c', '9cc3', '9fel92x', '9g', '9hy46', '9k', '9km', '9kpdgj1', '9l0a', '9ln', '9me', '9mi', '9mm', '9r', '9th', '9u', '9v', '9x11', '9xl', '_115', '_549', '__', '___', '____', '_____', '______', '_______', '_________', '__________', '___________', '________________', '___________________', '__________________________', '__________________________________', '___________________________________', '______________________________________', '__________________________________________', '______________________________________________', '_________________________________________________', '_____________________________________________________________', '________________________________________________________________________', '_________________________________________________________________________', '__________________________________________________________________________', '______________________________________________________________________________', '_______________________________________________________________________________', '______victor', '__dave', '__gethostname', '__swm_vroot', '_alone_', '_any_', '_anything_', '_before_', '_completely_', '_converting', '_cos', '_csid', '_decreases_', '_display', '_dlclose', '_dlopen', '_dlsym', '_does_', '_dummy_', '_edge_', '_every_', '_exactly_', '_faster_', '_floor', '_get_applicationshellwidgetclass', '_get_wmshellwidgetclass', '_have_', '_heard_', '_hood_', '_i18n_h', '_if_', '_impending', '_increase_', '_incredibly_', '_internal_', '_international', '_is_', '_kind_', '_know_', '_lots_', '_macweek_', '_merely_', '_much_', '_national', '_neat_', '_never_', '_not_', '_oxygen', '_p', '_personal_', '_pow', '_requirements_', '_rv', '_se_', '_search_', '_service', '_sin', '_single_', '_some_', '_somewhere_', '_starts_', '_still_', '_sunview_', '_the', '_the_', '_think_', '_too_', '_used_', '_very', '_with_', '_xfallbackconvert', '_xmbctidtocsid', '_xmbfscs', '_xshapecombinemask', '_xshapequeryextension', '_xtconstraintbit', '_xtinherit', '_xtqstring', '_xtscrollbarsetthumb', '_xttextreplace', '_xttextsetinsertionpoint', '_xwcdecomposeglyphcharset', 'a0', 'a1', 'a13001', 'a13x', 'a15', 'a1f', 'a2', 'a2000', 'a2p', 'a3000', 'a4000', 'a5', 'a6', 'a79541', 'a8w1u86ql', 'aa', 'aa15705', 'aa16562', 'aa19251', 'aa23625', 'aaa', 'aacvkc', 'aalm336chgur', 'aamazing', 'aamir', 'aamrl', 'aanbieden', 'aangezien', 'aardvark', 'aaron', 'abandon', 'abbie', 'abbreviations', 'abc', 'abcdef', 'abcdefghijklmnopqrstuvwxyz', 'abd', 'abdul', 'aben', 'abensberg', 'abfb', 'abide', 'abiding', 'abilities', 'ability', 'abingdon', 'able', 'ablility', 'aboid', 'abominations', 'abort', 'aborted', 'abortion', 'aborts', 'abou', 'abounds', 'about', 'above', 'abrasive', 'abs', 'abs_x', 'abs_y', 'absence', 'absent', 'absolute', 'absolutely', 'absolutes', 'absolutey', 'absorb', 'absorber', 'absoultly', 'abstract', 'abstraction', 'abstractions', 'absurdity', 'abt', 'abuse', 'abused', 'abuses', 'abusing', 'abusive', 'abyss', 'ac', 'academia', 'academic', 'accel', 'accelaration', 'accelarator', 'accelaratores', 'accelartor', 'acceleartion', 'accelerate', 'accelerated', 'accelerates', 'accelerating', 'acceleration', 'accelerator', 'accelerators', 'acceleratortext', 'accellerated', 'accelleration', 'accellerator', 'accented', 'accept', 'acceptab', 'acceptable', 'acceptance', 'accepted', 'accepting', 'accepts', 'accesories', 'access', 'accessable', 'accessaries', 'accessed', 'accesses', 'accessible', 'accessing', 'accessories', 'accessory', 'accident', 'accidentally', 'accidents', 'accolade', 'accomazzi', 'accommodate', 'accommodations', 'accomodate', 'accomodation', 'accompanying', 'accomplish', 'accomplished', 'accomplishing', 'accord', 'according', 'accordingly', 'account', 'accountant', 'accounting', 'accross', 'accton', 'accummulate', 'accuracies', 'accuracy', 'accurate', 'accurately', 'accusative', 'accutrak', 'acd', 'acd4', 'ace', 'acegr', 'acelerators', 'acer', 'acetate', 'acheived', 'achieva', 'achieve', 'achieved', 'achievement', 'achtung', 'acid', 'acknowledge', 'acknowledged', 'acknowledgment', 'aclimation', 'acm', 'acns', 'acorn', 'acoustic', 'acpub', 'acquired', 'acquisition', 'acre', 'acrobatics', 'acronym', 'acronyms', 'across', 'acs', 'acsnet', 'acsu', 'act', 'acted', 'acting', 'action', 'actions', 'activate', 'activated', 'active', 'actively', 'activism', 'activites', 'activities', 'activity', 'acts', 'actual', 'actual_format', 'actual_type', 'actually', 'actualy', 'actuated', 'actuator', 'acu', 'acura', 'acutally', 'ad', 'ada', 'adam', 'adamotif', 'adams', 'adapt', 'adaptec', 'adapted', 'adapter', 'adapters', 'adaption', 'adaptor', 'adaptors', 'adaptort', 'adasoft', 'adb', 'adbs', 'add', 'add_window', 'added', 'addictive', 'adding', 'addison', 'additinol', 'addition', 'additional', 'additionally', 'additions', 'additive', 'additives', 'addon', 'addons', 'addr', 'address', 'address____________________________________________________', 'addressable', 'addressed', 'addresses', 'addressing', 'adds', 'ade', 'adelaide', 'adept', 'adequate', 'adequately', 'adherence', 'adhesion', 'adi', 'adios', 'adisak', 'adj', 'adjust', 'adjustable', 'adjusted', 'adjusting', 'adjustment', 'adjustments', 'adlib', 'adm', 'admicj', 'admin', 'administered', 'administration', 'administrative', 'administrator', 'administrators', 'administrivia', 'admins', 'adminstration', 'admire', 'admissions', 'admit', 'admits', 'admittedly', 'adn', 'adnt', 'adobe', 'adolf', 'adonais', 'adopted', 'adoption', 'adrenaline', 'adrenalizing', 'adressing', 'adrian', 'ads', 'adsorbent', 'adsorption', 'adsp', 'adsr', 'adult', 'adults', 'advacne', 'advanage', 'advance', 'advanced', 'advancements', 'advances', 'advantage', 'advantages', 'advantate', 'advathanksnce', 'advent', 'adventure', 'adventures', 'adventurous', 'advert', 'advertentie', 'adverteren', 'advertise', 'advertised', 'advertisement', 'advertisements', 'advertises', 'advertising', 'advice', 'advisable', 'advise', 'advised', 'advises', 'advising', 'advisory', 'advocacy', 'advocate', 'advocated', 'advocates', 'advocating', 'advthanksance', 'ae', 'aennig', 'aepc', 'aerea', 'aerial', 'aero', 'aerodynamics', 'aeroplan', 'aerostar', 'aestetic', 'aesthetic', 'aesthetically', 'af', 'af997', 'afair', 'affair', 'affairs', 'affect', 'affected', 'affectionados', 'affects', 'affiliate', 'affiliated', 'affiliation', 'afford', 'affordable', 'affords', 'afhetzel', 'afielden', 'afm', 'afore', 'aforementioned', 'afp', 'afraid', 'africa', 'african', 'afs', 'after', 'afterall', 'aftermarket', 'afternoon', 'afterwards', 'aftwer', 'afux', 'ag', 'aga', 'again', 'against', 'agate', 'age', 'aged', 'agencies', 'agency', 'agenda', 'agent', 'agents', 'ages', 'agg', 'aggravating', 'aggresively', 'aggressive', 'agian', 'aging', 'agip', 'agnus', 'ago', 'agora', 'agree', 'agreed', 'agreeing', 'agreement', 'agressive', 'agressively', 'agricultural', 'ah', 'ahdshaking', 'ahead', 'ahem', 'ahh', 'ahlenius', 'ahold', 'ai', 'aicons', 'aid', 'aids', 'aiff', 'ailin', 'aim', 'aimed', 'aimilar', 'aiming', 'ain', 'aing', 'ainsworth', 'aint', 'aip', 'air', 'airbag', 'airbags', 'airbao', 'airbus', 'aircraft', 'aire', 'airfare', 'airline', 'airlines', 'airplane', 'airport', 'airports', 'ais', 'aiwa', 'aix', 'aix3', 'aixwindows', 'aj', 'aj008', 'ak', 'ak296', 'aka', 'akachhy', 'akg', 'akins', 'al', 'al8xrhjf', 'ala', 'alabama', 'aladdin', 'alain', 'alameda', 'alamo', 'alan', 'alarm', 'alarmed', 'alarms', 'alas', 'alaska', 'albeit', 'albert', 'alberta', 'alberto', 'album', 'alcohlo', 'alcohol', 'alcoholic', 'aldus', 'alena', 'alerts', 'alesis', 'alex', 'alexander', 'alf', 'alfa', 'alfalfa', 'algae', 'algebra', 'algorithm', 'algorithmics', 'algorithms', 'alias', 'aliased', 'aliases', 'alicante', 'alice', 'alien', 'aliens', 'align', 'aligned', 'aligning', 'alignment', 'aligns', 'alike', 'alittle', 'alive', 'all', 'alladin', 'allan', 'allante', 'alleen', 'allegra', 'allegro24', 'allen', 'allentown', 'allerton', 'alley', 'allgeier', 'alliance', 'alloc', 'allocall', 'allocatable', 'allocate', 'allocated', 'allocates', 'allocating', 'allocation', 'allocnone', 'allow', 'allowance', 'allowed', 'allowing', 'allows', 'alloy', 'allplanes', 'allready', 'allstate', 'almanac', 'almost', 'aloha', 'alok', 'alone', 'along', 'alongside', 'alot', 'aloud', 'alpex', 'alpha', 'alphabet', 'alphas', 'alpine', 'alps', 'already', 'alright', 'also', 'alsys', 'alt', 'altdorf', 'altenhofen', 'alter', 'alteration', 'altered', 'alternate', 'alternately', 'alternative', 'alternatively', 'alternatives', 'alternators', 'alters', 'although', 'altima', 'altogether', 'altsys', 'alu', 'aludra', 'aluminum', 'alvin', 'alway', 'always', 'am', 'am29000', 'amadi', 'amancio', 'amateur', 'amazed', 'amazing', 'amazingly', 'amber', 'ambico', 'ambiguous', 'ambitious', 'ambulance', 'amc', 'amcad', 'amd', 'amdahl', 'amenable', 'amendment', 'amenities', 'amereican', 'america', 'american', 'ames', 'amgen', 'amherst', 'ami', 'amiga', 'amigados', 'amigas', 'amigavision', 'amin', 'amipro', 'ammo', 'amoco', 'among', 'amongst', 'amount', 'amounts', 'amp', 'ampex', 'amphibious', 'amplification', 'amplified', 'amplifier', 'amplifiers', 'amplify', 'amplitude', 'ampr', 'ampro', 'amps', 'amputating', 'amr', 'amsoil', 'amulet', 'amuse', 'amused', 'amx', 'an', 'an2574', 'anaheim', 'analog', 'analogic', 'analyse', 'analysis', 'analysts', 'analytic', 'analyzer', 'analyzing', 'anarchal', 'anatomy', 'ancestor', 'ancestors', 'anchor', 'ancient', 'and', 'anderson', 'andre', 'andre_beck', 'andrea', 'andreas', 'andreessen', 'andrew', 'andrzej', 'andy', 'anemic', 'angeles', 'angels', 'angers', 'angle', 'angles', 'angry', 'angular', 'anielsen', 'animal', 'animals', 'animated', 'animating', 'animation', 'animations', 'anisetti', 'aniversary', 'ankle', 'anl', 'ann', 'anne', 'annette', 'annex', 'annihilate', 'anninversary', 'anniv', 'anniversary', 'annotation', 'annotations', 'announce', 'announced', 'announcement', 'announcements', 'announcing', 'annoy', 'annoyed', 'annoying', 'annoyning', 'annual', 'annuals', 'annular', 'anomalies', 'anon', 'anonima', 'anonymous', 'another', 'anough', 'ansa', 'ansel', 'ansi', 'ansiccoptions', 'anstett', 'anstettj', 'answer', 'answered', 'answering', 'answers', 'ant', 'antena', 'antenna', 'antennas', 'anteriorly', 'anthony', 'anti', 'anticipate', 'antimicrobial', 'antipolis', 'antique', 'antisocial', 'antistatic', 'antivirus', 'anton', 'antonick', 'antonio', 'any', 'anybody', 'anycase', 'anyhow', 'anyhting', 'anymodifier', 'anymore', 'anyon', 'anyone', 'anyones', 'anyopne', 'anything', 'anytime', 'anyway', 'anyways', 'anywhere', 'aoc', 'aol', 'aolsys', 'ap', 'ap542', 'apace', 'apart', 'apartment', 'apchardel', 'apcmd', 'apcopy', 'apcut', 'apda', 'apdownbox', 'apedit', 'apeice', 'apexit', 'apgea', 'apgrow', 'api', 'apis', 'apkp_parenleft', 'apkp_parenright', 'aplcomm', 'apleftbar', 'apleftbox', 'aplinedel', 'apmove', 'apocolyptic', 'apollo', 'apologetic', 'apologies', 'apologised', 'apologized', 'apology', 'app', 'app_con', 'app_context', 'appalling', 'apparantly', 'apparent', 'apparently', 'appaste', 'appeal', 'appear', 'appearance', 'appeared', 'appearence', 'appearing', 'appears', 'appended', 'appendices', 'appendix', 'appetite', 'appl', 'applaud', 'apple', 'applecd', 'applecentre', 'applecolor', 'applegate', 'applelink', 'applemodem', 'apples', 'appleshare', 'appletalk', 'appleusa', 'appleworks', 'appliances', 'applica', 'application', 'applicationcontext', 'applications', 'applicationshell', 'applicationshellwidgetclass', 'applicon', 'applied', 'applies', 'applikation', 'applix', 'apply', 'applying', 'appointed', 'appointment', 'appologized', 'appop', 'apposed', 'appr', 'appraisal', 'appraised', 'appreciable', 'appreciably', 'appreciate', 'appreciated', 'appreciating', 'apprecisted', 'appres', 'appriciate', 'approach', 'approached', 'approaches', 'approaching', 'approching', 'appropriate', 'appropriately', 'approved', 'approx', 'approximate', 'approximately', 'approxmiately', 'apps', 'apr', 'apread', 'aprepeat', 'aprightbar', 'aprightbox', 'april', 'aprox', 'aproximate', 'aproximately', 'aps', 'apsave', 'apshell', 'apt', 'aptible', 'apupbox', 'apx', 'aquatic', 'aquire', 'aquired', 'ar', 'ar007', 'ar1', 'ar2', 'ara', 'arab', 'arabic', 'arb', 'arbitrarily', 'arbitrary', 'arbitration', 'arbitrator', 'arbor', 'arbortext', 'arcade', 'arcana', 'arcane', 'arch', 'archer', 'archers', 'arches', 'archie', 'archiev', 'architech', 'architect', 'architects', 'architectural', 'architecture', 'architectured', 'architectures', 'archive', 'archived', 'archives', 'arcnet', 'arco', 'arcs', 'arctic', 'ard', 'ardent', 'are', 'area', 'areas', 'aren', 'areound', 'arethe', 'arg', 'argc', 'arggh', 'argh', 'arghhh', 'arglist', 'args', 'arguably', 'argue', 'argued', 'arguements', 'argues', 'argument', 'arguments', 'argv', 'ari', 'arie', 'ariens', 'aries', 'aris', 'arise', 'arises', 'arithmetic', 'arizona', 'arjuna', 'arkanoid', 'arlington', 'arm', 'armadillo', 'armandactivate', 'armchair', 'armed', 'armegedon', 'armor', 'armored', 'armory', 'arms', 'armstrong', 'army', 'arnaud', 'around', 'arounde', 'arrange', 'arranged', 'arrangement', 'arranging', 'array', 'arrays', 'arrest', 'arrival', 'arrivals', 'arrive', 'arrived', 'arrives', 'arrogant', 'arrow', 'arrowhead', 'arrows', 'arrrrgh', 'art', 'artefacts', 'arthur', 'articals', 'articel', 'article', 'articles', 'articulated', 'artist', 'artistic', 'artists', 'arts', 'artwork', 'as', 'asante', 'asap', 'asbestos', 'ascension', 'ascertained', 'ascii', 'asciitext', 'asciitextwidgetclass', 'ascona', 'asctime', 'ascwide', 'asd', 'asedit', 'asente', 'aset', 'ash', 'ashamed', 'ashcan', 'ashtray', 'ashtrays', 'asic', 'aside', 'asignment', 'ask', 'asked', 'asking', 'asks', 'askuser', 'asl', 'asm', 'asnap', 'asnd', 'aspect', 'aspects', 'asphalt', 'ass', 'assemble', 'assembled', 'assembler', 'assembly', 'assert', 'assertions', 'asserts', 'assessment', 'asshole', 'assign', 'assigned', 'assigning', 'assignment', 'assignments', 'assigns', 'assilants', 'assimilation', 'assist', 'assistance', 'assists', 'assoc', 'associate', 'associated', 'associates', 'association', 'associations', 'associative', 'assorted', 'assume', 'assumed', 'assumes', 'assuming', 'assumption', 'assumptions', 'assurance', 'assure', 'assured', 'ast', 'aster', 'asteron', 'asthetic', 'astoch', 'astonishing', 'astonishingly', 'astray', 'astro', 'astrod', 'astronomical', 'astronomy', 'asu', 'asumed', 'aswers', 'asymmetries', 'async', 'asynch', 'asynchronicity', 'asynchronous', 'asynchronously', 'at', 'at32mhz', 'at72', 'ata', 'atari', 'ataris', 'atary', 'atdhvaannkcse', 'ate', 'atheist', 'athena', 'athenatools', 'ati', 'atk', 'atlanta', 'atlas', 'atleast', 'atm', 'atmospheric', 'atobm', 'atom', 'atomic', 'atoms', 'att', 'attach', 'attached', 'attaching', 'attachment', 'attachments', 'attack', 'attacked', 'attacking', 'attained', 'attatched', 'attemps', 'attempt', 'attempted', 'attempting', 'attempts', 'attended', 'attendees', 'attendendence', 'attention', 'attesting', 'attitude', 'attitudes', 'attmail', 'attorneys', 'attr', 'attr_enum', 'attr_int', 'attract', 'attractions', 'attractive', 'attribs', 'attribute', 'attributes', 'attribution', 'attributions', 'attunix', 'atul', 'atz0l2n2x5', 'au', 'aubrey', 'auburn', 'auction', 'auctioned', 'auctioning', 'audi', 'audible', 'audience', 'audio', 'audio_device', 'audiomedia', 'audiophile', 'audis', 'auditory', 'audoban', 'auf', 'aug', 'augment', 'augmented', 'august', 'aui', 'auis', 'aunt', 'aurborn', 'aus', 'aussie', 'aust0278', 'austin', 'austrailia', 'australasia', 'australia', 'australian', 'australians', 'austria', 'auth_cnt', 'authentic', 'authentication', 'author', 'authored', 'authorise', 'authorised', 'authoritative', 'authorities', 'authority', 'authorization', 'authorize', 'authorized', 'authors', 'authur', 'auto', 'auto_box', 'autoanswer', 'autobahn', 'autobahns', 'autocad', 'autocross', 'autodetects', 'autodial', 'autodoubler', 'autofaire', 'autofile', 'autofocus', 'autogaph', 'autograph', 'autogrphed', 'autoline', 'autolite', 'automap', 'automata', 'automated', 'automatic', 'automatically', 'automaticaly', 'automatics', 'automation', 'automobile', 'automobiles', 'automobili', 'automoble', 'automotive', 'autonomy', 'autoplacewindows', 'autoplan', 'autoreverse', 'autoroute', 'autos', 'autostrada', 'autosynchronous', 'autotester', 'autoweek', 'autox', 'aux', 'auxiliary', 'av', 'av1070', 'avahi', 'avail', 'availabe', 'availability', 'available', 'availble', 'availible', 'avalable', 'avalon', 'avant', 'ave', 'avec', 'avenger', 'avengers', 'avenil', 'avenue', 'avenues', 'average', 'averages', 'avg', 'aviation', 'avocet', 'avoid', 'avoided', 'avoids', 'avon', 'aw', 'awake', 'awakhras', 'award', 'awarded', 'awards', 'aware', 'away', 'awd', 'awds', 'awesome', 'awful', 'awhile', 'awm', 'awww', 'ax2000', 'axe', 'axel', 'axes', 'axion', 'axle', 'axles', 'axp', 'ayrton', 'aything', 'az2tv6l', 'azelenet', 'azhao', 'azn30', 'azrael', 'azure', 'b30', 'b3b', 'b3f0r', 'b5f', 'b640', 'b70', 'b752', 'b8', 'b9', 'ba', 'babba', 'babes', 'babied', 'babies', 'baby', 'babysitter', 'bacalzo', 'baced', 'bach', 'back', 'backdraft', 'backdrop', 'backdrops', 'backed', 'backgroud', 'backgroun', 'background', 'background_pixel', 'backgroundpixmap', 'backgrounds', 'backing', 'backing_store', 'backlash', 'backlighted', 'backlighting', 'backlit', 'backlogged', 'backo', 'backorder', 'backordered', 'backplane', 'backroads', 'backround', 'backs', 'backup', 'backups', 'backward', 'backwards', 'backx', 'backyard', 'bad', 'badalloc', 'badatom', 'badcolor', 'baddrawable', 'badfont', 'badge', 'badly', 'badmatch', 'badpixmap', 'badshmseg', 'badvalue', 'badwindow', 'bae', 'bag', 'baggage', 'bagged', 'baggers', 'bags', 'bahama', 'bahamas', 'bahnen', 'bail', 'bailey', 'baio', 'bait', 'baker', 'balance', 'balanced', 'balancing', 'balbach', 'bald', 'ball', 'ballads', 'ballard', 'balltown', 'ballyhoo', 'baltimore', 'bambi', 'ban', 'band', 'bander', 'banding', 'bands', 'bandwidth', 'bane', 'bang', 'banger', 'bangers', 'banging', 'bank', 'banked', 'bankers', 'bankrupt', 'banks', 'bantam', 'banyan', 'baptism', 'bar', 'barbara', 'barbeque', 'barcelona', 'bard', 'barden', 'bare', 'barely', 'bargain', 'bargaining', 'bargains', 'barksdale', 'barlowes', 'barman', 'barmar', 'barnes', 'barnesm', 'barney', 'barometer', 'baron', 'barrel', 'barreling', 'barrier', 'barriers', 'barring', 'barrus', 'barry', 'bars', 'barsz', 'bart', 'bartel', 'bartmich', 'baruch', 'base', 'base_pixel', 'baseball', 'based', 'basement', 'basename', 'bases', 'basetranslation', 'bash', 'bashford', 'basic', 'basically', 'basics', 'basie', 'basin', 'basing', 'basingstoke', 'basis', 'basketball', 'bass', 'bassel', 'basti', 'bat', 'batch', 'batf', 'bath', 'bathroom', 'bathrooms', 'baths', 'batman', 'baton', 'battelle', 'batten', 'batteries', 'battery', 'battle', 'battlechess', 'battles', 'battletech', 'battling', 'baud', 'bauer', 'bavarian', 'bavarians', 'bay', 'bayerische', 'bays', 'baz', 'bazaar', 'bb', 'bbates', 'bbb', 'bbn', 'bbs', 'bbss', 'bbx', 'bby', 'bc', 'bc200xlt', 'bcga65431', 'bchs', 'bclk', 'bcmp', 'bcoleman', 'bcopy', 'bd', 'bdavis', 'bddt', 'bdf', 'bdfresize', 'bdftools', 'bdftopcf', 'bds', 'bdynamic', 'be', 'beach', 'beach_ball', 'beaches', 'beacon', 'bead', 'beads', 'beakers', 'beales', 'beam', 'beamers', 'beams', 'bear', 'bearable', 'bearer', 'bearing', 'bearly', 'bears', 'beast', 'beasts', 'beat', 'beaten', 'beater', 'beating', 'beatles', 'beats', 'beautified', 'beautifier', 'beautiful', 'beautifully', 'beautify', 'beauty', 'beavers', 'beavis', 'became', 'because', 'beck', 'beckman', 'beckup', 'become', 'becomes', 'becoming', 'becomming', 'bed', 'bedliner', 'bedliners', 'bedload', 'bedroom', 'bedrooms', 'bee', 'beechgreen', 'beefed', 'beekeeping', 'been', 'beep', 'beeping', 'beeps', 'beers', 'beetle', 'beetles', 'before', 'beforehand', 'beforewarned', 'befriending', 'beg', 'began', 'beged', 'begging', 'begin', 'begining', 'beginners', 'beginning', 'begins', 'begley', 'begun', 'behalf', 'behanna', 'behave', 'behavior', 'behaviour', 'behind', 'behing', 'beholder', 'beige', 'being', 'beings', 'beirut', 'bel', 'belasco', 'beleive', 'belgium', 'beliefs', 'believable', 'believe', 'believed', 'believers', 'believing', 'belike', 'bell', 'bellcore', 'bellevue', 'bellows', 'bells', 'belong', 'belonged', 'belonging', 'belongs', 'belorusskaya', 'below', 'belt', 'belts', 'beltway', 'belvedere', 'ben', 'bench', 'benchmark', 'benchmarks', 'bend', 'beneath', 'beneficial', 'benefit', 'benefits', 'beng', 'beno', 'bent', 'benton', 'benz', 'berate', 'beraten', 'beretta', 'bericht', 'berkeley', 'berlin', 'bernoulli', 'bernoullis', 'berserkers', 'beryl', 'beside', 'besides', 'besler', 'best', 'bestbooks', 'bet', 'beta', 'betamax', 'betas', 'bethesda', 'betrayed', 'better', 'betts', 'between', 'betwwwn', 'betza', 'beverly', 'beware', 'bewildered', 'beyond', 'bezel', 'bfd', 'bg', 'bg_pix', 'bga', 'bgj', 'bgrubb', 'bgsu', 'bgx', 'bharat', 'bhhnv9', 'bhmdhll', 'bhp', 'bi', 'bias', 'biased', 'bib', 'bible', 'bibles', 'bibliographies', 'bibliography', 'bicycle', 'bicycling', 'bid', 'bidder', 'bidding', 'bidirectional', 'bids', 'bien', 'big', 'bigfoot', 'bigger', 'biggest', 'bigmac', 'bigot', 'bih', 'bijhnadh', 'bike', 'bikini', 'bikni', 'bilingual', 'bill', 'billed', 'bills', 'bilpin', 'bim', 'bimbo', 'bimmer', 'bimmers', 'bimonthly', 'bin', 'binaries', 'binary', 'bind', 'binder', 'binding', 'bindings', 'bingle', 'binhex', 'binhexed', 'binoculars', 'binolux', 'bins', 'biology', 'bios', 'bircsak', 'bird', 'birds', 'bis', 'biscayne', 'bismark', 'bison', 'bit', 'bitching', 'bite', 'bitmap', 'bitmaps', 'bitnet', 'bitplaned', 'bitplanes', 'bits', 'bits_per_pixel', 'bitzm', 'biz', 'bizarre', 'bj', 'bjoerns', 'bjxrn', 'bl204', 'bla', 'blaaa', 'black', 'blackpixel', 'blacksburg', 'blackwhite', 'blade', 'bladed', 'blades', 'blah', 'blame', 'blamed', 'blaming', 'blammo', 'blanca', 'blanched', 'blancmange', 'blank', 'blanked', 'blanking', 'blanks', 'blast', 'blaster', 'blaze', 'blazer', 'blazers', 'blazes', 'blazing', 'blck_pixl', 'bldfamily', 'blech', 'bled', 'bleed', 'bleeding', 'blemishes', 'blend', 'blender', 'bless', 'bletch', 'blew', 'bley', 'blind', 'blinds', 'blink', 'blinking', 'blinks', 'blip', 'blipped', 'blipping', 'bliss', 'blisters', 'blit', 'blithe', 'blithely', 'blits', 'blitted', 'blitting', 'blizzard', 'blk', 'blkbox', 'blob', 'block', 'blocked', 'blocking', 'blocks', 'blood', 'blooded', 'bloodshot', 'bloody', 'bloomingdale', 'bloomington', 'blow', 'blowing', 'blowinô', 'blown', 'blows', 'blp', 'blue', 'blue_max', 'blue_mult', 'blues', 'bluestone', 'blurb', 'blvd', 'bm967', 'bmac', 'bmc', 'bme', 'bmp', 'bmtoa', 'bmw', 'bmws', 'bname', 'bnc', 'bnr', 'bo', 'board', 'boards', 'boasts', 'boat', 'boatanchors', 'boats', 'boattail', 'bob', 'bobby', 'bobmeister', 'bobo', 'bode', 'bodies', 'bodily', 'bodin', 'body', 'bodyguard', 'boeing', 'bof', 'bogs', 'bogus', 'boiling', 'boils', 'boing', 'bointon', 'bojangles', 'bokk', 'bold', 'boldfont', 'boldness', 'bolger', 'bolt', 'bolton', 'bolts', 'bomb', 'bombards', 'bombed', 'bombing', 'bon', 'bond', 'bondo', 'boneheads', 'bones', 'bonn', 'bonus', 'boo', 'boogie', 'book', 'booked', 'booker', 'booking', 'booklet', 'books', 'bookshelf', 'bookstore', 'boole', 'boolean', 'boom', 'boomerang', 'boon', 'boonstra', 'boorishly', 'boost', 'boosting', 'boot', 'bootable', 'boote', 'booted', 'booth', 'booting', 'boots', 'bopland', 'border', 'border_pixel', 'border_width', 'borderpixmap', 'borderwidth', 'bored', 'boring', 'boris', 'borland', 'born', 'borne', 'borrow', 'bos', 'bosch', 'bose', 'boss', 'boston', 'both', 'bothell', 'bother', 'bothered', 'bothers', 'bottle', 'bottleneck', 'bottles', 'bottom', 'bottome', 'bottoms', 'boudrie', 'bought', 'boughten', 'boulder', 'boulevard', 'bounce', 'bounced', 'bouncing', 'bound', 'boundary', 'bounding', 'bounds', 'bountiful', 'bourland', 'bourne', 'bout', 'boutique', 'bow', 'bowers', 'bowie', 'bowl', 'box', 'boxed', 'boxes', 'boy', 'boycotted', 'boyer', 'boyhood', 'boylan', 'boynton', 'boys', 'bozos', 'bp', 'bp3', 'bpi', 'bpita', 'bpp', 'bps', 'bqmeffkt5bb', 'br', 'br4416a', 'bra', 'bracket', 'brackets', 'brad', 'bradley', 'brady', 'brag', 'braggadocio', 'brahms', 'brain', 'braindeads', 'brainstorm', 'brakdown', 'brake', 'braked', 'brakes', 'braking', 'bramwell', 'branch', 'branchs', 'brand', 'brands', 'brass', 'brats', 'brave', 'bravo', 'bray', 'bread', 'break', 'breakdown', 'breakfast', 'breaking', 'breakpoints', 'breaks', 'breath', 'breck', 'breed', 'breeding', 'breeds', 'breeze', 'breifing', 'breifly', 'brentb', 'bret', 'brett', 'brevity', 'brewery', 'brian', 'brians', 'briarcliffe', 'brick', 'bricklin', 'bricklins', 'bride', 'bridge', 'bridgeable', 'bridges', 'brief', 'briefly', 'brien', 'bright', 'brighter', 'brightman', 'brightness', 'bring', 'bringing', 'brings', 'brink', 'brion', 'bristol', 'britain', 'britamrica', 'britannicas', 'british', 'brits', 'brl', 'bro', 'broad', 'broadcast', 'broadcasting', 'brochure', 'brochures', 'brockton', 'broderick', 'broke', 'broken', 'brokers', 'bronco', 'bronica', 'brookgrove', 'brookline', 'brooks', 'bros', 'brossard', 'brother', 'brotherhood', 'brothers', 'brought', 'brouillette', 'brown', 'brownvm', 'browse', 'browser', 'browsers', 'browsing', 'brsmith', 'bruce', 'bruceg6069', 'brucet', 'bruiser', 'bruning', 'brussels', 'brute', 'bryan', 'bs', 'bscs', 'bsd', 'bsdi', 'bside', 'bst', 'bstatic', 'bt', 'btbhjlex3pe0kj8', 'btw', 'bu21', 'bubba', 'bubble', 'bubbles', 'buch', 'buchanan', 'buck', 'buckled', 'bucknell', 'bucks', 'buckwheats', 'bud', 'buddy', 'budge', 'budget', 'budgets', 'budlanski', 'buf', 'buf_len', 'buffalo', 'buffer', 'buffered', 'buffering', 'buffers', 'buffet', 'bufflgj', 'buflen', 'bufsiz', 'bug', 'bugbear', 'bugged', 'bugger', 'bugging', 'buggy', 'buglet', 'bugs', 'buick', 'build', 'builder', 'builders', 'builderxcessory', 'building', 'buildings', 'builds', 'built', 'builtin', 'buit', 'buku', 'bulb', 'bulging', 'bulk', 'bulkhead', 'bull', 'bulldozer', 'bulldozers', 'bullet', 'bulletin', 'bulletproof', 'bulls', 'bullseye', 'bullshit', 'bum', 'bumf', 'bummed', 'bummer', 'bump', 'bumper', 'bumpered', 'bumpers', 'bumps', 'bunch', 'bunches', 'bundle', 'bundled', 'bundlign', 'bundy', 'bunk', 'bunt0003', 'burden', 'bureaus', 'burgundy', 'burke', 'burkhard', 'burkhart', 'burlington', 'burn', 'burnaby', 'burned', 'burner', 'burning', 'burns', 'burr', 'burrell', 'burst', 'bursts', 'bursty', 'burying', 'bus', 'buses', 'bush', 'bushing', 'bushings', 'bushnell', 'busiest', 'business', 'businesses', 'busmastering', 'buss', 'busses', 'buster', 'busting', 'busy', 'but', 'butane', 'butcher', 'butler', 'butt', 'butted', 'butterfield', 'butthead', 'button', 'button1', 'button1motionmask', 'button1pressmask', 'button2', 'buttonpress', 'buttonpressmask', 'buttonreleasemask', 'buttons', 'buttplate', 'butts', 'buy', 'buyer', 'buyers', 'buying', 'buys', 'buzz', 'buzzing', 'buzzword', 'buzzwords', 'buzzy', 'bvsmith', 'bw', 'bw2', 'bwsmith', 'bwtwo0', 'bwtwo1', 'bx', 'by', 'bye', 'byers', 'bying', 'byk', 'byo', 'bypassed', 'bypassing', 'byproducts', 'byrne', 'byte', 'bytes', 'bytesafter', 'bytex', 'byu', 'bz', 'bzero', 'bzw', 'bzzt', 'bzzzzzzzzzzzzzzzzzzzzzzzt', 'c1', 'c128t', 'c2065', 'c23reg', 'c37', 'c4acsl', 'c4g8hv', 'c4vr7z', 'c5ev4t', 'c5lefr4', 'c5ngii', 'c610', 'c610s', 'c64', 'c650', 'c650s', 'c910', 'ca', 'cab', 'cab5dk', 'cabbage', 'cabin', 'cabinet', 'cabinets', 'cable', 'cabled', 'cables', 'cabletron', 'cabling', 'cabot', 'cabs', 'cac', 'caca', 'cache', 'cached', 'cacheing', 'caches', 'caching', 'cactus', 'cad', 'caddies', 'caddr_t', 'caddy', 'cadence', 'cadillac', 'cae', 'caere', 'cafe', 'caffeine', 'cag', 'cage', 'cages', 'cagey', 'cahill', 'cak', 'cak3', 'cake', 'cakewalk', 'cal', 'calc', 'calculate', 'calculated', 'calculation', 'calculations', 'calculator', 'calculus', 'caldwell', 'calendar', 'calender', 'caley', 'calgary', 'calibra', 'calibrated', 'calibration', 'calibrtated', 'calibur', 'calif', 'califonia', 'california', 'calipers', 'call', 'call_data', 'callable', 'callback', 'callback_name', 'callbackdata', 'callbacks', 'called', 'caller', 'callers', 'calling', 'callingwidget', 'callison', 'calloc', 'calls', 'callsign', 'calm', 'calmed', 'calmer', 'calstate', 'caltech', 'calvin', 'calypso', 'cam', 'camaro', 'camaros', 'camber', 'cambridge', 'camcorder', 'camden', 'came', 'camelot', 'cameo', 'camera', 'cameras', 'camp', 'campaign', 'campaigns', 'campbell', 'camping', 'camps', 'campus', 'camry', 'camrys', 'camshaft', 'can', 'canabalized', 'canada', 'canadian', 'canadians', 'canberra', 'cancel', 'cancelled', 'cancun', 'canda', 'candidate', 'cando', 'canion', 'cannibals', 'cannon', 'cannondale', 'cannot', 'canon', 'canrem', 'cans', 'cant', 'canterbury', 'canton', 'canvas', 'cap', 'capabilities', 'capability', 'capable', 'capacities', 'capacitor', 'capacitors', 'capacity', 'capasitor', 'capbak', 'cape', 'capital', 'capitalization', 'capitals', 'capitol', 'capmgtsci', 'capri', 'caprice', 'caprices', 'caps', 'capslock', 'captain', 'caption', 'capture', 'captures', 'capturing', 'caputo', 'car', 'caramate', 'caramete', 'caravan', 'carb', 'carbon', 'carbonized', 'carbs', 'carburated', 'carburator', 'carburetor', 'carburettor', 'card', 'cardboard', 'carderock', 'cardinal', 'cardiology', 'cardiscman', 'cards', 'care', 'cared', 'careful', 'carefully', 'cares', 'caret', 'carey', 'caribbean', 'carina', 'carl', 'carleton', 'carlike', 'carmen', 'carnage', 'carnegie', 'carol', 'carolina', 'carousel', 'carpet', 'carpeted', 'carpeting', 'carpets', 'carrera', 'carriage', 'carried', 'carrier', 'carriers', 'carries', 'carring', 'carroll', 'carrot', 'carry', 'carrying', 'cars', 'cars_', 'carson', 'carsona', 'cart', 'carter', 'cartoon', 'cartoony', 'cartridge', 'cartridges', 'carts', 'cary', 'casbah', 'cascade', 'cascading', 'case', 'cased', 'cases', 'casette', 'casey', 'cash', 'cashed', 'casio', 'casper', 'cass', 'cassette', 'cassettes', 'cast', 'cast0', 'casting', 'castle', 'castles', 'castlevania', 'castrol', 'casual', 'casualties', 'cat', 'catagorically', 'catagories', 'catalog', 'catalogs', 'catalogue', 'catbox', 'catbyte', 'catch', 'catchup', 'catchy', 'cated', 'categories', 'categorized', 'category', 'cates', 'catfish16', 'catgets', 'cathedral', 'cathyr', 'cating', 'catopen', 'catrridge', 'catylitic', 'cauchy', 'caught', 'cause', 'caused', 'causes', 'causing', 'caution', 'cautioned', 'cautious', 'cav', 'cavalier', 'cave', 'caveat', 'caveats', 'cayman', 'cb', 'cb3', 'cb360t', 'cbda9', 'cbfsb', 'cbl', 'cblpf', 'cbmvax', 'cbnewsb', 'cbnewsk', 'cbosgd', 'cbs', 'cbtree', 'cc', 'cc1', 'cc1plus', 'ccalmr', 'ccc', 'cccbbs', 'ccd', 'ccit', 'ccitt', 'ccmrc', 'cco', 'ccoptions', 'ccs', 'ccu', 'ccur', 'ccwf', 'cd', 'cd300', 'cd300i', 'cda', 'cdac', 'cdn', 'cdp', 'cdpx229', 'cdr', 'cdrom', 'cdromcat', 'cdroms', 'cds', 'cdx', 'ce', 'cease', 'ceaseless', 'cec', 'cecil', 'cedar', 'cedex', 'ceiling', 'cek', 'celebration', 'celica', 'celicas', 'cell', 'cellar', 'cellerator', 'cells', 'cellular', 'cem', 'cen', 'cent', 'centaur', 'center', 'centering', 'centers', 'central', 'centre', 'centri', 'centris', 'centris610', 'centronics', 'centurion', 'century', 'ceramic', 'cerberus', 'ceres', 'cerics', 'cerro', 'certain', 'certainly', 'certian', 'certificate', 'certification', 'certified', 'certify', 'cessna', 'cf', 'cfa', 'cfa0', 'cfb', 'cfc', 'cfgigfh', 'cflags', 'cflatter', 'cfrye', 'cg12', 'cg2', 'cg3', 'cg3_mmap', 'cg3ac_enblen', 'cg3ac_monolen', 'cg3bc_enblen', 'cg3bc_monolen', 'cg3c', 'cg4', 'cg6', 'cg6_vaddr_color', 'cg6reg', 'cg8', 'cg9', 'cga', 'cge', 'cgfour', 'cgfour0', 'cgrafports', 'cgsix', 'cgtwelve', 'cgtwo0', 'ch', 'chad', 'chain', 'chains', 'chair', 'chaired', 'chairs', 'chakan', 'chalet', 'chalk', 'chalkboard', 'challanging', 'challenge', 'challenger', 'challenging', 'chalmers', 'chamber', 'chambers', 'champaign', 'champion', 'chance', 'chances', 'chancy', 'chanel', 'chanels', 'chang', 'change', 'changed', 'changelog', 'changeproperty', 'changer', 'changers', 'changes', 'changing', 'channel', 'channels', 'chaos', 'chap', 'chapel', 'chapter', 'char', 'character', 'characteristic', 'characteristics', 'characterize', 'characters', 'charcell', 'charge', 'chargebacks', 'charged', 'charger', 'charges', 'charging', 'charity', 'charles', 'charlie', 'charlton', 'charm', 'charproc', 'chars', 'charset', 'charsetofwchar', 'chart', 'charts', 'chas', 'chase', 'chasing', 'chassis', 'chat', 'chatter', 'cheap', 'cheaper', 'cheapest', 'cheaply', 'cheapo', 'cheat', 'cheater', 'cheating', 'cheats', 'check', 'check_io', 'checked', 'checker', 'checkers', 'checkfree', 'checking', 'checkoff', 'checks', 'checkup', 'cheep', 'cheers', 'chelmsford', 'chem', 'chemical', 'chemicals', 'chemistry', 'chemists', 'chemlab', 'chen', 'cheng', 'cher', 'chereshnev', 'cherokee', 'cherry', 'chess', 'chessmaster', 'cheung', 'chev', 'chevelle', 'chevette', 'chevies', 'chevrolet', 'chevron', 'chevy', 'chewed', 'chgrp', 'chhabra', 'chicago', 'chicken', 'chihuahua', 'child', 'childposition', 'children', 'childs', 'chili', 'chilli', 'chillingly', 'chilton', 'chimes', 'chimney', 'china', 'chineham', 'chinese', 'chintan', 'chip', 'chipboard', 'chipped', 'chips', 'chipset', 'chipsets', 'chiseling', 'chivalry', 'chlorine', 'chloro', 'chmod', 'chocolate', 'chohan', 'choice', 'choices', 'choke', 'chokes', 'chong', 'chonglab', 'chongo', 'choose', 'choosed', 'chooser', 'chooses', 'choosing', 'chop', 'chopin', 'choppy', 'chord', 'chore', 'chorus', 'chose', 'chosen', 'chown', 'chpc', 'chris', 'chrisb', 'chriss', 'christian', 'christina', 'christmas', 'christmastime', 'christopher', 'christy', 'chrome', 'chromium', 'chronicles', 'chronological', 'chryco', 'chrysler', 'chuck', 'chung', 'chungy2', 'chunk', 'chunking', 'chunks', 'churchhill', 'churchill', 'chuvashia', 'chx400', 'ci', 'cia', 'ciaran', 'ciarletta', 'cie', 'cie_their', 'cig', 'cigaraette', 'cigarette', 'cigehn', 'cimage', 'cimarron', 'cinderella', 'circa', 'circles', 'circuit', 'circuitry', 'circuits', 'circular', 'circumstance', 'circumstances', 'circus', 'circut', 'cis', 'cisc', 'cit', 'citation', 'citations', 'cite', 'cited', 'cites', 'citibank', 'citidollars', 'cities', 'citing', 'citizen', 'citizens', 'citroen', 'city', 'civic', 'civil', 'civilian', 'civilization', 'civilizing', 'civilles', 'cix', 'ciz', 'cj', 'cj00', 'cka', 'cl', 'claeys', 'claim', 'claimed', 'claims', 'claire', 'clamp', 'clamps', 'clapped', 'clapton', 'clara', 'claremont', 'clarifications', 'claris', 'clark', 'clarke', 'clarkson', 'class', 'class_inited', 'class_intialize', 'classc', 'classes', 'classic', 'classical', 'classics', 'classification', 'classified', 'classroom', 'claude', 'clause', 'claw', 'claws', 'clay', 'clean', 'cleaned', 'cleaner', 'cleaners', 'cleaning', 'cleanly', 'cleans', 'cleanup', 'cleanups', 'clear', 'clearance', 'clearcoat', 'clearing', 'clearly', 'clearpoint', 'clears', 'cleen', 'clemente', 'clerics', 'cletus', 'cleveland', 'clever', 'clevis', 'click', 'clickart', 'clicked', 'clicking', 'clicks', 'client', 'clients', 'clientside', 'cliff', 'clifford', 'cliffs', 'climate', 'climates', 'climbs', 'clinchers', 'clinic', 'clint', 'clinton', 'clip', 'clip_mask', 'clip_origin', 'clip_x_origin', 'clip_y_origin', 'clipboard', 'clipbychildren', 'clipert', 'clipmasks', 'clipped', 'clipper', 'clipping', 'clips', 'cljkfb121qgm2mclee', 'clkprog', 'cloak', 'clock', 'clocked', 'clocks', 'clockwise', 'clog', 'clone', 'clones', 'close', 'closecolor', 'closed', 'closely', 'closeness', 'closer', 'closest', 'closet', 'closing', 'closure', 'cloth', 'clothes', 'clothing', 'clr', 'clu', 'club', 'clubmac', 'clubs', 'clue', 'clues', 'clunk', 'clunker', 'cluster', 'clut', 'clutch', 'clutched', 'clutches', 'clutching', 'clutchless', 'cluthch', 'cluttering', 'clv', 'clx', 'cm', 'cm0l3e', 'cma', 'cmap', 'cmapalloc', 'cmaps', 'cmcgc', 'cmd', 'cmdtool', 'cmich', 'cmmiller', 'cmos', 'cmp', 'cms', 'cmu', 'cmuvm', 'cn', 'cna', 'cnd', 'cnetris', 'cnews', 'cnm', 'cnsidering', 'cnt', 'co', 'co2', 'coach', 'coast', 'coastal', 'coat', 'coated', 'coats', 'coax', 'coaxial', 'cobalt', 'cobblestone', 'cobcs1', 'cobra', 'coca', 'cochavy', 'cocker', 'cod', 'coda', 'code', 'codecenter', 'coded', 'codes', 'codeset', 'codex', 'coding', 'cods', 'coefficient', 'coerce', 'coerced', 'coexist', 'coffee', 'coffers', 'cohen', 'coherent', 'coil', 'coilormap', 'coincide', 'coincidence', 'col', 'col_len', 'cola', 'colaric', 'colas', 'cold', 'colder', 'coldest', 'cole', 'coleco', 'coleman', 'collapse', 'collapsed', 'collateral', 'colleague', 'colleagues', 'collect', 'collectable', 'collected', 'collecting', 'collection', 'collections', 'collectivity', 'collector', 'collectors', 'college', 'collide', 'collins', 'collision', 'collisions', 'colombo', 'colon', 'colonies', 'colonnade', 'color', 'color_xterm', 'colorado', 'colorboard', 'colorcell', 'colored', 'colorlink', 'colormap', 'colormapfocuspolicy', 'colormaps', 'colors', 'colorscript', 'colorsoft', 'colortable', 'colossal', 'colossus', 'colour', 'coloured', 'colourmap', 'colourmaps', 'colours', 'colt', 'colts', 'columbia', 'columbus', 'columiba', 'column', 'columnists', 'columns', 'colxterm', 'com', 'com1', 'com2', 'com_______oooo_o_oooo_________________', 'coma', 'comanche', 'comapny', 'comapred', 'comatose', 'comb', 'combat', 'combination', 'combinations', 'combine', 'combined', 'combines', 'combining', 'combo', 'combocache', 'combustion', 'come', 'comeback', 'comedy', 'coment', 'comes', 'comet', 'comets', 'comfort', 'comfortable', 'comfortably', 'comic', 'comics', 'comin', 'coming', 'comm', 'comma', 'command', 'commander', 'commands', 'commandwidgetclass', 'comment', 'commentaries', 'commented', 'comments', 'commercial', 'commercially', 'commercials', 'commiseration', 'commision', 'commission', 'commited', 'committee', 'committing', 'committment', 'commmand', 'commnads', 'commodore', 'common', 'commonly', 'commonview', 'comms', 'communica', 'communicate', 'communication', 'communications', 'communicator', 'communique', 'communities', 'community', 'communucations', 'commuters', 'comp', 'compact', 'compacting', 'companies', 'companion', 'company', 'companys', 'compaq', 'comparable', 'comparative', 'compare', 'compare177', 'compared', 'compares', 'comparines', 'comparing', 'comparision', 'comparisions', 'comparison', 'comparisons', 'compartment', 'compass', 'compat', 'compatability', 'compatabilty', 'compatable', 'compatablity', 'compatibility', 'compatibilty', 'compatible', 'compatibles', 'compatiblity', 'compelled', 'compendum', 'compensate', 'comperable', 'compete', 'competent', 'competently', 'competetive', 'competing', 'competition', 'competitions', 'competitive', 'competitors', 'compilation', 'compile', 'compiled', 'compiler', 'compilers', 'compiles', 'compiling', 'complain', 'complaining', 'complains', 'complaint', 'complaints', 'compleat', 'complete', 'completed', 'completely', 'completion', 'completly', 'complex', 'complexity', 'compliance', 'compliant', 'complicated', 'complications', 'complient', 'compliers', 'complilers', 'compnect', 'component', 'components', 'compose', 'composed', 'composer', 'composing', 'composite', 'composite_class', 'compositep', 'composition', 'compound', 'compounds', 'comprehend', 'comprehensive', 'compresion', 'compress', 'compress_exposure', 'compressed', 'compresses', 'compressing', 'compression', 'comprised', 'comprising', 'compromise', 'compromising', 'comprosmised', 'comps', 'comptons', 'compuadd', 'compudyne', 'compulink', 'compusa', 'compuserve', 'computation', 'computations', 'compute', 'computed', 'computer', 'computercity', 'computerland', 'computers', 'computerworld', 'computing', 'computrer', 'comstation', 'comtrade', 'con', 'conan', 'concatenate', 'concealed', 'concealing', 'conceivable', 'concentrate', 'concentrated', 'concentrates', 'concentrating', 'concentrator', 'concentrators', 'concept', 'concepts', 'conceptual', 'concern', 'concerned', 'concerning', 'concerns', 'concert', 'concerts', 'concise', 'conclosion', 'conclude', 'concluded', 'concludes', 'conclusion', 'conclusions', 'conclusive', 'concour', 'concrete', 'concurrent', 'concurrently', 'concussion', 'cond', 'condensation', 'condense', 'condensed', 'condition', 'conditional', 'conditioner', 'conditioni', 'conditioning', 'conditions', 'condo', 'condone', 'conducted', 'conductor', 'cone', 'conecting', 'confentional', 'conference', 'conferences', 'conferencing', 'confering', 'confidence', 'confident', 'config', 'configs', 'configurable', 'configuration', 'configurations', 'configure', 'configured', 'configurenotify', 'configuring', 'confined', 'confirm', 'confirmation', 'confirmed', 'conflict', 'conflicting', 'conflicts', 'conformant', 'conforms', 'confortable', 'confuse', 'confused', 'confusing', 'confusion', 'congenial', 'congested', 'congestion', 'congratulations', 'congressman', 'congroller', 'congruent', 'conjoined', 'conn', 'connect', 'connectability', 'connected', 'connecticut', 'connecting', 'connection', 'connectionflags', 'connectionnumber', 'connections', 'connectivity', 'connectix', 'connector', 'connectors', 'connects', 'conner', 'connetions', 'connexion', 'connick', 'connivance', 'connolly', 'connor', 'connors', 'connversation', 'conor', 'conponents', 'conquered', 'conquers', 'conrad', 'cons', 'conscientious', 'conscious', 'consem', 'consensus', 'consensys', 'consent', 'consequently', 'conservative', 'conserve', 'considdered', 'consider', 'considerable', 'considerably', 'consideration', 'considerations', 'considered', 'considering', 'consist', 'consisted', 'consistent', 'consistently', 'consists', 'consitant', 'consitantly', 'consitered', 'consolation', 'console', 'consolette', 'consolidate', 'consortium', 'conspiracy', 'const', 'constance', 'constant', 'constantine', 'constantino', 'constantly', 'constants', 'constellation', 'constitute', 'constitutes', 'constrained', 'constrains', 'constraint', 'constraints', 'construct', 'constructing', 'construction', 'constructive', 'constructs', 'construed', 'constype', 'consul', 'consult', 'consultant', 'consultants', 'consultation', 'consulted', 'consulting', 'consumed', 'consumer', 'consumers', 'consumes', 'consuming', 'consumption', 'contact', 'contacted', 'contacting', 'contacts', 'contain', 'contained', 'container', 'containers', 'containing', 'contains', 'contaminating', 'contax', 'contemplating', 'contemporary', 'contenders', 'content', 'contents', 'contest', 'contests', 'contex', 'context', 'contexts', 'contiguous', 'continent', 'continental', 'continously', 'continually', 'continue', 'continue_to_dispatch', 'continued', 'continues', 'continuing', 'continuous', 'continuously', 'continuoustelepointer', 'contour', 'contouring', 'contract', 'contracted', 'contracts', 'contradictory', 'contradicts', 'contraption', 'contrary', 'contrast', 'contrib', 'contribute', 'contributed', 'contributing', 'contribution', 'contributions', 'contributors', 'contries', 'control', 'controled', 'controler', 'controlers', 'controlled', 'controller', 'controllers', 'controls', 'contructs', 'contunues', 'conveniant', 'convenience', 'conveniences', 'convenient', 'convension', 'convention', 'conventional', 'conventions', 'conver', 'convergence', 'conversation', 'conversations', 'converse', 'conversing', 'conversion', 'conversions', 'convert', 'convertable', 'converted', 'converter', 'converter_data', 'converters', 'convertible', 'convertibles', 'converting', 'convertor', 'converts', 'convex', 'convience', 'convinced', 'convincing', 'cook', 'cookbook', 'cooked', 'cookies', 'cool', 'cooler', 'coolidge', 'cooling', 'cools', 'cooper', 'cooperation', 'cooperative', 'cooperatively', 'coord', 'coordinate', 'coordinated', 'coordinates', 'coordinator', 'cop', 'copeland', 'copes', 'copied', 'copiers', 'copies', 'copious', 'copmletely', 'coporcessor', 'coprocessor', 'cops', 'copy', 'copyarea', 'copyback', 'copyfromparent', 'copying', 'copylefted', 'copyr', 'copyright', 'copyrighted', 'copyrights', 'copywriters', 'cora', 'coral', 'cord', 'cordless', 'cords', 'cordura', 'core', 'corect', 'coredump', 'corel', 'coreldraw', 'corep', 'corerec', 'corewidget', 'corman', 'corn', 'cornell', 'corner', 'cornered', 'cornering', 'corners', 'corolla', 'corollas', 'corona', 'coronary', 'coronet', 'corp', 'corporate', 'corporation', 'corps', 'corpse', 'corrado', 'corrados', 'correct', 'corrected', 'correcting', 'correction', 'corrections', 'correctly', 'correctness', 'correlation', 'correspon', 'correspond', 'corresponding', 'corresponds', 'corrode', 'corroded', 'corroding', 'corrola', 'corrosion', 'corrupt', 'corrupted', 'corruption', 'corrupts', 'corry', 'corvair', 'corvallis', 'corvette', 'corvettes', 'cory', 'cos', 'cose', 'cosma', 'cosmetic', 'cosmic', 'cossack', 'cost', 'costa', 'costello', 'costing', 'costly', 'costner', 'costomer', 'costs', 'costume', 'costumer', 'cotton', 'could', 'coulda', 'couldn', 'couldnt', 'council', 'count', 'counter', 'counterclockwise', 'counterparts', 'counterstroke', 'counties', 'counting', 'countless', 'countries', 'country', 'countryside', 'county', 'coupe', 'coupes', 'couple', 'coupled', 'couples', 'coupling', 'coupon', 'coupond', 'coupons', 'courage', 'cource', 'courier', 'course', 'courses', 'coursework', 'courseworks', 'court', 'courteous', 'courtesy', 'courts', 'cousin', 'coustic', 'covenent', 'cover', 'coverage', 'covered', 'covering', 'covers', 'cowden', 'cowl', 'cows', 'cox', 'coxial', 'coz', 'cozy', 'cozzlab', 'cp', 'cp3040a', 'cpav', 'cpc3', 'cpcahil', 'cpd', 'cpf', 'cpio', 'cpm', 'cpp', 'cps', 'cpu', 'cpus', 'cqfm', 'cr', 'cr12', 'cr20', 'crabbe', 'crabby', 'crack', 'cracked', 'cracks', 'craft', 'craftsman', 'craftsmen', 'craig', 'cram', 'crammed', 'cramped', 'crane', 'crank', 'crankcase', 'cranking', 'cranks', 'crankshaft', 'crap', 'crash', 'crashed', 'crashes', 'crashing', 'crate', 'craving', 'crawl', 'crawled', 'cray', 'craze', 'crazy', 'crd', 'cream', 'crease', 'create', 'create_8bit_window_on_truecolour_display', 'create_form', 'create_form_widget', 'created', 'creates', 'createwindow', 'creating', 'creation', 'creative', 'creatively', 'creativity', 'creator', 'creats', 'creature', 'creatures', 'credible', 'credit', 'credited', 'credits', 'creek', 'creeping', 'creepy', 'crept', 'crescendo', 'crew', 'crews', 'crime', 'crimes', 'criminal', 'criminals', 'crimp', 'crinkled', 'crisis', 'crisp', 'cristy', 'criteria', 'criterium', 'critical', 'criticize', 'critiquing', 'critiscism', 'crl', 'crome', 'cron', 'cronies', 'crook', 'crooked', 'crop', 'cross', 'crossed', 'crossing', 'crossings', 'crosspost', 'crossposted', 'crossposting', 'crosssing', 'crosstalk', 'crosswire', 'crossword', 'crowley', 'crown', 'crt', 'crucial', 'crudded', 'cruddy', 'crude', 'crue', 'cruel', 'cruise', 'cruiser', 'cruisers', 'cruising', 'crumple', 'crunch', 'crunching', 'crusade', 'crush', 'crusher', 'crusier', 'cruz', 'crx', 'crying', 'crysler', 'crystal', 'crystaled', 'crystals', 'crystalscan', 'cs', 'cs4', 'cs8', 'cs_name', 'csc', 'cse', 'csg', 'csh', 'cshrc', 'csi', 'cslip', 'csm', 'csmes', 'csn', 'cso', 'css', 'csufresno', 'ct', 'ct22', 'ctags', 'cthl', 'cthreads', 'ctid', 'ctlseq2', 'ctlseqs', 'ctp', 'ctr', 'ctrl', 'ctron', 'cts', 'ctw', 'ctwm', 'ctype', 'cu', 'cuba', 'cube', 'cubicles', 'cuddy', 'cue', 'cues', 'cul', 'culprit', 'cult', 'cultists', 'culture', 'cumbersome', 'cummings', 'cummins', 'cunixa', 'cunixf', 'cuny', 'cunyvm', 'cup', 'cupertino', 'cupholder', 'cups', 'cur', 'cure', 'cured', 'curfews', 'curiosity', 'curious', 'curiousity', 'curls', 'currency', 'current', 'currently', 'currenty', 'curriculum', 'curry', 'curs_move', 'curses', 'cursor', 'cursorcolor', 'cursorright', 'cursors', 'cursory', 'curt', 'curtains', 'curtis', 'curve', 'curved', 'curves', 'cushioned', 'custom', 'customer', 'customers', 'customised', 'customizable', 'customization', 'customizations', 'customize', 'customizing', 'cut', 'cute', 'cutlas', 'cutoff', 'cutout', 'cuts', 'cutting', 'cuz', 'cv', 'cvs', 'cvts', 'cwa', 'cwbackingstore', 'cwbackpixel', 'cwborderpixel', 'cwcolormap', 'cwcursor', 'cwd', 'cwdontpropagate', 'cweventmask', 'cwis', 'cwm', 'cwru', 'cx', 'cxhkel', 'cxs2341', 'cxterm', 'cxz6', 'cyan', 'cyberden', 'cyberpunk', 'cycle', 'cycles', 'cycling', 'cyclone', 'cyclones', 'cyclops', 'cylcones', 'cylinder', 'cylinders', 'cylindrical', 'cymbal', 'cynical', 'cypher', 'cyrix', 'cz', 'd0', 'd0s11', 'd3', 'd350', 'd590', 'd6', 'd7', 'd88', 'd8qa', 'd96', 'da', 'dac', 'dad', 'daemon', 'dagger', 'dah', 'dahmer', 'daily', 'dairy', 'daisy', 'daker', 'dakota', 'dal', 'dale', 'dalibor', 'dallas', 'dalls', 'dam', 'damage', 'damaged', 'damaging', 'damark', 'damico', 'dammage', 'damn', 'damnable', 'damned', 'damon', 'damped', 'dams', 'dan', 'dana', 'dance', 'dances', 'dancing', 'dang', 'danger', 'dangerous', 'dangers', 'dangling', 'daniel', 'danish', 'danny', 'dans', 'dante', 'dare', 'daredevil', 'dark', 'darkbawk', 'darken', 'darkest', 'darkhawk', 'darkness', 'darkroom', 'darn', 'darned', 'darpa', 'darrell', 'darryl', 'dart', 'dartmouth', 'darwin', 'daryl', 'das', 'dash', 'dashboard', 'dat', 'data', 'database', 'databases', 'databook', 'databoss', 'datadesk', 'dataframe', 'datapath', 'dataport', 'datastructures', 'dataviz', 'date', 'date_pipe', 'datebook', 'dated', 'datefield', 'datekeys', 'dates', 'datman', 'datsun', 'datsuns', 'daughter', 'daughterboard', 'dave', 'daven', 'davewood', 'davey', 'david', 'david_anthony_guevara', 'davis', 'davisonj', 'dawes', 'day', 'daycare', 'dayna', 'dayne', 'days', 'daystar', 'daytime', 'dayton', 'daytona', 'dazzler', 'db', 'dbase', 'dbell', 'dbgwab', 'dbl', 'dbohdal', 'dbs', 'dbuck', 'dbx', 'dbxtool', 'dbxtra', 'dc', 'dc2120', 'dc2d', 'dc6150s', 'dc6xd', 'dca', 'dce', 'dcfl', 'dcg6759', 'dco', 'dcr', 'dcs', 'dct', 'dcw', 'dd', 'ddap2ale', 'ddepth', 'ddnetconn', 'dds', 'ddx', 'de', 'de7', 'dead', 'deadline', 'deadlock', 'deadly', 'deadpool', 'deal', 'dealer', 'dealers', 'dealership', 'dealerships', 'dealing', 'dealings', 'dealler', 'deals', 'dealt', 'dealy', 'dean', 'dear', 'dearly', 'death', 'deathlok', 'deathstalker', 'deathstar', 'deathstroke', 'debatable', 'debate', 'debating', 'debbie', 'debby', 'debris', 'debug', 'debugged', 'debugger', 'debugging', 'debuging', 'dec', 'decade', 'decades', 'decant', 'decdecision', 'deceased', 'december', 'decent', 'deceptive', 'decide', 'decided', 'decidedly', 'decides', 'deciding', 'decimal', 'decipher', 'decision', 'decisions', 'deck', 'decker', 'decks', 'declaration', 'declarations', 'declare', 'declared', 'declaring', 'decline', 'declined', 'declutch', 'declutching', 'decnet', 'decode', 'decoder', 'decoders', 'decoding', 'decomposecharacterset', 'decomposed', 'decompress', 'decompression', 'decor', 'decoration', 'decorations', 'decoys', 'decrease', 'decreases', 'decreasing', 'decrement', 'decremented', 'decribe', 'decs', 'decstation', 'decstations', 'decterm', 'decuac', 'decut', 'decwindows', 'decwindows_on_x11r4_font', 'decwrite', 'decwrl', 'dedicated', 'deductible', 'deductibles', 'deduction', 'deemed', 'deep', 'deepak', 'deepearth', 'deeper', 'deepthnk', 'def', 'def_colormap', 'deface', 'defacto', 'defaria', 'default', 'defaultcells', 'defaultcolormap', 'defaultcolormapofscreen', 'defaultdepth', 'defaultdepthofscreen', 'defaultfontlist', 'defaultrootwindow', 'defaults', 'defaultscreen', 'defaultvisual', 'defaultvisualofscreen', 'defeat', 'defect', 'defective', 'defects', 'defencieny', 'defend', 'defendent', 'defender', 'defenders', 'defending', 'defense', 'defenseman', 'defensive', 'defer', 'deferexecution', 'deficiency', 'definable', 'definately', 'define', 'defined', 'defines', 'defining', 'definitally', 'definite', 'definitely', 'definition', 'definitions', 'definitive', 'deflates', 'deflect', 'deflector', 'deflectors', 'defogger', 'deform', 'deformable', 'deformed', 'defragger', 'defragmenter', 'defrost', 'defroster', 'deftwmrc', 'defunct', 'defvar', 'deg', 'degauss', 'degradation', 'degrades', 'degree', 'degrees', 'del', 'delaer', 'delaware', 'delay', 'delayed', 'delaying', 'delays', 'delco', 'delcoelect', 'delete', 'deleted', 'deleteordestroy', 'deleting', 'deleware', 'deliberate', 'deliberatly', 'delicate', 'delicious', 'deliver', 'delivered', 'delivering', 'delivery', 'dell', 'delorme', 'delphi', 'delt_xloc', 'delt_yloc', 'delta', 'deltagraph', 'deltapoint', 'deltas', 'delude', 'deluged', 'deluxe', 'deluxeý', 'delved', 'dem', 'demand', 'demanding', 'demands', 'demarco', 'demi', 'demo', 'demoed', 'demographic', 'demographics', 'demon', 'demonstrate', 'demonstrated', 'demonstrates', 'demonstrating', 'demonstration', 'demonstrational', 'demos', 'dempster', 'demystifying', 'den', 'deneba', 'denmark', 'dennis', 'dennisk', 'dennon', 'denon', 'dense', 'densities', 'density', 'dent', 'dental', 'dented', 'dents', 'denver', 'denville', 'deny', 'denys', 'dep', 'depart', 'department', 'departments', 'depeche', 'depend', 'dependable', 'dependant', 'depended', 'dependency', 'dependend', 'dependent', 'depending', 'depends', 'depleting', 'depletion', 'deposit', 'deposited', 'deposits', 'deprecated', 'depreciate', 'depreciated', 'depreciates', 'depreciation', 'depress', 'depressed', 'depression', 'dept', 'depth', 'depths', 'der', 'derek', 'derivate', 'derivates', 'derivations', 'derivative', 'derivatives', 'derived', 'des', 'desc', 'descendants', 'describe', 'described', 'describes', 'describing', 'describtion', 'description', 'descriptions', 'descriptive', 'descriptor', 'descriptors', 'desert', 'deserve', 'deserves', 'desi', 'design', 'designated', 'designation', 'designations', 'designed', 'designer', 'designers', 'designing', 'designs', 'desirable', 'desire', 'desired', 'desiscion', 'desk', 'deskjet', 'deskjets', 'desknet', 'desks', 'deskterm', 'desktop', 'desktops', 'deskwriter', 'desolder', 'desoto', 'despair', 'desparate', 'desperate', 'desperately', 'despite', 'desqview', 'destas', 'destination', 'destinations', 'destr', 'destroy', 'destroy_count', 'destroy_list', 'destroycallbacks', 'destroydisplay', 'destroyed', 'destroying', 'destroynotify', 'destroyrec', 'destroys', 'destruction', 'destructor', 'destructors', 'destructs', 'det', 'detachable', 'detached', 'detaching', 'detail', 'detail_win', 'detailed', 'detailing', 'details', 'detect', 'detected', 'detecting', 'detection', 'detective', 'detector', 'detectors', 'detects', 'deterent', 'detergent', 'detergents', 'deteriorate', 'deteriorating', 'deterioration', 'determination', 'determine', 'determined', 'determines', 'determining', 'determinstic', 'deterrent', 'deterring', 'detested', 'detriot', 'detroit', 'dev', 'devaluation', 'devalued', 'develeopment', 'develop', 'develope', 'developed', 'developer', 'developers', 'developing', 'development', 'developments', 'devguide', 'deviates', 'deviations', 'device', 'devices', 'devil', 'devised', 'devises', 'devising', 'devloping', 'devoted', 'devour', 'devvax', 'deze', 'df', 'dfoo', 'dfs', 'dftsrv', 'dg', 'dga', 'dgac', 'dgr', 'dh3q', 'dhk', 'dhuse', 'di', 'diablery', 'diablo', 'diagnosis', 'diagnostic', 'diagnostics', 'diagonal', 'diagram', 'diagrams', 'dial', 'dialect', 'dialin33635', 'dialing', 'dialix', 'dialog', 'dialogic', 'dialogs', 'dialogshell', 'dialogwidgetclass', 'dialup', 'diameter', 'diamond', 'diamonds', 'diane', 'diaphragm', 'diaphragms', 'diaphram', 'diary', 'dice', 'dick', 'dickens', 'dicker', 'dickering', 'dictate', 'dictates', 'dictionaries', 'dictionary', 'did', 'didn', 'die', 'diecast', 'died', 'diego', 'dies', 'diesel', 'diesels', 'dietrijj', 'diff', 'diff3', 'differ', 'differed', 'difference', 'differences', 'different', 'differential', 'differentials', 'differentiate', 'differently', 'differing', 'differnent', 'differs', 'difficult', 'difficulties', 'difficulty', 'difficuty', 'diffrent', 'diffs', 'dig', 'digest', 'digested', 'digestification', 'digi', 'digibd', 'diginst', 'digit', 'digital', 'digitalequipmentcorporation', 'digitally', 'digitize', 'digitizer', 'digitizing', 'digits', 'dik', 'diku', 'dilemmas', 'dilmore', 'dim', 'dimension', 'dimensional', 'dimensions', 'dimmer', 'dimming', 'dims', 'din', 'dina', 'dinah', 'dinette', 'ding', 'dingbats', 'dinged', 'dings', 'dingy', 'dining', 'dinked', 'dinks', 'dinner', 'dinning', 'dino', 'dinq', 'diode', 'dioramas', 'dip', 'dipl', 'dipping', 'dipslaying', 'dipstick', 'dipswitches', 'dir', 'dirac', 'direcotry', 'direct', 'directcolor', 'directed', 'directing', 'direction', 'directional', 'directionality', 'directions', 'directive', 'directives', 'directly', 'director', 'directories', 'directors', 'directory', 'directtex', 'dirname', 'dirreservedarea', 'dirt', 'dirty', 'dis', 'disabilities', 'disable', 'disabled', 'disables', 'disabling', 'disadvantage', 'disadvantages', 'disagree', 'disapear', 'disappear', 'disappeared', 'disappears', 'disappering', 'disappointed', 'disappointing', 'disappointment', 'disassemble', 'disc', 'discarded', 'discern', 'discernible', 'discharge', 'discharging', 'discipline', 'disciplined', 'disclaimer', 'disclaimers', 'disclaims', 'disclamer', 'disclosure', 'discman', 'discography', 'discomfort', 'disconcerting', 'disconnect', 'disconnected', 'disconnecting', 'discontinue', 'discontinued', 'discount', 'discounted', 'discounts', 'discourage', 'discouragement', 'discover', 'discovered', 'discredited', 'discrete', 'discriminated', 'discriminating', 'discs', 'discuss', 'discussed', 'discusses', 'discussing', 'discussion', 'discussions', 'discwasher', 'disease', 'disencourage', 'disengage', 'disgruntled', 'disguise', 'disguised', 'disgust', 'disgusted', 'disgusting', 'dish', 'disheartened', 'dishes', 'dishwasher', 'dishwashing', 'disinfectent', 'disitribution', 'disk', 'diskdoubler', 'diskette', 'diskettes', 'diskman', 'disks', 'diskwriter', 'dislike', 'dislikes', 'dislocation', 'dismiss', 'disney', 'disobey', 'disorder', 'disordered', 'disp_data', 'disparity', 'dispatch_level', 'dispatcher', 'dispatching', 'dispersion', 'displacement', 'displacing', 'display', 'display0', 'display_name', 'displaycells', 'displayed', 'displayheight', 'displaying', 'displaymanager', 'displays', 'displaywidth', 'disposal', 'disposing', 'dispute', 'disputes', 'disquise', 'dissappionted', 'dissatisfied', 'dissatisfying', 'dissected', 'disseminate', 'dissertation', 'dissonant', 'dist', 'distance', 'distances', 'distant', 'distillates', 'distinct', 'distinction', 'distinctions', 'distinctive', 'distinctly', 'distinguish', 'distinguished', 'distorted', 'distortion', 'distracting', 'distraction', 'distractions', 'distributable', 'distribute', 'distributed', 'distributes', 'distributing', 'distribution', 'distributions', 'distributor', 'distributors', 'district', 'distruction', 'disturb', 'disturbing', 'dit', 'ditch', 'dithered', 'dithering', 'ditka', 'ditroff', 'ditto', 'div', 'dive', 'divergent', 'diverse', 'diversity', 'divide', 'divided', 'divider', 'dividers', 'dividing', 'division', 'divisions', 'divluge', 'divots', 'dixie', 'dizzy', 'dj', 'djk', 'dk', 'dl', 'dl3j', 'dleonard', 'dlists', 'dlneal', 'dm', 'dma', 'dmaluso', 'dmc', 'dmm', 'dmotifbc', 'dmp', 'dmv', 'dmv1i', 'dn', 'dn2500', 'dna', 'dni', 'dns', 'do', 'do_not_propagate_mask', 'do_some_work', 'doblue', 'doc', 'dock', 'docked', 'docking', 'docks', 'docs', 'doctor', 'doctors', 'document', 'documentation', 'documented', 'documenting', 'documents', 'dod', 'dodge', 'dodgey_', 'doe', 'doens', 'does', 'doesn', 'doesnt', 'dog', 'dogreen', 'dogs', 'dohc', 'doin', 'doing', 'doit', 'dolby', 'doleh', 'dollar', 'dollars', 'dolls', 'dolphin', 'domain', 'domains', 'dome', 'domestic', 'domf', 'dominance', 'dominant', 'domino', 'domke', 'don', 'donaldson', 'donated', 'done', 'donestr', 'donna', 'donno', 'donor', 'dont', 'doom', 'doomer', 'door', 'doors', 'doorstep', 'dored', 'dorham', 'dorm', 'dorms', 'dorothy', 'dortmund', 'dos', 'dos5', 'dos6', 'dose', 'dosshell', 'dot', 'dots', 'double', 'doubled', 'doubler', 'doublers', 'doublespace', 'doublespin', 'doubling', 'doubt', 'doubtful', 'doubts', 'doug', 'douglas', 'dov', 'dove', 'dover', 'dovetail', 'down', 'downbeat', 'downhill', 'download', 'downloaded', 'downloads', 'downright', 'downs', 'downshift', 'downshifting', 'downshifts', 'downstairs', 'downtown', 'downward', 'downwards', 'dows', 'doyle', 'dozen', 'dozens', 'dp', 'dpi', 'dpl', 'dpmi', 'dps', 'dpsextension', 'dpslabel', 'dpy', 'dqa', 'dr', 'dracula', 'draft', 'drafting', 'drag', 'dragdrop', 'dragged', 'dragging', 'dragon', 'dragonlance', 'dragons', 'dragonslayer', 'dragsters', 'drain', 'drained', 'draing', 'draining', 'dram', 'drama', 'dramatic', 'dramatically', 'drastic', 'draw', 'draw_area_frame', 'drawable', 'drawable_id', 'drawables', 'drawbacks', 'drawbutton', 'drawed', 'drawer', 'drawers', 'drawindex', 'drawing', 'drawingarea', 'drawingarea1', 'drawings', 'drawline', 'drawn', 'drawnbuttons', 'drawplot', 'draws', 'dream', 'dreamland', 'dreams', 'dresden', 'dressed', 'dresser', 'dresses', 'drew', 'drexel', 'dribble', 'dried', 'drift', 'drill', 'drilled', 'drink', 'drinking', 'drinks', 'drivability', 'drivable', 'drive', 'driveability', 'driveline', 'driven', 'driver', 'driverand', 'drivers', 'drives', 'drivetrain', 'driveware', 'driveway', 'driveways', 'drivin', 'driving', 'drl', 'drm', 'drop', 'dropped', 'dropping', 'drops', 'dropsite', 'drove', 'drow', 'drown', 'drugs', 'druid', 'druids', 'drum', 'drumroll', 'drums', 'drunken', 'drwxr', 'dry', 'dryer', 'ds', 'ds15', 'ds_relname', 'dsc', 'dsd', 'dsfvax', 'dshaker', 'dshape', 'dsi', 'dsinc', 'dsmith', 'dsnyder', 'dsouleles', 'dsp', 'dsps', 'dsrand', 'dst', 'dsu', 'dt', 'dtc', 'dtcpconn', 'dtek', 'dtk', 'dtmedin', 'dtmf', 'dtp', 'dtr', 'du', 'duajj', 'dual', 'dubbing', 'dubing', 'dublin', 'dubois', 'duck', 'duckie', 'dude', 'dudes', 'due', 'duel', 'duidelijk', 'duidelijke', 'duke', 'dull', 'dumais', 'dumb', 'dumbest', 'dummy', 'dump', 'dumped', 'dumping', 'dumps', 'duncan', 'dune', 'dungeon', 'dunixconn', 'dunno', 'duo', 'duo210', 'duodocks', 'duos', 'dup', 'dupe', 'duplex', 'duplexer', 'duplexers', 'duplexing', 'duplicate', 'duplicated', 'duplicating', 'dupont', 'dur', 'dura', 'durability', 'durable', 'duran', 'durant', 'duration', 'durham', 'during', 'duro', 'dusk', 'dusmadso', 'dust', 'dustcovers', 'duster', 'dustribute', 'dutch', 'duties', 'duts', 'duty', 'duvm', 'dux', 'dv', 'dvi', 'dvireader', 'dvx', 'dw', 'dweebs', 'dwex', 'dwt', 'dx', 'dx2', 'dxcalendar', 'dxf', 'dxfc', 'dxmail', 'dxpaint', 'dxpsview', 'dxterm', 'dxtstringdefines', 'dxwm', 'dyanfile', 'dyanimic', 'dyanmic', 'dye', 'dying', 'dykes', 'dylan', 'dynakit', 'dynamic', 'dynamicly', 'dynamics', 'e1', 'e15', 'e2', 'e26c2', 'e3', 'e32', 'e4', 'e757e', 'e9', 'e_mail', 'ea', 'ea6sthlia9hf', 'eabu288', 'each', 'eafs000', 'eager', 'eagle', 'eagles', 'eaiser', 'eap', 'ear', 'earl', 'earle', 'earlier', 'earliest', 'early', 'earn', 'earns', 'earphone', 'ears', 'earth', 'earthly', 'ease', 'easel', 'easer', 'easier', 'easiest', 'easily', 'east', 'eastern', 'eastwood', 'easu351', 'easy', 'easyflow', 'easynet', 'easytalk', 'eat', 'eatchar', 'eaten', 'eater', 'eating', 'eats', 'eau', 'eb', 'eb0', 'ebay', 'ebb', 'eberhardt', 'ebodin', 'ec', 'ec030', 'ec92', 'ecc', 'ecco', 'ecf', 'ech', 'echo', 'echoed', 'echoes', 'echoing', 'echte', 'eckler', 'eclipse', 'eclipsed', 'eclipses', 'ecm', 'ecn', 'econo', 'econoboxes', 'economic', 'economical', 'economically', 'economics', 'economy', 'ecs', 'ect', 'ecvt', 'ed', 'ed9r', 'eddie', 'edge', 'edges', 'edi', 'edinburgh', 'edison', 'edit', 'editable', 'edited', 'editing', 'edition', 'editions', 'editor', 'editorial', 'editors', 'editres', 'edits', 'edmund', 'edsel', 'edt', 'edu', 'education', 'educational', 'educorp', 'edv', 'edward', 'ee', 'ee87', 'eece', 'eecs', 'eeee', 'eeeee', 'eei', 'eeiihy', 'een', 'eeprom', 'ef', 'effect', 'effective', 'effectively', 'effects', 'efficiency', 'efficient', 'efficiently', 'effort', 'effortlessly', 'efforts', 'efisher', 'eg', 'ega', 'ega480', 'egg', 'egh', 'ego', 'egr', 'egrep', 'egtyknxh49sjf2ei', 'egyptian', 'eh', 'ei', 'eico', 'eight', 'eightbitinput', 'eightbitoutput', 'eimac', 'einstein', 'einstuerzende', 'eipbd0c', 'eis', 'eisa', 'either', 'ej', 'ejected', 'ejecting', 'ejeklint', 'ejn', 'ejv2j', 'el', 'elaborate', 'elan', 'elbow', 'elected', 'electorinic', 'electornic', 'electret', 'electric', 'electrical', 'electricity', 'electron', 'electronic', 'electronically', 'electronics', 'electrons', 'electrostatic', 'electrotechnical', 'elefant', 'elegant', 'elegantly', 'elektek', 'elektra', 'element', 'elementals', 'elementary', 'elements', 'elemnts', 'eleven', 'eligible', 'eliminate', 'eliminated', 'eliminates', 'eliminating', 'elimination', 'eliminator', 'elite', 'elizabeth', 'elk', 'ellen', 'elliott', 'ellis', 'ellwell', 'elm', 'elographics', 'else', 'elses', 'elsewhere', 'elsid', 'elton', 'elusive', 'elven', 'elves', 'elvira', 'elvis', 'em', 'emacs', 'emai', 'email', 'emailing', 'emanuelstr', 'emax', 'embarassing', 'embed', 'embedded', 'embedding', 'embellishments', 'embodies', 'embryology', 'emergency', 'emerging', 'emerson', 'emissions', 'emit', 'emitted', 'emory', 'emotions', 'emough', 'emperor', 'emphasis', 'empire', 'employed', 'employee', 'employeer', 'employees', 'employer', 'employment', 'emptied', 'emptor', 'empty', 'emptying', 'ems', 'emsworth', 'emu', 'emulaser', 'emulate', 'emulated', 'emulates', 'emulating', 'emulation', 'emulator', 'emulators', 'emulatorw', 'emulex', 'emv', 'en', 'enable', 'enabled', 'enabler', 'enables', 'enabling', 'enacters', 'enamel', 'enberend', 'encapsulate', 'encapsulated', 'encapsulates', 'encapsulation', 'encased', 'enclose', 'enclosed', 'enclosed_____', 'enclosing', 'enclosures', 'encode_str', 'encoded', 'encoding', 'encompasses', 'encounter', 'encountered', 'encountering', 'encounters', 'encourage', 'encouraged', 'encumbered', 'encyclocpedia', 'encyclopedia', 'end', 'endangering', 'ended', 'endif', 'ending', 'endlessly', 'endorsed', 'endorsement', 'endorsing', 'ends', 'enemy', 'energize', 'energy', 'enet', 'enforce', 'enforcement', 'eng', 'engage', 'engaged', 'engagemen', 'engagement', 'engaging', 'engelbertink', 'engin', 'engine', 'engineer', 'engineered', 'engineering', 'engineers', 'engines', 'england', 'english', 'enha', 'enhacemened', 'enhance', 'enhanced', 'enhancement', 'enhancements', 'enhancer', 'enhancing', 'enig', 'enjoy', 'enjoyable', 'enjoyment', 'enjoys', 'enlarge', 'enlarged', 'enlarger', 'enlarges', 'enlighten', 'enlite', 'enormous', 'enormously', 'enough', 'enquiries', 'ensco', 'ensure', 'ensures', 'entail', 'enter', 'entered', 'entering', 'enterpoop', 'enterprise', 'entertaiment', 'entertain', 'entertainment', 'enterwindowmask', 'enthusiasm', 'enthusiast', 'enthusiasts', 'enthusiatic', 'entire', 'entirely', 'entirety', 'entities', 'entitled', 'entrance', 'entrants', 'entries', 'entry', 'entry_addr1', 'entry_addr2', 'enumerated', 'enumeration', 'env', 'envelope', 'envelopes', 'enviornment', 'environment', 'environmental', 'environments', 'envisio', 'envy', 'eo', 'eof', 'eof_not_ok', 'eof_ok', 'eos', 'ep', 'epa', 'epcot', 'eperm', 'epfl', 'ephraim', 'episode', 'episodes', 'epistemology', 'epitome', 'epoch', 'epoch_sec', 'epoxy', 'epping', 'eprom', 'eproms', 'eps', 'epson', 'epstein', 'eq', 'eqn', 'equal', 'equalizer', 'equally', 'equals', 'equation', 'equations', 'equilibrium', 'equilizer', 'equilizers', 'equip', 'equipement', 'equipment', 'equipped', 'equipted', 'equiv', 'equivalent', 'equivalents', 'er', 'er1', 'er971y', 'era', 'erase', 'erased', 'eraser', 'erases', 'erasing', 'erasure_sl', 'erc', 'erex', 'ergonomic', 'ergonomically', 'eric', 'erich', 'erick', 'ericsson', 'ericy', 'eridan', 'erik', 'erlangen', 'ernst', 'eroff', 'errant', 'errata', 'erratic', 'errno', 'erroll', 'error', 'errors', 'ersatz', 'erste', 'es', 'es300', 'esa', 'esac', 'esc', 'escalations', 'escape', 'escaped', 'escapes', 'escherknot', 'escort', 'escorts', 'escott', 'escpecially', 'esdi', 'ese', 'esge', 'eshneken', 'esix', 'esoteric', 'esp', 'espace', 'espcially', 'especially', 'espree', 'ess', 'essence', 'essential', 'essentially', 'essentials', 'est', 'est5edt', 'established', 'establishes', 'estamate', 'estate', 'estefan', 'estimate', 'estimated', 'estimates', 'et', 'et3000', 'et4000', 'etags', 'etal', 'etaylor', 'etc', 'eternal', 'ethan', 'ethanol', 'ether', 'ethercoax', 'etherlan', 'ethernet', 'etherprint', 'etherroute', 'ethertalk', 'ethyl', 'etiquette', 'etiquitte', 'etl', 'ets', 'eu', 'euc', 'eudora', 'eung1', 'euq29sj', 'euro', 'europa', 'europarc', 'europe', 'european', 'eurowiper', 'ev', 'eval', 'evaluate', 'evaluated', 'evaluating', 'evaluation', 'evalulated', 'evanston', 'eveen', 'even', 'evening', 'evenings', 'evens', 'event', 'event_mask', 'eventhandler', 'events', 'eventual', 'eventuality', 'eventually', 'evenzo', 'ever', 'evercom', 'everex', 'everone', 'every', 'everybody', 'everyday', 'everylast', 'everyone', 'everything', 'everywhere', 'eves', 'evidence', 'evidenced', 'evident', 'evidently', 'evil', 'evnt_mask', 'evolution', 'evolutionary', 'evolve', 'evreything', 'ew', 'ewhen', 'ews', 'ews4800', 'ewz', 'ex', 'exabyte', 'exact', 'exactly', 'exaggerated', 'examination', 'examine', 'examined', 'examining', 'examintion', 'example', 'examples', 'exams', 'excalibur', 'exceed', 'exceeding', 'exceedingly', 'exceeds', 'exceeing', 'excel', 'excellect', 'excellent', 'excellently', 'except', 'exception', 'exceptional', 'exceptions', 'excercise', 'excerpt', 'excerpts', 'excess', 'excessive', 'excessively', 'exchangable', 'exchange', 'exchanged', 'exchanging', 'excises', 'excited', 'exclaim', 'exclude', 'excluded', 'excluding', 'exclusion', 'exclusive', 'exclusively', 'excuse', 'excused', 'exdiff', 'exe', 'exec', 'execellent', 'execs', 'executable', 'executables', 'execute', 'executed', 'executefunction', 'executes', 'executing', 'execution', 'executive', 'execv', 'exeeding', 'exept', 'exercise', 'exhaust', 'exhausted', 'exhausting', 'exhausts', 'exhibit', 'exhibition', 'exhibits', 'exist', 'existance', 'existed', 'existence', 'existent', 'existing', 'exists', 'exit', 'exitcallback', 'exited', 'exiting', 'exitpushbutton', 'exits', 'exitserver', 'exitval', 'exitworkproc', 'exocode', 'exodus', 'exotic', 'exp', 'expand', 'expandable', 'expanded', 'expander', 'expandibility', 'expanding', 'expands', 'expansion', 'expasion', 'expecially', 'expect', 'expectation', 'expectations', 'expected', 'expectedly', 'expecting', 'expects', 'expeditously', 'expend', 'expending', 'expense', 'expenses', 'expensive', 'experience', 'experienced', 'experiences', 'experiencing', 'experiment', 'experimental', 'experimentation', 'experimented', 'experimenting', 'experiments', 'expert', 'expertise', 'experts', 'expierence', 'expierience', 'expiration', 'expired', 'expires', 'expiring', 'explain', 'explained', 'explaining', 'explains', 'explanatin', 'explanation', 'explanations', 'explicit', 'explicitely', 'explicitly', 'exploit', 'explore', 'explored', 'explorer', 'explorers', 'explosion', 'explscript', 'expo', 'export', 'exported', 'expose', 'exposed', 'exposing', 'exposure', 'exposureevent', 'exposuremask', 'exposures', 'expound', 'expr', 'express', 'expressed', 'expressing', 'expression', 'expressions', 'expressmodem', 'expressway', 'exspecially', 'ext', 'extend', 'extended', 'extending', 'extends', 'extensible', 'extension', 'extensions', 'extensive', 'extensively', 'extenstion', 'extent', 'extention', 'exterior', 'extern', 'external', 'externally', 'externals', 'extinguisher', 'extra', 'extra_libraries', 'extracted', 'extracting', 'extraction', 'extralibraries', 'extraordinarily', 'extraordinary', 'extras', 'extratresstials', 'extreme', 'extremely', 'exug', 'exxon', 'ey', 'eyc', 'eye', 'eyes', 'ezr3', 'ezx', 'f1', 'f10', 'f11', 'f12', 'f16', 'f1i9', 'f2', 'f2ehg786', 'f3', 'f4', 'f4ix4irnykb', 'f4nmlp5jd', 'f5', 'f5c96ev92', 'f5d', 'f6', 'f7', 'f8', 'f83y', 'f88', 'f88e9u', 'f9', 'f900', 'f_setfd', 'f_squeezeleft', 'fabbrica', 'fabian', 'fabric', 'fabrication', 'face', 'faced', 'faceplate', 'facilitate', 'facilities', 'facility', 'facing', 'fact', 'facto', 'factor', 'factors', 'factory', 'factorydefaults', 'facts', 'factual', 'fad', 'fade', 'faded', 'fader', 'fades', 'faeries', 'fag', 'fahrvergnugen', 'fail', 'failed', 'failing', 'fails', 'failure', 'failures', 'fair', 'fairfax', 'fairlady', 'fairly', 'fairmount', 'fairness', 'faisal', 'faith', 'fake', 'fakefully', 'falcon', 'fall', 'fallback', 'fallen', 'falling', 'falls', 'false', 'faludi', 'fame', 'familar', 'familiar', 'familiarize', 'families', 'family', 'famous', 'fan', 'fancier', 'fancy', 'fang', 'fans', 'fant', 'fantasti', 'fantastic', 'fantastische', 'fantasy', 'faq', 'faqs', 'far', 'farad', 'farce', 'fare', 'fareheit', 'farm', 'farmer', 'farrar', 'farrell', 'farringdon', 'farside', 'fart', 'fascinating', 'fascination', 'fashion', 'fast', 'fastcache', 'faster', 'fastest', 'fastload', 'fastwrite', 'fat', 'fatal', 'fate', 'father', 'fault', 'faulterd', 'faults', 'faulty', 'favor', 'favorable', 'favorably', 'favored', 'favorite', 'favourable', 'fax', 'faxability', 'faxes', 'faxstf', 'fazah', 'fb', 'fbi', 'fbm', 'fbtab', 'fc', 'fcc', 'fcntl', 'fcp', 'fd', 'fdd', 'fdhd', 'fe1mcbikfqc', 'feace', 'fear', 'fears', 'feasibility', 'feasible', 'feast', 'feat', 'featherweight', 'feature', 'featured', 'features', 'featuring', 'feb', 'february', 'fed', 'federal', 'fedex', 'fedunix', 'fee', 'feed', 'feedback', 'feeder', 'feeders', 'feeds', 'feel', 'feeling', 'feels', 'fees', 'feet', 'feezing', 'feg', 'feign', 'fekete', 'fell', 'fellow', 'felt', 'felts', 'female', 'fenced', 'fences', 'fencing', 'fender', 'fenders', 'feng', 'feo', 'feof', 'fer', 'feral', 'ferarries', 'ferguson', 'ferkel', 'ferrari', 'ferror', 'fervour', 'festiva', 'fetch', 'fetched', 'fetches', 'fetchfile', 'fetching', 'few', 'fewer', 'ff', 'ff1v', 'fflush', 'ffs', 'fft', 'fg', 'fgetc', 'fgets', 'fgreco', 'fgrep', 'fh', 'fhg', 'fhnfmq', 'fhrc', 'fi', 'fiat', 'fiberglass', 'ficor', 'fiddle', 'fiddling', 'fidelity', 'fidn', 'fido', 'fidonet', 'field', 'fields', 'fierce', 'fiero', 'fiesta', 'fife', 'fifth', 'fight', 'fighter', 'fighters', 'fighting', 'figuere', 'figure', 'figured', 'figures', 'figuring', 'file', 'filecascade', 'filecomplete', 'filedialog', 'filemgr', 'filename', 'filenames', 'fileno', 'filenominator', 'filepulldown', 'filer', 'files', 'fileselector', 'filesharing', 'filesystem', 'filesystems', 'filing', 'fill', 'filled', 'filler', 'filling', 'fills', 'film', 'filt', 'filter', 'filtered', 'filtering', 'filters', 'fin', 'final', 'finale', 'finalized', 'finally', 'finals', 'finaly', 'finance', 'finances', 'financial', 'financing', 'find', 'find2perl', 'finder', 'finding', 'findings', 'finds', 'fine', 'fined', 'finest', 'fing', 'finger', 'fingernail', 'fingure', 'finish', 'finished', 'finishes', 'finite', 'finland', 'fins', 'fionread', 'fior', 'fire', 'firebird', 'firehawk', 'firend', 'fireplace', 'firing', 'firm', 'firmly', 'firmware', 'first', 'firstclass', 'firsthand', 'firstly', 'firts', 'fish', 'fishbomb', 'fisher', 'fisherman', 'fishers', 'fishfinder', 'fishing', 'fishtailing', 'fishy', 'fist', 'fit', 'fitmail', 'fitness', 'fits', 'fitted', 'fitting', 'five', 'fix', 'fixable', 'fixed', 'fixer', 'fixes', 'fixincludes', 'fixing', 'fj', 'fj05', 'fj40', 'fkeyword', 'fl', 'fla', 'flag', 'flagged', 'flagname', 'flags', 'flamage', 'flame', 'flamed', 'flames', 'flaming', 'flanagan', 'flanery', 'flanger', 'flared', 'flash', 'flashed', 'flashes', 'flashing', 'flashy', 'flat', 'flatters', 'flavors', 'flaw', 'flawed', 'flawless', 'flawlessly', 'flaws', 'fled', 'fledged', 'fleet', 'flemming', 'flesh', 'flex', 'flexible', 'flexon', 'flick', 'flicker', 'flickering', 'flickers', 'flight', 'fling', 'flink', 'flip', 'flipped', 'float', 'floating', 'floatingpoint', 'floation', 'flocked', 'flood', 'flooding', 'floor', 'floored', 'floorpan', 'floors', 'floppies', 'floppies_they', 'floppy', 'flops', 'floptical', 'flopticals', 'flopy', 'florida', 'flounder', 'flourish', 'flow', 'flowers', 'flowmaster', 'floyd', 'fluctuations', 'fluent', 'fluid', 'fluidic', 'fluids', 'fluke', 'fluorocarbons', 'flush', 'flux', 'fly', 'flyback', 'flying', 'flynn', 'fm', 'fmr', 'fn', 'fo', 'foam', 'fob', 'focal', 'focus', 'focus_color', 'focuser', 'focuses', 'focuslenience', 'foe', 'foes', 'fof', 'fog', 'fogged', 'foggy', 'foil', 'foiling', 'fold', 'folddow', 'folded', 'folder', 'folding', 'foldout', 'folds', 'folk', 'folkert', 'folks', 'follow', 'followed', 'followers', 'followinf', 'following', 'follows', 'followup', 'followups', 'font', 'fontlist', 'fontpath', 'fonts', 'fontutils', 'foo', 'foobtn', 'food', 'fool', 'fooling', 'foolish', 'foolkiller', 'fools', 'foot', 'football', 'footed', 'footloose', 'footnote', 'footnotes', 'footprint', 'fopen', 'for', 'forbes', 'forbid', 'forbidden', 'force', 'force_client_ss', 'forced', 'forces', 'forcing', 'ford', 'fords', 'fore', 'forebears', 'forecast', 'foreground', 'foreign', 'foremost', 'forest', 'forever', 'forget', 'forgetfulness', 'forgettable', 'forgetting', 'forgive', 'forgiving', 'forgot', 'forgotten', 'forground', 'fork', 'forked', 'form', 'form_view', 'form_view_height', 'formal', 'formally', 'format', 'formated', 'formating', 'formats', 'formatted', 'formatter', 'formatters', 'formatting', 'formed', 'former', 'formerly', 'formfeed', 'forming', 'forms', 'formula', 'formulars', 'formwidgetclass', 'forrest', 'forsale', 'forseeable', 'forsman', 'forssen', 'forsythe', 'fort', 'forte', 'fortegraph', 'forth', 'forthcoming', 'fortran', 'fortress', 'fortunatly', 'forum', 'forumulas', 'forward', 'forwarded', 'forwarding', 'forwards', 'fostex', 'foto', 'found', 'foundation', 'founded', 'founder', 'fountain', 'four', 'fourteen', 'fourth', 'fourties', 'fowlkes', 'fox', 'foxpro', 'foxtrot', 'foyer', 'fozzard', 'fp', 'fpcc', 'fprintf', 'fps', 'fpu', 'fputc', 'fputs', 'fr', 'fractal', 'fraction', 'fractionally', 'fractions', 'frage', 'fragment', 'fragments', 'frambuffers', 'frame', 'framebuffer', 'framebuffers', 'framemaker', 'frames', 'framework', 'framewriter', 'framingham', 'france', 'frances', 'franchise', 'franchises', 'francis', 'francisco', 'francois', 'frank', 'frankie', 'franklin', 'frankly', 'franks', 'frans', 'fransisco', 'fraud', 'fread', 'freaks', 'fred', 'freddie', 'fredm', 'fredriksson', 'free', 'freebie', 'freed', 'freedman', 'freedom', 'freedoms', 'freefontcontext', 'freehand', 'freeing', 'freely', 'freeman', 'freenet', 'freeport', 'frees', 'freeware', 'freewares', 'freeway', 'freewayin', 'freeways', 'freeze', 'freezes', 'freezing', 'freiburg', 'freight', 'freihe', 'freind', 'freja', 'fremont', 'french', 'freq', 'frequencies', 'frequency', 'frequent', 'frequently', 'frere', 'fresco', 'frescoe', 'fresh', 'freshly', 'freshman', 'fresno', 'freudian', 'fri', 'friction', 'friday', 'fried', 'friedman', 'friend', 'friendly', 'friendlyness', 'friends', 'fries', 'frighteningly', 'frightful', 'frii', 'frim', 'fringes', 'frip', 'fritsch', 'fro', 'frog', 'frogskins', 'frolic', 'from', 'fromval', 'fron', 'front', 'frontplate', 'fronts', 'frost', 'frotz', 'froups', 'frowned', 'frozen', 'frustrated', 'frustrating', 'frustration', 'fry', 'fryer', 'frysinger', 'fs', 'fs2', 'fs2fast', 'fs4', 'fscanf', 'fsck', 'fset', 'fsf', 'fsinfo', 'fslsfonts', 'fssd', 'fstat', 'fstobdf', 'ft', 'ft415', 'ft6000', 'ftam', 'ftc', 'ftc500', 'ftcollinsco', 'ftp', 'ftpmail', 'ftptool', 'fubared', 'fuck', 'fuel', 'fuentez', 'fuer', 'fujistu', 'fujitsu', 'fuk', 'full', 'fuller', 'fully', 'fulton', 'fumble', 'fun', 'func', 'function', 'functional', 'functionality', 'functions', 'fund', 'fundamental', 'fundamentally', 'funded', 'fundings', 'funds', 'funet', 'funky', 'funner', 'funny', 'funtional', 'furnish', 'furnished', 'furniture', 'further', 'furthermore', 'furthur', 'furture', 'fury', 'fuscare', 'fuscus', 'fuse', 'fused', 'fuses', 'fusi', 'fusion', 'futaba', 'futon', 'future', 'fuzz', 'fuzzy', 'fwb', 'fwd', 'fwf', 'fwi', 'fwiw', 'fwr8bv', 'fwritable', 'fx', 'fx286', 'fx386', 'fxwg', 'fyi', 'fz01', 'fza', 'g0a', 'g20', 'g3e', 'g80xl', 'ga5000', 'gabe', 'gabriel', 'gadget', 'gadgets', 'gads', 'gaet', 'gags', 'gain', 'gained', 'gaining', 'gal', 'galant', 'galaxie', 'galaxy', 'galen', 'galileo', 'gallon', 'gallons', 'gallows', 'galt', 'galvanized', 'game', 'gameboy', 'gameing', 'gamelands', 'gameplay', 'games', 'gaming', 'gamma', 'gamora', 'gandalf', 'gandi', 'gang', 'ganglion', 'ganguly', 'gannoversky', 'gap', 'gaps', 'garage', 'garaged', 'garbage', 'garbo', 'gard', 'garden', 'garner', 'garnet', 'garrett', 'garth', 'gary', 'garyl', 'gas', 'gasch', 'gases', 'gash', 'gasket', 'gaskets', 'gaskins', 'gasoline', 'gasolines', 'gasses', 'gaston', 'gatakeeper', 'gate', 'gatech', 'gatekeeper', 'gaterbowl', 'gates', 'gateway', 'gatewayed', 'gather', 'gathered', 'gatos', 'gattegno', 'gaudy', 'gauge', 'gauges', 'gauging', 'gauntlet', 'gaurantee', 'gaurenteed', 'gauss', 'gave', 'gawk', 'gaws', 'gb', 'gb2312', 'gc', 'gcbackground', 'gcc', 'gcforeground', 'gcfunction', 'gclinewidth', 'gcplanemask', 'gcs', 'gcsubwindowmode', 'gd', 'gd3004', 'gdb', 'gdi', 'gdith', 'gdw', 'gdx', 'ge', 'gear', 'gearbox', 'gearboxes', 'geared', 'gearing', 'gears', 'gearshift', 'gec', 'gecomo', 'geddy', 'gee', 'geen', 'geez', 'geheel', 'geico', 'geiinteresseerd', 'gel', 'gelaendewagen', 'gem', 'gems', 'gen', 'gencon', 'gene', 'genera', 'general', 'generalization', 'generalizations', 'generalized', 'generally', 'generate', 'generated', 'generates', 'generating', 'generation', 'generations', 'generator', 'generators', 'generic', 'generous', 'genesis', 'genie', 'genius', 'genoa', 'genoeg', 'gentleman', 'gentlemen', 'gently', 'genuine', 'geo', 'geoff', 'geoffb', 'geoffrey', 'geographic_', 'geom_gcon', 'geom_vals', 'geometry', 'george', 'georgeous', 'georgia', 'geoworks', 'german', 'germans', 'germany', 'gernally', 'gerry', 'gersham', 'gesp', 'get', 'get_actual_init', 'get_line', 'get_next_ident', 'get_next_obj', 'get_values_hook', 'getaway', 'getbdf', 'getcons', 'getenv', 'getgeometry', 'gethost', 'gethostbyname', 'gethostbynameisevil', 'getinputfocus', 'getnetconfigent', 'getnetpath', 'getnextfont', 'getopt', 'getproperty', 'gets', 'getters', 'getting', 'gettys', 'getvalue', 'getvroot', 'gev86qe', 'gew', 'gewalt', 'gf', 'gfx', 'gfxbase', 'gh', 'ghbnie', 'ghct', 'ghg', 'ghia', 'ghost', 'ghostscript', 'ghostview', 'ghq', 'giant', 'gibbs', 'gideon', 'gidget', 'gif', 'gifs', 'gift', 'gigabyte', 'giger', 'gigs', 'gil', 'gildea', 'gill', 'gillespie', 'gimmick', 'gimt', 'gina', 'ginger', 'ginstall', 'gintic', 'girl', 'girlfriend', 'girlfriends', 'girls', 'gis', 'gist', 'give', 'given', 'gives', 'giving', 'giza', 'gizmo', 'gizmos', 'gjf00', 'gkirkaldie', 'gks', 'gksul', 'gl', 'gl_plot', 'gla', 'glacial', 'glad', 'gladiators', 'gladly', 'glance', 'glare', 'glass', 'glassed', 'glasses', 'glassware', 'glc', 'gld', 'gleaned', 'glen', 'glenn', 'gli', 'glib', 'glide', 'glider', 'glim', 'glimpse', 'glitches', 'glitzy', 'global', 'glockenspiel', 'gloria', 'glory', 'glossary', 'glossies', 'glossy', 'glove', 'glow', 'glue', 'glued', 'glut', 'glx', 'glxdraw', 'glxgetconfig', 'glxlink', 'glxmdraw', 'glxunlink', 'glxwinset', 'glyph', 'glyphs', 'gm', 'gmaes', 'gmbh', 'gmc', 'gmd', 'gmrs', 'gms2', 'gmt', 'gmt0', 'gmtime', 'gn', 'gnb', 'gnd', 'gnohmon', 'gnttype', 'gnu', 'gnuchess', 'gnuchessn', 'gnuchessr', 'gnuemacs', 'gnugo', 'gnuplot', 'gnuplot3', 'gnuplot_x11', 'gnuy', 'gnx', 'gnxs', 'go', 'goal', 'goals', 'goblin', 'gobs', 'god', 'goddamn', 'goddard', 'godfathers', 'godhead', 'gods', 'goes', 'goethe', 'goin', 'going', 'gold', 'goldberg', 'goldblum', 'golden', 'goldstar', 'golf', 'golfs', 'goliath', 'gone', 'gonna', 'gonzalez', 'gonzalz', 'goo', 'good', 'goodbye', 'goodies', 'goods', 'goodyear', 'goofball', 'goofed', 'goofy', 'goose', 'gopath', 'gopher', 'gopinath', 'gordon', 'gore', 'gorgeous', 'gory', 'gos', 'gosh', 'goss', 'gossip', 'got', 'gotchas', 'gothamcity', 'gothenburg', 'goto', 'gotta', 'gotten', 'goucher', 'gouged', 'gourd', 'gouroud', 'gov', 'goverment', 'government', 'governments', 'govt', 'gowan', 'gp', 'gprof', 'gps', 'gq9hgik', 'gr', 'grab', 'grabbed', 'grabbing', 'grabs', 'grabserver', 'grace', 'gracefully', 'grad', 'grade', 'graded', 'grades', 'gradualism', 'gradually', 'graduate', 'graduated', 'graduates', 'graduation', 'graeme', 'graf', 'graffitti', 'grafik_display', 'grafpak', 'grafpnt', 'grafpoint', 'grafports', 'graham', 'grahamt', 'gram', 'grammar', 'grammatik', 'grammi', 'gramming', 'granada', 'grand', 'grandfather', 'grandprix', 'grannies', 'grant', 'granted', 'granting', 'grape', 'graph', 'graphic', 'graphic_display', 'graphic_window', 'graphical', 'graphics', 'graphics_exposures', 'graphicsd', 'graphicsexpose', 'graphigs', 'graphing', 'graphischer', 'graphite', 'graphon', 'graphs', 'grappler', 'gras', 'grasp1', 'grass', 'grasshopper', 'grateful', 'gratefully', 'grave', 'gravel', 'graveled', 'graveyard', 'gravitational', 'gravity', 'gray', 'grayhound', 'grayscale', 'grayshare', 'gre', 'grease', 'greasing', 'great', 'greater', 'greatest', 'greatly', 'greatwave', 'greco', 'greece', 'greedy', 'greek', 'green', 'green_max', 'green_mult', 'greene', 'greenhouse', 'greenish', 'greens', 'greenwich', 'greer', 'greet', 'greetings', 'greg', 'gregory', 'grenade', 'grenades', 'grep', 'gretzky', 'grew', 'grey', 'grey4', 'grey_dark', 'greyhound', 'greys', 'greyscale', 'grider', 'grief', 'grilles', 'grin', 'grind', 'grinding', 'grinds', 'grip', 'gripes', 'grips', 'grit', 'gritty', 'groceries', 'grog', 'groliers', 'grommets', 'groove', 'grooved', 'gross', 'grotty', 'groud', 'ground', 'groundbreaking', 'grounded', 'groundings', 'grounds', 'group', 'groupe', 'grouped', 'grouping', 'grouppo', 'groups', 'grove', 'grovel', 'grow', 'growable', 'growing', 'growth', 'grrrrr', 'gruffness', 'grunt', 'gs', 'gs300', 'gsbacd', 'gsfc', 'gsi', 'gsidler', 'gspreview', 'gsr', 'gss', 'gst', 'gsx', 'gt', 'gt0463b', 'gt1706a', 'gt4661a', 'gti', 'gtl', 'gtri', 'gts', 'gtx', 'gtz', 'gu', 'guantlet', 'guarantee', 'guaranteed', 'guaranteeing', 'guarantees', 'guard', 'guardian', 'guardians', 'guarenteed', 'guess', 'guessed', 'guesser', 'guessing', 'guesstimate', 'guest', 'guests', 'gui', 'gui_classic', 'gui_info', 'guice', 'guide', 'guidelines', 'guides', 'guiding', 'guilt', 'guilty', 'guiness', 'guis', 'guitar', 'guitars', 'gul', 'gulf', 'gummy', 'gun', 'gunpoint', 'gunpowder', 'guns', 'gunship', 'gurak', 'guru', 'gurus', 'gus', 'guts', 'gutter', 'guy', 'guys', 'gvga', 'gw', 'gwg', 'gwm', 'gworld', 'gwu', 'gx', 'gxclear', 'gxcopy', 'gxe', 'gxequiv', 'gxor', 'gxugiv', 'gxxor', 'gym', 'gyn', 'gzip', 'h1', 'h10', 'h1rj1', 'h2ph', 'h4s', 'ha', 'habit', 'habits', 'hac', 'hachiman', 'hack', 'hacked', 'hacker', 'hackers', 'hacking', 'hacks', 'had', 'hade', 'hades', 'hadley', 'hadn', 'hagar', 'haggle', 'haggling', 'hah', 'hahaha', 'hahn', 'hail', 'hair', 'hal', 'halcyon', 'halen', 'half', 'halfway', 'haljordan', 'hall', 'hallicrafters', 'hallmark', 'halloween', 'hallucinating', 'halo', 'haloween', 'halperin', 'halt', 'halves', 'halving', 'ham', 'hamakawa', 'hamburger', 'hamilton', 'hamlet', 'hammer', 'hammerhead', 'hamper', 'hampered', 'hampshire', 'hampton', 'hams', 'hamtronics', 'han', 'hanauma', 'hand', 'handbook', 'handcoded', 'handed', 'handel', 'handeling', 'handful', 'handgun', 'handgunner', 'handheld', 'handhelds', 'handing', 'handle', 'handled', 'handler', 'handlers', 'handles', 'handley', 'handling', 'handmade', 'hands', 'handscanner', 'handshake', 'handshaking', 'handy', 'hang', 'hanged', 'hanging', 'hangs', 'hank', 'hannah', 'hansen', 'hants', 'hanzi', 'happen', 'happend', 'happends', 'happened', 'happening', 'happens', 'happily', 'happy', 'happyhour', 'harbinger', 'hard', 'hardball', 'hardcoded', 'hardcodin', 'hardcopy', 'hardcore', 'hardcover', 'harddisk', 'harddrive', 'harder', 'hardline', 'hardly', 'hardplastic', 'hardtop', 'hardware', 'hardwares', 'hardwick', 'hardwired', 'hardwood', 'hare', 'hareware', 'harkens', 'harlequin', 'harlqn', 'harm', 'harmful', 'harmless', 'harmonic', 'harness', 'harpal', 'harpies', 'harping', 'harr', 'harriet', 'harrij', 'harris', 'harry', 'harsh', 'harvard', 'harvester', 'harvey', 'harware', 'has', 'hash', 'hasn', 'hassle', 'hassles', 'hasty', 'hat', 'hatch', 'hatchback', 'hatchbacks', 'hatches', 'hate', 'hates', 'hating', 'hats', 'haul', 'hauled', 'hauling', 'have', 'haven', 'havent', 'having', 'havoc', 'havok', 'hawaii', 'hawes', 'hawk', 'hawkeye', 'hawking', 'hawkwind', 'hawkworld', 'hayes', 'haynes', 'hazard', 'hazards', 'haze', 'hbl', 'hc', 'hcakr9spij', 'hcf', 'hcl', 'hd', 'hdb', 'hdd', 'hdfd', 'hdr200', 'hds', 'hdt', 'he', 'head', 'headaches', 'headed', 'header', 'headers', 'heading', 'headlight', 'headlights', 'headline', 'headliner', 'headlines', 'headphone', 'headphones', 'headrest', 'headroom', 'heads', 'headset', 'headsets', 'heal', 'healer', 'healers', 'health', 'healthy', 'healy', 'heap', 'heaps', 'hear', 'heard', 'hearing', 'hearse', 'heart', 'heartbeat', 'heartily', 'hearts', 'heat', 'heated', 'heater', 'heath', 'heating', 'heats', 'heatshrinking', 'heatsink', 'heaven', 'heavens', 'heavier', 'heavily', 'heavy', 'heck', 'heckel', 'hedaka', 'hedgehog', 'heed', 'heel', 'hefty', 'heh', 'hehe', 'hehhehehehahaha', 'height', 'heimburger', 'heir', 'heirarchy', 'heise', 'held', 'helicopter', 'heliocentric', 'hell', 'hellcats', 'heller', 'hellish', 'hellnet', 'hello', 'helloworld', 'help', 'helped', 'helpen', 'helper', 'helpful', 'helpfull', 'helping', 'helpless', 'helps', 'hemmings', 'hemul', 'hence', 'hensa', 'her', 'heracleous', 'herb', 'herbie', 'hercules', 'here', 'hereabouts', 'hereby', 'herein', 'heres', 'heritage', 'hero', 'hers', 'herself', 'hershey', 'hes', 'hesitant', 'hesitate', 'hesitated', 'hesketh', 'het', 'hewlett', 'hex', 'hexagon', 'hexdump', 'hey', 'heya', 'heydt', 'hf', 'hf4z', 'hfr', 'hgis', 'hh', 'hhcp', 'hi', 'hian', 'hiccup', 'hicks', 'hicolor', 'hidden', 'hide', 'hides', 'hierarchical', 'hierarchies', 'hierarchy', 'hierin', 'hieromtrent', 'hifi', 'hifonics', 'high', 'higher', 'highest', 'highland', 'highlight', 'highlighted', 'highlighting', 'highlights', 'highlihts', 'highly', 'hight', 'highway', 'highways', 'hilarious', 'hildebrand', 'hildjj', 'hill', 'hillel', 'hills', 'hilly', 'him', 'himself', 'hinckley', 'hindquarters', 'hinge', 'hinged', 'hinges', 'hint', 'hints', 'hip', 'hiram', 'hirama', 'hire', 'hired', 'hires', 'hiroaki', 'hiroto', 'his', 'hiss', 'hist', 'histogram', 'historical', 'historically', 'histories', 'history', 'hit', 'hitachi', 'hitch', 'hitchhiker', 'hite', 'hits', 'hitting', 'hiway', 'hizekazu', 'hj', 'hk', 'hl', 'hm', 'hmm', 'hmmm', 'hmmmm', 'hmmmmmmm', 'hn', 'ho', 'hoax', 'hobbit', 'hobby', 'hobbyist', 'hobbyists', 'hobgoblin', 'hobie', 'hockey', 'hoeger', 'hoegertrafik', 'hoes', 'hoffman', 'hog', 'hogs', 'hold', 'holden', 'holder', 'holders', 'holding', 'holds', 'hole', 'holes', 'holiday', 'holidays', 'hollow', 'hollowheads', 'hollywood', 'holmberg', 'holmes', 'holo', 'holobyte', 'hologram', 'holster', 'holt', 'holyoke', 'home', 'homeless', 'homeownership', 'hometown', 'homewood', 'homework', 'homewriter', 'honda', 'hondas', 'honed', 'honer', 'honest', 'honesty', 'hong', 'honing', 'honor', 'honors', 'honours', 'hood', 'hook', 'hooked', 'hooking', 'hooks', 'hookup', 'hookups', 'hoop', 'hoosier', 'hop', 'hope', 'hoped', 'hopefully', 'hopeless', 'hopes', 'hoping', 'hopkins', 'hopper', 'hoptoad', 'horgan', 'horizon', 'horizontal', 'horizontally', 'horloges', 'horn', 'horns', 'horrible', 'horribly', 'horrid', 'horrifying', 'horror', 'horrorsoft', 'hors', 'horse', 'horseback', 'horsepower', 'horsepwer', 'horses', 'horseshoe', 'horstman', 'horton', 'hose', 'hosed', 'hospital', 'host', 'hostname', 'hosts', 'hot', 'hotbed', 'hotcity', 'hotel', 'hotelco', 'hotels', 'hotline', 'hotrod', 'hotshot', 'hotsoup', 'hotter', 'hottest', 'hou', 'hounded', 'hounding', 'hour', 'hourglass', 'hours', 'house', 'housed', 'household', 'houses', 'housing', 'houston', 'hove', 'how', 'howard', 'howdy', 'howell', 'howervre', 'however', 'howie', 'hoya', 'hp', 'hp28sx', 'hp48sx', 'hp4nl', 'hp500', 'hp720', 'hp81', 'hpb', 'hpclass', 'hpcvaaz', 'hpfctjc', 'hpfrcu03', 'hpgl', 'hplabs', 'hplj4', 'hplnpm', 'hps', 'hpux', 'hpwarf', 'hpwm', 'hq', 'hqx', 'hr', 'href', 'hrs', 'hs', 'hsieh', 'hsk', 'hst', 'hsteve', 'hsync', 'ht', 'hts', 'hu', 'hub', 'hudson', 'hue', 'huge', 'hugh', 'hughes', 'hughm', 'huh', 'huji', 'hulk', 'hull', 'human', 'humanity', 'humanoids', 'humans', 'humble', 'humes', 'humesdg1', 'humidity', 'humminbird', 'hummingbird', 'humor', 'humor_impaired', 'humorous', 'hump', 'hundred', 'hundreds', 'hung', 'hungry', 'hunt', 'hunter', 'hunters', 'hunting', 'huntington', 'huntsville', 'hurdle', 'hurry', 'hurt', 'hurting', 'hurts', 'husband', 'husc', 'hut', 'huub', 'hw', 'hw26', 'hwang', 'hwy', 'hx', 'hybrid', 'hybriderr', 'hydraulic', 'hydrocarbons', 'hydrogen', 'hydroplaned', 'hydroplaning', 'hyerstay', 'hyess', 'hype', 'hyper', 'hypercard', 'hyperlook', 'hypermedia', 'hypertext', 'hyphen', 'hypothetical', 'hysterical', 'hysterically', 'hytelnet', 'hyundai', 'hz', 'i18n', 'i2', 'i386', 'i386unix', 'i4', 'i5', 'i8', 'i84', 'i88', 'i9vat', 'iac', 'iacocca', 'iam', 'ian', 'iastate', 'iat', 'ib', 'ibm', 'ibmlink', 'ibmpc', 'ibms', 'ibuild', 'ic', 'icc', 'icccm', 'iccm', 'icd', 'ice', 'iceland', 'ichips', 'icing', 'icky', 'icluding', 'ico', 'icom', 'icon', 'icon_name', 'icondoit', 'iconic', 'iconification', 'iconified', 'iconify', 'iconize', 'iconized', 'iconmgr', 'icons', 'icrc', 'ics', 'icsi', 'icus', 'icw', 'id', 'idaho', 'idb', 'idbsu', 'iddle', 'ide', 'idea', 'ideal', 'ideally', 'idears', 'ideas', 'ident', 'identical', 'identically', 'identification', 'identified', 'identifier', 'identifies', 'identify', 'identifying', 'identity', 'idioms', 'idiot', 'idle', 'idlewild', 'idling', 'idraw', 'ids', 'idt', 'ie', 'ieee', 'iejf8s', 'if', 'ifconfig', 'ifdef', 'iff', 'ifndef', 'igd', 'ignition', 'ignorance', 'ignorant', 'ignore', 'ignored', 'ignores', 'ignoring', 'igore', 'ihc', 'iheader', 'ii', 'iic', 'iici', 'iicis', 'iicx', 'iie', 'iifx', 'iig', 'iigs', 'iii', 'iiip', 'iima', 'iintx', 'iip', 'iis', 'iisi', 'iivi', 'iivx', 'iix', 'ik', 'ikegami', 'il', 'ill', 'illegal', 'illegality', 'illegally', 'illinois', 'illuminate', 'illuminating', 'illustrate', 'illustrated', 'illustrates', 'illustration', 'illustrations', 'im', 'image', 'imagemagick', 'imager', 'imagery', 'images', 'imagesoft', 'imageviewport', 'imagewriter', 'imagewritwrite', 'imaginable', 'imagination', 'imaginative', 'imagine', 'imagined', 'imaging', 'imake', 'imakefile', 'imakefiles', 'imately', 'imconv', 'imd', 'img', 'img_1', 'imho', 'imitatie', 'immaculate', 'immd3', 'immediate', 'immediately', 'immer', 'imminent', 'immobile', 'immortal', 'immortalized', 'imo', 'imortal', 'imp', 'impact', 'impacts', 'impaired', 'impedance', 'impede', 'impediment', 'impending', 'imperial', 'implausible', 'implement', 'implementation', 'implementations', 'implemented', 'implementing', 'implementor', 'implements', 'implicit', 'implied', 'implies', 'impliments', 'imply', 'implying', 'import', 'importance', 'important', 'importantant', 'importantly', 'imported', 'importing', 'imports', 'imposing', 'impossible', 'impractical', 'impressed', 'impression', 'impressions', 'impressive', 'impreza', 'imprinted', 'improbable', 'improper', 'improperly', 'improve', 'improved', 'improvement', 'improvements', 'improves', 'improving', 'impulse', 'imtools', 'in', 'ina', 'inaccurate', 'inactivated', 'inactive', 'inactivity', 'inadequate', 'inadvertantly', 'iname', 'inappropriate', 'inattentive', 'inboard', 'inc', 'incapable', 'incarnation', 'incentive', 'incentives', 'inch', 'inches', 'inchon', 'incident', 'incl', 'inclination', 'inclined', 'include', 'included', 'includeinferiors', 'includeing', 'includes', 'including', 'inclusion', 'inclusions', 'inclusive', 'income', 'incoming', 'incompatability', 'incompatibable', 'incompatibilities', 'incompatibility', 'incompatible', 'incompatibly', 'incompetent', 'incomplete', 'inconsistent', 'inconsitancies', 'inconvenience', 'inconvenient', 'inconveniently', 'incorporate', 'incorporated', 'incorporates', 'incorrect', 'incorrectly', 'increase', 'increased', 'increases', 'increasing', 'incredible', 'incredibly', 'incremental', 'incrementally', 'increments', 'incur', 'incurred', 'incurs', 'indeed', 'indent', 'indented', 'independant', 'independence', 'independent', 'independently', 'indepthedit', 'indestructable', 'indestructible', 'indeterminate', 'indetifier', 'index', 'indexed', 'indexes', 'indi', 'indial', 'indian', 'indiana', 'indicate', 'indicated', 'indicates', 'indicating', 'indication', 'indicative', 'indicator', 'indicators', 'indices', 'indigo', 'indispensable', 'indistinguishable', 'individual', 'individually', 'individuals', 'induce', 'induced', 'industrial', 'industries', 'industry', 'industy', 'indy', 'inefficient', 'inet', 'inet_', 'inet_addr', 'inevitable', 'inevitably', 'inexpencive', 'inexpensive', 'inexpensively', 'inexperienced', 'inexusable', 'inf', 'infact', 'infatuation', 'infection', 'infer', 'inferior', 'inferno', 'infile', 'infinite', 'infinitely', 'infiniti', 'infinity', 'inflammatory', 'inflatable', 'inflated', 'influence', 'influenced', 'info', 'infocom', 'infodev', 'infoname', 'inform', 'informal', 'informatik', 'information', 'informative', 'informed', 'informix', 'informs', 'infoworld', 'infra', 'infraction', 'infrared', 'infrequent', 'infrequently', 'infromation', 'ing', 'ingolf', 'ingr', 'ingram', 'ingredients', 'inguiry', 'inherent', 'inherit', 'inheritance', 'inherited', 'init', 'inital', 'initalize', 'initfontcontext', 'initial', 'initialization', 'initialize', 'initialize_hook', 'initialized', 'initializes', 'initializing', 'initially', 'initialwindowiconic', 'initialy', 'initiation', 'inits', 'inject', 'injected', 'injection', 'injector', 'injectors', 'injuries', 'injustice', 'ink', 'inkjet', 'inks', 'inlet', 'inline', 'inlined', 'inmates', 'inmos', 'inn', 'innards', 'innate', 'inner', 'innocent', 'innovation', 'innovative', 'innovators', 'inordinate', 'input', 'inputhint', 'inputonly', 'inputoutput', 'inputs', 'inquire', 'inquirers', 'inquires', 'inquiries', 'inquiry', 'inquirys', 'inria', 'ins', 'insane', 'inseparable', 'insert', 'insert_child', 'inserted', 'inserting', 'insertion', 'inserts', 'inside', 'insider', 'insight', 'insist', 'insisted', 'insitute', 'insofar', 'insoft', 'inspect', 'inspected', 'inspection', 'inspiration', 'instalation', 'install', 'installation', 'installations', 'installboss', 'installed', 'installer', 'installing', 'installs', 'installwindowcolormaps', 'instance', 'instances', 'instant', 'instantaneous', 'instantly', 'instead', 'instinct', 'instinctively', 'institute', 'instituted', 'institutions', 'instruct', 'instructed', 'instruction', 'instructional', 'instructions', 'instructive', 'instructors', 'instructs', 'instrument', 'instrumentation', 'instruments', 'instrutech', 'insufficient', 'insulated', 'insulation', 'insult', 'insulting', 'insurance', 'insure', 'insured', 'insuring', 'int', 'intact', 'intake', 'integer', 'integers', 'integra', 'integral', 'integras', 'integrate', 'integrated', 'integrates', 'integrating', 'integration', 'integrity', 'intel', 'intellect', 'intelligence', 'intelligent', 'intelligently', 'intend', 'intended', 'intensity', 'intensive', 'intent', 'intention', 'intentionally', 'intents', 'inter', 'interact', 'interaction', 'interactions', 'interactive', 'interactively', 'interacts', 'intercept', 'interceptors', 'interchangeable', 'interchangeably', 'intercon', 'intereseted', 'interest', 'intereste', 'interested', 'interestend', 'interesting', 'interestingly', 'interests', 'interface', 'interfaces', 'interference', 'interferences', 'interferes', 'interfering', 'intergraph', 'interior', 'interlaced', 'interlacing', 'interleaf', 'interleaved', 'interlocking', 'intermediary', 'intermediate', 'intermittent', 'intermittently', 'intermixing', 'intern', 'internal', 'internally', 'internals', 'international', 'internationalization', 'internet', 'internetional', 'internship', 'interpret', 'interpretation', 'interpretations', 'interpreted', 'interpreter', 'interpreting', 'interpretive', 'interprets', 'interrupt', 'interrupted', 'interrupts', 'intersecting', 'intersection', 'intersections', 'interstate', 'interstates', 'intersted', 'interupt', 'interval', 'intervals', 'intervene', 'intervention', 'interview', 'interviews', 'interworks', 'interwoven', 'intimidate', 'intl', 'into', 'intra', 'intravai', 'intrepid', 'intreprid', 'intrest', 'intrinsic', 'intrinsics', 'intrinsicsp', 'intrisics', 'intro', 'introduce', 'introduced', 'introduction', 'introductions', 'introductory', 'intrusion', 'intuition', 'intuitive', 'intuitivly', 'invading', 'invalid', 'invalidate', 'invaluable', 'invaluble', 'invasion', 'invent', 'invented', 'invention', 'inventor', 'inventoried', 'inventors', 'inventory', 'inverse', 'investigate', 'investigation', 'investment', 'investments', 'invisibility', 'invisible', 'invitation', 'invite', 'invocation', 'invoice', 'invoke', 'invoked', 'invokes', 'invoking', 'involve', 'involved', 'involvement', 'involves', 'involving', 'inxs', 'io', 'io10702', 'ioca', 'ioccc', 'ioctl', 'ioerror', 'iomega', 'ios', 'iowa', 'ip', 'ipc', 'ipcrm', 'ipld01', 'ips', 'ipx', 'iq', 'ir', 'iraqi', 'irb', 'irdjpcvr', 'ireland', 'irem', 'iren', 'iris', 'irish', 'irix', 'irk', 'irlbeck', 'iroc', 'iron', 'ironic', 'irony', 'irq', 'irregular', 'irregularites', 'irrelevant', 'irrelevent', 'irresponsibility', 'irritable', 'irritating', 'irs', 'irvine', 'irwin', 'is', 'isa', 'isalnum', 'isascii', 'isbm', 'isbn', 'isc', 'isdn', 'isi', 'isifisher', 'island', 'islanddraw', 'islandgraphics', 'islandpaint', 'islandpresent', 'islands', 'islandwrite', 'isle', 'isn', 'iso', 'iso8859', 'iso_8859_1', 'isobar', 'isolation', 'isolations', 'isopropanol', 'isopropyl', 'ispell', 'israel', 'isspace', 'issue', 'issued', 'issues', 'ist', 'istrip', 'isu', 'isuzu', 'it', 'italian', 'italiana', 'italic', 'italics', 'italy', 'itc', 'itcnet', 'item', 'items', 'iterested', 'ites', 'itesm', 'ith', 'ithink', 'iti', 'itivax', 'itoh', 'its', 'itself', 'itselft', 'iubacs', 'iud', 'iuvax', 'iv', 'ivanhoe', 'ivc', 'iverson', 'iwanami', 'iwii', 'iworks', 'iwth', 'ix', 'ix33890', 'ixbuild', 'ixi', 'ixos', 'iyi', 'j1', 'j2', 'j2e5bn', 'j5ve', 'j802e', 'j84pq', 'j_center', 'j_left', 'j_right', 'ja', 'ja_jp', 'jabido', 'jack', 'jacking', 'jacks', 'jackson', 'jacksonville', 'jackyl', 'jacques', 'jacuzzi', 'jad', 'jade', 'jae', 'jaffer', 'jagged', 'jaguar', 'jails', 'jake', 'jaleco', 'jam', 'james', 'jamie', 'jamiller', 'jamma', 'jammer', 'jammers', 'jams', 'jamsa', 'jan', 'janet', 'january', 'janzen', 'jap', 'japan', 'japanese', 'jared', 'jarring', 'jarthur', 'jas', 'jasmine', 'jason', 'jasonlim', 'jasonp', 'jaspar', 'jass', 'javea', 'javelin', 'jaw', 'jawdat', 'jaws', 'jay', 'jayb', 'jazz', 'jc', 'jcorry', 'jd', 'jdc', 'jdm3', 'je', 'je_pelkey', 'jean', 'ject', 'jeep', 'jeez', 'jef', 'jeff', 'jeffcop', 'jeffrey', 'jelloman', 'jennifer', 'jensen', 'jeremy', 'jerks', 'jerry', 'jersey', 'jest', 'jester', 'jesus', 'jet', 'jetfighter', 'jets', 'jetta', 'jettas', 'jewelry', 'jewelrys', 'jewels', 'jews', 'jgm', 'jhn', 'jhu', 'jhuapl', 'jhufos', 'jhunix', 'jhyl2k', 'jian', 'jig', 'jiggling', 'jim', 'jiml', 'jimmy', 'jisx0208', 'jj', 'jjn', 'jjt', 'jkirvin', 'jkrq0r', 'jlz', 'jm0rjtcymi4b1kbb', 'jmar', 'jmk13', 'jmp_buf', 'jmu', 'jo', 'joanne', 'job', 'jobs', 'jockey', 'jody', 'joe', 'joel', 'john', 'johnny', 'johns', 'johnson', 'johnston', 'johnt', 'join', 'joined', 'joining', 'joinly', 'joins', 'joint', 'joints', 'joke', 'jokes', 'jokim', 'joking', 'joliet', 'jolla', 'jolt', 'joltes', 'jon', 'jonathan', 'jones', 'jong', 'joni', 'jonny', 'jordan', 'jorge', 'jose', 'joseph', 'josh', 'joshua', 'journal', 'journalist', 'journalists', 'jovi', 'joy', 'joystick', 'joysticks', 'jp', 'jpeg', 'jpf', 'jpgxqcpr2ryr9eyd0', 'jpi', 'jpl', 'jqed', 'jr', 'jrd', 'jrevdct', 'jrpayne', 'jsc', 'jsv', 'jt', 'jtc', 'jtsilla', 'jtsillas', 'ju53jy', 'juan', 'juando', 'jubilee', 'judge', 'judged', 'judgement', 'judges', 'judging', 'judgment', 'judicial', 'judicious', 'juergen', 'juggernaut', 'juggle', 'jukebox', 'jul', 'julia', 'julian', 'july', 'jumbo', 'jump', 'jumped', 'jumper', 'jumpers', 'jumpin', 'jumps', 'jun', 'junction', 'junctions', 'june', 'junk', 'junkyard', 'junkyards', 'juno', 'jurisdictions', 'just', 'justice', 'justification', 'justified', 'justifies', 'justify', 'justy', 'juvi', 'juviniles', 'jvc', 'jvnc', 'jw', 'jwa', 'jwg', 'k1g', 'k5c91', 'k5hrx', 'k7', 'ka', 'kac923', 'kadett', 'kagotani', 'kahn', 'kai', 'kaiser', 'kaist', 'kaleb', 'kaleidagraph', 'kallista', 'kamandi', 'kamlesh', 'kan', 'kanagawa', 'kanev', 'kangaroo', 'kanji', 'kantrowitz', 'kaput', 'karen', 'karenb', 'karl', 'karlson', 'karlsruhe', 'karlton', 'karma', 'karmann', 'karoki', 'karting', 'karu', 'kass', 'kassady', 'kassala', 'kathleen', 'katrina', 'kaul', 'kawai', 'kawecki', 'kay', 'kaye', 'kb', 'kbaud', 'kbd_mode', 'kbps', 'kbw', 'kbytes', 'kc', 'kc10', 'kc9', 'keaggy', 'kedwell', 'kedz', 'kee', 'keel', 'keep', 'keepa', 'keeper', 'keeping', 'keeps', 'keith', 'keithley', 'keldsen', 'kelley', 'kelleyb', 'kemelman', 'ken', 'kenai', 'kennedy', 'kenneth', 'kenny', 'kensington', 'kent', 'kentucky', 'kenwood', 'keown', 'kept', 'kerberos', 'kermit', 'kernel', 'kerr', 'kettering', 'kev', 'kevin', 'key', 'key_actions', 'keyboard', 'keyboardcommands', 'keyboardfocuspolicy', 'keyboards', 'keyborads', 'keycode', 'keycodes', 'keying', 'keyless', 'keylock', 'keymap', 'keymapfile', 'keymapping', 'keymaps', 'keypad', 'keypress', 'keypresses', 'keypressmask', 'keyrelease', 'keyreleasemask', 'keys', 'keystroke', 'keystrokes', 'keysym', 'keysyms', 'keyword', 'keywords', 'kfc', 'kg', 'kg1', 'kg6qg9', 'kgb', 'khaki', 'kharman', 'khera', 'khgzc', 'khiet', 'khz', 'kia', 'kiara', 'kick', 'kickdown', 'kicked', 'kicker', 'kickers', 'kicking', 'kicks', 'kid', 'kidding', 'kidnappers', 'kids', 'kierski', 'kieth', 'kiev', 'kill', 'killclient', 'killed', 'killing', 'killington', 'kills', 'kilobit', 'kilobyte', 'kilobytes', 'kilometers', 'kilrathi', 'kim', 'kimball', 'kimd', 'kimgh', 'kin', 'kinau', 'kind', 'kinda', 'kindly', 'kindof', 'kinds', 'kinetics', 'king', 'king_of_prussia_pa', 'kingdom', 'kingpin', 'kings', 'kingston', 'kinknet', 'kinks', 'kintyre', 'kiran', 'kirby', 'kirk', 'kirkaldie', 'kirsch', 'kirszner', 'kisseberth', 'kit', 'kitabjian', 'kitchen', 'kits', 'kitten', 'kiwi', 'kjqtu', 'kl', 'klaus', 'klee', 'kleinpaste', 'klg', 'klin', 'klingebiel', 'klipsch', 'kloner', 'klossner', 'kludge', 'kludges', 'kludgy', 'klute', 'klwright', 'km', 'kmart', 'kmem', 'knack', 'knee', 'knew', 'knight', 'knights', 'knive', 'knob', 'knock', 'knocking', 'knoe', 'know', 'knowing', 'knowledge', 'knowledgeable', 'knowles', 'known', 'knows', 'knox', 'knuckles', 'ko', 'koblas', 'koblenz', 'kodak', 'kohli', 'kohlmaas', 'kok', 'kokomo', 'konami', 'kong', 'koni', 'konrad', 'kool', 'koptsw21', 'korea', 'korean', 'koresh', 'korg', 'korn', 'kosher', 'koshy', 'kotsopoulos', 'koutd', 'kovi', 'kowloon', 'kowowski', 'kr', 'kraft', 'kramer', 'kranz', 'krauthammer', 'kraven', 'krd', 'kremlin', 'krism', 'kristen', 'krol', 'krueger', 'krumm', 'krustys', 'ksh', 'kssimon', 'ksu', 'kt', 'kterm', 'kth', 'ktiedtke', 'ku', 'kuala', 'kuan', 'kubel', 'kubelwagen', 'kuhn', 'kuhub', 'kum', 'kungfu', 'kurango', 'kurt', 'kuwaiti', 'kwansai', 'kwill', 'kx', 'kxp', 'ky', 'kyler', 'kyrandia', 'kyushu', 'käfer', 'l2', 'l3', 'l5', 'l8s', 'la', 'laakso', 'lab', 'label', 'label_w', 'labeled', 'labelfontlist', 'labels', 'labelwidgetclass', 'labor', 'laboratories', 'laboratory', 'labour', 'labrea', 'labs', 'labtam', 'labtec', 'lach', 'lacie', 'lack', 'lacked', 'lacking', 'lacks', 'lacova', 'ladder', 'ladders', 'ladies', 'lady', 'laf', 'lag', 'lagged', 'lai', 'laid', 'lair', 'lake', 'lakers', 'lakes', 'lakshman', 'lam', 'lame', 'lametex', 'lamm', 'lamont', 'lamp', 'lamps', 'lan', 'lancaster', 'lancia', 'lancorp', 'lancs', 'land', 'landcruisers', 'landed', 'landgraf', 'landing', 'landmarks', 'landon', 'lands', 'landscape', 'landscaped', 'landscapes', 'landscaping', 'lane', 'lanera', 'lanes', 'lang', 'lange', 'langman', 'language', 'languages', 'languish', 'lanmodem', 'lanport', 'lans', 'lanstep', 'lantern', 'lanview', 'lapc', 'lapis', 'lapp', 'laps', 'laptop', 'laptops', 'laredo', 'large', 'largely', 'larger', 'largest', 'larkin', 'larry', 'larry_rogers', 'larryc', 'larsen', 'las', 'laser', 'laserdisc', 'laserdiscs', 'laserdisks', 'laserjet', 'laserjets', 'laserprinter', 'lasers', 'laserwriter', 'laserwriters', 'last', 'lastly', 'lasts', 'lat', 'latchkey', 'late', 'latech', 'lately', 'latency', 'later', 'latest', 'latex', 'latin', 'latin1', 'latitude', 'latter', 'lauff', 'laugh', 'laughed', 'launch', 'launched', 'launches', 'launching', 'laundromat', 'laundry', 'laura', 'laurel', 'law', 'lawn', 'lawrence', 'laws', 'lawsuit', 'lawyer', 'lawyers', 'lax', 'lay', 'layer', 'layered', 'layers', 'laying', 'layout', 'layouts', 'layton', 'lazarus', 'lazer', 'laziness', 'lazy', 'lb', 'lbl', 'lbs', 'lbx', 'lc', 'lc040', 'lc040s', 'lc_ctype', 'lcd', 'lcii', 'lciii', 'lcornel', 'lcs', 'ld', 'ld_library_path', 'ld_run_path', 'ldconfig', 'ldgo', 'ldh', 'ldl', 'ldnet', 'le', 'le0', 'leach', 'lead', 'leaded', 'leader', 'leaders', 'leadership', 'leading', 'leads', 'league', 'leahy', 'leak', 'leakage', 'leaked', 'leaking', 'leaks', 'leaning', 'learn', 'learnd', 'learned', 'learning', 'lease', 'leasing', 'least', 'leat', 'leather', 'leatherette', 'leave', 'leaves', 'leavese', 'leavewindowmask', 'leaving', 'lebaron', 'lebrun', 'lecom', 'lecommandeur', 'lection', 'lecture', 'lectures', 'led', 'ledbetter', 'leds', 'lee', 'leedom', 'leeds', 'leefing', 'leehian', 'leei', 'leffler', 'left', 'left_squeeze', 'leftover', 'leftward', 'leg', 'legacy', 'legal', 'legality', 'legally', 'legend', 'legendary', 'legends', 'legislation', 'legitimate', 'legs', 'lehey', 'lehigh', 'leinen', 'leisher', 'leistritz', 'leisure', 'leland', 'lelf', 'lemans', 'lemis', 'lemke', 'lemmings', 'lemon', 'lemons', 'lend', 'lends', 'lenghth', 'length', 'lengthen', 'lengths', 'lengthy', 'lennon', 'lens', 'lenses', 'lent', 'lenth', 'leon', 'les', 'lesabre', 'leslie', 'less', 'lesscharset', 'lessens', 'lesser', 'lesson', 'lest', 'lestat', 'lester', 'let', 'lethal', 'lets', 'letter', 'letterbox', 'letters', 'letting', 'level', 'levels', 'levenson', 'lever', 'levers', 'lewart', 'lewczyk', 'lewis', 'lex', 'lexical', 'lexus', 'leyte', 'lfo', 'lgibb', 'lh', 'lhs', 'liabilities', 'liability', 'liam', 'liant', 'liars', 'liasun3', 'liasun6', 'lib', 'libaudio', 'libdl', 'liberal', 'libertarian', 'liberty', 'libg', 'libgcc2', 'libpackagexcl', 'libphigs', 'libraries', 'library', 'librarys', 'libs', 'libtermcap', 'libtiff', 'libx', 'libx11', 'libxaw', 'libxaw3d', 'libxbsd', 'libxext', 'libxm', 'libxmu', 'libxt', 'libxtgeo', 'libxukc', 'libya', 'licence', 'license', 'licensed', 'licensees', 'licenses', 'licensing', 'lick', 'lid', 'lie', 'liefeld', 'lies', 'life', 'lifesaver', 'lifespan', 'lifetime', 'lifetimes', 'lift', 'lifted', 'lifting', 'lifts', 'light', 'lightblue', 'lighted', 'lighten', 'lightening', 'lighter', 'lighting', 'lightly', 'lightmeter', 'lightning', 'lightpen', 'lights', 'lightweight', 'lik', 'like', 'liked', 'likeliest', 'likely', 'likelyhood', 'liken', 'likes', 'likewise', 'lim', 'limit', 'limitation', 'limitations', 'limited', 'limiter', 'limiting', 'limits', 'lin', 'linclon', 'lincoln', 'linda', 'lindome', 'line', 'line_thick', 'line_width', 'linear', 'linearity', 'lined', 'linedraw', 'linen', 'liner', 'liners', 'lines', 'lineup', 'lingo', 'lingual', 'linings', 'linits', 'link', 'linkage', 'linkdiscon', 'linked', 'linker', 'linking', 'links', 'lint', 'linting', 'linton', 'linux', 'lionel', 'lips', 'liquid', 'liquidation', 'lisa', 'liscence', 'lisp', 'lispm', 'list', 'listed', 'listen', 'listened', 'listening', 'listens', 'listing', 'listname', 'listres', 'lists', 'listserv', 'lit', 'litana', 'lite', 'liter', 'literal', 'literally', 'literate', 'literature', 'liters', 'lithium', 'litmus', 'litre', 'littel', 'littered', 'little', 'liu', 'live', 'lived', 'livelihood', 'lives', 'living', 'lizard', 'lj09', 'lj1', 'lkh', 'lkqrh0', 'll', 'llat', 'llb', 'llnl', 'lloking', 'lm', 'lmsc', 'ln', 'lndir', 'lnsl', 'lo', 'load', 'load_form', 'loaded', 'loader', 'loading', 'loads', 'loan', 'loans', 'lobbying', 'lobo', 'loc', 'local', 'localconn', 'locale', 'locales', 'localhost', 'localities', 'locality', 'locally', 'localtalk', 'locate', 'located', 'locating', 'location', 'locations', 'lock', 'locked', 'locker', 'lockers', 'lockheed', 'locking', 'lockmask', 'locks', 'lockup', 'lockup_', 'locomotives', 'lode', 'loft', 'log', 'logfile', 'logged', 'logging', 'logic', 'logica', 'logicache', 'logical', 'logically', 'logicon', 'logics', 'login', 'logitech', 'logname', 'logo', 'logos', 'logout', 'logs', 'logullo', 'lohia', 'lois', 'lojack', 'loki', 'lombarda', 'lombardy', 'london', 'lone', 'long', 'longer', 'longest', 'longevity', 'longjmp', 'longjmps', 'longwords', 'lonnnnnnnnggggg', 'look', 'lookalike', 'looked', 'looker', 'looking', 'looks', 'lookup', 'lookupcmap', 'loom', 'loon', 'loop', 'loops', 'loose', 'loosely', 'loosen', 'loosens', 'loosly', 'loot', 'lopez', 'loran', 'lord', 'lorenzo', 'los', 'lose', 'losers', 'loses', 'losh', 'losing', 'loss', 'losses', 'lost', 'lot', 'lots', 'lotsa', 'lotus', 'loud', 'louis', 'louisianna', 'loukides', 'love', 'loved', 'lovely', 'low', 'lowball', 'lowdown', 'lowe', 'lowell', 'lower', 'lowercase', 'lowered', 'lowering', 'lowest', 'loyal', 'loyale', 'lp240s', 'lp52', 'lpi', 'lpp', 'lpr', 'lps', 'lpt', 'lpt1', 'lq', 'lq2500', 'lr', 'lri', 'ls', 'ls12', 'ls12i', 'lsbfirst', 'lsi', 'lsl', 'lsocket', 'lt', 'lt1', 'ltd', 'lte', 'lterature', 'ltermcap', 'lube', 'lubricants', 'lubricate', 'lubrication', 'lubrimoly', 'lucb', 'lucid', 'luck', 'luckily', 'luckly', 'lucky', 'lucvsz2si8j', 'ludicrous', 'ludwig', 'luftwaffe', 'lug', 'luggage', 'lugged', 'luke', 'lulea', 'lumbar', 'lumpur', 'lunatix', 'lunch', 'lurch', 'lurnix', 'lustrous', 'lutz', 'luxman', 'luxo', 'luxuries', 'luxury', 'lw', 'lwhere', 'lx', 'lx11', 'lxaw', 'lxext', 'lxmu', 'lxt', 'lying', 'lyle', 'lymb', 'lynda', 'lynn', 'lynne', 'lynx', 'lynxos', 'lyon1', 'lzq0a', 'lzw', 'm0nlsg0', 'm1mihg', 'm1vrbjcx', 'm20', 'm20r', 'm26525a', 'm30', 'm4', 'm49m9idhhm2fruq2ek', 'm5', 'm5545', 'm_swm', 'ma', 'ma30', 'maar', 'maarten', 'mac', 'macabre', 'macavenue', 'macc', 'macclassic', 'macconnection', 'maccontent', 'macdonald', 'macdraw', 'macekg', 'macenvy', 'macexchange', 'mach', 'machine', 'machine_name', 'machinery', 'machines', 'machiness', 'macho', 'macii', 'maciifx', 'maciisi', 'macinators', 'macintosh', 'macintoshes', 'mack', 'mackermit', 'mackintosh', 'macland', 'macleak', 'macmags', 'macmillan', 'macos', 'macpaint', 'macplus', 'macportable', 'macproducts', 'macrecorder', 'macrescue', 'macro', 'macromind', 'macros', 'macs', 'macsbug', 'macse', 'macslinger', 'macstuf', 'mactcp', 'mactools', 'mactripp', 'macuser', 'macwarehouse', 'macweek', 'macworld', 'macx', 'maczone', 'mad', 'madden', 'made', 'madison', 'madness', 'madonna', 'madza', 'maennig', 'maf', 'mag', 'magazin', 'magazine', 'magazines', 'magenta', 'mages', 'magic', 'magical', 'magician', 'magistic', 'magma', 'magnascan', 'magnavox', 'magnesium', 'magnet', 'magnetic', 'magneto', 'magnification', 'magnify', 'magnum', 'magnus', 'mags', 'magus', 'mahan', 'mahendra', 'maher', 'mahjongg', 'mai', 'mail', 'mailbox', 'mailboxes', 'mailed', 'mailer', 'mailers', 'mailing', 'mailings', 'mailmessage', 'mailorder', 'mailreader', 'mails', 'mailserver', 'mailstop', 'mailtool', 'main', 'main_win', 'maine', 'mainframe', 'maining', 'mainly', 'mainpane', 'mainstream', 'maintain', 'maintainance', 'maintained', 'maintainer', 'maintaining', 'maintains', 'maintanence', 'maintenanability', 'maintenance', 'maintenence', 'maintextsw', 'maintinence', 'mainw', 'mainwindow', 'majestic', 'majka', 'major', 'majority', 'majorly', 'make', 'makedepend', 'makefile', 'makefiles', 'maken', 'maker', 'makers', 'makes', 'making', 'malaysia', 'male', 'malformed', 'malfunction', 'malfunctioning', 'malfunctions', 'malibu', 'mall', 'malloc', 'mallocs', 'malls', 'maluso', 'mamagement', 'mammals', 'man', 'manaco', 'manage', 'managed', 'management', 'manager', 'managergadgetselect', 'managerparentactivate', 'managerparentcancel', 'managers', 'manages', 'managing', 'managment', 'manchu', 'mandate', 'mandated', 'mandatory', 'mandelbrot', 'mandell', 'manger', 'maniacs', 'manic', 'manifest', 'manifests', 'manifold', 'manipluating', 'manipulate', 'manipulated', 'manipulating', 'manipulation', 'manipulations', 'manipulator', 'manitoba', 'manner', 'manners', 'manny', 'manowar', 'manpage', 'mans', 'mansfield', 'manta', 'mantix', 'mantle', 'manual', 'manually', 'manuals', 'manuel', 'manufactered', 'manufactor', 'manufactuers', 'manufactuing', 'manufacture', 'manufactured', 'manufacturer', 'manufacturers', 'manufactures', 'manufacturing', 'manufaturer', 'manulas', 'manuverable', 'many', 'mao111', 'map', 'map_state', 'maple', 'mapnotify', 'mapped', 'mapping', 'mappingnotify', 'mappings', 'maps', 'mar', 'maraldo', 'marauders', 'marbel', 'marble', 'marc', 'marcel', 'march', 'marconi', 'marcus', 'mardi', 'margaret', 'margin', 'marginal', 'marginally', 'margine', 'margins', 'margolin', 'margret', 'maria', 'mariah', 'marian', 'marin', 'marine', 'mariner', 'mario', 'mark', 'marked', 'markedly', 'marker', 'market', 'marketing', 'markets', 'markh', 'markham', 'markhof', 'markings', 'markm', 'marks', 'marksa', 'marktoday', 'marktomorrow', 'markup', 'markyesterday', 'marlan', 'marque', 'marques', 'married', 'marshall', 'mart', 'martin', 'martinez', 'martinh', 'marty', 'marvel', 'marvelous', 'marvin', 'mary', 'maryland', 'masc0442', 'maserati', 'mask', 'maskable', 'masked', 'masking', 'masks', 'mass', 'massachusetts', 'massacre', 'massage', 'massaging', 'masses', 'massmicro', 'master', 'mastercard', 'mastercard_____', 'mastering', 'masterpiece', 'masterplan', 'masters', 'masterson', 'mastertronic', 'match', 'matched', 'matches', 'matching', 'matchs', 'mate', 'mateo', 'mater', 'material', 'materials', 'math', 'mathamatica', 'mathematic', 'mathematica', 'mathematical', 'mathematically', 'mathematics', 'mathes', 'matic', 'matl', 'matrices', 'matrix', 'matrox', 'mats', 'matt', 'mattel', 'matter', 'matters', 'matthey', 'matthias', 'mattress', 'mau', 'maui', 'mauldin', 'maureen', 'maurice', 'mavericks', 'mavis', 'max', 'max_build_size', 'max_col', 'max_entry', 'max_entry_len', 'max_file_len', 'max_program_size', 'max_program_size2', 'max_title_len', 'maxapplezoom', 'maxcol', 'maxima', 'maximal', 'maximas', 'maximize', 'maximizing', 'maximum', 'maximus', 'maxscreens', 'maxtor', 'maxwell', 'maxx', 'maxxum', 'may', 'maybe', 'mayer', 'mayhem', 'mayla', 'maynard', 'mazda', 'mazdas', 'maze', 'mazz', 'mazza', 'mb', 'mb1', 'mb13831fc25', 'mb3', 'mb_ordered', 'mbcl', 'mbeck', 'mbmupg9xkuex', 'mbps', 'mbs', 'mbyte', 'mc', 'mc68851', 'mc8b', 'mc98601', 'mc98603', 'mc98604', 'mc98620', 'mca', 'mcallen', 'mcc', 'mccartney', 'mcchicken', 'mcconnell', 'mccoy', 'mcdallas', 'mcdonald', 'mcelhiney', 'mcfar', 'mcfarlane', 'mcga', 'mcghee', 'mcgill', 'mcgovern', 'mchp', 'mcintyre', 'mckay', 'mckeever', 'mclaren', 'mclock', 'mcloughlin', 'mcmaster', 'mcnab', 'mcnutt', 'mcostell', 'mcp', 'mcpartland', 'mcrcim', 'mcrib', 'mcvax', 'md', 'mda', 'mdisp', 'mdr', 'mds', 'me', 'me6yaridi', 'meagabyte', 'meal', 'meals', 'mean', 'meaning', 'meaningful', 'meaningless', 'meanings', 'meanness', 'means', 'meant', 'meantime', 'mearly', 'measly', 'measure', 'measured', 'measurement', 'measurements', 'measures', 'measuring', 'mechanic', 'mechanical', 'mechanically', 'mechanicals', 'mechanics', 'mechanicsburg', 'mechanism', 'mechanisms', 'mechine', 'med', 'medallion', 'mededeling', 'medi', 'media', 'medially', 'median', 'medical', 'medicine', 'medico', 'medics', 'medin', 'mediocre', 'mediterranean', 'medium', 'meer', 'meern', 'meet', 'meeting', 'meetings', 'meets', 'meg', 'megabyte', 'megabytes', 'megadrive', 'megadrives', 'megahertz', 'megaman', 'megapixel', 'megatek', 'megs', 'meharg', 'mehegan', 'mel', 'melbourne', 'melby', 'melded', 'melillo', 'mellon', 'mels', 'meltdown', 'mem', 'member', 'member1', 'member2', 'member3', 'memberfunctions', 'members', 'membership', 'memcpy', 'memmaker', 'memo', 'memorex', 'memorial', 'memory', 'memphis', 'memset', 'men', 'menlo', 'mens', 'ment', 'mentality', 'mention', 'mentioned', 'mentioning', 'mentions', 'mentor', 'menu', 'menubar', 'menubutton', 'menuitem', 'menupopdown', 'menupopup', 'menus', 'mercedes', 'mercerville', 'merchandise', 'merchandisers', 'merchant', 'merchantability', 'merchants', 'mercs', 'mercury', 'mere', 'merely', 'merge', 'merged', 'merger', 'merges', 'merging', 'merican', 'meridian', 'merit', 'merk', 'merknaam', 'merkur', 'merkurs', 'merlin', 'merrit', 'merry', 'merryland', 'mesa', 'mesh', 'meson', 'mesozoic', 'mess', 'message', 'messages', 'messagethatprinter', 'messaging', 'messed', 'messes', 'messiah', 'messina', 'met', 'meta', 'metacard', 'metacharacters', 'metafile', 'metafont', 'metal', 'metalios', 'metallic', 'metals', 'meter', 'metering', 'meters', 'methane', 'methanol', 'method', 'methods', 'methyl', 'meticulous', 'meticulously', 'metric', 'metrics', 'metro', 'metroid', 'metrolink', 'metronome', 'metropol', 'metz', 'mexico', 'mexixo', 'mfm', 'mftobdf', 'mg', 'mga', 'mgb', 'mgbs', 'mgh', 'mgr', 'mgs', 'mh', 'mh0', 'mh2620', 'mhc', 'mhpf12b4arq', 'mhs', 'mhz', 'mi', 'miami', 'miata', 'mib', 'mic', 'mice', 'michael', 'michelin', 'michigan', 'mick', 'mickeys', 'micom', 'micor', 'micrmac', 'micro', 'microcenter', 'microchannel', 'microclimate', 'microcode', 'microcom', 'microcomputer', 'microcourier', 'microfield', 'micrometer', 'micron', 'micronics', 'microphone', 'microphones', 'microport', 'microprocessor', 'microprocessors', 'microprose', 'micros', 'microscope', 'microsloth', 'microsoft', 'microswitch', 'microsystems', 'microtek', 'microtest', 'microvax', 'microwave', 'microx', 'mid', 'midas', 'middle', 'middletown', 'midi', 'midland', 'midway', 'midweek', 'miff', 'might', 'mighty', 'migrate', 'migration', 'mihir', 'mik', 'mikael', 'mikael_fredriksson', 'mike', 'mikefran', 'mikel', 'mikell', 'mikew', 'mil', 'milage', 'milan', 'milano', 'mild', 'mildy', 'mile', 'mileage', 'miles', 'military', 'militech', 'milkyway', 'mill', 'miller', 'millimeters', 'million', 'millions', 'milliwatts', 'milnet', 'milpitas', 'milt', 'mimic', 'mimq', 'mimsy', 'min', 'mind', 'mindful', 'minding', 'minds', 'mindset', 'mine', 'minesweeper', 'minh', 'mini', 'miniature', 'minidiscs', 'minimal', 'minimally', 'minimize', 'minimum', 'minis', 'miniscribe', 'miniscule', 'minivan', 'minivans', 'minivas', 'minnesota', 'minolta', 'minor', 'minority', 'mins', 'mint', 'minus', 'minute', 'minutes', 'mips', 'miraculously', 'mirage', 'miranda', 'miri', 'mirror', 'mirrored', 'mirroring', 'mirrors', 'mirrors4', 'mis', 'misapplication', 'misc', 'miscalculated', 'miscellaneous', 'misco', 'miserable', 'misery', 'misfire', 'misfits', 'mishra', 'misinformation', 'mislabled', 'mismatch', 'misname', 'misnomer', 'mispronounced', 'miss', 'missed', 'missile', 'missing', 'mission', 'missions', 'missouri', 'misspelled', 'misspellings', 'mistak', 'mistake', 'mistaked', 'mistaken', 'mistakenly', 'mistakes', 'mists', 'mistubishi', 'misunderstand', 'misunderstanding', 'misunderstood', 'misuse', 'misused', 'mit', 'mitch', 'mitre', 'mitrek', 'mitsbishi', 'mitsubishi', 'mitsubushi', 'mitsumi', 'mitvma', 'mitx11r4', 'mix', 'mixed', 'mixer', 'mixes', 'mixing', 'mjl', 'mjm', 'mk156f', 'mk48t02', 'mkbaird', 'mkdir', 'mkdirhier', 'mkentry', 'mkfifo', 'mkfontdir', 'mkhnya', 'mkmodules', 'mknod', 'mkshlib', 'mlb', 'mleisher', 'mlinknet', 'mlm', 'mlobbia', 'mlsma', 'mm', 'mmh', 'mmu', 'mmus', 'mnemonics', 'mnp', 'mnp4', 'mnp5', 'mo', 'moaning', 'mob', 'mobil', 'mobile', 'mobilephone', 'mobius', 'mobs', 'moby', 'mod1mask', 'mod2mask', 'mod3mask', 'mod4mask', 'mod5mask', 'modal', 'mode', 'mode32', 'mode_switch', 'modedb', 'model', 'model_init_button_view', 'model_init_form', 'model_init_form_', 'model_init_form_view', 'model_init_pop_flag', 'model_init_popped_up', 'model_init_shell', 'model_init_table', 'model_init_title', 'modeled', 'models', 'modem', 'modems', 'moderate', 'moderated', 'moderately', 'moderator', 'modern', 'modes', 'modest', 'modifiable', 'modification', 'modifications', 'modified', 'modifier', 'modifiers', 'modifies', 'modifing', 'modify', 'modifying', 'modifyverifycallback', 'moditor', 'mods', 'modualar', 'modula', 'modular', 'modulation', 'module', 'modules', 'modulo', 'moe', 'moebius', 'moines', 'moisture', 'molding', 'moldings', 'molecular', 'molecules', 'moly', 'mom', 'momboard', 'moment', 'momentum', 'mon', 'monaco', 'monday', 'mondeo', 'mondial', 'mondrian', 'money', 'moneys', 'monica', 'monickers', 'moniro', 'moniter', 'monitering', 'moniters', 'monitor', 'monitored', 'monitors', 'monk', 'monkey', 'monmouth', 'monninger', 'mono', 'monochrome', 'monocrome', 'monolux', 'monopolanspruch', 'monopolized', 'monospaced', 'monotonicity', 'monoxide', 'monsanto', 'monsarrat', 'monster', 'monsterous', 'monsters', 'montana', 'montanaro', 'montero', 'month', 'monthes', 'monthian', 'monthly', 'months', 'montly', 'montreal', 'monty', 'moolit', 'moon', 'moonmist', 'moonroof', 'moons', 'moore', 'moorenet', 'mopar', 'moraes', 'moral', 'morality', 'morbius', 'mordred', 'more', 'more_auths', 'more_contrib', 'more_work', 'morefonts', 'moreover', 'morgan', 'morissey', 'morning', 'moron', 'morons', 'morris', 'morrison', 'morton', 'mos', 'mosaic', 'moschetti', 'moscow', 'most', 'moster', 'mostly', 'mot', 'motel', 'mothballing', 'mothballs', 'mother', 'motherboard', 'motherboards', 'mothers', 'motif', 'motif1', 'motifation', 'motify', 'motion', 'motionnotify', 'motionvector', 'motiv', 'motivation', 'moto', 'motocross', 'motor', 'motorcycle', 'motorcycles', 'motoren', 'motorola', 'motors', 'motorsport', 'motorsports', 'motorway', 'motorweek', 'motown', 'motrac', 'mould', 'mount', 'mountable', 'mountain', 'mountains', 'mounted', 'mounting', 'mountings', 'mounts', 'mourns', 'mouse', 'mouseclick', 'mouseless', 'mouseman', 'mousepad', 'mouses', 'mouth', 'mouting', 'movable', 'move', 'move16', 'move_bands', 'moved', 'movement', 'mover', 'moves', 'movie', 'movies', 'moving', 'mower', 'moxy', 'moy', 'mozart', 'mp', 'mpark', 'mpc', 'mpeg', 'mpeg_play', 'mpg', 'mph', 'mppa3', 'mpr', 'mprgate', 'mps', 'mpv', 'mpvs0', 'mqjza', 'mr', 'mr1jer', 'mr2', 'mr2ii', 'mri', 'mrp', 'ms', 'msap', 'msdos', 'mseconds', 'msgs', 'mskcc', 'msrp', 'mst', 'msw', 'mswindows', 'mt', 'mt32', 'mta', 'mtbf', 'mtecv2', 'mterm', 'mtgzfs3', 'mtholyoke', 'mtkgc', 'mts', 'mtv', 'mty', 'much', 'mucho', 'mud', 'mudders', 'mueck', 'muenchen', 'muenster', 'muffler', 'mufflers', 'mufti', 'mug', 'mui', 'mulder', 'mule', 'mull', 'mult', 'multi', 'multichannel', 'multicoloured', 'multicylinder', 'multidisp', 'multifinder', 'multilist', 'multimedia', 'multimodem', 'multipart', 'multiplan', 'multiple', 'multiplexed', 'multiplexer', 'multiplexor', 'multiplier', 'multiply', 'multiprocessing', 'multiprogram', 'multiscope', 'multiscreen', 'multisession', 'multispeed', 'multisync', 'multisynch', 'multitasker', 'multitasking', 'multitech', 'multithreaded', 'multithreading', 'multitude', 'multiuser', 'mumble', 'mumbles', 'mundane', 'munge', 'munging', 'munich', 'munnari', 'munny', 'munroe', 'murcury', 'murder', 'murdered', 'murderous', 'murli', 'murphey', 'murphy', 'murray', 'muscle', 'museum', 'museums', 'music', 'musical', 'musicians', 'must', 'musta', 'mustang', 'mustangs', 'mutant', 'mutants', 'mutiny', 'mutual', 'mux', 'muxes', 'muzzah', 'mv', 'mvs', 'mvuxi', 'mvwm', 'mwm', 'mwms', 'mx', 'mx15f', 'mx4200', 'mx5', 'mx6', 'mxgdb', 'mxterm', 'my', 'my_cmap', 'my_default_bg_color', 'my_imtoiks', 'my_topwin', 'myapplication', 'mycolor', 'mydir', 'mydisplay', 'myfonts', 'mygc', 'myhint', 'mylistsw', 'mypopup', 'myproggy', 'myscreen', 'myself', 'mysstem', 'mysteries', 'mysterious', 'mysteriously', 'mystery', 'mystical', 'mystified', 'myterm', 'myth', 'mywindow', 'myxsubs', 'n106', 'n1kda', 'n2', 'n2000', 'n33', 'n4pdy', 'n7', 'n76234', 'n86pl', 'n9', 'na', 'nac', 'nacme', 'nad', 'nada', 'nader', 'nagesh', 'nagging', 'nah', 'nails', 'nam', 'name', 'name__________________________________', 'name_______________________________________________________________', 'named', 'nameer', 'namely', 'names', 'names_', 'naming', 'nan', 'nanao', 'nancie', 'nanosecond', 'nanyang', 'naoto', 'napa', 'napkins', 'narasimhan', 'narrow', 'narrowed', 'narrower', 'nasa', 'nash', 'nassestr', 'nasty', 'nataraja', 'natarajan', 'nate', 'nathan', 'natick', 'nation', 'national', 'nationality', 'nationals', 'nations', 'nationwide', 'native', 'natural', 'naturally', 'nature', 'nauthor', 'nautilis', 'nautilus', 'nav', 'navigate', 'navigating', 'navigation', 'navigator', 'navy', 'nb', 'nbe', 'nc', 'nc_perror', 'ncar', 'ncd', 'ncdwm', 'nch', 'ncoa', 'ncr', 'ncsa', 'ncsl', 'ncsu', 'nd', 'nd0', 'nd2', 'ndo', 'ndos', 'ne', 'neach', 'neal', 'near', 'nearby', 'nearest', 'nearing', 'nearly', 'neat', 'neatly', 'neato', 'nebraska', 'nec', 'neccessary', 'neccessity', 'necessarily', 'necessary', 'necessity', 'neck', 'necks', 'ned', 'nedde', 'nedlands', 'need', 'needed', 'needeed', 'needfunctionprototypes', 'needing', 'needless', 'needn', 'needs', 'neg', 'negative', 'neglected', 'neglegible', 'negligent', 'negligible', 'negotiable', 'negotiate', 'negotiated', 'negotiating', 'negotiation', 'neices', 'neidecker', 'neighbor', 'neighborhood', 'neighboring', 'neighbors', 'neil', 'neilb', 'neither', 'neko', 'nelson', 'nemesis', 'nend', 'neneh', 'nenter', 'neo', 'neon', 'neots', 'nep', 'nepean', 'nephews', 'nervous', 'nes', 'ness', 'nesslerenweg', 'nested', 'nestor', 'nestvx', 'net', 'netbios', 'netblazer', 'netcom', 'netcomsv', 'netdir_free', 'netdir_getbyaddr', 'netdir_getbyname', 'nethack', 'netherlands', 'netland', 'netlanders', 'netmask', 'netnews', 'netnewsfor', 'neto', 'netportii', 'nets', 'netter', 'netters', 'netware', 'netwisdom', 'network', 'networkable', 'networked', 'networking', 'networks', 'networld', 'neuaufbau', 'neubauten', 'neumann', 'neuron', 'neuroscience', 'neutral', 'nevada', 'never', 'nevermind', 'nevertheless', 'neves', 'neville', 'new', 'new_height', 'newbauer', 'newbie', 'newcastle', 'newcd', 'newcomers', 'newer', 'newest', 'newfoundland', 'newgroup', 'newline', 'newly', 'newman', 'newmarch', 'newpaper', 'newroot', 'news', 'news2', 'newsfeed', 'newsgate', 'newsgroup', 'newsgroups', 'newsletter', 'newspaper', 'newsrc', 'newsreader', 'newsreaders', 'newstand', 'newsweek', 'newtek', 'newuser', 'newusers', 'newwelty', 'next', 'nextconnection', 'nextstation', 'nextstep', 'nextstep486', 'nextug', 'nexus', 'nfl', 'nfs', 'ngan', 'nge', 'ngp', 'nguen', 'nguyen', 'nh', 'nhtsa', 'ni', 'niall', 'nibar', 'nic', 'nicad', 'nicararagua', 'nice', 'nicely', 'nicer', 'nicholas', 'nichols', 'nick', 'nickel', 'nicklaus', 'nicknamed', 'nicolas', 'niels', 'nielsen', 'niet', 'niftp', 'nifty', 'nigel', 'night', 'nighthwak', 'nightmare', 'nights', 'nikhef', 'nikkor', 'nikon', 'nimble', 'nine', 'ninfo', 'ning', 'ninja', 'ninjakun', 'nintendo', 'ninvalid', 'nip', 'nirvana', 'nis', 'nisc', 'nishika', 'nissan', 'nissans', 'nist', 'nit', 'nitely', 'nitems', 'nitendo', 'nitrogen', 'nitty', 'nitzer', 'nixdorf', 'nixon', 'nizam', 'nj', 'nkissebe', 'nl', 'nline', 'nm', 'nmea', 'nmsu', 'nname', 'nnn', 'nnnnnnnng', 'nntp', 'no', 'no_monitor', 'noah', 'noao', 'noauth', 'nobody', 'nobratron', 'nodak', 'node', 'nodefinitions', 'nodes', 'noexpose', 'noika', 'noise', 'noises', 'noisy', 'nokia', 'noll', 'nolock', 'nolonger', 'nomad', 'nominal', 'non', 'non_indent', 'none', 'nonetheless', 'nonexistant', 'noninterlaced', 'nonintuitive', 'nonlinearity', 'nonself', 'nonselfrefreshing', 'nonsensical', 'nonstandard', 'nonstanderzation', 'nontransparent', 'nonturbo', 'nonunix', 'noone', 'noooooooo', 'nope', 'noport', 'nor', 'norally', 'norfolk', 'norm', 'normal', 'normally', 'normaly', 'norman', 'north', 'northeast', 'northeastern', 'northern', 'northwest', 'northwestern', 'norton', 'norway', 'nose', 'nosed', 'nosy', 'not', 'notable', 'notably', 'notation', 'notced', 'notch', 'note', 'notebook', 'notebooks', 'noted', 'notes', 'nothig', 'nothin', 'nothing', 'noticable', 'notice', 'noticeable', 'noticeably', 'noticed', 'notices', 'noticing', 'notification', 'notify', 'notify_enable_rpc_svc', 'noting', 'notion', 'notions', 'notorious', 'notreached', 'notuseful', 'nov', 'nova', 'novakovic', 'novel', 'novell', 'novelty', 'november', 'novice', 'novices', 'novitskey', 'novy', 'now', 'nowadays', 'nowhere', 'nowinski', 'nows', 'nox', 'np1010', 'npc', 'nplease', 'nqh9r', 'nr', 'nr10', 'nr10s', 'nrao', 'nroff', 'nrr', 'ns', 'ns16550afn', 'ns3', 'nshould', 'nsl', 'nsu', 'nswc', 'nswses', 'nsx', 'nt', 'nta', 'ntakahas', 'nth', 'nthe', 'ntitle', 'nto', 'ntr', 'nts', 'ntsc', 'ntu', 'ntx', 'ntxes', 'nu', 'nubus', 'nucci', 'nucciarone', 'nuclear', 'nude', 'nuernberg', 'nuet_ke', 'nuetzman', 'nuff', 'nuked', 'nukes', 'null', 'num', 'num_args', 'number', 'number___________________________________________________________', 'numbered', 'numbering', 'numbers', 'numchildren', 'numerals', 'numeric', 'numerical', 'numerics', 'numerous', 'numlock', 'numlock_patch', 'nunber', 'nuri', 'nut', 'nutcases', 'nutek', 'nuts', 'nutshell', 'nuucp', 'nvram', 'nw', 'nwlist', 'nws', 'nwu', 'nx1600', 'nx2000', 'ny', 'nyc', 'nye', 'nylon', 'nymphs', 'nynexst', 'nyour', 'nyx', 'nz', 'o2', 'o9', 'o9fet', 'o9ryc', 'o_', 'oac', 'oahu', 'oai', 'oak', 'oakland', 'oakley', 'oakleys', 'oaks', 'oar', 'oasys', 'ob', 'obata', 'oberheim', 'obey', 'obfuscare', 'obfuscate', 'obfuscated', 'obfuscation', 'obfuscatory', 'object', 'objectcenter', 'objectionable', 'objective', 'objectives', 'objects', 'objectviews', 'objekt', 'objekte', 'obliged', 'oblivion', 'oblivious', 'obninsk', 'obnoxious', 'obo', 'obro', 'obscure', 'obscured', 'obscures', 'obscuring', 'obselete', 'observation', 'observatory', 'observe', 'observed', 'observer', 'observers', 'observing', 'obsession', 'obsolete', 'obsoleted', 'obsoletes', 'obsoleting', 'obstacles', 'obtain', 'obtainable', 'obtained', 'obtaining', 'obtains', 'obvious', 'obviously', 'obz', 'occasion', 'occasional', 'occasionally', 'occasions', 'occassional', 'occassionally', 'occassionaly', 'occassions', 'occilater', 'occupancy', 'occupied', 'occupies', 'occur', 'occurance', 'occured', 'occuring', 'occurred', 'occurrence', 'occurrences', 'occurs', 'oce', 'ocean', 'ocf', 'ocis', 'oclock', 'ocr', 'ocs', 'ocsmd', 'oct', 'octal', 'octane', 'octave', 'october', 'octopus', 'odd', 'oddities', 'oddity', 'oddly', 'odds', 'odometer', 'odt', 'odu', 'odyssey', 'oe', 'oem', 'oemed', 'of', 'ofcourse', 'off', 'offed', 'offended', 'offenders', 'offending', 'offense', 'offensive', 'offer', 'offered', 'offering', 'offerings', 'offerred', 'offers', 'offhand', 'office', 'officer', 'officers', 'offices', 'official', 'officialese', 'officially', 'officials', 'offload', 'offloads', 'offroad', 'offroading', 'offscreen', 'offset', 'offsets', 'often', 'ofthe', 'ofuscated', 'ogi', 'ogin', 'ogp', 'oh', 'ohio', 'ohm', 'ohms', 'oi', 'oids', 'oil', 'oils', 'oit', 'oj', 'ok', 'ok_line', 'okay', 'okidata', 'oklahoma', 'ol', 'olaf', 'old', 'olde', 'older', 'oldest', 'olds', 'oldsmobile', 'ole', 'oleo', 'olit', 'olitbook', 'oliver', 'olivetti', 'ollie', 'olof', 'olpixmap', 'olson', 'olvwm', 'olvwm3', 'olwm', 'olympians', 'olympic', 'olympics', 'olympus', 'om', 'omega', 'omi', 'omits', 'omitted', 'ommision', 'ommissions', 'omnimovie', 'omnipage', 'oms410', 'omt', 'on', 'onal', 'oname', 'once', 'oncoming', 'onder', 'one', 'ones', 'onescanner', 'ongoing', 'onkyo', 'online', 'only', 'ons', 'ontario', 'onto', 'ontop', 'onus', 'onwards', 'oo', 'ooh', 'ook', 'ooooohhhhh', 'oops', 'ootw', 'op', 'opaque', 'opcode', 'opdbs', 'opec', 'opel', 'opels', 'open', 'open_build', 'open_output', 'open_program', 'open_remark', 'openable', 'opend', 'opended', 'opened', 'opener', 'openers', 'opengl', 'opening', 'openl', 'openlook', 'openly', 'openprint', 'openpushbutton', 'opens', 'openvms', 'openwin', 'openwindow', 'openwindows', 'openwinhome', 'opera', 'operable', 'operand', 'operate', 'operated', 'operates', 'operating', 'operation', 'operational', 'operations', 'operative', 'operator', 'operators', 'ophthalmology', 'opinion', 'opinions', 'opnion', 'oposite', 'opponent', 'opportunities', 'opportunity', 'opposed', 'opposite', 'oppurtunity', 'opt', 'optarg', 'optical', 'opticals', 'optics', 'optimal', 'optimally', 'optimised', 'optimistic', 'optimistically', 'optimization', 'optimize', 'optimized', 'optimizer', 'optimum', 'option', 'optional', 'optionally', 'optioned', 'options', 'optionsrec', 'optonica', 'opuglies', 'opus', 'or', 'ora', 'oracle', 'oral', 'orange', 'oranges', 'orca', 'orchestra', 'orchid', 'orcwars', 'order', 'order_', 'ordered', 'ordered2', 'orderform', 'ordering', 'orders', 'ordinarily', 'ordinary', 'ordinates', 'ordyne', 'oregon', 'oreilly', 'orest', 'org', 'orgainization', 'organisms', 'organization', 'organizations', 'organized', 'organizer', 'organizers', 'organizing', 'orginal', 'orginaly', 'oriental', 'orientated', 'orientation', 'oriented', 'orig', 'origanaly', 'origin', 'original', 'originally', 'originals', 'originating', 'originator', 'origins', 'orion', 'ork', 'orlando', 'orleans', 'orly', 'ornament', 'ornaments', 'orogin', 'orst', 'os', 'os2', 'os4', 'osaka', 'osawa', 'osc', 'oscilators', 'oscillator', 'oscillators', 'oscilloscope', 'oscolor', 'oses', 'osf', 'osfactivate', 'osfcancel', 'osfselect', 'oslo', 'oss', 'osteenyversion', 'osterizer', 'ostrand', 'osu', 'ot', 'other', 'other_work', 'othere', 'othermachine', 'others', 'otherwise', 'otoh', 'ots', 'ottawa', 'otto', 'otwo', 'ou', 'ouch', 'ought', 'ounces', 'ouput', 'our', 'ours', 'ourselves', 'out', 'outcome', 'outdated', 'outdoors', 'outdoorsey', 'outdrive', 'outer', 'outers', 'outfit', 'outfitting', 'outgoing', 'ouththere', 'outland', 'outlander', 'outlet', 'outlets', 'outline', 'outlined', 'outliner', 'outlining', 'outmost', 'outnumber', 'outperform', 'output', 'output_author', 'output_build', 'output_end', 'output_entry', 'output_info', 'output_program', 'output_remark', 'output_till_dot', 'outputs', 'outright', 'outrun', 'outs', 'outsellin', 'outside', 'outstanding', 'ovation', 'over', 'overall', 'overcome', 'overcomes', 'overdrive', 'overflow', 'overflows', 'overgeneralization', 'overhang', 'overhaul', 'overhauled', 'overhead', 'overheard', 'overheat', 'overheated', 'overjoyed', 'overlaid', 'overlap', 'overlapped', 'overlapping', 'overlaps', 'overlay', 'overlayplane', 'overlays', 'overload', 'overloading', 'overlooking', 'overly', 'overnight', 'overordering', 'overpass', 'overpasses', 'overplayed', 'overpopulated', 'overpowered', 'overpriced', 'override', 'overrideredirect', 'overrideshell', 'overrideshellwidgetclass', 'oversampling', 'overseas', 'overseeing', 'oversights', 'oversized', 'oversteer', 'overstreet', 'overstrike', 'overtake', 'overtaken', 'overtaxed', 'overterminating', 'overtorque', 'overture', 'overview', 'overviews', 'overwrite', 'overwritten', 'ow', 'owings', 'owl', 'own', 'owned', 'owner', 'owners', 'ownership', 'ownes', 'owning', 'owns', 'ox', 'oxide', 'oxides', 'oxidize', 'oxyd', 'oxygen', 'oz', 'ozone', 'p00020', 'p0b', 'p1', 'p1050', 'p1100', 'p1124', 'p1390', 'p1624', 'p2', 'p225', 'p235', 'p3', 'p321sl', 'p3y', 'p5', 'p8', 'p8p0zc', 'p97', 'p_num_args', 'pa', 'pacbell', 'paced', 'pacesetter', 'pacific', 'pacing', 'pack', 'package', 'packaged', 'packages', 'packaging', 'packard', 'packed', 'packer', 'packet', 'packets', 'packing', 'packs', 'pacman', 'pad', 'padded', 'padding', 'paderborn', 'paderborner', 'pads', 'pafosu1', 'page', 'paged', 'pagedown', 'pagemaker', 'pager', 'pages', 'pageup', 'pageview', 'paging', 'paid', 'pain', 'painful', 'painfully', 'paint', 'paintball', 'painted', 'painting', 'paintings', 'paints', 'pair', 'pairs', 'pal', 'paladin', 'paladins', 'pales', 'palette', 'palette_colors', 'palettebook', 'palettes', 'paller', 'palm', 'palmer', 'paloalto', 'paltry', 'pampered', 'pan', 'panal', 'panasonic', 'pancamo', 'pandonia', 'pane', 'paned', 'panedwidgetclass', 'panel', 'panel_attr', 'panel_max_value', 'panel_multiline_text_item', 'panel_notify_level', 'panel_numeric_text_item', 'panel_slider_item', 'panel_text_item', 'panel_value_display_length', 'panels', 'panic', 'panix', 'panned', 'pannel', 'panner', 'pans', 'panther', 'panton', 'pants', 'paolo', 'papax', 'papay', 'paper', 'paperback', 'paperbacks', 'papers', 'paperwork', 'par', 'para', 'parabellum', 'paradigm', 'paradise', 'paradox', 'paradyne', 'paraghaph', 'paragraph', 'paragraphs', 'parallax', 'parallel', 'paralyzed', 'parameter', 'parameters', 'parametric', 'paramout', 'paramus', 'paratroops', 'parcel', 'parcftp', 'parcplace', 'pardon', 'parent', 'parentcvtargs', 'parented', 'parenting', 'parentreturn', 'parents', 'parikhma', 'paris', 'parity', 'park', 'parked', 'parker', 'parking', 'parks', 'parkway', 'parochial', 'parol', 'paronoid', 'parralell', 'parse', 'parse_args', 'parseblock', 'parsed', 'parser', 'parses', 'parsing', 'part', 'part0', 'part1', 'part2', 'part3', 'part4', 'part5', 'part6', 'partial', 'partially', 'participaants', 'participant', 'participants', 'participated', 'participates', 'participating', 'participation', 'particles', 'particular', 'particularly', 'particulars', 'particulary', 'particulate', 'parties', 'parting', 'partington', 'partisan', 'partition', 'partitions', 'partly', 'partment', 'partner', 'parts', 'party', 'pas', 'pasadena', 'pascal', 'paseo', 'pasquariello', 'pass', 'pass8', 'passage', 'passages', 'passanger', 'passat', 'passats', 'passcdebugflags', 'passe_through', 'passed', 'passenger', 'passengers', 'passer', 'passes', 'passing', 'passionate', 'passive', 'passover', 'password', 'past', 'paste', 'pasting', 'pastor', 'pat', 'patch', 'patch18', 'patched', 'patches', 'patchlevel', 'patent', 'patented', 'patents', 'path', 'pathall', 'pathchk', 'pathfinder', 'pathname', 'pathnames', 'pathology', 'paths', 'pathways', 'pathworks', 'patient', 'patients', 'patio', 'patrick', 'patrickd', 'patrol', 'patrons', 'patter', 'pattern', 'patterns', 'patterson', 'patton', 'paul', 'paula', 'pause', 'pausing', 'pavement', 'pawn', 'pay', 'payed', 'paying', 'payload', 'payment', 'payments', 'payne', 'payoff', 'payout', 'pays', 'pb', 'pb100', 'pb140', 'pb160', 'pb170s', 'pb180', 'pbm', 'pbmplus', 'pbmplus10dec91', 'pbs', 'pc', 'pc1o', 'pcad', 'pcanywhere', 'pcb', 'pcf', 'pchang', 'pci', 'pcl', 'pclhrsg6pf2eiymc4ris60efp', 'pclk', 'pconnid', 'pcplus', 'pcs', 'pct', 'pctools', 'pcx', 'pcxremote', 'pd', 'pd2', 'pdb', 'pdp11', 'pdq', 'pdr', 'pdraw', 'pds', 'pdxracer', 'pea', 'peace', 'peacefully', 'peak', 'peaks', 'pearce', 'pearl', 'peculiar', 'ped', 'pedal', 'pedalling', 'pedals', 'peddel', 'pedestrian', 'pedic', 'pedigree', 'peeing', 'peek', 'peel', 'peeled', 'peer', 'peeve', 'peeved', 'peg', 'pegasus', 'pegged', 'pegs', 'pei', 'pei2rfhy0', 'peices', 'pelkey', 'pelted', 'pen', 'penalize', 'pencil', 'pencom', 'pender', 'pending', 'peng', 'peninsula', 'penlite', 'penn', 'penney', 'pennies', 'pennsylvania', 'penny', 'pentax', 'penthouse', 'pentium', 'people', 'peoples', 'pep', 'pepa', 'pepper', 'peppers', 'per', 'perceive', 'percent', 'percentage', 'perception', 'perch', 'percy', 'perdre', 'perez', 'perf', 'perfect', 'perfectly', 'perferiably', 'perform', 'performa', 'performace', 'performaction', 'performance', 'performances', 'performed', 'performer', 'performing', 'performnace', 'performs', 'perhaps', 'pericom', 'period', 'periodically', 'periodicals', 'periods', 'peripheral', 'peripherals', 'peripherials', 'perl', 'permanent', 'permanently', 'permanetly', 'permeable', 'permission', 'permit', 'permits', 'permitted', 'permitting', 'permutations', 'permutted', 'perot', 'perpective', 'perpendicular', 'perplexed', 'perror', 'persective', 'persian', 'persistance', 'persists', 'person', 'personal', 'personalized', 'personally', 'personnel', 'persons', 'persoon', 'perspective', 'persuade', 'persuasion', 'pertaining', 'perth', 'pertinent', 'perturbation', 'perusal', 'pet', 'petcocks', 'pete', 'peter', 'peterson', 'petroleum', 'petrucci', 'pets', 'peugeot', 'pew', 'pex', 'pexj39', 'pexlib', 'pext', 'pf', 'pffffftttttt', 'pg', 'pg502', 'pg8jks', 'pga', 'pgdn', 'pgm', 'pgup', 'ph', 'pha', 'phall', 'phantom', 'pharmaceuticals', 'phase', 'phased', 'phd', 'phd_cz', 'phenomenon', 'phew', 'phghghghgh', 'phigs', 'phigs_ws_type_x_drawable', 'phil', 'phila', 'philadelphia', 'philatelic', 'phile', 'philip', 'philippe', 'phill', 'phillips', 'philly', 'pho', 'phoenix', 'phone', 'phonebook', 'phonecord', 'phoned', 'phonenet', 'phones', 'phono', 'phony', 'photo', 'photocopy', 'photoflex', 'photograde', 'photograph', 'photographs', 'photography', 'photos', 'photoshop', 'phrase', 'phrases', 'phrasing', 'physical', 'physically', 'physicans', 'physics', 'physiology', 'physique', 'pi', 'piano', 'pianos', 'piar', 'pibbon', 'pic', 'pick', 'picked', 'picking', 'pickpockets', 'picks', 'pickup', 'pickups', 'picky', 'picnic', 'pico', 'picoammeter', 'pics', 'pict', 'pictel', 'picture', 'pictures', 'picure', 'pid', 'pie', 'piece', 'pieces', 'piech', 'piecve', 'piewm', 'pig', 'pigeon', 'piggy', 'pike', 'pile', 'piles', 'piloting', 'pilots', 'pin', 'pina', 'pinata', 'pinch', 'pine', 'pineda', 'pines', 'ping', 'pink', 'pinky', 'pinout', 'pinouts', 'pins', 'pioneer', 'pip', 'pipe', 'pipeline', 'pipelining', 'pipes', 'piping', 'piracy', 'pirelli', 'piscataway', 'piss', 'pissed', 'pistol', 'piston', 'pistons', 'pit', 'pitas', 'pitch', 'pitched', 'pitches', 'pitfalls', 'pitfighter', 'pitiful', 'pittsburgh', 'pity', 'pivot', 'pixel', 'pixels', 'pixmap', 'pixmap1', 'pixmaps', 'pixrects', 'pixt', 'pixure', 'pj', 'pjh70', 'pk', 'pkg', 'pl', 'pl17', 'pl19', 'pl2', 'pl22', 'pl4', 'place', 'placed', 'placeholder', 'placement', 'places', 'placing', 'plaforms', 'plague', 'plagued', 'plain', 'plainfield', 'plains', 'plan', 'plane', 'plane_mask', 'planes', 'planet', 'planetary', 'plank', 'planna', 'planned', 'planner', 'plannig', 'planning', 'plans', 'plant', 'plantation', 'planted', 'planting', 'plao', 'plaques', 'plase', 'plastic', 'plastics', 'plate', 'plated', 'plates', 'platform', 'platforms', 'platinum', 'platinums', 'platter', 'plausible', 'play', 'playable', 'playback', 'playboy', 'played', 'player', 'players', 'playes', 'playgrounds', 'playing', 'playoffs', 'plays', 'plaza', 'plbpex', 'pleas', 'pleasant', 'please', 'pleased', 'pleasing', 'pleasure', 'pleasy', 'pledged', 'pleeze', 'plenty', 'plex', 'plexus', 'pli', 'pliers', 'plight', 'plk', 'plock', 'plot', 'plot_data', 'plotdoc', 'plotmtv', 'plotmtv1', 'plots', 'plotter', 'plotting', 'plowed', 'ploy', 'plplot', 'pls', 'plug', 'plugged', 'plugging', 'plugs', 'plunk', 'plunking', 'plus', 'pluses', 'plusses', 'pluto', 'plutonium', 'plymouth', 'plywood', 'pm', 'pmax', 'pmax_mach', 'pme40x', 'pmmu', 'pms', 'pms706', 'pn', 'pname', 'pnews', 'pnl', 'po', 'pocatello', 'pochanay', 'pochanayon', 'pocket', 'pockets', 'pocono', 'poconos', 'podnet', 'pods', 'poe', 'poetic', 'point', 'point1', 'pointed', 'pointer', 'pointermotionmask', 'pointers', 'pointing', 'pointless', 'points', 'poison', 'poked', 'pol', 'polarising', 'police', 'policies', 'policy', 'polish', 'polished', 'politely', 'political', 'politics', 'polk', 'poll', 'polling', 'pollution', 'poltergeist', 'poly', 'polybag', 'polybagged', 'polygon', 'polygons', 'polyphonic', 'polypropylene', 'polytechnic', 'polyurethene', 'pomona', 'pompano', 'ponitac', 'pontiac', 'pool', 'pooling', 'pools', 'poor', 'poorer', 'pooring', 'poorly', 'pop', 'popen_ws', 'popen_xphigs', 'popeye', 'popped', 'popping', 'pops', 'popular', 'popularity', 'popularly', 'populated', 'popup', 'popup_cmap', 'popup_shell', 'popups', 'popupshell', 'porch', 'porky', 'porsche', 'porschephiles', 'porsches', 'port', 'portability', 'portable', 'portables', 'portacio', 'portage', 'portal', 'ported', 'porthole', 'porting', 'portion', 'portions', 'portland', 'portrait', 'ports', 'posed', 'poseidon', 'poseted', 'posible', 'posing', 'position', 'positioned', 'positioning', 'positions', 'positive', 'positively', 'positrac', 'posix', 'poskanzer', 'poss', 'possable', 'possessing', 'possibilities', 'possibility', 'possible', 'possibly', 'post', 'postage', 'postal', 'poste', 'posted', 'poster', 'posterior', 'posteriorly', 'postfach', 'posting', 'postings', 'postitive', 'postmaster', 'postoffice', 'posts', 'postscript', 'postscriptfile', 'postscriptlevel', 'pot', 'potential', 'potentially', 'potentials', 'potentiometer', 'pothole', 'potholed', 'potholes', 'pots', 'potted', 'potter', 'pouch', 'poularik', 'pounce', 'pound', 'pounds', 'pour', 'poured', 'pours', 'povray', 'power', 'powerband', 'powerboat', 'powerbook', 'powerbooks', 'powercache', 'powered', 'powerful', 'powerglide', 'powering', 'powerkey', 'powerlink', 'poweroff', 'poweron', 'poweropen', 'powerpc', 'powerpcs', 'powerplant', 'powerplants', 'powers', 'powerstrip', 'powersupply', 'poweruser', 'powervision', 'pp', 'ppd', 'ppm', 'pposition', 'ppp', 'pprg', 'ppvjicfmrrekxddi', 'pq', 'pqrqkcu3', 'pqxjnlyrlpq3c', 'pr', 'pr11', 'practical', 'practicality', 'practically', 'practice', 'practiced', 'practices', 'practicing', 'practise', 'practive', 'pradhaan', 'praise', 'praises', 'pram', 'pramod', 'prank', 'pranks', 'prateek', 'prayers', 'pre', 'preamp', 'preamplifier', 'prebuilt', 'precautions', 'precedent', 'preceeds', 'precesses', 'precidia', 'precise', 'precisely', 'precision', 'preclude', 'precmd', 'precursor', 'pred', 'predator', 'predators', 'predecessor', 'predefined', 'predicatbaly', 'predictable', 'predicting', 'predominantly', 'preeminent', 'preemptive', 'preempts', 'preemtive', 'pref', 'prefer', 'preferable', 'preferably', 'prefered', 'preference', 'preferences', 'preferr', 'preferrable', 'preferred', 'preffered', 'prefix', 'preformatted', 'preforming', 'preimere', 'preliminary', 'prelude', 'preludes', 'prematurely', 'premise', 'premium', 'prentice', 'prep', 'prepaid', 'preparation', 'prepare', 'prepared', 'preparing', 'prepayment', 'preprocessing', 'preprocessor', 'preprocessors', 'prerelease', 'pres', 'prescod', 'preselected', 'presence', 'present', 'presentation', 'presentations', 'presente', 'presented', 'presenter', 'presenters', 'presenting', 'presently', 'presents', 'preservation', 'preserve', 'preserves', 'preset', 'presets', 'president', 'presidents', 'presley', 'press', 'pressed', 'presses', 'pressin', 'pressing', 'pressure', 'pressured', 'pressureing', 'pressures', 'prestige', 'prestly', 'presue', 'presumably', 'presume', 'presumed', 'presumes', 'pretend', 'pretends', 'prettier', 'pretty', 'prevail', 'prevailing', 'prevent', 'preventative', 'prevented', 'preventing', 'prevention', 'prevents', 'previa', 'previdi', 'preview', 'previewer', 'previewers', 'previewing', 'previous', 'previouse', 'previously', 'prevuex', 'pric', 'price', 'priced', 'pricelist', 'prices', 'pricey', 'pricier', 'pricing', 'pride', 'primarily', 'primary', 'primate', 'prime', 'primitive', 'primitives', 'primo', 'prince', 'princeton', 'principal', 'principle', 'principles', 'prinicipally', 'print', 'printed', 'printenv', 'printer', 'printers', 'printf', 'printhead', 'printing', 'printings', 'prints', 'prior', 'priorities', 'priority', 'prism', 'privacy', 'private', 'privately', 'privilages', 'privileges', 'prix', 'prize', 'prizes', 'prizm', 'prnt', 'pro', 'prob', 'probabably', 'probability', 'probable', 'probably', 'probe', 'probems', 'probes', 'probing', 'problem', 'problematical', 'problems', 'probobly', 'probs', 'probul', 'probulf', 'proc', 'procalc', 'proccessing', 'proceded', 'procedural', 'procedure', 'procedures', 'proceed', 'proceeded', 'proceeding', 'proceedings', 'proceeds', 'proceedure', 'process', 'processed', 'processes', 'processing', 'processor', 'processors', 'procom', 'procomm', 'proctor', 'procurer', 'prod', 'prodesigner', 'prodigy', 'prodrive', 'produce', 'produced', 'produces', 'producing', 'product', 'production', 'productions', 'productive', 'productivity', 'products', 'profanity', 'professional', 'professionally', 'professor', 'professors', 'profile', 'profit', 'profitable', 'profits', 'profusely', 'prog', 'program', 'programarea', 'programers', 'programible', 'programing', 'programit', 'programmable', 'programmatic', 'programmatically', 'programmed', 'programmer', 'programmers', 'programming', 'programmmers', 'programs', 'progress', 'progressive', 'progressives', 'progs', 'prohibit', 'prohibits', 'project', 'projections', 'projector', 'projectors', 'projectroot', 'projects', 'prolog', 'prologic', 'prolonged', 'prom', 'prominently', 'promiscuous', 'promise', 'promised', 'promising', 'promo', 'promoting', 'promotion', 'prompt', 'promptly', 'prompts', 'proms', 'promulgate', 'prone', 'pronograffitti', 'pronoun', 'pronto', 'pronunciation', 'proof', 'prop', 'propaganda', 'propagated', 'propagates', 'propane', 'propelled', 'proper', 'properly', 'properties', 'property', 'proportion', 'proposal', 'proposals', 'propose', 'proposed', 'proposer', 'proposition', 'proprietary', 'proprietry', 'proprinter', 'props', 'propulsion', 'pros', 'prosecuted', 'proseries', 'prospect', 'prospective', 'prospects', 'prospero', 'protect', 'protectants', 'protected', 'protecting', 'protection', 'protector', 'protects', 'protege', 'proteon', 'proterm', 'protext', 'protocol', 'protocols', 'protoge', 'proton', 'prototype', 'prototypes', 'prototyping', 'proud', 'prove', 'proved', 'proven', 'proverb', 'proverbs', 'provide', 'provided', 'provideo', 'provider', 'provides', 'providing', 'proving', 'provision', 'provo', 'proxima', 'proxy', 'prudential', 'pruse', 'pry', 'prz', 'ps', 'ps1', 'ps35', 'pseudo', 'pseudocolor', 'psg', 'psi', 'psilink', 'psinet', 'psinntp', 'psize', 'pskq3', 'psm', 'psroff', 'pss', 'pst', 'pst8pdt', 'psu', 'psuedo', 'psuedocolor', 'psuedostatic', 'psuvm', 'pswm', 'psy', 'psychnet', 'psychol', 'psychologists', 'psychology', 'ptcbu', 'ptcburp', 'ptfe', 'ptr', 'ptr_actual', 'ptr_ident', 'ptr_model_init_obj', 'ptr_obj', 'pts', 'pty', 'ptys', 'pu9', 'pub', 'public', 'publication', 'publications', 'publicity', 'publicly', 'publish', 'published', 'publisher', 'publishes', 'publishing', 'pubq', 'pucky', 'puffton', 'pugliese', 'puke', 'pull', 'pulldown', 'pulled', 'pulleeze', 'pulling', 'pullout', 'pulls', 'pulse', 'pulses', 'pulsing', 'pump', 'pumping', 'pumps', 'pun', 'punch', 'punched', 'punctuation', 'pundits', 'punisher', 'punishment', 'punk', 'punks', 'punnisher', 'punter', 'puppies', 'pupshell', 'purchase', 'purchased', 'purchasers', 'purchases', 'purchasing', 'purdue', 'pure', 'purely', 'purged', 'purify', 'purist', 'purists', 'purpose', 'purposes', 'purring', 'purse', 'pursuade', 'pursuing', 'pursuit', 'pus', 'push', 'pushb', 'pushbutton', 'pushbuttons', 'pushing', 'pushpinder', 'pushrod', 'pusle', 'put', 'putimage', 'puting', 'puts', 'putting', 'puvvala', 'puzzle', 'puzzled', 'puzzles', 'pvga1', 'pw_rop', 'pwagner', 'pwd', 'pwm', 'pwr', 'pws', 'px', 'pxg', 'pxl', 'pxphigs_info_display', 'pxphigs_info_flags_client_ss', 'pxphigs_info_flags_no_mon', 'pyramid', 'python', 'pyyy', 'q0', 'q1', 'q19', 'q250', 'q2iq', 'q6', 'q700', 'q800', 'q900', 'q950', 'qaplus', 'qazi', 'qbqsrmm', 'qc', 'qciuk', 'qckrpm', 'qd', 'qdeck', 'qemm', 'qetfvk961rr', 'qh', 'qhead', 'qhh2milc', 'qhq', 'qiang', 'qic', 'qix', 'qjs', 'qk3', 'qka', 'ql', 'qlchvc', 'qms', 'qnx', 'qool', 'qqd', 'qqlk', 'qr', 'qrmms5', 'qrq', 'qs', 'qscfphghl', 'qsp', 'qsqbuc', 'qssn', 'qty', 'quack', 'quad', 'quadmation', 'quadra', 'quadralink', 'quadrant', 'quadras', 'quadrophonia', 'quadruple', 'qualifies', 'qualify', 'qualities', 'quality', 'qualix', 'quan', 'quantative', 'quantity', 'quantum', 'quantums', 'quark', 'quarks', 'quart', 'quarter', 'quarterdeck', 'quarterly', 'quarters', 'quartet', 'quarts', 'quartz', 'quasar', 'quasi', 'quattro', 'quattros', 'que', 'quebec', 'queen', 'quek', 'quercia', 'queries', 'query', 'quest', 'question', 'questionable', 'questionaire', 'questions', 'queue', 'quiche', 'quick', 'quickcache', 'quickdraw', 'quicken', 'quicker', 'quickest', 'quickeys', 'quickie', 'quicklink', 'quickly', 'quickness', 'quickring', 'quicksilver', 'quicktime', 'quiet', 'quieter', 'quiets', 'quietwriter', 'quilty', 'quin', 'quinton', 'quintus', 'quirk', 'quit', 'quite', 'quits', 'quitting', 'quj', 'qume', 'quota', 'quotations', 'quote', 'quoted', 'quotes', 'quotiin', 'quoting', 'qut', 'quubut', 'quutqc', 'qx', 'r11', 'r12', 'r14', 'r1chjjij', 'r2', 'r3', 'r3000', 'r33020', 'r3ae', 'r4', 'r4000', 'r4jjxdk22e', 'r4server', 'r5', 'r5fix', 'r5fixes', 'r6', 'r6jjxb5f', 'r96ua', 'rab', 'rabbi', 'rabbit', 'rabbits', 'rabid', 'rac3', 'race', 'racecar', 'raced', 'racefab', 'racer', 'racers', 'races', 'racet', 'raceway', 'racial', 'racing', 'rack', 'rackmount', 'racks', 'radar', 'radia', 'radial', 'radials', 'radiate', 'radiated', 'radiates', 'radiation', 'radiator', 'radiators', 'radical', 'radically', 'radio', 'radios', 'radius', 'radiusware', 'radley', 'rae', 'rafael', 'raffle', 'rafting', 'rag', 'rage', 'raged', 'ragman', 'rags', 'ragtop', 'raichle', 'rails', 'rain', 'raindance', 'rainer', 'raines', 'raining', 'raise', 'raised', 'raising', 'rake', 'rakim', 'rally', 'ralph', 'ram', 'rama', 'ramble', 'ramblings', 'ramdac', 'ramones', 'ramping', 'ramps', 'rams', 'ran', 'rand', 'randall', 'random', 'randomly', 'range', 'ranged', 'rangefinder', 'ranger', 'rangers', 'ranges', 'ranging', 'rank', 'ranked', 'ranks', 'ranlib', 'rao', 'raods', 'raound', 'rap', 'rape', 'rapid', 'rapidly', 'rapids', 'rapists', 'raquetball', 'rare', 'rarely', 'rarity', 'ras', 'rash', 'raster', 'rasterizer', 'rasterizing', 'rasterops', 'rasters', 'rat', 'rate', 'rated', 'rates', 'rather', 'rating', 'ratings', 'ratio', 'rational', 'rationale', 'rationally', 'ratios', 'rattle', 'rattled', 'rattling', 'rave', 'ravel', 'raveling', 'ravi', 'ravikuma', 'ravikumar', 'raving', 'ravings', 'raw', 'ray', 'ray_lauff', 'raymond', 'raytracer', 'razor', 'rb', 'rbacalzo', 'rboudrie', 'rc', 'rca', 'rcdpaxafrl', 'rcmd', 'rcs', 'rcsdiff', 'rcsinfo', 'rcsmerge', 'rcstest', 'rd', 'rdd', 'rdf', 're', 'reabet', 'reach', 'reached', 'reaches', 'reaching', 'reacted', 'reaction', 'reacts', 'read', 'read_len', 'reada', 'readable', 'reader', 'readers', 'readily', 'reading', 'readings', 'readjust', 'readme', 'readme_build', 'readmes', 'readout', 'readright', 'reads', 'ready', 'reagent', 'real', 'realignment', 'realise', 'realistic', 'realistically', 'reality', 'realization', 'realize', 'realized', 'realizes', 'realizing', 'realloc', 'reallocated', 'really', 'realms', 'realtime', 'realtimex', 'realty', 'realy', 'reanable', 'reap', 'reapir', 'reappear', 'reappeared', 'reappears', 'rear', 'rearranges', 'rears', 'rearview', 'reason', 'reasonable', 'reasonably', 'reasoned', 'reasoning', 'reasons', 'rebate', 'rebel', 'rebellion', 'rebels', 'reboot', 'rebooted', 'reboots', 'rebop', 'rebound', 'rebroadcast', 'rebuild', 'rebuilding', 'rebuilds', 'rebuilt', 'rebuttal', 'rec', 'recalibration', 'recall', 'recalled', 'reccomendations', 'receipt', 'receipts', 'receive', 'received', 'receiver', 'receivers', 'receives', 'receiving', 'recent', 'recentley', 'recently', 'reception', 'rechargable', 'recharge', 'rechargeable', 'recharger', 'recieve', 'reciever', 'recievers', 'recieves', 'recieving', 'recipient', 'reckon', 'recliner', 'recntly', 'recoend', 'recognised', 'recognition', 'recognizable', 'recognize', 'recognized', 'recognizes', 'recoil', 'recomend', 'recomended', 'recomending', 'recommend', 'recommendation', 'recommendations', 'recommended', 'recommends', 'recompile', 'recompiled', 'recompress', 'recondition', 'reconditioned', 'reconfigure', 'reconfigured', 'reconfiguring', 'reconnect', 'reconsider', 'reconsidered', 'record', 'recorded', 'recorder', 'recording', 'recordings', 'records', 'recoup', 'recourse', 'recover', 'recoverable', 'recovered', 'recovery', 'recreate', 'recreational', 'recruiting', 'rectangle', 'rectangles', 'rectangular', 'rectifier', 'rectobj', 'recurs', 'recursive', 'recycle', 'recycling', 'red', 'red_max', 'red_mult', 'redecorate', 'redefine', 'redefining', 'redesign', 'redesigned', 'redirect', 'redirected', 'redirecting', 'redirection', 'redistributable', 'redistribute', 'redistributed', 'redistribution', 'redline', 'redo', 'redraw', 'redrawing', 'redrawn', 'redraws', 'reduce', 'reduced', 'reducer', 'reduces', 'reducing', 'reduction', 'redundancies', 'redundancy', 'redundant', 'redwood', 'reed', 'reeds', 'reef', 'reel', 'reels', 'reencoding', 'ref', 'refer', 'refereed', 'reference', 'referenced', 'references', 'referencing', 'referred', 'referring', 'referrring', 'refers', 'refill', 'refilling', 'refills', 'refinished', 'reflect', 'reflected', 'reflecting', 'reflection', 'reflectors', 'refont', 'reform', 'reformat', 'reformatory', 'reformatted', 'reformatting', 'refrain', 'refresh', 'refreshed', 'refreshing', 'refrigerant', 'refrigerator', 'refugees', 'refund', 'refunded', 'refunds', 'refurbished', 'refurbishing', 'refuse', 'refused', 'refuses', 'reg', 'regain', 'regal', 'regals', 'reganomics', 'regard', 'regarded', 'regarding', 'regardless', 'regards', 'regency', 'regenerating', 'regent', 'regexp', 'region', 'regional', 'regions', 'register', 'registeration', 'registered', 'registering', 'registers', 'registration', 'registred', 'registry', 'regression', 'regret', 'regretably', 'regualr', 'regular', 'regularly', 'regulary', 'regulate', 'regulated', 'regulations', 'regulator', 'reguritated', 'rehash', 'rehosted', 'rei', 'rei8', 'reid', 'reilly', 'reimbursment', 'reimplementing', 'reinforce', 'reinforced', 'reingold', 'reinstall', 'reinstalled', 'reinstalling', 'reinventing', 'reinvoke', 'reitman', 'reject', 'rejected', 'rekimoto', 'reknowned', 'rel', 'rel4', 'relaible', 'relate', 'related', 'relation', 'relationship', 'relative', 'relatively', 'relatives', 'relativity', 'relaxed', 'relay', 'release', 'release3', 'release5', 'released', 'releases', 'releasing', 'relevant', 'relevent', 'reliability', 'reliable', 'reliablilty', 'reliablity', 'reliably', 'relict', 'relied', 'relief', 'relies', 'religion', 'religious', 'relink', 'relnotes', 'reload', 'relph', 'relph_c', 'relpies', 'reluctant', 'reluctantly', 'rely', 'relying', 'rem', 'remade', 'remain', 'remainder', 'remained', 'remaining', 'remains', 'remanufactured', 'remap', 'remapped', 'remapper', 'remappings', 'remaps', 'remar', 'remark', 'remarkable', 'remarkably', 'remarked', 'remarks', 'remeber', 'remebers', 'remember', 'remembered', 'remembering', 'remembrances', 'rememeber', 'remfg', 'remind', 'reminded', 'reminder', 'reminding', 'reminds', 'reminiscent', 'remix', 'remixes', 'remo', 'remodeled', 'remorhaz', 'remote', 'remotely', 'remotes', 'removable', 'removal', 'remove', 'removeable', 'removed', 'removes', 'removing', 'remus', 'rename', 'renamed', 'renault', 'render', 'rendered', 'renderer', 'renderers', 'rendering', 'renders', 'renditions', 'renew', 'renewal', 'renewed', 'renewing', 'reno', 'rensselaer', 'rent', 'rental', 'rented', 'reoccuring', 'rep', 'repaint', 'repainted', 'repair', 'repaired', 'repairing', 'repairman', 'repairs', 'reparable', 'reparent', 'reparented', 'reparenting', 'repeat', 'repeated', 'repeatedly', 'repeater', 'repeating', 'repeats', 'replace', 'replaced', 'replacement', 'replacements', 'replaces', 'replacing', 'replay', 'replica', 'replicas', 'replicating', 'replied', 'replies', 'replugged', 'reply', 'replying', 'replys', 'reponse', 'report', 'reported', 'reportedly', 'reporting', 'reports', 'reposition', 'repositioned', 'repost', 'reposting', 'represent', 'representation', 'representative', 'representatives', 'represented', 'representing', 'represents', 'reprint', 'reproduce', 'reprogrammed', 'republic', 'repurchase', 'reputable', 'reputation', 'req', 'request', 'requested', 'requesting', 'requestor', 'requests', 'require', 'required', 'requirement', 'requirements', 'requires', 'requiring', 'rerun', 'res', 'resale', 'rescale', 'rescue', 'resealed', 'research', 'researched', 'researchers', 'researching', 'resedit', 'resell', 'reseller', 'resellers', 'resemblance', 'resemble', 'resembles', 'resembling', 'resend', 'resending', 'resent', 'reseq', 'reserv', 'reservation', 'reserve', 'reserved', 'reserving', 'reservoir', 'reset', 'reside', 'residence', 'resident', 'residential', 'residents', 'resides', 'resignation', 'resinstall', 'resist', 'resistance', 'resistor', 'resistors', 'resize', 'resize_inits', 'resized', 'resizes', 'resizing', 'reskinned', 'resold', 'resoldering', 'resolution', 'resolutions', 'resolve', 'resonable', 'resond', 'resopnd', 'resort', 'resorts', 'resource', 'resource_manager', 'resources', 'resp', 'respect', 'respected', 'respectful', 'respectfully', 'respective', 'respectively', 'respiratory', 'responces', 'respond', 'responded', 'respondents', 'responder', 'responding', 'responds', 'respons', 'response', 'responses', 'responsibilities', 'responsibility', 'responsible', 'ressive', 'rest', 'restart', 'restarted', 'restarting', 'restate', 'restaurant', 'restaurants', 'restitution', 'restorable', 'restore', 'restored', 'restoring', 'restraint', 'restraints', 'restrict', 'restricted', 'restriction', 'restrictions', 'restricts', 'rests', 'resubmittion', 'result', 'resulted', 'resulting', 'results', 'resume', 'ret', 'ret_help', 'ret_no', 'ret_none', 'ret_yes', 'retail', 'retailer', 'retailers', 'retails', 'retain', 'retaining', 'retard', 'retention', 'retirement', 'retiring', 'retold', 'retract', 'retracted', 'retransmissions', 'retreive', 'retrieve', 'retrieved', 'retrieves', 'retrieving', 'retrofit', 'retrofits', 'retrospect', 'return', 'return_place', 'returned', 'returning', 'returns', 'reupholstered', 'reusable', 'reuse', 'rev', 'revamped', 'reveal', 'revealed', 'reveals', 'revelant', 'revenge', 'revenue', 'reverb', 'reverse', 'reversed', 'reversevideo', 'revert', 'reverting', 'reverts', 'review', 'reviewed', 'reviewers', 'reviews', 'revise', 'revised', 'revision', 'revisions', 'revoked', 'revolution', 'revolutionary', 'revolver', 'revs', 'revving', 'reward', 'rewarded', 'rewind', 'rewired', 'reworked', 'rewrite', 'rewrites', 'rewriting', 'rewritten', 'rewrote', 'rex', 'reymont', 'reynolds', 'rez', 'rf', 'rfd', 'rg58', 'rgasch', 'rgb', 'rgb_gray_map', 'rgonzal', 'rhd', 'rhineland', 'rhomat', 'ria', 'rial', 'rib', 'ribbon', 'ribbons', 'ric', 'rice', 'rich', 'richard', 'richardson', 'richg', 'richie', 'richland', 'richr', 'richtig', 'rick', 'ricoh', 'rid', 'riddance', 'ridden', 'ride', 'rider', 'rides', 'ridiculous', 'ridiculously', 'riding', 'rids', 'rig', 'right', 'righteous', 'rightfully', 'righting', 'rightmost', 'rights', 'rightward', 'rigid', 'rik', 'rim', 'rims', 'rindex', 'ring', 'ringer', 'ringo', 'ringout', 'rings', 'rintintin', 'riots', 'rip', 'ripcam', 'ripe', 'ripoff', 'ripped', 'ripper', 'rips', 'ription', 'risc', 'risk', 'rit', 'rite', 'rites', 'river', 'riverside', 'riviera', 'rj', 'rj11c', 'rj45', 'rl1', 'rle', 'rlh2', 'rll', 'rlog', 'rlogin', 'rm', 'rma', 'rmail', 'rmdir', 'rmit', 'rmt', 'rn', 'rname', 'ro', 'road', 'roading', 'roadmarkings', 'roadrunner', 'roads', 'roadsters', 'roadtrips', 'roadways', 'roamer', 'rob', 'robbers', 'robbie', 'robert', 'roberto', 'robertson', 'robin', 'robinson', 'robocop', 'robot', 'robotics', 'robots', 'robotx0', 'robust', 'rochester', 'rock', 'rocker', 'rockers', 'rocket', 'rocketeer', 'rockets', 'rocketshare', 'rockford', 'rocking', 'rocks', 'rockwell', 'roctec', 'rod', 'rode', 'rodney', 'rods', 'roell', 'roger', 'rogerr', 'rogers', 'rogerskm', 'rogess', 'rogue', 'rohrer', 'rok', 'roland', 'role', 'rolex', 'rolexen', 'roll', 'rolldown', 'rolled', 'roller', 'rollers', 'rolling', 'rollover', 'rom', 'roman', 'rome', 'romeo', 'romeos', 'rommates', 'roms', 'ron', 'ronald', 'roof', 'roofs', 'room', 'roomate', 'roommate', 'rooms', 'roomy', 'root', 'root_geometry_manager', 'root_iden', 'rooting', 'rootreturn', 'roots', 'rootweave', 'rootwindow', 'rootwindowofscreen', 'rootx', 'rooty', 'ropes', 'rose', 'rosen', 'rosenkranz', 'rosenthal', 'roses', 'rosqui', 'ross', 'rossi', 'rosslyn', 'rot13', 'rot13ed', 'rotary', 'rotate', 'rotated', 'rotates', 'rotating', 'rotation', 'rotations', 'rotor', 'rotors', 'rotten', 'rotting', 'rough', 'roughly', 'round', 'rounded', 'rounding', 'rounds', 'roundtrip', 'route', 'routed', 'router', 'routers', 'routine', 'routines', 'routing', 'rover', 'rovers', 'row', 'row_length', 'rowcolumn', 'rowell', 'rows', 'roxette', 'roy', 'royal', 'royalties', 'royalty', 'rpc', 'rpg', 'rpgs', 'rpi', 'rpk105', 'rpm', 'rpms', 'rps', 'rpw', 'rqj', 'rrc', 'rrn', 'rrr', 'rs', 'rs6000', 'rsbn4', 'rsh', 'rsn', 'rsvp', 'rt', 'rt30', 'rt55', 'rt80', 'rtf', 'rtfm', 'rthomson', 'rtl', 'rtsg', 'rub', 'rubber', 'rubberband', 'rubbing', 'rude', 'rue', 'ruedy', 'ruf', 'rugged', 'ruins', 'ruiter', 'rule', 'rule_year', 'ruled', 'rules', 'rum', 'rumble', 'rumblings', 'rumor', 'rumored', 'rumors', 'rumour', 'rumoured', 'rumours', 'run', 'runabout', 'runaway', 'runing', 'runner', 'runners', 'running', 'runs', 'runtime', 'runtimes', 'rush', 'rushed', 'russia', 'russian', 'rust', 'rusted', 'rusting', 'rustproofed', 'rutgers', 'ruth', 'rutirasiri', 'ruts', 'ruu', 'rv', 'rvenkate', 'rvloon', 'rw', 'rw404', 'rwd', 'rwf2', 'rws', 'rx', 'rx7', 'rxcmd', 'ryan', 's0', 's10', 's11', 's120', 's2p', 's3', 's300', 's4', 's58dfd', 's7', 's700', 's96', 's_fuller', 'sa', 'saab', 'saabs', 'saad', 'saber', 'sable', 'sables', 'sabotage', 'sabretooth', 'sac', 'sacks', 'sacramento', 'sacred', 'sacremento', 'sacrifice', 'sacrificing', 'sad', 'sadler', 'sadly', 'sae', 'safe', 'safeguards', 'safely', 'safer', 'safest', 'safety', 'safty', 'saga', 'sage', 'sahara', 'saic', 'said', 'sailboat', 'sais', 'sakagami', 'sake', 'salary', 'sale', 'sales', 'salesdroid', 'salesdroids', 'salesman', 'salesmanager', 'salesmen', 'salespeople', 'salesperson', 'saling', 'salmon', 'salons', 'saloon', 'salt', 'salzo', 'sam', 'sam_moore', 'samborn', 'same', 'same_screen', 'samerun', 'sames', 'sami', 'sample', 'sampler', 'samples', 'sampling', 'sams', 'samsung', 'samuel', 'samurai', 'samx1', 'san', 'san_luis_obispo_ca', 'sanctioned', 'sand', 'sandiego', 'sands', 'sandy', 'sane', 'saner', 'sanford', 'sanitation', 'sanity', 'sanjay', 'sanjeev', 'sanritsu', 'sans', 'santa', 'sapre', 'saps', 'sarah', 'sarcastic', 'sarek', 'sargon', 'sartin', 'sas', 'sase', 'sasun1', 'sat', 'satellite', 'satiate', 'satified', 'sating', 'satire', 'satisfactory', 'satisfaxtion', 'satisfied', 'satisfy', 'saturday', 'saturn', 'saturns', 'sauber', 'saudi', 'save', 'saved', 'savelines', 'saver', 'saves', 'saving', 'savings', 'savior', 'savoy', 'saw', 'sawran', 'sax', 'say', 'sayers', 'sayeth', 'saying', 'says', 'sb', 'sbar_bw', 'sbar_width', 'sbc', 'sbcs', 'sbphy', 'sbrogii', 'sbus', 'sc', 'sc1', 'sc2', 'sc2jh', 'sc300', 'scalable', 'scale', 'scaled', 'scaleimage', 'scales', 'scaling', 'scam', 'scan', 'scandanavian', 'scandinavian', 'scanf', 'scanjet', 'scanline_pad', 'scanman', 'scanned', 'scanned_len', 'scanner', 'scanners', 'scanning', 'scanrates', 'scans', 'scarce', 'scare', 'scared', 'scares', 'scarlet', 'scary', 'scatsx', 'scatter', 'scca', 'sccsi', 'scenario', 'scene', 'scenery', 'scenes', 'scenic', 'schalkoff', 'schedule', 'scheduler', 'schedulers', 'schedules', 'scheduling', 'scheifler', 'schell', 'schematic', 'scheme', 'schemes', 'scherer', 'schietke', 'schimmel', 'schirf', 'schizophrenia', 'schleife', 'schmetics', 'schoene', 'school', 'schools', 'schoolteacher', 'schwabians', 'schwarz', 'schwerelos', 'schwimwagen', 'sci', 'scien', 'science', 'sciences', 'scientific', 'scientist', 'scirocco', 'scissors', 'scm', 'scms', 'sco', 'sco1', 'scol', 'scomail', 'scoop', 'scooter', 'scopaint', 'scope', 'scoring', 'scorpions', 'scoterm', 'scott', 'scource', 'scout', 'scouts', 'scowen', 'scr', 'scrabble', 'scrables', 'scrambler', 'scrape', 'scratch', 'scratched', 'scratches', 'scratching', 'scratchy', 'scream', 'screaming', 'screen', 'screen_number', 'screendump', 'screens', 'screw', 'screwdriver', 'screwed', 'screwey', 'screwing', 'screwmount', 'screws', 'screwup', 'scripps', 'script', 'scripting', 'scripts', 'scriptworks', 'scroll', 'scrollback', 'scrollbar', 'scrolled', 'scrolling', 'scrolls', 'scrubbers', 'scsi', 'scsi2', 'scsigraph', 'scslwide', 'sculptured', 'scum', 'scumster', 'scuzzi', 'sd', 'sdb', 'sdc', 'sdexter', 'sdk', 'sdsc', 'sdsu', 'sdtr', 'se', 'se05', 'sea', 'seagate', 'seagates', 'seal', 'sealant', 'sealed', 'seals', 'seam', 'seamless', 'seams', 'sean', 'search', 'searching', 'seas', 'season', 'seasons', 'seat', 'seatbelt', 'seated', 'seater', 'seats', 'seattle', 'sebastapol', 'sebastian', 'sec', 'secluded', 'second', 'secondary', 'secondly', 'seconds', 'secret', 'secretary', 'secrets', 'section', 'sections', 'sector', 'sectors', 'secure', 'secured', 'securely', 'security', 'securly', 'sed', 'sedan', 'sedans', 'sedate', 'see', 'seed', 'seeded', 'seeem', 'seeing', 'seek', 'seeking', 'seeks', 'seely', 'seem', 'seemed', 'seemingly', 'seems', 'seen', 'sees', 'seet', 'seetex', 'seething', 'sega', 'segate', 'segment', 'segmentation', 'segmenting', 'segments', 'seguin', 'sei', 'seige', 'seize', 'selah', 'seldom', 'sele_pntr', 'select', 'selectable', 'selectcursor', 'selected', 'selecting', 'selection', 'selectionrequest', 'selections', 'selector', 'selectors', 'selects', 'selectterm', 'self', 'selfcritisism', 'selfrefreshing', 'sell', 'seller', 'sellers', 'selling', 'sells', 'selves', 'sem1', 'semantics', 'semblance', 'semd', 'semester', 'semi', 'semilog', 'seminar', 'seminars', 'senate', 'senator', 'send', 'send_i', 'sender', 'sending', 'sendmail', 'sendps2', 'sends', 'seningen', 'senior', 'seniors', 'senna', 'sennas', 'sensational', 'sense', 'sense0', 'sense1', 'sense2', 'senseless', 'senses', 'sensing', 'sensitive', 'sensitivity', 'sensor', 'sensor_', 'sensors', 'sent', 'sentence', 'sentences', 'sentiments', 'sentinel', 'sentra', 'sep', 'separate', 'separated', 'separately', 'separatley', 'separet', 'seperate', 'seperated', 'seperately', 'seperatly', 'sept', 'september', 'seqence', 'sequence', 'sequences', 'sequent', 'serait', 'serc', 'serenade', 'serenia', 'serf', 'serial', 'series', 'serif', 'serious', 'seriously', 'serpent', 'serve', 'served', 'server', 'serveral', 'serverdict', 'servers', 'serves', 'service', 'services', 'servicing', 'serving', 'servo', 'servor', 'servos', 'servotronic', 'ses', 'session', 'sessions', 'sesssion', 'set', 'set_model_init_attributes', 'set_values', 'set_values_almost', 'set_values_hook', 'setback', 'setenv', 'setframeshape', 'setgid', 'seth', 'setitup', 'setjmp', 'setnetpath', 'sets', 'setsystemparams', 'setting', 'settings', 'settle', 'settled', 'settles', 'setuid', 'setup', 'setups', 'setvalue', 'setvalues', 'setwutime', 'seven', 'several', 'severe', 'severely', 'severities', 'seville', 'sewall', 'sewing', 'sexual', 'sexy', 'sez', 'sf', 'sfc', 'sfo', 'sft', 'sfu', 'sg', 'sganet', 'sgcs', 'sgi', 'sh', 'shack', 'shade', 'shaded', 'shades', 'shading', 'shadow', 'shadowgate', 'shadowman', 'shadows', 'shady', 'shaft', 'shafts', 'shah', 'shaikha', 'shailesh', 'shake', 'shaker', 'shaking', 'shaky', 'shall', 'shallow', 'shambhala', 'shameful', 'shameless', 'shane', 'shanghai', 'shanna', 'shantanu', 'shape', 'shaped', 'shapes', 'shapewindow', 'shar', 'shar_eof', 'sharable', 'share', 'shareable', 'shared', 'sharedx', 'shares', 'shareware', 'sharewares', 'sharing', 'shark', 'sharma', 'sharon', 'sharp', 'sharpen', 'sharpened', 'sharply', 'shash', 'shattered', 'shatterstar', 'shdr', 'she', 'shear', 'shearing', 'shearson', 'shebang', 'shecom', 'shed', 'sheddap', 'sheen', 'sheena', 'sheer', 'sheesh', 'sheet', 'sheets', 'shelby', 'shelf', 'shell', 'shell_bw', 'shell_height', 'shell_width', 'shells', 'shelltool', 'sheltered', 'shelves', 'shenk', 'sher', 'shereware', 'sheriff', 'sherlock', 'sherman', 'sherwood', 'shibboleths', 'shield', 'shieldings', 'shields', 'shift', 'shifted', 'shifter', 'shifters', 'shifting', 'shiftlock', 'shifts', 'shimano', 'shine', 'shiney', 'shinobi', 'shiny', 'ship', 'shipment', 'shipments', 'shipp', 'shippe', 'shipped', 'shipping', 'shippinig', 'ships', 'shirley', 'shirt', 'shirts', 'shit', 'shite', 'shitted', 'shiva', 'shl', 'shm', 'shmat', 'shmget', 'sho', 'shock', 'shocked', 'shocks', 'shoe', 'shoes', 'shook', 'shoot', 'shooter', 'shooting', 'shop', 'shopper', 'shoppers', 'shopping', 'shops', 'shore', 'shoreline', 'short', 'shortcoming', 'shortcut', 'shorted', 'shorten', 'shortening', 'shorter', 'shortest', 'shorthand', 'shorting', 'shortly', 'shorts', 'shorwave', 'shot', 'shotgun', 'shots', 'shou', 'should', 'shoulder', 'shouldn', 'shouts', 'show', 'show_left_mouse_position', 'show_mouse_position', 'show_right_mouse_position', 'showed', 'shower', 'showfont', 'showing', 'showme', 'shown', 'showpointercoordinates', 'showrgb', 'showroom', 'shows', 'shppg', 'shr', 'shrapnel', 'shred', 'shrienk', 'shrink', 'shrinkwrap', 'shrinkwrapped', 'shrinkwrapping', 'shrrchr', 'shrug', 'shudder', 'shuffle', 'shuffleboard', 'shuffled', 'shuffler', 'shuffling', 'shugart', 'shure', 'shut', 'shutdown', 'shutoff', 'shutter', 'shutting', 'shuttle', 'shx', 'shy', 'si', 'sic', 'sicily', 'sick', 'sicstus', 'sid', 'side', 'sided', 'sidelined', 'sides', 'sidestep', 'sidewalk', 'sidewalks', 'sidewall', 'sideways', 'siding', 'sidler', 'siebenlist', 'siegfried', 'siemen', 'siemens', 'sierra', 'sig', 'sigalrm', 'siggraph', 'sigh', 'sight', 'sighting', 'sigle', 'sigma', 'sign', 'signal', 'signals', 'signature', 'signature___________________________', 'signed', 'signifacantly', 'significance', 'significant', 'significantly', 'signs', 'sigpipe', 'sigs', 'sigterm', 'sii', 'silencer', 'silent', 'silently', 'silex', 'silicon', 'silicone', 'silicones', 'silk', 'silly', 'sillyness', 'silogic', 'silver', 'silverfox', 'silverlining', 'silvester', 'similar', 'similarity', 'similarly', 'similiar', 'simm', 'simms', 'simon', 'simonsom', 'simonson', 'simple', 'simpler', 'simplest', 'simplex', 'simplicity', 'simplified', 'simplifies', 'simplify', 'simply', 'simpson', 'simpsons', 'sims', 'simsh', 'simtel20', 'simula', 'simulate', 'simulation', 'simulations', 'simulator', 'simulators', 'simultaion', 'simultaneous', 'simultaneously', 'sin', 'sinc', 'since', 'sincerely', 'sincerly', 'sinclair', 'sine', 'sing', 'singapore', 'singer', 'singh', 'singing', 'single', 'singles', 'sinister', 'sink', 'sinkhole', 'sinks', 'siocgifconf', 'sipp', 'sipps', 'sir', 'sira', 'sire', 'sirius', 'sirs', 'sister', 'sit', 'sitcoms', 'site', 'sites', 'sitex', 'sits', 'sitting', 'situation', 'situations', 'sivesh', 'six', 'sixteen', 'sixth', 'siz', 'size', 'sizeable', 'sized', 'sizeof', 'sizes', 'sj', 'sjwyrick', 'skates', 'skating', 'skeena', 'skeleton', 'sketch', 'sketching', 'sketchpad', 'ski', 'skid', 'skidpad', 'skidpads', 'skiing', 'skill', 'skillcraft', 'skilled', 'skills', 'skins', 'skip', 'skip_to', 'skipping', 'skirts', 'skku', 'skull', 'skylark', 'sl', 'sl1', 'sl2', 'slab', 'slalom', 'slammed', 'slammer', 'slamming', 'slant', 'slapped', 'slash', 'slashed', 'slate', 'slave', 'slaves', 'slavishly', 'slb', 'slc10', 'sleave', 'sleazy', 'sleep', 'sleeping', 'sleepp', 'sleeps', 'sleepwalker', 'sleeve', 'sleeves', 'slfg3', 'slgihtly', 'slice', 'sliced', 'slices', 'slick', 'slick50', 'slide', 'slider', 'slidermoved', 'sliders', 'slides', 'slideshow', 'sliding', 'slight', 'slightly', 'slim', 'slip', 'slipcase', 'slippery', 'slipping', 'slips', 'slither', 'slo', 'sloan', 'slobs', 'sloped', 'slopes', 'sloppy', 'slosser', 'slot', 'slots', 'slow', 'slowdown', 'slowdowns', 'slowed', 'slower', 'slowest', 'slowing', 'slowly', 'slows', 'slr', 'sls', 'slslc', 'slt', 'sluggish', 'sm', 'sm10', 'sm11', 'smack', 'smail', 'small', 'smaller', 'smallest', 'smallish', 'smalltalk', 'smarks', 'smart', 'smartcam', 'smarts', 'smartwriter', 'smashers', 'smears', 'smell', 'smelliest', 'smile', 'smilies', 'smiling', 'smith', 'smoked', 'smoker', 'smokers', 'smoking', 'smooth', 'smoother', 'smoothly', 'smoothness', 'sms30d', 'smsc', 'smsd', 'smtp', 'smudge', 'smug', 'smuther', 'smyth', 'snag', 'snail', 'snakes', 'snap', 'snapix', 'snappier', 'snappy', 'snaps', 'snapshot', 'snare', 'snatched', 'snazzy', 'snd', 'sneaky', 'sneaze', 'snes', 'snf', 'snftobdf', 'sni', 'sniffer', 'sniffers', 'snitily', 'snmp', 'snob', 'snooper', 'snot', 'snow', 'snows', 'snowy', 'snuff', 'snug', 'snugly', 'snyder', 'so', 'so_dontlinger', 'soak', 'soaked', 'soapy', 'soc', 'soccer', 'social', 'socialistic', 'societa', 'society', 'sociology', 'socket', 'socketed', 'sockets', 'socketted', 'soda', 'sodam', 'sodomy', 'soe', 'soft', 'softarch', 'softawre', 'softball', 'softer', 'softerm', 'softlanding', 'softpc', 'softquad', 'softsolut', 'softwae', 'software', 'softwares', 'sohc', 'sohn', 'sol', 'solar', 'solaris', 'solaris2', 'solbourne', 'sold', 'solder', 'soldered', 'solderer', 'soldering', 'soldier', 'solds', 'sole', 'solely', 'soley', 'solicit', 'solicited', 'soliciting', 'solicts', 'solid', 'solidity', 'soligor', 'solitaire', 'solo', 'soloflex', 'solomon', 'solution', 'solutions', 'solve', 'solved', 'solvent', 'solves', 'solving', 'some', 'some_arbitary_text', 'somebody', 'someday', 'someeventhandler', 'somehow', 'somekind', 'someone', 'someplace', 'somerset', 'somesuch', 'somesuchlike', 'something', 'sometime', 'sometimes', 'somewhat', 'somewhere', 'somewheres', 'sommer', 'son', 'sonata', 'song', 'songs', 'sonic', 'sonically', 'sonics', 'sonny', 'sonoma', 'sony', 'soon', 'sooner', 'sooo', 'soooooo', 'soooooooooooooooorry', 'sophamore', 'sophia', 'sophisicated', 'sophisticated', 'sor', 'sorcerors', 'sore', 'soren', 'sorensen', 'sorry', 'sort', 'sorted', 'sorts', 'sos', 'sos5', 'sought', 'soul', 'sould', 'souls', 'soun', 'sound', 'soundbase', 'soundblaster', 'sounded', 'soundedit', 'sounder', 'sounding', 'sounds', 'soundtrack', 'soup', 'source', 'sourcen', 'sources', 'souround', 'south', 'southeast', 'southern', 'souvenirs', 'soviet', 'sowrds', 'sp', 'space', 'spaced', 'spacer', 'spaces', 'spaceward', 'spacial', 'spacious', 'spacsun', 'spain', 'span', 'spanking', 'sparc', 'sparc2', 'sparcclassic', 'sparcom', 'sparcs', 'sparcserver470', 'sparcstation', 'sparcstation2', 'sparcstations', 'sparcstaton', 'spare', 'spares', 'spark', 'sparkling', 'sparse', 'spattered', 'spawn', 'spawns', 'spc5', 'spdc', 'spdif', 'speactrum', 'speak', 'speaker', 'speakers', 'speaking', 'spearman', 'spec', 'specfication', 'specfp92', 'special', 'special_build', 'special_name', 'special_src', 'specialize', 'specialized', 'specially', 'specialty', 'specific', 'specifically', 'specification', 'specifications', 'specifics', 'specified', 'specifies', 'specify', 'specifying', 'specint', 'specint92', 'speckman', 'specs', 'spectacle', 'spectacular', 'spectacularly', 'spectator', 'spector', 'spectra', 'spectre', 'spectro', 'spectrum', 'speculated', 'speculation', 'speeches', 'speechwriters', 'speed', 'speedand', 'speedbumps', 'speedier', 'speeding', 'speedo', 'speedomete', 'speedometer', 'speedometer3', 'speeds', 'speedup', 'speedups', 'speedwise', 'speedy', 'spell', 'spelled', 'spelling', 'spelljammer', 'spells', 'spelunker', 'spend', 'spending', 'spent', 'spi', 'spica', 'spider', 'spiderhulk', 'spiderman', 'spiders', 'spiderslayer', 'spidery', 'spidey', 'spies', 'spigot', 'spike', 'spiky', 'spill', 'spilling', 'spin', 'spine', 'spinning', 'spinoffs', 'spins', 'spiral', 'spirit', 'spiros', 'spit', 'spite', 'spits', 'spitting', 'spl', 'splatterhouse', 'splice', 'splicing', 'spline', 'splinter', 'split', 'splits', 'splitting', 'spoiler', 'spoilers', 'spoke', 'spoken', 'spokes', 'spokeswoman', 'sponsor', 'sponsored', 'sponsoring', 'sponsors', 'spontaneouly', 'spontaneous', 'spoofed', 'spoofing', 'spools', 'sporadic', 'sport', 'sportmodel', 'sports', 'sportstalk', 'sportster', 'sportview', 'sporty', 'spot', 'spots', 'spotsbm', 'spotted', 'spotty', 'spped', 'spray', 'sprayed', 'spread', 'spreader', 'spreading', 'spreadsheet', 'spreadsheets', 'sprec', 'sprechman', 'spri', 'spring', 'springs', 'sprint', 'sprintf', 'sprit', 'sprite', 'sps', 'spun', 'spurious', 'spy', 'spyglass', 'sq', 'squad', 'square', 'squarely', 'squash', 'squat', 'squaw', 'squeaks', 'squeegie', 'squeezable', 'squeeze', 'squeeze_info', 'squeezecenter', 'squeezed', 'squeezeinfo', 'squeezeleft', 'squeezeright', 'squeezing', 'squelch', 'squidly', 'squirrel', 'squu', 'sr', 'sram', 'src', 'srd', 'srf', 'sri', 'srp', 'srv', 'srvsn2', 'ss', 'ss1', 'ss10', 'ss10x2', 'ssave', 'ssb', 'ssd', 'ssetroot', 'ssii', 'ssiny', 'sspeed', 'sssssoooooooooooo', 'st', 'st1196', 'st138n', 'st1480', 'st351', 'st41200n', 'st_size', 'staatlichen', 'stab', 'stabbing', 'stabell', 'stability', 'stabilizing', 'stable', 'stables', 'stabs', 'stac', 'stack', 'stacked', 'stacker', 'stacking', 'stacks', 'stadium', 'stadt', 'staes', 'staff', 'stage', 'staged', 'stages', 'stagger', 'staging', 'stahl', 'stainless', 'stains', 'stale', 'stalingra', 'stalingrad', 'stalk', 'stalkers', 'stalled', 'stalls', 'stamp', 'stamped', 'stamps', 'stand', 'standalone', 'standard', 'standardize', 'standardized', 'standards', 'standarization', 'standars', 'stander', 'standing', 'standpoint', 'stands', 'stanford', 'stangs', 'stann', 'stanza', 'staples', 'star', 'stardent', 'starlin', 'starnet', 'starr', 'stars', 'start', 'start_date', 'start_time', 'start_x_clients_script', 'started', 'starter', 'starters', 'starting', 'startled', 'startrek', 'starts', 'startup', 'startx', 'stasi', 'stat', 'statbuf', 'state', 'stated', 'statement', 'statements', 'states', 'static', 'statically', 'staticcolor', 'statics', 'stating', 'station', 'station2', 'stations', 'statistics', 'statlib', 'stats', 'status', 'stay', 'stayed', 'staying', 'stays', 'std', 'stdarg', 'stdcmap', 'stderr', 'stdin', 'stdio', 'stdlib', 'stdout', 'steady', 'steal', 'stealing', 'steals', 'stealth', 'stealths', 'steam', 'steamed', 'steel', 'steep', 'steer', 'steering', 'stefan', 'steinar', 'steinarb', 'stell', 'stella', 'stellar', 'stellix', 'stellt', 'stem', 'stemming', 'stems', 'step', 'stephen', 'stepped', 'stepping', 'steps', 'stereo', 'sterling', 'stero', 'steup', 'steve', 'steven', 'stevens', 'stevew', 'stew', 'stewart', 'steyr', 'sti', 'stick', 'sticker', 'stickers', 'stickiness', 'sticking', 'sticks', 'sticky', 'stiff', 'stiffed', 'stiffer', 'stil', 'still', 'stillwater', 'sting', 'stingy', 'stink', 'stinks', 'stinky', 'stipple', 'stippled', 'stir', 'stitched', 'stix', 'stna', 'stna7', 'sto', 'stochniol', 'stock', 'stocked', 'stockholm', 'stolcke', 'stole', 'stolen', 'stone', 'stones', 'stong', 'stood', 'stooped', 'stop', 'stoplight', 'stoploop', 'stopped', 'stopper', 'stopping', 'stops', 'stopwatch', 'storage', 'store', 'stored', 'stores', 'stories', 'storing', 'storm', 'stormovik', 'storms', 'story', 'storyville', 'stove', 'str', 'straight', 'straightened', 'straightforward', 'strait', 'straiter', 'strange', 'strangely', 'strangest', 'stranglehold', 'strap', 'straps', 'strategic', 'strategies', 'strategy', 'stratospheric', 'stratum', 'stratus', 'strauss', 'strchr', 'strcmp', 'strd', 'streak', 'stream', 'streams', 'strech', 'street', 'streets', 'strenghthens', 'stress', 'stresses', 'stressful', 'stretch', 'stretched', 'stretches', 'stricly', 'strict', 'stricter', 'strictly', 'strike', 'striker', 'strikes', 'string', 'stringdefs', 'strings', 'strip', 'stripe', 'stripped', 'stripping', 'strips', 'strlen', 'strncmp', 'strobl', 'stroke', 'strong', 'stronger', 'strongly', 'strrchr', 'struck', 'struct', 'structs', 'structural', 'structurally', 'structure', 'structured', 'structurenotifymask', 'structures', 'struggles', 'struggling', 'strut', 'struts', 'sts', 'stty', 'stuart', 'stub', 'stubby', 'stubid', 'stubs', 'stuck', 'student', 'students', 'studies', 'studio', 'studs', 'study', 'studyware', 'stuf', 'stuff', 'stuffed', 'stumped', 'stunted', 'stupid', 'stupidity', 'sturdy', 'style', 'styled', 'styles', 'stylewriter', 'styling', 'stylus', 'styrofoam', 'su', 'su25', 'sub', 'subaru', 'subatomic', 'subclass', 'subcompact', 'subdirectories', 'subdirectory', 'subharmonic', 'subject', 'subjected', 'subjective', 'subjects', 'sublease', 'sublet', 'subliminal', 'submarine', 'submariner', 'submerged', 'submission', 'submissions', 'submit', 'submitted', 'submitters', 'submitting', 'submittion', 'subnets', 'subpart', 'subprocess', 'subroutine', 'subroutines', 'subs', 'subscribe', 'subscribed', 'subscriber', 'subscription', 'subscriptions', 'subsequent', 'subsequently', 'subset', 'subshell', 'subsidize', 'subsitutes', 'subsonic', 'substance', 'substantial', 'substantially', 'substitute', 'substituted', 'substitutes', 'substitution', 'subsumption', 'subsystem', 'subtitle', 'subtle', 'subtleties', 'subtlety', 'subtract', 'subtree', 'suburban', 'suburbs', 'subw', 'subway', 'subwindow', 'subwindow_mode', 'subwindows', 'subwoofer', 'subwoofers', 'succeed', 'succeeds', 'succesfully', 'success', 'successful', 'successfully', 'successor', 'successors', 'succumbed', 'suceptible', 'sucessfuly', 'such', 'suck', 'sucked', 'sucker', 'suckers', 'sucks', 'suction', 'sudden', 'suddenly', 'suddnely', 'sudhi', 'sudhindranath', 'sue', 'suffer', 'suffering', 'suffers', 'suffice', 'sufficient', 'sufficiently', 'suffix', 'suffuce', 'sug', 'sugar', 'sugcd', 'suggesiton', 'suggest', 'suggested', 'suggesting', 'suggestion', 'suggestions', 'suggests', 'suid', 'suis', 'suit', 'suitable', 'suite', 'suited', 'suits', 'sulk', 'sullivan', 'sum', 'sumex', 'summaries', 'summarise', 'summarize', 'summarized', 'summarizing', 'summary', 'summer', 'sump', 'sums', 'sun', 'sun1', 'sun3', 'sun386i', 'sun3s', 'sun4', 'sun4_411', 'sun4_mach', 'sunagain', 'sunbeam', 'sunbim', 'sunbird', 'sunbum', 'suncg3c', 'suncg6c', 'suncopy', 'suncut', 'sundance', 'sundar', 'sunday', 'sundev', 'sundry', 'sunexpert', 'sunfind', 'sunfront', 'sunfse', 'sungx', 'suninit', 'sunkbd', 'sunkbd1216', 'sunny', 'sunnyt', 'sunnyvale', 'sunopen', 'sunopenframebuffer', 'sunos', 'sunos4', 'sunos5', 'sunpaste', 'sunpost411fcsld', 'sunpost411ld', 'sunprops', 'sunrise', 'sunroof', 'sunroofs', 'suns', 'sunset', 'sunshade', 'sunshine', 'sunsoft', 'sunspot', 'sunstop', 'sunsys_req', 'sunundo', 'sunview', 'sunwrite', 'sunysb', 'super', 'superback', 'superbase', 'supercedes', 'supercenter', 'superclass', 'superclone', 'supercomputing', 'superheated', 'superior', 'supermac', 'superman', 'supermario', 'supermarket', 'supernet', 'superpro', 'superscalar', 'superscaler', 'superseded', 'supersedes', 'superset', 'supersets', 'superslots', 'supersport', 'superstar', 'supertuner', 'supertwist', 'superuser', 'supervisors', 'supfaxv32bis', 'suports', 'supplement', 'supplemental', 'supplied', 'supplier', 'suppliers', 'supplies', 'supply', 'supplying', 'support', 'supported', 'supporting', 'supportive', 'supports', 'suppose', 'supposed', 'supposedly', 'supposing', 'suppossed', 'suppress', 'supra', 'suprafaxmodem', 'supras', 'supreme', 'sura', 'suraj', 'sure', 'sured', 'surely', 'suresh', 'surface', 'surfaces', 'surfer', 'surge', 'surpisingly', 'surplus', 'surprise', 'surprised', 'surprising', 'surprisingly', 'surrealistic', 'surrender', 'surround', 'surrounded', 'surrounding', 'surroundings', 'survey', 'surveys', 'survivability', 'survive', 'susan', 'sushi', 'susie', 'suspect', 'suspects', 'suspendered', 'suspension', 'suspensions', 'suspention', 'suspicious', 'suspiciously', 'sussex', 'sustain', 'sustained', 'sutton', 'suv', 'suvs', 'suzukis', 'svenska', 'svenv', 'svga', 'svin01', 'svo', 'svr3', 'svr4', 'svx', 'sw', 'sw1', 'sw2', 'swa', 'swamp', 'swansong', 'swap', 'swapped', 'swapping', 'swarms', 'swayne', 'swear', 'sweat', 'sweden', 'swedish', 'swedishbricks', 'sweep', 'sweeping', 'sweeptake', 'sweet', 'swell', 'swick', 'swiftly', 'swii', 'swildens', 'swill', 'swim', 'swimming', 'swimwear', 'swindow', 'swing', 'swirling', 'swiss', 'switch', 'switchable', 'switchbox', 'switched', 'switcher', 'switches', 'switching', 'swith', 'switzerland', 'swivel', 'swm', 'sword', 'swords', 'swore', 'sworn', 'sx', 'sxjcb', 'sxm', 'sxpm', 'sy', 'sybase', 'sychnet', 'syclone', 'sydos', 'syex', 'syl', 'syma', 'symantec', 'symbol', 'symbolic', 'symbols', 'symlink', 'symlinks', 'symmetric', 'symmetries', 'symp', 'sympathies', 'sympathy', 'symptom', 'symptoms', 'sync', 'synching', 'synchronicity', 'synchronize', 'synchronizers', 'synchronous', 'synchronously', 'synchros', 'syncronos', 'syncs', 'syncscrollbars', 'syndication', 'syndrom', 'synonyms', 'synoptics', 'syntax', 'synth', 'synthasized', 'synthaszied', 'synthesis', 'synthesizer', 'synthetic', 'synthetics', 'synthplus', 'syquest', 'sys', 'sysadmin', 'sysex', 'syslibs', 'sysmbols', 'sysop', 'sysquest', 'sysrq', 'system', 'system6', 'system7', 'systematically', 'systemdict', 'systemdirectory', 'systemhouse', 'systems', 'systemtask', 'sysv', 'sysvr3', 'sysvr4', 'sytem', 'sytsem', 'szebra', 't1200', 't1600', 't232', 't23l', 't2ll', 't2rn', 't30', 't3000h', 't324m', 't3401', 't5lkc0xz6lghf', 't6', 't70', 't92', 't921', 't_accept', 't_alloc', 't_bind', 't_close', 't_connect', 't_errno', 't_error', 't_ident', 't_listen', 't_look', 't_obj', 't_open', 't_rcv', 't_rcvdis', 't_unbind', 'ta', 'tab', 'table', 'tablehockey', 'tables', 'tablet', 'tablewidgetclass', 'tabs', 'tabular', 'tac', 'tach', 'tachometer', 'tacked', 'tackling', 'tacky', 'tactical', 'tactics', 'tad', 'tae', 'tae0460', 'tag', 'tagged', 'tago', 'tahoe', 'tail', 'tailgate', 'tailgaters', 'tailhappieness', 'taillamp', 'taillamps', 'taillight', 'taillights', 'tails', 'taintperl', 'taipei', 'taiping', 'taito', 'taiwanese', 'takahashi', 'take', 'taken', 'taker', 'takers', 'takes', 'takin', 'taking', 'takumar', 'tale', 'talent', 'tales', 'tali', 'taligent', 'talisman', 'talk', 'talked', 'talking', 'talks', 'tall', 'tallen', 'taller', 'talll', 'tally', 'talon', 'talons', 'tamu', 'tan', 'tandon', 'tandy', 'tang', 'tange', 'tank', 'tanks', 'tanqueray', 'tanzania', 'tap', 'tape', 'taped', 'tapedrive', 'tapes', 'tar', 'tarblock', 'targa', 'target', 'targeted', 'targets', 'targus', 'tarid', 'tarrifs', 'task', 'tasking', 'tasks', 'taste', 'tastefully', 'tastes', 'tatung', 'taught', 'taunting', 'taur', 'taurus', 'tax', 'taxes', 'taxi', 'taxis', 'taylor', 'tb', 'tbh1', 'tbl', 'tc', 'tc24', 'tcd', 'tce', 'tcl', 'tcl93', 'tcl_nm', 'tcp', 'tcpdump', 'tcpopen', 'tcpview', 'tcs', 'tcsh', 'tcshrc', 'tdkcs', 'tea', 'teac', 'teach', 'teacher', 'teaches', 'teaching', 'teal', 'team', 'teammate', 'teams', 'tear', 'tech', 'techinfo', 'techmar', 'techmo', 'technet1', 'technical', 'technically', 'technician', 'technicians', 'technicolor', 'technics', 'technik', 'technion', 'technique', 'techniques', 'techno', 'technojunkies', 'technological', 'technologically', 'technologies', 'technology', 'technote', 'techron', 'techs', 'techtrolene', 'techunix', 'techworks', 'tecmo', 'tecnology', 'ted', 'tedious', 'tee', 'teem', 'teen', 'teenage', 'teenager', 'teenagers', 'teens', 'teeth', 'teflon', 'teh', 'tei', 'tek', 'tekproc', 'tekprstbl', 'tektronics', 'tektronix', 'tekwm', 'tekxpress', 'tel', 'tele', 'telecom', 'telecommuting', 'telefinder', 'telefunken', 'telepath', 'telephone', 'telepointername', 'teleport', 'telescope', 'telescoping', 'telesoft', 'teleuse', 'television', 'telex', 'tell', 'telling', 'tellme', 'tells', 'telnet', 'teltech', 'temp', 'temperature', 'temperatures', 'tempest', 'template', 'templates', 'temple', 'tempo', 'temporarily', 'temporary', 'tempory', 'temps', 'temptation', 'tempted', 'ten', 'ten0772', 'tenant', 'tend', 'tended', 'tenderness', 'tends', 'tene', 'tenex', 'tennis', 'tens', 'tension', 'tenth', 'tenyard', 'teolis', 'ter', 'tercel', 'tercels', 'terkel', 'term', 'termcap', 'terminal', 'terminals', 'terminate', 'terminated', 'terminates', 'terminating', 'termination', 'terminations', 'terminator', 'terminators', 'terminfo', 'terminology', 'terms', 'terrace', 'terrain', 'terrible', 'terribly', 'territory', 'terry', 'tesseract', 'test', 'test1', 'testament', 'testarossa', 'testcolor', 'tested', 'tester', 'testers', 'testfiles', 'testified', 'testimonial', 'testing', 'testosterone', 'testprogram', 'tests', 'tetris', 'tevin', 'tex', 'texas', 'texiera', 'texinfo', 'text', 'text_w', 'textbook', 'textbooks', 'textcraft', 'textedit', 'textronics', 'texture', 'tfile', 'tfirst', 'tfoley', 'tfpayn01', 'tg', 'tg16', 'tga', 'tgif', 'tgraf', 'tgv', 'th', 'th3', 'thad', 'than', 'thangs', 'thank', 'thanking', 'thanks', 'thankyou', 'thanos', 'thant', 'thanx', 'that', 'thatat', 'thatch', 'thati', 'thatn', 'thats', 'thd', 'the', 'the_display', 'the_event', 'the_gc', 'the_gc_values', 'the_screen', 'the_window', 'theads', 'theapp', 'theaters', 'theatre', 'theckel', 'thedialog', 'thedm', 'theend', 'theft', 'thehulk', 'their', 'theirs', 'theisen', 'theives', 'thelike', 'thelonious', 'them', 'theme', 'themselves', 'themsevles', 'then', 'theodore', 'theoretical', 'theoretically', 'theories', 'theory', 'ther', 'therapeutics', 'therapy', 'there', 'thereabouts', 'thereby', 'therefore', 'theres', 'theresa', 'thermal', 'thermodynamics', 'thermometer', 'thermostat', 'thermostats', 'thesaurus', 'these', 'thesis', 'theta', 'thew', 'thexder', 'they', 'thick', 'thicker', 'thickness', 'thicknet', 'thickwire', 'thief', 'thieves', 'thin', 'thing', 'things', 'think', 'thinkc5', 'thinking', 'thinkjet', 'thinks', 'thins', 'thinwire', 'third', 'thirdi', 'thirsty', 'thirties', 'this', 'thismachine', 'thnik', 'tho', 'thomas', 'thompson', 'thomsom', 'thomson', 'thons', 'thor', 'thoren', 'thorough', 'thoroughbread', 'thoroughbred', 'thoroughly', 'those', 'thoth', 'though', 'thought', 'thoughts', 'thousand', 'thousands', 'thp', 'thr', 'thrashing', 'thread', 'threaded', 'threads', 'threat', 'threaten', 'threatened', 'threats', 'three', 'threshold', 'threw', 'thrill', 'thrilled', 'throne', 'throttle', 'through', 'throughly', 'throughout', 'throughput', 'throught', 'throuh', 'throw', 'throwers', 'throwing', 'thrown', 'thru', 'thruput', 'ths', 'thu', 'thuan', 'thug', 'thuis', 'thule', 'thumb', 'thumbing', 'thumbs', 'thumper', 'thums', 'thunder', 'thunderbird', 'thunderforce', 'thunderstorms', 'thurs', 'thursday', 'thus', 'thwang', 'thwart', 'thwarted', 'thx', 'thyme', 'thyristor', 'thyssen', 'ti', 'tia', 'tibetan', 'tibs', 'tick', 'ticked', 'ticket', 'tickets', 'tickle', 'tickled', 'tictactics', 'tides', 'tie', 'tied', 'tiedtke', 'tier', 'tif', 'tiff', 'tific', 'tiga', 'tiger', 'tigers', 'tight', 'tighten', 'tightened', 'tighter', 'tightly', 'til', 'tilde', 'tile', 'tiled', 'tiles', 'tiley', 'tiling', 'till', 'tiller', 'tilt', 'tilted', 'tilts', 'tim', 'timbre', 'timbres', 'time', 'time_t', 'timed', 'timekeeper', 'timeless', 'timeline', 'timeout', 'timeouts', 'timer', 'timers', 'times', 'timeshare', 'timesheet', 'timeslip', 'timessqr', 'timestamp', 'timezone', 'timezones', 'timid', 'timing', 'timings', 'timothy', 'timse', 'tin', 'tinction', 'ting', 'tint', 'tiny', 'tioccc', 'tion', 'tions', 'tioyota', 'tip', 'tippman', 'tips', 'tire', 'tired', 'tires', 'tiresome', 'tis', 'tisn', 'tists', 'titan', 'titanium', 'titans', 'titech', 'title', 'titlebar', 'titled', 'titles', 'tito', 'titus', 'tivoli', 'tix', 'tj', 'tk', 'tk50', 'tkh', 'tlc', 'tligman', 'tln', 'tlp2', 'tm', 'tm503', 'tm_year', 'tmc', 'tmp', 'tmp_win', 'tmpl', 'tmpty', 'tms', 'tms34010', 'tms34020', 'tms340x0', 'tn', 'tn3270', 'tn60988', 'tnext', 'tnn', 'tnt', 'tnx', 'to', 'toad', 'toaster', 'tobagun', 'tobio', 'today', 'todaysdate', 'todd', 'toe', 'toed', 'toes', 'together', 'togglebutton', 'tojump', 'toke', 'token', 'tokenring', 'tokina', 'tokyo', 'told', 'tolerable', 'tolerance', 'tolerant', 'tolerate', 'tolkien', 'toll', 'tom', 'tomlinson', 'tommy', 'tomorrow', 'tomorrowsdate', 'tomsawyer', 'ton', 'tone', 'toneau', 'toner', 'tones', 'tongue', 'tons', 'tony', 'too', 'toobin', 'took', 'tookbox', 'tooke', 'tookit', 'tookits', 'tool', 'toolbox', 'toolface', 'toolkit', 'toolkits', 'toolong', 'toolplaces', 'tools', 'tooltalk', 'toolwork', 'tooput', 'toowhit', 'top', 'topaz', 'topen', 'topgun', 'topic', 'topics', 'toplevel', 'toplevelget', 'toplevelshellpart', 'topology', 'topone', 'topper', 'topps', 'tops', 'topwidget', 'tor', 'torch', 'torek', 'torino', 'torn', 'tornado', 'toronto', 'torque', 'torqye', 'torrey', 'torsion', 'torum', 'torx', 'tos', 'toshiba', 'tosoh', 'toss', 'tossed', 'tossing', 'total', 'totalled', 'totalling', 'totally', 'totty', 'touch', 'touchbase', 'touched', 'touches', 'touching', 'touchscreen', 'touchy', 'tough', 'tour', 'touring', 'tourism', 'tourist', 'tournaments', 'toval', 'tow', 'toward', 'towards', 'towed', 'towel', 'tower', 'towing', 'town', 'townhome', 'towns', 'toxic', 'toxroff', 'toy', 'toyed', 'toyland', 'toyota', 'toyotas', 'toys', 'tping', 'tpo', 'tput', 'tr', 'tr7', 'tr8', 'trab', 'trace', 'traceback', 'traced', 'tracer', 'traces', 'trachtenberg', 'tracing', 'track', 'trackbal', 'trackball', 'trackballs', 'tracked', 'trackers', 'tracking', 'trackman', 'tracks', 'traction', 'tracton', 'tractor', 'tractors', 'tracy', 'trade', 'traded', 'trademark', 'trademarked', 'trademarks', 'tradeoff', 'traders', 'trades', 'trading', 'tradition', 'traditional', 'traditionally', 'traditions', 'trafa', 'traffic', 'trafic', 'tragedy', 'tragics', 'traided', 'trailer', 'trailing', 'trails', 'train', 'trained', 'trainer', 'training', 'trains', 'trait', 'trakenensky', 'trakeninsky', 'tramp', 'tranciever', 'tranfer', 'trannie', 'tranny', 'trans', 'transaction', 'transactions', 'transaxle', 'transaxles', 'transceiver', 'transceivers', 'transciever', 'transcript', 'transducer', 'transfer', 'transferable', 'transferrable', 'transferred', 'transferring', 'transfers', 'transform', 'transformation', 'transformations', 'transformed', 'transformers', 'transidental', 'transient', 'transients', 'transientshellpart', 'transistor', 'transition', 'translab', 'translate', 'translatecoordinates', 'translated', 'translating', 'translation', 'translations', 'translator', 'translators', 'transmission', 'transmissions', 'transmit', 'transmits', 'transmitted', 'transmitter', 'transoft', 'transom', 'transparencies', 'transparent', 'transparently', 'transpariencies', 'transperencies', 'transport', 'transportation', 'transported', 'transporter', 'transporting', 'transputer', 'transputers', 'transskel', 'transvision', 'transylvania', 'trantor', 'tranvision', 'trap', 'trapping', 'traps', 'trash', 'trashed', 'travel', 'traveler', 'traveling', 'travelling', 'travelmate', 'traversal', 'traversed', 'travis', 'tray', 'trays', 'trc', 'tread', 'treadwear', 'treasure', 'treasury', 'treat', 'treated', 'treating', 'treatment', 'treatments', 'treats', 'treble', 'tredia', 'tree', 'trees', 'trek', 'treked', 'tremendous', 'tremlo', 'trend', 'trev', 'tri', 'trial', 'trials', 'trianglehead', 'triangles', 'tribe', 'tribune', 'trick', 'tricks', 'tricky', 'trident', 'tried', 'tries', 'trigger', 'triggered', 'trigonometry', 'trim', 'trimmed', 'trimming', 'trimmings', 'trini', 'trinitrom', 'trinitron', 'trip', 'tripe', 'tripmeter', 'tripods', 'tripp', 'tripper', 'trips', 'tritt', 'triumf', 'triumph', 'trivia', 'trivial', 'trivialized', 'trn', 'troff', 'troll', 'trooper', 'trophies', 'tropical', 'trouble', 'troubled', 'troubles', 'troublesome', 'troubling', 'trouped', 'trout', 'trove', 'trs', 'truck', 'truckers', 'trucking', 'trucks', 'true', 'truecolor', 'truely', 'truetype', 'truly', 'truncate', 'trunk', 'trunklid', 'trust', 'trusted', 'trustworthy', 'trusty', 'truth', 'trw', 'trwacs', 'trx', 'try', 'trying', 'trys', 'trystero', 'tselect', 'tseng', 'tshirts', 'tsi', 'tsillas', 'tsl', 'tsr', 'tsx', 'tt', 'tt030', 'tta', 'tte', 'tthe', 'tthis', 'ttl', 'tto', 'tts', 'ttt', 'tttt', 'tttttt', 'tty', 'tty0', 'tu', 'tub', 'tube', 'tubes', 'tubing', 'tubs', 'tuck', 'tue', 'tuesday', 'tuff', 'tufoil', 'tufts', 'tuition', 'tune', 'tuned', 'tuner', 'tunes', 'tuneup', 'tuning', 'tuninstallaccelerators', 'tunk', 'turbo', 'turbocharged', 'turbocharger', 'turbocoupe', 'turbodos', 'turbografx', 'turbotap', 'turbowindows', 'turbulence', 'turin', 'turing', 'turkey', 'turkeys', 'turn', 'turnaround', 'turned', 'turning', 'turns', 'turtle', 'turtles', 'tuscon', 'tutankham', 'tutored', 'tutorial', 'tutorials', 'tutoring', 'tutors', 'tuuqcq3', 'tv', 'tvga8900c', 'tvga9000', 'tvs', 'tvtwm', 'tvtwmrc', 'tweak', 'tweakable', 'tweaking', 'tweaks', 'tweeking', 'twelve', 'twenty', 'twice', 'twillis', 'twin', 'twinax', 'twinge', 'twist', 'twisted', 'twisty', 'twit', 'twm', 'twmrc', 'two', 'twofold', 'tx', 'txt', 'ty', 'tylenol', 'tymnet', 'typdef', 'type', 'type1', 'typed', 'typedef', 'typeface', 'typefaces', 'typefonts', 'types', 'typesetting', 'typetype', 'typewriter', 'typex', 'typhoon', 'typical', 'typically', 'typing', 'typist', 'typo', 'typos', 'tz', 'tzeng', 'u2', 'u34815', 'u38134', 'ua', 'uafhp', 'ualberta', 'uam121d', 'uark', 'uart', 'ubbpc', 'ubc', 'ubiquitous', 'ubvms', 'uc', 'ucal', 'ucar', 'ucblib', 'ucbvax', 'ucbx', 'ucc', 'uccxkvb', 'uceng', 'ucfj', 'uch', 'uchicago', 'uci', 'ucl', 'ucla', 'ucld', 'ucp', 'ucr', 'ucrengr', 'ucs', 'ucsb', 'ucsd', 'ucssun1', 'ucsu', 'ucucj', 'ucunix', 'ud', 'udel', 'uderstand', 'ueber', 'ufl', 'uforce', 'uga', 'ugle', 'ugly', 'uh', 'uhc', 'uhf', 'uhh', 'ui', 'uia', 'uib', 'uic', 'uicvm', 'uil', 'uim', 'uims', 'uimss', 'uimx', 'uiowa', 'uipex', 'uist', 'uit', 'uitily', 'uiuc', 'uk', 'uk1', 'ukans', 'ukc', 'ukraine', 'ukuug', 'uky', 'ul4', 'ulowell', 'ultb', 'ultima', 'ultimate', 'ultimately', 'ultra', 'ultrabots', 'ultrastor', 'ultrix', 'um', 'umanitoba', 'umass', 'umbrella', 'umd', 'umf', 'umiacs', 'umiami', 'umich', 'umlaut', 'ummm', 'umn', 'umode', 'umpteen', 'umsoroko', 'un', 'unable', 'unacceptable', 'unacceptably', 'unaccounted', 'unallocated', 'unaltered', 'unambiguous', 'uname', 'unanimous', 'unarmed', 'unattributable', 'unauthorized', 'unaware', 'unbagged', 'unbelievable', 'unbelieveably', 'unbreakable', 'unbundled', 'unc', 'uncalibrated', 'uncanny', 'uncertain', 'unchanged', 'unchecked', 'uncle', 'unclear', 'uncles', 'uncluttered', 'uncommon', 'uncomparable', 'uncompiled', 'uncompress', 'uncompressed', 'unconditional', 'unconsiously', 'uncooperative', 'uncovered', 'uncut', 'und', 'undead', 'undef', 'undefined', 'undeletable', 'undemanding', 'undependable', 'under', 'undercoated', 'underdark', 'undergrad', 'undergraduate', 'underground', 'underline', 'underlining', 'underlying', 'underneath', 'underpowered', 'underrated', 'undersea', 'underside', 'understand', 'understandable', 'understanding', 'understatement', 'understeer', 'undertaking', 'underterminating', 'undertook', 'underworld', 'underwrite', 'underwriters', 'undesignated', 'undesirable', 'undisclosed', 'undo', 'undocked', 'undocumented', 'undoubtedly', 'undraw', 'unearth', 'unedited', 'unendorsed', 'unexpand', 'unexpected', 'unexpectedly', 'unexperienced', 'unf', 'unfair', 'unfamiliar', 'unforgiven', 'unfortunate', 'unfortunately', 'unfortunates', 'unfortunatly', 'unfriendly', 'ungetc', 'ungo', 'unhappy', 'uni', 'unicos', 'unidata', 'uniden', 'unido', 'uniform', 'uniforum', 'unify', 'uniko', 'unimi', 'uninformed', 'uninstalled', 'unintended', 'union', 'unipalm', 'uniplex', 'unipress', 'uniq', 'unique', 'unisa', 'unisys', 'unit', 'unite', 'united', 'unitialized', 'units', 'univ', 'univel', 'univerities', 'universal', 'universe', 'universities', 'university', 'univision', 'unix', 'unixes', 'unixexpo', 'unixg', 'unixish', 'unixpc', 'unixware', 'unknow', 'unknowing', 'unknown', 'unlabeled', 'unlawful', 'unleaded', 'unlearned', 'unlearning', 'unless', 'unlike', 'unlikely', 'unlimited', 'unlink', 'unload', 'unloaded', 'unlock', 'unlocked', 'unlocking', 'unlocks', 'unlucky', 'unm', 'unmap', 'unmapnotify', 'unmapped', 'unmarked', 'unmoderated', 'unmodified', 'unmvax', 'unnecessarily', 'unnecessary', 'unnoticeable', 'unofficial', 'unopened', 'unordered', 'unpack', 'unpacked', 'unpacking', 'unpacks', 'unpausing', 'unplug', 'unplugged', 'unplugging', 'unpredictable', 'unpreditable', 'unprepared', 'unpunched', 'unravel', 'unready', 'unrealizecallback', 'unreasonable', 'unrecoverable', 'unreferenced', 'unregistered', 'unreliable', 'unremovable', 'unrestricted', 'unsafe', 'unscrew', 'unscrewing', 'unsecured', 'unseemly', 'unsent', 'unset', 'unsetenv', 'unshielded', 'unsigned', 'unsine', 'unskilled', 'unsolicited', 'unsorted', 'unspecified', 'unstable', 'unstick', 'unstoppable', 'unstuck', 'unsubcribe', 'unsubscribe', 'unsuccessful', 'unsuitable', 'unsupported', 'unsure', 'unswitched', 'unsympathetic', 'untarred', 'untested', 'until', 'untill', 'untouched', 'untrained', 'unusable', 'unused', 'unusuable', 'unusual', 'unusually', 'unviewable', 'unwieldy', 'unwittingly', 'unwrapped', 'unwraps', 'uo', 'uofr', 'uofw', 'uokmax', 'uoknor', 'uoregon', 'up', 'up9', 'upbringing', 'upcoming', 'update', 'updated', 'updates', 'updating', 'upenn', 'upfront', 'upgrade', 'upgradeability', 'upgradeable', 'upgraded', 'upgrades', 'upgrading', 'uphill', 'upholstery', 'upload', 'upmanship', 'upon', 'upper', 'upperleft', 'uppity', 'upright', 'uprights', 'ups', 'upsate', 'upscale', 'upset', 'upshifts', 'upshot', 'upside', 'upstairs', 'upto', 'uptodate', 'upward', 'urban', 'urei', 'urethane', 'url', 'urse', 'ursula', 'urt', 'us', 'usa', 'usa1', 'usability', 'usable', 'usaf', 'usage', 'usc', 'usd', 'use', 'useable', 'used', 'useful', 'usefullness', 'usefulness', 'useless', 'usenet', 'usenix', 'usenixws', 'user', 'userglub', 'username', 'usernames', 'users', 'uses', 'ush', 'using', 'usl', 'usm', 'usmail', 'usposition', 'usps', 'usr', 'usr0', 'usr2', 'usrobotics', 'usrx', 'ussize', 'usual', 'usually', 'usurping', 'ususally', 'ut', 'uta', 'utah', 'utai', 'utc', 'utcs', 'utexas', 'util', 'util32', 'utilities', 'utility', 'utilizing', 'utils', 'utk', 'utl', 'utmem', 'utmem1', 'utoronto', 'utp', 'utrecht', 'utsl', 'utsun', 'utterly', 'utzoo', 'uu', 'uu7', 'uubuild_mode', 'uubuild_name', 'uucp', 'uudecode', 'uudecoded', 'uuencode', 'uuencode_len', 'uuencoded', 'uuencoding', 'uuinfo_mode', 'uummmph', 'uuname', 'uunet', 'uuprog_mode', 'uuprog_name', 'uupsi', 'uupsi7', 'uuuu', 'uv', 'uva', 'uw', 'uwa', 'uwasa', 'uwm', 'uwo', 'uws', 'uws4', 'uwusa', 'ux', 'ux4', 'ux9', 'uxa', 'uxarch', 'uxc', 'uy1', 'v04l8d82feu01v4k', 'v069pff7', 'v08i008', 'v1', 'v11', 'v11r4', 'v11r5', 'v16t', 'v19', 'v2', 'v3', 'v32', 'v4', 'v42', 'v42bis', 'v4s', 'v5', 'v5a', 'v5r', 'v5s', 'v6', 'v6b', 'v6t', 'v7', 'v8', 'v92', 'va', 'va_list', 'vac', 'vacated', 'vacation', 'vaccum', 'vacuum', 'vague', 'vaguely', 'val', 'valbonne', 'valentine', 'valerie', 'valet', 'valid', 'validation', 'validgh', 'validity', 'valley', 'valuable', 'value', 'valued', 'valuemask', 'values', 'valve', 'valves', 'vamp', 'vampire', 'van', 'vancouver', 'vandal', 'vandalism', 'vandals', 'vanessa', 'vanilla', 'vanish', 'vanished', 'vanity', 'vans', 'vapor', 'vaporware', 'var', 'varags', 'varargs', 'varberg', 'variable', 'variables', 'variant', 'variants', 'variation', 'variations', 'varied', 'varies', 'varieties', 'variety', 'various', 'varius', 'varnet', 'vars', 'vary', 'varying', 'vas', 'vascar', 'vasseur', 'vast', 'vat', 'vavau', 'vax', 'vaxstation', 'vbkj', 'vcf', 'vco', 'vcr', 'vdc', 'vdir', 've', 've3pzr', 'vec', 'vector', 'vectors', 'vedio', 'veep', 'vef', 'vegas', 'vegetarian', 'vehicle', 'vehicles', 'vel', 'velapold', 'velapoldi', 'velcro', 'vell', 'velocity', 'velveteen', 'venders', 'vendor', 'vendors', 'veneer', 'venera', 'venerable', 'vengeance', 'venix', 'venkateswar', 'venom', 'vent', 'vented', 'ventil', 'ventilation', 'ventilator', 'venting', 'vents', 'venture', 'ventures', 'venuti', 'veo', 'ver', 'ver2', 'verb', 'verbally', 'verbose', 'verdict', 'verge', 'verification', 'verified', 'verifies', 'verify', 'verion', 'veritas', 'vermeiren', 'vermelding', 'vernam', 'vernon', 'veronica', 'vers', 'versa', 'versatec', 'versaterm', 'versatile', 'version', 'versions', 'versus', 'vert_bar', 'vertical', 'vertically', 'vertisoft', 'very', 'vesa', 'vetried', 'vette', 'vettes', 'vf', 'vg', 'vga', 'vhf', 'vhs', 'vi', 'via', 'vibrating', 'vibration', 'vic', 'vice', 'vicinity', 'vicor', 'victim', 'victims', 'victor', 'victoria', 'victorian', 'victoriaõs', 'victory', 'vid', 'video', 'video7', 'videomodes', 'videonics', 'videos', 'videotaped', 'vidio', 'vie', 'vielmetti', 'vienna', 'vietnam', 'vietname', 'vietnamese', 'view', 'viewable', 'viewed', 'viewer', 'viewing', 'viewpoints', 'viewport', 'viewportwidgetclass', 'viewres', 'views', 'vigor', 'vii', 'vijay', 'vika', 'viking', 'vilante', 'villa', 'village', 'villager', 'ville', 'vimage', 'vincent', 'vines', 'vinfo', 'vinfo_list', 'vinlai', 'vintage', 'vinton', 'vinyl', 'viola', 'violate', 'violated', 'violates', 'violation', 'violations', 'violence', 'violent', 'vip', 'viper', 'vipiqkfdk', 'virec', 'virgen', 'virgin', 'virgina', 'virginia', 'virtech', 'virtual', 'virtualbinding', 'virtualdesktopbackground', 'virtualdesktopbackgroundpixmap', 'virtually', 'virtues', 'virus', 'vis', 'visa', 'visa_____', 'visch', 'viscosities', 'viscosity', 'viscous', 'vise', 'vishniac', 'visibility', 'visibilitynotify', 'visible', 'vision', 'visit', 'visited', 'visiting', 'visits', 'visix', 'visual', 'visual_info', 'visualid', 'visualidmask', 'visualization', 'visualizing', 'visually', 'visuals', 'vit', 'vital', 'vivek', 'vivitar', 'vl', 'vlai', 'vlasis', 'vlb', 'vlbus', 'vm', 'vme', 'vme24d16', 'vms', 'vn', 'vogon1', 'vogue', 'voic', 'voice', 'voicemail', 'voices', 'void', 'voigt', 'vol', 'volatile', 'volatiles', 'volkswagen', 'volkswagens', 'volkswagon', 'volleyball', 'volskwagen', 'volt', 'voltage', 'voltameter', 'voltmeter', 'voltmeters', 'volts', 'volume', 'volume14', 'volume18', 'volume3', 'volume8', 'volumes', 'voluminous', 'voluntary', 'volunteer', 'volunteers', 'volvo', 'volvos', 'vorbereitung', 'vorld', 'vortec', 'vote', 'voting', 'vouch', 'voucher', 'vouchers', 'vox', 'voyager', 'vp', 'vqd', 'vql', 'vr', 'vr2610', 'vr4', 'vr6', 'vrai', 'vram', 'vrams', 'vrd', 'vroot', 'vs', 'vs2000', 'vso', 'vsync', 'vt', 'vt100', 'vt102', 'vt200', 'vt220', 'vt340', 'vtec', 'vti', 'vtprstbl', 'vtssi', 'vtvwm', 'vtwm', 'vtx00', 'vu', 'vue', 'vueicon', 'vuewm', 'vuit', 'vulture', 'vv', 'vvl2h', 'vw', 'vws', 'vx', 'vxm', 'vxmhha', 'vyacheslav', 'vyd97', 'vye', 'vz', 'w0', 'w1', 'w10075', 'w2', 'w4600', 'w9i9', 'w_gc1', 'wa', 'wabern', 'wackos', 'waco', 'wagon', 'wagons', 'wahab', 'waii', 'waiiiiiit', 'wainted', 'wais', 'waists', 'wait', 'wait_for_user_input', 'waite', 'waited', 'waiting', 'waits', 'waiver', 'wake', 'wakeup', 'waking', 'wal', 'walet', 'walk', 'walkaround', 'walked', 'walking', 'walkman', 'wall', 'wallengren', 'wallet', 'wallpaper', 'walls', 'walter', 'wam', 'wan', 'wand', 'wanderer', 'wandering', 'wanders', 'wangdat', 'wangnick', 'wangtek', 'wanna', 'wannabe', 'wannabes', 'want', 'wanted', 'wanting', 'wants', 'war', 'ward', 'wardsgi', 'ware', 'warentee', 'wargame', 'wargames', 'wargs', 'warkentin', 'warkentine', 'warlock', 'warm', 'warmed', 'warn', 'warned', 'warner', 'warning', 'warnings', 'warns', 'warp', 'warped', 'warrant', 'warrantee', 'warranties', 'warranty', 'warren', 'warrenty', 'warrior', 'warriors', 'wars', 'wary', 'was', 'washboard', 'washed', 'washer', 'washers', 'washington', 'wasn', 'wason', 'wasp', 'waste', 'wasted', 'wasting', 'watch', 'watching', 'watchman', 'watcom', 'water', 'watercooled', 'waterfalls', 'waterloo', 'waterproof', 'waters', 'waterway', 'watley', 'watson', 'watt', 'watts', 'wav', 'wave', 'waveform', 'waveforms', 'waves', 'wax', 'waxed', 'waxing', 'waxworks', 'way', 'wayne', 'ways', 'wayyyyyyyyy', 'wb3ffv', 'wc', 'wc_c', 'wc_len', 'wc_str', 'wchar', 'wchar_t', 'wchartoxmstring', 'wchutt', 'wcl', 'wcmnja', 'wd', 'wd40', 'wd8003e', 'wd90c00', 'wd90c10', 'wd90c11', 'wd90c31', 'wdat', 'wds', 'we', 'weak', 'wealth', 'weapon', 'weapons', 'wear', 'weared', 'wearing', 'wears', 'weather', 'weaver', 'weavers', 'web', 'webb', 'webers', 'webo', 'webster', 'wed', 'wedged', 'wednesday', 'wee', 'weedeater', 'week', 'weekend', 'weekends', 'weekly', 'weeks', 'weet', 'weigh', 'weighed', 'weighs', 'weight', 'weighting', 'weights', 'weird', 'weirdness', 'weis', 'weitek', 'welcome', 'welcomed', 'weld', 'welded', 'welding', 'well', 'wellorganized', 'wells', 'welltris', 'welty', 'wendell', 'went', 'were', 'weren', 'werewolf', 'werke', 'wes', 'wesbrook', 'weschler', 'wesley', 'wess', 'west', 'western', 'westford', 'westhawk', 'weston', 'westren', 'westward', 'wet', 'wether', 'wexelblat', 'wg2', 'wgep', 'wgt', 'wh', 'whadda', 'whaley', 'whan', 'wharf', 'wharfie', 'what', 'whatching', 'whatever', 'whats', 'whatsoever', 'wheaton', 'wheel', 'wheelbase', 'wheels', 'wheelset', 'wheeltowheel', 'wheelwriter', 'when', 'whenever', 'where', 'whereabouts', 'whereas', 'whereby', 'whereever', 'wherein', 'wherever', 'whether', 'which', 'whichever', 'whilce', 'while', 'whine', 'whip', 'whipping', 'whirley', 'whistler', 'whistles', 'white', 'whiteboard', 'whitehead', 'whiteish', 'whitepixel', 'whitespace', 'whitewater', 'whitman', 'whitney', 'who', 'whoami', 'whoever', 'whois', 'whole', 'wholeheartedly', 'wholesale', 'wholsale', 'whom', 'whomped', 'whoop', 'whoops', 'whopping', 'whose', 'why', 'wibble', 'wichita', 'wide', 'widely', 'widener', 'wider', 'wides', 'widespread', 'widet', 'widget', 'widgets', 'widgetset', 'widgetwrap', 'widghet', 'width', 'widths', 'wierd', 'wife', 'wiff', 'wig', 'wight', 'wil', 'wilburys', 'wilce', 'wild', 'wildernes', 'wilderness', 'wildly', 'wiley', 'wilfred', 'wilkins', 'will', 'william', 'williams', 'willing', 'willis', 'willys', 'wilma', 'wilmette', 'wilmington', 'wilson', 'wimpy', 'win', 'winch', 'winchester', 'wind', 'windo', 'windogs', 'window', 'window_redraw', 'window_title', 'windowing', 'windowless', 'windowmanager', 'windowmanagername', 'windowmanaging', 'windows', 'winds', 'windshield', 'windshild', 'windy', 'winfax', 'wing', 'wings', 'wingz', 'wink', 'winkler', 'winner', 'winners', 'winning', 'winodw', 'winopen', 'wins', 'winshield', 'winsock', 'winson', 'winter', 'winterp', 'winters', 'wintz', 'winway', 'wipe', 'wiper', 'wipers', 'wire', 'wired', 'wireless', 'wires', 'wiring', 'wisc', 'wisconsin', 'wisdom', 'wise', 'wish', 'wishes', 'wishing', 'witch', 'witchtrap', 'with', 'withdrawls', 'withe', 'within', 'without', 'withs', 'withstand', 'withstanding', 'witness', 'witnesses', 'wits', 'witte', 'witty', 'wives', 'wixer', 'wizard', 'wizardry', 'wizards', 'wizz', 'wjh', 'wk', 'wkshtree', 'wlist', 'wm', 'wm_colormap_windows', 'wm_command', 'wm_delete_window', 'wmhints', 'wmshell', 'wmshellpart', 'wmtimeout', 'wnoc', 'wobble', 'woburn', 'woffers', 'woives', 'woke', 'woken', 'wolf', 'wolfgang', 'wolfkam', 'wolfpack', 'wolverine', 'wolves', 'wolvreine', 'woman', 'women', 'womens', 'won', 'wonder', 'wondered', 'wonderful', 'wondering', 'wonderring', 'wondolowski', 'wont', 'wood', 'woodburne', 'wooded', 'wooden', 'woodhaven', 'woodstock', 'woody', 'woofers', 'worcester', 'word', 'wordperfect', 'wordprocessors', 'words', 'wordstar', 'wore', 'work', 'workable', 'workaround', 'workarounds', 'workbench', 'workbook', 'worked', 'worker', 'workers', 'workes', 'workgroups', 'working', 'workmanship', 'workout', 'works', 'worksation', 'worksheet', 'workshop', 'workshops', 'workspace', 'workspaces', 'workstation', 'workstations', 'world', 'worldblazer', 'worlds', 'worldscript', 'worldwide', 'worn', 'worried', 'worry', 'worrying', 'worse', 'worst', 'worth', 'worthless', 'worths', 'worthwhile', 'would', 'wouldany', 'wouldn', 'wovie', 'wovies', 'wovy', 'wow', 'wp', 'wpafb', 'wpd', 'wpi', 'wr', 'wrangler', 'wrap', 'wraparound', 'wraped', 'wrapped', 'wrapper', 'wrappers', 'wraps', 'wrat', 'wrath', 'wreak', 'wrench', 'wrenches', 'wrestle', 'wrestling', 'wright', 'wrightson', 'wrinkled', 'wrist', 'write', 'writer', 'writers', 'writes', 'writing', 'written', 'wrong', 'wrote', 'wrought', 'wrt', 'wscrawl', 'wsmr', 'wsos41', 'wtte', 'wtw', 'wu', 'wuarchive', 'wupost', 'wurth', 'wustl', 'wuz', 'wv', 'wvnet', 'ww', 'wwii', 'wwl', 'wx2', 'wxhxd', 'wynn', 'wyoming', 'wyrick', 'wyse', 'wysiwg', 'wysiwig', 'wysiwis', 'wysiwyg', 'x0', 'x1', 'x10r4', 'x10th', 'x11', 'x11perf', 'x11perfcomp', 'x11r1', 'x11r3', 'x11r4', 'x11r4_386i', 'x11r4_sunos4', 'x11r5', 'x11r5patch23', 'x11r5pl19', 'x11r5pl22', 'x11r6', 'x11rn', 'x11term', 'x1993', 'x1cgdtvmdy965', 'x2', 'x226', 'x24', 'x256q', 'x28v', 'x3', 'x3270', 'x330', 'x360', 'x386', 'x386keybd', 'x386mono', 'x3d', 'x4', 'x4coher', 'x5', 'x8', 'x800', 'x86', 'x9', 'x_allocnamedcolor', 'x_creategc', 'x_getimage', 'x_setfontpath', 'x_shmputimage', 'xa', 'xa_font', 'xa_font_name', 'xa_rgb_best_map', 'xa_rgb_default_map', 'xa_window', 'xabout', 'xactually', 'xada', 'xaddr', 'xall', 'xalloccolor', 'xalloccolorcells', 'xallocsizehints', 'xamine', 'xand', 'xannounce', 'xannouncement', 'xanon', 'xap10fon', 'xap13exe', 'xapollo', 'xappeal', 'xapplresdir', 'xapshot', 'xarchie', 'xargc', 'xargs', 'xargv', 'xassuming', 'xatom', 'xauth', 'xavier', 'xaw', 'xaw3d', 'xawtextedit', 'xawtextresizeheight', 'xawtextwrapword', 'xbae', 'xball', 'xbbs', 'xbegin', 'xbell', 'xbench', 'xbfe', 'xbibliography', 'xbiff', 'xbm', 'xbook', 'xbuild', 'xbut', 'xbutton', 'xc', 'xc_crosshair', 'xc_watch', 'xcalc', 'xceed', 'xcessory', 'xchangegc', 'xchangewindowattributes', 'xchar', 'xcharset', 'xcheck_io', 'xchecktypedwindowevent', 'xchess', 'xchongo', 'xchron', 'xcleararea', 'xclient', 'xclients', 'xclipboard', 'xclock', 'xclosedisplay', 'xclrp', 'xclrs', 'xcms', 'xcmsdb', 'xcmsstorecolors', 'xcmstekhvcquerymaxv', 'xcmstekhvcqueryminv', 'xcmstest', 'xco', 'xcol_len', 'xcolor', 'xconfig', 'xconndis', 'xconnectionnumber', 'xconsole', 'xconsortium', 'xcop', 'xcopyarea', 'xcopyplane', 'xcopyright', 'xcraig', 'xcreatecolormap', 'xcreatefontcursor', 'xcreategc', 'xcreateimage', 'xcreateregion', 'xcreatesimplewindow', 'xcreatewindow', 'xcrichtext', 'xcteatewindow', 'xcu', 'xcuckoo', 'xcursor', 'xcursor4', 'xcutsel', 'xdate', 'xdbx', 'xdebug', 'xdefaultgcofscreen', 'xdefaults', 'xdefinecursor', 'xdeleted', 'xdennis', 'xdesigner', 'xdisplay', 'xdisplayheight', 'xdisplaywidth', 'xditview', 'xdm', 'xdmcp', 'xdomain', 'xdpr', 'xdpyinfo', 'xdrawline', 'xdrawpoint', 'xdrawrectangle', 'xdswm', 'xdtm', 'xdump1', 'xdvi', 'xedit', 'xelm', 'xemail', 'xend', 'xengine', 'xenix', 'xentry', 'xenvironment', 'xerox', 'xerrors', 'xess', 'xev', 'xevent', 'xevents', 'xew', 'xexposeevent', 'xeyes', 'xfacemaker2', 'xfaq2texinfo', 'xfd', 'xfed', 'xfedor', 'xfig', 'xfile', 'xfilesearchpath', 'xfillrectangle', 'xfix', 'xflush', 'xfm2', 'xfontsel', 'xfontstruct', 'xfor', 'xfree', 'xfree86', 'xfrom', 'xfuncs', 'xga', 'xga2', 'xgas', 'xgc', 'xget_line', 'xget_selection', 'xgetatomname', 'xgetfontproperty', 'xgetftp', 'xgetimage', 'xgetmodifiermapping', 'xgetpixel', 'xgetrgbcolormap', 'xgetvisualinfo', 'xgetwindowattributes', 'xgetwindowproperty', 'xgks', 'xgkswidget', 'xgoals', 'xgobi', 'xgod', 'xgolf', 'xgoodies', 'xgrab', 'xgrabkey', 'xgrabsc', 'xgrabserver', 'xgranted', 'xgraph', 'xgroups', 'xgt', 'xgtv4', 'xhelp', 'xhib92', 'xhibit', 'xhibition', 'xhints', 'xhost', 'xhow', 'xhp', 'xi', 'xiconfiywindow', 'xiconifywindow', 'xid', 'xie', 'xif', 'xifileselector', 'xii', 'xim', 'ximage', 'ximagehandler', 'ximages', 'ximp', 'xin', 'xinfo', 'xinformation', 'xinit', 'xinitrc', 'xinputextension', 'xinstallcolormap', 'xint', 'xinternatom', 'xinto', 'xio', 'xiohandler', 'xiorecover', 'xis', 'xj6', 'xjudging', 'xkernel', 'xkeyevent', 'xkeysymdb', 'xkill', 'xl', 'xlab', 'xlarry', 'xlc', 'xlfd', 'xli', 'xlib', 'xlibint', 'xlisp', 'xlnth', 'xload', 'xloadimage', 'xlocale', 'xlocaleint', 'xlock', 'xlogo', 'xlong', 'xlookupstring', 'xlr', 'xlsatoms', 'xlsclients', 'xlsfonts', 'xlt', 'xm', 'xm0v', 'xm3dy95d', 'xm5', 'xmag', 'xmail', 'xmailtool', 'xmain', 'xman', 'xmanycallbackstruct', 'xmapraised', 'xmapsubwindows', 'xmapwindow', 'xmarc', 'xmatchvisualinfo', 'xmattach_form', 'xmcr_cancel', 'xmcr_help', 'xmcr_ok', 'xmcreatedialog', 'xmcreatequestiondialog', 'xmdialog_application_modal', 'xmdialog_primary_application_modal', 'xmdrawingarea', 'xmenu', 'xmessage', 'xmfontlist', 'xmform', 'xmgr', 'xmgraph', 'xmh', 'xmkmf', 'xmlabel', 'xmmainwindowwidgetclass', 'xmnaccelerator', 'xmnactivatecallback', 'xmnblinkrate', 'xmncancelcallback', 'xmncolormap', 'xmncolumns', 'xmndialogstyle', 'xmnheight', 'xmnhelpcallback', 'xmnmessagestring', 'xmnmodifyverifycallback', 'xmnokcallback', 'xmnrightattachment', 'xmnshowvalue', 'xmntopattachment', 'xmnvalue', 'xmnverifybell', 'xmnwidth', 'xmodem', 'xmodmap', 'xmon', 'xmosaic', 'xmovewindow', 'xmpushbutton', 'xmpushbuttonwidgetclass', 'xmrowcolumnwidgetclass', 'xmscalegetvalue', 'xmstring', 'xmstring_default_charset', 'xmstringcharset', 'xmstringcreateltor', 'xmstringfree', 'xmt', 'xmtext', 'xmtextfield', 'xmtextverifyptr', 'xmtextwidgetclass', 'xmu', 'xmucreatecolormap', 'xmucvtstringtowidget', 'xmugetcolormapallocation', 'xmulookupstandardcolormap', 'xmustandardcolormap', 'xmx', 'xn0', 'xname', 'xnews', 'xnextevent', 'xnote', 'xo', 'xofficial', 'xol', 'xon', 'xopen_build', 'xopen_output', 'xopen_program', 'xopen_remark', 'xopendisplay', 'xopenwindow', 'xor', 'xorcist', 'xorg', 'xour', 'xoutput_author', 'xoutput_build', 'xoutput_end', 'xoutput_entry', 'xoutput_info', 'xoutput_program', 'xoutput_remark', 'xoutput_till_dot', 'xp', 'xp380', 'xp3z', 'xp60', 'xpaint', 'xpaint2pl3', 'xparse_args', 'xparsegeometry', 'xpermits', 'xpert', 'xperts', 'xphoon', 'xpic', 'xpick', 'xplace', 'xplaces', 'xplot', 'xpm', 'xpm1', 'xpmcolorkey', 'xpmp', 'xpointer', 'xport', 'xpos', 'xpostit', 'xpr', 'xpress', 'xprint', 'xprinter', 'xprompt', 'xproof', 'xprop', 'xps', 'xptable', 'xptablechildposition', 'xptablewidgetclass', 'xput', 'xputimage', 'xquerybestcursor', 'xquerycolor', 'xquerycolors', 'xquerytree', 'xr', 'xr6', 'xraisewindow', 'xray', 'xrdb', 'xrecplay', 'xrectinregion', 'xrefresh', 'xregistry', 'xremote', 'xreparentwindow', 'xresizewindow', 'xresource', 'xresources', 'xrhf', 'xrlogin', 'xrlogind', 'xrm', 'xrm_name', 'xrmgetresource', 'xrmnametostring', 'xrmoptiondescrec', 'xrmoptionseparg', 'xrmparsecommand', 'xrmpermstringtoquark', 'xrmrzf1ilxsv', 'xrmstringtoquark', 'xrmvalue', 'xrmvalueptr', 'xrn', 'xroach', 'xroff', 'xrolo', 'xrotfont', 'xrpc', 'xrsh', 'xrt', 'xrule', 'xrules', 'xrunner', 'xs', 'xscm1', 'xscope', 'xscribble', 'xsculptor', 'xsections', 'xselection', 'xsendevent', 'xserver', 'xservers', 'xsession', 'xset', 'xsetforeground', 'xsetfunction', 'xsetioerrorhandler', 'xsetmodifiermapping', 'xsetroot', 'xsetstandardproperties', 'xsettransientforhint', 'xsetup_0', 'xsetwindowattributes', 'xsetwindowcolormap', 'xsetwmcolormapwindows', 'xsetwmhints', 'xsetwmnormalhints', 'xsetwmproperties', 'xshmattach', 'xshmdetach', 'xshmputimage', 'xsi', 'xsight', 'xsizehints', 'xskel', 'xsnap', 'xso', 'xsoft', 'xsorry', 'xspread2', 'xstdcmap', 'xstone', 'xstones', 'xstorecolor', 'xstorecolors', 'xstuff', 'xstuffs', 'xsun', 'xsun24', 'xsunmono', 'xswa', 'xswarm', 'xsync', 'xsynchonize', 'xsyncs', 'xt', 'xt4getresl', 'xtactionsrec', 'xtaddactions', 'xtaddcallback', 'xtaddconverter', 'xtaddeventhandler', 'xtaddinput', 'xtaddtimeout', 'xtaddworkproc', 'xtal', 'xtallocategc', 'xtapp', 'xtappaddactionhook', 'xtappaddactions', 'xtappaddconverter', 'xtappaddinput', 'xtappaddtimeout', 'xtappaddworkproc', 'xtappcontext', 'xtappcreateshell', 'xtapperror', 'xtappgeterrordatabase', 'xtappgeterrordatabasetext', 'xtappgetselectiontimeout', 'xtappinitialize', 'xtappmainloop', 'xtappnextevent', 'xtapppeekevent', 'xtapppending', 'xtappprocessevent', 'xtappreleasecacherefs', 'xtappseterrorhandler', 'xtappseterrormsghandler', 'xtappsetfallbackresources', 'xtappsetselectiontimeout', 'xtappsettypeconverter', 'xtappsetwarninghandler', 'xtappsetwarningmsghandler', 'xtappwarning', 'xtappwarningmsg', 'xtargval', 'xtb5f5qasr', 'xtcacheall', 'xtcachebydisplay', 'xtcachenone', 'xtcachetype', 'xtcallactionproc', 'xtcallbackproc', 'xtcallbackreleasecacheref', 'xtcallbackreleasecachereflist', 'xtcallcallbacklist', 'xtcallconverter', 'xtcalloc', 'xtclosedisplay', 'xtconfigurewidget', 'xtconvert', 'xtconvertandstore', 'xtconvertarglist', 'xtconvertargrec', 'xtcreateapplicationcontext', 'xtcreateapplicationshell', 'xtcreatemanagedwidget', 'xtcreatepopupshell', 'xtcreatewidget', 'xtcvtstringtofont', 'xtdebug', 'xtdestroyapplicationcontext', 'xtdestroygc', 'xtdestroywidget', 'xtdestructor', 'xtdirectconvert', 'xtdispatchevent', 'xtdisplay', 'xtdisplayinitialize', 'xtdisplayofobject', 'xtdisplaystringconversionwarning', 'xtdisplaytoapplicationcontext', 'xtdm', 'xtech', 'xterm', 'xterminal', 'xterminals', 'xterms', 'xterror', 'xterrormsg', 'xtest', 'xtex', 'xtfindfile', 'xtfree', 'xtgetactionkeysym', 'xtgetactionlist', 'xtgetapplicationnameandclass', 'xtgetapplicationresources', 'xtgetconstraintresourcelist', 'xtgeterrordatabase', 'xtgeterrordatabasetext', 'xtgetkeysymtable', 'xtgetmulticlicktime', 'xtgetresourcelist', 'xtgetselectionrequest', 'xtgetselectiontimeout', 'xtgetselectionvalue', 'xtgetselectionvalueincremental', 'xtgetselectionvaluesincremental', 'xtgetvalues', 'xtgrabexclusive', 'xtgrabnone', 'xthanks', 'xthe', 'xthis', 'xti', 'xtian', 'xtici', 'xtidentifywindows', 'xtiff', 'xtimall', 'xtinitialize', 'xtinitializewidgetclass', 'xtinserteventhanlder', 'xtinsertraweventhandler', 'xtinstallaccelerators', 'xtinstallallaccelerators', 'xtismanaged', 'xtisobject', 'xtisrectobj', 'xtitle', 'xtkeysymtokeycodelist', 'xtlasttimestampprocessed', 'xtm', 'xtmainloop', 'xtmakegeometryrequest', 'xtmakeresizerequest', 'xtmalloc', 'xtmanage', 'xtmanagechild', 'xtmenupopdown', 'xtmenupopup', 'xtmovewidget', 'xtnaccelerators', 'xtnallowshellresize', 'xtnallowvert', 'xtname', 'xtnametowidget', 'xtnargc', 'xtnargv', 'xtnborderwidth', 'xtncallback', 'xtncolormap', 'xtncursor', 'xtndepth', 'xtnedittype', 'xtnew', 'xtnewstring', 'xtnextevent', 'xtnforcebars', 'xtnfromhoriz', 'xtnfromvert', 'xtngetvalue', 'xtnheight', 'xtniconifypixmap', 'xtninput', 'xtnlabel', 'xtnlength', 'xtnresize', 'xtnsensitive', 'xtnstring', 'xtnumber', 'xtnusestringinplace', 'xtnvalue', 'xtnvisual', 'xtnwidth', 'xtnwrap', 'xtnx', 'xtny', 'xtoffsetof', 'xtool', 'xtopendisplay', 'xtops', 'xtouch', 'xtoverridetranslations', 'xtownselection', 'xtownselectionincremental', 'xtpanel', 'xtparent', 'xtparsetranslationtable', 'xtpeekevent', 'xtpending', 'xtphase2destroy', 'xtpointer', 'xtpopup', 'xtpoupspringloaded', 'xtquerygeometry', 'xtra', 'xtranslatecoord', 'xtranslatecoordinates', 'xtrap', 'xtrap_v31', 'xtrapv33_x11r5', 'xtrealizewidget', 'xtrealloc', 'xtregistergrabaction', 'xtrelaizewidget', 'xtreleasegc', 'xtremoveactiohhook', 'xtreparentwidget', 'xtresizewidget', 'xtresolvepathname', 'xtresource', 'xtrimmediate', 'xtrint', 'xtroff', 'xtrstring', 'xtrvisual', 'xtrwidget', 'xtscreen', 'xtscreendatabase', 'xtscreenofobject', 'xtsetarg', 'xtseterrorhandler', 'xtseterrormsghandler', 'xtsetfloatarg', 'xtsetlanguageproc', 'xtsetmulticlicktime', 'xtsetselectiontimeout', 'xtsettypeconverter', 'xtsetvalues', 'xtsetwarninghandler', 'xtsetwarningmsghandler', 'xtsetwmcolormapwindows', 'xtshellstrings', 'xtspecificationrelease', 'xtstringconversionwarning', 'xtstringdefines', 'xtstrings', 'xttblposition', 'xttimercallbackproc', 'xttoolkitinitialize', 'xttranslatecoordinates', 'xttranslatecoords', 'xttypeconverter', 'xtungrabbutton', 'xtungrabkey', 'xtungrabkeybard', 'xtungrabpointer', 'xtunmapwidget', 'xtunrealizewidget', 'xtv', 'xtva', 'xtvaappinitialize', 'xtvacreatemanagedwidget', 'xtvasetvalues', 'xtwarning', 'xtwarningmsg', 'xtwidgetbaseoffset', 'xtwidgetproc', 'xtwidgettoapplicationcontext', 'xtwindow', 'xtwindowofobject', 'xug', 'xui', 'xungrabserver', 'xunionrectwithregion', 'xupdate2', 'xusage', 'xuserfilesearchpath', 'xutil', 'xuuencode', 'xv', 'xv11r4', 'xv_create', 'xv_depth', 'xv_get', 'xv_opaque', 'xv_xid', 'xvertext', 'xvgr', 'xvideo', 'xview', 'xview3', 'xviewbug', 'xvisualidfromvisual', 'xvisualinfo', 'xvoid', 'xvt', 'xw', 'xwall', 'xwd', 'xwd2ps', 'xwebster', 'xwell', 'xwhat', 'xwid', 'xwidgets', 'xwin', 'xwindow', 'xwindowevent', 'xwindows', 'xwininfo', 'xwip', 'xwith', 'xwmhints', 'xworld', 'xwud', 'xxgdb', 'xxx', 'xxx_xmbctidtocsid', 'xxx_xmbfscs', 'xxx_xwcdecomposeglyphcharset', 'xxxxx', 'xxxxxxxxxx', 'xxxxxxxxxxxxxxxxx', 'xy', 'xybitmap', 'xyou', 'xyztwm', 'xyzzy', 'xzap', 'y1', 'y2', 'y2lpe9hpai', 'y3', 'y4u5exb', 'ya', 'yachts', 'yaesu', 'yagga', 'yah', 'yahoos', 'yale', 'yallara', 'yang', 'yank', 'yanking', 'yaquinto', 'yard', 'yaser', 'yashica', 'yb025', 'ye', 'yea', 'yeah', 'year', 'yearly', 'years', 'yell', 'yelling', 'yellow', 'yellowish', 'yep', 'yer', 'yes', 'yesterday', 'yesterdays', 'yesterdaysdate', 'yet', 'yfn', 'yi2ql', 'yield', 'yielded', 'yields', 'yik', 'yiklam', 'yip', 'yjs', 'yk', 'ykcheu', 'ykchev', 'ylnth', 'ymir', 'yo', 'yob', 'yokohama', 'york', 'yorker', 'yorku', 'yorn', 'you', 'youg', 'young', 'youngsters', 'your', 'your_email_address', 'your_favorite_wm', 'your_title_goes_here', 'youre', 'yourhost', 'yourname', 'yours', 'yourself', 'yourselfers', 'youths', 'yoyos', 'ypos', 'yr', 'yrs', 'ysu', 'yugo', 'yugoslavia', 'yuk', 'yukawa', 'yup', 'yuppie', 'yuppies', 'yuri', 'yuv', 'ywid', 'yyl5tm5', 'yyz', 'z0', 'z1', 'z28', 'z80', 'za', 'zabriskie', 'zack', 'zal', 'zany', 'zaphod', 'zapped', 'zapper', 'zapping', 'zborowsk', 'zborowski', 'zealand', 'zeeland', 'zeh', 'zeiss', 'zenith', 'zeos', 'zepher', 'zephyr', 'zeppelin', 'zero', 'zeus', 'zfl181', 'zhao', 'zhou', 'zia', 'ziebart', 'ziffnet', 'zildjian', 'zillion', 'zilog', 'zimbelman', 'zimmer', 'zinc', 'zing', 'zip', 'zkgn4h9a', 'zkh', 'zkxi', 'zmacs', 'zmed16', 'zmef', 'zmore', 'zoar', 'zok', 'zombie', 'zombies', 'zone', 'zones', 'zoom', 'zooming', 'zooms', 'zork', 'zoron', 'zortech', 'zou', 'zpixmap', 'zrai02', 'zset', 'zterm', 'ztivax', 'zuiko', 'zuma', 'zumdahl', 'zv', 'zviq', 'zx', 'zyxel']\n"
     ]
    }
   ],
   "source": [
    "feature_name = ngCountVectorizer.get_feature_names()\n",
    "print(feature_name)"
   ]
  },
  {
   "cell_type": "code",
   "execution_count": 19,
   "metadata": {},
   "outputs": [
    {
     "name": "stdout",
     "output_type": "stream",
     "text": [
      "  (0, 11097)\t1\n",
      "  (0, 5317)\t1\n",
      "  (0, 3443)\t2\n",
      "  (0, 390)\t1\n",
      "  (0, 17498)\t1\n",
      "  (0, 13805)\t1\n",
      "  (0, 20325)\t1\n",
      "  (0, 10391)\t1\n",
      "  (0, 4212)\t1\n",
      "  (0, 16222)\t2\n",
      "  (0, 22317)\t1\n",
      "  (0, 20289)\t3\n",
      "  (0, 10574)\t1\n",
      "  (0, 21863)\t1\n",
      "  (0, 5091)\t1\n",
      "  (0, 12110)\t1\n",
      "  (0, 2689)\t2\n",
      "  (0, 20364)\t1\n",
      "  (0, 3287)\t1\n",
      "  (0, 11574)\t1\n",
      "  (0, 17261)\t1\n",
      "  (0, 5083)\t1\n",
      "  (0, 3729)\t1\n",
      "  (0, 14412)\t1\n",
      "  (0, 6431)\t1\n",
      "  :\t:\n",
      "  (1, 22426)\t1\n",
      "  (1, 4159)\t1\n",
      "  (1, 16077)\t1\n",
      "  (1, 23421)\t1\n",
      "  (1, 10409)\t1\n",
      "  (1, 3353)\t1\n",
      "  (1, 14070)\t2\n",
      "  (1, 16620)\t1\n",
      "  (1, 3479)\t1\n",
      "  (1, 17269)\t1\n",
      "  (1, 20277)\t1\n",
      "  (1, 11853)\t1\n",
      "  (1, 10797)\t2\n",
      "  (1, 14875)\t1\n",
      "  (1, 3556)\t1\n",
      "  (1, 14473)\t1\n",
      "  (1, 11395)\t1\n",
      "  (1, 17043)\t1\n",
      "  (1, 11543)\t1\n",
      "  (1, 10252)\t1\n",
      "  (1, 5858)\t1\n",
      "  (1, 20379)\t1\n",
      "  (1, 10810)\t1\n",
      "  (1, 3067)\t1\n",
      "  (1, 5934)\t1\n"
     ]
    }
   ],
   "source": [
    "print(newsgroupsVects[:2])"
   ]
  },
  {
   "cell_type": "markdown",
   "metadata": {},
   "source": [
    "I'm pretty sure that you're very familiar with the cell above now, but let's go through the concepts again. \n",
    "\n",
    "What do we want to do here? We want to do vectorization, i.e., converting texts into numerical features (vectors) as required by machine learning algorithms. And this is what feature_extraction module does: to extract features from texts in a format as required by ML algorithms. feature_extraction module has four classes: CountVectorizer, DictVectorizer, TfidfVectorizer, and FeatureHasher. Here, we use CountVectorizer, but we'll also use TfidfVectorizer as well below.\n",
    "\n",
    "There are various strategies by which we extract features. Here, we use CountVectorizer, and, in particular, we use 'Bag of Words' representation. In other words, the features we hope to extract from the texts are each individual token occurrence frequency. We simply count the the occurrence of each token in each document. So, here, we get a document-term-matrix, in which documents are characterized by the occurrences of tokens. Other forms of features, such as the relative position information of words, are ignored. We'll see other types of representations and strategies as well soon, such as N-gram (by the way, we can do n-gram with CountVectorizer. CountVectorizer class takes a set of parameters, such as analyzer, which you can specify the n-gram). \n",
    "\n",
    "the first line of the cell above instantiate a class, CountVectorizer(). In other words, you created an instance, or realization of a class. What is a class and what does instantiation mean? That's a long story, maybe for next time."
   ]
  },
  {
   "cell_type": "markdown",
   "metadata": {},
   "source": [
    "This gives us a matrix with row a document and each column a word. The matrix is mostly zeros, so we store it as a sparse matrix, a data structure that contains and indexes only the nonzero entries."
   ]
  },
  {
   "cell_type": "code",
   "execution_count": null,
   "metadata": {},
   "outputs": [],
   "source": [
    "newsgroupsVects"
   ]
  },
  {
   "cell_type": "markdown",
   "metadata": {},
   "source": [
    "We can use the normal operations on this sparse matrix or convert it to normal matrix (not recommended for large sparse matrices :-)"
   ]
  },
  {
   "cell_type": "code",
   "execution_count": null,
   "metadata": {},
   "outputs": [],
   "source": [
    "newsgroupsVects[:10,:20].toarray()"
   ]
  },
  {
   "cell_type": "markdown",
   "metadata": {},
   "source": [
    "What is the toarray() function here? It's similar to todense()--todense() and toarray() both returns a dense representation of a matrix; however, todense() returns a matrix representation while toarray() returns a ndarray representation."
   ]
  },
  {
   "cell_type": "markdown",
   "metadata": {},
   "source": [
    "We can also lookup the indices of different words using the Vectorizer"
   ]
  },
  {
   "cell_type": "code",
   "execution_count": null,
   "metadata": {
    "scrolled": true
   },
   "outputs": [],
   "source": [
    "ngCountVectorizer.vocabulary_.get('vector')"
   ]
  },
  {
   "cell_type": "markdown",
   "metadata": {},
   "source": [
    "There are some more interesting things to do...\n",
    "\n",
    "Lets start with [term frequency–inverse document frequency](http://scikit-learn.org/stable/modules/generated/sklearn.feature_extraction.text.TfidfTransformer.html)(tf-idf), a method for weighting document-distinguishing words."
   ]
  },
  {
   "cell_type": "code",
   "execution_count": null,
   "metadata": {},
   "outputs": [],
   "source": [
    "#initialize\n",
    "newsgroupsTFTransformer = sklearn.feature_extraction.text.TfidfTransformer().fit(newsgroupsVects)\n",
    "#train\n",
    "newsgroupsTF = newsgroupsTFTransformer.transform(newsgroupsVects)\n",
    "print(newsgroupsTF.shape)"
   ]
  },
  {
   "cell_type": "markdown",
   "metadata": {},
   "source": [
    "This gives us the tf-idf for each word in each text"
   ]
  },
  {
   "cell_type": "code",
   "execution_count": null,
   "metadata": {
    "scrolled": true
   },
   "outputs": [],
   "source": [
    "list(zip(ngCountVectorizer.vocabulary_.keys(), newsgroupsTF.data))[:20]"
   ]
  },
  {
   "cell_type": "markdown",
   "metadata": {},
   "source": [
    "Let's see what we're doing here. First, you need to know what vocabulary\\_ does. vocabulary\\_ is an attribute of the CountVectorizer, which gives you a mapping of terms to feature indices. It gives you all the terms and their feature indices, so it's a dictionary. So, by doing \"ngCountVectorizer.vocabulary\\_.keys()\", we get the keys of the dictionary, which are the terms. "
   ]
  },
  {
   "cell_type": "markdown",
   "metadata": {},
   "source": [
    "At first glance, there appears to be a lot of garbage littering this unordered list with unique words and stopwords. Note, however, that words like *apple*, *rgb*, and *voltage* distinguish this newsgroup document, while stopwords post a much lower weight. Note that we could filter out stop words, stem and lem our data before vectorizering, or we can instead use tf-idf to filter our data (or **both**). For exact explanation of all options look [here](http://scikit-learn.org/stable/modules/generated/sklearn.feature_extraction.text.TfidfVectorizer.html). To prune this matrix of features, we now limit our word vector to 1000 words with at least 3 occurrences, which do not occur in more than half of the documents. There is an extensive science and art to feature engineering for machine learning applications like clustering."
   ]
  },
  {
   "cell_type": "code",
   "execution_count": null,
   "metadata": {
    "collapsed": true
   },
   "outputs": [],
   "source": [
    "#initialize\n",
    "ngTFVectorizer = sklearn.feature_extraction.text.TfidfVectorizer(max_df=0.5, max_features=1000, min_df=3, stop_words='english', norm='l2')\n",
    "#train\n",
    "newsgroupsTFVects = ngTFVectorizer.fit_transform(newsgroupsDF['text'])"
   ]
  },
  {
   "cell_type": "markdown",
   "metadata": {},
   "source": [
    "Lets look at the matrix"
   ]
  },
  {
   "cell_type": "code",
   "execution_count": null,
   "metadata": {},
   "outputs": [],
   "source": [
    "newsgroupsDF['text']"
   ]
  },
  {
   "cell_type": "markdown",
   "metadata": {},
   "source": [
    "The matrix is much smaller now, only 1000 words, but the same number of documents\n",
    "\n",
    "We can still look at the words:"
   ]
  },
  {
   "cell_type": "code",
   "execution_count": null,
   "metadata": {},
   "outputs": [],
   "source": [
    "try:\n",
    "    print(ngTFVectorizer.vocabulary_['vector'])\n",
    "except KeyError:\n",
    "    print('vector is missing')\n",
    "    print('The available words are: {} ...'.format(list(ngTFVectorizer.vocabulary_.keys())[:10]))"
   ]
  },
  {
   "cell_type": "markdown",
   "metadata": {},
   "source": [
    "This is a reasonable matrix of features with which to begin identifying clusters."
   ]
  },
  {
   "cell_type": "markdown",
   "metadata": {},
   "source": [
    "# Flat Clustering with $K$-means\n",
    "\n",
    "Lets start with $k$-means, an approach that begins with random clusters of predefined number, then iterates cluster reassignment and evaluates the new clusters relative to an objective function, recursively.\n",
    "\n",
    "To do this we will need to know how many clusters we are looking for. Here the *true number* of clusters is 4. Of course, in most cases you would not know the number in advance."
   ]
  },
  {
   "cell_type": "code",
   "execution_count": null,
   "metadata": {},
   "outputs": [],
   "source": [
    "numClusters = len(set(newsgroupsDF['category']))\n",
    "numClusters"
   ]
  },
  {
   "cell_type": "markdown",
   "metadata": {},
   "source": [
    "Then we can initialize our cluster finder"
   ]
  },
  {
   "cell_type": "code",
   "execution_count": null,
   "metadata": {
    "collapsed": true
   },
   "outputs": [],
   "source": [
    "#k-means++ is a better way of finding the starting points\n",
    "#We could also try providing our own\n",
    "km = sklearn.cluster.KMeans(n_clusters=numClusters, init='k-means++')"
   ]
  },
  {
   "cell_type": "markdown",
   "metadata": {},
   "source": [
    "And now we can calculate the clusters"
   ]
  },
  {
   "cell_type": "code",
   "execution_count": null,
   "metadata": {},
   "outputs": [],
   "source": [
    "km.fit(newsgroupsTFVects)"
   ]
  },
  {
   "cell_type": "markdown",
   "metadata": {},
   "source": [
    "Once we have the clusters, we can evaluate them with a variety of metrics that sklearn provides. We will look at a few, including *Homogeneity*, *Completeness*, *V-measure* and *Adjusted Rand Score*. \n",
    "\n",
    "*Homogeneity* is a measure that grows (from 0 to 1) to the degree that all of its clusters contain only data points which are members of a single class (e.g., newsgroup). \n",
    "\n",
    "*Completeness* is *Homogeneity's* converse: a measure that grows (0 to 1) to the degree that all data points of a given class are also elements of the same cluster.\n",
    "\n",
    "The *V-measure* is the harmonic mean of *Homogeniety* and *Completeness* ($v = 2 * (homogeneity * completeness) / (homogeneity + completeness$).\n",
    "\n",
    "the *Adjusted Rand Score* is built atop the *Rand Index (RI)*, which computes the similarity between two clusterings by considering all pairs of samples and counting pairs assigned in the same or different clusters in the predicted and true clusterings (e.g., actual newsgroups). The *RI* is then adjusted for chance as follows:\n",
    "$ARI = (RI - RI_{expected}) / (max(RI) - RI_{expected})$.\n",
    "The Adjusted Rand Index is thus ensured to have a value close to 0.0 for random labeling independent of the number of clusters and samples, 1.0 when the clusterings are identical, and -1.0 when they are as bad (i.e., cross-cutting) as they can be."
   ]
  },
  {
   "cell_type": "code",
   "execution_count": null,
   "metadata": {},
   "outputs": [],
   "source": [
    "print(\"The available metrics are: {}\".format([s for s in dir(sklearn.metrics) if s[0] != '_']))\n",
    "print(\"For our clusters:\")\n",
    "print(\"Homogeneity: {:0.3f}\".format(sklearn.metrics.homogeneity_score(newsgroupsDF['category'], km.labels_)))\n",
    "print(\"Completeness: {:0.3f}\".format(sklearn.metrics.completeness_score(newsgroupsDF['category'], km.labels_)))\n",
    "print(\"V-measure: {:0.3f}\".format(sklearn.metrics.v_measure_score(newsgroupsDF['category'], km.labels_)))\n",
    "print(\"Adjusted Rand Score: {:0.3f}\".format(sklearn.metrics.adjusted_rand_score(newsgroupsDF['category'], km.labels_)))"
   ]
  },
  {
   "cell_type": "markdown",
   "metadata": {},
   "source": [
    "You can evaluate these for different clustering solutions ($1-N$ clusters). You can also interrogate the alignment between specific documents and their cluster assignments by adding the cluster labels to the pandas dataframe."
   ]
  },
  {
   "cell_type": "code",
   "execution_count": null,
   "metadata": {},
   "outputs": [],
   "source": [
    "newsgroupsDF['kmeans_predictions'] = km.labels_\n",
    "newsgroupsDF"
   ]
  },
  {
   "cell_type": "markdown",
   "metadata": {},
   "source": [
    "We can also look at the distinguishing features in each cluster:"
   ]
  },
  {
   "cell_type": "code",
   "execution_count": null,
   "metadata": {},
   "outputs": [],
   "source": [
    "terms = ngTFVectorizer.get_feature_names()\n",
    "print(\"Top terms per cluster:\")\n",
    "order_centroids = km.cluster_centers_.argsort()[:, ::-1]\n",
    "for i in range(numClusters):\n",
    "    print(\"Cluster %d:\" % i)\n",
    "    for ind in order_centroids[i, :10]:\n",
    "        print(' %s' % terms[ind])\n",
    "    print('\\n')"
   ]
  },
  {
   "cell_type": "markdown",
   "metadata": {},
   "source": [
    "Let's construct a visualization of the clusters. First, we will first reduce the\n",
    "dimensionality of the data using principal components analysis (PCA)."
   ]
  },
  {
   "cell_type": "code",
   "execution_count": null,
   "metadata": {
    "collapsed": true
   },
   "outputs": [],
   "source": [
    "PCA = sklearn.decomposition.PCA\n",
    "pca = PCA(n_components = 2).fit(newsgroupsTFVects.toarray())\n",
    "reduced_data = pca.transform(newsgroupsTFVects.toarray())"
   ]
  },
  {
   "cell_type": "markdown",
   "metadata": {
    "collapsed": true
   },
   "source": [
    "The cell below is optional. It allows you to do a biplot"
   ]
  },
  {
   "cell_type": "code",
   "execution_count": null,
   "metadata": {
    "collapsed": true
   },
   "outputs": [],
   "source": [
    "components = pca.components_\n",
    "keyword_ids = list(set(order_centroids[:,:10].flatten())) #Get the ids of the most distinguishing words(features) from your kmeans model.\n",
    "words = [terms[i] for i in keyword_ids]#Turn the ids into words.\n",
    "x = components[:,keyword_ids][0,:] #Find the coordinates of those words in your biplot.\n",
    "y = components[:,keyword_ids][1,:]"
   ]
  },
  {
   "cell_type": "markdown",
   "metadata": {},
   "source": [
    "Then, let's build a color map for the true labels."
   ]
  },
  {
   "cell_type": "code",
   "execution_count": null,
   "metadata": {},
   "outputs": [],
   "source": [
    "colordict = {\n",
    "'comp.sys.mac.hardware': 'red',\n",
    "'comp.windows.x': 'orange',\n",
    "'misc.forsale': 'green',\n",
    "'rec.autos': 'blue',\n",
    "    }\n",
    "colors = [colordict[c] for c in newsgroupsDF['category']]\n",
    "print(\"The categories' colors are:\\n{}\".format(colordict.items()))"
   ]
  },
  {
   "cell_type": "markdown",
   "metadata": {},
   "source": [
    "Let's plot the data using the true labels as the colors of our data points."
   ]
  },
  {
   "cell_type": "code",
   "execution_count": null,
   "metadata": {},
   "outputs": [],
   "source": [
    "fig = plt.figure(figsize = (10,6))\n",
    "ax = fig.add_subplot(111)\n",
    "ax.set_frame_on(False)\n",
    "ax.scatter(reduced_data[:, 0], reduced_data[:, 1], color = colors, alpha = 0.5, label = colors)\n",
    "plt.xticks(())\n",
    "plt.yticks(())\n",
    "plt.title('True Classes')\n",
    "plt.show()"
   ]
  },
  {
   "cell_type": "markdown",
   "metadata": {},
   "source": [
    "One nice thing about PCA is that we can also do a biplot and map our feature\n",
    "vectors to the same space."
   ]
  },
  {
   "cell_type": "code",
   "execution_count": null,
   "metadata": {},
   "outputs": [],
   "source": [
    "fig = plt.figure(figsize = (16,9))\n",
    "ax = fig.add_subplot(111)\n",
    "ax.set_frame_on(False)\n",
    "ax.scatter(reduced_data[:, 0], reduced_data[:, 1], color = colors, alpha = 0.3, label = colors)\n",
    "for i, word in enumerate(words):\n",
    "    ax.annotate(word, (x[i],y[i]))\n",
    "plt.xticks(())\n",
    "plt.yticks(())\n",
    "plt.title('True Classes')\n",
    "plt.show()"
   ]
  },
  {
   "cell_type": "markdown",
   "metadata": {},
   "source": [
    "Let's do it again with predicted clusters."
   ]
  },
  {
   "cell_type": "code",
   "execution_count": null,
   "metadata": {
    "collapsed": true
   },
   "outputs": [],
   "source": [
    "colors_p = [colordict[newsgroupsCategories[l]] for l in km.labels_]"
   ]
  },
  {
   "cell_type": "code",
   "execution_count": null,
   "metadata": {},
   "outputs": [],
   "source": [
    "fig = plt.figure(figsize = (10,6))\n",
    "ax = fig.add_subplot(111)\n",
    "ax.set_frame_on(False)\n",
    "plt.scatter(reduced_data[:, 0], reduced_data[:, 1], color = colors_p, alpha = 0.5)\n",
    "plt.xticks(())\n",
    "plt.yticks(())\n",
    "plt.title('Predicted Clusters\\n k = 4')\n",
    "plt.show()"
   ]
  },
  {
   "cell_type": "markdown",
   "metadata": {},
   "source": [
    "Let's try with 3 clusters."
   ]
  },
  {
   "cell_type": "code",
   "execution_count": null,
   "metadata": {},
   "outputs": [],
   "source": [
    "km3 = sklearn.cluster.KMeans(n_clusters= 3, init='k-means++')\n",
    "km3.fit(newsgroupsTFVects.toarray())"
   ]
  },
  {
   "cell_type": "markdown",
   "metadata": {},
   "source": [
    "# Selecting Cluster Number\n",
    "\n",
    "We can select an optimal cluster number by identifying the lowest of the metrics listed above (e.g., V-measure), but often you don't have \"ground truth\" or labeled data. For identifying the \"best\" number of clusters in an unsupervised way, we demonstrate the Silhouette method. Many other methods also exist (e.g., Bayesian Information Criteria or BIC, the visual \"elbow criteria\", etc.)\n",
    "\n",
    "First we will define a helper function:"
   ]
  },
  {
   "cell_type": "code",
   "execution_count": null,
   "metadata": {
    "collapsed": true
   },
   "outputs": [],
   "source": [
    "def plotSilhouette(n_clusters, X):\n",
    "    fig, (ax1, ax2) = plt.subplots(ncols=2, figsize = (15,5))\n",
    "    \n",
    "    ax1.set_xlim([-0.1, 1])\n",
    "    ax1.set_ylim([0, len(X) + (n_clusters + 1) * 10])\n",
    "    clusterer = sklearn.cluster.KMeans(n_clusters=n_clusters, random_state=10)\n",
    "    cluster_labels = clusterer.fit_predict(X)\n",
    "    \n",
    "    silhouette_avg = sklearn.metrics.silhouette_score(X, cluster_labels)\n",
    "\n",
    "    # Compute the silhouette scores for each sample\n",
    "    sample_silhouette_values = sklearn.metrics.silhouette_samples(X, cluster_labels)\n",
    "\n",
    "    y_lower = 10\n",
    "    \n",
    "    for i in range(n_clusters):\n",
    "        ith_cluster_silhouette_values = sample_silhouette_values[cluster_labels == i]\n",
    "\n",
    "        ith_cluster_silhouette_values.sort()\n",
    "\n",
    "        size_cluster_i = ith_cluster_silhouette_values.shape[0]\n",
    "        y_upper = y_lower + size_cluster_i\n",
    "        cmap = matplotlib.cm.get_cmap(\"nipy_spectral\")\n",
    "        color = cmap(float(i) / n_clusters)\n",
    "        ax1.fill_betweenx(np.arange(y_lower, y_upper),\n",
    "                          0, ith_cluster_silhouette_values,\n",
    "                          facecolor=color, edgecolor=color, alpha=0.7)\n",
    "\n",
    "        ax1.text(-0.05, y_lower + 0.5 * size_cluster_i, str(i))\n",
    "\n",
    "        y_lower = y_upper + 10\n",
    "    \n",
    "    ax1.set_title(\"The silhouette plot for the various clusters.\")\n",
    "    ax1.set_xlabel(\"The silhouette coefficient values\")\n",
    "    ax1.set_ylabel(\"Cluster label\")\n",
    "\n",
    "    ax1.axvline(x=silhouette_avg, color=\"red\", linestyle=\"--\")\n",
    "\n",
    "    ax1.set_yticks([])  # Clear the yaxis labels / ticks\n",
    "    ax1.set_xticks([-0.1, 0, 0.2, 0.4, 0.6, 0.8, 1])\n",
    "\n",
    "    # 2nd Plot showing the actual clusters formed\n",
    "    cmap = matplotlib.cm.get_cmap(\"nipy_spectral\")\n",
    "    colors = cmap(float(i) / n_clusters)\n",
    "    ax2.scatter(reduced_data[:, 0], reduced_data[:, 1], marker='.', s=30, lw=0, alpha=0.7,\n",
    "                c=colors)\n",
    "\n",
    "    # Labeling the clusters\n",
    "    centers = clusterer.cluster_centers_\n",
    "    projected_centers = pca.transform(centers)\n",
    "    # Draw white circles at cluster centers\n",
    "    ax2.scatter(projected_centers[:, 0], projected_centers[:, 1],\n",
    "                marker='o', c=\"white\", alpha=1, s=200)\n",
    "\n",
    "    for i, c in enumerate(projected_centers):\n",
    "        ax2.scatter(c[0], c[1], marker='$%d$' % i, alpha=1, s=50)\n",
    "\n",
    "    ax2.set_title(\"The visualization of the clustered data.\")\n",
    "    ax2.set_xlabel(\"PC 1\")\n",
    "    ax2.set_ylabel(\"PC 2\")\n",
    "\n",
    "    plt.suptitle((\"Silhouette analysis for KMeans clustering on sample data \"\n",
    "                  \"with n_clusters = %d\" % n_clusters),\n",
    "                 fontsize=14, fontweight='bold')\n",
    "    plt.show()\n",
    "    print(\"For n_clusters = {}, The average silhouette_score is : {:.3f}\".format(n_clusters, silhouette_avg))"
   ]
  },
  {
   "cell_type": "markdown",
   "metadata": {},
   "source": [
    "Now we can examine a few different numbers of clusters:"
   ]
  },
  {
   "cell_type": "code",
   "execution_count": null,
   "metadata": {},
   "outputs": [],
   "source": [
    "X = newsgroupsTFVects.toarray()\n",
    "plotSilhouette(3, X)"
   ]
  },
  {
   "cell_type": "code",
   "execution_count": null,
   "metadata": {},
   "outputs": [],
   "source": [
    "X = newsgroupsTFVects.toarray()\n",
    "plotSilhouette(4, X)"
   ]
  },
  {
   "cell_type": "code",
   "execution_count": null,
   "metadata": {},
   "outputs": [],
   "source": [
    "X = newsgroupsTFVects.toarray()\n",
    "plotSilhouette(5, X)"
   ]
  },
  {
   "cell_type": "code",
   "execution_count": null,
   "metadata": {},
   "outputs": [],
   "source": [
    "X = newsgroupsTFVects.toarray()\n",
    "plotSilhouette(6, X)"
   ]
  },
  {
   "cell_type": "markdown",
   "metadata": {},
   "source": [
    "Interestingly, the silhouette scores above suggests that 3 is a better number of clusters than 4, which would be accurate if we (reasonsably) grouped the two computer-themed groups."
   ]
  },
  {
   "cell_type": "markdown",
   "metadata": {},
   "source": [
    "# Getting new text data\n",
    "\n",
    "Lets start by using the same function as last lesson and loading a few press releases from 10 different senators into a DataFrame. The code to do this is below, but commented out as we've already downloaded the data to the data directory."
   ]
  },
  {
   "cell_type": "code",
   "execution_count": null,
   "metadata": {},
   "outputs": [],
   "source": [
    "targetSenator = 'Kennedy'# = ['Voinovich', 'Obama', 'Whitehouse', 'Snowe', 'Rockefeller', 'Murkowski', 'McCain', 'Kyl', 'Baucus', 'Frist']\n",
    "\"\"\"\n",
    "#Uncomment this to download your own data\n",
    "senReleasesTraining = pandas.DataFrame()\n",
    "\n",
    "print(\"Fetching {}'s data\".format(targetSenator))\n",
    "targetDF = lucem_illud.getGithubFiles('https://api.github.com/repos/lintool/GrimmerSenatePressReleases/contents/raw/{}'.format(targetSenator), maxFiles = 2000)\n",
    "targetDF['targetSenator'] = targetSenator\n",
    "senReleasesTraining = senReleasesTraining.append(targetDF, ignore_index = True)\n",
    "\n",
    "#Watch out for weird lines when converting to csv\n",
    "#one of them had to be removed from the Kennedy data so it could be re-read\n",
    "senReleasesTraining.to_csv(\"data/senReleasesTraining.csv\")\n",
    "\"\"\"\n",
    "\n",
    "senReleasesTraining = pandas.read_csv(\"../data/senReleasesTraining.csv\")\n",
    "\n",
    "senReleasesTraining[:5]"
   ]
  },
  {
   "cell_type": "markdown",
   "metadata": {},
   "source": [
    "Now we have the files we can tokenize and normalize."
   ]
  },
  {
   "cell_type": "markdown",
   "metadata": {},
   "source": [
    "The normalized text is good, but we know that the texts will have a large amount of overlap so we can use tf-idf to remove some of the most frequent words. Before doing that, there is one empty cell, let's remove that."
   ]
  },
  {
   "cell_type": "code",
   "execution_count": null,
   "metadata": {
    "collapsed": true
   },
   "outputs": [],
   "source": [
    "senReleasesTraining = senReleasesTraining.dropna(axis=0, how='any')"
   ]
  },
  {
   "cell_type": "code",
   "execution_count": null,
   "metadata": {},
   "outputs": [],
   "source": [
    "#Similar parameters to before, but stricter max df and no max num occurrences\n",
    "senTFVectorizer = sklearn.feature_extraction.text.TfidfVectorizer(max_df=100, min_df=2, stop_words='english', norm='l2')\n",
    "senTFVects = senTFVectorizer.fit_transform(senReleasesTraining['text'])\n",
    "senTFVectorizer.vocabulary_.get('senat', 'Missing \"Senate\"')"
   ]
  },
  {
   "cell_type": "markdown",
   "metadata": {},
   "source": [
    "# Clustering with our new data\n",
    "\n",
    "One nice thing about using DataFrames for everything is that we can quickly convert code from one input to another. Below we are redoing the cluster detection with our senate data. If you setup your DataFrame the same way it should be able to run on this code, without much work.\n",
    "\n",
    "First we will define what we will be working with"
   ]
  },
  {
   "cell_type": "code",
   "execution_count": null,
   "metadata": {
    "collapsed": true
   },
   "outputs": [],
   "source": [
    "targetDF = senReleasesTraining\n",
    "textColumn = 'text'\n",
    "numCategories = 3"
   ]
  },
  {
   "cell_type": "markdown",
   "metadata": {},
   "source": [
    "Tf-IDf vectorizing"
   ]
  },
  {
   "cell_type": "code",
   "execution_count": null,
   "metadata": {
    "collapsed": true
   },
   "outputs": [],
   "source": [
    "exampleTFVectorizer = sklearn.feature_extraction.text.TfidfVectorizer(max_df=0.5, max_features=1000, min_df=3, stop_words='english', norm='l2')\n",
    "#train\n",
    "exampleTFVects = ngTFVectorizer.fit_transform(targetDF[textColumn])"
   ]
  },
  {
   "cell_type": "markdown",
   "metadata": {},
   "source": [
    "Running k means"
   ]
  },
  {
   "cell_type": "code",
   "execution_count": null,
   "metadata": {},
   "outputs": [],
   "source": [
    "exampleKM = sklearn.cluster.KMeans(n_clusters = numCategories, init='k-means++')\n",
    "exampleKM.fit(exampleTFVects)"
   ]
  },
  {
   "cell_type": "markdown",
   "metadata": {},
   "source": [
    "And visualize:"
   ]
  },
  {
   "cell_type": "code",
   "execution_count": null,
   "metadata": {
    "collapsed": true
   },
   "outputs": [],
   "source": [
    "examplePCA = sklearn.decomposition.PCA(n_components = 2).fit(exampleTFVects.toarray())\n",
    "reducedPCA_data = examplePCA.transform(exampleTFVects.toarray())\n",
    "\n",
    "colors = list(plt.cm.rainbow(np.linspace(0,1, numCategories)))\n",
    "colors_p = [colors[l] for l in exampleKM.labels_]"
   ]
  },
  {
   "cell_type": "code",
   "execution_count": null,
   "metadata": {},
   "outputs": [],
   "source": [
    "fig = plt.figure(1)\n",
    "ax = fig.add_subplot(111)\n",
    "ax.set_frame_on(False)\n",
    "plt.scatter(reducedPCA_data[:, 0], reducedPCA_data[:, 1], color = colors_p, alpha = 0.5)\n",
    "plt.xticks(())\n",
    "plt.yticks(())\n",
    "plt.title('Predicted Clusters\\n k = {}'.format(numCategories))\n",
    "plt.show()"
   ]
  },
  {
   "cell_type": "markdown",
   "metadata": {},
   "source": [
    "In this case, there may be two clusters that could be identified with Silhouette analysis or some of the metrics described above; although not having true classes makes that tricky. Below, we add these cluster assignments to the dataframe for individual perusal and evaluation."
   ]
  },
  {
   "cell_type": "code",
   "execution_count": null,
   "metadata": {},
   "outputs": [],
   "source": [
    "targetDF['kmeans_predictions'] = exampleKM.labels_\n",
    "targetDF"
   ]
  },
  {
   "cell_type": "markdown",
   "metadata": {},
   "source": [
    "## <span style=\"color:red\">*Exercise 1*</span>\n",
    "\n",
    "<span style=\"color:red\">Construct cells immediately below this that construct features and cluster your documents using K-means and a variety of cluster numbers. Interrogate the cluster contents in terms of both documents and features. Identify the \"optimal\" cluster number with Silhouette analysis. Plot clusters and features after reducing with PCA. What does this cluster structure reveal about the organization of documents in your corpora? "
   ]
  },
  {
   "cell_type": "markdown",
   "metadata": {},
   "source": [
    "# Hierarchical Clustering with Wald's Method\n",
    "\n",
    "Next we approach a hierchical clustering method, which proposes nested clusters at any resolution (at the finest resolution, every document is its own cluster).\n",
    "\n",
    "Here we must begin by calculating how similar the documents are to one another.\n",
    "\n",
    "As a first pass, we take our matrix of word counts per document\n",
    "`newsgroupsTFVects` and create a word occurrence matrix measuring how similar\n",
    "the documents are to each other based on their number of shared words. (Note one could perform the converse operation, a document occurrence matrix measuring how similar  words are to each other based on their number of collocated documents)."
   ]
  },
  {
   "cell_type": "code",
   "execution_count": null,
   "metadata": {},
   "outputs": [],
   "source": [
    "newsgroupsTFVects"
   ]
  },
  {
   "cell_type": "code",
   "execution_count": null,
   "metadata": {},
   "outputs": [],
   "source": [
    "newsgroupsTFVects[:100].todense()"
   ]
  },
  {
   "cell_type": "code",
   "execution_count": null,
   "metadata": {},
   "outputs": [],
   "source": [
    "newsgroupsCoocMat = newsgroupsTFVects * newsgroupsTFVects.T\n",
    "#set the diagonal to 0 since we don't care how similar texts are to themselves\n",
    "newsgroupsCoocMat.setdiag(0)\n",
    "#Another way of relating the texts is with their cosine similarity\n",
    "#newsgroupsCosinMat1 = 1 - sklearn.metrics.pairwise.cosine_similarity(newsgroupsTFVects)\n",
    "#But generally word occurrence is more accurate\n"
   ]
  },
  {
   "cell_type": "markdown",
   "metadata": {},
   "source": [
    "Now we can compute a tree of nested clusters. Here we will only look at the first 50 texts of each class because drawing the dendrograms can be computationally intensive (and visually complex)."
   ]
  },
  {
   "cell_type": "code",
   "execution_count": null,
   "metadata": {
    "collapsed": true
   },
   "outputs": [],
   "source": [
    "selectIndices = []\n",
    "indexToCat = []\n",
    "for c in set(newsgroupsDF['category']):\n",
    "    selectIndices += list(newsgroupsDF[newsgroupsDF['category'] == c].index)[:50]\n",
    "    indexToCat += [c] * 50\n",
    "    #.groupby('category').sum()"
   ]
  },
  {
   "cell_type": "code",
   "execution_count": null,
   "metadata": {
    "collapsed": true
   },
   "outputs": [],
   "source": [
    "subCoocMat = newsgroupsCoocMat[selectIndices,:][:,selectIndices]"
   ]
  },
  {
   "cell_type": "code",
   "execution_count": null,
   "metadata": {},
   "outputs": [],
   "source": [
    "linkage_matrix = scipy.cluster.hierarchy.ward(subCoocMat.toarray())\n",
    "linkage_matrix[:10]"
   ]
  },
  {
   "cell_type": "markdown",
   "metadata": {},
   "source": [
    "Now we can visualize the tree"
   ]
  },
  {
   "cell_type": "code",
   "execution_count": null,
   "metadata": {},
   "outputs": [],
   "source": [
    "dendDat = scipy.cluster.hierarchy.dendrogram(linkage_matrix, get_leaves=True)"
   ]
  },
  {
   "cell_type": "markdown",
   "metadata": {},
   "source": [
    "This plot may seem somewhat unwieldy. To make it easier to read, we can cut the tree after a number of branchings."
   ]
  },
  {
   "cell_type": "code",
   "execution_count": null,
   "metadata": {},
   "outputs": [],
   "source": [
    "dendrogramDat = scipy.cluster.hierarchy.dendrogram(linkage_matrix, p=4, truncate_mode='level', get_leaves=True)"
   ]
  },
  {
   "cell_type": "markdown",
   "metadata": {},
   "source": [
    "By default, the tree is colored to show the clusters based on their ['distance'](https://docs.scipy.org/doc/scipy-0.18.1/reference/generated/scipy.cluster.hierarchy.dendrogram.html#scipy.cluster.hierarchy.dendrogram) from one another, but there are other ways of forming hierarchical clusters.\n",
    "\n",
    "Another approach involves cutting the tree into `n` branches. We can do this with [`fcluster()`](https://docs.scipy.org/doc/scipy/reference/generated/scipy.cluster.hierarchy.fcluster.html#scipy.cluster.hierarchy.fcluster). Lets break the tree into 4 clusters. When we do this with all of the data in the dataframe, as below, we can add those clusters back for detailed evaluation."
   ]
  },
  {
   "cell_type": "code",
   "execution_count": null,
   "metadata": {},
   "outputs": [],
   "source": [
    "hierarchicalClusters = scipy.cluster.hierarchy.fcluster(linkage_matrix, 4, 'maxclust')\n",
    "hierarchicalClusters"
   ]
  },
  {
   "cell_type": "markdown",
   "metadata": {},
   "source": [
    "We can use this *get clusters* like we did with k-means. What if we do the full data set?"
   ]
  },
  {
   "cell_type": "code",
   "execution_count": null,
   "metadata": {},
   "outputs": [],
   "source": [
    "linkage_matrix_full = scipy.cluster.hierarchy.ward(newsgroupsCoocMat.toarray())\n",
    "hierarchicalClusters_full = scipy.cluster.hierarchy.fcluster(linkage_matrix_full, 4, 'maxclust')\n",
    "print(\"For our complete clusters:\")\n",
    "print(\"Homogeneity: {:0.3f}\".format(sklearn.metrics.homogeneity_score(newsgroupsDF['category'], hierarchicalClusters_full)))\n",
    "print(\"Completeness: {:0.3f}\".format(sklearn.metrics.completeness_score(newsgroupsDF['category'], hierarchicalClusters_full)))\n",
    "print(\"V-measure: {:0.3f}\".format(sklearn.metrics.v_measure_score(newsgroupsDF['category'], hierarchicalClusters_full)))\n",
    "print(\"Adjusted Rand Score: {:0.3f}\".format(sklearn.metrics.adjusted_rand_score(newsgroupsDF['category'], hierarchicalClusters_full)))"
   ]
  },
  {
   "cell_type": "markdown",
   "metadata": {},
   "source": [
    "Not quite as good as k-means. Perhaps we've got too many words for Ward or maybe we shouldn't be using TFIDF as that compresses the space. Still, the hierarchical model places constraints on the clustering not present with k-means, which come at a cost. Finally, we can bring those cluster assignments back to the data frame for deeper investigation."
   ]
  },
  {
   "cell_type": "code",
   "execution_count": null,
   "metadata": {},
   "outputs": [],
   "source": [
    "newsgroupsDF['wald_predictions'] = hierarchicalClusters_full\n",
    "newsgroupsDF"
   ]
  },
  {
   "cell_type": "markdown",
   "metadata": {},
   "source": [
    "# Now let's do it with Senate press release data\n",
    "\n",
    "We can also do hierarchical clustering with the Senate data. Let's start by creating the linkage matrix:"
   ]
  },
  {
   "cell_type": "code",
   "execution_count": null,
   "metadata": {},
   "outputs": [],
   "source": [
    "exampleCoocMat = exampleTFVects * exampleTFVects.T\n",
    "exampleCoocMat.setdiag(0)\n",
    "examplelinkage_matrix = scipy.cluster.hierarchy.ward(exampleCoocMat[:100, :100].toarray())"
   ]
  },
  {
   "cell_type": "markdown",
   "metadata": {},
   "source": [
    "And visualize the tree:"
   ]
  },
  {
   "cell_type": "code",
   "execution_count": null,
   "metadata": {},
   "outputs": [],
   "source": [
    "ax = scipy.cluster.hierarchy.dendrogram(examplelinkage_matrix, p=5, truncate_mode='level')"
   ]
  },
  {
   "cell_type": "markdown",
   "metadata": {},
   "source": [
    "Now let's do it with the entire data frame."
   ]
  },
  {
   "cell_type": "code",
   "execution_count": null,
   "metadata": {
    "collapsed": true
   },
   "outputs": [],
   "source": [
    "example_linkage_matrix_full = scipy.cluster.hierarchy.ward(exampleCoocMat.toarray())\n",
    "example_hierarchicalClusters_full = scipy.cluster.hierarchy.fcluster(example_linkage_matrix_full, 4, 'maxclust')"
   ]
  },
  {
   "cell_type": "markdown",
   "metadata": {},
   "source": [
    "## <span style=\"color:red\">*Exercise 2*</span>\n",
    "\n",
    "<span style=\"color:red\">Construct cells immediately below this that hierarchically cluster your documents using two approaches, and visualize them with a tree. Interrogate the recursive cluster contents in terms of both documents and closenesses. What does this nested cluster structure reveal about the organization of documents in your sampled corpora? Moreover, if they do worse than kmeans (as above), why do you think this is the case (hint: using metrics if you have ground truth or silhouette if you do not)? \n",
    "\n",
    "<span style=\"color:red\">***Stretch***: Attempt using different distances into your clustering algorithms. (How) do they change the arrangement of clusters?"
   ]
  },
  {
   "cell_type": "markdown",
   "metadata": {},
   "source": [
    "# Gensim\n",
    "\n",
    "To do topic modeling we will also be using data from the [grimmer press releases corpus](ttps://github.com/lintool/GrimmerSenatePressReleases). To use the texts with gensim we need to create a `corpua` object, this takes a few steps. First we create a `Dictionary` that maps tokens to ids."
   ]
  },
  {
   "cell_type": "code",
   "execution_count": null,
   "metadata": {
    "collapsed": true
   },
   "outputs": [],
   "source": [
    "#Apply our functions\n",
    "senReleasesTraining['tokenized_text'] = senReleasesTraining['text'].apply(lambda x: lucem_illud_2020.word_tokenize(x))\n",
    "senReleasesTraining['normalized_tokens'] = senReleasesTraining['tokenized_text'].apply(lambda x: lucem_illud_2020.normalizeTokens(x))"
   ]
  },
  {
   "cell_type": "code",
   "execution_count": null,
   "metadata": {},
   "outputs": [],
   "source": [
    "senReleasesTraining[::100]"
   ]
  },
  {
   "cell_type": "code",
   "execution_count": null,
   "metadata": {
    "collapsed": true
   },
   "outputs": [],
   "source": [
    "def dropMissing(wordLst, vocab):\n",
    "    return [w for w in wordLst if w in vocab]\n",
    "\n",
    "senReleasesTraining['reduced_tokens'] = senReleasesTraining['normalized_tokens'].apply(lambda x: dropMissing(x, senTFVectorizer.vocabulary_.keys()))"
   ]
  },
  {
   "cell_type": "code",
   "execution_count": null,
   "metadata": {
    "collapsed": true
   },
   "outputs": [],
   "source": [
    "dictionary = gensim.corpora.Dictionary(senReleasesTraining['reduced_tokens'])"
   ]
  },
  {
   "cell_type": "markdown",
   "metadata": {},
   "source": [
    "Then for each of the texts we create a list of tuples containing each token and its count. We will only use the first half of our dataset for now and will save the remainder for testing."
   ]
  },
  {
   "cell_type": "code",
   "execution_count": null,
   "metadata": {
    "collapsed": true
   },
   "outputs": [],
   "source": [
    "corpus = [dictionary.doc2bow(text) for text in senReleasesTraining['reduced_tokens']]"
   ]
  },
  {
   "cell_type": "markdown",
   "metadata": {},
   "source": [
    "Then we serialize the corpus as a file and load it. This is an important step when the corpus is large."
   ]
  },
  {
   "cell_type": "code",
   "execution_count": null,
   "metadata": {
    "collapsed": true
   },
   "outputs": [],
   "source": [
    "gensim.corpora.MmCorpus.serialize('senate.mm', corpus)\n",
    "senmm = gensim.corpora.MmCorpus('senate.mm')"
   ]
  },
  {
   "cell_type": "markdown",
   "metadata": {},
   "source": [
    "Now we have a correctly formatted corpus that we can use for topic modeling and induction."
   ]
  },
  {
   "cell_type": "code",
   "execution_count": null,
   "metadata": {
    "collapsed": true
   },
   "outputs": [],
   "source": [
    "senlda = gensim.models.ldamodel.LdaModel(corpus=senmm, id2word=dictionary, num_topics=10, alpha='auto', eta='auto')"
   ]
  },
  {
   "cell_type": "markdown",
   "metadata": {},
   "source": [
    "We can inspect the degree to which distinct texts load on different topics. Here is one of the texts from the training set:"
   ]
  },
  {
   "cell_type": "code",
   "execution_count": null,
   "metadata": {},
   "outputs": [],
   "source": [
    "sen1Bow = dictionary.doc2bow(senReleasesTraining['reduced_tokens'][0])\n",
    "sen1lda = senlda[sen1Bow]\n",
    "print(\"The topics of the text: {}\".format(senReleasesTraining['name'][0]))\n",
    "print(\"are: {}\".format(sen1lda))"
   ]
  },
  {
   "cell_type": "markdown",
   "metadata": {},
   "source": [
    "We can now see which topics our model predicts press releases load on and make this into a `dataFrame` for later analysis."
   ]
  },
  {
   "cell_type": "code",
   "execution_count": null,
   "metadata": {
    "collapsed": true
   },
   "outputs": [],
   "source": [
    "ldaDF = pandas.DataFrame({\n",
    "        'name' : senReleasesTraining['name'],\n",
    "        'topics' : [senlda[dictionary.doc2bow(l)] for l in senReleasesTraining['reduced_tokens']]\n",
    "    })"
   ]
  },
  {
   "cell_type": "markdown",
   "metadata": {},
   "source": [
    "This is a bit unwieldy so lets make each topic its own column:"
   ]
  },
  {
   "cell_type": "code",
   "execution_count": null,
   "metadata": {},
   "outputs": [],
   "source": [
    "#Dict to temporally hold the probabilities\n",
    "topicsProbDict = {i : [0] * len(ldaDF) for i in range(senlda.num_topics)}\n",
    "\n",
    "#Load them into the dict\n",
    "for index, topicTuples in enumerate(ldaDF['topics']):\n",
    "    for topicNum, prob in topicTuples:\n",
    "        topicsProbDict[topicNum][index] = prob\n",
    "\n",
    "#Update the DataFrame\n",
    "for topicNum in range(senlda.num_topics):\n",
    "    ldaDF['topic_{}'.format(topicNum)] = topicsProbDict[topicNum]\n",
    "\n",
    "ldaDF[1::100]"
   ]
  },
  {
   "cell_type": "markdown",
   "metadata": {},
   "source": [
    "Now let's visualize this for several (e.g., 10) documents in the corpus. First we'll subset the data:"
   ]
  },
  {
   "cell_type": "code",
   "execution_count": null,
   "metadata": {},
   "outputs": [],
   "source": [
    "ldaDFV = ldaDF[:10][['topic_%d' %x for x in range(10)]]\n",
    "ldaDFVisN = ldaDF[:10][['name']]\n",
    "ldaDFVis = ldaDFV.as_matrix(columns=None)\n",
    "ldaDFVisNames = ldaDFVisN.as_matrix(columns=None)\n",
    "ldaDFV"
   ]
  },
  {
   "cell_type": "markdown",
   "metadata": {},
   "source": [
    "First we can visualize as a stacked bar chart:"
   ]
  },
  {
   "cell_type": "code",
   "execution_count": null,
   "metadata": {},
   "outputs": [],
   "source": [
    "N = 10\n",
    "ind = np.arange(N)\n",
    "K = senlda.num_topics  # N documents, K topics\n",
    "ind = np.arange(N)  # the x-axis locations for the novels\n",
    "width = 0.5  # the width of the bars\n",
    "plots = []\n",
    "height_cumulative = np.zeros(N)\n",
    "\n",
    "for k in range(K):\n",
    "    color = plt.cm.coolwarm(k/K, 1)\n",
    "    if k == 0:\n",
    "        p = plt.bar(ind, ldaDFVis[:, k], width, color=color)\n",
    "    else:\n",
    "        p = plt.bar(ind, ldaDFVis[:, k], width, bottom=height_cumulative, color=color)\n",
    "    height_cumulative += ldaDFVis[:, k]\n",
    "    plots.append(p)\n",
    "    \n",
    "\n",
    "plt.ylim((0, 1))  # proportions sum to 1, so the height of the stacked bars is 1\n",
    "plt.ylabel('Topics')\n",
    "\n",
    "plt.title('Topics in Press Releases')\n",
    "plt.xticks(ind+width/2, ldaDFVisNames, rotation='vertical')\n",
    "\n",
    "plt.yticks(np.arange(0, 1, 10))\n",
    "topic_labels = ['Topic #{}'.format(k) for k in range(K)]\n",
    "plt.legend([p[0] for p in plots], topic_labels, loc='center left', frameon=True,  bbox_to_anchor = (1, .5))\n",
    "\n",
    "plt.show()"
   ]
  },
  {
   "cell_type": "markdown",
   "metadata": {},
   "source": [
    "We can also visualize as a heat map:"
   ]
  },
  {
   "cell_type": "code",
   "execution_count": null,
   "metadata": {},
   "outputs": [],
   "source": [
    "plt.pcolor(ldaDFVis, norm=None, cmap='Blues')\n",
    "plt.yticks(np.arange(ldaDFVis.shape[0])+0.5, ldaDFVisNames);\n",
    "plt.xticks(np.arange(ldaDFVis.shape[1])+0.5, topic_labels);\n",
    "\n",
    "# flip the y-axis so the texts are in the order we anticipate (Austen first, then Brontë)\n",
    "plt.gca().invert_yaxis()\n",
    "\n",
    "# rotate the ticks on the x-axis\n",
    "plt.xticks(rotation=90)\n",
    "\n",
    "# add a legend\n",
    "plt.colorbar(cmap='Blues')\n",
    "plt.tight_layout()  # fixes margins\n",
    "plt.show()"
   ]
  },
  {
   "cell_type": "markdown",
   "metadata": {},
   "source": [
    "We can also look at the top words from each topic to get a sense of the semantic (or syntactic) domain they represent. To look at the terms with the highest LDA weight in topic `1` we can do the following:"
   ]
  },
  {
   "cell_type": "code",
   "execution_count": null,
   "metadata": {},
   "outputs": [],
   "source": [
    "senlda.show_topic(1)"
   ]
  },
  {
   "cell_type": "markdown",
   "metadata": {},
   "source": [
    "And if we want to make a dataFrame:"
   ]
  },
  {
   "cell_type": "code",
   "execution_count": null,
   "metadata": {},
   "outputs": [],
   "source": [
    "topicsDict = {}\n",
    "for topicNum in range(senlda.num_topics):\n",
    "    topicWords = [w for w, p in senlda.show_topic(topicNum)]\n",
    "    topicsDict['Topic_{}'.format(topicNum)] = topicWords\n",
    "\n",
    "wordRanksDF = pandas.DataFrame(topicsDict)\n",
    "wordRanksDF"
   ]
  },
  {
   "cell_type": "markdown",
   "metadata": {},
   "source": [
    "We can see that several of the topics have the same top words, but there are definitely differences. We can try and make the topics more distinct by changing the $\\alpha$ and $\\eta$ parameters of the model. $\\alpha$ controls the sparsity of document-topic loadings, and $\\eta$ controls the sparsity of topic-word loadings.\n",
    "\n",
    "We can make a visualization of the distribution of words over any single topic."
   ]
  },
  {
   "cell_type": "code",
   "execution_count": null,
   "metadata": {},
   "outputs": [],
   "source": [
    "topic1_df = pandas.DataFrame(senlda.show_topic(1, topn=50))\n",
    "plt.figure()\n",
    "topic1_df.plot.bar(legend = False)\n",
    "plt.title('Probability Distribution of Words, Topic 1')\n",
    "plt.show()"
   ]
  },
  {
   "cell_type": "markdown",
   "metadata": {},
   "source": [
    "See how different $\\eta$ values can change the shape of the distribution."
   ]
  },
  {
   "cell_type": "code",
   "execution_count": null,
   "metadata": {
    "collapsed": true
   },
   "outputs": [],
   "source": [
    "senlda1 = gensim.models.ldamodel.LdaModel(corpus=senmm, id2word=dictionary, num_topics=10, eta = 0.00001)\n",
    "senlda2 = gensim.models.ldamodel.LdaModel(corpus=senmm, id2word=dictionary, num_topics=10, eta = 0.9)"
   ]
  },
  {
   "cell_type": "code",
   "execution_count": null,
   "metadata": {},
   "outputs": [],
   "source": [
    "topic11_df = pandas.DataFrame(senlda1.show_topic(1, topn=50))\n",
    "topic21_df = pandas.DataFrame(senlda2.show_topic(1, topn=50))\n",
    "\n",
    "fig, (ax1, ax2) = plt.subplots(1, 2)\n",
    "fig.set_size_inches(18, 7)\n",
    "topic11_df.plot.bar(legend = False, ax = ax1, title = '$\\eta$  = 0.00001')\n",
    "topic21_df.plot.bar(legend = False, ax = ax2, title = '$\\eta$  = 0.9')\n",
    "plt.show()"
   ]
  },
  {
   "cell_type": "markdown",
   "metadata": {},
   "source": [
    "## <span style=\"color:red\">*Exercise 3*</span>\n",
    "\n",
    "<span style=\"color:red\">Construct cells immediately below this that topic model documents related to your anticipated final project. Interrogate and visually plot (e.g., as a bar graph?) the topic-word loadings and the document-topic loadings. What does this topic structure reveal about the distribution of contents across your documents? Systematically vary the $\\alpha$, $\\eta$, and topic number of the model for your text and describe in detail whether and how these changes led to distinctive outcomes, visible to you as analyst.  \n",
    "\n",
    "<span style=\"color:red\">**Stretch**: Cluster your documents, but instead of using words alone, use their topic loadings as an additional set of features. Do these topic loadings increase the apparent semantic coherence of your clusters?</span> "
   ]
  },
  {
   "cell_type": "markdown",
   "metadata": {},
   "source": [
    "## Extending Topic Models within broader research pipelines\n",
    "\n",
    "Topic models can be the base of more complex analysis. One good example is the paper - Individuals, institutions, and innovation in the debates of the French Revolution (https://www.pnas.org/content/115/18/4607), where they use topic models to find similarities and differences between the topics of different individuals. Let us revisit this idea using the Soap opera database. Who innovates and influences the most within the Soap?\n",
    "\n",
    "The next few lines of code follows the same process as last weeks notebook. Please visit the old notebook to read descriptions of the code if you have forgotten what it does."
   ]
  },
  {
   "cell_type": "code",
   "execution_count": null,
   "metadata": {
    "collapsed": true
   },
   "outputs": [],
   "source": [
    "corpora_address = \"/Users/bhargavvader/Downloads/Academics_Tech/corpora/SOAP\""
   ]
  },
  {
   "cell_type": "code",
   "execution_count": null,
   "metadata": {},
   "outputs": [],
   "source": [
    "soap_texts = lucem_illud_2020.loadDavies(corpora_address, num_files=2000)"
   ]
  },
  {
   "cell_type": "code",
   "execution_count": null,
   "metadata": {
    "collapsed": true
   },
   "outputs": [],
   "source": [
    "import zipfile\n",
    "import pandas as pd"
   ]
  },
  {
   "cell_type": "code",
   "execution_count": null,
   "metadata": {
    "collapsed": true
   },
   "outputs": [],
   "source": [
    "zfile = zipfile.ZipFile(corpora_address + \"/soap_sources.zip\")\n",
    "source = []"
   ]
  },
  {
   "cell_type": "code",
   "execution_count": null,
   "metadata": {
    "collapsed": true
   },
   "outputs": [],
   "source": [
    "for file in zfile.namelist():\n",
    "    with zfile.open(file) as f:\n",
    "        for line in f:\n",
    "            source.append(line)"
   ]
  },
  {
   "cell_type": "code",
   "execution_count": null,
   "metadata": {
    "collapsed": true
   },
   "outputs": [],
   "source": [
    "soap_dict = {}"
   ]
  },
  {
   "cell_type": "code",
   "execution_count": null,
   "metadata": {
    "collapsed": true
   },
   "outputs": [],
   "source": [
    "for soap in source[3:]:\n",
    "    try:\n",
    "        textID, year, show, url = soap.decode(\"utf-8\").split(\"\\t\")\n",
    "    except UnicodeDecodeError:\n",
    "        continue\n",
    "    if show.strip() not in soap_dict:\n",
    "        soap_dict[show.strip()] = []\n",
    "    if show.strip() in soap_dict:\n",
    "        try:\n",
    "            soap_dict[show.strip()].append(soap_texts[textID.strip()])\n",
    "        except KeyError:\n",
    "            continue"
   ]
  },
  {
   "cell_type": "code",
   "execution_count": null,
   "metadata": {},
   "outputs": [],
   "source": [
    "soap_dict.keys()"
   ]
  },
  {
   "cell_type": "code",
   "execution_count": null,
   "metadata": {
    "collapsed": true
   },
   "outputs": [],
   "source": [
    "soap_df = pd.DataFrame(columns=[\"Soap Name\", \"Tokenized Texts\"])"
   ]
  },
  {
   "cell_type": "code",
   "execution_count": null,
   "metadata": {
    "collapsed": true
   },
   "outputs": [],
   "source": [
    "i = 0"
   ]
  },
  {
   "cell_type": "code",
   "execution_count": null,
   "metadata": {},
   "outputs": [],
   "source": [
    "for soap in soap_dict:\n",
    "    # since there were multiple lists\n",
    "    print(soap)\n",
    "    full_script = []\n",
    "    for part in soap_dict[soap]:\n",
    "        full_script = full_script + part\n",
    "    soap_df.loc[i] = [soap, full_script]\n",
    "    i += 1"
   ]
  },
  {
   "cell_type": "code",
   "execution_count": null,
   "metadata": {},
   "outputs": [],
   "source": [
    "soap_df"
   ]
  },
  {
   "cell_type": "markdown",
   "metadata": {},
   "source": [
    "Checking to see which index I should use. In my example it is the last one, so I choose my index as 9. It might be different for you!"
   ]
  },
  {
   "cell_type": "code",
   "execution_count": null,
   "metadata": {
    "collapsed": true
   },
   "outputs": [],
   "source": [
    "dool = soap_df['Tokenized Texts'][9]"
   ]
  },
  {
   "cell_type": "code",
   "execution_count": null,
   "metadata": {},
   "outputs": [],
   "source": [
    "' '.join(dool[0:1500])"
   ]
  },
  {
   "cell_type": "code",
   "execution_count": null,
   "metadata": {
    "collapsed": true
   },
   "outputs": [],
   "source": [
    "characters = {}\n",
    "for token in dool:\n",
    "    if token[0] == '@':\n",
    "        # all characters or actions start with @, so we add that to character\n",
    "        if token[2:] not in characters:\n",
    "            characters[token[2:]] = 0\n",
    "        if token[2:] in characters:\n",
    "            characters[token[2:]] += 1"
   ]
  },
  {
   "cell_type": "code",
   "execution_count": null,
   "metadata": {
    "collapsed": true
   },
   "outputs": [],
   "source": [
    "import networkx as nx"
   ]
  },
  {
   "cell_type": "code",
   "execution_count": null,
   "metadata": {
    "collapsed": true
   },
   "outputs": [],
   "source": [
    "actor_network = nx.Graph()"
   ]
  },
  {
   "cell_type": "code",
   "execution_count": null,
   "metadata": {
    "collapsed": true
   },
   "outputs": [],
   "source": [
    "for character in characters:\n",
    "    if characters[character] > 2000:\n",
    "        actor_network.add_node(character, lines_spoken= characters[character], words=[])"
   ]
  },
  {
   "cell_type": "code",
   "execution_count": null,
   "metadata": {
    "collapsed": true
   },
   "outputs": [],
   "source": [
    "i = 0"
   ]
  },
  {
   "cell_type": "code",
   "execution_count": null,
   "metadata": {
    "collapsed": true
   },
   "outputs": [],
   "source": [
    "all_texts = []"
   ]
  },
  {
   "cell_type": "code",
   "execution_count": null,
   "metadata": {
    "collapsed": true
   },
   "outputs": [],
   "source": [
    "for token in dool:\n",
    "    i += 1\n",
    "    if i > len(dool):\n",
    "        break\n",
    "    if token[0] == \"@\":\n",
    "        if token[2:] in actor_network.nodes():\n",
    "            j = i\n",
    "            for token_ in dool[i:]:\n",
    "                if token_[0] == \"@\":\n",
    "                    # if both the characters exist in the graph, add a weight\n",
    "                    if token_[2:] != token[2:] and token_[2:] in actor_network.nodes():\n",
    "                        if (token[2:], token_[2:]) not in actor_network.edges():\n",
    "                            actor_network.add_edge(token[2:], token_[2:], weight=0)\n",
    "                        if (token[2:], token_[2:]) in actor_network.edges():\n",
    "                            actor_network.edges[(token[2:], token_[2:])]['weight'] += 1\n",
    "                    break\n",
    "                j += 1\n",
    "            # adding characters sentences\n",
    "            actor_network.nodes[token[2:]]['words'].append(dool[i:j])\n",
    "            all_texts.append(lucem_illud_2020.normalizeTokens(dool[i:j]))"
   ]
  },
  {
   "cell_type": "code",
   "execution_count": null,
   "metadata": {},
   "outputs": [],
   "source": [
    "nx.draw(actor_network, with_labels=True, font_weight='bold')"
   ]
  },
  {
   "cell_type": "markdown",
   "metadata": {},
   "source": [
    "Ok - so we have our graph now. Let us create a topic model with all the texts spoken by the characters, see what's being spoken about, and construct topic distributions for each character. What does our all_texts corpus look like?"
   ]
  },
  {
   "cell_type": "code",
   "execution_count": null,
   "metadata": {},
   "outputs": [],
   "source": [
    "all_texts[0:10]"
   ]
  },
  {
   "cell_type": "code",
   "execution_count": null,
   "metadata": {
    "collapsed": true
   },
   "outputs": [],
   "source": [
    "dictionary = gensim.corpora.Dictionary(all_texts)"
   ]
  },
  {
   "cell_type": "code",
   "execution_count": null,
   "metadata": {
    "collapsed": true
   },
   "outputs": [],
   "source": [
    "corpus = [dictionary.doc2bow(text) for text in all_texts]"
   ]
  },
  {
   "cell_type": "code",
   "execution_count": null,
   "metadata": {
    "collapsed": true
   },
   "outputs": [],
   "source": [
    "gensim.corpora.MmCorpus.serialize('dool.mm', corpus)\n",
    "doolcorpus = gensim.corpora.MmCorpus('dool.mm')"
   ]
  },
  {
   "cell_type": "code",
   "execution_count": null,
   "metadata": {
    "collapsed": true
   },
   "outputs": [],
   "source": [
    "doollda = gensim.models.ldamodel.LdaModel(corpus=doolcorpus, id2word=dictionary, num_topics=10, alpha='auto', eta='auto')"
   ]
  },
  {
   "cell_type": "code",
   "execution_count": null,
   "metadata": {},
   "outputs": [],
   "source": [
    "doollda.show_topics()"
   ]
  },
  {
   "cell_type": "markdown",
   "metadata": {},
   "source": [
    "Are your topics interpretable/interesting? Sometimes they require a good deal of fine tuning and parameter choosing to get it to work in a nice way. Check out the gensim ldamodel documentation page and see what parameters you can play around with and try the model again!"
   ]
  },
  {
   "cell_type": "code",
   "execution_count": null,
   "metadata": {
    "collapsed": true
   },
   "outputs": [],
   "source": [
    "for actor in actor_network.nodes():\n",
    "    actor_all_words = []\n",
    "    for sent in actor_network.nodes[actor]['words']:\n",
    "        for word in sent:\n",
    "            actor_all_words += word\n",
    "    actor_network.nodes[actor]['topic_distribution'] = doollda[dictionary.doc2bow(lucem_illud_2020.normalizeTokens(actor_all_words))]"
   ]
  },
  {
   "cell_type": "markdown",
   "metadata": {},
   "source": [
    "We now have topic distributions for each character. Let us have a brief look at what the characters are talking about. "
   ]
  },
  {
   "cell_type": "code",
   "execution_count": null,
   "metadata": {},
   "outputs": [],
   "source": [
    "for actor in actor_network.nodes():\n",
    "    print(actor, actor_network.nodes[actor]['topic_distribution'])"
   ]
  },
  {
   "cell_type": "markdown",
   "metadata": {},
   "source": [
    "Quickly eye-balling these distributions suggest that the model itself could be tuned better - all the topics are loaded more or less equally. \n",
    "\n",
    "In the paper I linked to earlier, they found similarities or differences using the KL divergence - this is a topic we've dealt with before. Let us plot a heatmap with these values."
   ]
  },
  {
   "cell_type": "code",
   "execution_count": null,
   "metadata": {
    "collapsed": true
   },
   "outputs": [],
   "source": [
    "from gensim.matutils import kullback_leibler"
   ]
  },
  {
   "cell_type": "code",
   "execution_count": null,
   "metadata": {
    "collapsed": true
   },
   "outputs": [],
   "source": [
    "def convert_to_prob(bow):\n",
    "    ps = []\n",
    "    for topic_no, topic_prob in bow:\n",
    "        ps.append(topic_prob)\n",
    "    return ps"
   ]
  },
  {
   "cell_type": "code",
   "execution_count": null,
   "metadata": {
    "collapsed": true
   },
   "outputs": [],
   "source": [
    "L = []\n",
    "for actor_1 in actor_network.nodes():\n",
    "    p = actor_network.nodes[actor_1]['topic_distribution'] \n",
    "    p = convert_to_prob(p)\n",
    "    l = []\n",
    "    for actor_2 in actor_network.nodes():\n",
    "        q = actor_network.nodes[actor_2]['topic_distribution'] \n",
    "        q = convert_to_prob(q)\n",
    "        l.append(kullback_leibler(p, q))\n",
    "    L.append(l)\n",
    "M = np.array(L)"
   ]
  },
  {
   "cell_type": "code",
   "execution_count": null,
   "metadata": {},
   "outputs": [],
   "source": [
    "fig = plt.figure()\n",
    "div = pandas.DataFrame(M, columns = list(actor_network.nodes()), index = list(actor_network.nodes()))\n",
    "ax = sns.heatmap(div)\n",
    "plt.show()"
   ]
  },
  {
   "cell_type": "markdown",
   "metadata": {},
   "source": [
    "This is one example of how we can use topic models to analyse a network - what other data exploration can you come up with?  Maybe see what are the themes surrounding the top topics for each of the actors? You now have the infrastructure to explore the network and the topics. Gensim has a great set of Jupyter Notebooks which illustrate their methods and functions - https://github.com/RaRe-Technologies/gensim/tree/develop/docs/notebooks. The Auto Examples page also has a good variety of examples - https://radimrehurek.com/gensim/auto_examples/. \n",
    "\n",
    "\n",
    "### Dynamic Topic Modelling\n",
    "\n",
    "Dynamic Topic Modelling is a time based topic model method introduced by David Blei and John Lafferty. It allows one to see topics evolve over a time annotated corpus. I would recommend first viewing the Dynamic Topic Model tutorial on Gensim (https://github.com/RaRe-Technologies/gensim/blob/develop/docs/notebooks/ldaseqmodel.ipynb) to understand what exactly it's about. \n",
    "\n",
    "(An acknowledgement - Bhargav wrote the code for Gensim's Dynamic Topic Models back in 2016 as a Google Summer of Code student, and they're still using it as are thousands of others!)\n",
    "\n",
    "To demonstrate it on a time based corpus, we will create a corpus from COHA."
   ]
  },
  {
   "cell_type": "code",
   "execution_count": null,
   "metadata": {
    "collapsed": true
   },
   "outputs": [],
   "source": [
    "corpora_address = \"/Users/bhargavvader/Downloads/Academics_Tech/corpora/COHA\""
   ]
  },
  {
   "cell_type": "code",
   "execution_count": null,
   "metadata": {},
   "outputs": [],
   "source": [
    "coha_texts = lucem_illud_2020.loadDavies(corpora_address, return_raw=True)"
   ]
  },
  {
   "cell_type": "code",
   "execution_count": null,
   "metadata": {},
   "outputs": [],
   "source": [
    "list(coha_texts.keys())[0:5]"
   ]
  },
  {
   "cell_type": "markdown",
   "metadata": {},
   "source": [
    "We'd have to approach this differently: note that while extracting the corpus we returned the raw texts (a new functionality in lucem_illud_2020), and the dictionary keys already contain some useful information: the year published, and the genre. neat! We can now create some corpora, organised by year and by genre."
   ]
  },
  {
   "cell_type": "code",
   "execution_count": null,
   "metadata": {
    "collapsed": true
   },
   "outputs": [],
   "source": [
    "coha_genres = {}\n",
    "coha_years = {}"
   ]
  },
  {
   "cell_type": "code",
   "execution_count": null,
   "metadata": {
    "collapsed": true
   },
   "outputs": [],
   "source": [
    "for article in coha_texts:\n",
    "    genre, year, id_ = article.split(\"_\")\n",
    "    if genre not in coha_genres:\n",
    "        coha_genres[genre] = []\n",
    "    if genre in coha_genres:\n",
    "        coha_genres[genre].append(coha_texts[article])\n",
    "    \n",
    "    if year not in coha_years:\n",
    "        coha_years[year] = []\n",
    "    if year in coha_years:\n",
    "        coha_years[year].append(coha_texts[article])\n",
    "    "
   ]
  },
  {
   "cell_type": "code",
   "execution_count": null,
   "metadata": {},
   "outputs": [],
   "source": [
    "coha_genres.keys()"
   ]
  },
  {
   "cell_type": "code",
   "execution_count": null,
   "metadata": {},
   "outputs": [],
   "source": [
    "coha_years.keys()"
   ]
  },
  {
   "cell_type": "markdown",
   "metadata": {},
   "source": [
    "That's neat: we have 4 genres and 200 years. We have to now decide how many time slices we want. Let us see how the corpus is distributed.\n",
    "\n",
    "If you went through the tutorial, you would notice how we would need to arrange the corpora year wise.\n",
    "We also have to arrange the number of topics per year."
   ]
  },
  {
   "cell_type": "code",
   "execution_count": null,
   "metadata": {
    "collapsed": true
   },
   "outputs": [],
   "source": [
    "import collections"
   ]
  },
  {
   "cell_type": "code",
   "execution_count": null,
   "metadata": {
    "collapsed": true
   },
   "outputs": [],
   "source": [
    "years = []\n",
    "year_lens = []"
   ]
  },
  {
   "cell_type": "code",
   "execution_count": null,
   "metadata": {
    "collapsed": true
   },
   "outputs": [],
   "source": [
    "for year_info in collections.OrderedDict(sorted(coha_years.items())):\n",
    "    years.append(year_info)\n",
    "    year_lens.append(len((coha_years[year_info])))"
   ]
  },
  {
   "cell_type": "code",
   "execution_count": null,
   "metadata": {},
   "outputs": [],
   "source": [
    "years[0], years[-1]"
   ]
  },
  {
   "cell_type": "code",
   "execution_count": null,
   "metadata": {},
   "outputs": [],
   "source": [
    "import matplotlib.pyplot as plt\n",
    "plt.plot(years, year_lens)"
   ]
  },
  {
   "cell_type": "markdown",
   "metadata": {},
   "source": [
    "The X axis isn't legible, but you can get the point: there are far less articles in the beginning, and then it grows. Maybe in our 5 time slices, we do: 1810-1880, 1881-1913, 1914-1950, 1950-1990, 1990-2009?\n",
    "I use some historical intuition to use these time periods, you are encouraged to try your different time slices (for e.g, 20 10 year periods, 10 20 year periods, by total number of papers, etc)"
   ]
  },
  {
   "cell_type": "code",
   "execution_count": null,
   "metadata": {
    "collapsed": true
   },
   "outputs": [],
   "source": [
    "all_texts_coha = []\n",
    "docs_per_timeslice = [0, 0, 0, 0, 0]\n",
    "i = 0"
   ]
  },
  {
   "cell_type": "code",
   "execution_count": null,
   "metadata": {
    "collapsed": true
   },
   "outputs": [],
   "source": [
    "for year_info in collections.OrderedDict(sorted(coha_years.items())):\n",
    "    large_files = 0\n",
    "    for article in coha_years[year_info]:\n",
    "        try:\n",
    "            if len(article[2]) < 1500000:\n",
    "                all_texts_coha.append(lucem_illud_2020.normalizeTokens(article[2].decode(\"utf-8\")))\n",
    "            if len(article[2]) >= 1500000:\n",
    "                large_files += 1\n",
    "        except IndexError:\n",
    "            continue\n",
    "    # these numbers are the number of years in the \n",
    "    if i < 70:\n",
    "        docs_per_year[0] += len(coha_years[year_info]) - large_files\n",
    "    if i >= 70 and i < 103:\n",
    "        docs_per_year[1] += len(coha_years[year_info]) - large_files\n",
    "    if i >= 103 and i < 140:\n",
    "        docs_per_year[2] += len(coha_years[year_info]) - large_files\n",
    "    if i >= 140 and i < 180:\n",
    "        docs_per_year[3] += len(coha_years[year_info]) - large_files\n",
    "    if i >= 180:\n",
    "        docs_per_year[4] += len(coha_years[year_info]) - large_files\n",
    "    i += 1"
   ]
  },
  {
   "cell_type": "markdown",
   "metadata": {},
   "source": [
    "#### Smaller Corpora\n",
    "\n",
    "The original size of the corpus is wayyy too big for our laptops. Let us demo this with a smaller size. You are welcome to try different sizes until you get the size you would like.\n",
    "I am using a 100 documents per time slice for this example."
   ]
  },
  {
   "cell_type": "code",
   "execution_count": null,
   "metadata": {
    "collapsed": true
   },
   "outputs": [],
   "source": [
    "def choose_n(corpus, time_slices, nums=100):\n",
    "    new_corpus = corpus[0:nums]\n",
    "    for time_slice in time_slices[:-1]:\n",
    "        new_corpus = new_corpus + corpus[time_slice:time_slice+nums]\n",
    "    return new_corpus"
   ]
  },
  {
   "cell_type": "markdown",
   "metadata": {},
   "source": [
    "Now, COHA also has some really large files, full books and the like: we're going to now split up really large files such that each of the documents are only 1000 tokens long. This function will return a split up document and the number of files it has been split into, so we can accordingly adjust the documents per time slice, which is important for Dynamic Topic Modelling to work."
   ]
  },
  {
   "cell_type": "code",
   "execution_count": null,
   "metadata": {
    "collapsed": true
   },
   "outputs": [],
   "source": [
    "def split_up(document, doc_size=1000):\n",
    "    new_docs = [document[i:i + doc_size] for i in range(0, len(document), doc_size)]\n",
    "    return(new_docs, len(new_docs))"
   ]
  },
  {
   "cell_type": "code",
   "execution_count": null,
   "metadata": {
    "collapsed": true
   },
   "outputs": [],
   "source": [
    "small_corpus = choose_n(all_texts_coha, docs_per_year, nums=100)"
   ]
  },
  {
   "cell_type": "code",
   "execution_count": null,
   "metadata": {
    "collapsed": true
   },
   "outputs": [],
   "source": [
    "final_corpus= []"
   ]
  },
  {
   "cell_type": "code",
   "execution_count": null,
   "metadata": {
    "collapsed": true
   },
   "outputs": [],
   "source": [
    "docs_per_time_slice = [0, 0, 0, 0, 0]"
   ]
  },
  {
   "cell_type": "markdown",
   "metadata": {},
   "source": [
    "I now use the split method to create my final corpus. Note that I hardcode values for the time slice to figure out the number of documets per time slice. Now I have a representative number of documents in each time slice. "
   ]
  },
  {
   "cell_type": "code",
   "execution_count": null,
   "metadata": {
    "collapsed": true
   },
   "outputs": [],
   "source": [
    "for i, article in enumerate(small_corpus):\n",
    "    # identify time slice based on article number \n",
    "    if i < 100:\n",
    "        time = 0\n",
    "    if i > 100 and i <= 200:\n",
    "        time = 1\n",
    "    if i > 200 and i <= 300:\n",
    "        time = 2\n",
    "    if i > 300 and i <= 400:\n",
    "        time = 3\n",
    "    if i > 400 and i <= 500:\n",
    "        time = 4\n",
    "        \n",
    "    if len(article) > 1000:\n",
    "        split_docs, no_docs = split_up(article)\n",
    "        for doc in split_docs:\n",
    "            final_corpus.append(doc)\n",
    "        docs_per_time_slice[time] += no_docs\n",
    "    else:\n",
    "        final_corpus.append(article)\n",
    "        docs_per_time_slice[time] += 1\n",
    "    # just a check if the counts are correctly added\n",
    "    if np.sum(docs_per_time_slice) != len(final_corpus):\n",
    "        print(np.sum(docs_per_time_slice), len(final_corpus))"
   ]
  },
  {
   "cell_type": "code",
   "execution_count": null,
   "metadata": {
    "collapsed": true
   },
   "outputs": [],
   "source": [
    "dictionary = gensim.corpora.Dictionary(final_corpus)"
   ]
  },
  {
   "cell_type": "code",
   "execution_count": null,
   "metadata": {
    "collapsed": true
   },
   "outputs": [],
   "source": [
    "corpus = [dictionary.doc2bow(text) for text in final_corpus]"
   ]
  },
  {
   "cell_type": "code",
   "execution_count": null,
   "metadata": {
    "collapsed": true
   },
   "outputs": [],
   "source": [
    "gensim.corpora.MmCorpus.serialize('coha.mm', corpus)\n",
    "cohacorpus = gensim.corpora.MmCorpus('coha.mm')"
   ]
  },
  {
   "cell_type": "code",
   "execution_count": null,
   "metadata": {
    "collapsed": true
   },
   "outputs": [],
   "source": [
    "from gensim.models import ldaseqmodel"
   ]
  },
  {
   "cell_type": "code",
   "execution_count": null,
   "metadata": {},
   "outputs": [],
   "source": [
    "ldaseq = ldaseqmodel.LdaSeqModel(corpus=corpus, id2word=dictionary, time_slice=docs_per_time_slice, num_topics=4)"
   ]
  },
  {
   "cell_type": "code",
   "execution_count": null,
   "metadata": {},
   "outputs": [],
   "source": [
    "ldaseq.print_topics(time=0)[1]"
   ]
  },
  {
   "cell_type": "code",
   "execution_count": null,
   "metadata": {},
   "outputs": [],
   "source": [
    " ldaseq.print_topics(time=4)[1]"
   ]
  },
  {
   "cell_type": "markdown",
   "metadata": {},
   "source": [
    "What can you see from the analysis? I encourage you to explore the tutorial and see what else you can do with this dataset. In the above model I can see how the topic related to state evolves slowly, with the word president not previously there coming into the topic. I will now save this model and also upload it on GitHub so that you can see how it works. Note that the Dynamic Topic Model is a very time consuming algorithm: you might want to start a run overnight if you intend on using it in your analysis."
   ]
  },
  {
   "cell_type": "code",
   "execution_count": null,
   "metadata": {
    "collapsed": true
   },
   "outputs": [],
   "source": [
    "ldaseq.save(\"ldaseqmodel\")"
   ]
  },
  {
   "cell_type": "code",
   "execution_count": null,
   "metadata": {
    "collapsed": true
   },
   "outputs": [],
   "source": [
    "loaded_model = ldaseqmodel.LdaSeqModel.load(\"ldaseqmodel\")"
   ]
  },
  {
   "cell_type": "markdown",
   "metadata": {},
   "source": [
    "\n",
    "\n",
    "## <span style=\"color:red\">*Exercise 4*</span>\n",
    "\n",
    "<span style=\"color:red\">Construct cells immediately below this that use topic models and networks, or dynamic topic models on datasets relevant to your final project. You can also extend the analysis of the COHA or Soap datasets, if relevant to the comparison of data for your projects. (You could possibly use coha_genres dictionary to conduct analysis on topic evolution for a particular genre? What themes do you see evolving throughout these corpora?)"
   ]
  }
 ],
 "metadata": {
  "anaconda-cloud": {},
  "kernelspec": {
   "display_name": "Python 3 (ipykernel)",
   "language": "python",
   "name": "python3"
  },
  "language_info": {
   "codemirror_mode": {
    "name": "ipython",
    "version": 3
   },
   "file_extension": ".py",
   "mimetype": "text/x-python",
   "name": "python",
   "nbconvert_exporter": "python",
   "pygments_lexer": "ipython3",
   "version": "3.8.12"
  }
 },
 "nbformat": 4,
 "nbformat_minor": 1
}
